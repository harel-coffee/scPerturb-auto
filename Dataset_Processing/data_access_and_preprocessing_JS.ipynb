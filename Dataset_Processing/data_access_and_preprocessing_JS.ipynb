{
 "cells": [
  {
   "cell_type": "code",
   "execution_count": 1,
   "metadata": {},
   "outputs": [],
   "source": [
    "import glob\n",
    "import os\n",
    "import sys\n",
    "import numpy as np\n",
    "import pandas as pd\n",
    "import time\n",
    "\n",
    "import scanpy as sc\n",
    "import scipy\n",
    "\n",
    "from scipy.io import mmread\n",
    "from scipy.sparse import csr_matrix\n",
    "import gzip\n",
    "import matplotlib.pyplot as plt\n",
    "import re\n",
    "\n",
    "import tqdm.notebook as tq"
   ]
  },
  {
   "cell_type": "code",
   "execution_count": 2,
   "metadata": {},
   "outputs": [],
   "source": [
    "path = \"/n/data1/hms/cellbio/sander/judy/resource_paper/\""
   ]
  },
  {
   "cell_type": "markdown",
   "metadata": {},
   "source": [
    "# FrangiehIzar2021"
   ]
  },
  {
   "cell_type": "code",
   "execution_count": 3,
   "metadata": {},
   "outputs": [],
   "source": [
    "index = \"FrangiehIzar2021\""
   ]
  },
  {
   "cell_type": "code",
   "execution_count": 4,
   "metadata": {},
   "outputs": [
    {
     "data": {
      "text/html": [
       "<div>\n",
       "<style scoped>\n",
       "    .dataframe tbody tr th:only-of-type {\n",
       "        vertical-align: middle;\n",
       "    }\n",
       "\n",
       "    .dataframe tbody tr th {\n",
       "        vertical-align: top;\n",
       "    }\n",
       "\n",
       "    .dataframe thead th {\n",
       "        text-align: right;\n",
       "    }\n",
       "</style>\n",
       "<table border=\"1\" class=\"dataframe\">\n",
       "  <thead>\n",
       "    <tr style=\"text-align: right;\">\n",
       "      <th></th>\n",
       "      <th>Cell</th>\n",
       "      <th>sgRNAs</th>\n",
       "    </tr>\n",
       "  </thead>\n",
       "  <tbody>\n",
       "    <tr>\n",
       "      <td>0</td>\n",
       "      <td>CELL_1</td>\n",
       "      <td>HLA-B_2</td>\n",
       "    </tr>\n",
       "    <tr>\n",
       "      <td>1</td>\n",
       "      <td>CELL_2</td>\n",
       "      <td>NGFR_3,SERPINF1_3</td>\n",
       "    </tr>\n",
       "    <tr>\n",
       "      <td>2</td>\n",
       "      <td>CELL_3</td>\n",
       "      <td>HLA-B_2</td>\n",
       "    </tr>\n",
       "    <tr>\n",
       "      <td>3</td>\n",
       "      <td>CELL_4</td>\n",
       "      <td>NMRK1_3,S100A6_3</td>\n",
       "    </tr>\n",
       "    <tr>\n",
       "      <td>4</td>\n",
       "      <td>CELL_5</td>\n",
       "      <td>NaN</td>\n",
       "    </tr>\n",
       "  </tbody>\n",
       "</table>\n",
       "</div>"
      ],
      "text/plain": [
       "     Cell             sgRNAs\n",
       "0  CELL_1            HLA-B_2\n",
       "1  CELL_2  NGFR_3,SERPINF1_3\n",
       "2  CELL_3            HLA-B_2\n",
       "3  CELL_4   NMRK1_3,S100A6_3\n",
       "4  CELL_5                NaN"
      ]
     },
     "execution_count": 4,
     "metadata": {},
     "output_type": "execute_result"
    }
   ],
   "source": [
    "grna = pd.read_csv(index+\"/\"+index+\"/all_sgRNA_assignments.txt\")\n",
    "grna.head()"
   ]
  },
  {
   "cell_type": "code",
   "execution_count": 5,
   "metadata": {},
   "outputs": [
    {
     "data": {
      "text/html": [
       "<div>\n",
       "<style scoped>\n",
       "    .dataframe tbody tr th:only-of-type {\n",
       "        vertical-align: middle;\n",
       "    }\n",
       "\n",
       "    .dataframe tbody tr th {\n",
       "        vertical-align: top;\n",
       "    }\n",
       "\n",
       "    .dataframe thead th {\n",
       "        text-align: right;\n",
       "    }\n",
       "</style>\n",
       "<table border=\"1\" class=\"dataframe\">\n",
       "  <thead>\n",
       "    <tr style=\"text-align: right;\">\n",
       "      <th></th>\n",
       "      <th>NAME</th>\n",
       "      <th>library_preparation_protocol</th>\n",
       "      <th>condition</th>\n",
       "      <th>MOI</th>\n",
       "      <th>sgRNA</th>\n",
       "      <th>UMI_count</th>\n",
       "    </tr>\n",
       "  </thead>\n",
       "  <tbody>\n",
       "    <tr>\n",
       "      <td>0</td>\n",
       "      <td>CELL_1</td>\n",
       "      <td>10X 3' v3 sequencing</td>\n",
       "      <td>Control</td>\n",
       "      <td>1</td>\n",
       "      <td>HLA-B_2</td>\n",
       "      <td>10832.0</td>\n",
       "    </tr>\n",
       "    <tr>\n",
       "      <td>1</td>\n",
       "      <td>CELL_2</td>\n",
       "      <td>10X 3' v3 sequencing</td>\n",
       "      <td>Control</td>\n",
       "      <td>2</td>\n",
       "      <td>NaN</td>\n",
       "      <td>10731.0</td>\n",
       "    </tr>\n",
       "    <tr>\n",
       "      <td>2</td>\n",
       "      <td>CELL_3</td>\n",
       "      <td>10X 3' v3 sequencing</td>\n",
       "      <td>Control</td>\n",
       "      <td>1</td>\n",
       "      <td>HLA-B_2</td>\n",
       "      <td>28821.0</td>\n",
       "    </tr>\n",
       "    <tr>\n",
       "      <td>3</td>\n",
       "      <td>CELL_4</td>\n",
       "      <td>10X 3' v3 sequencing</td>\n",
       "      <td>Control</td>\n",
       "      <td>2</td>\n",
       "      <td>NaN</td>\n",
       "      <td>15322.0</td>\n",
       "    </tr>\n",
       "    <tr>\n",
       "      <td>4</td>\n",
       "      <td>CELL_5</td>\n",
       "      <td>10X 3' v3 sequencing</td>\n",
       "      <td>Control</td>\n",
       "      <td>0</td>\n",
       "      <td>NaN</td>\n",
       "      <td>10314.0</td>\n",
       "    </tr>\n",
       "  </tbody>\n",
       "</table>\n",
       "</div>"
      ],
      "text/plain": [
       "     NAME library_preparation_protocol condition  MOI    sgRNA  UMI_count\n",
       "0  CELL_1         10X 3' v3 sequencing   Control    1  HLA-B_2    10832.0\n",
       "1  CELL_2         10X 3' v3 sequencing   Control    2      NaN    10731.0\n",
       "2  CELL_3         10X 3' v3 sequencing   Control    1  HLA-B_2    28821.0\n",
       "3  CELL_4         10X 3' v3 sequencing   Control    2      NaN    15322.0\n",
       "4  CELL_5         10X 3' v3 sequencing   Control    0      NaN    10314.0"
      ]
     },
     "execution_count": 5,
     "metadata": {},
     "output_type": "execute_result"
    }
   ],
   "source": [
    "obs = pd.read_csv(index+\"/\"+index+\"/RNA_metadata.csv\", skiprows=[1])\n",
    "obs.head()"
   ]
  },
  {
   "cell_type": "code",
   "execution_count": 6,
   "metadata": {},
   "outputs": [],
   "source": [
    "umap = pd.read_csv(index+\"/\"+index+\"/RNA_UMAP_cluster.csv\", skiprows=[1])"
   ]
  },
  {
   "cell_type": "code",
   "execution_count": 7,
   "metadata": {},
   "outputs": [
    {
     "data": {
      "text/html": [
       "<div>\n",
       "<style scoped>\n",
       "    .dataframe tbody tr th:only-of-type {\n",
       "        vertical-align: middle;\n",
       "    }\n",
       "\n",
       "    .dataframe tbody tr th {\n",
       "        vertical-align: top;\n",
       "    }\n",
       "\n",
       "    .dataframe thead th {\n",
       "        text-align: right;\n",
       "    }\n",
       "</style>\n",
       "<table border=\"1\" class=\"dataframe\">\n",
       "  <thead>\n",
       "    <tr style=\"text-align: right;\">\n",
       "      <th></th>\n",
       "      <th>NAME</th>\n",
       "      <th>library_preparation_protocol</th>\n",
       "      <th>condition</th>\n",
       "      <th>MOI</th>\n",
       "      <th>sgRNA</th>\n",
       "      <th>UMI_count</th>\n",
       "      <th>sgRNAs</th>\n",
       "      <th>umap_x</th>\n",
       "      <th>umap_y</th>\n",
       "    </tr>\n",
       "  </thead>\n",
       "  <tbody>\n",
       "    <tr>\n",
       "      <td>0</td>\n",
       "      <td>CELL_1</td>\n",
       "      <td>10X 3' v3 sequencing</td>\n",
       "      <td>Control</td>\n",
       "      <td>1</td>\n",
       "      <td>HLA-B_2</td>\n",
       "      <td>10832.0</td>\n",
       "      <td>HLA-B_2</td>\n",
       "      <td>-3.937523</td>\n",
       "      <td>5.441272</td>\n",
       "    </tr>\n",
       "    <tr>\n",
       "      <td>1</td>\n",
       "      <td>CELL_2</td>\n",
       "      <td>10X 3' v3 sequencing</td>\n",
       "      <td>Control</td>\n",
       "      <td>2</td>\n",
       "      <td>NaN</td>\n",
       "      <td>10731.0</td>\n",
       "      <td>NGFR_3,SERPINF1_3</td>\n",
       "      <td>-5.480882</td>\n",
       "      <td>6.598254</td>\n",
       "    </tr>\n",
       "    <tr>\n",
       "      <td>2</td>\n",
       "      <td>CELL_3</td>\n",
       "      <td>10X 3' v3 sequencing</td>\n",
       "      <td>Control</td>\n",
       "      <td>1</td>\n",
       "      <td>HLA-B_2</td>\n",
       "      <td>28821.0</td>\n",
       "      <td>HLA-B_2</td>\n",
       "      <td>-1.044962</td>\n",
       "      <td>9.840532</td>\n",
       "    </tr>\n",
       "    <tr>\n",
       "      <td>3</td>\n",
       "      <td>CELL_4</td>\n",
       "      <td>10X 3' v3 sequencing</td>\n",
       "      <td>Control</td>\n",
       "      <td>2</td>\n",
       "      <td>NaN</td>\n",
       "      <td>15322.0</td>\n",
       "      <td>NMRK1_3,S100A6_3</td>\n",
       "      <td>-2.588797</td>\n",
       "      <td>6.588357</td>\n",
       "    </tr>\n",
       "    <tr>\n",
       "      <td>4</td>\n",
       "      <td>CELL_5</td>\n",
       "      <td>10X 3' v3 sequencing</td>\n",
       "      <td>Control</td>\n",
       "      <td>0</td>\n",
       "      <td>NaN</td>\n",
       "      <td>10314.0</td>\n",
       "      <td>NaN</td>\n",
       "      <td>-0.795585</td>\n",
       "      <td>2.256979</td>\n",
       "    </tr>\n",
       "  </tbody>\n",
       "</table>\n",
       "</div>"
      ],
      "text/plain": [
       "     NAME library_preparation_protocol condition  MOI    sgRNA  UMI_count  \\\n",
       "0  CELL_1         10X 3' v3 sequencing   Control    1  HLA-B_2    10832.0   \n",
       "1  CELL_2         10X 3' v3 sequencing   Control    2      NaN    10731.0   \n",
       "2  CELL_3         10X 3' v3 sequencing   Control    1  HLA-B_2    28821.0   \n",
       "3  CELL_4         10X 3' v3 sequencing   Control    2      NaN    15322.0   \n",
       "4  CELL_5         10X 3' v3 sequencing   Control    0      NaN    10314.0   \n",
       "\n",
       "              sgRNAs    umap_x    umap_y  \n",
       "0            HLA-B_2 -3.937523  5.441272  \n",
       "1  NGFR_3,SERPINF1_3 -5.480882  6.598254  \n",
       "2            HLA-B_2 -1.044962  9.840532  \n",
       "3   NMRK1_3,S100A6_3 -2.588797  6.588357  \n",
       "4                NaN -0.795585  2.256979  "
      ]
     },
     "execution_count": 7,
     "metadata": {},
     "output_type": "execute_result"
    }
   ],
   "source": [
    "obs[\"sgRNAs\"] = grna[\"sgRNAs\"]\n",
    "obs[\"umap_x\"],obs[\"umap_y\"] = umap[\"X\"], umap[\"Y\"]\n",
    "obs.head()"
   ]
  },
  {
   "cell_type": "code",
   "execution_count": 8,
   "metadata": {},
   "outputs": [],
   "source": [
    "obs.to_csv(index+\"/\"+index+\"/obs_preprocessed.csv\")"
   ]
  },
  {
   "cell_type": "code",
   "execution_count": 28,
   "metadata": {},
   "outputs": [],
   "source": [
    "protein = pd.read_csv(index+\"/\"+index+\"/raw_CITE_expression.csv.gz\")"
   ]
  },
  {
   "cell_type": "code",
   "execution_count": 20,
   "metadata": {},
   "outputs": [],
   "source": [
    "protein_normalized = pd.read_csv(index+\"/\"+index+\"/Protein_expression.csv.gz\")"
   ]
  },
  {
   "cell_type": "code",
   "execution_count": 38,
   "metadata": {},
   "outputs": [
    {
     "data": {
      "text/plain": [
       "{'CELL_27337', 'CELL_34511', 'CELL_56031'}"
      ]
     },
     "execution_count": 38,
     "metadata": {},
     "output_type": "execute_result"
    }
   ],
   "source": [
    "cellnames = np.array(protein_normalized.columns[1:])\n",
    "set(cellnames) - set(protein.columns[1:])"
   ]
  },
  {
   "cell_type": "code",
   "execution_count": 39,
   "metadata": {},
   "outputs": [],
   "source": [
    "protein['CELL_27337'] = 0\n",
    "protein['CELL_34511'] = 0\n",
    "protein['CELL_56031'] = 0"
   ]
  },
  {
   "cell_type": "code",
   "execution_count": 46,
   "metadata": {},
   "outputs": [],
   "source": [
    "reordered = protein.iloc[:,[np.where(protein.columns == x)[0][0] for x in cellnames]]"
   ]
  },
  {
   "cell_type": "code",
   "execution_count": 47,
   "metadata": {},
   "outputs": [
    {
     "name": "stderr",
     "output_type": "stream",
     "text": [
      "Transforming to str index.\n",
      "Transforming to str index.\n",
      "... storing 'library_preparation_protocol' as categorical\n",
      "... storing 'condition' as categorical\n",
      "... storing 'sgRNA' as categorical\n",
      "... storing 'sgRNAs' as categorical\n"
     ]
    }
   ],
   "source": [
    "X = csr_matrix(reordered.values)\n",
    "obs = pd.read_csv(path+index+\"/\"+index+\"/obs_preprocessed.csv\",index_col=0)\n",
    "var = protein[[\"Unnamed: 0\"]]\n",
    "adata = sc.AnnData(X.T, var=var, obs=obs)\n",
    "adata.var.columns = [\"Protein\"]\n",
    "adata.write(index+\"/\"+index+\"/\"+index+\"_protein_preprocessed.h5\")"
   ]
  },
  {
   "cell_type": "code",
   "execution_count": null,
   "metadata": {},
   "outputs": [],
   "source": [
    "X = csr_matrix(protein.iloc[:,1:].values)\n",
    "obs = pd.read_csv(path+index+\"/\"+index+\"/obs_preprocessed.csv\",index_col=0)\n",
    "var = protein[[\"Protein\"]]\n",
    "adata = sc.AnnData(X.T, var=var, obs=obs)\n",
    "adata.write(index+\"/\"+index+\"/\"+index+\"_protein_preprocessed.h5\")"
   ]
  },
  {
   "cell_type": "code",
   "execution_count": 4,
   "metadata": {},
   "outputs": [],
   "source": [
    "adata = sc.read(index+\"/\"+index+\"/\"+index+\"_RNA_preprocessed_ckpt.h5\")"
   ]
  },
  {
   "cell_type": "code",
   "execution_count": 5,
   "metadata": {},
   "outputs": [
    {
     "data": {
      "text/plain": [
       "AnnData object with n_obs × n_vars = 218331 × 22750 \n",
       "    obs: 'NAME', 'library_preparation_protocol', 'condition', 'MOI', 'sgRNA', 'UMI_count', 'sgRNAs', 'umap_x', 'umap_y'\n",
       "    var: 'gene'"
      ]
     },
     "execution_count": 5,
     "metadata": {},
     "output_type": "execute_result"
    }
   ],
   "source": [
    "adata"
   ]
  },
  {
   "cell_type": "code",
   "execution_count": 44,
   "metadata": {},
   "outputs": [
    {
     "name": "stdout",
     "output_type": "stream",
     "text": [
      "23713\r\n"
     ]
    }
   ],
   "source": [
    "!zcat {index+\"/\"+index+\"/RNA_expression.csv.gz\"} | wc -l"
   ]
  },
  {
   "cell_type": "code",
   "execution_count": 54,
   "metadata": {},
   "outputs": [],
   "source": [
    "!zcat {index+\"/\"+index+\"/RNA_expression.csv.gz\"} | tail -962 > {index+\"/\"+index+\"/RNA_expression_tail962.csv.gz\"}"
   ]
  },
  {
   "cell_type": "code",
   "execution_count": 6,
   "metadata": {},
   "outputs": [],
   "source": [
    "chk=100\n",
    "dtypesdict = dict(zip(range(218331),[\"str\"]+[\"float\"]*218331))"
   ]
  },
  {
   "cell_type": "code",
   "execution_count": 10,
   "metadata": {
    "collapsed": true
   },
   "outputs": [
    {
     "name": "stdout",
     "output_type": "stream",
     "text": [
      "206.17409133911133\n",
      "1\n",
      "202.77002668380737\n",
      "2\n",
      "202.75649619102478\n",
      "3\n",
      "203.12515115737915\n",
      "4\n",
      "204.24066472053528\n",
      "5\n",
      "203.87316036224365\n",
      "6\n",
      "203.62435960769653\n",
      "7\n",
      "204.81838989257812\n",
      "8\n",
      "206.8807282447815\n",
      "9\n",
      "134.4551613330841\n",
      "10\n"
     ]
    }
   ],
   "source": [
    "count = 0\n",
    "df = pd.DataFrame()\n",
    "ctime = time.time()\n",
    "#for chunk in pd.read_csv(index+\"/\"+index+\"/RNA_expression.csv.gz\",chunksize=chk):\n",
    "for chunk in pd.read_csv(index+\"/\"+index+\"/RNA_expression_tail962.csv\",chunksize=chk,header=None,\n",
    "                         dtype = dtypesdict):\n",
    "#for chunk in pd.read_csv(index+\"/\"+index+\"/RNA_expression.csv.gz\",chunksize=chk,engine='pyarrow'):\n",
    "    #Xnew = csr_matrix(chunk.iloc[:,1:].values)\n",
    "    #X = scipy.sparse.vstack((X,Xnew))\n",
    "    df = pd.concat([df,chunk])\n",
    "    count += 1\n",
    "    print(time.time() - ctime)\n",
    "    print(count)\n",
    "    ctime = time.time()\n",
    "#endtime = time.time()"
   ]
  },
  {
   "cell_type": "code",
   "execution_count": 11,
   "metadata": {},
   "outputs": [],
   "source": [
    "Xfull = scipy.sparse.vstack((adata.X.T,csr_matrix(df.iloc[:,1:].values)))"
   ]
  },
  {
   "cell_type": "code",
   "execution_count": 12,
   "metadata": {},
   "outputs": [],
   "source": [
    "genes = df[[0]]\n",
    "genes.columns=[\"gene\"]\n",
    "var = pd.concat([adata.var,genes])\n",
    "adatafull = sc.AnnData(Xfull.T,obs=adata.obs,var=var)\n",
    "adatafull.write(index+\"/\"+index+\"/\"+index+\"_RNA_full_preprocessed.h5\")"
   ]
  },
  {
   "cell_type": "code",
   "execution_count": null,
   "metadata": {},
   "outputs": [],
   "source": []
  },
  {
   "cell_type": "markdown",
   "metadata": {},
   "source": [
    "# GasperiniShendure2019"
   ]
  },
  {
   "cell_type": "code",
   "execution_count": null,
   "metadata": {},
   "outputs": [],
   "source": [
    "## Done!"
   ]
  },
  {
   "cell_type": "code",
   "execution_count": 3,
   "metadata": {},
   "outputs": [],
   "source": [
    "index = \"GasperiniShendure2019\""
   ]
  },
  {
   "cell_type": "code",
   "execution_count": 6,
   "metadata": {},
   "outputs": [],
   "source": [
    "genes = pd.read_csv(index+\"/lowMOI/GSE120861_pilot_lowmoi_screen.genes.txt\",header=None)\n",
    "genes.to_csv(index+\"/lowMOI/var.csv\")"
   ]
  },
  {
   "cell_type": "code",
   "execution_count": 10,
   "metadata": {},
   "outputs": [],
   "source": [
    "genes = pd.read_csv(index+\"/highMOI/GSE120861_pilot_highmoi_screen.genes.txt\",header=None)\n",
    "genes.to_csv(index+\"/highMOI/var.csv\")"
   ]
  },
  {
   "cell_type": "code",
   "execution_count": 11,
   "metadata": {},
   "outputs": [],
   "source": [
    "genes = pd.read_csv(index+\"/atscale/GSE120861_at_scale_screen.genes.txt\",header=None)\n",
    "genes.to_csv(index+\"/atscale/var.csv\")"
   ]
  },
  {
   "cell_type": "markdown",
   "metadata": {},
   "source": [
    "# NormanWeissman2019"
   ]
  },
  {
   "cell_type": "code",
   "execution_count": 41,
   "metadata": {},
   "outputs": [],
   "source": [
    "## Done!"
   ]
  },
  {
   "cell_type": "code",
   "execution_count": 13,
   "metadata": {},
   "outputs": [],
   "source": [
    "index = \"NormanWeissman2019\""
   ]
  },
  {
   "cell_type": "code",
   "execution_count": 29,
   "metadata": {},
   "outputs": [],
   "source": [
    "cells = pd.read_csv(index+\"/filtered/GSE133344_filtered_cell_identities.csv.gz\")"
   ]
  },
  {
   "cell_type": "code",
   "execution_count": 30,
   "metadata": {},
   "outputs": [
    {
     "data": {
      "text/html": [
       "<div>\n",
       "<style scoped>\n",
       "    .dataframe tbody tr th:only-of-type {\n",
       "        vertical-align: middle;\n",
       "    }\n",
       "\n",
       "    .dataframe tbody tr th {\n",
       "        vertical-align: top;\n",
       "    }\n",
       "\n",
       "    .dataframe thead th {\n",
       "        text-align: right;\n",
       "    }\n",
       "</style>\n",
       "<table border=\"1\" class=\"dataframe\">\n",
       "  <thead>\n",
       "    <tr style=\"text-align: right;\">\n",
       "      <th></th>\n",
       "      <th>cell_barcode</th>\n",
       "      <th>guide_identity</th>\n",
       "      <th>read_count</th>\n",
       "      <th>UMI_count</th>\n",
       "      <th>coverage</th>\n",
       "      <th>gemgroup</th>\n",
       "      <th>good_coverage</th>\n",
       "      <th>number_of_cells</th>\n",
       "    </tr>\n",
       "  </thead>\n",
       "  <tbody>\n",
       "    <tr>\n",
       "      <td>0</td>\n",
       "      <td>TTGAACGAGACTCGGA-2</td>\n",
       "      <td>ARID1A_NegCtrl0__ARID1A_NegCtrl0</td>\n",
       "      <td>28684</td>\n",
       "      <td>1809</td>\n",
       "      <td>15.856274</td>\n",
       "      <td>2</td>\n",
       "      <td>True</td>\n",
       "      <td>1</td>\n",
       "    </tr>\n",
       "    <tr>\n",
       "      <td>1</td>\n",
       "      <td>CGTTGGGGTGTTTGTG-7</td>\n",
       "      <td>BCORL1_NegCtrl0__BCORL1_NegCtrl0</td>\n",
       "      <td>18367</td>\n",
       "      <td>896</td>\n",
       "      <td>20.498884</td>\n",
       "      <td>7</td>\n",
       "      <td>True</td>\n",
       "      <td>1</td>\n",
       "    </tr>\n",
       "    <tr>\n",
       "      <td>2</td>\n",
       "      <td>GAACCTAAGTGTTAGA-6</td>\n",
       "      <td>FOSB_NegCtrl0__FOSB_NegCtrl0</td>\n",
       "      <td>16296</td>\n",
       "      <td>664</td>\n",
       "      <td>24.542169</td>\n",
       "      <td>6</td>\n",
       "      <td>True</td>\n",
       "      <td>1</td>\n",
       "    </tr>\n",
       "    <tr>\n",
       "      <td>3</td>\n",
       "      <td>CCTTCCCTCCGTCATC-4</td>\n",
       "      <td>SET_KLF1__SET_KLF1</td>\n",
       "      <td>16262</td>\n",
       "      <td>850</td>\n",
       "      <td>19.131765</td>\n",
       "      <td>4</td>\n",
       "      <td>True</td>\n",
       "      <td>1</td>\n",
       "    </tr>\n",
       "    <tr>\n",
       "      <td>4</td>\n",
       "      <td>TCAATCTGTCTTTCAT-2</td>\n",
       "      <td>OSR2_NegCtrl0__OSR2_NegCtrl0</td>\n",
       "      <td>16057</td>\n",
       "      <td>1067</td>\n",
       "      <td>15.048735</td>\n",
       "      <td>2</td>\n",
       "      <td>True</td>\n",
       "      <td>2</td>\n",
       "    </tr>\n",
       "    <tr>\n",
       "      <td>...</td>\n",
       "      <td>...</td>\n",
       "      <td>...</td>\n",
       "      <td>...</td>\n",
       "      <td>...</td>\n",
       "      <td>...</td>\n",
       "      <td>...</td>\n",
       "      <td>...</td>\n",
       "      <td>...</td>\n",
       "    </tr>\n",
       "    <tr>\n",
       "      <td>111440</td>\n",
       "      <td>TTTGCGCAGTCATGCT-2</td>\n",
       "      <td>RHOXF2_NegCtrl0__RHOXF2_NegCtrl0</td>\n",
       "      <td>1</td>\n",
       "      <td>1</td>\n",
       "      <td>1.000000</td>\n",
       "      <td>2</td>\n",
       "      <td>False</td>\n",
       "      <td>0</td>\n",
       "    </tr>\n",
       "    <tr>\n",
       "      <td>111441</td>\n",
       "      <td>TTTGCGCCAGGACCCT-3</td>\n",
       "      <td>BCL2L11_BAK1__BCL2L11_BAK1</td>\n",
       "      <td>1</td>\n",
       "      <td>1</td>\n",
       "      <td>1.000000</td>\n",
       "      <td>3</td>\n",
       "      <td>False</td>\n",
       "      <td>0</td>\n",
       "    </tr>\n",
       "    <tr>\n",
       "      <td>111442</td>\n",
       "      <td>TTTGCGCGTACTTGAC-3</td>\n",
       "      <td>CNN1_NegCtrl0__CNN1_NegCtrl0</td>\n",
       "      <td>1</td>\n",
       "      <td>1</td>\n",
       "      <td>1.000000</td>\n",
       "      <td>3</td>\n",
       "      <td>False</td>\n",
       "      <td>0</td>\n",
       "    </tr>\n",
       "    <tr>\n",
       "      <td>111443</td>\n",
       "      <td>TTTGCGCTCTCGCATC-6</td>\n",
       "      <td>CEBPB_OSR2__CEBPB_OSR2</td>\n",
       "      <td>1</td>\n",
       "      <td>1</td>\n",
       "      <td>1.000000</td>\n",
       "      <td>6</td>\n",
       "      <td>False</td>\n",
       "      <td>0</td>\n",
       "    </tr>\n",
       "    <tr>\n",
       "      <td>111444</td>\n",
       "      <td>TTTGGTTGTTCCGTCT-2</td>\n",
       "      <td>MAP2K3_MAP2K6__MAP2K3_MAP2K6</td>\n",
       "      <td>1</td>\n",
       "      <td>1</td>\n",
       "      <td>1.000000</td>\n",
       "      <td>2</td>\n",
       "      <td>False</td>\n",
       "      <td>0</td>\n",
       "    </tr>\n",
       "  </tbody>\n",
       "</table>\n",
       "<p>111445 rows × 8 columns</p>\n",
       "</div>"
      ],
      "text/plain": [
       "              cell_barcode                    guide_identity  read_count  \\\n",
       "0       TTGAACGAGACTCGGA-2  ARID1A_NegCtrl0__ARID1A_NegCtrl0       28684   \n",
       "1       CGTTGGGGTGTTTGTG-7  BCORL1_NegCtrl0__BCORL1_NegCtrl0       18367   \n",
       "2       GAACCTAAGTGTTAGA-6      FOSB_NegCtrl0__FOSB_NegCtrl0       16296   \n",
       "3       CCTTCCCTCCGTCATC-4                SET_KLF1__SET_KLF1       16262   \n",
       "4       TCAATCTGTCTTTCAT-2      OSR2_NegCtrl0__OSR2_NegCtrl0       16057   \n",
       "...                    ...                               ...         ...   \n",
       "111440  TTTGCGCAGTCATGCT-2  RHOXF2_NegCtrl0__RHOXF2_NegCtrl0           1   \n",
       "111441  TTTGCGCCAGGACCCT-3        BCL2L11_BAK1__BCL2L11_BAK1           1   \n",
       "111442  TTTGCGCGTACTTGAC-3      CNN1_NegCtrl0__CNN1_NegCtrl0           1   \n",
       "111443  TTTGCGCTCTCGCATC-6            CEBPB_OSR2__CEBPB_OSR2           1   \n",
       "111444  TTTGGTTGTTCCGTCT-2      MAP2K3_MAP2K6__MAP2K3_MAP2K6           1   \n",
       "\n",
       "        UMI_count   coverage  gemgroup  good_coverage  number_of_cells  \n",
       "0            1809  15.856274         2           True                1  \n",
       "1             896  20.498884         7           True                1  \n",
       "2             664  24.542169         6           True                1  \n",
       "3             850  19.131765         4           True                1  \n",
       "4            1067  15.048735         2           True                2  \n",
       "...           ...        ...       ...            ...              ...  \n",
       "111440          1   1.000000         2          False                0  \n",
       "111441          1   1.000000         3          False                0  \n",
       "111442          1   1.000000         3          False                0  \n",
       "111443          1   1.000000         6          False                0  \n",
       "111444          1   1.000000         2          False                0  \n",
       "\n",
       "[111445 rows x 8 columns]"
      ]
     },
     "execution_count": 30,
     "metadata": {},
     "output_type": "execute_result"
    }
   ],
   "source": [
    "cells"
   ]
  },
  {
   "cell_type": "code",
   "execution_count": 19,
   "metadata": {},
   "outputs": [],
   "source": [
    "genes = pd.read_csv(index+\"/filtered/GSE133344_filtered_genes.tsv.gz\", header=None, sep=\"\\t\")"
   ]
  },
  {
   "cell_type": "code",
   "execution_count": 24,
   "metadata": {},
   "outputs": [],
   "source": [
    "genes.columns = [\"ensemble_id\",\"gene_symbol\"]\n",
    "genes.to_csv(index+\"/filtered/var.csv\")"
   ]
  },
  {
   "cell_type": "code",
   "execution_count": 37,
   "metadata": {
    "scrolled": true
   },
   "outputs": [],
   "source": [
    "cells = pd.read_csv(index+\"/raw/GSE133344_raw_cell_identities.csv.gz\")\n",
    "cells.to_csv(index+\"/raw/obs.csv\")"
   ]
  },
  {
   "cell_type": "code",
   "execution_count": 38,
   "metadata": {},
   "outputs": [],
   "source": [
    "genes = pd.read_csv(index+\"/raw/GSE133344_raw_genes.tsv.gz\", header=None, sep=\"\\t\")"
   ]
  },
  {
   "cell_type": "code",
   "execution_count": 39,
   "metadata": {},
   "outputs": [],
   "source": [
    "genes.columns = [\"ensemble_id\",\"gene_symbol\"]\n",
    "genes.to_csv(index+\"/raw/var.csv\")"
   ]
  },
  {
   "cell_type": "markdown",
   "metadata": {},
   "source": [
    "# TianKampmann2019"
   ]
  },
  {
   "cell_type": "code",
   "execution_count": 43,
   "metadata": {},
   "outputs": [],
   "source": [
    "index = \"TianKampmann2019\""
   ]
  },
  {
   "cell_type": "code",
   "execution_count": 74,
   "metadata": {},
   "outputs": [],
   "source": [
    "for celltype in [\"day7neuron\",\"iPSC\"]:\n",
    "    for num in [1,2]:\n",
    "        sgrna = pd.read_csv(glob.glob(index+\"/\"+celltype+\"/\"+celltype+str(num)+\"/*sgRNA_mapping.txt.gz\")[0],sep=\"\\t\")\n",
    "        sgrna.to_csv(index+\"/\"+celltype+\"/\"+celltype+str(num)+\"/obs.csv\")\n",
    "        genes = pd.read_csv(glob.glob(index+\"/\"+celltype+\"/\"+celltype+str(num)+\"/*genes.tsv.gz\")[0], header=None,\n",
    "                   sep=\"\\t\")\n",
    "        genes.columns = [\"ensemble_id\",\"gene_symbol\"]\n",
    "        genes.to_csv(index+\"/\"+celltype+\"/\"+celltype+str(num)+\"/var.csv\")\n",
    "        filename = glob.glob(index+\"/\"+celltype+\"/\"+celltype+str(num)+\"/*mtx.gz*\")[0]\n",
    "        !mv {filename} {index+\"/\"+celltype+\"/\"+celltype+str(num)+\"/counts.mtx.gz\"}"
   ]
  },
  {
   "cell_type": "markdown",
   "metadata": {},
   "source": [
    "# TianKampmann2021"
   ]
  },
  {
   "cell_type": "code",
   "execution_count": 2,
   "metadata": {},
   "outputs": [],
   "source": [
    "index = \"TianKampmann2021\""
   ]
  },
  {
   "cell_type": "code",
   "execution_count": 3,
   "metadata": {},
   "outputs": [],
   "source": [
    "import collections\n",
    "import scipy.io as sio\n",
    "import scipy.sparse as sp_sparse\n",
    "import tables"
   ]
  },
  {
   "cell_type": "code",
   "execution_count": 4,
   "metadata": {},
   "outputs": [],
   "source": [
    "CountMatrix = collections.namedtuple('CountMatrix', ['feature_ref', 'barcodes', 'matrix'])\n",
    " \n",
    "def get_matrix_from_h5(filename):\n",
    "    with tables.open_file(filename, 'r') as f:\n",
    "        mat_group = f.get_node(f.root, 'matrix')\n",
    "        barcodes = f.get_node(mat_group, 'barcodes').read()\n",
    "        data = getattr(mat_group, 'data').read()\n",
    "        indices = getattr(mat_group, 'indices').read()\n",
    "        indptr = getattr(mat_group, 'indptr').read()\n",
    "        shape = getattr(mat_group, 'shape').read()\n",
    "        matrix = sp_sparse.csc_matrix((data, indices, indptr), shape=shape)\n",
    "         \n",
    "        feature_ref = {}\n",
    "        feature_group = f.get_node(mat_group, 'features')\n",
    "        feature_ids = getattr(feature_group, 'id').read()\n",
    "        feature_names = getattr(feature_group, 'name').read()\n",
    "        feature_ref['id'] = feature_ids\n",
    "        feature_ref['name'] = feature_names\n",
    "#         tag_keys = getattr(feature_group, '_all_tag_keys').read()\n",
    "#         for key in tag_keys:\n",
    "#             feature_ref[key] = getattr(feature_group, key).read()\n",
    "         \n",
    "        return CountMatrix(feature_ref, barcodes, matrix)"
   ]
  },
  {
   "cell_type": "code",
   "execution_count": 19,
   "metadata": {},
   "outputs": [
    {
     "name": "stderr",
     "output_type": "stream",
     "text": [
      "Transforming to str index.\n",
      "Transforming to str index.\n",
      "... storing 'name' as categorical\n",
      "Transforming to str index.\n",
      "Transforming to str index.\n",
      "... storing 'name' as categorical\n",
      "Transforming to str index.\n",
      "Transforming to str index.\n",
      "... storing 'name' as categorical\n",
      "Transforming to str index.\n",
      "Transforming to str index.\n",
      "... storing 'name' as categorical\n",
      "Transforming to str index.\n",
      "Transforming to str index.\n",
      "... storing 'name' as categorical\n",
      "Transforming to str index.\n",
      "Transforming to str index.\n",
      "... storing 'name' as categorical\n"
     ]
    }
   ],
   "source": [
    "for experiment in [\"CRISPRa\",\"CRISPRi\"]:\n",
    "    for idx in [\"1\",\"2\",\"3\",\"4\"]:\n",
    "        filename = glob.glob(path+index+\"/\"+experiment+\"/\"+experiment+idx+\"/GSM*h5\")\n",
    "        if len(filename) == 1:\n",
    "            filtered_feature_bc_matrix = get_matrix_from_h5(filename[0])\n",
    "            var = pd.DataFrame(filtered_feature_bc_matrix.feature_ref)\n",
    "            var['id'] = var['id'].str.decode(\"utf-8\") \n",
    "            var['name'] = var['name'].str.decode(\"utf-8\")\n",
    "            #var.to_csv(index+\"/\"+crispr+\"/\"+crispr+str(num)+\"/var.csv\")\n",
    "            obs = pd.DataFrame([x.decode(\"utf-8\") for x in filtered_feature_bc_matrix.barcodes])\n",
    "            obs.columns = ['barcode']\n",
    "            #obs.to_csv(index+\"/\"+crispr+\"/\"+crispr+str(num)+\"/obs.csv\")\n",
    "            adata = sc.AnnData(filtered_feature_bc_matrix.matrix.T, var = var, obs = obs)\n",
    "            adata.write(path+index+\"/\"+experiment+\"/\"+experiment+idx+\"/\"+index+\"_\"+experiment+idx+\"_preprocessed.h5\")"
   ]
  },
  {
   "cell_type": "markdown",
   "metadata": {},
   "source": [
    "# PapalexiSatija2021"
   ]
  },
  {
   "cell_type": "code",
   "execution_count": 3,
   "metadata": {},
   "outputs": [],
   "source": [
    "index = \"PapalexiSatija2021\""
   ]
  },
  {
   "cell_type": "code",
   "execution_count": 290,
   "metadata": {},
   "outputs": [],
   "source": [
    "experiment = \"eccite_arrayed\""
   ]
  },
  {
   "cell_type": "code",
   "execution_count": 91,
   "metadata": {},
   "outputs": [],
   "source": [
    "cDNA = pd.read_csv(glob.glob(path+\"/\"+index+\"/\"+experiment+\"/\"+\"GSM*cDNA*counts*\")[0],sep=\"\\t\",index_col=0)"
   ]
  },
  {
   "cell_type": "code",
   "execution_count": 105,
   "metadata": {},
   "outputs": [],
   "source": [
    "X = csr_matrix(cDNA.values)"
   ]
  },
  {
   "cell_type": "code",
   "execution_count": 100,
   "metadata": {},
   "outputs": [],
   "source": [
    "genes = pd.DataFrame(cDNA.index)\n",
    "genes.columns = [\"gene\"]\n",
    "cells = pd.DataFrame(cDNA.columns)\n",
    "cells.columns = [\"cell_barcode\"]"
   ]
  },
  {
   "cell_type": "code",
   "execution_count": 106,
   "metadata": {},
   "outputs": [
    {
     "name": "stderr",
     "output_type": "stream",
     "text": [
      "Transforming to str index.\n",
      "Transforming to str index.\n"
     ]
    }
   ],
   "source": [
    "adata = sc.AnnData(X.T, var=genes, obs=cells)"
   ]
  },
  {
   "cell_type": "code",
   "execution_count": 108,
   "metadata": {},
   "outputs": [],
   "source": [
    "adata.write(index+\"/\"+experiment+\"/\"+index+\"_\"+experiment+\"_RNA_preprocessed.h5\")"
   ]
  },
  {
   "cell_type": "code",
   "execution_count": 291,
   "metadata": {},
   "outputs": [],
   "source": [
    "adt = pd.read_csv(glob.glob(path+\"/\"+index+\"/\"+experiment+\"/\"+\"GSM*ADT_counts*\")[0],sep=\"\\t\",index_col=0)"
   ]
  },
  {
   "cell_type": "code",
   "execution_count": 292,
   "metadata": {},
   "outputs": [],
   "source": [
    "X = csr_matrix(adt.values)"
   ]
  },
  {
   "cell_type": "code",
   "execution_count": 293,
   "metadata": {},
   "outputs": [],
   "source": [
    "proteins = pd.DataFrame(adt.index)\n",
    "proteins.columns = [\"protein\"]\n",
    "cells = pd.DataFrame(adt.columns)\n",
    "cells.columns = [\"cell_barcode\"]"
   ]
  },
  {
   "cell_type": "code",
   "execution_count": 296,
   "metadata": {},
   "outputs": [
    {
     "name": "stderr",
     "output_type": "stream",
     "text": [
      "Transforming to str index.\n",
      "Transforming to str index.\n"
     ]
    }
   ],
   "source": [
    "adata = sc.AnnData(X.T, var=proteins, obs=cells)\n",
    "adata.write(index+\"/\"+experiment+\"/\"+index+\"_\"+experiment+\"_protein_preprocessed.h5\")"
   ]
  },
  {
   "cell_type": "code",
   "execution_count": 298,
   "metadata": {},
   "outputs": [],
   "source": [
    "experiment = \"eccite\""
   ]
  },
  {
   "cell_type": "code",
   "execution_count": 299,
   "metadata": {},
   "outputs": [],
   "source": [
    "cDNA = pd.read_csv(glob.glob(path+\"/\"+index+\"/\"+experiment+\"/\"+\"GSM*cDNA*counts*\")[0],sep=\"\\t\",index_col=0)"
   ]
  },
  {
   "cell_type": "code",
   "execution_count": 300,
   "metadata": {},
   "outputs": [],
   "source": [
    "X = csr_matrix(cDNA.values)"
   ]
  },
  {
   "cell_type": "code",
   "execution_count": 301,
   "metadata": {},
   "outputs": [],
   "source": [
    "genes = pd.DataFrame(cDNA.index)\n",
    "genes.columns = [\"gene\"]\n",
    "cells = pd.DataFrame(cDNA.columns)\n",
    "cells.columns = [\"cell_barcode\"]"
   ]
  },
  {
   "cell_type": "code",
   "execution_count": 302,
   "metadata": {},
   "outputs": [
    {
     "name": "stderr",
     "output_type": "stream",
     "text": [
      "Transforming to str index.\n",
      "Transforming to str index.\n"
     ]
    }
   ],
   "source": [
    "adata = sc.AnnData(X.T, var=genes, obs=cells)\n",
    "adata.write(index+\"/\"+experiment+\"/\"+index+\"_\"+experiment+\"_RNA_preprocessed.h5\")"
   ]
  },
  {
   "cell_type": "code",
   "execution_count": 303,
   "metadata": {},
   "outputs": [],
   "source": [
    "adt = pd.read_csv(glob.glob(path+\"/\"+index+\"/\"+experiment+\"/\"+\"GSM*ADT_counts*\")[0],sep=\"\\t\",index_col=0)"
   ]
  },
  {
   "cell_type": "code",
   "execution_count": 305,
   "metadata": {},
   "outputs": [],
   "source": [
    "X = csr_matrix(adt.values)"
   ]
  },
  {
   "cell_type": "code",
   "execution_count": 306,
   "metadata": {},
   "outputs": [],
   "source": [
    "proteins = pd.DataFrame(adt.index)\n",
    "proteins.columns = [\"protein\"]\n",
    "cells = pd.DataFrame(adt.columns)\n",
    "cells.columns = [\"cell_barcode\"]"
   ]
  },
  {
   "cell_type": "code",
   "execution_count": 307,
   "metadata": {},
   "outputs": [
    {
     "name": "stderr",
     "output_type": "stream",
     "text": [
      "Transforming to str index.\n",
      "Transforming to str index.\n"
     ]
    }
   ],
   "source": [
    "adata = sc.AnnData(X.T, var=proteins, obs=cells)\n",
    "adata.write(index+\"/\"+experiment+\"/\"+index+\"_\"+experiment+\"_protein_preprocessed.h5\")"
   ]
  },
  {
   "cell_type": "code",
   "execution_count": null,
   "metadata": {},
   "outputs": [],
   "source": []
  },
  {
   "cell_type": "code",
   "execution_count": null,
   "metadata": {},
   "outputs": [],
   "source": []
  },
  {
   "cell_type": "code",
   "execution_count": null,
   "metadata": {},
   "outputs": [],
   "source": []
  }
 ],
 "metadata": {
  "kernelspec": {
   "display_name": "Python 3",
   "language": "python",
   "name": "python3"
  },
  "language_info": {
   "codemirror_mode": {
    "name": "ipython",
    "version": 3
   },
   "file_extension": ".py",
   "mimetype": "text/x-python",
   "name": "python",
   "nbconvert_exporter": "python",
   "pygments_lexer": "ipython3",
   "version": "3.6.0"
  }
 },
 "nbformat": 4,
 "nbformat_minor": 2
}
