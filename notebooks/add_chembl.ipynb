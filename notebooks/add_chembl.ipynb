{
 "cells": [
  {
   "cell_type": "code",
   "execution_count": 1,
   "id": "288ba16d",
   "metadata": {},
   "outputs": [],
   "source": [
    "import pandas as pd\n",
    "import numpy as np\n",
    "import scanpy as sc\n"
   ]
  },
  {
   "cell_type": "code",
   "execution_count": 37,
   "id": "1a7551b8",
   "metadata": {},
   "outputs": [],
   "source": [
    "chembldir = '/n/groups/marks/projects/scperturb/drug_norm_compcancer_paper/'\n",
    "\n",
    "datadir = '/n/groups/marks/projects/scperturb/datasets/'"
   ]
  },
  {
   "cell_type": "code",
   "execution_count": 20,
   "id": "2e3f30e9",
   "metadata": {},
   "outputs": [],
   "source": [
    "\n",
    "#: no match whatsoever could be found\n",
    "no_match = pd.read_csv(chembldir+'missing_normalized_drug_names_NONE.csv', index_col=0 )\n",
    "### READY:\n",
    "\n",
    "# assign ChEMBL ID directly\n",
    "exact_match = pd.read_csv(chembldir+'normalized_drug_names_EXACT.csv' , index_col=0)\n",
    "\n",
    "#With a little processing I could assign a ChEMBL ID : \n",
    "# these entries were in the form `NAME (CODE_NAME_1, CODE_NAME_2, ...\n",
    "substring_match = pd.read_csv(chembldir+'normalized_drug_names_SUBSTRING.csv', index_col=0 )\n",
    "\n",
    "# partial match, due to typo, add manually by searching amended name in ChEMBL web page\n",
    "manual_partial_match = pd.read_csv(chembldir+'manual_normalized_drug_names_PARTIAL.csv', index_col=0)\n",
    "#- : no match, but was able to ID manually\n",
    "manual_match = pd.read_csv(chembldir+'manual_normalized_drug_names_NONE.csv', index_col=0) "
   ]
  },
  {
   "cell_type": "code",
   "execution_count": 17,
   "id": "7da71d4a",
   "metadata": {},
   "outputs": [
    {
     "data": {
      "text/plain": [
       "Index(['Name', 'Dataset', 'Found Names', 'Found Name IDs', 'Match Type',\n",
       "       'Edit Distance', 'Query Time', 'ChEMBL', 'Manual normalization'],\n",
       "      dtype='object')"
      ]
     },
     "execution_count": 17,
     "metadata": {},
     "output_type": "execute_result"
    }
   ],
   "source": [
    "substring_match.columns"
   ]
  },
  {
   "cell_type": "code",
   "execution_count": 18,
   "id": "5f6851b0",
   "metadata": {},
   "outputs": [
    {
     "data": {
      "text/plain": [
       "Index(['Name', 'Dataset', 'Found Names', 'Found Name IDs', 'Match Type',\n",
       "       'Edit Distance', 'Query Time', 'Manual normalization', 'ChEMBL'],\n",
       "      dtype='object')"
      ]
     },
     "execution_count": 18,
     "metadata": {},
     "output_type": "execute_result"
    }
   ],
   "source": [
    "manual_partial_match.columns"
   ]
  },
  {
   "cell_type": "code",
   "execution_count": 78,
   "id": "add0e5c0",
   "metadata": {},
   "outputs": [],
   "source": [
    "drugs = pd.concat([no_match, exact_match, substring_match,manual_partial_match, manual_match])"
   ]
  },
  {
   "cell_type": "code",
   "execution_count": 79,
   "id": "46abd790",
   "metadata": {},
   "outputs": [],
   "source": [
    "dsets = drgs['Dataset'].value_counts().index.values"
   ]
  },
  {
   "cell_type": "code",
   "execution_count": 80,
   "id": "c2fb896e",
   "metadata": {},
   "outputs": [],
   "source": [
    "dset  = 'SrivatsanTrapnell2020_sciplex3'"
   ]
  },
  {
   "cell_type": "code",
   "execution_count": 102,
   "id": "a7813cdb",
   "metadata": {},
   "outputs": [],
   "source": [
    "def add_chembl(dset, drugs=drugs, datadir=datadir):\n",
    "    #obs = pd.read_csv(datadir+dset+'/obs.csv')\n",
    "\n",
    "    drg = drugs[drugs['Dataset'] == dset]\n",
    "    drugdict = dict(zip(drg['Name'],drg['ChEMBL']))\n",
    "    if dset == \"McFarlandTshemiak2020_all_expts_combined\":\n",
    "        dset = \"McFarlandTsherniak2020\"\n",
    "    adata  = sc.read_h5ad(datadir+dset+'/'+dset+'.h5ad')\n",
    "    adata.obs['chembl-ID'] = adata.obs['perturbation'].map(drugdict)\n",
    "    # write csv obs\n",
    "    adata.obs.to_csv(datadir+dset+'/obs.csv')\n",
    "    # write adata WITH GZIP\n",
    "    adata.write_h5ad(datadir+dset+'/'+dset+'.h5ad', compression = 'gzip')\n",
    "    print(dset+'_done')\n",
    "    return(adata.obs)"
   ]
  },
  {
   "cell_type": "code",
   "execution_count": 103,
   "id": "9e15ecb4",
   "metadata": {},
   "outputs": [
    {
     "name": "stdout",
     "output_type": "stream",
     "text": [
      "McFarlandTsherniak2020_done\n",
      "SrivatsanTrapnell2020_sciplex4_done\n",
      "ZhaoSims2021_done\n",
      "SrivatsanTrapnell2020_sciplex2_done\n",
      "ChangYe2021_done\n",
      "AissaBenevolenskaya2021_done\n",
      "GehringPachter2019_done\n"
     ]
    }
   ],
   "source": [
    "for dset in dsets[1:]: add_chembl(dset)"
   ]
  },
  {
   "cell_type": "code",
   "execution_count": null,
   "id": "d17f87bb",
   "metadata": {},
   "outputs": [],
   "source": []
  },
  {
   "cell_type": "code",
   "execution_count": 96,
   "id": "ca161a8a",
   "metadata": {},
   "outputs": [
    {
     "data": {
      "text/plain": [
       "'McFarlandTshemiak2020_all_expts_combined'"
      ]
     },
     "execution_count": 96,
     "metadata": {},
     "output_type": "execute_result"
    }
   ],
   "source": [
    "dset"
   ]
  },
  {
   "cell_type": "code",
   "execution_count": null,
   "id": "009a82ae",
   "metadata": {},
   "outputs": [],
   "source": []
  },
  {
   "cell_type": "code",
   "execution_count": null,
   "id": "bee1af1b",
   "metadata": {},
   "outputs": [],
   "source": []
  }
 ],
 "metadata": {
  "kernelspec": {
   "display_name": "scvi2",
   "language": "python",
   "name": "scvi2"
  },
  "language_info": {
   "codemirror_mode": {
    "name": "ipython",
    "version": 3
   },
   "file_extension": ".py",
   "mimetype": "text/x-python",
   "name": "python",
   "nbconvert_exporter": "python",
   "pygments_lexer": "ipython3",
   "version": "3.9.12"
  }
 },
 "nbformat": 4,
 "nbformat_minor": 5
}
