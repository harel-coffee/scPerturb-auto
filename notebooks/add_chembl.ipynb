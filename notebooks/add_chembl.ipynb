{
 "cells": [
  {
   "cell_type": "code",
   "execution_count": 1,
   "id": "288ba16d",
   "metadata": {
    "ExecuteTime": {
     "end_time": "2022-09-22T16:29:24.643336Z",
     "start_time": "2022-09-22T16:29:22.779377Z"
    }
   },
   "outputs": [],
   "source": [
    "import pandas as pd\n",
    "import numpy as np\n",
    "import scanpy as sc"
   ]
  },
  {
   "cell_type": "code",
   "execution_count": 2,
   "id": "1a7551b8",
   "metadata": {
    "ExecuteTime": {
     "end_time": "2022-09-22T16:29:24.649047Z",
     "start_time": "2022-09-22T16:29:24.645225Z"
    }
   },
   "outputs": [],
   "source": [
    "# paths\n",
    "import yaml\n",
    "config = yaml.safe_load(open('../config.yaml', \"r\"))\n",
    "datadir = config['DOWNDIR']\n",
    "chembldir = '../metadata/drug_mapping/'"
   ]
  },
  {
   "cell_type": "code",
   "execution_count": 3,
   "id": "2e3f30e9",
   "metadata": {
    "ExecuteTime": {
     "end_time": "2022-09-22T16:29:24.739941Z",
     "start_time": "2022-09-22T16:29:24.650434Z"
    }
   },
   "outputs": [],
   "source": [
    "# no match whatsoever could be found\n",
    "no_match = pd.read_csv(chembldir+'missing_normalized_drug_names_NONE.csv', index_col=0 )\n",
    "\n",
    "# assign ChEMBL ID directly\n",
    "exact_match = pd.read_csv(chembldir+'normalized_drug_names_EXACT.csv' , index_col=0)\n",
    "\n",
    "# With a little processing I could assign a ChEMBL ID : \n",
    "# these entries were in the form `NAME (CODE_NAME_1, CODE_NAME_2, ...\n",
    "substring_match = pd.read_csv(chembldir+'normalized_drug_names_SUBSTRING.csv', index_col=0 )\n",
    "\n",
    "# partial match, due to typo, add manually by searching amended name in ChEMBL web page\n",
    "manual_partial_match = pd.read_csv(chembldir+'manual_normalized_drug_names_PARTIAL.csv', index_col=0)\n",
    "\n",
    "# no match, but was able to ID manually\n",
    "manual_match = pd.read_csv(chembldir+'manual_normalized_drug_names_NONE.csv', index_col=0) "
   ]
  },
  {
   "cell_type": "code",
   "execution_count": 98,
   "id": "add0e5c0",
   "metadata": {
    "ExecuteTime": {
     "end_time": "2022-09-22T16:53:53.244891Z",
     "start_time": "2022-09-22T16:53:53.237758Z"
    }
   },
   "outputs": [],
   "source": [
    "# concatenate matching\n",
    "drugs = pd.concat([no_match, exact_match, substring_match,manual_partial_match, manual_match]).reset_index()"
   ]
  },
  {
   "cell_type": "markdown",
   "id": "0752cf1f",
   "metadata": {},
   "source": [
    "# Drugs across datasets"
   ]
  },
  {
   "cell_type": "code",
   "execution_count": 111,
   "id": "2280aebe",
   "metadata": {
    "ExecuteTime": {
     "end_time": "2022-09-22T16:59:00.198407Z",
     "start_time": "2022-09-22T16:59:00.159805Z"
    }
   },
   "outputs": [],
   "source": [
    "# which IDs appear twice\n",
    "seen = []\n",
    "doubles = []\n",
    "for index, row in drugs.iterrows():\n",
    "    entries = str(row.ChEMBL).split(';')\n",
    "    common = np.intersect1d(entries, seen)\n",
    "    if len(common) > 0 and 'nan' not in common:\n",
    "        doubles.extend(common)\n",
    "    seen.extend(entries)"
   ]
  },
  {
   "cell_type": "code",
   "execution_count": 129,
   "id": "cb46898f",
   "metadata": {
    "ExecuteTime": {
     "end_time": "2022-09-22T17:03:49.727497Z",
     "start_time": "2022-09-22T17:03:49.716884Z"
    }
   },
   "outputs": [],
   "source": [
    "# add names\n",
    "from chembl_webresource_client.new_client import new_client\n",
    "molecule = new_client.molecule\n",
    "hits = molecule.filter(molecule_chembl_id__in=list(doubles)).only(['molecule_chembl_id', 'pref_name'])\n",
    "df = pd.DataFrame(hits)"
   ]
  },
  {
   "cell_type": "code",
   "execution_count": 133,
   "id": "9b33827b",
   "metadata": {
    "ExecuteTime": {
     "end_time": "2022-09-22T17:04:36.424574Z",
     "start_time": "2022-09-22T17:04:36.317153Z"
    }
   },
   "outputs": [],
   "source": [
    "# in which datasets do they overlap\n",
    "df['appears_in_1'] = None\n",
    "df['appears_in_2'] = None\n",
    "for cid in df.molecule_chembl_id:\n",
    "    ds = []\n",
    "    for index, row in drugs.iterrows():\n",
    "        entries = str(row.ChEMBL).split(';')\n",
    "        if cid in entries:\n",
    "            ds.append(row.Dataset)\n",
    "    ds = pd.unique(ds)\n",
    "    if len(ds) > 1:\n",
    "        for j, d in enumerate(ds):\n",
    "            df[f'appears_in_{j+1}'][df.molecule_chembl_id==cid] = d\n",
    "df = df[~pd.isna(df.appears_in_1)]"
   ]
  },
  {
   "cell_type": "code",
   "execution_count": 135,
   "id": "9322f62f",
   "metadata": {
    "ExecuteTime": {
     "end_time": "2022-09-22T17:06:22.527706Z",
     "start_time": "2022-09-22T17:06:22.518842Z"
    }
   },
   "outputs": [],
   "source": [
    "df.to_csv('../supplement/Drug_overlap_table.csv')"
   ]
  },
  {
   "cell_type": "markdown",
   "id": "dba3648e",
   "metadata": {},
   "source": [
    "# Add to Datasets"
   ]
  },
  {
   "cell_type": "code",
   "execution_count": 12,
   "id": "46abd790",
   "metadata": {
    "ExecuteTime": {
     "end_time": "2022-09-15T13:52:58.271315Z",
     "start_time": "2022-09-15T13:52:58.267902Z"
    }
   },
   "outputs": [],
   "source": [
    "dsets = drugs['Dataset'].value_counts().index.values"
   ]
  },
  {
   "cell_type": "code",
   "execution_count": 102,
   "id": "a7813cdb",
   "metadata": {},
   "outputs": [],
   "source": [
    "def add_chembl(dset, drugs=drugs, datadir=datadir):\n",
    "    #obs = pd.read_csv(datadir+dset+'/obs.csv')\n",
    "\n",
    "    drg = drugs[drugs['Dataset'] == dset]\n",
    "    drugdict = dict(zip(drg['Name'],drg['ChEMBL']))\n",
    "    if dset == \"McFarlandTshemiak2020_all_expts_combined\":\n",
    "        dset = \"McFarlandTsherniak2020\"\n",
    "    adata  = sc.read_h5ad(datadir+dset+'/'+dset+'.h5ad')\n",
    "    adata.obs['chembl-ID'] = adata.obs['perturbation'].map(drugdict)\n",
    "    # write csv obs\n",
    "    adata.obs.to_csv(datadir+dset+'/obs.csv')\n",
    "    # write adata WITH GZIP\n",
    "    adata.write_h5ad(datadir+dset+'/'+dset+'.h5ad', compression = 'gzip')\n",
    "    print(dset+'_done')\n",
    "    return(adata.obs)"
   ]
  },
  {
   "cell_type": "code",
   "execution_count": 103,
   "id": "9e15ecb4",
   "metadata": {},
   "outputs": [
    {
     "name": "stdout",
     "output_type": "stream",
     "text": [
      "McFarlandTsherniak2020_done\n",
      "SrivatsanTrapnell2020_sciplex4_done\n",
      "ZhaoSims2021_done\n",
      "SrivatsanTrapnell2020_sciplex2_done\n",
      "ChangYe2021_done\n",
      "AissaBenevolenskaya2021_done\n",
      "GehringPachter2019_done\n"
     ]
    }
   ],
   "source": [
    "for dset in dsets[1:]: add_chembl(dset)"
   ]
  },
  {
   "cell_type": "code",
   "execution_count": 96,
   "id": "ca161a8a",
   "metadata": {},
   "outputs": [
    {
     "data": {
      "text/plain": [
       "'McFarlandTshemiak2020_all_expts_combined'"
      ]
     },
     "execution_count": 96,
     "metadata": {},
     "output_type": "execute_result"
    }
   ],
   "source": [
    "dset"
   ]
  },
  {
   "cell_type": "code",
   "execution_count": null,
   "id": "009a82ae",
   "metadata": {},
   "outputs": [],
   "source": []
  },
  {
   "cell_type": "code",
   "execution_count": null,
   "id": "bee1af1b",
   "metadata": {},
   "outputs": [],
   "source": []
  }
 ],
 "metadata": {
  "hide_input": false,
  "kernelspec": {
   "display_name": "Python 3",
   "language": "python",
   "name": "python3"
  },
  "language_info": {
   "codemirror_mode": {
    "name": "ipython",
    "version": 3
   },
   "file_extension": ".py",
   "mimetype": "text/x-python",
   "name": "python",
   "nbconvert_exporter": "python",
   "pygments_lexer": "ipython3",
   "version": "3.9.13"
  }
 },
 "nbformat": 4,
 "nbformat_minor": 5
}
