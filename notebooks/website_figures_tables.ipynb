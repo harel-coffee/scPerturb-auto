{
 "cells": [
  {
   "cell_type": "code",
   "execution_count": 29,
   "id": "777c072e",
   "metadata": {
    "ExecuteTime": {
     "end_time": "2022-08-17T18:10:48.091651Z",
     "start_time": "2022-08-17T18:10:48.067481Z"
    }
   },
   "outputs": [
    {
     "data": {
      "text/html": [
       "<style>.container { width:95% !important; }</style>"
      ],
      "text/plain": [
       "<IPython.core.display.HTML object>"
      ]
     },
     "metadata": {},
     "output_type": "display_data"
    }
   ],
   "source": [
    "import subprocess\n",
    "import os\n",
    "import sys\n",
    "\n",
    "import scanpy as sc\n",
    "import matplotlib.pyplot as pl\n",
    "import anndata as ad\n",
    "import pandas as pd\n",
    "import numpy as np\n",
    "import seaborn as sns\n",
    "from statsmodels.stats.multitest import multipletests\n",
    "import scvelo as scv\n",
    "scv.settings.verbosity=1\n",
    "\n",
    "# Jupyter stuff\n",
    "from tqdm.notebook import tqdm\n",
    "from IPython.display import clear_output\n",
    "from IPython.core.display import display, HTML\n",
    "display(HTML(\"<style>.container { width:95% !important; }</style>\"))\n",
    "%matplotlib inline\n",
    "\n",
    "# Custom functions\n",
    "sys.path.insert(1, '../')\n",
    "from utils import *\n",
    "\n",
    "# path with scPerturb data (replace accordingly)\n",
    "data_path = '/fast/work/users/peidlis_c/data/perturbation_resource_paper/'\n",
    "# temp path\n",
    "SDIR = '/fast/scratch/users/peidlis_c/perturbation_resource_paper/'\n",
    "# output from snakemake (tables)\n",
    "table_path = '/fast/work/users/peidlis_c/projects/perturbation_resource_paper/single_cell_perturbation_data/code/notebooks/data_analysis/analysis_screens/tables/'\n",
    "# path for figures\n",
    "website_path = '../website/'\n",
    "# path for supplemental figures and tables\n",
    "supp_path = '../supplement/'"
   ]
  },
  {
   "cell_type": "code",
   "execution_count": 8,
   "id": "c7661c6a",
   "metadata": {
    "ExecuteTime": {
     "end_time": "2022-08-17T17:55:30.546009Z",
     "start_time": "2022-08-17T17:55:30.529272Z"
    }
   },
   "outputs": [],
   "source": [
    "# get indecs of dataset\n",
    "h5_files = {}\n",
    "for path, subdirs, files in os.walk(data_path):\n",
    "    for name in files:\n",
    "        if '.h5' in name: h5_files[name.split('.h5')[0]] = os.path.join(path, name)\n",
    "del h5_files['exampledataset']\n",
    "del h5_files['NormanWeissman2019_raw']\n",
    "del h5_files['PapalexiSatija2021_eccite_arrayed_protein']\n",
    "del h5_files['PapalexiSatija2021_eccite_protein']\n",
    "del h5_files['FrangiehIzar2021_protein']\n",
    "del h5_files['gene_scores']\n",
    "del h5_files['peak_bc']\n",
    "del h5_files['ChromVar']\n",
    "del h5_files['LSI_embedding']\n",
    "del h5_files['markerpeak_target']\n",
    "\n",
    "del h5_files['XieHon2017']\n",
    "datasets = list(h5_files.keys())\n",
    "# print(len(datasets))"
   ]
  },
  {
   "cell_type": "markdown",
   "id": "e455b41e",
   "metadata": {},
   "source": [
    "# QC plots on website"
   ]
  },
  {
   "cell_type": "code",
   "execution_count": 9,
   "id": "8701d92d",
   "metadata": {
    "ExecuteTime": {
     "end_time": "2022-08-17T17:56:11.400783Z",
     "start_time": "2022-08-17T17:55:30.716587Z"
    }
   },
   "outputs": [
    {
     "data": {
      "application/vnd.jupyter.widget-view+json": {
       "model_id": "",
       "version_major": 2,
       "version_minor": 0
      },
      "text/plain": [
       "  0%|          | 0/34 [00:00<?, ?it/s]"
      ]
     },
     "metadata": {},
     "output_type": "display_data"
    }
   ],
   "source": [
    "# capture obs and vars in a dict, indices as keis\n",
    "obses = {}\n",
    "vares = {}\n",
    "for name, path in tqdm(h5_files.items(), leave=False):\n",
    "    obses[name] = pd.read_csv(os.path.dirname(path)+'/obs.csv')\n",
    "    vares[name] = pd.read_csv(os.path.dirname(path)+'/var.csv')"
   ]
  },
  {
   "cell_type": "code",
   "execution_count": null,
   "id": "20170ee0",
   "metadata": {
    "ExecuteTime": {
     "end_time": "2022-08-17T18:04:00.603322Z",
     "start_time": "2022-08-17T18:01:39.930660Z"
    },
    "scrolled": false
   },
   "outputs": [],
   "source": [
    "show = False\n",
    "q = 0.05  # percentiles\n",
    "for key, obs in tqdm(obses.items()):\n",
    "    if 'ncounts' in obs.columns:\n",
    "        with sns.axes_style('whitegrid'):\n",
    "            fig, ax = pl.subplots(figsize=[6,4])\n",
    "        df = obs.copy()\n",
    "        df['ncounts'] = np.clip(df['ncounts'], np.percentile(df['ncounts'], q), np.percentile(df['ncounts'], 100-q))\n",
    "        sns.kdeplot(data=df, x='ncounts', fill=True, ax=ax)\n",
    "        ax.set_title('Number of UMI counts per cell')\n",
    "        ax.set_yticks([])\n",
    "        pl.savefig(f'{website_path}ncounts_{key}.png')\n",
    "        pl.show() if show else pl.close()\n",
    "            \n",
    "    \n",
    "    if 'ngenes' in obs.columns:\n",
    "        with sns.axes_style('whitegrid'):\n",
    "            fig, ax = pl.subplots(figsize=[6,4])\n",
    "        df = obs.copy()\n",
    "        df['ngenes'] = np.clip(df['ngenes'], np.percentile(df['ngenes'], q), np.percentile(df['ngenes'], 100-q))\n",
    "        sns.kdeplot(data=df, x='ngenes', fill=True, ax=ax)\n",
    "        ax.set_title('Number of genes detected per cell')\n",
    "        ax.set_yticks([])\n",
    "        pl.savefig(f'{website_path}ngenes_{key}.png')\n",
    "        pl.show() if show else pl.close()\n",
    "    \n",
    "    if 'nperts' in obs.columns:\n",
    "        if len(pd.unique(obs.nperts))>2:\n",
    "            obs['nperts_'] = obs.nperts.astype(str)\n",
    "            obs['nperts_'][obs.nperts>5] = '>5'\n",
    "            df = obs.nperts_.value_counts().sort_index().reset_index()\n",
    "            df.columns=['number of perturbations', 'number of cells']\n",
    "            with sns.axes_style('whitegrid'):\n",
    "                fig, ax = pl.subplots(figsize=[6,4])\n",
    "            sns.barplot(data=df, x='number of perturbations', y='number of cells', ax=ax)\n",
    "            ax.set_title('Number of perturbations per cell')\n",
    "            pl.savefig(f'{website_path}nperts_{key}.png')\n",
    "            pl.show() if show else pl.close()\n",
    "    \n",
    "    df = obs.value_counts('perturbation').reset_index()\n",
    "    df.columns = ['perturbation', 'number of cells']\n",
    "    with sns.axes_style('whitegrid'):\n",
    "        fig, ax = pl.subplots(figsize=[6,4])\n",
    "    sns.histplot(data=df, x='number of cells')\n",
    "    ax.set_title('Number of cells per perturbation')\n",
    "    ax.set_xlabel('Number of cells')\n",
    "    pl.savefig(f'{website_path}ncellsperpert_{key}.png')\n",
    "    pl.show() if show else pl.close()\n"
   ]
  },
  {
   "cell_type": "markdown",
   "id": "8607b502",
   "metadata": {},
   "source": [
    "# E-test figures"
   ]
  },
  {
   "cell_type": "code",
   "execution_count": 40,
   "id": "bf6ee0cb",
   "metadata": {
    "ExecuteTime": {
     "end_time": "2022-08-17T18:14:55.889356Z",
     "start_time": "2022-08-17T18:14:55.876180Z"
    }
   },
   "outputs": [],
   "source": [
    "if os.path.exists(f'{supp_path}/SuppTab4.csv'):\n",
    "    tab = pd.read_csv(f'{supp_path}/SuppTab4.csv', index_col=0)\n",
    "else:\n",
    "    res={}\n",
    "    for key in h5_files.keys():\n",
    "        file = f'{table_path}/etest_{key}_tables.csv'\n",
    "        if not os.path.exists(file):\n",
    "            continue\n",
    "        # load test results\n",
    "        t = pd.read_csv(file, index_col=0)\n",
    "        res[key] = t\n",
    "    tab = pd.concat(res).reset_index()\n",
    "    tab.columns=['dataset', 'perturbation', 'edist_to_unperturbed', 'pvalue', 'significant', 'pvalue_adj', 'significant_adj']"
   ]
  },
  {
   "cell_type": "code",
   "execution_count": 41,
   "id": "409ccbb5",
   "metadata": {
    "ExecuteTime": {
     "end_time": "2022-08-17T18:15:08.419027Z",
     "start_time": "2022-08-17T18:14:58.954631Z"
    },
    "scrolled": false
   },
   "outputs": [],
   "source": [
    "show = False\n",
    "res = {}\n",
    "pseudocount=1\n",
    "for key in datasets:\n",
    "    stab = tab[tab.dataset==key]\n",
    "    stab = stab[stab.index!='control']\n",
    "    if len(stab)<3:\n",
    "        continue\n",
    "    significant, pvalue_adj, _, _ = multipletests(stab.pvalue, alpha=0.05, method='holm-sidak')\n",
    "    stab['pvalue_adj'] = pvalue_adj\n",
    "    stab['significant_adj'] = significant\n",
    "    with sns.axes_style('whitegrid'):\n",
    "        stab['tmp'] = np.clip(stab.edist_to_unperturbed, pseudocount, np.infty)\n",
    "        sns.scatterplot(data=stab, x='tmp', y=stab.pvalue_adj, hue='significant_adj')\n",
    "    pl.xlabel(f'E-distance to unperturbed')\n",
    "    sig = np.sum(stab['significant_adj'])\n",
    "    total = len(stab)\n",
    "    pl.title(f'E-test results for {key}\\n{sig}/{total} are significant (adj. pvalue < 0.05)')\n",
    "    pl.xscale('log')\n",
    "    pl.ylabel('p-value')\n",
    "    pl.axhline(0.05, c='r', linestyle='--')\n",
    "    pl.savefig(f'{website_path}etest_{key}.png')\n",
    "    pl.show() if show else pl.close()"
   ]
  },
  {
   "cell_type": "markdown",
   "id": "bb385975",
   "metadata": {},
   "source": [
    "# Pairwise e-distances between perturbations for all datasets as possible download option on website"
   ]
  },
  {
   "cell_type": "code",
   "execution_count": 44,
   "id": "5414fe4f",
   "metadata": {
    "ExecuteTime": {
     "end_time": "2022-08-17T18:24:00.173556Z",
     "start_time": "2022-08-17T18:23:59.159650Z"
    }
   },
   "outputs": [],
   "source": [
    "for key in h5_files.keys():\n",
    "    if not os.path.exists(f'{table_path}/pairwise_pca_distances_{key}_tables.csv'):\n",
    "        continue\n",
    "    # load pca and bulk pca pairwise distances\n",
    "    pwd = pd.read_csv(f'{table_path}/pairwise_pca_distances_{key}_tables.csv', index_col=0)\n",
    "    if 'control' not in pwd.index or len(pwd.index)<3:\n",
    "        continue\n",
    "    \n",
    "    # derive basic statistics\n",
    "    sigmas = np.diag(pwd)\n",
    "    deltas = pwd\n",
    "    \n",
    "    estats = 2 * deltas - sigmas - sigmas[:, np.newaxis]\n",
    "    estats = cluster_matrix(estats, 'both')\n",
    "    estats_control = estats.loc[:, 'control']\n",
    "\n",
    "    estats.to_csv(f'{website_path}/pairwise_edist_{key}.csv')"
   ]
  }
 ],
 "metadata": {
  "hide_input": false,
  "kernelspec": {
   "display_name": "Python 3",
   "language": "python",
   "name": "python3"
  },
  "language_info": {
   "codemirror_mode": {
    "name": "ipython",
    "version": 3
   },
   "file_extension": ".py",
   "mimetype": "text/x-python",
   "name": "python",
   "nbconvert_exporter": "python",
   "pygments_lexer": "ipython3",
   "version": "3.9.13"
  }
 },
 "nbformat": 4,
 "nbformat_minor": 5
}
