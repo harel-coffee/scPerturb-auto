{
 "cells": [
  {
   "cell_type": "code",
   "execution_count": 3,
   "id": "3d69691b",
   "metadata": {
    "ExecuteTime": {
     "end_time": "2022-08-05T18:07:00.813802Z",
     "start_time": "2022-08-05T18:06:51.033581Z"
    }
   },
   "outputs": [
    {
     "data": {
      "text/html": [
       "<style>.container { width:95% !important; }</style>"
      ],
      "text/plain": [
       "<IPython.core.display.HTML object>"
      ]
     },
     "metadata": {},
     "output_type": "display_data"
    }
   ],
   "source": [
    "import subprocess\n",
    "import os\n",
    "import sys\n",
    "\n",
    "import matplotlib.backends.backend_pdf\n",
    "import scanpy as sc\n",
    "import matplotlib.pyplot as pl\n",
    "import anndata as ad\n",
    "import pandas as pd\n",
    "import numpy as np\n",
    "import seaborn as sns\n",
    "import scvelo as scv\n",
    "scv.settings.verbosity=1\n",
    "\n",
    "# Jupyter stuff\n",
    "from tqdm.notebook import tqdm\n",
    "from IPython.display import clear_output\n",
    "from IPython.core.display import display, HTML\n",
    "display(HTML(\"<style>.container { width:95% !important; }</style>\"))\n",
    "%matplotlib inline\n",
    "\n",
    "# Custom functions\n",
    "sys.path.insert(1, '../..')\n",
    "from utils import *\n",
    "\n",
    "# paths\n",
    "at_home = False if '/fast/work/users/' in os.getcwd() else True\n",
    "data_path = '/extra/stefan/data/perturbation_resource_paper/' if at_home else '/fast/work/users/peidlis_c/data/perturbation_resource_paper/'\n",
    "signatures_path = '/home/peidli/utils/scrnaseq_signature_collection/' if at_home else '/fast/work/users/peidlis_c/utils/scrnaseq_signature_collection/'\n",
    "utils_path = '/extra/stefan/utils/scrnaseq_utils/' if at_home else '/fast/work/users/peidlis_c/utils/single_cell_rna_seq/scrnaseq_utils/'\n",
    "\n",
    "# Stefan's utils\n",
    "sys.path.insert(1, utils_path)\n",
    "from scrnaseq_util_functions import *\n",
    "\n",
    "colors_perturbation_types = {\n",
    "    'CRISPRi': 'tab:blue', \n",
    "    'CRISPRa': 'tab:red', \n",
    "    'CRISPR': 'tab:orange', \n",
    "    'drug': 'tab:green',\n",
    "    'cytokine': 'tab:olive'\n",
    "}\n",
    "SDIR = '/fast/scratch/users/peidlis_c/perturbation_resource_paper/'\n",
    "table_path = '/fast/work/users/peidlis_c/projects/perturbation_resource_paper/single_cell_perturbation_data/code/notebooks/data_analysis/analysis_screens/tables/'"
   ]
  },
  {
   "cell_type": "code",
   "execution_count": 26,
   "id": "99d9774f",
   "metadata": {
    "ExecuteTime": {
     "end_time": "2022-08-05T18:15:31.891137Z",
     "start_time": "2022-08-05T18:15:31.404066Z"
    }
   },
   "outputs": [],
   "source": [
    "# get distances\n",
    "key = 'ZhaoSims2021'\n",
    "SDIR = '/fast/scratch/users/peidlis_c/perturbation_resource_paper/'\n",
    "adata = sc.read(SDIR+'tmp_data_' + key + '.h5')  "
   ]
  },
  {
   "cell_type": "markdown",
   "id": "db702d52",
   "metadata": {},
   "source": [
    "# MMD testing"
   ]
  },
  {
   "cell_type": "code",
   "execution_count": 7,
   "id": "1dc93640",
   "metadata": {
    "ExecuteTime": {
     "end_time": "2022-08-05T18:10:47.771365Z",
     "start_time": "2022-08-05T18:10:47.768978Z"
    }
   },
   "outputs": [],
   "source": [
    "# !pip install git+https://github.com/calico/scmmd\n",
    "# !pip install git+https://github.com/josipd/torch-two-sample"
   ]
  },
  {
   "cell_type": "markdown",
   "id": "5420978e",
   "metadata": {},
   "source": [
    "https://github.com/calico/scmmd"
   ]
  },
  {
   "cell_type": "code",
   "execution_count": 8,
   "id": "09088f1c",
   "metadata": {
    "ExecuteTime": {
     "end_time": "2022-08-05T18:10:52.649576Z",
     "start_time": "2022-08-05T18:10:49.610799Z"
    }
   },
   "outputs": [],
   "source": [
    "import scmmd\n",
    "\n",
    "# distances, p_values = scmmd.compute_mmd_contrast(\n",
    "#     adata=adata, # [Cells, Genes] object\n",
    "#     representation='X_pca', # representation to use, \"X\" or key in `adata.obsm`.\n",
    "#     groupby='cell_type', # a categorical grouping variable in `adata.obs`\n",
    "#     contrast='age', # a binary contrast in `adata.obs`\n",
    "#     n_iters=100, # number of random sampling iterations\n",
    "#     sample_size=500, # sample size for random samples\n",
    "#     n_permutations=1000, # permutations for p-val calculations\n",
    "# )"
   ]
  },
  {
   "cell_type": "code",
   "execution_count": 27,
   "id": "7ef6db2c",
   "metadata": {
    "ExecuteTime": {
     "end_time": "2022-08-05T18:15:34.796102Z",
     "start_time": "2022-08-05T18:15:33.484558Z"
    }
   },
   "outputs": [],
   "source": [
    "score_cell_cycle(adata)"
   ]
  },
  {
   "cell_type": "code",
   "execution_count": 28,
   "id": "70d9809a",
   "metadata": {
    "ExecuteTime": {
     "end_time": "2022-08-05T18:15:34.802326Z",
     "start_time": "2022-08-05T18:15:34.797569Z"
    }
   },
   "outputs": [],
   "source": [
    "adata.obs['cycling'] = ['non-cycling' if c=='G1' else 'cycling' for c in adata.obs.phase]"
   ]
  },
  {
   "cell_type": "code",
   "execution_count": null,
   "id": "6a6400ad",
   "metadata": {},
   "outputs": [],
   "source": []
  },
  {
   "cell_type": "code",
   "execution_count": 29,
   "id": "8db176ac",
   "metadata": {
    "ExecuteTime": {
     "end_time": "2022-08-05T18:15:34.813576Z",
     "start_time": "2022-08-05T18:15:34.803470Z"
    }
   },
   "outputs": [
    {
     "data": {
      "text/plain": [
       "AnnData object with n_obs × n_vars = 13545 × 26154\n",
       "    obs: 'sample', 'GEO', 'Sample', 'tissue', 'age', 'sex', 'location', 'diagnosis', 'library', 'dose_value', 'dose_unit', 'perturbation', 'tissue_type', 'cancer', 'disease', 'celltype', 'organism', 'perturbation_type', 'ncounts', 'ngenes', 'percent_mito', 'percent_ribo', 'nperts', 'n_counts', 'S_score', 'G2M_score', 'phase', 'cycling'\n",
       "    var: 'ncounts', 'ncells', 'n_cells', 'highly_variable', 'highly_variable_rank', 'means', 'variances', 'variances_norm'\n",
       "    uns: 'hvg', 'neighbors', 'pca'\n",
       "    obsm: 'X_pca'\n",
       "    varm: 'PCs'\n",
       "    layers: 'counts'\n",
       "    obsp: 'connectivities', 'distances'"
      ]
     },
     "execution_count": 29,
     "metadata": {},
     "output_type": "execute_result"
    }
   ],
   "source": [
    "adata"
   ]
  },
  {
   "cell_type": "code",
   "execution_count": 30,
   "id": "1a14333c",
   "metadata": {
    "ExecuteTime": {
     "end_time": "2022-08-05T18:15:36.255926Z",
     "start_time": "2022-08-05T18:15:36.169902Z"
    }
   },
   "outputs": [
    {
     "data": {
      "text/plain": [
       "AnnData object with n_obs × n_vars = 2000 × 26154\n",
       "    obs: 'sample', 'GEO', 'Sample', 'tissue', 'age', 'sex', 'location', 'diagnosis', 'library', 'dose_value', 'dose_unit', 'perturbation', 'tissue_type', 'cancer', 'disease', 'celltype', 'organism', 'perturbation_type', 'ncounts', 'ngenes', 'percent_mito', 'percent_ribo', 'nperts', 'n_counts', 'S_score', 'G2M_score', 'phase', 'cycling'\n",
       "    var: 'ncounts', 'ncells', 'n_cells', 'highly_variable', 'highly_variable_rank', 'means', 'variances', 'variances_norm'\n",
       "    uns: 'hvg', 'neighbors', 'pca'\n",
       "    obsm: 'X_pca'\n",
       "    varm: 'PCs'\n",
       "    layers: 'counts'\n",
       "    obsp: 'connectivities', 'distances'"
      ]
     },
     "execution_count": 30,
     "metadata": {},
     "output_type": "execute_result"
    }
   ],
   "source": [
    "subdata = sc.pp.subsample(adata, n_obs=2000, copy=True)\n",
    "subdata"
   ]
  },
  {
   "cell_type": "code",
   "execution_count": 31,
   "id": "0d5837e9",
   "metadata": {
    "ExecuteTime": {
     "end_time": "2022-08-05T19:08:21.397595Z",
     "start_time": "2022-08-05T18:15:42.546854Z"
    }
   },
   "outputs": [
    {
     "name": "stdout",
     "output_type": "stream",
     "text": [
      "Computing distances for Ana-12\n",
      "57 samples in Ana-12 cycling,is smaller than 500\n",
      "237 samples in Ana-12 non-cycling,is smaller than 500\n"
     ]
    },
    {
     "name": "stderr",
     "output_type": "stream",
     "text": [
      "Computing distances: 100%|██████████| 100/100 [07:38<00:00,  4.59s/it]\n"
     ]
    },
    {
     "name": "stdout",
     "output_type": "stream",
     "text": [
      "Computing distances for Ispenisib\n",
      "58 samples in Ispenisib cycling,is smaller than 500\n",
      "240 samples in Ispenisib non-cycling,is smaller than 500\n"
     ]
    },
    {
     "name": "stderr",
     "output_type": "stream",
     "text": [
      "Computing distances: 100%|██████████| 100/100 [07:38<00:00,  4.58s/it]\n"
     ]
    },
    {
     "name": "stdout",
     "output_type": "stream",
     "text": [
      "Computing distances for RO4929097\n",
      "56 samples in RO4929097 cycling,is smaller than 500\n",
      "238 samples in RO4929097 non-cycling,is smaller than 500\n"
     ]
    },
    {
     "name": "stderr",
     "output_type": "stream",
     "text": [
      "Computing distances: 100%|██████████| 100/100 [07:36<00:00,  4.57s/it]\n"
     ]
    },
    {
     "name": "stdout",
     "output_type": "stream",
     "text": [
      "Computing distances for Tazemetostat\n",
      "62 samples in Tazemetostat cycling,is smaller than 500\n",
      "235 samples in Tazemetostat non-cycling,is smaller than 500\n"
     ]
    },
    {
     "name": "stderr",
     "output_type": "stream",
     "text": [
      "Computing distances: 100%|██████████| 100/100 [07:34<00:00,  4.55s/it]\n"
     ]
    },
    {
     "name": "stdout",
     "output_type": "stream",
     "text": [
      "Computing distances for control\n",
      "71 samples in control cycling,is smaller than 500\n",
      "199 samples in control non-cycling,is smaller than 500\n"
     ]
    },
    {
     "name": "stderr",
     "output_type": "stream",
     "text": [
      "Computing distances: 100%|██████████| 100/100 [07:34<00:00,  4.54s/it]\n"
     ]
    },
    {
     "name": "stdout",
     "output_type": "stream",
     "text": [
      "Computing distances for etoposide\n",
      "95 samples in etoposide cycling,is smaller than 500\n",
      "171 samples in etoposide non-cycling,is smaller than 500\n"
     ]
    },
    {
     "name": "stderr",
     "output_type": "stream",
     "text": [
      "Computing distances: 100%|██████████| 100/100 [07:25<00:00,  4.45s/it]\n"
     ]
    },
    {
     "name": "stdout",
     "output_type": "stream",
     "text": [
      "Computing distances for panobinostat\n",
      "70 samples in panobinostat cycling,is smaller than 500\n",
      "211 samples in panobinostat non-cycling,is smaller than 500\n"
     ]
    },
    {
     "name": "stderr",
     "output_type": "stream",
     "text": [
      "Computing distances: 100%|██████████| 100/100 [07:10<00:00,  4.31s/it]\n"
     ]
    }
   ],
   "source": [
    "distances, p_values = scmmd.compute_mmd_contrast(\n",
    "    adata=subdata, # [Cells, Genes] object\n",
    "    representation='X_pca', # representation to use, \"X\" or key in `adata.obsm`.\n",
    "    groupby='perturbation', # a categorical grouping variable in `adata.obs`\n",
    "    contrast='cycling', # a binary contrast in `adata.obs`\n",
    "    n_iters=100, # number of random sampling iterations\n",
    "    sample_size=500, # sample size for random samples\n",
    "    n_permutations=1000, # permutations for p-val calculations\n",
    ")"
   ]
  },
  {
   "cell_type": "code",
   "execution_count": 33,
   "id": "f9326eeb",
   "metadata": {
    "ExecuteTime": {
     "end_time": "2022-08-05T20:06:15.701146Z",
     "start_time": "2022-08-05T20:06:15.697965Z"
    }
   },
   "outputs": [
    {
     "data": {
      "text/plain": [
       "(7, 100, 3)"
      ]
     },
     "execution_count": 33,
     "metadata": {},
     "output_type": "execute_result"
    }
   ],
   "source": [
    "distances.shape  # [perturbations, Iterations, (Contrast, A-A, B-B)]"
   ]
  },
  {
   "cell_type": "code",
   "execution_count": 52,
   "id": "645cd6b2",
   "metadata": {
    "ExecuteTime": {
     "end_time": "2022-08-05T20:10:52.836315Z",
     "start_time": "2022-08-05T20:10:52.833220Z"
    }
   },
   "outputs": [],
   "source": [
    "md = np.mean(distances, axis=1)[:,0]\n",
    "pv = np.mean(p_values, axis=1)"
   ]
  },
  {
   "cell_type": "code",
   "execution_count": 62,
   "id": "a15b85cb",
   "metadata": {
    "ExecuteTime": {
     "end_time": "2022-08-05T20:11:54.887072Z",
     "start_time": "2022-08-05T20:11:54.779912Z"
    }
   },
   "outputs": [
    {
     "data": {
      "image/png": "[encoded data removed]",
      "text/plain": [
       "<Figure size 432x288 with 1 Axes>"
      ]
     },
     "metadata": {
      "needs_background": "light"
     },
     "output_type": "display_data"
    }
   ],
   "source": [
    "pl.bar(np.arange(len(md)), md)\n",
    "pl.xticks(np.arange(len(md)), np.unique(subdata.obs.perturbation), rotation=90)\n",
    "pl.ylabel('Maximum mean discrepancy\\nbetween cycling and non-cycling')\n",
    "pl.title('Maximum mean discrepancy')\n",
    "pl.show()"
   ]
  },
  {
   "cell_type": "code",
   "execution_count": null,
   "id": "0c3cfcfc",
   "metadata": {},
   "outputs": [],
   "source": []
  },
  {
   "cell_type": "code",
   "execution_count": null,
   "id": "1faef06f",
   "metadata": {},
   "outputs": [],
   "source": []
  },
  {
   "cell_type": "code",
   "execution_count": null,
   "id": "a14cc45a",
   "metadata": {},
   "outputs": [],
   "source": []
  }
 ],
 "metadata": {
  "hide_input": false,
  "kernelspec": {
   "display_name": "Python 3",
   "language": "python",
   "name": "python3"
  },
  "language_info": {
   "codemirror_mode": {
    "name": "ipython",
    "version": 3
   },
   "file_extension": ".py",
   "mimetype": "text/x-python",
   "name": "python",
   "nbconvert_exporter": "python",
   "pygments_lexer": "ipython3",
   "version": "3.9.5"
  }
 },
 "nbformat": 4,
 "nbformat_minor": 5
}
