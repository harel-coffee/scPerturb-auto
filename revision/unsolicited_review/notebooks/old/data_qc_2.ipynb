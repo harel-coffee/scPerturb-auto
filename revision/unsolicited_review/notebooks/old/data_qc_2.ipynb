{
 "cells": [
  {
   "cell_type": "code",
   "execution_count": 1,
   "id": "580b2443",
   "metadata": {
    "ExecuteTime": {
     "end_time": "2022-06-21T17:44:43.256404Z",
     "start_time": "2022-06-21T17:44:40.001758Z"
    }
   },
   "outputs": [
    {
     "data": {
      "text/html": [
       "<style>.container { width:95% !important; }</style>"
      ],
      "text/plain": [
       "<IPython.core.display.HTML object>"
      ]
     },
     "metadata": {},
     "output_type": "display_data"
    }
   ],
   "source": [
    "import subprocess\n",
    "import os\n",
    "import sys\n",
    "import matplotlib.backends.backend_pdf\n",
    "import scanpy as sc\n",
    "import matplotlib.pyplot as pl\n",
    "import anndata as ad\n",
    "import pandas as pd\n",
    "import numpy as np\n",
    "import scvelo as scv\n",
    "scv.settings.verbosity=1\n",
    "\n",
    "# Jupyter stuff\n",
    "from tqdm.notebook import tqdm\n",
    "from IPython.display import clear_output\n",
    "from IPython.core.display import display, HTML\n",
    "display(HTML(\"<style>.container { width:95% !important; }</style>\"))\n",
    "%matplotlib inline\n",
    "\n",
    "# Custom functions\n",
    "sys.path.insert(1, '../..')\n",
    "from utils import *"
   ]
  },
  {
   "cell_type": "code",
   "execution_count": 2,
   "id": "564a970b",
   "metadata": {
    "ExecuteTime": {
     "end_time": "2022-06-21T17:45:05.136822Z",
     "start_time": "2022-06-21T17:45:04.820800Z"
    }
   },
   "outputs": [],
   "source": [
    "# paths\n",
    "at_home = False if '/fast/work/users/' in os.getcwd() else True\n",
    "data_path = '/extra/stefan/data/perturbation_resource_paper/' if at_home else '/fast/work/users/peidlis_c/data/perturbation_resource_paper/'\n",
    "signatures_path = '/home/peidli/utils/scrnaseq_signature_collection/' if at_home else '/fast/work/users/peidlis_c/utils/scrnaseq_signature_collection/'\n",
    "utils_path = '/extra/stefan/utils/scrnaseq_utils/' if at_home else '/fast/work/users/peidlis_c/utils/single_cell_rna_seq/scrnaseq_utils/'\n",
    "\n",
    "# Stefan's utils\n",
    "sys.path.insert(1, utils_path)\n",
    "from scrnaseq_util_functions import *"
   ]
  },
  {
   "cell_type": "markdown",
   "id": "04384b7d",
   "metadata": {},
   "source": [
    "# Load data"
   ]
  },
  {
   "cell_type": "code",
   "execution_count": 13,
   "id": "da853316",
   "metadata": {
    "ExecuteTime": {
     "end_time": "2022-06-21T17:48:24.924682Z",
     "start_time": "2022-06-21T17:48:24.907193Z"
    }
   },
   "outputs": [
    {
     "name": "stdout",
     "output_type": "stream",
     "text": [
      "32\n"
     ]
    },
    {
     "data": {
      "text/plain": [
       "['PapalexiSatija2021_eccite_arrayed_RNA',\n",
       " 'PapalexiSatija2021_eccite_RNA',\n",
       " 'TianKampmann2021_CRISPRa',\n",
       " 'TianKampmann2021_CRISPRi',\n",
       " 'XieHon2017',\n",
       " 'AissaBenevolenskaya2021',\n",
       " 'McFarlandTshemiak2020_all_expts_combined',\n",
       " 'GasperiniShendure2019_lowMOI',\n",
       " 'GasperiniShendure2019_atscale',\n",
       " 'GasperiniShendure2019_highMOI',\n",
       " 'ZhaoSims2021',\n",
       " 'DixitRegev2016',\n",
       " 'DatlingerBock2017',\n",
       " 'DatlingerBock2021',\n",
       " 'FrangiehIzar2021_RNA',\n",
       " 'WeinrebKlein2020',\n",
       " 'ShifrutMarson2018',\n",
       " 'K562_essential.h',\n",
       " 'ChangYe2021',\n",
       " 'SchiebingerLander2019_GSE115943',\n",
       " 'SchiebingerLander2019_GSE106340',\n",
       " 'NormanWeissman2019_filtered',\n",
       " 'SchraivogelSteinmetz2020_TAP_SCREEN__chromosome_11_screen',\n",
       " 'SchraivogelSteinmetz2020_TAP_SCREEN__chromosome_8_screen',\n",
       " 'AdamsonWeissman2016_GSM2406677_10X005',\n",
       " 'AdamsonWeissman2016_GSM2406681_10X010',\n",
       " 'AdamsonWeissman2016_GSM2406675_10X001',\n",
       " 'SrivatsanTrapnell2020_sciplex2',\n",
       " 'SrivatsanTrapnell2020_sciplex3',\n",
       " 'SrivatsanTrapnell2020_sciplex4',\n",
       " 'TianKampmann2019_day7neuron',\n",
       " 'TianKampmann2019_iPSC']"
      ]
     },
     "execution_count": 13,
     "metadata": {},
     "output_type": "execute_result"
    }
   ],
   "source": [
    "h5_files = {}\n",
    "for path, subdirs, files in os.walk(data_path):\n",
    "    for name in files:\n",
    "        if '.h5' in name and 'scATAC' not in name: h5_files[name[:-3]] = os.path.join(path, name)\n",
    "del h5_files['exampledataset']\n",
    "del h5_files['NormanWeissman2019_raw']\n",
    "del h5_files['PapalexiSatija2021_eccite_arrayed_protein']\n",
    "del h5_files['PapalexiSatija2021_eccite_protein']\n",
    "del h5_files['FrangiehIzar2021_protein']\n",
    "del h5_files['gene_scores']\n",
    "del h5_files['peak_bc']\n",
    "del h5_files['ChromVar']\n",
    "del h5_files['LSI_embedding']\n",
    "del h5_files['markerpeak_target']\n",
    "print(len(h5_files))\n",
    "list(h5_files.keys())"
   ]
  },
  {
   "cell_type": "code",
   "execution_count": 14,
   "id": "a3593d82",
   "metadata": {
    "ExecuteTime": {
     "end_time": "2022-06-21T17:48:42.261595Z",
     "start_time": "2022-06-21T17:48:28.523052Z"
    }
   },
   "outputs": [
    {
     "name": "stderr",
     "output_type": "stream",
     "text": [
      " 53%|█████▎    | 17/32 [00:07<00:04,  3.15it/s]"
     ]
    },
    {
     "name": "stdout",
     "output_type": "stream",
     "text": [
      "Annotation failed for K562_essential.h.\n"
     ]
    },
    {
     "name": "stderr",
     "output_type": "stream",
     "text": [
      "100%|██████████| 32/32 [00:13<00:00,  2.38it/s]\n"
     ]
    }
   ],
   "source": [
    "obses = {}\n",
    "vares = {}\n",
    "for name, path in tqdm(h5_files.items()):\n",
    "    try:\n",
    "        obses[name] = pd.read_csv(os.path.dirname(path)+'/obs.csv', index_col=0)\n",
    "        vares[name] = pd.read_csv(os.path.dirname(path)+'/var.csv', index_col=0)\n",
    "    except:\n",
    "        print(f'Annotation failed for {name}.')\n"
   ]
  },
  {
   "cell_type": "code",
   "execution_count": 15,
   "id": "3b286c0e",
   "metadata": {
    "ExecuteTime": {
     "end_time": "2022-06-21T17:48:42.270651Z",
     "start_time": "2022-06-21T17:48:42.263393Z"
    }
   },
   "outputs": [
    {
     "data": {
      "text/plain": [
       "Index(['Title', 'doi/url', 'First author', 'Selected other authors',\n",
       "       'Corresponding Emails', 'Organisms', 'Modality = Data type', 'Method',\n",
       "       'Sequencer', 'Library construction', 'data access', 'GSE', 'Tissues',\n",
       "       'Perturbation', 'Leukemia', 'Solid Cancer', 'Notes',\n",
       "       '# samples, cells or runs', 'multiple time points?',\n",
       "       'multiple concentrations?', 'combined perturbations?',\n",
       "       'Date of Submission', 'sgRNA library', 'Download status',\n",
       "       'Mini-Abstract (loosely summarized original Abstract)'],\n",
       "      dtype='object')"
      ]
     },
     "execution_count": 15,
     "metadata": {},
     "output_type": "execute_result"
    }
   ],
   "source": [
    "metadata = pd.read_csv('../../tables/publicly_available_singlecell_perturbation_data_24032022.csv', index_col=0)\n",
    "metadata.keys()"
   ]
  },
  {
   "cell_type": "markdown",
   "id": "7ecaceb7",
   "metadata": {},
   "source": [
    "# Num"
   ]
  },
  {
   "cell_type": "code",
   "execution_count": 18,
   "id": "d254e290",
   "metadata": {
    "ExecuteTime": {
     "end_time": "2022-06-21T17:49:13.742977Z",
     "start_time": "2022-06-21T17:49:13.740517Z"
    }
   },
   "outputs": [],
   "source": [
    "df = obses[list(obses.keys())[0]]"
   ]
  },
  {
   "cell_type": "code",
   "execution_count": 22,
   "id": "33271cb2",
   "metadata": {
    "ExecuteTime": {
     "end_time": "2022-06-21T17:49:48.763297Z",
     "start_time": "2022-06-21T17:49:48.608128Z"
    }
   },
   "outputs": [
    {
     "data": {
      "text/plain": [
       "<AxesSubplot:ylabel='ncounts'>"
      ]
     },
     "execution_count": 22,
     "metadata": {},
     "output_type": "execute_result"
    },
    {
     "data": {
      "image/png": "[encoded data removed]",
      "text/plain": [
       "<Figure size 432x288 with 1 Axes>"
      ]
     },
     "metadata": {
      "needs_background": "light"
     },
     "output_type": "display_data"
    }
   ],
   "source": [
    "sns.violinplot(data=df, y='ncounts')"
   ]
  },
  {
   "cell_type": "code",
   "execution_count": 38,
   "id": "3c343a1d",
   "metadata": {
    "ExecuteTime": {
     "end_time": "2022-06-21T18:02:13.788313Z",
     "start_time": "2022-06-21T18:02:13.764278Z"
    }
   },
   "outputs": [
    {
     "name": "stderr",
     "output_type": "stream",
     "text": [
      "100%|██████████| 31/31 [00:00<00:00, 1722.71it/s]\n"
     ]
    }
   ],
   "source": [
    "entries = {}\n",
    "feats = ['ncounts', 'ngenes']\n",
    "for key in tqdm(obses.keys()):\n",
    "    df = obses[key]\n",
    "    try:\n",
    "        entries[key] = [np.mean(df[f]) for f in feats]\n",
    "    except:\n",
    "        pass"
   ]
  },
  {
   "cell_type": "code",
   "execution_count": 39,
   "id": "cf3791be",
   "metadata": {
    "ExecuteTime": {
     "end_time": "2022-06-21T18:02:15.896706Z",
     "start_time": "2022-06-21T18:02:15.886466Z"
    }
   },
   "outputs": [
    {
     "data": {
      "text/html": [
       "<div>\n",
       "<style scoped>\n",
       "    .dataframe tbody tr th:only-of-type {\n",
       "        vertical-align: middle;\n",
       "    }\n",
       "\n",
       "    .dataframe tbody tr th {\n",
       "        vertical-align: top;\n",
       "    }\n",
       "\n",
       "    .dataframe thead th {\n",
       "        text-align: right;\n",
       "    }\n",
       "</style>\n",
       "<table border=\"1\" class=\"dataframe\">\n",
       "  <thead>\n",
       "    <tr style=\"text-align: right;\">\n",
       "      <th></th>\n",
       "      <th>ncounts</th>\n",
       "      <th>ngenes</th>\n",
       "    </tr>\n",
       "  </thead>\n",
       "  <tbody>\n",
       "    <tr>\n",
       "      <th>PapalexiSatija2021_eccite_arrayed_RNA</th>\n",
       "      <td>7767.093500</td>\n",
       "      <td>2554.936776</td>\n",
       "    </tr>\n",
       "    <tr>\n",
       "      <th>PapalexiSatija2021_eccite_RNA</th>\n",
       "      <td>13259.987119</td>\n",
       "      <td>3354.192146</td>\n",
       "    </tr>\n",
       "    <tr>\n",
       "      <th>TianKampmann2021_CRISPRa</th>\n",
       "      <td>10910.682584</td>\n",
       "      <td>3476.868022</td>\n",
       "    </tr>\n",
       "    <tr>\n",
       "      <th>TianKampmann2021_CRISPRi</th>\n",
       "      <td>14820.948266</td>\n",
       "      <td>4431.089443</td>\n",
       "    </tr>\n",
       "    <tr>\n",
       "      <th>XieHon2017</th>\n",
       "      <td>88739.620492</td>\n",
       "      <td>3442.310096</td>\n",
       "    </tr>\n",
       "    <tr>\n",
       "      <th>McFarlandTshemiak2020_all_expts_combined</th>\n",
       "      <td>22159.952612</td>\n",
       "      <td>3889.984093</td>\n",
       "    </tr>\n",
       "    <tr>\n",
       "      <th>GasperiniShendure2019_lowMOI</th>\n",
       "      <td>22108.307698</td>\n",
       "      <td>3755.207175</td>\n",
       "    </tr>\n",
       "    <tr>\n",
       "      <th>GasperiniShendure2019_atscale</th>\n",
       "      <td>18171.176834</td>\n",
       "      <td>3371.526268</td>\n",
       "    </tr>\n",
       "    <tr>\n",
       "      <th>GasperiniShendure2019_highMOI</th>\n",
       "      <td>19305.300147</td>\n",
       "      <td>3675.874334</td>\n",
       "    </tr>\n",
       "    <tr>\n",
       "      <th>ZhaoSims2021</th>\n",
       "      <td>3358.898068</td>\n",
       "      <td>1473.238139</td>\n",
       "    </tr>\n",
       "    <tr>\n",
       "      <th>DatlingerBock2017</th>\n",
       "      <td>8567.240982</td>\n",
       "      <td>2789.345470</td>\n",
       "    </tr>\n",
       "    <tr>\n",
       "      <th>DatlingerBock2021</th>\n",
       "      <td>957.881436</td>\n",
       "      <td>273.351508</td>\n",
       "    </tr>\n",
       "    <tr>\n",
       "      <th>FrangiehIzar2021_RNA</th>\n",
       "      <td>12700.372815</td>\n",
       "      <td>3392.721345</td>\n",
       "    </tr>\n",
       "    <tr>\n",
       "      <th>WeinrebKlein2020</th>\n",
       "      <td>3229.886430</td>\n",
       "      <td>1463.464234</td>\n",
       "    </tr>\n",
       "    <tr>\n",
       "      <th>ShifrutMarson2018</th>\n",
       "      <td>6602.449364</td>\n",
       "      <td>2067.847174</td>\n",
       "    </tr>\n",
       "    <tr>\n",
       "      <th>ChangYe2021</th>\n",
       "      <td>22044.779573</td>\n",
       "      <td>5439.283629</td>\n",
       "    </tr>\n",
       "    <tr>\n",
       "      <th>SchiebingerLander2019_GSE115943</th>\n",
       "      <td>13433.577288</td>\n",
       "      <td>2704.406525</td>\n",
       "    </tr>\n",
       "    <tr>\n",
       "      <th>SchiebingerLander2019_GSE106340</th>\n",
       "      <td>8259.156177</td>\n",
       "      <td>2383.194867</td>\n",
       "    </tr>\n",
       "    <tr>\n",
       "      <th>NormanWeissman2019_filtered</th>\n",
       "      <td>14674.388613</td>\n",
       "      <td>3244.493885</td>\n",
       "    </tr>\n",
       "    <tr>\n",
       "      <th>SchraivogelSteinmetz2020_TAP_SCREEN__chromosome_11_screen</th>\n",
       "      <td>1725.675854</td>\n",
       "      <td>60.285346</td>\n",
       "    </tr>\n",
       "    <tr>\n",
       "      <th>SchraivogelSteinmetz2020_TAP_SCREEN__chromosome_8_screen</th>\n",
       "      <td>1445.200062</td>\n",
       "      <td>61.168546</td>\n",
       "    </tr>\n",
       "    <tr>\n",
       "      <th>AdamsonWeissman2016_GSM2406677_10X005</th>\n",
       "      <td>25340.052512</td>\n",
       "      <td>4235.199187</td>\n",
       "    </tr>\n",
       "    <tr>\n",
       "      <th>AdamsonWeissman2016_GSM2406681_10X010</th>\n",
       "      <td>15915.297580</td>\n",
       "      <td>3639.789813</td>\n",
       "    </tr>\n",
       "    <tr>\n",
       "      <th>AdamsonWeissman2016_GSM2406675_10X001</th>\n",
       "      <td>10166.141817</td>\n",
       "      <td>2557.463592</td>\n",
       "    </tr>\n",
       "    <tr>\n",
       "      <th>SrivatsanTrapnell2020_sciplex2</th>\n",
       "      <td>5325.409983</td>\n",
       "      <td>2478.567348</td>\n",
       "    </tr>\n",
       "    <tr>\n",
       "      <th>SrivatsanTrapnell2020_sciplex3</th>\n",
       "      <td>2460.324271</td>\n",
       "      <td>1260.350634</td>\n",
       "    </tr>\n",
       "    <tr>\n",
       "      <th>SrivatsanTrapnell2020_sciplex4</th>\n",
       "      <td>1884.213375</td>\n",
       "      <td>1053.840121</td>\n",
       "    </tr>\n",
       "    <tr>\n",
       "      <th>TianKampmann2019_day7neuron</th>\n",
       "      <td>1987.397194</td>\n",
       "      <td>597.594015</td>\n",
       "    </tr>\n",
       "    <tr>\n",
       "      <th>TianKampmann2019_iPSC</th>\n",
       "      <td>2283.151624</td>\n",
       "      <td>522.636064</td>\n",
       "    </tr>\n",
       "  </tbody>\n",
       "</table>\n",
       "</div>"
      ],
      "text/plain": [
       "                                                         ncounts       ngenes\n",
       "PapalexiSatija2021_eccite_arrayed_RNA                7767.093500  2554.936776\n",
       "PapalexiSatija2021_eccite_RNA                       13259.987119  3354.192146\n",
       "TianKampmann2021_CRISPRa                            10910.682584  3476.868022\n",
       "TianKampmann2021_CRISPRi                            14820.948266  4431.089443\n",
       "XieHon2017                                          88739.620492  3442.310096\n",
       "McFarlandTshemiak2020_all_expts_combined            22159.952612  3889.984093\n",
       "GasperiniShendure2019_lowMOI                        22108.307698  3755.207175\n",
       "GasperiniShendure2019_atscale                       18171.176834  3371.526268\n",
       "GasperiniShendure2019_highMOI                       19305.300147  3675.874334\n",
       "ZhaoSims2021                                         3358.898068  1473.238139\n",
       "DatlingerBock2017                                    8567.240982  2789.345470\n",
       "DatlingerBock2021                                     957.881436   273.351508\n",
       "FrangiehIzar2021_RNA                                12700.372815  3392.721345\n",
       "WeinrebKlein2020                                     3229.886430  1463.464234\n",
       "ShifrutMarson2018                                    6602.449364  2067.847174\n",
       "ChangYe2021                                         22044.779573  5439.283629\n",
       "SchiebingerLander2019_GSE115943                     13433.577288  2704.406525\n",
       "SchiebingerLander2019_GSE106340                      8259.156177  2383.194867\n",
       "NormanWeissman2019_filtered                         14674.388613  3244.493885\n",
       "SchraivogelSteinmetz2020_TAP_SCREEN__chromosome...   1725.675854    60.285346\n",
       "SchraivogelSteinmetz2020_TAP_SCREEN__chromosome...   1445.200062    61.168546\n",
       "AdamsonWeissman2016_GSM2406677_10X005               25340.052512  4235.199187\n",
       "AdamsonWeissman2016_GSM2406681_10X010               15915.297580  3639.789813\n",
       "AdamsonWeissman2016_GSM2406675_10X001               10166.141817  2557.463592\n",
       "SrivatsanTrapnell2020_sciplex2                       5325.409983  2478.567348\n",
       "SrivatsanTrapnell2020_sciplex3                       2460.324271  1260.350634\n",
       "SrivatsanTrapnell2020_sciplex4                       1884.213375  1053.840121\n",
       "TianKampmann2019_day7neuron                          1987.397194   597.594015\n",
       "TianKampmann2019_iPSC                                2283.151624   522.636064"
      ]
     },
     "execution_count": 39,
     "metadata": {},
     "output_type": "execute_result"
    }
   ],
   "source": [
    "res = pd.DataFrame(entries, index=feats).T\n",
    "res"
   ]
  },
  {
   "cell_type": "code",
   "execution_count": 41,
   "id": "902a378d",
   "metadata": {
    "ExecuteTime": {
     "end_time": "2022-06-21T18:02:36.785755Z",
     "start_time": "2022-06-21T18:02:36.626351Z"
    }
   },
   "outputs": [
    {
     "data": {
      "image/png": "[encoded data removed]",
      "text/plain": [
       "<Figure size 432x288 with 1 Axes>"
      ]
     },
     "metadata": {
      "needs_background": "light"
     },
     "output_type": "display_data"
    }
   ],
   "source": [
    "sns.scatterplot(data=res, x='ncounts', y='ngenes')\n",
    "pl.show()"
   ]
  },
  {
   "cell_type": "code",
   "execution_count": 45,
   "id": "0605e3a3",
   "metadata": {
    "ExecuteTime": {
     "end_time": "2022-06-21T18:37:04.618983Z",
     "start_time": "2022-06-21T18:37:04.457699Z"
    }
   },
   "outputs": [
    {
     "data": {
      "image/png": "[encoded data removed]",
      "text/plain": [
       "<Figure size 432x288 with 1 Axes>"
      ]
     },
     "metadata": {
      "needs_background": "light"
     },
     "output_type": "display_data"
    }
   ],
   "source": [
    "pl.hist(res.ncounts, bins=20)\n",
    "pl.show()"
   ]
  },
  {
   "cell_type": "code",
   "execution_count": null,
   "id": "308c3bee",
   "metadata": {},
   "outputs": [],
   "source": []
  },
  {
   "cell_type": "code",
   "execution_count": null,
   "id": "a2b6da4f",
   "metadata": {},
   "outputs": [],
   "source": []
  }
 ],
 "metadata": {
  "hide_input": false,
  "kernelspec": {
   "display_name": "Python 3",
   "language": "python",
   "name": "python3"
  },
  "language_info": {
   "codemirror_mode": {
    "name": "ipython",
    "version": 3
   },
   "file_extension": ".py",
   "mimetype": "text/x-python",
   "name": "python",
   "nbconvert_exporter": "python",
   "pygments_lexer": "ipython3",
   "version": "3.9.5"
  }
 },
 "nbformat": 4,
 "nbformat_minor": 5
}
