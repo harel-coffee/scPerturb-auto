{
 "cells": [
  {
   "cell_type": "code",
   "execution_count": 1,
   "id": "99bbbba2",
   "metadata": {
    "ExecuteTime": {
     "end_time": "2022-05-05T08:40:41.649147Z",
     "start_time": "2022-05-05T08:40:35.110716Z"
    }
   },
   "outputs": [
    {
     "data": {
      "text/html": [
       "<style>.container { width:95% !important; }</style>"
      ],
      "text/plain": [
       "<IPython.core.display.HTML object>"
      ]
     },
     "metadata": {},
     "output_type": "display_data"
    }
   ],
   "source": [
    "from tqdm.notebook import tqdm\n",
    "import scanpy as sc\n",
    "import matplotlib.pyplot as pl\n",
    "import anndata as ad\n",
    "import pandas as pd\n",
    "import numpy as np\n",
    "import seaborn as sns\n",
    "from IPython.core.display import display, HTML\n",
    "display(HTML(\"<style>.container { width:95% !important; }</style>\"))\n",
    "%matplotlib inline\n",
    "import scvelo as scv\n",
    "scv.settings.verbosity=1"
   ]
  },
  {
   "cell_type": "code",
   "execution_count": 2,
   "id": "89f39701",
   "metadata": {
    "ExecuteTime": {
     "end_time": "2022-05-05T08:40:42.687630Z",
     "start_time": "2022-05-05T08:40:41.650856Z"
    }
   },
   "outputs": [],
   "source": [
    "import sys\n",
    "sys.path.insert(1, '/fast/work/users/peidlis_c/utils/single_cell_rna_seq/scrnaseq_utils/')\n",
    "# sys.path.insert(1, '/extra/stefan/utils/scrnaseq_utils/')\n",
    "from scrnaseq_util_functions import *"
   ]
  },
  {
   "cell_type": "markdown",
   "id": "9a8d6b28",
   "metadata": {
    "heading_collapsed": true
   },
   "source": [
    "# Test"
   ]
  },
  {
   "cell_type": "code",
   "execution_count": 3,
   "id": "365686a5",
   "metadata": {
    "ExecuteTime": {
     "end_time": "2021-12-17T11:45:13.120922Z",
     "start_time": "2021-12-17T11:45:11.610605Z"
    },
    "hidden": true
   },
   "outputs": [
    {
     "data": {
      "application/vnd.jupyter.widget-view+json": {
       "model_id": "e93165ded6c94a839c5e4fa1af961c97",
       "version_major": 2,
       "version_minor": 0
      },
      "text/plain": [
       "  0%|          | 0.00/23.5M [00:00<?, ?B/s]"
      ]
     },
     "metadata": {},
     "output_type": "display_data"
    }
   ],
   "source": [
    "adata = sc.datasets.pbmc3k_processed()"
   ]
  },
  {
   "cell_type": "code",
   "execution_count": 4,
   "id": "ceedefe1",
   "metadata": {
    "ExecuteTime": {
     "end_time": "2021-12-17T11:45:14.984124Z",
     "start_time": "2021-12-17T11:45:14.977834Z"
    },
    "hidden": true
   },
   "outputs": [
    {
     "data": {
      "text/plain": [
       "AnnData object with n_obs × n_vars = 2638 × 1838\n",
       "    obs: 'n_genes', 'percent_mito', 'n_counts', 'louvain'\n",
       "    var: 'n_cells'\n",
       "    uns: 'draw_graph', 'louvain', 'louvain_colors', 'neighbors', 'pca', 'rank_genes_groups'\n",
       "    obsm: 'X_pca', 'X_tsne', 'X_umap', 'X_draw_graph_fr'\n",
       "    varm: 'PCs'\n",
       "    obsp: 'distances', 'connectivities'"
      ]
     },
     "execution_count": 4,
     "metadata": {},
     "output_type": "execute_result"
    }
   ],
   "source": [
    "adata"
   ]
  },
  {
   "cell_type": "code",
   "execution_count": null,
   "id": "88eaa533",
   "metadata": {
    "hidden": true
   },
   "outputs": [],
   "source": [
    "variables = adata.obs[['louvain']]\n",
    "for obs_key in bla:\n",
    "    "
   ]
  },
  {
   "cell_type": "code",
   "execution_count": 15,
   "id": "7d678622",
   "metadata": {
    "ExecuteTime": {
     "end_time": "2021-12-17T11:56:01.020588Z",
     "start_time": "2021-12-17T11:56:01.015082Z"
    },
    "hidden": true
   },
   "outputs": [],
   "source": []
  },
  {
   "cell_type": "code",
   "execution_count": 22,
   "id": "1f769caf",
   "metadata": {
    "ExecuteTime": {
     "end_time": "2021-12-17T11:56:49.218373Z",
     "start_time": "2021-12-17T11:56:49.187008Z"
    },
    "hidden": true
   },
   "outputs": [
    {
     "data": {
      "text/html": [
       "<div>\n",
       "<style scoped>\n",
       "    .dataframe tbody tr th:only-of-type {\n",
       "        vertical-align: middle;\n",
       "    }\n",
       "\n",
       "    .dataframe tbody tr th {\n",
       "        vertical-align: top;\n",
       "    }\n",
       "\n",
       "    .dataframe thead th {\n",
       "        text-align: right;\n",
       "    }\n",
       "</style>\n",
       "<table border=\"1\" class=\"dataframe\">\n",
       "  <thead>\n",
       "    <tr style=\"text-align: right;\">\n",
       "      <th></th>\n",
       "      <th>PC0</th>\n",
       "      <th>PC1</th>\n",
       "      <th>PC2</th>\n",
       "      <th>PC3</th>\n",
       "      <th>PC4</th>\n",
       "      <th>PC5</th>\n",
       "      <th>PC6</th>\n",
       "      <th>PC7</th>\n",
       "      <th>PC8</th>\n",
       "      <th>PC9</th>\n",
       "      <th>...</th>\n",
       "      <th>PC40</th>\n",
       "      <th>PC41</th>\n",
       "      <th>PC42</th>\n",
       "      <th>PC43</th>\n",
       "      <th>PC44</th>\n",
       "      <th>PC45</th>\n",
       "      <th>PC46</th>\n",
       "      <th>PC47</th>\n",
       "      <th>PC48</th>\n",
       "      <th>PC49</th>\n",
       "    </tr>\n",
       "  </thead>\n",
       "  <tbody>\n",
       "    <tr>\n",
       "      <th>louvain</th>\n",
       "      <td>NaN</td>\n",
       "      <td>NaN</td>\n",
       "      <td>NaN</td>\n",
       "      <td>NaN</td>\n",
       "      <td>NaN</td>\n",
       "      <td>NaN</td>\n",
       "      <td>NaN</td>\n",
       "      <td>NaN</td>\n",
       "      <td>NaN</td>\n",
       "      <td>NaN</td>\n",
       "      <td>...</td>\n",
       "      <td>NaN</td>\n",
       "      <td>NaN</td>\n",
       "      <td>NaN</td>\n",
       "      <td>NaN</td>\n",
       "      <td>NaN</td>\n",
       "      <td>NaN</td>\n",
       "      <td>NaN</td>\n",
       "      <td>NaN</td>\n",
       "      <td>NaN</td>\n",
       "      <td>NaN</td>\n",
       "    </tr>\n",
       "  </tbody>\n",
       "</table>\n",
       "<p>1 rows × 50 columns</p>\n",
       "</div>"
      ],
      "text/plain": [
       "         PC0  PC1  PC2  PC3  PC4  PC5  PC6  PC7  PC8  PC9  ... PC40 PC41 PC42  \\\n",
       "louvain  NaN  NaN  NaN  NaN  NaN  NaN  NaN  NaN  NaN  NaN  ...  NaN  NaN  NaN   \n",
       "\n",
       "        PC43 PC44 PC45 PC46 PC47 PC48 PC49  \n",
       "louvain  NaN  NaN  NaN  NaN  NaN  NaN  NaN  \n",
       "\n",
       "[1 rows x 50 columns]"
      ]
     },
     "execution_count": 22,
     "metadata": {},
     "output_type": "execute_result"
    }
   ],
   "source": []
  },
  {
   "cell_type": "code",
   "execution_count": null,
   "id": "43b21d7d",
   "metadata": {
    "hidden": true
   },
   "outputs": [],
   "source": []
  },
  {
   "cell_type": "code",
   "execution_count": 150,
   "id": "61bdaf16",
   "metadata": {
    "ExecuteTime": {
     "end_time": "2021-12-17T12:46:44.683703Z",
     "start_time": "2021-12-17T12:46:44.659457Z"
    },
    "hidden": true
   },
   "outputs": [
    {
     "name": "stdout",
     "output_type": "stream",
     "text": [
      "(50,)\n"
     ]
    }
   ],
   "source": [
    "variables = adata.obs\n",
    "y = adata.obsm['X_pca']\n",
    "\n",
    "rsquared_mat = pd.DataFrame(columns=[f'PC{i+1}' for i in np.arange(y.shape[-1])], index=variables.keys())\n",
    "\n",
    "tss_all = None\n",
    "for v in variables.keys():\n",
    "    curvar = variables[v]\n",
    "    if len(np.unique(curvar))<=1:\n",
    "        print(f'Skipping {v} as it has less then 2 unique entries.')\n",
    "        continue\n",
    "    \n",
    "    # Protect against NAs in the metadata.\n",
    "    keep = ~pd.isna(curvar)\n",
    "    curvar = curvar[keep]\n",
    "    y = y[keep, :]\n",
    "    tss = np.var(y, axis=0) * (y.shape[0] - 1) # rowVars(block) * (ncol(block) - 1) \n",
    "print(tss.shape)"
   ]
  },
  {
   "cell_type": "code",
   "execution_count": 151,
   "id": "6a408353",
   "metadata": {
    "ExecuteTime": {
     "end_time": "2021-12-17T12:46:47.339007Z",
     "start_time": "2021-12-17T12:46:47.335403Z"
    },
    "hidden": true
   },
   "outputs": [],
   "source": [
    "# design <- model.matrix(~curvar)\n",
    "# fit <- fitLinearModel(y, design)\n",
    "# rss <- fit$variance * (nrow(design) - ncol(design))\n",
    "# rsquared_mat[, V] <- 1 - rss/tss"
   ]
  },
  {
   "cell_type": "code",
   "execution_count": 152,
   "id": "a4bb7b4c",
   "metadata": {
    "ExecuteTime": {
     "end_time": "2021-12-17T12:46:47.623989Z",
     "start_time": "2021-12-17T12:46:47.613822Z"
    },
    "hidden": true
   },
   "outputs": [],
   "source": [
    "# linear regression https://cmdlinetips.com/2020/03/linear-regression-using-matrix-multiplication-in-python-using-numpy/\n",
    "dummy_df = pd.get_dummies(curvar)  # dummy encoding\n",
    "dM = np.hstack((np.ones((len(dummy_df), 1)), dummy_df.values))  # add 1 first col for intercept for design matrix\n",
    "beta_hat = np.linalg.inv(dM.T.dot(dM)).dot(dM.T).dot(y)  # linear regression\n",
    "yhat = dM.dot(beta_hat)  # prediction"
   ]
  },
  {
   "cell_type": "code",
   "execution_count": 153,
   "id": "b10551b7",
   "metadata": {
    "ExecuteTime": {
     "end_time": "2021-12-17T12:46:48.041978Z",
     "start_time": "2021-12-17T12:46:48.002682Z"
    },
    "hidden": true
   },
   "outputs": [
    {
     "name": "stdout",
     "output_type": "stream",
     "text": [
      "(50,)\n"
     ]
    },
    {
     "data": {
      "text/html": [
       "<div>\n",
       "<style scoped>\n",
       "    .dataframe tbody tr th:only-of-type {\n",
       "        vertical-align: middle;\n",
       "    }\n",
       "\n",
       "    .dataframe tbody tr th {\n",
       "        vertical-align: top;\n",
       "    }\n",
       "\n",
       "    .dataframe thead th {\n",
       "        text-align: right;\n",
       "    }\n",
       "</style>\n",
       "<table border=\"1\" class=\"dataframe\">\n",
       "  <thead>\n",
       "    <tr style=\"text-align: right;\">\n",
       "      <th></th>\n",
       "      <th>PC1</th>\n",
       "      <th>PC2</th>\n",
       "      <th>PC3</th>\n",
       "      <th>PC4</th>\n",
       "      <th>PC5</th>\n",
       "      <th>PC6</th>\n",
       "      <th>PC7</th>\n",
       "      <th>PC8</th>\n",
       "      <th>PC9</th>\n",
       "      <th>PC10</th>\n",
       "      <th>...</th>\n",
       "      <th>PC41</th>\n",
       "      <th>PC42</th>\n",
       "      <th>PC43</th>\n",
       "      <th>PC44</th>\n",
       "      <th>PC45</th>\n",
       "      <th>PC46</th>\n",
       "      <th>PC47</th>\n",
       "      <th>PC48</th>\n",
       "      <th>PC49</th>\n",
       "      <th>PC50</th>\n",
       "    </tr>\n",
       "  </thead>\n",
       "  <tbody>\n",
       "    <tr>\n",
       "      <th>n_genes</th>\n",
       "      <td>NaN</td>\n",
       "      <td>NaN</td>\n",
       "      <td>NaN</td>\n",
       "      <td>NaN</td>\n",
       "      <td>NaN</td>\n",
       "      <td>NaN</td>\n",
       "      <td>NaN</td>\n",
       "      <td>NaN</td>\n",
       "      <td>NaN</td>\n",
       "      <td>NaN</td>\n",
       "      <td>...</td>\n",
       "      <td>NaN</td>\n",
       "      <td>NaN</td>\n",
       "      <td>NaN</td>\n",
       "      <td>NaN</td>\n",
       "      <td>NaN</td>\n",
       "      <td>NaN</td>\n",
       "      <td>NaN</td>\n",
       "      <td>NaN</td>\n",
       "      <td>NaN</td>\n",
       "      <td>NaN</td>\n",
       "    </tr>\n",
       "    <tr>\n",
       "      <th>percent_mito</th>\n",
       "      <td>NaN</td>\n",
       "      <td>NaN</td>\n",
       "      <td>NaN</td>\n",
       "      <td>NaN</td>\n",
       "      <td>NaN</td>\n",
       "      <td>NaN</td>\n",
       "      <td>NaN</td>\n",
       "      <td>NaN</td>\n",
       "      <td>NaN</td>\n",
       "      <td>NaN</td>\n",
       "      <td>...</td>\n",
       "      <td>NaN</td>\n",
       "      <td>NaN</td>\n",
       "      <td>NaN</td>\n",
       "      <td>NaN</td>\n",
       "      <td>NaN</td>\n",
       "      <td>NaN</td>\n",
       "      <td>NaN</td>\n",
       "      <td>NaN</td>\n",
       "      <td>NaN</td>\n",
       "      <td>NaN</td>\n",
       "    </tr>\n",
       "    <tr>\n",
       "      <th>n_counts</th>\n",
       "      <td>NaN</td>\n",
       "      <td>NaN</td>\n",
       "      <td>NaN</td>\n",
       "      <td>NaN</td>\n",
       "      <td>NaN</td>\n",
       "      <td>NaN</td>\n",
       "      <td>NaN</td>\n",
       "      <td>NaN</td>\n",
       "      <td>NaN</td>\n",
       "      <td>NaN</td>\n",
       "      <td>...</td>\n",
       "      <td>NaN</td>\n",
       "      <td>NaN</td>\n",
       "      <td>NaN</td>\n",
       "      <td>NaN</td>\n",
       "      <td>NaN</td>\n",
       "      <td>NaN</td>\n",
       "      <td>NaN</td>\n",
       "      <td>NaN</td>\n",
       "      <td>NaN</td>\n",
       "      <td>NaN</td>\n",
       "    </tr>\n",
       "    <tr>\n",
       "      <th>louvain</th>\n",
       "      <td>70.512869</td>\n",
       "      <td>85.009181</td>\n",
       "      <td>82.490103</td>\n",
       "      <td>71.848159</td>\n",
       "      <td>54.645876</td>\n",
       "      <td>28.87173</td>\n",
       "      <td>10.93661</td>\n",
       "      <td>14.344143</td>\n",
       "      <td>4.862346</td>\n",
       "      <td>1.387196</td>\n",
       "      <td>...</td>\n",
       "      <td>0.370586</td>\n",
       "      <td>0.346366</td>\n",
       "      <td>0.819412</td>\n",
       "      <td>0.363075</td>\n",
       "      <td>0.483046</td>\n",
       "      <td>0.37743</td>\n",
       "      <td>0.393805</td>\n",
       "      <td>0.413399</td>\n",
       "      <td>0.39234</td>\n",
       "      <td>0.50155</td>\n",
       "    </tr>\n",
       "  </tbody>\n",
       "</table>\n",
       "<p>4 rows × 50 columns</p>\n",
       "</div>"
      ],
      "text/plain": [
       "                    PC1        PC2        PC3        PC4        PC5       PC6  \\\n",
       "n_genes             NaN        NaN        NaN        NaN        NaN       NaN   \n",
       "percent_mito        NaN        NaN        NaN        NaN        NaN       NaN   \n",
       "n_counts            NaN        NaN        NaN        NaN        NaN       NaN   \n",
       "louvain       70.512869  85.009181  82.490103  71.848159  54.645876  28.87173   \n",
       "\n",
       "                   PC7        PC8       PC9      PC10  ...      PC41  \\\n",
       "n_genes            NaN        NaN       NaN       NaN  ...       NaN   \n",
       "percent_mito       NaN        NaN       NaN       NaN  ...       NaN   \n",
       "n_counts           NaN        NaN       NaN       NaN  ...       NaN   \n",
       "louvain       10.93661  14.344143  4.862346  1.387196  ...  0.370586   \n",
       "\n",
       "                  PC42      PC43      PC44      PC45     PC46      PC47  \\\n",
       "n_genes            NaN       NaN       NaN       NaN      NaN       NaN   \n",
       "percent_mito       NaN       NaN       NaN       NaN      NaN       NaN   \n",
       "n_counts           NaN       NaN       NaN       NaN      NaN       NaN   \n",
       "louvain       0.346366  0.819412  0.363075  0.483046  0.37743  0.393805   \n",
       "\n",
       "                  PC48     PC49     PC50  \n",
       "n_genes            NaN      NaN      NaN  \n",
       "percent_mito       NaN      NaN      NaN  \n",
       "n_counts           NaN      NaN      NaN  \n",
       "louvain       0.413399  0.39234  0.50155  \n",
       "\n",
       "[4 rows x 50 columns]"
      ]
     },
     "execution_count": 153,
     "metadata": {},
     "output_type": "execute_result"
    }
   ],
   "source": [
    "# R^2\n",
    "residuals = y-yhat\n",
    "mean_rsqu = np.mean(residuals**2, axis=0)\n",
    "# variance, a numeric vector of residual variances per row of x. Computed by summing the residual effects from the fitted model.\n",
    "residual_var = np.var(residuals, axis=0)  # must have dim == dim(tss)\n",
    "rss = residual_var * (dM.shape[0] - dM.shape[1])  # nrow - ncol of design matrix\n",
    "print(rss.shape)\n",
    "rsquared_mat.loc[v] = (1 - rss/tss) * 100\n",
    "rsquared_mat"
   ]
  },
  {
   "cell_type": "markdown",
   "id": "68fdb56f",
   "metadata": {
    "ExecuteTime": {
     "end_time": "2021-12-17T12:41:58.473519Z",
     "start_time": "2021-12-17T12:41:58.443348Z"
    },
    "heading_collapsed": true
   },
   "source": [
    "# Implementation"
   ]
  },
  {
   "cell_type": "code",
   "execution_count": 6,
   "id": "d70b45f3",
   "metadata": {
    "ExecuteTime": {
     "end_time": "2022-02-07T10:26:58.330431Z",
     "start_time": "2022-02-07T10:26:58.324452Z"
    },
    "hidden": true
   },
   "outputs": [],
   "source": [
    "from sklearn.linear_model import LinearRegression\n",
    "def getExplanatoryPCs(adata, obs_keys=None, use_rep='X_pca'):\n",
    "    \"\"\"Computes percentage of variance explained in PCA by variables in adata.obs.\n",
    "    \n",
    "    Python port of scater R function https://rdrr.io/github/davismcc/scater/src/R/getExplanatoryPCs.R\n",
    "\n",
    "    returns a pandas.DataFrame where columns are PCs and rows are obs_keys\n",
    "    \"\"\"\n",
    "    obs_keys = list(obs_keys) if isinstance(obs_keys, str) else obs_keys\n",
    "    variables = adata.obs if obs_keys==None else adata.obs[obs_keys]\n",
    "    if use_rep=='X_pca' and 'X_pca' not in adata.obsm.keys():\n",
    "        print(f'Could not find X_pca in adata.obsm. Running sc.pp.pca(adata)...')\n",
    "        sc.pp.pca(adata)\n",
    "    Y = adata.obsm[use_rep]\n",
    "    \n",
    "    # prepare output format\n",
    "    rsquared_mat = pd.DataFrame(columns=[f'PC{i+1}' for i in np.arange(Y.shape[-1])], index=variables.columns)\n",
    "    \n",
    "    for v in variables:\n",
    "        curvar = adata.obs[v]\n",
    "        \n",
    "        if len(pd.unique(curvar))<=1:\n",
    "            print(f'Skipping {v} as it has less then 2 unique entries.')\n",
    "            continue\n",
    "\n",
    "        # Protect against NAs in the metadata.\n",
    "        keep = ~pd.isna(curvar)\n",
    "        curvar = curvar[keep]\n",
    "        y = Y[keep, :] \n",
    "        \n",
    "        if pd.api.types.is_numeric_dtype(curvar):\n",
    "            X = curvar.values[:, np.newaxis]\n",
    "        else:\n",
    "            X = pd.get_dummies(curvar).values\n",
    "        \n",
    "        regression = LinearRegression()\n",
    "        linear_model = regression.fit(X, y)\n",
    "        yhat = linear_model.predict(X)\n",
    "        \n",
    "        tss = np.sum((y-np.mean(y, axis=0))**2, axis=0)  # total sum of squares\n",
    "        residuals = y - yhat\n",
    "        rss = np.sum(residuals**2, axis=0)  # residual sum of squares\n",
    "        \n",
    "        r_squared = 1 - rss/tss  # classical R^2\n",
    "        adjustment_factor = (y.shape[0] - 1) / (y.shape[0] - X.shape[1] - 1)  # degrees of freedom of the estimates\n",
    "        r_squared_adj = 1 - (rss/tss) * adjustment_factor  # adjusted R^2 for multiple linear model\n",
    "        rsquared_mat.loc[v] = r_squared_adj * 100\n",
    "\n",
    "    return rsquared_mat"
   ]
  },
  {
   "cell_type": "code",
   "execution_count": 7,
   "id": "372ac5ed",
   "metadata": {
    "ExecuteTime": {
     "end_time": "2022-02-07T10:26:58.865595Z",
     "start_time": "2022-02-07T10:26:58.861293Z"
    },
    "hidden": true
   },
   "outputs": [],
   "source": [
    "import matplotlib.ticker as mtick\n",
    "def getExplanatoryPCs_weighted(adata, obs_keys=None, use_rep='X_pca', normalize=False,\n",
    "                               sort=True, ascending=False, plot=False, show=True, style=\"whitegrid\"):\n",
    "    mat = getExplanatoryPCs(adata, obs_keys=obs_keys, use_rep=use_rep)\n",
    "    # weighted sum, variation explained in data via PCA\n",
    "    weights = adata.uns['pca']['variance_ratio']\n",
    "    if normalize:\n",
    "        weights /= np.sum(weights)\n",
    "    y = np.dot(mat.values, weights)  # PC variance explained weighted sum\n",
    "    tab = pd.DataFrame(y, index=mat.index, columns=['weighted_score']).T\n",
    "    if sort:\n",
    "        tab = tab.sort_values(by='weighted_score', axis=1, ascending=ascending)\n",
    "    if plot:\n",
    "        with sns.axes_style(style):\n",
    "            ax = sns.barplot(data=tab)\n",
    "        pl.xticks(rotation=90)\n",
    "        pl.ylabel('% Variance Explained')\n",
    "        pl.grid(True)\n",
    "        ax.yaxis.set_major_formatter(mtick.PercentFormatter())\n",
    "        if show: pl.show()\n",
    "    return tab"
   ]
  },
  {
   "cell_type": "markdown",
   "id": "987c5fc7",
   "metadata": {
    "heading_collapsed": true
   },
   "source": [
    "# Example"
   ]
  },
  {
   "cell_type": "code",
   "execution_count": 16,
   "id": "179da2b0",
   "metadata": {
    "ExecuteTime": {
     "end_time": "2022-02-07T10:28:48.501999Z",
     "start_time": "2022-02-07T10:28:48.446191Z"
    },
    "hidden": true
   },
   "outputs": [],
   "source": [
    "adata = sc.read('../exampledataset/exampledataset.h5')\n",
    "\n",
    "# adata = sc.read(\"/extra/cluster_archiv/scrnaseq/scperturb/h5_demuxed/OT227_filtered_annotated_scrnaseq_data.h5\")\n",
    "adata.obs = adata.obs.rename({'condition': 'perturbation'}, axis=1)\n",
    "adata.obs.perturbation = adata.obs.perturbation.cat.rename_categories({'CTRL': 'control'})\n",
    "adata = adata[adata.obs.perturbation!='nan'].copy()"
   ]
  },
  {
   "cell_type": "code",
   "execution_count": 17,
   "id": "2a506e77",
   "metadata": {
    "ExecuteTime": {
     "end_time": "2022-02-07T10:28:50.096208Z",
     "start_time": "2022-02-07T10:28:48.616720Z"
    },
    "hidden": true
   },
   "outputs": [],
   "source": [
    "adata.layers['counts'] = adata.X\n",
    "sc.pp.normalize_per_cell(adata)\n",
    "sc.pp.log1p(adata)\n",
    "\n",
    "sc.pp.pca(adata, n_comps=30)\n",
    "# sc.pp.neighbors(adata)\n",
    "# sc.tl.umap(adata)"
   ]
  },
  {
   "cell_type": "code",
   "execution_count": 18,
   "id": "dc1205aa",
   "metadata": {
    "ExecuteTime": {
     "end_time": "2022-02-07T10:28:50.135453Z",
     "start_time": "2022-02-07T10:28:50.098839Z"
    },
    "hidden": true
   },
   "outputs": [
    {
     "data": {
      "text/html": [
       "<div>\n",
       "<style scoped>\n",
       "    .dataframe tbody tr th:only-of-type {\n",
       "        vertical-align: middle;\n",
       "    }\n",
       "\n",
       "    .dataframe tbody tr th {\n",
       "        vertical-align: top;\n",
       "    }\n",
       "\n",
       "    .dataframe thead th {\n",
       "        text-align: right;\n",
       "    }\n",
       "</style>\n",
       "<table border=\"1\" class=\"dataframe\">\n",
       "  <thead>\n",
       "    <tr style=\"text-align: right;\">\n",
       "      <th></th>\n",
       "      <th>PC1</th>\n",
       "      <th>PC2</th>\n",
       "      <th>PC3</th>\n",
       "      <th>PC4</th>\n",
       "      <th>PC5</th>\n",
       "      <th>PC6</th>\n",
       "      <th>PC7</th>\n",
       "      <th>PC8</th>\n",
       "      <th>PC9</th>\n",
       "      <th>PC10</th>\n",
       "      <th>...</th>\n",
       "      <th>PC21</th>\n",
       "      <th>PC22</th>\n",
       "      <th>PC23</th>\n",
       "      <th>PC24</th>\n",
       "      <th>PC25</th>\n",
       "      <th>PC26</th>\n",
       "      <th>PC27</th>\n",
       "      <th>PC28</th>\n",
       "      <th>PC29</th>\n",
       "      <th>PC30</th>\n",
       "    </tr>\n",
       "  </thead>\n",
       "  <tbody>\n",
       "    <tr>\n",
       "      <th>perturbation</th>\n",
       "      <td>4.077498</td>\n",
       "      <td>3.580188</td>\n",
       "      <td>9.251373</td>\n",
       "      <td>17.950131</td>\n",
       "      <td>2.874707</td>\n",
       "      <td>12.620021</td>\n",
       "      <td>0.302303</td>\n",
       "      <td>8.696287</td>\n",
       "      <td>0.268509</td>\n",
       "      <td>-0.283364</td>\n",
       "      <td>...</td>\n",
       "      <td>4.783522</td>\n",
       "      <td>0.31324</td>\n",
       "      <td>0.706895</td>\n",
       "      <td>2.71975</td>\n",
       "      <td>1.132081</td>\n",
       "      <td>1.370202</td>\n",
       "      <td>0.736453</td>\n",
       "      <td>2.0717</td>\n",
       "      <td>-0.021567</td>\n",
       "      <td>1.822947</td>\n",
       "    </tr>\n",
       "    <tr>\n",
       "      <th>n_counts</th>\n",
       "      <td>15.099931</td>\n",
       "      <td>24.955494</td>\n",
       "      <td>0.366771</td>\n",
       "      <td>0.395381</td>\n",
       "      <td>0.063604</td>\n",
       "      <td>0.209796</td>\n",
       "      <td>0.160962</td>\n",
       "      <td>2.806515</td>\n",
       "      <td>0.215894</td>\n",
       "      <td>0.114959</td>\n",
       "      <td>...</td>\n",
       "      <td>-0.120962</td>\n",
       "      <td>0.030077</td>\n",
       "      <td>-0.075793</td>\n",
       "      <td>-0.133598</td>\n",
       "      <td>-0.128591</td>\n",
       "      <td>0.015759</td>\n",
       "      <td>-0.133276</td>\n",
       "      <td>-0.123751</td>\n",
       "      <td>-0.071168</td>\n",
       "      <td>0.096267</td>\n",
       "    </tr>\n",
       "  </tbody>\n",
       "</table>\n",
       "<p>2 rows × 30 columns</p>\n",
       "</div>"
      ],
      "text/plain": [
       "                    PC1        PC2       PC3        PC4       PC5        PC6  \\\n",
       "perturbation   4.077498   3.580188  9.251373  17.950131  2.874707  12.620021   \n",
       "n_counts      15.099931  24.955494  0.366771   0.395381  0.063604   0.209796   \n",
       "\n",
       "                   PC7       PC8       PC9      PC10  ...      PC21      PC22  \\\n",
       "perturbation  0.302303  8.696287  0.268509 -0.283364  ...  4.783522   0.31324   \n",
       "n_counts      0.160962  2.806515  0.215894  0.114959  ... -0.120962  0.030077   \n",
       "\n",
       "                  PC23      PC24      PC25      PC26      PC27      PC28  \\\n",
       "perturbation  0.706895   2.71975  1.132081  1.370202  0.736453    2.0717   \n",
       "n_counts     -0.075793 -0.133598 -0.128591  0.015759 -0.133276 -0.123751   \n",
       "\n",
       "                  PC29      PC30  \n",
       "perturbation -0.021567  1.822947  \n",
       "n_counts     -0.071168  0.096267  \n",
       "\n",
       "[2 rows x 30 columns]"
      ]
     },
     "execution_count": 18,
     "metadata": {},
     "output_type": "execute_result"
    }
   ],
   "source": [
    "# % Variation explained in each PC\n",
    "mat = getExplanatoryPCs(adata, ['perturbation', 'n_counts'])\n",
    "mat"
   ]
  },
  {
   "cell_type": "code",
   "execution_count": 19,
   "id": "49c79953",
   "metadata": {
    "ExecuteTime": {
     "end_time": "2022-02-07T10:28:52.847722Z",
     "start_time": "2022-02-07T10:28:52.830838Z"
    },
    "hidden": true
   },
   "outputs": [
    {
     "data": {
      "text/html": [
       "<div>\n",
       "<style scoped>\n",
       "    .dataframe tbody tr th:only-of-type {\n",
       "        vertical-align: middle;\n",
       "    }\n",
       "\n",
       "    .dataframe tbody tr th {\n",
       "        vertical-align: top;\n",
       "    }\n",
       "\n",
       "    .dataframe thead th {\n",
       "        text-align: right;\n",
       "    }\n",
       "</style>\n",
       "<table border=\"1\" class=\"dataframe\">\n",
       "  <thead>\n",
       "    <tr style=\"text-align: right;\">\n",
       "      <th></th>\n",
       "      <th>n_counts</th>\n",
       "      <th>perturbation</th>\n",
       "    </tr>\n",
       "  </thead>\n",
       "  <tbody>\n",
       "    <tr>\n",
       "      <th>weighted_score</th>\n",
       "      <td>1.281891</td>\n",
       "      <td>1.010595</td>\n",
       "    </tr>\n",
       "  </tbody>\n",
       "</table>\n",
       "</div>"
      ],
      "text/plain": [
       "                n_counts perturbation\n",
       "weighted_score  1.281891     1.010595"
      ]
     },
     "execution_count": 19,
     "metadata": {},
     "output_type": "execute_result"
    }
   ],
   "source": [
    "# % Variation explained in data\n",
    "getExplanatoryPCs_weighted(adata, ['perturbation', 'n_counts'])"
   ]
  },
  {
   "cell_type": "code",
   "execution_count": 20,
   "id": "c272758a",
   "metadata": {
    "ExecuteTime": {
     "end_time": "2022-02-07T10:28:53.527200Z",
     "start_time": "2022-02-07T10:28:53.509539Z"
    },
    "hidden": true
   },
   "outputs": [
    {
     "data": {
      "text/html": [
       "<div>\n",
       "<style scoped>\n",
       "    .dataframe tbody tr th:only-of-type {\n",
       "        vertical-align: middle;\n",
       "    }\n",
       "\n",
       "    .dataframe tbody tr th {\n",
       "        vertical-align: top;\n",
       "    }\n",
       "\n",
       "    .dataframe thead th {\n",
       "        text-align: right;\n",
       "    }\n",
       "</style>\n",
       "<table border=\"1\" class=\"dataframe\">\n",
       "  <thead>\n",
       "    <tr style=\"text-align: right;\">\n",
       "      <th></th>\n",
       "      <th>n_counts</th>\n",
       "      <th>perturbation</th>\n",
       "    </tr>\n",
       "  </thead>\n",
       "  <tbody>\n",
       "    <tr>\n",
       "      <th>weighted_score</th>\n",
       "      <td>6.288538</td>\n",
       "      <td>4.957652</td>\n",
       "    </tr>\n",
       "  </tbody>\n",
       "</table>\n",
       "</div>"
      ],
      "text/plain": [
       "                n_counts perturbation\n",
       "weighted_score  6.288538     4.957652"
      ]
     },
     "execution_count": 20,
     "metadata": {},
     "output_type": "execute_result"
    }
   ],
   "source": [
    "# % Variation explained in PCA\n",
    "getExplanatoryPCs_weighted(adata, ['perturbation', 'n_counts'], normalize=True)"
   ]
  },
  {
   "cell_type": "markdown",
   "id": "fb573d53",
   "metadata": {
    "heading_collapsed": true,
    "hidden": true
   },
   "source": [
    "## Per class in a obs variable (\"Confusing\", deprecated)"
   ]
  },
  {
   "cell_type": "markdown",
   "id": "2cf5f449",
   "metadata": {
    "hidden": true
   },
   "source": [
    "Idea: \n",
    "- For each perturbation, define a dummy variable that is 1 for cells of that perturbation and zero otherwise. \n",
    "- Compute the weighted sum score per perturbation to get an estimate of the influence of each perturbation on the PCA.\n",
    "\n",
    "Critique:\n",
    "- if you have more perturbations that do the same, they will have a larger influence even if each on its own does not actually have a large effect"
   ]
  },
  {
   "cell_type": "code",
   "execution_count": 98,
   "id": "4799211f",
   "metadata": {
    "ExecuteTime": {
     "end_time": "2022-01-26T14:28:55.589821Z",
     "start_time": "2022-01-26T14:28:54.714484Z"
    },
    "hidden": true
   },
   "outputs": [
    {
     "data": {
      "text/html": [
       "<div>\n",
       "<style scoped>\n",
       "    .dataframe tbody tr th:only-of-type {\n",
       "        vertical-align: middle;\n",
       "    }\n",
       "\n",
       "    .dataframe tbody tr th {\n",
       "        vertical-align: top;\n",
       "    }\n",
       "\n",
       "    .dataframe thead th {\n",
       "        text-align: right;\n",
       "    }\n",
       "</style>\n",
       "<table border=\"1\" class=\"dataframe\">\n",
       "  <thead>\n",
       "    <tr style=\"text-align: right;\">\n",
       "      <th></th>\n",
       "      <th>AKT</th>\n",
       "      <th>EGFR</th>\n",
       "      <th>ERK</th>\n",
       "      <th>BRAF</th>\n",
       "      <th>MEK</th>\n",
       "      <th>Pi3K</th>\n",
       "      <th>control</th>\n",
       "      <th>FGFR</th>\n",
       "      <th>MEK+EGFR</th>\n",
       "      <th>EGFR+FGFR</th>\n",
       "      <th>Mk2</th>\n",
       "      <th>Mst1/2</th>\n",
       "      <th>p38</th>\n",
       "      <th>mTORC1</th>\n",
       "      <th>mTORC1/2</th>\n",
       "      <th>Chk1</th>\n",
       "      <th>TGFBR</th>\n",
       "      <th>GSK3b</th>\n",
       "      <th>IKK</th>\n",
       "      <th>Chk1+Mk2</th>\n",
       "    </tr>\n",
       "  </thead>\n",
       "  <tbody>\n",
       "    <tr>\n",
       "      <th>weighted_score</th>\n",
       "      <td>0.0826476</td>\n",
       "      <td>0.0716171</td>\n",
       "      <td>0.0177606</td>\n",
       "      <td>0.0337876</td>\n",
       "      <td>0.314624</td>\n",
       "      <td>0.0150503</td>\n",
       "      <td>0.152834</td>\n",
       "      <td>0.0175703</td>\n",
       "      <td>0.332224</td>\n",
       "      <td>0.0641998</td>\n",
       "      <td>0.0378599</td>\n",
       "      <td>0.0383288</td>\n",
       "      <td>0.0175117</td>\n",
       "      <td>0.0494779</td>\n",
       "      <td>0.103026</td>\n",
       "      <td>0.0314207</td>\n",
       "      <td>0.0325115</td>\n",
       "      <td>0.0835235</td>\n",
       "      <td>0.0499467</td>\n",
       "      <td>0.0155497</td>\n",
       "    </tr>\n",
       "  </tbody>\n",
       "</table>\n",
       "</div>"
      ],
      "text/plain": [
       "                      AKT       EGFR        ERK       BRAF       MEK  \\\n",
       "weighted_score  0.0826476  0.0716171  0.0177606  0.0337876  0.314624   \n",
       "\n",
       "                     Pi3K   control       FGFR  MEK+EGFR  EGFR+FGFR  \\\n",
       "weighted_score  0.0150503  0.152834  0.0175703  0.332224  0.0641998   \n",
       "\n",
       "                      Mk2     Mst1/2        p38     mTORC1  mTORC1/2  \\\n",
       "weighted_score  0.0378599  0.0383288  0.0175117  0.0494779  0.103026   \n",
       "\n",
       "                     Chk1      TGFBR      GSK3b        IKK   Chk1+Mk2  \n",
       "weighted_score  0.0314207  0.0325115  0.0835235  0.0499467  0.0155497  "
      ]
     },
     "execution_count": 98,
     "metadata": {},
     "output_type": "execute_result"
    }
   ],
   "source": [
    "perturbations = pd.unique(adata.obs.perturbation)\n",
    "tdata = adata.copy()\n",
    "for perturbation in perturbations:\n",
    "    tdata.obs[perturbation] = [x if x==perturbation else 'other' for x in tdata.obs.perturbation]\n",
    "mat_ = getExplanatoryPCs(tdata, list(perturbations))\n",
    "weights = adata.uns['pca']['variance_ratio']\n",
    "y = np.dot(mat_.values, weights)  # PC variance explained weighted sum\n",
    "tab = pd.DataFrame(y, index=perturbations, columns=['weighted_score'])\n",
    "tab.T"
   ]
  },
  {
   "cell_type": "code",
   "execution_count": 65,
   "id": "417b1baa",
   "metadata": {
    "ExecuteTime": {
     "end_time": "2022-01-18T16:58:27.047827Z",
     "start_time": "2022-01-18T16:58:27.039095Z"
    },
    "hidden": true
   },
   "outputs": [],
   "source": [
    "import seaborn as sns\n",
    "tab_ = tab.reset_index().sort_values('weighted_score', ascending=False)\n",
    "ax = sns.barplot(data=tab_, x='weighted_score', y='index', order=tab_['index'])\n",
    "pl.ylabel('perturbation')\n",
    "pl.xlabel('Weighted PC explanation score\\n(Estimated influence on PCA)')\n",
    "pl.show()"
   ]
  },
  {
   "cell_type": "code",
   "execution_count": 81,
   "id": "5ba26e87",
   "metadata": {
    "ExecuteTime": {
     "end_time": "2022-01-18T17:02:43.250353Z",
     "start_time": "2022-01-18T17:02:42.891165Z"
    },
    "hidden": true
   },
   "outputs": [
    {
     "data": {
      "image/png": "[encoded data removed]",
      "text/plain": [
       "<Figure size 432x288 with 1 Axes>"
      ]
     },
     "metadata": {
      "needs_background": "light"
     },
     "output_type": "display_data"
    }
   ],
   "source": []
  },
  {
   "cell_type": "code",
   "execution_count": 26,
   "id": "2dd0640e",
   "metadata": {
    "ExecuteTime": {
     "end_time": "2022-01-18T16:47:58.330063Z",
     "start_time": "2022-01-18T16:47:57.959115Z"
    },
    "hidden": true
   },
   "outputs": [
    {
     "data": {
      "image/png": "[encoded data removed]",
      "text/plain": [
       "<Figure size 540x288 with 1 Axes>"
      ]
     },
     "metadata": {
      "needs_background": "light"
     },
     "output_type": "display_data"
    }
   ],
   "source": [
    "def plotExplanatoryPCs(mat, keys=None, PCs=15, ax=None, show=True):\n",
    "    bars = np.min([len(mat.columns), PCs]) if PCs!=None else len(mat.columns)\n",
    "    keys = mat.index if keys is None else keys\n",
    "    \n",
    "    ax = pl.subplots(1,1,figsize=[bars / 2, 4])[1] if ax==None else ax\n",
    "    \n",
    "    x = np.arange(bars)\n",
    "    width = 0.8 / len(keys) \n",
    "    for i, key in enumerate(keys):\n",
    "        ax.bar(x + width * i - 0.4 + width/2, mat.loc[key][:bars] + np.random.uniform(0,5), width=width, label=key)\n",
    "    ax.set_xticklabels(mat.columns[:bars], rotation=90)\n",
    "    ax.set_ylabel('Percent variance explained')\n",
    "    ax.legend()\n",
    "    if show: \n",
    "        pl.show()\n",
    "    else:\n",
    "        return ax\n",
    "plotExplanatoryPCs(mat)"
   ]
  },
  {
   "cell_type": "code",
   "execution_count": 94,
   "id": "db85c373",
   "metadata": {
    "ExecuteTime": {
     "end_time": "2022-01-05T11:59:06.424139Z",
     "start_time": "2022-01-05T11:59:06.419771Z"
    },
    "hidden": true
   },
   "outputs": [],
   "source": [
    "from scipy.stats import entropy"
   ]
  },
  {
   "cell_type": "code",
   "execution_count": 103,
   "id": "28b1b305",
   "metadata": {
    "ExecuteTime": {
     "end_time": "2022-01-05T12:01:36.765850Z",
     "start_time": "2022-01-05T12:01:36.760798Z"
    },
    "hidden": true
   },
   "outputs": [],
   "source": [
    "PC_entropy = entropy(np.array(mat.values, dtype=float), axis=0)"
   ]
  },
  {
   "cell_type": "code",
   "execution_count": 104,
   "id": "1f147d6a",
   "metadata": {
    "ExecuteTime": {
     "end_time": "2022-01-05T12:01:42.434286Z",
     "start_time": "2022-01-05T12:01:42.428687Z"
    },
    "hidden": true
   },
   "outputs": [],
   "source": [
    "key_entropy = entropy(np.array(mat.values, dtype=float), axis=1)"
   ]
  },
  {
   "cell_type": "code",
   "execution_count": 105,
   "id": "3d318aee",
   "metadata": {
    "ExecuteTime": {
     "end_time": "2022-01-05T12:01:45.218790Z",
     "start_time": "2022-01-05T12:01:45.212206Z"
    },
    "hidden": true
   },
   "outputs": [
    {
     "data": {
      "text/plain": [
       "array([2.42080451, 3.91062478, 3.89689355, 2.29187854])"
      ]
     },
     "execution_count": 105,
     "metadata": {},
     "output_type": "execute_result"
    }
   ],
   "source": [
    "key_entropy"
   ]
  },
  {
   "cell_type": "code",
   "execution_count": 114,
   "id": "97eaeb0c",
   "metadata": {
    "ExecuteTime": {
     "end_time": "2022-01-05T12:06:01.108877Z",
     "start_time": "2022-01-05T12:06:01.103862Z"
    },
    "hidden": true
   },
   "outputs": [],
   "source": [
    "X=np.array(mat.values, dtype=float)"
   ]
  },
  {
   "cell_type": "code",
   "execution_count": 116,
   "id": "caca7f42",
   "metadata": {
    "ExecuteTime": {
     "end_time": "2022-01-05T12:06:25.750079Z",
     "start_time": "2022-01-05T12:06:25.742410Z"
    },
    "hidden": true
   },
   "outputs": [
    {
     "name": "stdout",
     "output_type": "stream",
     "text": [
      "0.5512031696459297\n",
      "1.8621101288946622\n",
      "1.7745862225804159\n",
      "0.0010022150594933455\n"
     ]
    }
   ],
   "source": [
    "for i in range(4):\n",
    "    y=entropy(X[i], np.sum(X, axis=0))\n",
    "    print(y)"
   ]
  },
  {
   "cell_type": "code",
   "execution_count": 119,
   "id": "c5c008d5",
   "metadata": {
    "ExecuteTime": {
     "end_time": "2022-01-05T12:06:41.536154Z",
     "start_time": "2022-01-05T12:06:41.529476Z"
    },
    "hidden": true
   },
   "outputs": [
    {
     "data": {
      "text/plain": [
       "array([0.18480331, 0.03886549, 0.04029414, 9.0987176 ])"
      ]
     },
     "execution_count": 119,
     "metadata": {},
     "output_type": "execute_result"
    }
   ],
   "source": [
    "np.mean(X, axis=1)"
   ]
  },
  {
   "cell_type": "code",
   "execution_count": null,
   "id": "922e6848",
   "metadata": {
    "hidden": true
   },
   "outputs": [],
   "source": []
  },
  {
   "cell_type": "code",
   "execution_count": null,
   "id": "3ff83a0d",
   "metadata": {
    "hidden": true
   },
   "outputs": [],
   "source": []
  },
  {
   "cell_type": "code",
   "execution_count": null,
   "id": "bd43aae1",
   "metadata": {
    "hidden": true
   },
   "outputs": [],
   "source": []
  },
  {
   "cell_type": "code",
   "execution_count": null,
   "id": "df0be77b",
   "metadata": {
    "hidden": true
   },
   "outputs": [],
   "source": []
  },
  {
   "cell_type": "markdown",
   "id": "54b2f77f",
   "metadata": {},
   "source": [
    "# Apply to more datasets"
   ]
  },
  {
   "cell_type": "code",
   "execution_count": 3,
   "id": "3f3a956a",
   "metadata": {
    "ExecuteTime": {
     "end_time": "2022-03-10T12:50:27.393585Z",
     "start_time": "2022-03-10T12:50:27.382561Z"
    }
   },
   "outputs": [
    {
     "data": {
      "text/plain": [
       "16"
      ]
     },
     "execution_count": 3,
     "metadata": {},
     "output_type": "execute_result"
    }
   ],
   "source": [
    "# path = \"/extra/stefan/data/perturbation_resource_paper/\"\n",
    "path = '/fast/work/users/peidlis_c/data/perturbation_resource_paper/'\n",
    "files = get_files(path, full_path=False)\n",
    "len(files)"
   ]
  },
  {
   "cell_type": "code",
   "execution_count": null,
   "id": "4066b6ad",
   "metadata": {
    "ExecuteTime": {
     "start_time": "2022-03-10T12:50:55.284Z"
    },
    "scrolled": false
   },
   "outputs": [
    {
     "name": "stderr",
     "output_type": "stream",
     "text": [
      "\r",
      "  0%|                                                                                                                                    | 0/3 [00:00<?, ?it/s]"
     ]
    },
    {
     "name": "stdout",
     "output_type": "stream",
     "text": [
      "SrivatsanTrapnell2020_sciplex3.h5\n",
      "Could not reliably detect organism from mito genes. Setting as human.\n",
      "Could not find X_pca in adata.obsm. Running sc.pp.pca(adata)...\n"
     ]
    }
   ],
   "source": [
    "tabs = {}\n",
    "for file in tqdm(files[:3]):\n",
    "    data = sc.read(f'{path}{file}')\n",
    "    print(file)\n",
    "    calc_qc(data)\n",
    "    sc.pp.filter_cells(data, min_counts=500)\n",
    "    sc.pp.filter_genes(data, min_cells=50)\n",
    "    sc.pp.normalize_per_cell(data)\n",
    "    sc.pp.log1p(data)\n",
    "    tab = getExplanatoryPCs_weighted(data, ['perturbation', 'ncounts', 'ngenes', 'percent_mito'], plot=False, normalize=True)\n",
    "    tabs[file[:-3]] = tab"
   ]
  },
  {
   "cell_type": "code",
   "execution_count": 48,
   "id": "920c251b",
   "metadata": {
    "ExecuteTime": {
     "end_time": "2022-02-07T17:55:54.695793Z",
     "start_time": "2022-02-07T17:55:54.689020Z"
    }
   },
   "outputs": [],
   "source": [
    "df = pd.concat(tabs).reset_index(level=[1]).drop('level_1', axis=1)"
   ]
  },
  {
   "cell_type": "code",
   "execution_count": 49,
   "id": "b88c708a",
   "metadata": {
    "ExecuteTime": {
     "end_time": "2022-02-07T17:55:54.781517Z",
     "start_time": "2022-02-07T17:55:54.696834Z"
    }
   },
   "outputs": [
    {
     "data": {
      "text/plain": [
       "DatlingerBock2017    0.574512\n",
       "ShifrutMarson2018    0.634414\n",
       "ZhaoSims2021         6.125548\n",
       "Name: perturbation, dtype: object"
      ]
     },
     "execution_count": 49,
     "metadata": {},
     "output_type": "execute_result"
    }
   ],
   "source": [
    "df['perturbation']"
   ]
  },
  {
   "cell_type": "code",
   "execution_count": 43,
   "id": "e6486eea",
   "metadata": {
    "ExecuteTime": {
     "end_time": "2022-02-07T17:44:13.564506Z",
     "start_time": "2022-02-07T17:44:13.559403Z"
    }
   },
   "outputs": [
    {
     "data": {
      "text/plain": [
       "DatlingerBock2017    0.083284\n",
       "ShifrutMarson2018    0.083691\n",
       "ZhaoSims2021         1.106205\n",
       "Name: perturbation, dtype: object"
      ]
     },
     "execution_count": 43,
     "metadata": {},
     "output_type": "execute_result"
    }
   ],
   "source": [
    "df['perturbation']"
   ]
  },
  {
   "cell_type": "markdown",
   "id": "b00ae4ae",
   "metadata": {},
   "source": [
    "# Notes"
   ]
  },
  {
   "cell_type": "markdown",
   "id": "b9e37e2b",
   "metadata": {},
   "source": [
    "- this is a **relative** measure of effect sizes, i.e. you can compare effect sizes within a dataset, not across datasets"
   ]
  },
  {
   "cell_type": "code",
   "execution_count": null,
   "id": "5edce698",
   "metadata": {},
   "outputs": [],
   "source": []
  },
  {
   "cell_type": "code",
   "execution_count": null,
   "id": "9bacabd7",
   "metadata": {},
   "outputs": [],
   "source": []
  },
  {
   "cell_type": "code",
   "execution_count": null,
   "id": "20f73c37",
   "metadata": {},
   "outputs": [],
   "source": []
  },
  {
   "cell_type": "code",
   "execution_count": null,
   "id": "28a01ee3",
   "metadata": {},
   "outputs": [],
   "source": []
  },
  {
   "cell_type": "code",
   "execution_count": null,
   "id": "3852f82a",
   "metadata": {},
   "outputs": [],
   "source": []
  },
  {
   "cell_type": "code",
   "execution_count": null,
   "id": "016aa752",
   "metadata": {},
   "outputs": [],
   "source": []
  },
  {
   "cell_type": "code",
   "execution_count": null,
   "id": "2cbf10fc",
   "metadata": {},
   "outputs": [],
   "source": []
  },
  {
   "cell_type": "code",
   "execution_count": null,
   "id": "6fbaf68b",
   "metadata": {},
   "outputs": [],
   "source": []
  },
  {
   "cell_type": "code",
   "execution_count": null,
   "id": "6087e1e7",
   "metadata": {},
   "outputs": [],
   "source": []
  },
  {
   "cell_type": "code",
   "execution_count": null,
   "id": "bdd53cfa",
   "metadata": {},
   "outputs": [],
   "source": []
  }
 ],
 "metadata": {
  "hide_input": false,
  "kernelspec": {
   "display_name": "Python 3",
   "language": "python",
   "name": "python3"
  },
  "language_info": {
   "codemirror_mode": {
    "name": "ipython",
    "version": 3
   },
   "file_extension": ".py",
   "mimetype": "text/x-python",
   "name": "python",
   "nbconvert_exporter": "python",
   "pygments_lexer": "ipython3",
   "version": "3.9.5"
  },
  "toc": {
   "base_numbering": 1,
   "nav_menu": {},
   "number_sections": true,
   "sideBar": true,
   "skip_h1_title": false,
   "title_cell": "Table of Contents",
   "title_sidebar": "Contents",
   "toc_cell": false,
   "toc_position": {},
   "toc_section_display": true,
   "toc_window_display": false
  }
 },
 "nbformat": 4,
 "nbformat_minor": 5
}
