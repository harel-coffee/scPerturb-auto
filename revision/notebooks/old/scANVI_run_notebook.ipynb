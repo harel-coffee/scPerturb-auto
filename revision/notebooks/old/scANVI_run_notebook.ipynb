{
 "cells": [
  {
   "cell_type": "code",
   "execution_count": 1,
   "id": "8ac62a33",
   "metadata": {},
   "outputs": [
    {
     "name": "stderr",
     "output_type": "stream",
     "text": [
      "Global seed set to 0\n"
     ]
    }
   ],
   "source": [
    "import scvi\n",
    "import numpy as np\n",
    "import pandas as pd \n",
    "import scanpy as sc\n",
    "import os\n",
    "from sklearn.metrics import confusion_matrix\n",
    "import seaborn as sns \n",
    "\n",
    "import sys\n",
    "sys.path.append(os.path.abspath(os.path.join(os.getcwd(), '../../')))\n",
    "import scanvi\n",
    "import importlib\n"
   ]
  },
  {
   "cell_type": "code",
   "execution_count": null,
   "id": "78c0be8e",
   "metadata": {},
   "outputs": [],
   "source": [
    "importlib.reload(scanvi)"
   ]
  },
  {
   "cell_type": "code",
   "execution_count": null,
   "id": "60ba8873",
   "metadata": {},
   "outputs": [],
   "source": [
    "entry = \"SrivatsanTrapnell2020_sciplex3\"\n",
    "batchkey = 'cell_line'\n",
    "\n",
    "# a few different formats\n",
    "#adata = adata = sc.read_h5ad(\"/n/groups/marks/users/tessa/perturb/datasets/\"+entry.split(\"_\")[0]+\"/\"+entry+\".h5\")\n",
    "adata = sc.read_h5ad(\"/n/groups/marks/users/tessa/perturb/datasets/\"+entry.split(\"_\")[0]+\"/\"+entry+\"/\"+entry+\".h5\")\n",
    "#a, b, c = classify_with_scanvi(adata, pct = 0.2, withheld_labels_name =\"heldout\" , batch_key=batchkey, outdir = \"/n/groups/marks/users/tessa/perturb/scanvi/\"+entry+\"/\", N_min = 1000)\n",
    "\n",
    "# call this if needed \n",
    "#adata.obs_names_make_unique()"
   ]
  },
  {
   "cell_type": "code",
   "execution_count": null,
   "id": "1706c62f",
   "metadata": {},
   "outputs": [],
   "source": [
    "# run this only if some of the perturbations are None\n",
    "# adata = adata[~adata.obs['perturbation'].isna()].copy()"
   ]
  },
  {
   "cell_type": "code",
   "execution_count": null,
   "id": "4e9ca840",
   "metadata": {},
   "outputs": [],
   "source": [
    "### don't run this, just gives some format options for different folders\n",
    "for entry in dataset_to_batchkey:\n",
    "    if os.path.exists(\"/n/groups/marks/users/tessa/perturb/scanvi/\"+entry+\"/\"):\n",
    "        print(\"results folder already exists, skipping \"+entry)\n",
    "    else:\n",
    "        if os.path.exists(\"/n/groups/marks/users/tessa/perturb/datasets/\"+entry+\"/\"+entry+\"/\"+entry+\".h5\"):\n",
    "            adata = sc.read_h5ad(\"/n/groups/marks/users/tessa/perturb/datasets/\"+entry+\"/\"+entry+\"/\"+entry+\".h5\")\n",
    "        elif os.path.exists(\"/n/groups/marks/users/tessa/perturb/datasets/\"+entry+\"/\"+entry+\".h5\"):\n",
    "            adata = sc.read_h5ad(\"/n/groups/marks/users/tessa/perturb/datasets/\"+entry+\"/\"+entry+\".h5\")\n",
    "        elif \"_\" in entry:\n",
    "            adata = sc.read_h5ad(\"/n/groups/marks/users/tessa/perturb/datasets/\"+entry.split(\"_\")[0]+\"/\"+entry+\"/\"+entry+\".h5\")\n",
    "\n",
    "            #adata = sc.read_h5ad(\"/n/groups/marks/users/tessa/perturb/datasets/\"+entry.split(\"_\")[0]+\"/\"+entry+\".h5\")\n",
    "        else:\n",
    "            print(\"unable to locate data for: \"+entry)\n",
    "        scanvi.classify_with_scanvi(adata, pct = 0.2, withheld_labels_name =\"heldout\" , batch_key=dataset_to_batchkey[entry], outdir = \"/n/groups/marks/users/tessa/perturb/scanvi/\"+entry+\"/\")\n",
    "###"
   ]
  },
  {
   "cell_type": "code",
   "execution_count": 4,
   "id": "3d91157c",
   "metadata": {},
   "outputs": [
    {
     "ename": "NameError",
     "evalue": "name 'adata' is not defined",
     "output_type": "error",
     "traceback": [
      "\u001b[0;31m---------------------------------------------------------------------------\u001b[0m",
      "\u001b[0;31mNameError\u001b[0m                                 Traceback (most recent call last)",
      "Input \u001b[0;32mIn [4]\u001b[0m, in \u001b[0;36m<cell line: 1>\u001b[0;34m()\u001b[0m\n\u001b[0;32m----> 1\u001b[0m \u001b[43madata\u001b[49m\u001b[38;5;241m.\u001b[39mobs[\u001b[38;5;124m'\u001b[39m\u001b[38;5;124mperturbation\u001b[39m\u001b[38;5;124m'\u001b[39m]\u001b[38;5;241m.\u001b[39mvalue_counts()\n",
      "\u001b[0;31mNameError\u001b[0m: name 'adata' is not defined"
     ]
    }
   ],
   "source": [
    "# take a look at the cells per perturbation, consider adjusting N_min\n",
    "adata.obs['perturbation'].value_counts()"
   ]
  },
  {
   "cell_type": "code",
   "execution_count": null,
   "id": "6a339a79",
   "metadata": {},
   "outputs": [],
   "source": [
    "adata.obs['perturbation'].value_counts().hist()"
   ]
  },
  {
   "cell_type": "code",
   "execution_count": null,
   "id": "765198e7",
   "metadata": {},
   "outputs": [],
   "source": [
    "a, b, c = classify_with_scanvi(adata, pct = 0.2, withheld_labels_name =\"heldout\" , batch_key=batchkey, outdir = \"/n/groups/marks/users/tessa/perturb/scanvi/\"+entry+\"/\", N_min = None)\n",
    "\n",
    "# decide if N_min worked by looking at the output -- matrix should be largely diagonal without vertical streaks\n",
    "# can also try training scANVI model longer using scANVI_epochs = __ "
   ]
  }
 ],
 "metadata": {
  "kernelspec": {
   "display_name": "scvi2",
   "language": "python",
   "name": "scvi2"
  },
  "language_info": {
   "codemirror_mode": {
    "name": "ipython",
    "version": 3
   },
   "file_extension": ".py",
   "mimetype": "text/x-python",
   "name": "python",
   "nbconvert_exporter": "python",
   "pygments_lexer": "ipython3",
   "version": "3.9.12"
  }
 },
 "nbformat": 4,
 "nbformat_minor": 5
}
