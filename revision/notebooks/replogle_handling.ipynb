{
 "cells": [
  {
   "cell_type": "code",
   "execution_count": 1,
   "id": "01c0487b",
   "metadata": {
    "ExecuteTime": {
     "end_time": "2023-04-20T10:20:09.040788Z",
     "start_time": "2023-04-20T10:19:59.708064Z"
    }
   },
   "outputs": [
    {
     "data": {
      "text/html": [
       "<style>.container { width:95% !important; }</style>"
      ],
      "text/plain": [
       "<IPython.core.display.HTML object>"
      ]
     },
     "metadata": {},
     "output_type": "display_data"
    }
   ],
   "source": [
    "import subprocess\n",
    "import os\n",
    "import sys\n",
    "import matplotlib.backends.backend_pdf\n",
    "import scanpy as sc\n",
    "import matplotlib.pyplot as pl\n",
    "import anndata as ad\n",
    "import pandas as pd\n",
    "import numpy as np\n",
    "import seaborn as sns\n",
    "import scvelo as scv\n",
    "scv.settings.verbosity=1\n",
    "\n",
    "from pathlib import Path\n",
    "\n",
    "# Jupyter stuff\n",
    "from tqdm.auto import tqdm\n",
    "from IPython.display import clear_output\n",
    "from IPython.core.display import display, HTML\n",
    "display(HTML(\"<style>.container { width:95% !important; }</style>\"))\n",
    "\n",
    "%matplotlib inline\n",
    "\n",
    "# Custom functions\n",
    "sys.path.insert(1, '../..')\n",
    "%load_ext autoreload\n",
    "%autoreload 2\n",
    "from utils import *\n",
    "\n",
    "# scperturb package\n",
    "sys.path.insert(1, '../../package/src/')\n",
    "from scperturb import *\n",
    "\n",
    "from pathlib import Path\n",
    "figure_path = Path('../../figures/')"
   ]
  },
  {
   "cell_type": "code",
   "execution_count": 2,
   "id": "9fc439ad",
   "metadata": {
    "ExecuteTime": {
     "end_time": "2023-04-20T10:20:09.247076Z",
     "start_time": "2023-04-20T10:20:09.150608Z"
    }
   },
   "outputs": [],
   "source": [
    "DATADIR = Path('/data/gpfs-1/users/peidlis_c/work/data/perturbation_resource_paper')\n",
    "TEMPDIR = Path(\"/fast/scratch/users/peidlis_c/perturbation_resource_paper/\")"
   ]
  },
  {
   "cell_type": "code",
   "execution_count": 4,
   "id": "859829b9",
   "metadata": {
    "ExecuteTime": {
     "end_time": "2023-04-20T10:23:21.754866Z",
     "start_time": "2023-04-20T10:20:23.865763Z"
    }
   },
   "outputs": [],
   "source": [
    "adata = sc.read(TEMPDIR / 'tmp_data_ReplogleWeissman2022_K562_gwps.h5')"
   ]
  },
  {
   "cell_type": "code",
   "execution_count": 5,
   "id": "45f4b9e7",
   "metadata": {
    "ExecuteTime": {
     "end_time": "2023-04-20T10:23:21.859170Z",
     "start_time": "2023-04-20T10:23:21.756710Z"
    }
   },
   "outputs": [
    {
     "data": {
      "text/plain": [
       "AnnData object with n_obs × n_vars = 819400 × 8248\n",
       "    obs: 'batch', 'gene', 'gene_id', 'transcript', 'gene_transcript', 'guide_id', 'percent_mito', 'UMI_count', 'z_gemgroup_UMI', 'core_scale_factor', 'core_adjusted_UMI_count', 'disease', 'cancer', 'cell_line', 'sex', 'age', 'perturbation', 'organism', 'perturbation_type', 'tissue_type', 'ncounts', 'ngenes', 'nperts', 'percent_ribo', 'n_counts', 'perturbation_X'\n",
       "    var: 'chr', 'start', 'end', 'class', 'strand', 'length', 'in_matrix', 'mean', 'std', 'cv', 'fano', 'ensembl_id', 'ncounts', 'ncells', 'n_cells', 'highly_variable', 'highly_variable_rank', 'means', 'variances', 'variances_norm'\n",
       "    uns: 'hvg', 'log1p', 'pca'\n",
       "    obsm: 'X_pca'\n",
       "    varm: 'PCs'\n",
       "    layers: 'counts'"
      ]
     },
     "execution_count": 5,
     "metadata": {},
     "output_type": "execute_result"
    }
   ],
   "source": [
    "adata"
   ]
  },
  {
   "cell_type": "code",
   "execution_count": 4,
   "id": "1dee6877",
   "metadata": {
    "ExecuteTime": {
     "end_time": "2023-04-20T09:36:47.942534Z",
     "start_time": "2023-04-20T09:36:47.746367Z"
    },
    "deletable": false,
    "editable": false,
    "run_control": {
     "frozen": true
    }
   },
   "outputs": [
    {
     "data": {
      "text/plain": [
       "AnnData object with n_obs × n_vars = 1989578 × 8248\n",
       "    obs: 'batch', 'gene', 'gene_id', 'transcript', 'gene_transcript', 'guide_id', 'percent_mito', 'UMI_count', 'z_gemgroup_UMI', 'core_scale_factor', 'core_adjusted_UMI_count', 'disease', 'cancer', 'cell_line', 'sex', 'age', 'perturbation', 'organism', 'perturbation_type', 'tissue_type', 'ncounts', 'ngenes', 'nperts', 'percent_ribo'\n",
       "    var: 'chr', 'start', 'end', 'class', 'strand', 'length', 'in_matrix', 'mean', 'std', 'cv', 'fano', 'ensembl_id', 'ncounts', 'ncells'"
      ]
     },
     "execution_count": 4,
     "metadata": {},
     "output_type": "execute_result"
    }
   ],
   "source": [
    "adata"
   ]
  },
  {
   "cell_type": "code",
   "execution_count": null,
   "id": "da209e4e",
   "metadata": {
    "ExecuteTime": {
     "start_time": "2023-04-20T09:32:57.712Z"
    }
   },
   "outputs": [
    {
     "name": "stdout",
     "output_type": "stream",
     "text": [
      "Shape before filtering:  (1989578, 8248)\n"
     ]
    }
   ],
   "source": [
    "# basic qc and pp\n",
    "print('Shape before filtering: ', adata.shape)\n",
    "sc.pp.filter_cells(adata, min_counts=1000)\n",
    "adata = equal_subsampling(adata, 'perturbation', N_min=200)\n",
    "print('aaa')\n",
    "adata.layers['counts'] = adata.X.copy()\n",
    "print('Normalizing counts...')\n",
    "sc.pp.normalize_per_cell(adata)\n",
    "sc.pp.filter_genes(adata, min_cells=50)\n",
    "print('Applying log1p...')\n",
    "sc.pp.log1p(adata)\n",
    "print('Shape after filtering: ', adata.shape)"
   ]
  },
  {
   "cell_type": "code",
   "execution_count": null,
   "id": "20d299d0",
   "metadata": {
    "ExecuteTime": {
     "start_time": "2023-04-20T09:32:59.829Z"
    }
   },
   "outputs": [],
   "source": [
    "adata"
   ]
  },
  {
   "cell_type": "code",
   "execution_count": null,
   "id": "d78617fe",
   "metadata": {},
   "outputs": [],
   "source": []
  },
  {
   "cell_type": "code",
   "execution_count": null,
   "id": "0b77ca67",
   "metadata": {},
   "outputs": [],
   "source": []
  },
  {
   "cell_type": "code",
   "execution_count": null,
   "id": "bdd8e67b",
   "metadata": {},
   "outputs": [],
   "source": []
  },
  {
   "cell_type": "code",
   "execution_count": null,
   "id": "fe05a7ca",
   "metadata": {},
   "outputs": [],
   "source": []
  },
  {
   "cell_type": "code",
   "execution_count": null,
   "id": "3f2e1158",
   "metadata": {},
   "outputs": [],
   "source": []
  },
  {
   "cell_type": "code",
   "execution_count": null,
   "id": "a5739576",
   "metadata": {},
   "outputs": [],
   "source": []
  },
  {
   "cell_type": "code",
   "execution_count": null,
   "id": "d090e6ce",
   "metadata": {},
   "outputs": [],
   "source": []
  },
  {
   "cell_type": "code",
   "execution_count": null,
   "id": "74deee11",
   "metadata": {},
   "outputs": [],
   "source": []
  },
  {
   "cell_type": "code",
   "execution_count": null,
   "id": "6d425c5a",
   "metadata": {},
   "outputs": [],
   "source": []
  },
  {
   "cell_type": "code",
   "execution_count": null,
   "id": "06ffff6a",
   "metadata": {},
   "outputs": [],
   "source": []
  },
  {
   "cell_type": "code",
   "execution_count": null,
   "id": "a4a114b1",
   "metadata": {},
   "outputs": [],
   "source": []
  },
  {
   "cell_type": "code",
   "execution_count": null,
   "id": "aacc7a17",
   "metadata": {},
   "outputs": [],
   "source": []
  }
 ],
 "metadata": {
  "hide_input": false,
  "kernelspec": {
   "display_name": "Python 3 (ipykernel)",
   "language": "python",
   "name": "python3"
  },
  "language_info": {
   "codemirror_mode": {
    "name": "ipython",
    "version": 3
   },
   "file_extension": ".py",
   "mimetype": "text/x-python",
   "name": "python",
   "nbconvert_exporter": "python",
   "pygments_lexer": "ipython3",
   "version": "3.9.13"
  }
 },
 "nbformat": 4,
 "nbformat_minor": 5
}
