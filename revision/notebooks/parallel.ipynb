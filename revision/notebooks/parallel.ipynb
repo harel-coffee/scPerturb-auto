{
 "cells": [
  {
   "cell_type": "code",
   "execution_count": 1,
   "id": "893265e7",
   "metadata": {
    "ExecuteTime": {
     "end_time": "2023-04-21T13:54:40.452765Z",
     "start_time": "2023-04-21T13:54:31.047571Z"
    }
   },
   "outputs": [
    {
     "data": {
      "text/html": [
       "<style>.container { width:95% !important; }</style>"
      ],
      "text/plain": [
       "<IPython.core.display.HTML object>"
      ]
     },
     "metadata": {},
     "output_type": "display_data"
    }
   ],
   "source": [
    "import subprocess\n",
    "import os\n",
    "import sys\n",
    "import matplotlib.backends.backend_pdf\n",
    "import scanpy as sc\n",
    "import matplotlib.pyplot as pl\n",
    "import anndata as ad\n",
    "import pandas as pd\n",
    "import numpy as np\n",
    "import seaborn as sns\n",
    "import scvelo as scv\n",
    "scv.settings.verbosity=1\n",
    "\n",
    "from pathlib import Path\n",
    "\n",
    "# Jupyter stuff\n",
    "from tqdm.auto import tqdm\n",
    "from IPython.display import clear_output\n",
    "from IPython.core.display import display, HTML\n",
    "display(HTML(\"<style>.container { width:95% !important; }</style>\"))\n",
    "\n",
    "%matplotlib inline\n",
    "\n",
    "# Custom functions\n",
    "sys.path.insert(1, '../..')\n",
    "%load_ext autoreload\n",
    "%autoreload 2\n",
    "from utils import *\n",
    "\n",
    "# scperturb package\n",
    "sys.path.insert(1, '../../package/src/')\n",
    "from scperturb import *\n",
    "\n",
    "from pathlib import Path\n",
    "figure_path = Path('../../figures/')"
   ]
  },
  {
   "cell_type": "code",
   "execution_count": 2,
   "id": "a96c84fd",
   "metadata": {
    "ExecuteTime": {
     "end_time": "2023-04-21T13:54:40.556837Z",
     "start_time": "2023-04-21T13:54:40.455847Z"
    }
   },
   "outputs": [],
   "source": [
    "DATADIR = Path('/data/gpfs-1/users/peidlis_c/work/data/perturbation_resource_paper')\n",
    "TEMPDIR = Path(\"/fast/scratch/users/peidlis_c/perturbation_resource_paper/\")"
   ]
  },
  {
   "cell_type": "code",
   "execution_count": 3,
   "id": "6d25a20e",
   "metadata": {
    "ExecuteTime": {
     "end_time": "2023-04-21T13:54:40.660999Z",
     "start_time": "2023-04-21T13:54:40.558617Z"
    }
   },
   "outputs": [],
   "source": [
    "from joblib import Parallel, delayed\n",
    "def onesided_pca_distances_(adata, obs_key, control, obsm_key='X_pca',\n",
    "                           dist='sqeuclidean', correction_factor=False, n_jobs=1, \n",
    "                           verbose=True):\n",
    "    \"\"\"Average of pairwise PCA distances between cells of each group in obs_key with control group.\n",
    "    For each group defined in adata.obs[obs_key] (e.g. perturbations)\n",
    "    computes all pairwise distances between cells in adata.obsm[obsm_key] (e.g. PCA space)\n",
    "    and averages them per group-control-pair. This results in a distance vector with a value for each group.\n",
    "\n",
    "    Arguments\n",
    "    ---------\n",
    "    adata: :class:`~anndata.AnnData`\n",
    "        Annotated data matrix.\n",
    "    obs_key: `str` in adata.obs.keys()\n",
    "        Key in adata.obs specifying the groups to consider.\n",
    "    control: `str` of a category in adata.obs[obs_key]\n",
    "        Group in obs_key for control cells.\n",
    "    obsm_key: `str` in adata.obsm (default: `adata.obsm['X_pca']`)\n",
    "        Key for embedding coordinates to use.\n",
    "    dist: `str` for any distance in scipy.spatial.distance (default: `sqeuclidean`)\n",
    "        Distance metric to use in embedding space.\n",
    "    correction_factor: `bool` (default: `False`)\n",
    "        Whether make the estimator for sigma more unbiased (dividing by N-1 instead of N, similar to sample and population variance).\n",
    "    verbose: `bool` (default: `True`)\n",
    "        Whether to show a progress bar iterating over all groups.\n",
    "\n",
    "    Returns\n",
    "    -------\n",
    "    pwd: pandas.DataFrame\n",
    "        DataFrame with average PCA distances to control for all groups.\n",
    "    \"\"\"\n",
    "\n",
    "    if obsm_key=='X_pca' and 'X_pca' not in adata.obsm.keys():\n",
    "        warn('PCA embedding not found, computing...')\n",
    "        sc.pp.pca(adata)\n",
    "\n",
    "    groups = pd.unique(adata.obs[obs_key])\n",
    "    assert control in groups, f'No cells of control group \"{control}\" were not found in groups defined by \"{obs_key}\".'\n",
    "    #df = pd.DataFrame(index=groups, columns=['distance'], dtype=float)\n",
    "    fct = tqdm if verbose else lambda x: x\n",
    "    \n",
    "    x1 = adata[adata.obs[obs_key]==control].obsm[obsm_key]\n",
    "    N = len(x1)\n",
    "    def one_step(group, x2):\n",
    "        # x2 = adata[adata.obs[obs_key]==group].obsm[obsm_key]\n",
    "        pwd = pairwise_distances(x1, x2, metric=dist)\n",
    "        M = len(x2) if (group==control) & ~correction_factor else len(x2)-1\n",
    "        factor = N * M  # Thanks to Garrett Wong for finding this bug\n",
    "        mean_pwd = np.sum(pwd) / factor\n",
    "        return group, mean_pwd\n",
    "    res = Parallel(n_jobs=n_jobs)(delayed(one_step)(group, adata[adata.obs[obs_key]==group].obsm[obsm_key]) for group in fct(groups))\n",
    "    df = pd.DataFrame(res, columns=[obs_key, 'distance'], dtype=float).set_index(obs_key) \n",
    "    df.name = f'PCA distances to {control}'\n",
    "    return df"
   ]
  },
  {
   "cell_type": "code",
   "execution_count": 4,
   "id": "c7800b8f",
   "metadata": {
    "ExecuteTime": {
     "end_time": "2023-04-21T13:55:44.533411Z",
     "start_time": "2023-04-21T13:54:40.663803Z"
    }
   },
   "outputs": [],
   "source": [
    "from scperturb import edist, onesided_pca_distances, etest, self_pca_distances\n",
    "\n",
    "dataset = 'PapalexiSatija2021_eccite_RNA'\n",
    "dataset = 'ReplogleWeissman2022_K562_gwps'\n",
    "\n",
    "adata = sc.read(TEMPDIR / f'tmp_data_{dataset}.h5')"
   ]
  },
  {
   "cell_type": "code",
   "execution_count": 28,
   "id": "dd44e9c4",
   "metadata": {
    "ExecuteTime": {
     "end_time": "2023-04-21T13:49:48.802609Z",
     "start_time": "2023-04-21T13:49:21.112329Z"
    }
   },
   "outputs": [
    {
     "name": "stderr",
     "output_type": "stream",
     "text": [
      "100%|██████████| 4097/4097 [00:27<00:00, 149.34it/s]\n"
     ]
    }
   ],
   "source": [
    "res_0 = onesided_pca_distances(adata, 'perturbation', 'control')"
   ]
  },
  {
   "cell_type": "code",
   "execution_count": 29,
   "id": "d0c6a7a0",
   "metadata": {
    "ExecuteTime": {
     "end_time": "2023-04-21T13:50:17.235959Z",
     "start_time": "2023-04-21T13:49:50.118097Z"
    }
   },
   "outputs": [
    {
     "name": "stderr",
     "output_type": "stream",
     "text": [
      "100%|██████████| 4097/4097 [00:26<00:00, 151.77it/s]\n"
     ]
    }
   ],
   "source": [
    "res_1 = onesided_pca_distances_(adata, 'perturbation', 'control', n_jobs=1)"
   ]
  },
  {
   "cell_type": "code",
   "execution_count": 5,
   "id": "f73028e1",
   "metadata": {
    "ExecuteTime": {
     "end_time": "2023-04-21T13:56:23.812861Z",
     "start_time": "2023-04-21T13:55:44.535584Z"
    }
   },
   "outputs": [
    {
     "name": "stderr",
     "output_type": "stream",
     "text": [
      "100%|██████████| 4097/4097 [00:39<00:00, 105.02it/s]\n"
     ]
    }
   ],
   "source": [
    "res_4 = onesided_pca_distances_(adata, 'perturbation', 'control', n_jobs=4)"
   ]
  },
  {
   "cell_type": "code",
   "execution_count": 6,
   "id": "a0f2e88c",
   "metadata": {
    "ExecuteTime": {
     "end_time": "2023-04-21T09:45:10.258220Z",
     "start_time": "2023-04-21T09:45:10.127985Z"
    }
   },
   "outputs": [],
   "source": [
    "from tqdm.auto import tqdm\n",
    "from statsmodels.stats.multitest import multipletests\n",
    "from sklearn.metrics import pairwise_distances"
   ]
  },
  {
   "cell_type": "code",
   "execution_count": null,
   "id": "702fc203",
   "metadata": {},
   "outputs": [],
   "source": [
    "for i in fct(range(runs)):\n",
    "    # per perturbation, shuffle with control and compute e-distance\n",
    "    df = pd.DataFrame(index=groups, columns=['edist'], dtype=float)\n",
    "    for group in groups:\n",
    "        if group==control:\n",
    "            df.loc[group] = [0]\n",
    "            continue\n",
    "        N = np.sum(adata.obs[obs_key]==group)\n",
    "        # shuffle the labels\n",
    "        labels = adata.obs[obs_key].values[adata.obs[obs_key].isin([group, control])]\n",
    "        shuffled_labels = np.random.permutation(labels)\n",
    "\n",
    "        # use precomputed pairwise distances\n",
    "        sc_pwd = pwds[group]  # precomputed pairwise distances between single cells\n",
    "        idx = shuffled_labels==group\n",
    "\n",
    "        # Note that this is wrong: sc_pwd[idx, ~idx] but this is correct: sc_pwd[idx, :][:, ~idx]\n",
    "        # The first produces a vector, the second a matrix (we need the matrix)\n",
    "        factor = N / (N-1) if flavor==1 else 1\n",
    "        factor_c = M / (M-1) if flavor==1 else 1\n",
    "        delta = np.sum(sc_pwd[idx, :][:, ~idx]) / (N * M)\n",
    "        sigma = np.sum(sc_pwd[idx, :][:, idx]) / (N * N) * factor\n",
    "        sigma_c = np.sum(sc_pwd[~idx, :][:, ~idx]) / (M * M) * factor_c\n",
    "\n",
    "        edistance = 2 * delta - sigma - sigma_c\n",
    "\n",
    "        df.loc[group] = edistance\n",
    "    res.append(df.sort_index())"
   ]
  },
  {
   "cell_type": "code",
   "execution_count": 9,
   "id": "5c330e56",
   "metadata": {
    "ExecuteTime": {
     "end_time": "2023-04-21T09:47:33.176123Z",
     "start_time": "2023-04-21T09:47:33.063179Z"
    }
   },
   "outputs": [],
   "source": [
    "def one_step():\n",
    "    # per perturbation, shuffle with control and compute e-distance\n",
    "    df = pd.DataFrame(index=groups, columns=['edist'], dtype=float)\n",
    "    for group in groups:\n",
    "        if group==control:\n",
    "            df.loc[group] = [0]\n",
    "            continue\n",
    "        N = np.sum(adata.obs[obs_key]==group)\n",
    "        # shuffle the labels\n",
    "        labels = adata.obs[obs_key].values[adata.obs[obs_key].isin([group, control])]\n",
    "        shuffled_labels = np.random.permutation(labels)\n",
    "\n",
    "        # use precomputed pairwise distances\n",
    "        sc_pwd = pwds[group]  # precomputed pairwise distances between single cells\n",
    "        idx = shuffled_labels==group\n",
    "\n",
    "        # Note that this is wrong: sc_pwd[idx, ~idx] but this is correct: sc_pwd[idx, :][:, ~idx]\n",
    "        # The first produces a vector, the second a matrix (we need the matrix)\n",
    "        factor = N / (N-1) if flavor==1 else 1\n",
    "        factor_c = M / (M-1) if flavor==1 else 1\n",
    "        delta = np.sum(sc_pwd[idx, :][:, ~idx]) / (N * M)\n",
    "        sigma = np.sum(sc_pwd[idx, :][:, idx]) / (N * N) * factor\n",
    "        sigma_c = np.sum(sc_pwd[~idx, :][:, ~idx]) / (M * M) * factor_c\n",
    "\n",
    "        edistance = 2 * delta - sigma - sigma_c\n",
    "\n",
    "        df.loc[group] = edistance\n",
    "    return df.sort_index()"
   ]
  },
  {
   "cell_type": "code",
   "execution_count": null,
   "id": "9423a5ff",
   "metadata": {},
   "outputs": [],
   "source": [
    "from joblib import Parallel, delayed\n",
    "results = Parallel(n_jobs=2)(delayed(one_step() for i in range(10))\n",
    "print(results)"
   ]
  },
  {
   "cell_type": "code",
   "execution_count": null,
   "id": "66fb4601",
   "metadata": {},
   "outputs": [],
   "source": []
  },
  {
   "cell_type": "code",
   "execution_count": null,
   "id": "1c4a3e51",
   "metadata": {},
   "outputs": [],
   "source": []
  },
  {
   "cell_type": "code",
   "execution_count": null,
   "id": "3ae1c60b",
   "metadata": {},
   "outputs": [],
   "source": []
  },
  {
   "cell_type": "code",
   "execution_count": null,
   "id": "77759a37",
   "metadata": {},
   "outputs": [],
   "source": []
  },
  {
   "cell_type": "code",
   "execution_count": null,
   "id": "9bbde370",
   "metadata": {},
   "outputs": [],
   "source": []
  },
  {
   "cell_type": "code",
   "execution_count": null,
   "id": "5d286eb8",
   "metadata": {},
   "outputs": [],
   "source": []
  },
  {
   "cell_type": "code",
   "execution_count": null,
   "id": "c7cd73b3",
   "metadata": {},
   "outputs": [],
   "source": []
  },
  {
   "cell_type": "code",
   "execution_count": null,
   "id": "7a8c1013",
   "metadata": {},
   "outputs": [],
   "source": []
  },
  {
   "cell_type": "code",
   "execution_count": null,
   "id": "24595619",
   "metadata": {},
   "outputs": [],
   "source": []
  },
  {
   "cell_type": "code",
   "execution_count": null,
   "id": "140d42c0",
   "metadata": {},
   "outputs": [],
   "source": []
  }
 ],
 "metadata": {
  "hide_input": false,
  "kernelspec": {
   "display_name": "Python 3 (ipykernel)",
   "language": "python",
   "name": "python3"
  },
  "language_info": {
   "codemirror_mode": {
    "name": "ipython",
    "version": 3
   },
   "file_extension": ".py",
   "mimetype": "text/x-python",
   "name": "python",
   "nbconvert_exporter": "python",
   "pygments_lexer": "ipython3",
   "version": "3.9.13"
  }
 },
 "nbformat": 4,
 "nbformat_minor": 5
}
