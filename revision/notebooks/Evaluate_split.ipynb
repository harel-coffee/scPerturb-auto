{
 "cells": [
  {
   "cell_type": "code",
   "execution_count": 1,
   "id": "d569d10f",
   "metadata": {
    "ExecuteTime": {
     "end_time": "2022-11-21T12:52:35.406186Z",
     "start_time": "2022-11-21T12:52:14.229717Z"
    }
   },
   "outputs": [
    {
     "data": {
      "text/html": [
       "<style>.container { width:95% !important; }</style>"
      ],
      "text/plain": [
       "<IPython.core.display.HTML object>"
      ]
     },
     "metadata": {},
     "output_type": "display_data"
    }
   ],
   "source": [
    "import subprocess\n",
    "import os\n",
    "import sys\n",
    "import matplotlib.backends.backend_pdf\n",
    "import scanpy as sc\n",
    "import matplotlib.pyplot as pl\n",
    "import anndata as ad\n",
    "import pandas as pd\n",
    "import numpy as np\n",
    "import seaborn as sns\n",
    "import scvelo as scv\n",
    "scv.settings.verbosity=1\n",
    "\n",
    "# Jupyter stuff\n",
    "from tqdm.notebook import tqdm\n",
    "from IPython.display import clear_output\n",
    "from IPython.core.display import display, HTML\n",
    "display(HTML(\"<style>.container { width:95% !important; }</style>\"))\n",
    "\n",
    "# Custom functions\n",
    "sys.path.insert(1, '../..')\n",
    "from utils import *\n",
    "\n",
    "# scperturb package\n",
    "sys.path.insert(1, '../../../package/src/')\n",
    "from scperturb import *\n",
    "\n",
    "%matplotlib inline"
   ]
  },
  {
   "cell_type": "code",
   "execution_count": 2,
   "id": "ba600968",
   "metadata": {
    "ExecuteTime": {
     "end_time": "2022-11-21T12:52:35.411340Z",
     "start_time": "2022-11-21T12:52:35.408354Z"
    }
   },
   "outputs": [],
   "source": [
    "# paths\n",
    "at_home = False if '/fast/work/users/' in os.getcwd() else True\n",
    "data_path = '/extra/stefan/data/perturbation_resource_paper/' if at_home else '/fast/work/users/peidlis_c/data/perturbation_resource_paper/'\n",
    "signatures_path = '/home/peidli/utils/scrnaseq_signature_collection/' if at_home else '/fast/work/users/peidlis_c/utils/scrnaseq_signature_collection/'\n",
    "utils_path = '/extra/stefan/utils/scrnaseq_utils/' if at_home else '/fast/work/users/peidlis_c/utils/single_cell_rna_seq/scrnaseq_utils/'\n",
    "\n",
    "# # Stefan's utils\n",
    "# sys.path.insert(1, utils_path)\n",
    "# from scrnaseq_util_functions import *"
   ]
  },
  {
   "cell_type": "code",
   "execution_count": 3,
   "id": "56f657ca",
   "metadata": {
    "ExecuteTime": {
     "end_time": "2022-11-21T12:52:35.459372Z",
     "start_time": "2022-11-21T12:52:35.412931Z"
    }
   },
   "outputs": [
    {
     "name": "stdout",
     "output_type": "stream",
     "text": [
      "28\n"
     ]
    }
   ],
   "source": [
    "h5_files = {}\n",
    "spath = '/fast/scratch/users/peidlis_c/perturbation_resource_paper/'\n",
    "for path, subdirs, files in os.walk(spath):\n",
    "    for name in files:\n",
    "        if '.h5' in name: h5_files[name[:-3]] = os.path.join(path, name)\n",
    "print(len(h5_files))\n",
    "# list(h5_files.keys())"
   ]
  },
  {
   "cell_type": "code",
   "execution_count": 4,
   "id": "8b0b3481",
   "metadata": {
    "ExecuteTime": {
     "end_time": "2022-11-21T12:52:36.392031Z",
     "start_time": "2022-11-21T12:52:35.462076Z"
    }
   },
   "outputs": [],
   "source": [
    "adata = sc.read(h5_files['tmp_data_PapalexiSatija2021_eccite_RNA'])"
   ]
  },
  {
   "cell_type": "code",
   "execution_count": 5,
   "id": "a5558d13",
   "metadata": {
    "ExecuteTime": {
     "end_time": "2022-11-21T12:52:55.209950Z",
     "start_time": "2022-11-21T12:52:36.393887Z"
    }
   },
   "outputs": [
    {
     "name": "stderr",
     "output_type": "stream",
     "text": [
      "100%|██████████| 84/84 [00:18<00:00,  4.47it/s]\n"
     ]
    }
   ],
   "source": [
    "ed_full = edist(adata, 'perturbation')"
   ]
  },
  {
   "cell_type": "code",
   "execution_count": 6,
   "id": "40f368d0",
   "metadata": {
    "ExecuteTime": {
     "end_time": "2022-11-21T12:54:08.395184Z",
     "start_time": "2022-11-21T12:52:55.211965Z"
    }
   },
   "outputs": [
    {
     "name": "stderr",
     "output_type": "stream",
     "text": [
      "100%|██████████| 168/168 [01:13<00:00,  2.30it/s]\n"
     ]
    }
   ],
   "source": [
    "ed_split = edist(adata, 'perturbation_X')"
   ]
  },
  {
   "cell_type": "code",
   "execution_count": 7,
   "id": "164b2404",
   "metadata": {
    "ExecuteTime": {
     "end_time": "2022-11-21T12:54:08.401529Z",
     "start_time": "2022-11-21T12:54:08.397806Z"
    }
   },
   "outputs": [],
   "source": [
    "groups_X = ed_split.columns[ed_split.columns.str.endswith('_X')].values\n",
    "groups = ed_split.columns[~ed_split.columns.str.endswith('_X')].values"
   ]
  },
  {
   "cell_type": "code",
   "execution_count": 8,
   "id": "c0f5552c",
   "metadata": {
    "ExecuteTime": {
     "end_time": "2022-11-21T12:54:08.488044Z",
     "start_time": "2022-11-21T12:54:08.402977Z"
    }
   },
   "outputs": [
    {
     "data": {
      "text/html": [
       "<div>\n",
       "<style scoped>\n",
       "    .dataframe tbody tr th:only-of-type {\n",
       "        vertical-align: middle;\n",
       "    }\n",
       "\n",
       "    .dataframe tbody tr th {\n",
       "        vertical-align: top;\n",
       "    }\n",
       "\n",
       "    .dataframe thead th {\n",
       "        text-align: right;\n",
       "    }\n",
       "</style>\n",
       "<table border=\"1\" class=\"dataframe\">\n",
       "  <thead>\n",
       "    <tr style=\"text-align: right;\">\n",
       "      <th></th>\n",
       "      <th>control</th>\n",
       "      <th>control_X</th>\n",
       "      <th>IFNGR2g1</th>\n",
       "      <th>IFNGR2g1_X</th>\n",
       "      <th>ATF2g1_X</th>\n",
       "      <th>ATF2g1</th>\n",
       "      <th>IFNGR1g3</th>\n",
       "      <th>IFNGR1g3_X</th>\n",
       "      <th>CD86g1_X</th>\n",
       "      <th>CD86g1</th>\n",
       "      <th>...</th>\n",
       "      <th>STAT2g4</th>\n",
       "      <th>STAT2g4_X</th>\n",
       "      <th>BRD4g1</th>\n",
       "      <th>BRD4g1_X</th>\n",
       "      <th>SMAD4g3_X</th>\n",
       "      <th>SMAD4g3</th>\n",
       "      <th>IRF7g4</th>\n",
       "      <th>IRF7g4_X</th>\n",
       "      <th>STAT1g1</th>\n",
       "      <th>STAT1g1_X</th>\n",
       "    </tr>\n",
       "  </thead>\n",
       "  <tbody>\n",
       "    <tr>\n",
       "      <th>control</th>\n",
       "      <td>0.000000</td>\n",
       "      <td>-4.860225</td>\n",
       "      <td>163.346868</td>\n",
       "      <td>135.549388</td>\n",
       "      <td>7.273807</td>\n",
       "      <td>8.494321</td>\n",
       "      <td>139.446321</td>\n",
       "      <td>137.475957</td>\n",
       "      <td>-0.156676</td>\n",
       "      <td>9.451423</td>\n",
       "      <td>...</td>\n",
       "      <td>17.946147</td>\n",
       "      <td>9.716716</td>\n",
       "      <td>81.837579</td>\n",
       "      <td>84.351780</td>\n",
       "      <td>51.529300</td>\n",
       "      <td>55.602235</td>\n",
       "      <td>0.938916</td>\n",
       "      <td>4.825170</td>\n",
       "      <td>162.682683</td>\n",
       "      <td>139.605280</td>\n",
       "    </tr>\n",
       "    <tr>\n",
       "      <th>control_X</th>\n",
       "      <td>-4.860225</td>\n",
       "      <td>0.000000</td>\n",
       "      <td>170.034370</td>\n",
       "      <td>134.788332</td>\n",
       "      <td>-2.027969</td>\n",
       "      <td>-7.014657</td>\n",
       "      <td>135.854643</td>\n",
       "      <td>153.265429</td>\n",
       "      <td>-3.555077</td>\n",
       "      <td>-11.608042</td>\n",
       "      <td>...</td>\n",
       "      <td>12.727134</td>\n",
       "      <td>17.001541</td>\n",
       "      <td>83.999100</td>\n",
       "      <td>84.824046</td>\n",
       "      <td>80.316602</td>\n",
       "      <td>90.358481</td>\n",
       "      <td>-9.099682</td>\n",
       "      <td>-6.579062</td>\n",
       "      <td>176.483923</td>\n",
       "      <td>141.477199</td>\n",
       "    </tr>\n",
       "    <tr>\n",
       "      <th>IFNGR2g1</th>\n",
       "      <td>163.346868</td>\n",
       "      <td>170.034370</td>\n",
       "      <td>0.000000</td>\n",
       "      <td>3.712877</td>\n",
       "      <td>207.450522</td>\n",
       "      <td>177.055910</td>\n",
       "      <td>10.426803</td>\n",
       "      <td>7.462041</td>\n",
       "      <td>179.709351</td>\n",
       "      <td>175.376217</td>\n",
       "      <td>...</td>\n",
       "      <td>144.073281</td>\n",
       "      <td>149.893089</td>\n",
       "      <td>224.114435</td>\n",
       "      <td>270.578915</td>\n",
       "      <td>232.430642</td>\n",
       "      <td>207.730695</td>\n",
       "      <td>155.273305</td>\n",
       "      <td>185.716465</td>\n",
       "      <td>8.269907</td>\n",
       "      <td>5.824207</td>\n",
       "    </tr>\n",
       "    <tr>\n",
       "      <th>IFNGR2g1_X</th>\n",
       "      <td>135.549388</td>\n",
       "      <td>134.788332</td>\n",
       "      <td>3.712877</td>\n",
       "      <td>0.000000</td>\n",
       "      <td>163.312018</td>\n",
       "      <td>150.194896</td>\n",
       "      <td>-2.956666</td>\n",
       "      <td>10.656658</td>\n",
       "      <td>150.194071</td>\n",
       "      <td>135.091798</td>\n",
       "      <td>...</td>\n",
       "      <td>114.282947</td>\n",
       "      <td>122.502964</td>\n",
       "      <td>196.849471</td>\n",
       "      <td>241.483730</td>\n",
       "      <td>188.142696</td>\n",
       "      <td>178.262070</td>\n",
       "      <td>125.154543</td>\n",
       "      <td>146.113456</td>\n",
       "      <td>21.549676</td>\n",
       "      <td>4.696169</td>\n",
       "    </tr>\n",
       "    <tr>\n",
       "      <th>ATF2g1_X</th>\n",
       "      <td>7.273807</td>\n",
       "      <td>-2.027969</td>\n",
       "      <td>207.450522</td>\n",
       "      <td>163.312018</td>\n",
       "      <td>0.000000</td>\n",
       "      <td>4.789352</td>\n",
       "      <td>152.016498</td>\n",
       "      <td>181.446247</td>\n",
       "      <td>12.327013</td>\n",
       "      <td>0.551606</td>\n",
       "      <td>...</td>\n",
       "      <td>24.844393</td>\n",
       "      <td>16.350868</td>\n",
       "      <td>92.311499</td>\n",
       "      <td>92.960829</td>\n",
       "      <td>43.024672</td>\n",
       "      <td>61.542401</td>\n",
       "      <td>-1.828519</td>\n",
       "      <td>-6.877133</td>\n",
       "      <td>219.036396</td>\n",
       "      <td>185.401479</td>\n",
       "    </tr>\n",
       "    <tr>\n",
       "      <th>...</th>\n",
       "      <td>...</td>\n",
       "      <td>...</td>\n",
       "      <td>...</td>\n",
       "      <td>...</td>\n",
       "      <td>...</td>\n",
       "      <td>...</td>\n",
       "      <td>...</td>\n",
       "      <td>...</td>\n",
       "      <td>...</td>\n",
       "      <td>...</td>\n",
       "      <td>...</td>\n",
       "      <td>...</td>\n",
       "      <td>...</td>\n",
       "      <td>...</td>\n",
       "      <td>...</td>\n",
       "      <td>...</td>\n",
       "      <td>...</td>\n",
       "      <td>...</td>\n",
       "      <td>...</td>\n",
       "      <td>...</td>\n",
       "      <td>...</td>\n",
       "    </tr>\n",
       "    <tr>\n",
       "      <th>SMAD4g3</th>\n",
       "      <td>55.602235</td>\n",
       "      <td>90.358481</td>\n",
       "      <td>207.730695</td>\n",
       "      <td>178.262070</td>\n",
       "      <td>61.542401</td>\n",
       "      <td>83.594524</td>\n",
       "      <td>183.411626</td>\n",
       "      <td>192.755554</td>\n",
       "      <td>88.027210</td>\n",
       "      <td>102.334201</td>\n",
       "      <td>...</td>\n",
       "      <td>88.855962</td>\n",
       "      <td>60.418095</td>\n",
       "      <td>110.174779</td>\n",
       "      <td>130.310214</td>\n",
       "      <td>2.007960</td>\n",
       "      <td>0.000000</td>\n",
       "      <td>71.829569</td>\n",
       "      <td>88.313760</td>\n",
       "      <td>200.439581</td>\n",
       "      <td>204.958521</td>\n",
       "    </tr>\n",
       "    <tr>\n",
       "      <th>IRF7g4</th>\n",
       "      <td>0.938916</td>\n",
       "      <td>-9.099682</td>\n",
       "      <td>155.273305</td>\n",
       "      <td>125.154543</td>\n",
       "      <td>-1.828519</td>\n",
       "      <td>-7.048866</td>\n",
       "      <td>116.297317</td>\n",
       "      <td>136.065688</td>\n",
       "      <td>-0.469818</td>\n",
       "      <td>-10.528383</td>\n",
       "      <td>...</td>\n",
       "      <td>7.925232</td>\n",
       "      <td>12.962504</td>\n",
       "      <td>82.848544</td>\n",
       "      <td>91.171130</td>\n",
       "      <td>63.580681</td>\n",
       "      <td>71.829569</td>\n",
       "      <td>0.000000</td>\n",
       "      <td>-15.837186</td>\n",
       "      <td>160.937739</td>\n",
       "      <td>134.665423</td>\n",
       "    </tr>\n",
       "    <tr>\n",
       "      <th>IRF7g4_X</th>\n",
       "      <td>4.825170</td>\n",
       "      <td>-6.579062</td>\n",
       "      <td>185.716465</td>\n",
       "      <td>146.113456</td>\n",
       "      <td>-6.877133</td>\n",
       "      <td>-4.325890</td>\n",
       "      <td>132.186753</td>\n",
       "      <td>158.061507</td>\n",
       "      <td>6.607682</td>\n",
       "      <td>-7.241504</td>\n",
       "      <td>...</td>\n",
       "      <td>9.090698</td>\n",
       "      <td>14.473508</td>\n",
       "      <td>84.049623</td>\n",
       "      <td>90.936807</td>\n",
       "      <td>72.296560</td>\n",
       "      <td>88.313760</td>\n",
       "      <td>-15.837186</td>\n",
       "      <td>0.000000</td>\n",
       "      <td>182.937515</td>\n",
       "      <td>153.198750</td>\n",
       "    </tr>\n",
       "    <tr>\n",
       "      <th>STAT1g1</th>\n",
       "      <td>162.682683</td>\n",
       "      <td>176.483923</td>\n",
       "      <td>8.269907</td>\n",
       "      <td>21.549676</td>\n",
       "      <td>219.036396</td>\n",
       "      <td>190.802844</td>\n",
       "      <td>27.195040</td>\n",
       "      <td>39.033792</td>\n",
       "      <td>193.097592</td>\n",
       "      <td>183.191755</td>\n",
       "      <td>...</td>\n",
       "      <td>125.856297</td>\n",
       "      <td>136.793885</td>\n",
       "      <td>234.706286</td>\n",
       "      <td>285.263082</td>\n",
       "      <td>238.510075</td>\n",
       "      <td>200.439581</td>\n",
       "      <td>160.937739</td>\n",
       "      <td>182.937515</td>\n",
       "      <td>0.000000</td>\n",
       "      <td>8.467265</td>\n",
       "    </tr>\n",
       "    <tr>\n",
       "      <th>STAT1g1_X</th>\n",
       "      <td>139.605280</td>\n",
       "      <td>141.477199</td>\n",
       "      <td>5.824207</td>\n",
       "      <td>4.696169</td>\n",
       "      <td>185.401479</td>\n",
       "      <td>147.466242</td>\n",
       "      <td>17.974511</td>\n",
       "      <td>15.851793</td>\n",
       "      <td>140.448718</td>\n",
       "      <td>136.294451</td>\n",
       "      <td>...</td>\n",
       "      <td>98.767041</td>\n",
       "      <td>109.133948</td>\n",
       "      <td>165.232990</td>\n",
       "      <td>200.708932</td>\n",
       "      <td>214.995411</td>\n",
       "      <td>204.958521</td>\n",
       "      <td>134.665423</td>\n",
       "      <td>153.198750</td>\n",
       "      <td>8.467265</td>\n",
       "      <td>0.000000</td>\n",
       "    </tr>\n",
       "  </tbody>\n",
       "</table>\n",
       "<p>168 rows × 168 columns</p>\n",
       "</div>"
      ],
      "text/plain": [
       "               control   control_X    IFNGR2g1  IFNGR2g1_X    ATF2g1_X  \\\n",
       "control       0.000000   -4.860225  163.346868  135.549388    7.273807   \n",
       "control_X    -4.860225    0.000000  170.034370  134.788332   -2.027969   \n",
       "IFNGR2g1    163.346868  170.034370    0.000000    3.712877  207.450522   \n",
       "IFNGR2g1_X  135.549388  134.788332    3.712877    0.000000  163.312018   \n",
       "ATF2g1_X      7.273807   -2.027969  207.450522  163.312018    0.000000   \n",
       "...                ...         ...         ...         ...         ...   \n",
       "SMAD4g3      55.602235   90.358481  207.730695  178.262070   61.542401   \n",
       "IRF7g4        0.938916   -9.099682  155.273305  125.154543   -1.828519   \n",
       "IRF7g4_X      4.825170   -6.579062  185.716465  146.113456   -6.877133   \n",
       "STAT1g1     162.682683  176.483923    8.269907   21.549676  219.036396   \n",
       "STAT1g1_X   139.605280  141.477199    5.824207    4.696169  185.401479   \n",
       "\n",
       "                ATF2g1    IFNGR1g3  IFNGR1g3_X    CD86g1_X      CD86g1  ...  \\\n",
       "control       8.494321  139.446321  137.475957   -0.156676    9.451423  ...   \n",
       "control_X    -7.014657  135.854643  153.265429   -3.555077  -11.608042  ...   \n",
       "IFNGR2g1    177.055910   10.426803    7.462041  179.709351  175.376217  ...   \n",
       "IFNGR2g1_X  150.194896   -2.956666   10.656658  150.194071  135.091798  ...   \n",
       "ATF2g1_X      4.789352  152.016498  181.446247   12.327013    0.551606  ...   \n",
       "...                ...         ...         ...         ...         ...  ...   \n",
       "SMAD4g3      83.594524  183.411626  192.755554   88.027210  102.334201  ...   \n",
       "IRF7g4       -7.048866  116.297317  136.065688   -0.469818  -10.528383  ...   \n",
       "IRF7g4_X     -4.325890  132.186753  158.061507    6.607682   -7.241504  ...   \n",
       "STAT1g1     190.802844   27.195040   39.033792  193.097592  183.191755  ...   \n",
       "STAT1g1_X   147.466242   17.974511   15.851793  140.448718  136.294451  ...   \n",
       "\n",
       "               STAT2g4   STAT2g4_X      BRD4g1    BRD4g1_X   SMAD4g3_X  \\\n",
       "control      17.946147    9.716716   81.837579   84.351780   51.529300   \n",
       "control_X    12.727134   17.001541   83.999100   84.824046   80.316602   \n",
       "IFNGR2g1    144.073281  149.893089  224.114435  270.578915  232.430642   \n",
       "IFNGR2g1_X  114.282947  122.502964  196.849471  241.483730  188.142696   \n",
       "ATF2g1_X     24.844393   16.350868   92.311499   92.960829   43.024672   \n",
       "...                ...         ...         ...         ...         ...   \n",
       "SMAD4g3      88.855962   60.418095  110.174779  130.310214    2.007960   \n",
       "IRF7g4        7.925232   12.962504   82.848544   91.171130   63.580681   \n",
       "IRF7g4_X      9.090698   14.473508   84.049623   90.936807   72.296560   \n",
       "STAT1g1     125.856297  136.793885  234.706286  285.263082  238.510075   \n",
       "STAT1g1_X    98.767041  109.133948  165.232990  200.708932  214.995411   \n",
       "\n",
       "               SMAD4g3      IRF7g4    IRF7g4_X     STAT1g1   STAT1g1_X  \n",
       "control      55.602235    0.938916    4.825170  162.682683  139.605280  \n",
       "control_X    90.358481   -9.099682   -6.579062  176.483923  141.477199  \n",
       "IFNGR2g1    207.730695  155.273305  185.716465    8.269907    5.824207  \n",
       "IFNGR2g1_X  178.262070  125.154543  146.113456   21.549676    4.696169  \n",
       "ATF2g1_X     61.542401   -1.828519   -6.877133  219.036396  185.401479  \n",
       "...                ...         ...         ...         ...         ...  \n",
       "SMAD4g3       0.000000   71.829569   88.313760  200.439581  204.958521  \n",
       "IRF7g4       71.829569    0.000000  -15.837186  160.937739  134.665423  \n",
       "IRF7g4_X     88.313760  -15.837186    0.000000  182.937515  153.198750  \n",
       "STAT1g1     200.439581  160.937739  182.937515    0.000000    8.467265  \n",
       "STAT1g1_X   204.958521  134.665423  153.198750    8.467265    0.000000  \n",
       "\n",
       "[168 rows x 168 columns]"
      ]
     },
     "execution_count": 8,
     "metadata": {},
     "output_type": "execute_result"
    }
   ],
   "source": [
    "ed_split"
   ]
  },
  {
   "cell_type": "code",
   "execution_count": 9,
   "id": "6e3c6691",
   "metadata": {
    "ExecuteTime": {
     "end_time": "2022-11-21T12:54:08.500842Z",
     "start_time": "2022-11-21T12:54:08.490011Z"
    }
   },
   "outputs": [
    {
     "data": {
      "text/plain": [
       "control     -4.860225\n",
       "IFNGR2g1     3.712877\n",
       "ATF2g1       4.789352\n",
       "IFNGR1g3    12.101871\n",
       "CD86g1      -1.591053\n",
       "              ...    \n",
       "STAT2g4     -6.889923\n",
       "BRD4g1       1.129045\n",
       "SMAD4g3      2.007960\n",
       "IRF7g4     -15.837186\n",
       "STAT1g1      8.467265\n",
       "Length: 84, dtype: float64"
      ]
     },
     "execution_count": 9,
     "metadata": {},
     "output_type": "execute_result"
    }
   ],
   "source": [
    "res = {}\n",
    "for group in groups:\n",
    "    res[group] = ed_split.loc[group, f'{group}_X']\n",
    "sim_to_split = pd.Series(res)\n",
    "sim_to_split"
   ]
  },
  {
   "cell_type": "code",
   "execution_count": 10,
   "id": "7ee8e478",
   "metadata": {
    "ExecuteTime": {
     "end_time": "2022-11-21T12:54:08.508158Z",
     "start_time": "2022-11-21T12:54:08.502422Z"
    }
   },
   "outputs": [],
   "source": [
    "def evaluate_split(adata, key='perturbation'):\n",
    "    random_split(adata, key)\n",
    "    ed_split = edist(adata, 'perturbation_X')\n",
    "    groups = ed_split.columns[~ed_split.columns.str.endswith('_X')].values\n",
    "    res = {}\n",
    "    for group in groups:\n",
    "        res[group] = ed_split.loc[group, f'{group}_X']\n",
    "    sim_to_split = pd.Series(res)\n",
    "    return sim_to_split"
   ]
  },
  {
   "cell_type": "code",
   "execution_count": 11,
   "id": "119507e6",
   "metadata": {
    "ExecuteTime": {
     "end_time": "2022-11-21T12:55:21.228757Z",
     "start_time": "2022-11-21T12:54:08.510893Z"
    }
   },
   "outputs": [
    {
     "name": "stderr",
     "output_type": "stream",
     "text": [
      "100%|██████████| 168/168 [01:12<00:00,  2.31it/s]\n"
     ]
    }
   ],
   "source": [
    "sim_to_split = evaluate_split(adata)"
   ]
  },
  {
   "cell_type": "code",
   "execution_count": 12,
   "id": "dfe5aa0c",
   "metadata": {
    "ExecuteTime": {
     "end_time": "2022-11-21T12:58:27.025744Z",
     "start_time": "2022-11-21T12:56:55.423156Z"
    }
   },
   "outputs": [
    {
     "name": "stderr",
     "output_type": "stream",
     "text": [
      "100%|██████████| 168/168 [01:12<00:00,  2.31it/s]\n"
     ]
    }
   ],
   "source": [
    "bdata = adata.copy()\n",
    "sc.pp.pca(bdata, use_highly_variable=False)\n",
    "sim_to_split_ = evaluate_split(bdata)"
   ]
  },
  {
   "cell_type": "code",
   "execution_count": 13,
   "id": "42ae2c12",
   "metadata": {
    "ExecuteTime": {
     "end_time": "2022-11-21T12:58:27.032784Z",
     "start_time": "2022-11-21T12:58:27.028810Z"
    }
   },
   "outputs": [],
   "source": [
    "df = pd.concat([sim_to_split, sim_to_split_], axis=1)\n",
    "df.columns = ['Edistance between splits (HVG=True)', 'Edistance between splits (HVG=False)']"
   ]
  },
  {
   "cell_type": "code",
   "execution_count": 17,
   "id": "f247b9f4",
   "metadata": {
    "ExecuteTime": {
     "end_time": "2022-11-07T15:55:48.251809Z",
     "start_time": "2022-11-07T15:55:48.115413Z"
    }
   },
   "outputs": [
    {
     "data": {
      "image/png": "[encoded data removed]",
      "text/plain": [
       "<Figure size 432x288 with 1 Axes>"
      ]
     },
     "metadata": {
      "needs_background": "light"
     },
     "output_type": "display_data"
    }
   ],
   "source": [
    "sns.scatterplot(data=df, x='Edistance between splits (HVG=True)', y='Edistance between splits (HVG=False)')\n",
    "mi = np.min(df.values)\n",
    "ma = np.max(df.values)\n",
    "pl.plot([mi,ma], [mi,ma],c='r')\n",
    "pl.show()"
   ]
  },
  {
   "cell_type": "code",
   "execution_count": 15,
   "id": "4d8ad398",
   "metadata": {
    "ExecuteTime": {
     "end_time": "2022-11-21T12:58:27.432608Z",
     "start_time": "2022-11-21T12:58:27.214709Z"
    }
   },
   "outputs": [
    {
     "data": {
      "image/png": "[encoded data removed]",
      "text/plain": [
       "<Figure size 432x288 with 1 Axes>"
      ]
     },
     "metadata": {
      "needs_background": "light"
     },
     "output_type": "display_data"
    }
   ],
   "source": [
    "sns.scatterplot(data=df, x='Edistance between splits (HVG=True)', y='Edistance between splits (HVG=False)')\n",
    "mi = np.min(df.values)\n",
    "ma = np.max(df.values)\n",
    "pl.plot([mi,ma], [mi,ma],c='r')\n",
    "pl.show()"
   ]
  },
  {
   "cell_type": "code",
   "execution_count": 16,
   "id": "fff325d1",
   "metadata": {
    "ExecuteTime": {
     "end_time": "2022-11-21T12:58:27.442547Z",
     "start_time": "2022-11-21T12:58:27.434286Z"
    }
   },
   "outputs": [
    {
     "data": {
      "text/html": [
       "<div>\n",
       "<style scoped>\n",
       "    .dataframe tbody tr th:only-of-type {\n",
       "        vertical-align: middle;\n",
       "    }\n",
       "\n",
       "    .dataframe tbody tr th {\n",
       "        vertical-align: top;\n",
       "    }\n",
       "\n",
       "    .dataframe thead th {\n",
       "        text-align: right;\n",
       "    }\n",
       "</style>\n",
       "<table border=\"1\" class=\"dataframe\">\n",
       "  <thead>\n",
       "    <tr style=\"text-align: right;\">\n",
       "      <th></th>\n",
       "      <th>Edistance between splits (HVG=True)</th>\n",
       "      <th>Edistance between splits (HVG=False)</th>\n",
       "    </tr>\n",
       "  </thead>\n",
       "  <tbody>\n",
       "    <tr>\n",
       "      <th>ETV7g1</th>\n",
       "      <td>-0.685262</td>\n",
       "      <td>-26.087681</td>\n",
       "    </tr>\n",
       "    <tr>\n",
       "      <th>PDCD1LG2g1</th>\n",
       "      <td>6.267423</td>\n",
       "      <td>-24.973108</td>\n",
       "    </tr>\n",
       "    <tr>\n",
       "      <th>CMTM6g3</th>\n",
       "      <td>-3.420207</td>\n",
       "      <td>-24.302542</td>\n",
       "    </tr>\n",
       "    <tr>\n",
       "      <th>ETV7g3</th>\n",
       "      <td>-0.573320</td>\n",
       "      <td>-22.452971</td>\n",
       "    </tr>\n",
       "    <tr>\n",
       "      <th>JAK2g1</th>\n",
       "      <td>2.993568</td>\n",
       "      <td>-22.043707</td>\n",
       "    </tr>\n",
       "    <tr>\n",
       "      <th>...</th>\n",
       "      <td>...</td>\n",
       "      <td>...</td>\n",
       "    </tr>\n",
       "    <tr>\n",
       "      <th>CD86g2</th>\n",
       "      <td>-3.011224</td>\n",
       "      <td>36.032630</td>\n",
       "    </tr>\n",
       "    <tr>\n",
       "      <th>CAV1g4</th>\n",
       "      <td>10.525492</td>\n",
       "      <td>36.819344</td>\n",
       "    </tr>\n",
       "    <tr>\n",
       "      <th>BRD4g3</th>\n",
       "      <td>5.014113</td>\n",
       "      <td>45.829960</td>\n",
       "    </tr>\n",
       "    <tr>\n",
       "      <th>CMTM6g1</th>\n",
       "      <td>3.772668</td>\n",
       "      <td>47.516586</td>\n",
       "    </tr>\n",
       "    <tr>\n",
       "      <th>control</th>\n",
       "      <td>-6.249534</td>\n",
       "      <td>89.017291</td>\n",
       "    </tr>\n",
       "  </tbody>\n",
       "</table>\n",
       "<p>84 rows × 2 columns</p>\n",
       "</div>"
      ],
      "text/plain": [
       "            Edistance between splits (HVG=True)  \\\n",
       "ETV7g1                                -0.685262   \n",
       "PDCD1LG2g1                             6.267423   \n",
       "CMTM6g3                               -3.420207   \n",
       "ETV7g3                                -0.573320   \n",
       "JAK2g1                                 2.993568   \n",
       "...                                         ...   \n",
       "CD86g2                                -3.011224   \n",
       "CAV1g4                                10.525492   \n",
       "BRD4g3                                 5.014113   \n",
       "CMTM6g1                                3.772668   \n",
       "control                               -6.249534   \n",
       "\n",
       "            Edistance between splits (HVG=False)  \n",
       "ETV7g1                                -26.087681  \n",
       "PDCD1LG2g1                            -24.973108  \n",
       "CMTM6g3                               -24.302542  \n",
       "ETV7g3                                -22.452971  \n",
       "JAK2g1                                -22.043707  \n",
       "...                                          ...  \n",
       "CD86g2                                 36.032630  \n",
       "CAV1g4                                 36.819344  \n",
       "BRD4g3                                 45.829960  \n",
       "CMTM6g1                                47.516586  \n",
       "control                                89.017291  \n",
       "\n",
       "[84 rows x 2 columns]"
      ]
     },
     "execution_count": 16,
     "metadata": {},
     "output_type": "execute_result"
    }
   ],
   "source": [
    "df.sort_values('Edistance between splits (HVG=False)')"
   ]
  },
  {
   "cell_type": "code",
   "execution_count": 17,
   "id": "b132f411",
   "metadata": {
    "ExecuteTime": {
     "end_time": "2022-11-21T12:58:27.464037Z",
     "start_time": "2022-11-21T12:58:27.444066Z"
    }
   },
   "outputs": [
    {
     "data": {
      "text/plain": [
       "perturbation  guide_id\n",
       "ATF2g1        ATF2g1      50\n",
       "ATF2g2        ATF2g2      50\n",
       "ATF2g3        ATF2g3      50\n",
       "ATF2g4        ATF2g4      50\n",
       "BRD4g1        BRD4g1      50\n",
       "                          ..\n",
       "control       NTg5         8\n",
       "              NTg7         7\n",
       "              NTg8         1\n",
       "              NTg9         8\n",
       "              NTg10        7\n",
       "Length: 92, dtype: int64"
      ]
     },
     "execution_count": 17,
     "metadata": {},
     "output_type": "execute_result"
    }
   ],
   "source": [
    "adata.obs.value_counts(['perturbation', 'guide_id'], sort=False)"
   ]
  },
  {
   "cell_type": "code",
   "execution_count": 27,
   "id": "a63c4578",
   "metadata": {
    "ExecuteTime": {
     "end_time": "2022-11-07T16:42:27.700866Z",
     "start_time": "2022-11-07T16:42:27.441843Z"
    }
   },
   "outputs": [
    {
     "data": {
      "text/plain": [
       "<AxesSubplot:ylabel='Count'>"
      ]
     },
     "execution_count": 27,
     "metadata": {},
     "output_type": "execute_result"
    },
    {
     "data": {
      "image/png": "[encoded data removed]",
      "text/plain": [
       "<Figure size 432x288 with 1 Axes>"
      ]
     },
     "metadata": {
      "needs_background": "light"
     },
     "output_type": "display_data"
    }
   ],
   "source": [
    "sns.histplot(data=df)"
   ]
  },
  {
   "cell_type": "code",
   "execution_count": 19,
   "id": "47282c5f",
   "metadata": {
    "ExecuteTime": {
     "end_time": "2022-11-07T16:14:41.287822Z",
     "start_time": "2022-11-07T16:14:41.282006Z"
    }
   },
   "outputs": [
    {
     "data": {
      "text/plain": [
       "Edistance between splits (HVG=True)     0.706578\n",
       "Edistance between splits (HVG=False)   -0.900592\n",
       "dtype: float64"
      ]
     },
     "execution_count": 19,
     "metadata": {},
     "output_type": "execute_result"
    }
   ],
   "source": [
    "df.mean()"
   ]
  },
  {
   "cell_type": "code",
   "execution_count": null,
   "id": "e0ecc9da",
   "metadata": {},
   "outputs": [],
   "source": [
    "for pert in adata.obs.perturbation.unique():\n",
    "    subdata = adata[adata.obs.perturbation.isin()]"
   ]
  },
  {
   "cell_type": "code",
   "execution_count": 28,
   "id": "b42b2c9b",
   "metadata": {
    "ExecuteTime": {
     "end_time": "2022-11-07T16:43:32.047629Z",
     "start_time": "2022-11-07T16:43:32.042542Z"
    }
   },
   "outputs": [
    {
     "data": {
      "text/plain": [
       "AnnData object with n_obs × n_vars = 4200 × 15987\n",
       "    obs: 'hto', 'guide_id', 'hto_barcode', 'gdo_barcode', 'perturbation', 'tissue_type', 'cell_line', 'cancer', 'disease', 'perturbation_type', 'celltype', 'organism', 'nperts', 'ngenes', 'ncounts', 'percent_mito', 'percent_ribo', 'n_counts', 'perturbation_X'\n",
       "    var: 'ensembl_id', 'ncounts', 'ncells', 'n_cells', 'highly_variable', 'highly_variable_rank', 'means', 'variances', 'variances_norm'\n",
       "    uns: 'hvg', 'log1p', 'neighbors', 'pca'\n",
       "    obsm: 'X_pca'\n",
       "    varm: 'PCs'\n",
       "    layers: 'counts'\n",
       "    obsp: 'connectivities', 'distances'"
      ]
     },
     "execution_count": 28,
     "metadata": {},
     "output_type": "execute_result"
    }
   ],
   "source": [
    "adata"
   ]
  },
  {
   "cell_type": "code",
   "execution_count": 31,
   "id": "3af0dc85",
   "metadata": {
    "ExecuteTime": {
     "end_time": "2022-11-07T16:58:47.729790Z",
     "start_time": "2022-11-07T16:58:21.815563Z"
    }
   },
   "outputs": [
    {
     "name": "stderr",
     "output_type": "stream",
     "text": [
      "100%|██████████| 84/84 [00:25<00:00,  3.24it/s]\n"
     ]
    }
   ],
   "source": [
    "ed_ns = edist(adata, dist='euclidean')"
   ]
  },
  {
   "cell_type": "code",
   "execution_count": 34,
   "id": "21620b88",
   "metadata": {
    "ExecuteTime": {
     "end_time": "2022-11-07T16:59:17.268892Z",
     "start_time": "2022-11-07T16:59:17.264117Z"
    }
   },
   "outputs": [
    {
     "data": {
      "text/plain": [
       "-0.2314814413265296"
      ]
     },
     "execution_count": 34,
     "metadata": {},
     "output_type": "execute_result"
    }
   ],
   "source": [
    "np.min(ed_ns.values)"
   ]
  },
  {
   "cell_type": "code",
   "execution_count": 36,
   "id": "b55c4ebe",
   "metadata": {
    "ExecuteTime": {
     "end_time": "2022-11-07T17:01:26.859035Z",
     "start_time": "2022-11-07T17:01:26.851441Z"
    },
    "code_folding": [
     4,
     49
    ]
   },
   "outputs": [],
   "source": [
    "from tqdm import tqdm\n",
    "from sklearn.metrics import pairwise_distances\n",
    "from statsmodels.stats.multitest import multipletests\n",
    "\n",
    "def pairwise_pca_distances_(adata, obs_key, obsm_key='X_pca', dist='sqeuclidean', verbose=True):\n",
    "    \"\"\"Average of pairwise PCA distances between cells of each group in obs_key.\n",
    "    For each pair of groups defined in adata.obs[obs_key] (e.g. perturbations)\n",
    "    computes all pairwise distances between cells in adata.obsm[obsm_key] (e.g. PCA space)\n",
    "    and averages them per group-pair. This results in a distance matrix between all groups.\n",
    "\n",
    "    Arguments\n",
    "    ---------\n",
    "    adata: :class:`~anndata.AnnData`\n",
    "        Annotated data matrix.\n",
    "    obs_key: `str` in adata.obs.keys()\n",
    "        Key in adata.obs specifying the groups to consider.\n",
    "    obsm_key: `str` in adata.obsm (default: `adata.obsm['X_pca']`)\n",
    "        Key for embedding coordinates to use.\n",
    "    dist: `str` for any distance in scipy.spatial.distance (default: `sqeuclidean`)\n",
    "        Distance metric to use in embedding space.\n",
    "    verbose: `bool` (default: `True`)\n",
    "        Whether to show a progress bar iterating over all groups.\n",
    "\n",
    "    Returns\n",
    "    -------\n",
    "    pwd: pandas.DataFrame\n",
    "        DataFrame with pairwise PCA distances between all groups.\n",
    "    \"\"\"\n",
    "\n",
    "    if obs_key=='X_pca':\n",
    "        print('PCA embedding not found, computing...')\n",
    "        sc.pp.pca(adata)\n",
    "\n",
    "    groups = pd.unique(adata.obs[obs_key])\n",
    "    df = pd.DataFrame(index=groups, columns=groups, dtype=float)\n",
    "    fct = tqdm if verbose else lambda x: x\n",
    "    for i, p1 in enumerate(fct(groups)):\n",
    "        x1 = adata[adata.obs[obs_key]==p1].obsm[obsm_key].copy()\n",
    "        N = len(x1)\n",
    "        for p2 in groups[i:]:\n",
    "            x2 = adata[adata.obs[obs_key]==p2].obsm[obsm_key].copy()\n",
    "            pwd = pairwise_distances(x1, x2, metric=dist)\n",
    "            M = len(x2)\n",
    "            factor = N*M if p1!=p2 else N**2 - N  # correct mean for zero diagonal if comparing to same set\n",
    "            mean_pwd = np.sum(pwd) / factor\n",
    "            df.loc[p1, p2] = mean_pwd\n",
    "            df.loc[p2, p1] = mean_pwd\n",
    "    return df\n",
    "\n",
    "def edist_(adata, obs_key='perturbation', obsm_key='X_pca', pwd=None, dist='sqeuclidean', verbose=True):\n",
    "    \"\"\"Computes the edistance to control. Accepts precomputed pwd.\n",
    "    Computes the pairwise E-distances between all groups of cells defined in\n",
    "    adata.obs[obs_key] (e.g. perturbations). Distances are computed in embedding\n",
    "    space given by adata.obsm[obsm_key] (e.g. PCA space).\n",
    "\n",
    "    Arguments\n",
    "    ---------\n",
    "    adata: :class:`~anndata.AnnData`\n",
    "        Annotated data matrix.\n",
    "    obs_key: `str` in adata.obs.keys() (default: `perturbation`)\n",
    "        Key in adata.obs specifying the groups to consider.\n",
    "    obsm_key: `str` in adata.obsm (default: `adata.obsm['X_pca']`)\n",
    "        Key for embedding coordinates to use.\n",
    "    dist: `str` for any distance in scipy.spatial.distance (default: `sqeuclidean`)\n",
    "        Distance metric to use in embedding space.\n",
    "    verbose: `bool` (default: `True`)\n",
    "        Whether to show a progress bar iterating over all groups.\n",
    "\n",
    "    Returns\n",
    "    -------\n",
    "    estats: pandas.DataFrame\n",
    "        DataFrame with pairwise E-distances between all groups.\n",
    "    \"\"\"\n",
    "\n",
    "    pwd = pairwise_pca_distances_(adata, obs_key=obs_key, obsm_key=obsm_key, dist=dist, verbose=verbose) if pwd is None else pwd\n",
    "    # derive basic statistics\n",
    "    sigmas = np.diag(pwd)\n",
    "    deltas = pwd\n",
    "    estats = 2 * deltas - sigmas - sigmas[:, np.newaxis]\n",
    "    return estats"
   ]
  },
  {
   "cell_type": "code",
   "execution_count": 37,
   "id": "b0aacbdd",
   "metadata": {
    "ExecuteTime": {
     "end_time": "2022-11-07T17:01:57.890726Z",
     "start_time": "2022-11-07T17:01:31.947250Z"
    }
   },
   "outputs": [
    {
     "name": "stderr",
     "output_type": "stream",
     "text": [
      "100%|██████████| 84/84 [00:25<00:00,  3.24it/s]\n"
     ]
    }
   ],
   "source": [
    "ed_ns_ = edist_(adata, dist='euclidean')"
   ]
  },
  {
   "cell_type": "code",
   "execution_count": 38,
   "id": "ba3826cb",
   "metadata": {
    "ExecuteTime": {
     "end_time": "2022-11-07T17:02:08.842123Z",
     "start_time": "2022-11-07T17:02:08.836512Z"
    }
   },
   "outputs": [
    {
     "data": {
      "text/plain": [
       "0.0"
      ]
     },
     "execution_count": 38,
     "metadata": {},
     "output_type": "execute_result"
    }
   ],
   "source": [
    "np.min(ed_ns_.values)"
   ]
  },
  {
   "cell_type": "code",
   "execution_count": 39,
   "id": "3999ae99",
   "metadata": {
    "ExecuteTime": {
     "end_time": "2022-11-07T17:02:49.823200Z",
     "start_time": "2022-11-07T17:02:49.794362Z"
    }
   },
   "outputs": [
    {
     "data": {
      "text/html": [
       "<div>\n",
       "<style scoped>\n",
       "    .dataframe tbody tr th:only-of-type {\n",
       "        vertical-align: middle;\n",
       "    }\n",
       "\n",
       "    .dataframe tbody tr th {\n",
       "        vertical-align: top;\n",
       "    }\n",
       "\n",
       "    .dataframe thead th {\n",
       "        text-align: right;\n",
       "    }\n",
       "</style>\n",
       "<table border=\"1\" class=\"dataframe\">\n",
       "  <thead>\n",
       "    <tr style=\"text-align: right;\">\n",
       "      <th></th>\n",
       "      <th>control</th>\n",
       "      <th>IFNGR2g1</th>\n",
       "      <th>ATF2g1</th>\n",
       "      <th>IFNGR1g3</th>\n",
       "      <th>CD86g1</th>\n",
       "      <th>IFNGR2g2</th>\n",
       "      <th>POU2F2g1</th>\n",
       "      <th>JAK2g2</th>\n",
       "      <th>IFNGR1g2</th>\n",
       "      <th>TNFRSF14g1</th>\n",
       "      <th>...</th>\n",
       "      <th>IRF7g3</th>\n",
       "      <th>ATF2g3</th>\n",
       "      <th>PDCD1LG2g2</th>\n",
       "      <th>STAT3g4</th>\n",
       "      <th>STAT3g2</th>\n",
       "      <th>STAT2g4</th>\n",
       "      <th>BRD4g1</th>\n",
       "      <th>SMAD4g3</th>\n",
       "      <th>IRF7g4</th>\n",
       "      <th>STAT1g1</th>\n",
       "    </tr>\n",
       "  </thead>\n",
       "  <tbody>\n",
       "    <tr>\n",
       "      <th>control</th>\n",
       "      <td>0.000000</td>\n",
       "      <td>5.044092</td>\n",
       "      <td>0.722336</td>\n",
       "      <td>4.809097</td>\n",
       "      <td>0.702148</td>\n",
       "      <td>3.189998</td>\n",
       "      <td>0.719958</td>\n",
       "      <td>4.189928</td>\n",
       "      <td>3.086614</td>\n",
       "      <td>0.607455</td>\n",
       "      <td>...</td>\n",
       "      <td>0.774136</td>\n",
       "      <td>0.661808</td>\n",
       "      <td>0.726130</td>\n",
       "      <td>0.946570</td>\n",
       "      <td>0.728328</td>\n",
       "      <td>1.222314</td>\n",
       "      <td>3.122748</td>\n",
       "      <td>2.770495</td>\n",
       "      <td>0.757511</td>\n",
       "      <td>5.191605</td>\n",
       "    </tr>\n",
       "    <tr>\n",
       "      <th>IFNGR2g1</th>\n",
       "      <td>5.044092</td>\n",
       "      <td>0.000000</td>\n",
       "      <td>5.482713</td>\n",
       "      <td>0.726189</td>\n",
       "      <td>5.238150</td>\n",
       "      <td>0.765484</td>\n",
       "      <td>5.350975</td>\n",
       "      <td>0.994920</td>\n",
       "      <td>0.931969</td>\n",
       "      <td>4.738184</td>\n",
       "      <td>...</td>\n",
       "      <td>4.181412</td>\n",
       "      <td>5.127641</td>\n",
       "      <td>5.502519</td>\n",
       "      <td>4.631469</td>\n",
       "      <td>5.083361</td>\n",
       "      <td>4.482722</td>\n",
       "      <td>7.220525</td>\n",
       "      <td>6.495734</td>\n",
       "      <td>5.151606</td>\n",
       "      <td>0.889697</td>\n",
       "    </tr>\n",
       "    <tr>\n",
       "      <th>ATF2g1</th>\n",
       "      <td>0.722336</td>\n",
       "      <td>5.482713</td>\n",
       "      <td>0.000000</td>\n",
       "      <td>5.071917</td>\n",
       "      <td>0.638413</td>\n",
       "      <td>3.461494</td>\n",
       "      <td>0.701178</td>\n",
       "      <td>4.360133</td>\n",
       "      <td>3.260247</td>\n",
       "      <td>0.743334</td>\n",
       "      <td>...</td>\n",
       "      <td>0.882641</td>\n",
       "      <td>0.589528</td>\n",
       "      <td>0.849100</td>\n",
       "      <td>1.041234</td>\n",
       "      <td>0.596220</td>\n",
       "      <td>1.249106</td>\n",
       "      <td>2.613275</td>\n",
       "      <td>2.591019</td>\n",
       "      <td>0.614031</td>\n",
       "      <td>5.792078</td>\n",
       "    </tr>\n",
       "    <tr>\n",
       "      <th>IFNGR1g3</th>\n",
       "      <td>4.809097</td>\n",
       "      <td>0.726189</td>\n",
       "      <td>5.071917</td>\n",
       "      <td>0.000000</td>\n",
       "      <td>5.065189</td>\n",
       "      <td>0.893317</td>\n",
       "      <td>5.033148</td>\n",
       "      <td>0.920553</td>\n",
       "      <td>0.877617</td>\n",
       "      <td>4.520061</td>\n",
       "      <td>...</td>\n",
       "      <td>4.116133</td>\n",
       "      <td>4.882827</td>\n",
       "      <td>5.079458</td>\n",
       "      <td>4.756333</td>\n",
       "      <td>4.860594</td>\n",
       "      <td>4.548511</td>\n",
       "      <td>6.907248</td>\n",
       "      <td>6.287820</td>\n",
       "      <td>4.712795</td>\n",
       "      <td>1.328252</td>\n",
       "    </tr>\n",
       "    <tr>\n",
       "      <th>CD86g1</th>\n",
       "      <td>0.702148</td>\n",
       "      <td>5.238150</td>\n",
       "      <td>0.638413</td>\n",
       "      <td>5.065189</td>\n",
       "      <td>0.000000</td>\n",
       "      <td>3.264163</td>\n",
       "      <td>0.737350</td>\n",
       "      <td>4.530117</td>\n",
       "      <td>3.194506</td>\n",
       "      <td>0.630741</td>\n",
       "      <td>...</td>\n",
       "      <td>0.911709</td>\n",
       "      <td>0.556059</td>\n",
       "      <td>0.692428</td>\n",
       "      <td>0.863797</td>\n",
       "      <td>0.625142</td>\n",
       "      <td>0.991137</td>\n",
       "      <td>2.544331</td>\n",
       "      <td>3.240809</td>\n",
       "      <td>0.702084</td>\n",
       "      <td>5.365900</td>\n",
       "    </tr>\n",
       "    <tr>\n",
       "      <th>...</th>\n",
       "      <td>...</td>\n",
       "      <td>...</td>\n",
       "      <td>...</td>\n",
       "      <td>...</td>\n",
       "      <td>...</td>\n",
       "      <td>...</td>\n",
       "      <td>...</td>\n",
       "      <td>...</td>\n",
       "      <td>...</td>\n",
       "      <td>...</td>\n",
       "      <td>...</td>\n",
       "      <td>...</td>\n",
       "      <td>...</td>\n",
       "      <td>...</td>\n",
       "      <td>...</td>\n",
       "      <td>...</td>\n",
       "      <td>...</td>\n",
       "      <td>...</td>\n",
       "      <td>...</td>\n",
       "      <td>...</td>\n",
       "      <td>...</td>\n",
       "    </tr>\n",
       "    <tr>\n",
       "      <th>STAT2g4</th>\n",
       "      <td>1.222314</td>\n",
       "      <td>4.482722</td>\n",
       "      <td>1.249106</td>\n",
       "      <td>4.548511</td>\n",
       "      <td>0.991137</td>\n",
       "      <td>2.775413</td>\n",
       "      <td>1.005494</td>\n",
       "      <td>3.979186</td>\n",
       "      <td>2.813106</td>\n",
       "      <td>0.998509</td>\n",
       "      <td>...</td>\n",
       "      <td>1.137328</td>\n",
       "      <td>1.073806</td>\n",
       "      <td>1.188206</td>\n",
       "      <td>1.174259</td>\n",
       "      <td>1.146405</td>\n",
       "      <td>0.000000</td>\n",
       "      <td>2.814447</td>\n",
       "      <td>2.794856</td>\n",
       "      <td>1.141012</td>\n",
       "      <td>4.141987</td>\n",
       "    </tr>\n",
       "    <tr>\n",
       "      <th>BRD4g1</th>\n",
       "      <td>3.122748</td>\n",
       "      <td>7.220525</td>\n",
       "      <td>2.613275</td>\n",
       "      <td>6.907248</td>\n",
       "      <td>2.544331</td>\n",
       "      <td>5.484828</td>\n",
       "      <td>3.036213</td>\n",
       "      <td>6.739102</td>\n",
       "      <td>5.115312</td>\n",
       "      <td>2.495759</td>\n",
       "      <td>...</td>\n",
       "      <td>3.475422</td>\n",
       "      <td>2.568347</td>\n",
       "      <td>3.003134</td>\n",
       "      <td>3.186897</td>\n",
       "      <td>2.638970</td>\n",
       "      <td>2.814447</td>\n",
       "      <td>0.000000</td>\n",
       "      <td>4.016303</td>\n",
       "      <td>3.280947</td>\n",
       "      <td>6.975178</td>\n",
       "    </tr>\n",
       "    <tr>\n",
       "      <th>SMAD4g3</th>\n",
       "      <td>2.770495</td>\n",
       "      <td>6.495734</td>\n",
       "      <td>2.591019</td>\n",
       "      <td>6.287820</td>\n",
       "      <td>3.240809</td>\n",
       "      <td>5.088266</td>\n",
       "      <td>2.614166</td>\n",
       "      <td>5.880080</td>\n",
       "      <td>4.529353</td>\n",
       "      <td>2.592656</td>\n",
       "      <td>...</td>\n",
       "      <td>2.637153</td>\n",
       "      <td>2.779484</td>\n",
       "      <td>3.413828</td>\n",
       "      <td>3.068412</td>\n",
       "      <td>2.632223</td>\n",
       "      <td>2.794856</td>\n",
       "      <td>4.016303</td>\n",
       "      <td>0.000000</td>\n",
       "      <td>2.971431</td>\n",
       "      <td>6.915859</td>\n",
       "    </tr>\n",
       "    <tr>\n",
       "      <th>IRF7g4</th>\n",
       "      <td>0.757511</td>\n",
       "      <td>5.151606</td>\n",
       "      <td>0.614031</td>\n",
       "      <td>4.712795</td>\n",
       "      <td>0.702084</td>\n",
       "      <td>3.118419</td>\n",
       "      <td>0.679491</td>\n",
       "      <td>4.087089</td>\n",
       "      <td>2.993375</td>\n",
       "      <td>0.847575</td>\n",
       "      <td>...</td>\n",
       "      <td>0.935056</td>\n",
       "      <td>0.795675</td>\n",
       "      <td>0.691553</td>\n",
       "      <td>1.132206</td>\n",
       "      <td>0.723952</td>\n",
       "      <td>1.141012</td>\n",
       "      <td>3.280947</td>\n",
       "      <td>2.971431</td>\n",
       "      <td>0.000000</td>\n",
       "      <td>5.307456</td>\n",
       "    </tr>\n",
       "    <tr>\n",
       "      <th>STAT1g1</th>\n",
       "      <td>5.191605</td>\n",
       "      <td>0.889697</td>\n",
       "      <td>5.792078</td>\n",
       "      <td>1.328252</td>\n",
       "      <td>5.365900</td>\n",
       "      <td>1.041075</td>\n",
       "      <td>5.456059</td>\n",
       "      <td>1.388058</td>\n",
       "      <td>1.364113</td>\n",
       "      <td>4.873756</td>\n",
       "      <td>...</td>\n",
       "      <td>4.488887</td>\n",
       "      <td>5.476844</td>\n",
       "      <td>5.434247</td>\n",
       "      <td>4.873506</td>\n",
       "      <td>5.375014</td>\n",
       "      <td>4.141987</td>\n",
       "      <td>6.975178</td>\n",
       "      <td>6.915859</td>\n",
       "      <td>5.307456</td>\n",
       "      <td>0.000000</td>\n",
       "    </tr>\n",
       "  </tbody>\n",
       "</table>\n",
       "<p>84 rows × 84 columns</p>\n",
       "</div>"
      ],
      "text/plain": [
       "           control  IFNGR2g1    ATF2g1  IFNGR1g3    CD86g1  IFNGR2g2  \\\n",
       "control   0.000000  5.044092  0.722336  4.809097  0.702148  3.189998   \n",
       "IFNGR2g1  5.044092  0.000000  5.482713  0.726189  5.238150  0.765484   \n",
       "ATF2g1    0.722336  5.482713  0.000000  5.071917  0.638413  3.461494   \n",
       "IFNGR1g3  4.809097  0.726189  5.071917  0.000000  5.065189  0.893317   \n",
       "CD86g1    0.702148  5.238150  0.638413  5.065189  0.000000  3.264163   \n",
       "...            ...       ...       ...       ...       ...       ...   \n",
       "STAT2g4   1.222314  4.482722  1.249106  4.548511  0.991137  2.775413   \n",
       "BRD4g1    3.122748  7.220525  2.613275  6.907248  2.544331  5.484828   \n",
       "SMAD4g3   2.770495  6.495734  2.591019  6.287820  3.240809  5.088266   \n",
       "IRF7g4    0.757511  5.151606  0.614031  4.712795  0.702084  3.118419   \n",
       "STAT1g1   5.191605  0.889697  5.792078  1.328252  5.365900  1.041075   \n",
       "\n",
       "          POU2F2g1    JAK2g2  IFNGR1g2  TNFRSF14g1  ...    IRF7g3    ATF2g3  \\\n",
       "control   0.719958  4.189928  3.086614    0.607455  ...  0.774136  0.661808   \n",
       "IFNGR2g1  5.350975  0.994920  0.931969    4.738184  ...  4.181412  5.127641   \n",
       "ATF2g1    0.701178  4.360133  3.260247    0.743334  ...  0.882641  0.589528   \n",
       "IFNGR1g3  5.033148  0.920553  0.877617    4.520061  ...  4.116133  4.882827   \n",
       "CD86g1    0.737350  4.530117  3.194506    0.630741  ...  0.911709  0.556059   \n",
       "...            ...       ...       ...         ...  ...       ...       ...   \n",
       "STAT2g4   1.005494  3.979186  2.813106    0.998509  ...  1.137328  1.073806   \n",
       "BRD4g1    3.036213  6.739102  5.115312    2.495759  ...  3.475422  2.568347   \n",
       "SMAD4g3   2.614166  5.880080  4.529353    2.592656  ...  2.637153  2.779484   \n",
       "IRF7g4    0.679491  4.087089  2.993375    0.847575  ...  0.935056  0.795675   \n",
       "STAT1g1   5.456059  1.388058  1.364113    4.873756  ...  4.488887  5.476844   \n",
       "\n",
       "          PDCD1LG2g2   STAT3g4   STAT3g2   STAT2g4    BRD4g1   SMAD4g3  \\\n",
       "control     0.726130  0.946570  0.728328  1.222314  3.122748  2.770495   \n",
       "IFNGR2g1    5.502519  4.631469  5.083361  4.482722  7.220525  6.495734   \n",
       "ATF2g1      0.849100  1.041234  0.596220  1.249106  2.613275  2.591019   \n",
       "IFNGR1g3    5.079458  4.756333  4.860594  4.548511  6.907248  6.287820   \n",
       "CD86g1      0.692428  0.863797  0.625142  0.991137  2.544331  3.240809   \n",
       "...              ...       ...       ...       ...       ...       ...   \n",
       "STAT2g4     1.188206  1.174259  1.146405  0.000000  2.814447  2.794856   \n",
       "BRD4g1      3.003134  3.186897  2.638970  2.814447  0.000000  4.016303   \n",
       "SMAD4g3     3.413828  3.068412  2.632223  2.794856  4.016303  0.000000   \n",
       "IRF7g4      0.691553  1.132206  0.723952  1.141012  3.280947  2.971431   \n",
       "STAT1g1     5.434247  4.873506  5.375014  4.141987  6.975178  6.915859   \n",
       "\n",
       "            IRF7g4   STAT1g1  \n",
       "control   0.757511  5.191605  \n",
       "IFNGR2g1  5.151606  0.889697  \n",
       "ATF2g1    0.614031  5.792078  \n",
       "IFNGR1g3  4.712795  1.328252  \n",
       "CD86g1    0.702084  5.365900  \n",
       "...            ...       ...  \n",
       "STAT2g4   1.141012  4.141987  \n",
       "BRD4g1    3.280947  6.975178  \n",
       "SMAD4g3   2.971431  6.915859  \n",
       "IRF7g4    0.000000  5.307456  \n",
       "STAT1g1   5.307456  0.000000  \n",
       "\n",
       "[84 rows x 84 columns]"
      ]
     },
     "execution_count": 39,
     "metadata": {},
     "output_type": "execute_result"
    }
   ],
   "source": [
    "ed_ns_"
   ]
  },
  {
   "cell_type": "code",
   "execution_count": 40,
   "id": "b442ad75",
   "metadata": {
    "ExecuteTime": {
     "end_time": "2022-11-07T17:05:03.817282Z",
     "start_time": "2022-11-07T17:05:03.790376Z"
    }
   },
   "outputs": [
    {
     "data": {
      "text/html": [
       "<div>\n",
       "<style scoped>\n",
       "    .dataframe tbody tr th:only-of-type {\n",
       "        vertical-align: middle;\n",
       "    }\n",
       "\n",
       "    .dataframe tbody tr th {\n",
       "        vertical-align: top;\n",
       "    }\n",
       "\n",
       "    .dataframe thead th {\n",
       "        text-align: right;\n",
       "    }\n",
       "</style>\n",
       "<table border=\"1\" class=\"dataframe\">\n",
       "  <thead>\n",
       "    <tr style=\"text-align: right;\">\n",
       "      <th></th>\n",
       "      <th>control</th>\n",
       "      <th>IFNGR2g1</th>\n",
       "      <th>ATF2g1</th>\n",
       "      <th>IFNGR1g3</th>\n",
       "      <th>CD86g1</th>\n",
       "      <th>IFNGR2g2</th>\n",
       "      <th>POU2F2g1</th>\n",
       "      <th>JAK2g2</th>\n",
       "      <th>IFNGR1g2</th>\n",
       "      <th>TNFRSF14g1</th>\n",
       "      <th>...</th>\n",
       "      <th>IRF7g3</th>\n",
       "      <th>ATF2g3</th>\n",
       "      <th>PDCD1LG2g2</th>\n",
       "      <th>STAT3g4</th>\n",
       "      <th>STAT3g2</th>\n",
       "      <th>STAT2g4</th>\n",
       "      <th>BRD4g1</th>\n",
       "      <th>SMAD4g3</th>\n",
       "      <th>IRF7g4</th>\n",
       "      <th>STAT1g1</th>\n",
       "    </tr>\n",
       "  </thead>\n",
       "  <tbody>\n",
       "    <tr>\n",
       "      <th>control</th>\n",
       "      <td>0.000000</td>\n",
       "      <td>4.388302</td>\n",
       "      <td>0.023567</td>\n",
       "      <td>4.153805</td>\n",
       "      <td>0.016894</td>\n",
       "      <td>2.521802</td>\n",
       "      <td>0.063667</td>\n",
       "      <td>3.479272</td>\n",
       "      <td>2.423419</td>\n",
       "      <td>-0.055395</td>\n",
       "      <td>...</td>\n",
       "      <td>0.091511</td>\n",
       "      <td>-0.014035</td>\n",
       "      <td>0.067353</td>\n",
       "      <td>0.276385</td>\n",
       "      <td>0.054300</td>\n",
       "      <td>0.544327</td>\n",
       "      <td>2.468303</td>\n",
       "      <td>2.118798</td>\n",
       "      <td>0.076092</td>\n",
       "      <td>4.535994</td>\n",
       "    </tr>\n",
       "    <tr>\n",
       "      <th>IFNGR2g1</th>\n",
       "      <td>4.388302</td>\n",
       "      <td>0.000000</td>\n",
       "      <td>4.803380</td>\n",
       "      <td>0.090334</td>\n",
       "      <td>4.572332</td>\n",
       "      <td>0.116725</td>\n",
       "      <td>4.714121</td>\n",
       "      <td>0.303701</td>\n",
       "      <td>0.288211</td>\n",
       "      <td>4.094771</td>\n",
       "      <td>...</td>\n",
       "      <td>3.518224</td>\n",
       "      <td>4.471235</td>\n",
       "      <td>4.863179</td>\n",
       "      <td>3.980720</td>\n",
       "      <td>4.428770</td>\n",
       "      <td>3.824172</td>\n",
       "      <td>6.585516</td>\n",
       "      <td>5.863474</td>\n",
       "      <td>4.489624</td>\n",
       "      <td>0.253524</td>\n",
       "    </tr>\n",
       "    <tr>\n",
       "      <th>ATF2g1</th>\n",
       "      <td>0.023567</td>\n",
       "      <td>4.803380</td>\n",
       "      <td>0.000000</td>\n",
       "      <td>4.393082</td>\n",
       "      <td>-0.070385</td>\n",
       "      <td>2.769755</td>\n",
       "      <td>0.021344</td>\n",
       "      <td>3.625934</td>\n",
       "      <td>2.573509</td>\n",
       "      <td>0.056942</td>\n",
       "      <td>...</td>\n",
       "      <td>0.176473</td>\n",
       "      <td>-0.109857</td>\n",
       "      <td>0.166781</td>\n",
       "      <td>0.347506</td>\n",
       "      <td>-0.101350</td>\n",
       "      <td>0.547576</td>\n",
       "      <td>1.935287</td>\n",
       "      <td>1.915779</td>\n",
       "      <td>-0.090931</td>\n",
       "      <td>5.112925</td>\n",
       "    </tr>\n",
       "    <tr>\n",
       "      <th>IFNGR1g3</th>\n",
       "      <td>4.153805</td>\n",
       "      <td>0.090334</td>\n",
       "      <td>4.393082</td>\n",
       "      <td>0.000000</td>\n",
       "      <td>4.399869</td>\n",
       "      <td>0.245056</td>\n",
       "      <td>4.396792</td>\n",
       "      <td>0.229831</td>\n",
       "      <td>0.234357</td>\n",
       "      <td>3.877145</td>\n",
       "      <td>...</td>\n",
       "      <td>3.453442</td>\n",
       "      <td>4.226919</td>\n",
       "      <td>4.440616</td>\n",
       "      <td>4.106082</td>\n",
       "      <td>4.206500</td>\n",
       "      <td>3.890458</td>\n",
       "      <td>6.272737</td>\n",
       "      <td>5.656057</td>\n",
       "      <td>4.051311</td>\n",
       "      <td>0.692576</td>\n",
       "    </tr>\n",
       "    <tr>\n",
       "      <th>CD86g1</th>\n",
       "      <td>0.016894</td>\n",
       "      <td>4.572332</td>\n",
       "      <td>-0.070385</td>\n",
       "      <td>4.399869</td>\n",
       "      <td>0.000000</td>\n",
       "      <td>2.585938</td>\n",
       "      <td>0.071031</td>\n",
       "      <td>3.809433</td>\n",
       "      <td>2.521283</td>\n",
       "      <td>-0.042137</td>\n",
       "      <td>...</td>\n",
       "      <td>0.219056</td>\n",
       "      <td>-0.129811</td>\n",
       "      <td>0.023624</td>\n",
       "      <td>0.183584</td>\n",
       "      <td>-0.058914</td>\n",
       "      <td>0.303122</td>\n",
       "      <td>1.879858</td>\n",
       "      <td>2.579084</td>\n",
       "      <td>0.010637</td>\n",
       "      <td>4.700262</td>\n",
       "    </tr>\n",
       "    <tr>\n",
       "      <th>...</th>\n",
       "      <td>...</td>\n",
       "      <td>...</td>\n",
       "      <td>...</td>\n",
       "      <td>...</td>\n",
       "      <td>...</td>\n",
       "      <td>...</td>\n",
       "      <td>...</td>\n",
       "      <td>...</td>\n",
       "      <td>...</td>\n",
       "      <td>...</td>\n",
       "      <td>...</td>\n",
       "      <td>...</td>\n",
       "      <td>...</td>\n",
       "      <td>...</td>\n",
       "      <td>...</td>\n",
       "      <td>...</td>\n",
       "      <td>...</td>\n",
       "      <td>...</td>\n",
       "      <td>...</td>\n",
       "      <td>...</td>\n",
       "      <td>...</td>\n",
       "    </tr>\n",
       "    <tr>\n",
       "      <th>STAT2g4</th>\n",
       "      <td>0.544327</td>\n",
       "      <td>3.824172</td>\n",
       "      <td>0.547576</td>\n",
       "      <td>3.890458</td>\n",
       "      <td>0.303122</td>\n",
       "      <td>2.104456</td>\n",
       "      <td>0.346442</td>\n",
       "      <td>3.265769</td>\n",
       "      <td>2.147151</td>\n",
       "      <td>0.332899</td>\n",
       "      <td>...</td>\n",
       "      <td>0.451942</td>\n",
       "      <td>0.395203</td>\n",
       "      <td>0.526670</td>\n",
       "      <td>0.501314</td>\n",
       "      <td>0.469616</td>\n",
       "      <td>0.000000</td>\n",
       "      <td>2.157241</td>\n",
       "      <td>2.140398</td>\n",
       "      <td>0.456833</td>\n",
       "      <td>3.483617</td>\n",
       "    </tr>\n",
       "    <tr>\n",
       "      <th>BRD4g1</th>\n",
       "      <td>2.468303</td>\n",
       "      <td>6.585516</td>\n",
       "      <td>1.935287</td>\n",
       "      <td>6.272737</td>\n",
       "      <td>1.879858</td>\n",
       "      <td>4.837413</td>\n",
       "      <td>2.400703</td>\n",
       "      <td>6.049226</td>\n",
       "      <td>4.472899</td>\n",
       "      <td>1.853690</td>\n",
       "      <td>...</td>\n",
       "      <td>2.813578</td>\n",
       "      <td>1.913286</td>\n",
       "      <td>2.365139</td>\n",
       "      <td>2.537493</td>\n",
       "      <td>1.985724</td>\n",
       "      <td>2.157241</td>\n",
       "      <td>0.000000</td>\n",
       "      <td>3.385387</td>\n",
       "      <td>2.620309</td>\n",
       "      <td>6.340349</td>\n",
       "    </tr>\n",
       "    <tr>\n",
       "      <th>SMAD4g3</th>\n",
       "      <td>2.118798</td>\n",
       "      <td>5.863474</td>\n",
       "      <td>1.915779</td>\n",
       "      <td>5.656057</td>\n",
       "      <td>2.579084</td>\n",
       "      <td>4.443599</td>\n",
       "      <td>1.981404</td>\n",
       "      <td>5.192952</td>\n",
       "      <td>3.889687</td>\n",
       "      <td>1.953335</td>\n",
       "      <td>...</td>\n",
       "      <td>1.978057</td>\n",
       "      <td>2.127171</td>\n",
       "      <td>2.778581</td>\n",
       "      <td>2.421756</td>\n",
       "      <td>1.981725</td>\n",
       "      <td>2.140398</td>\n",
       "      <td>3.385387</td>\n",
       "      <td>0.000000</td>\n",
       "      <td>2.313541</td>\n",
       "      <td>6.283778</td>\n",
       "    </tr>\n",
       "    <tr>\n",
       "      <th>IRF7g4</th>\n",
       "      <td>0.076092</td>\n",
       "      <td>4.489624</td>\n",
       "      <td>-0.090931</td>\n",
       "      <td>4.051311</td>\n",
       "      <td>0.010637</td>\n",
       "      <td>2.444030</td>\n",
       "      <td>0.017007</td>\n",
       "      <td>3.370240</td>\n",
       "      <td>2.323987</td>\n",
       "      <td>0.178532</td>\n",
       "      <td>...</td>\n",
       "      <td>0.246238</td>\n",
       "      <td>0.113640</td>\n",
       "      <td>0.026584</td>\n",
       "      <td>0.455828</td>\n",
       "      <td>0.043731</td>\n",
       "      <td>0.456833</td>\n",
       "      <td>2.620309</td>\n",
       "      <td>2.313541</td>\n",
       "      <td>0.000000</td>\n",
       "      <td>4.645653</td>\n",
       "    </tr>\n",
       "    <tr>\n",
       "      <th>STAT1g1</th>\n",
       "      <td>4.535994</td>\n",
       "      <td>0.253524</td>\n",
       "      <td>5.112925</td>\n",
       "      <td>0.692576</td>\n",
       "      <td>4.700262</td>\n",
       "      <td>0.392495</td>\n",
       "      <td>4.819385</td>\n",
       "      <td>0.697018</td>\n",
       "      <td>0.720534</td>\n",
       "      <td>4.230523</td>\n",
       "      <td>...</td>\n",
       "      <td>3.825879</td>\n",
       "      <td>4.820618</td>\n",
       "      <td>4.795087</td>\n",
       "      <td>4.222937</td>\n",
       "      <td>4.720603</td>\n",
       "      <td>3.483617</td>\n",
       "      <td>6.340349</td>\n",
       "      <td>6.283778</td>\n",
       "      <td>4.645653</td>\n",
       "      <td>0.000000</td>\n",
       "    </tr>\n",
       "  </tbody>\n",
       "</table>\n",
       "<p>84 rows × 84 columns</p>\n",
       "</div>"
      ],
      "text/plain": [
       "           control  IFNGR2g1    ATF2g1  IFNGR1g3    CD86g1  IFNGR2g2  \\\n",
       "control   0.000000  4.388302  0.023567  4.153805  0.016894  2.521802   \n",
       "IFNGR2g1  4.388302  0.000000  4.803380  0.090334  4.572332  0.116725   \n",
       "ATF2g1    0.023567  4.803380  0.000000  4.393082 -0.070385  2.769755   \n",
       "IFNGR1g3  4.153805  0.090334  4.393082  0.000000  4.399869  0.245056   \n",
       "CD86g1    0.016894  4.572332 -0.070385  4.399869  0.000000  2.585938   \n",
       "...            ...       ...       ...       ...       ...       ...   \n",
       "STAT2g4   0.544327  3.824172  0.547576  3.890458  0.303122  2.104456   \n",
       "BRD4g1    2.468303  6.585516  1.935287  6.272737  1.879858  4.837413   \n",
       "SMAD4g3   2.118798  5.863474  1.915779  5.656057  2.579084  4.443599   \n",
       "IRF7g4    0.076092  4.489624 -0.090931  4.051311  0.010637  2.444030   \n",
       "STAT1g1   4.535994  0.253524  5.112925  0.692576  4.700262  0.392495   \n",
       "\n",
       "          POU2F2g1    JAK2g2  IFNGR1g2  TNFRSF14g1  ...    IRF7g3    ATF2g3  \\\n",
       "control   0.063667  3.479272  2.423419   -0.055395  ...  0.091511 -0.014035   \n",
       "IFNGR2g1  4.714121  0.303701  0.288211    4.094771  ...  3.518224  4.471235   \n",
       "ATF2g1    0.021344  3.625934  2.573509    0.056942  ...  0.176473 -0.109857   \n",
       "IFNGR1g3  4.396792  0.229831  0.234357    3.877145  ...  3.453442  4.226919   \n",
       "CD86g1    0.071031  3.809433  2.521283   -0.042137  ...  0.219056 -0.129811   \n",
       "...            ...       ...       ...         ...  ...       ...       ...   \n",
       "STAT2g4   0.346442  3.265769  2.147151    0.332899  ...  0.451942  0.395203   \n",
       "BRD4g1    2.400703  6.049226  4.472899    1.853690  ...  2.813578  1.913286   \n",
       "SMAD4g3   1.981404  5.192952  3.889687    1.953335  ...  1.978057  2.127171   \n",
       "IRF7g4    0.017007  3.370240  2.323987    0.178532  ...  0.246238  0.113640   \n",
       "STAT1g1   4.819385  0.697018  0.720534    4.230523  ...  3.825879  4.820618   \n",
       "\n",
       "          PDCD1LG2g2   STAT3g4   STAT3g2   STAT2g4    BRD4g1   SMAD4g3  \\\n",
       "control     0.067353  0.276385  0.054300  0.544327  2.468303  2.118798   \n",
       "IFNGR2g1    4.863179  3.980720  4.428770  3.824172  6.585516  5.863474   \n",
       "ATF2g1      0.166781  0.347506 -0.101350  0.547576  1.935287  1.915779   \n",
       "IFNGR1g3    4.440616  4.106082  4.206500  3.890458  6.272737  5.656057   \n",
       "CD86g1      0.023624  0.183584 -0.058914  0.303122  1.879858  2.579084   \n",
       "...              ...       ...       ...       ...       ...       ...   \n",
       "STAT2g4     0.526670  0.501314  0.469616  0.000000  2.157241  2.140398   \n",
       "BRD4g1      2.365139  2.537493  1.985724  2.157241  0.000000  3.385387   \n",
       "SMAD4g3     2.778581  2.421756  1.981725  2.140398  3.385387  0.000000   \n",
       "IRF7g4      0.026584  0.455828  0.043731  0.456833  2.620309  2.313541   \n",
       "STAT1g1     4.795087  4.222937  4.720603  3.483617  6.340349  6.283778   \n",
       "\n",
       "            IRF7g4   STAT1g1  \n",
       "control   0.076092  4.535994  \n",
       "IFNGR2g1  4.489624  0.253524  \n",
       "ATF2g1   -0.090931  5.112925  \n",
       "IFNGR1g3  4.051311  0.692576  \n",
       "CD86g1    0.010637  4.700262  \n",
       "...            ...       ...  \n",
       "STAT2g4   0.456833  3.483617  \n",
       "BRD4g1    2.620309  6.340349  \n",
       "SMAD4g3   2.313541  6.283778  \n",
       "IRF7g4    0.000000  4.645653  \n",
       "STAT1g1   4.645653  0.000000  \n",
       "\n",
       "[84 rows x 84 columns]"
      ]
     },
     "execution_count": 40,
     "metadata": {},
     "output_type": "execute_result"
    }
   ],
   "source": [
    "ed_ns"
   ]
  }
 ],
 "metadata": {
  "hide_input": false,
  "kernelspec": {
   "display_name": "Python 3",
   "language": "python",
   "name": "python3"
  },
  "language_info": {
   "codemirror_mode": {
    "name": "ipython",
    "version": 3
   },
   "file_extension": ".py",
   "mimetype": "text/x-python",
   "name": "python",
   "nbconvert_exporter": "python",
   "pygments_lexer": "ipython3",
   "version": "3.9.13"
  }
 },
 "nbformat": 4,
 "nbformat_minor": 5
}
