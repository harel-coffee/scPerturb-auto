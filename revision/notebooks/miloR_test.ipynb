{
 "cells": [
  {
   "cell_type": "code",
   "execution_count": 3,
   "metadata": {
    "ExecuteTime": {
     "end_time": "2021-11-11T13:47:55.411135Z",
     "start_time": "2021-11-11T13:47:55.395Z"
    }
   },
   "outputs": [
    {
     "ename": "ERROR",
     "evalue": "Error in library(miloR): there is no package called ‘miloR’\n",
     "output_type": "error",
     "traceback": [
      "Error in library(miloR): there is no package called ‘miloR’\nTraceback:\n",
      "1. library(miloR)"
     ]
    }
   ],
   "source": [
    "library(miloR)"
   ]
  }
 ],
 "metadata": {
  "hide_input": false,
  "kernelspec": {
   "display_name": "R",
   "language": "R",
   "name": "ir"
  },
  "language_info": {
   "codemirror_mode": "r",
   "file_extension": ".r",
   "mimetype": "text/x-r-source",
   "name": "R",
   "pygments_lexer": "r",
   "version": "4.1.0"
  }
 },
 "nbformat": 4,
 "nbformat_minor": 4
}
