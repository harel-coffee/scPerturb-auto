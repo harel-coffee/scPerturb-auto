{
 "cells": [
  {
   "cell_type": "code",
   "execution_count": 10,
   "id": "90754763",
   "metadata": {},
   "outputs": [],
   "source": [
    "import scanpy as sc\n",
    "import pertpy as pt\n",
    "import numpy as np\n",
    "import pandas as pd\n",
    "from scipy.cluster.hierarchy import distance, linkage, dendrogram\n",
    "from seaborn import clustermap\n",
    "import seaborn as sns\n",
    "import matplotlib.pyplot as plt\n",
    "import episcanpy as epi\n",
    "from scipy import stats\n",
    "import edistance as ed\n",
    "from utils import equal_subsampling"
   ]
  },
  {
   "cell_type": "code",
   "execution_count": 11,
   "id": "2c3f097a",
   "metadata": {},
   "outputs": [],
   "source": [
    "plt.rcParams['figure.dpi'] = 300\n",
    "plt.rcParams.update({'font.size': 7})\n",
    "fig_title = \"Norman et al\"\n",
    "workingdir = \"output/metric-comp-norman/\""
   ]
  },
  {
   "cell_type": "code",
   "execution_count": 12,
   "id": "ff2948b0",
   "metadata": {},
   "outputs": [],
   "source": [
    "dist_dfs = {}\n",
    "\n",
    "#dist_dfs['mmd'] = pd.read_csv(workingdir + \"mmd.csv\", index_col=0)\n",
    "dist_dfs['pseudobulk'] = pd.read_csv(workingdir + \"pseudobulk.csv\", index_col=0)\n",
    "dist_dfs['wasserstein'] = pd.read_csv(workingdir + \"wasserstein.csv\", index_col=0)\n",
    "dist_dfs['edist'] = pd.read_csv(workingdir + \"edist.csv\", index_col=0)\n",
    "dist_dfs['mmd_gauss'] = pd.read_csv(workingdir + \"mmd_rbf_gamma_0pt05.csv\", index_col=0)\n",
    "adata = sc.read_h5ad(workingdir + \"processed_subset.h5ad\")\n"
   ]
  },
  {
   "cell_type": "code",
   "execution_count": 13,
   "id": "2f67af84",
   "metadata": {},
   "outputs": [],
   "source": [
    "magnitudes = pd.concat([dist_dfs[key]['control'] for key in dist_dfs], axis=1, keys =[key for key in dist_dfs] )"
   ]
  },
  {
   "cell_type": "code",
   "execution_count": 14,
   "id": "ed817338",
   "metadata": {},
   "outputs": [],
   "source": [
    "# remove the corresponding 0 row\n",
    "\n",
    "magnitudes = magnitudes[magnitudes['edist']!=0]\n",
    "magnitudes['perturbation']= magnitudes.index\n"
   ]
  },
  {
   "cell_type": "code",
   "execution_count": 15,
   "id": "cfa2c1a8",
   "metadata": {
    "scrolled": true
   },
   "outputs": [],
   "source": [
    "pd.plotting.scatter_matrix(magnitudes, alpha = .7, diagonal = \"kde\")\n",
    "plt.suptitle(fig_title  + \" scatter matrix\")\n",
    "plt.savefig(workingdir + \"scatter_matrix.pdf\")"
   ]
  },
  {
   "cell_type": "code",
   "execution_count": 16,
   "id": "62b092d7",
   "metadata": {},
   "outputs": [],
   "source": [
    "magma = pd.melt(magnitudes, id_vars= \"perturbation\")\n",
    "magma.columns = ['perturbation','metric','distance']\n",
    "magma = magma[magma['perturbation']!=\"control\"]\n"
   ]
  },
  {
   "cell_type": "code",
   "execution_count": null,
   "id": "f2503052",
   "metadata": {},
   "outputs": [],
   "source": [
    "g2 = sns.catplot(data = magma, x = 'perturbation', y = 'distance', hue = 'metric', order =magnitudes.sort_values('edist')['perturbation'] ,\n",
    "                aspect=2)\n",
    "#g2.set(xticklabels=[])  \n",
    "g2.set(title=fig_title+\"Distances\",xticklabels=[])\n",
    "#g2.set_yscale(\"log\")\n",
    "plt.xticks(rotation=90)\n",
    "plt.yscale(\"log\")\n",
    "plt.savefig(workingdir + \"catplot_log.pdf\", bbox_inches=\"tight\")"
   ]
  },
  {
   "cell_type": "code",
   "execution_count": null,
   "id": "745192de",
   "metadata": {},
   "outputs": [],
   "source": [
    "g2 = sns.catplot(data = magma, x = 'perturbation', y = 'distance', hue = 'metric', order =magnitudes.sort_values('edist')['perturbation'] ,\n",
    "                aspect=2)\n",
    "#g2.set(xticklabels=[])  \n",
    "g2.set(title=fig_title+\" Distances\",xticklabels=[])\n",
    "plt.xticks(rotation=90)\n",
    "plt.savefig(workingdir + \"catplot.pdf\", bbox_inches=\"tight\")\n",
    "\n",
    "#plt.yscale(\"log\")"
   ]
  },
  {
   "cell_type": "code",
   "execution_count": 26,
   "id": "92eddbab",
   "metadata": {},
   "outputs": [],
   "source": [
    "def normalize(df, leaveout= [\"perturbation\"]):\n",
    "    result = df.copy()\n",
    "    for feature_name in df.columns:\n",
    "        if feature_name in leaveout:\n",
    "            result[feature_name] = df[feature_name]\n",
    "        else:\n",
    "            max_value = df[feature_name].max()\n",
    "            min_value = df[feature_name].min()\n",
    "            result[feature_name] = (df[feature_name] - min_value) / (max_value - min_value)\n",
    "    return result"
   ]
  },
  {
   "cell_type": "code",
   "execution_count": 27,
   "id": "da62b43d",
   "metadata": {},
   "outputs": [],
   "source": [
    "normed_mag = normalize(magnitudes)"
   ]
  },
  {
   "cell_type": "code",
   "execution_count": 28,
   "id": "35e4c65d",
   "metadata": {},
   "outputs": [],
   "source": [
    "normed_magma = pd.melt(normed_mag, id_vars= \"perturbation\")\n",
    "normed_magma.columns = ['perturbation','metric','distance']\n"
   ]
  },
  {
   "cell_type": "code",
   "execution_count": 35,
   "id": "9e3a6363",
   "metadata": {},
   "outputs": [],
   "source": [
    "g2 = sns.catplot(data = normed_magma[normed_magma['metric']!=\"mmd\"], x = 'perturbation', y = 'distance', hue = 'metric', order =magnitudes.sort_values('edist')['perturbation'] ,\n",
    "                aspect=2)\n",
    "#g2.set(xticklabels=[])  \n",
    "g2.set(title=fig_title+\" Distances\",xticklabels=[])\n",
    "#g2.set_yscale(\"log\")\n",
    "plt.xticks(rotation=90)\n",
    "plt.yscale(\"log\")\n",
    "\n",
    "plt.savefig(workingdir + \"catplot_log_minmax_norm.pdf\", bbox_inches=\"tight\")"
   ]
  },
  {
   "cell_type": "code",
   "execution_count": 36,
   "id": "96febe54",
   "metadata": {},
   "outputs": [],
   "source": [
    "g2 = sns.catplot(data = normed_magma, x = 'perturbation', y = 'distance', hue = 'metric', order =magnitudes.sort_values('edist')['perturbation'] ,\n",
    "                aspect=2)\n",
    "#g2.set(xticklabels=[])  \n",
    "g2.set(title=fig_title +\" Distances\", xticklabels=[])\n",
    "plt.xticks(rotation=90)\n",
    "\n",
    "\n",
    "plt.savefig(workingdir + \"catplot_minmax_norm.pdf\", bbox_inches=\"tight\")\n"
   ]
  },
  {
   "cell_type": "code",
   "execution_count": null,
   "id": "805c9316",
   "metadata": {},
   "outputs": [],
   "source": []
  }
 ],
 "metadata": {
  "kernelspec": {
   "display_name": "pertpy-fix",
   "language": "python",
   "name": "pertpy-fix"
  },
  "language_info": {
   "codemirror_mode": {
    "name": "ipython",
    "version": 3
   },
   "file_extension": ".py",
   "mimetype": "text/x-python",
   "name": "python",
   "nbconvert_exporter": "python",
   "pygments_lexer": "ipython3",
   "version": "3.10.9"
  }
 },
 "nbformat": 4,
 "nbformat_minor": 5
}
