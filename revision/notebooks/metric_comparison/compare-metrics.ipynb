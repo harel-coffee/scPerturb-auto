{
 "cells": [
  {
   "cell_type": "code",
   "execution_count": 1,
   "id": "a4853acc",
   "metadata": {},
   "outputs": [
    {
     "name": "stderr",
     "output_type": "stream",
     "text": [
      "No GPU/TPU found, falling back to CPU. (Set TF_CPP_MIN_LOG_LEVEL=0 and rerun for more info.)\n"
     ]
    },
    {
     "data": {
      "text/html": [
       "<pre style=\"white-space:pre;overflow-x:auto;line-height:normal;font-family:Menlo,'DejaVu Sans Mono',consolas,'Courier New',monospace\"><span style=\"color: #808000; text-decoration-color: #808000; font-weight: bold\">ryp2 is not installed. Install with </span><span style=\"color: #008000; text-decoration-color: #008000; font-weight: bold\">pip install rpy2 </span><span style=\"color: #808000; text-decoration-color: #808000; font-weight: bold\">to run tools with R support.</span>\n",
       "</pre>\n"
      ],
      "text/plain": [
       "\u001b[1;33mryp2 is not installed. Install with \u001b[0m\u001b[1;32mpip install rpy2 \u001b[0m\u001b[1;33mto run tools with R support.\u001b[0m\n"
      ]
     },
     "metadata": {},
     "output_type": "display_data"
    }
   ],
   "source": [
    "import scanpy as sc\n",
    "import pertpy as pt\n",
    "import numpy as np\n",
    "import pandas as pd\n",
    "from scipy.cluster.hierarchy import distance, linkage, dendrogram\n",
    "from seaborn import clustermap\n",
    "import seaborn as sns\n",
    "import matplotlib.pyplot as plt\n",
    "import episcanpy as epi\n",
    "from scipy import stats\n",
    "import edistance as ed\n",
    "from utils import equal_subsampling"
   ]
  },
  {
   "cell_type": "code",
   "execution_count": 2,
   "id": "6acf4e4a",
   "metadata": {},
   "outputs": [],
   "source": [
    "def process_rna_adata(adata):\n",
    "    adata.layers['counts'] = adata.X.copy()\n",
    "\n",
    "    # basic qc and pp\n",
    "    sc.pp.filter_cells(adata, min_counts=1000)\n",
    "    sc.pp.normalize_per_cell(adata)\n",
    "    sc.pp.filter_genes(adata, min_cells=50)\n",
    "    #sc.pp.filter_genes(adata, min_cells=3)  # sanity cleaning\n",
    "\n",
    "    n_var_max = 2000  # max total features to select\n",
    "    sc.pp.highly_variable_genes(adata, n_top_genes=n_var_max, subset=False, flavor='seurat_v3', layer='counts')\n",
    "    sc.pp.log1p(adata)\n",
    "\n",
    "    sc.pp.pca(adata, use_highly_variable=True)\n",
    "    sc.pp.neighbors(adata)\n",
    "\n",
    "    adata.uns['processed'] = True\n",
    "    return(adata)"
   ]
  },
  {
   "cell_type": "code",
   "execution_count": 9,
   "id": "a4705873",
   "metadata": {},
   "outputs": [],
   "source": [
    "adata = sc.read_h5ad(\"/n/groups/marks/projects/scperturb/datasets/PapalexiSatija2021_eccite_RNA/PapalexiSatija2021_eccite_RNA.h5ad\")"
   ]
  },
  {
   "cell_type": "code",
   "execution_count": 10,
   "id": "61933b49",
   "metadata": {},
   "outputs": [],
   "source": [
    "adata = process_rna_adata(adata)"
   ]
  },
  {
   "cell_type": "code",
   "execution_count": 14,
   "id": "c0b76316",
   "metadata": {
    "scrolled": true
   },
   "outputs": [
    {
     "data": {
      "text/plain": [
       "AnnData object with n_obs × n_vars = 9400 × 15987\n",
       "    obs: 'hto', 'guide_id', 'hto_barcode', 'gdo_barcode', 'perturbation', 'tissue_type', 'cell_line', 'cancer', 'disease', 'perturbation_type', 'celltype', 'organism', 'nperts', 'ngenes', 'ncounts', 'percent_mito', 'percent_ribo', 'n_counts'\n",
       "    var: 'ensembl_id', 'ncounts', 'ncells', 'n_cells', 'highly_variable', 'highly_variable_rank', 'means', 'variances', 'variances_norm'\n",
       "    uns: 'hvg', 'log1p', 'pca', 'neighbors', 'processed'\n",
       "    obsm: 'X_pca'\n",
       "    varm: 'PCs'\n",
       "    layers: 'counts'\n",
       "    obsp: 'distances', 'connectivities'"
      ]
     },
     "execution_count": 14,
     "metadata": {},
     "output_type": "execute_result"
    }
   ],
   "source": [
    "adata = equal_subsampling(adata, obs_key = \"perturbation\", N_min = 200) "
   ]
  },
  {
   "cell_type": "code",
   "execution_count": 29,
   "id": "f1f75307",
   "metadata": {},
   "outputs": [],
   "source": [
    "dists = {}\n",
    "dists['mmd'] = pt.tools.Distance(metric='mmd')\n",
    "dists['pseudobulk'] = pt.tools.Distance(metric='pseudobulk')\n",
    "dists['wasserstein'] =  pt.tools.Distance(metric='wasserstein')\n"
   ]
  },
  {
   "cell_type": "code",
   "execution_count": 31,
   "id": "350c9c2f",
   "metadata": {},
   "outputs": [
    {
     "data": {
      "text/html": [
       "<pre style=\"white-space:pre;overflow-x:auto;line-height:normal;font-family:Menlo,'DejaVu Sans Mono',consolas,'Courier New',monospace\"></pre>\n"
      ],
      "text/plain": [
       "\u001b[?25l"
      ]
     },
     "metadata": {},
     "output_type": "display_data"
    },
    {
     "data": {
      "application/vnd.jupyter.widget-view+json": {
       "model_id": "8a52cc1c28104ab99abb12fe793c83bc",
       "version_major": 2,
       "version_minor": 0
      },
      "text/plain": [
       "Output()"
      ]
     },
     "metadata": {},
     "output_type": "display_data"
    },
    {
     "data": {
      "text/html": [
       "<pre style=\"white-space:pre;overflow-x:auto;line-height:normal;font-family:Menlo,'DejaVu Sans Mono',consolas,'Courier New',monospace\">\n",
       "</pre>\n"
      ],
      "text/plain": [
       "\n",
       "\u001b[?25h"
      ]
     },
     "metadata": {},
     "output_type": "display_data"
    },
    {
     "data": {
      "text/html": [
       "<pre style=\"white-space:pre;overflow-x:auto;line-height:normal;font-family:Menlo,'DejaVu Sans Mono',consolas,'Courier New',monospace\"></pre>\n"
      ],
      "text/plain": [
       "\u001b[?25l"
      ]
     },
     "metadata": {},
     "output_type": "display_data"
    },
    {
     "data": {
      "application/vnd.jupyter.widget-view+json": {
       "model_id": "bad87c69bfc5417093bfbe4ebe129bfc",
       "version_major": 2,
       "version_minor": 0
      },
      "text/plain": [
       "Output()"
      ]
     },
     "metadata": {},
     "output_type": "display_data"
    },
    {
     "data": {
      "text/html": [
       "<pre style=\"white-space:pre;overflow-x:auto;line-height:normal;font-family:Menlo,'DejaVu Sans Mono',consolas,'Courier New',monospace\">\n",
       "</pre>\n"
      ],
      "text/plain": [
       "\n",
       "\u001b[?25h"
      ]
     },
     "metadata": {},
     "output_type": "display_data"
    },
    {
     "data": {
      "text/html": [
       "<pre style=\"white-space:pre;overflow-x:auto;line-height:normal;font-family:Menlo,'DejaVu Sans Mono',consolas,'Courier New',monospace\"></pre>\n"
      ],
      "text/plain": [
       "\u001b[?25l"
      ]
     },
     "metadata": {},
     "output_type": "display_data"
    },
    {
     "data": {
      "application/vnd.jupyter.widget-view+json": {
       "model_id": "3742b4bc479946db8657697bf22ab6b6",
       "version_major": 2,
       "version_minor": 0
      },
      "text/plain": [
       "Output()"
      ]
     },
     "metadata": {},
     "output_type": "display_data"
    },
    {
     "data": {
      "text/html": [
       "<pre style=\"white-space:pre;overflow-x:auto;line-height:normal;font-family:Menlo,'DejaVu Sans Mono',consolas,'Courier New',monospace\">\n",
       "</pre>\n"
      ],
      "text/plain": [
       "\n",
       "\u001b[?25h"
      ]
     },
     "metadata": {},
     "output_type": "display_data"
    }
   ],
   "source": [
    "dist_dfs = {}\n",
    "for key in dists:\n",
    "    dist_dfs[key] = dists[key].pairwise(adata, groupby='perturbation')"
   ]
  },
  {
   "cell_type": "code",
   "execution_count": null,
   "id": "7f3bb42b",
   "metadata": {},
   "outputs": [],
   "source": [
    "dist_dfs['edist']=ed.pairwise_pca_distances(adata, \"perturbation\", correction_factor=True)"
   ]
  },
  {
   "cell_type": "code",
   "execution_count": 35,
   "id": "18e0e142",
   "metadata": {},
   "outputs": [],
   "source": [
    "dist_dfs['mmd'].to_csv(\"output/metric-comp-papalexi/mmd.csv\")\n",
    "dist_dfs['pseudobulk'].to_csv(\"output/metric-comp-papalexi/pseudobulk.csv\")\n",
    "dist_dfs['wasserstein'].to_csv(\"output/metric-comp-papalexi/wasserstein.csv\")\n",
    "adata.write(\"output/metric-comp-papalexi/papalexi_processed_subset.h5ad\")"
   ]
  },
  {
   "cell_type": "code",
   "execution_count": 21,
   "id": "6f2379d2",
   "metadata": {},
   "outputs": [
    {
     "data": {
      "text/html": [
       "<pre style=\"white-space:pre;overflow-x:auto;line-height:normal;font-family:Menlo,'DejaVu Sans Mono',consolas,'Courier New',monospace\"></pre>\n"
      ],
      "text/plain": [
       "\u001b[?25l"
      ]
     },
     "metadata": {},
     "output_type": "display_data"
    },
    {
     "data": {
      "application/vnd.jupyter.widget-view+json": {
       "model_id": "a19d3f5d9e98408682ea83309e3d099c",
       "version_major": 2,
       "version_minor": 0
      },
      "text/plain": [
       "Output()"
      ]
     },
     "metadata": {},
     "output_type": "display_data"
    },
    {
     "data": {
      "text/html": [
       "<pre style=\"white-space:pre;overflow-x:auto;line-height:normal;font-family:Menlo,'DejaVu Sans Mono',consolas,'Courier New',monospace\">\n",
       "</pre>\n"
      ],
      "text/plain": [
       "\n",
       "\u001b[?25h"
      ]
     },
     "metadata": {},
     "output_type": "display_data"
    }
   ],
   "source": [
    "pb_df = dist_pseudobulk.pairwise(adata, groupby= 'perturbation')"
   ]
  },
  {
   "cell_type": "code",
   "execution_count": 36,
   "id": "89820a1e",
   "metadata": {},
   "outputs": [
    {
     "data": {
      "text/plain": [
       "<matplotlib.collections.PathCollection at 0x7ef538a77970>"
      ]
     },
     "execution_count": 36,
     "metadata": {},
     "output_type": "execute_result"
    },
    {
     "data": {
      "image/png": "[encoded data removed]",
      "text/plain": [
       "<Figure size 640x480 with 1 Axes>"
      ]
     },
     "metadata": {},
     "output_type": "display_data"
    }
   ],
   "source": [
    "plt.scatter(dist_dfs['mmd']['control'],dist_dfs['wasserstein']['control'])"
   ]
  },
  {
   "cell_type": "code",
   "execution_count": 37,
   "id": "5d1861c3",
   "metadata": {},
   "outputs": [
    {
     "data": {
      "text/plain": [
       "<matplotlib.collections.PathCollection at 0x7ef5387c20e0>"
      ]
     },
     "execution_count": 37,
     "metadata": {},
     "output_type": "execute_result"
    },
    {
     "data": {
      "image/png": "[encoded data removed]",
      "text/plain": [
       "<Figure size 640x480 with 1 Axes>"
      ]
     },
     "metadata": {},
     "output_type": "display_data"
    }
   ],
   "source": [
    "plt.scatter(dist_dfs['pseudobulk']['control'],dist_dfs['wasserstein']['control'])"
   ]
  },
  {
   "cell_type": "code",
   "execution_count": 38,
   "id": "6911eca7",
   "metadata": {},
   "outputs": [
    {
     "data": {
      "text/plain": [
       "<matplotlib.collections.PathCollection at 0x7ef5387089a0>"
      ]
     },
     "execution_count": 38,
     "metadata": {},
     "output_type": "execute_result"
    },
    {
     "data": {
      "image/png": "[encoded data removed]",
      "text/plain": [
       "<Figure size 640x480 with 1 Axes>"
      ]
     },
     "metadata": {},
     "output_type": "display_data"
    }
   ],
   "source": [
    "plt.scatter(dist_dfs['mmd']['control'],dist_dfs['pseudobulk']['control'])"
   ]
  },
  {
   "cell_type": "code",
   "execution_count": 3,
   "id": "c1a69780",
   "metadata": {},
   "outputs": [],
   "source": [
    "#dist_dfs = {}\n",
    "#dist_dfs['mmd'] = pd.read_csv(\"output/metric-comp-papalexi/mmd.csv\", index_col=0)\n",
    "#dist_dfs['pseudobulk'] = pd.read_csv(\"output/metric-comp-papalexi/pseudobulk.csv\", index_col=0)\n",
    "#dist_dfs['wasserstein'] = pd.read_csv(\"output/metric-comp-papalexi/wasserstein.csv\",index_col=0)\n",
    "#adata = sc.read_h5ad(\"output/metric-comp-papalexi/papalexi_processed_subset.h5ad\")"
   ]
  },
  {
   "cell_type": "code",
   "execution_count": 4,
   "id": "28d4b51d",
   "metadata": {},
   "outputs": [
    {
     "data": {
      "text/plain": [
       "AnnData object with n_obs × n_vars = 20729 × 15987\n",
       "    obs: 'hto', 'guide_id', 'hto_barcode', 'gdo_barcode', 'perturbation', 'tissue_type', 'cell_line', 'cancer', 'disease', 'perturbation_type', 'celltype', 'organism', 'nperts', 'ngenes', 'ncounts', 'percent_mito', 'percent_ribo', 'n_counts'\n",
       "    var: 'ensembl_id', 'ncounts', 'ncells', 'n_cells', 'highly_variable', 'highly_variable_rank', 'means', 'variances', 'variances_norm'\n",
       "    uns: 'hvg', 'log1p', 'neighbors', 'pca', 'processed'\n",
       "    obsm: 'X_pca'\n",
       "    varm: 'PCs'\n",
       "    layers: 'counts'\n",
       "    obsp: 'connectivities', 'distances'"
      ]
     },
     "execution_count": 4,
     "metadata": {},
     "output_type": "execute_result"
    }
   ],
   "source": [
    "adata"
   ]
  },
  {
   "cell_type": "code",
   "execution_count": 5,
   "id": "9c4b9853",
   "metadata": {},
   "outputs": [
    {
     "name": "stderr",
     "output_type": "stream",
     "text": [
      "100%|███████████████████████████████████████████| 99/99 [00:15<00:00,  6.36it/s]\n"
     ]
    }
   ],
   "source": [
    "dist_dfs['edist']=ed.pairwise_pca_distances(adata, \"perturbation\", correction_factor=True)"
   ]
  },
  {
   "cell_type": "code",
   "execution_count": 14,
   "id": "0b1fb7a4",
   "metadata": {},
   "outputs": [
    {
     "data": {
      "text/html": [
       "<div>\n",
       "<style scoped>\n",
       "    .dataframe tbody tr th:only-of-type {\n",
       "        vertical-align: middle;\n",
       "    }\n",
       "\n",
       "    .dataframe tbody tr th {\n",
       "        vertical-align: top;\n",
       "    }\n",
       "\n",
       "    .dataframe thead th {\n",
       "        text-align: right;\n",
       "    }\n",
       "</style>\n",
       "<table border=\"1\" class=\"dataframe\">\n",
       "  <thead>\n",
       "    <tr style=\"text-align: right;\">\n",
       "      <th></th>\n",
       "      <th>mmd</th>\n",
       "      <th>pseudobulk</th>\n",
       "      <th>wasserstein</th>\n",
       "      <th>edist</th>\n",
       "    </tr>\n",
       "    <tr>\n",
       "      <th>perturbation</th>\n",
       "      <th></th>\n",
       "      <th></th>\n",
       "      <th></th>\n",
       "      <th></th>\n",
       "    </tr>\n",
       "  </thead>\n",
       "  <tbody>\n",
       "    <tr>\n",
       "      <th>STAT2g2</th>\n",
       "      <td>7.895065</td>\n",
       "      <td>2.809816</td>\n",
       "      <td>175.851247</td>\n",
       "      <td>289.729471</td>\n",
       "    </tr>\n",
       "    <tr>\n",
       "      <th>CAV1g4</th>\n",
       "      <td>1.288019</td>\n",
       "      <td>1.134909</td>\n",
       "      <td>170.168108</td>\n",
       "      <td>279.924339</td>\n",
       "    </tr>\n",
       "    <tr>\n",
       "      <th>STAT1g2</th>\n",
       "      <td>101.799385</td>\n",
       "      <td>10.089568</td>\n",
       "      <td>291.689761</td>\n",
       "      <td>376.297493</td>\n",
       "    </tr>\n",
       "    <tr>\n",
       "      <th>CD86g1</th>\n",
       "      <td>0.437609</td>\n",
       "      <td>0.661520</td>\n",
       "      <td>167.724225</td>\n",
       "      <td>284.267805</td>\n",
       "    </tr>\n",
       "    <tr>\n",
       "      <th>IRF7g2</th>\n",
       "      <td>2.694692</td>\n",
       "      <td>1.641552</td>\n",
       "      <td>175.351337</td>\n",
       "      <td>291.156179</td>\n",
       "    </tr>\n",
       "    <tr>\n",
       "      <th>...</th>\n",
       "      <td>...</td>\n",
       "      <td>...</td>\n",
       "      <td>...</td>\n",
       "      <td>...</td>\n",
       "    </tr>\n",
       "    <tr>\n",
       "      <th>SPI1g3</th>\n",
       "      <td>8.031512</td>\n",
       "      <td>2.833992</td>\n",
       "      <td>198.331629</td>\n",
       "      <td>296.786234</td>\n",
       "    </tr>\n",
       "    <tr>\n",
       "      <th>PDCD1LG2g2</th>\n",
       "      <td>2.828619</td>\n",
       "      <td>1.681850</td>\n",
       "      <td>174.301280</td>\n",
       "      <td>281.524033</td>\n",
       "    </tr>\n",
       "    <tr>\n",
       "      <th>CUL3g3</th>\n",
       "      <td>17.039366</td>\n",
       "      <td>4.127877</td>\n",
       "      <td>206.800837</td>\n",
       "      <td>309.122421</td>\n",
       "    </tr>\n",
       "    <tr>\n",
       "      <th>SPI1g2</th>\n",
       "      <td>33.700294</td>\n",
       "      <td>5.805195</td>\n",
       "      <td>236.082379</td>\n",
       "      <td>320.975914</td>\n",
       "    </tr>\n",
       "    <tr>\n",
       "      <th>MYCg4</th>\n",
       "      <td>89.066597</td>\n",
       "      <td>9.437510</td>\n",
       "      <td>230.322520</td>\n",
       "      <td>inf</td>\n",
       "    </tr>\n",
       "  </tbody>\n",
       "</table>\n",
       "<p>99 rows × 4 columns</p>\n",
       "</div>"
      ],
      "text/plain": [
       "                     mmd  pseudobulk  wasserstein       edist\n",
       "perturbation                                                 \n",
       "STAT2g2         7.895065    2.809816   175.851247  289.729471\n",
       "CAV1g4          1.288019    1.134909   170.168108  279.924339\n",
       "STAT1g2       101.799385   10.089568   291.689761  376.297493\n",
       "CD86g1          0.437609    0.661520   167.724225  284.267805\n",
       "IRF7g2          2.694692    1.641552   175.351337  291.156179\n",
       "...                  ...         ...          ...         ...\n",
       "SPI1g3          8.031512    2.833992   198.331629  296.786234\n",
       "PDCD1LG2g2      2.828619    1.681850   174.301280  281.524033\n",
       "CUL3g3         17.039366    4.127877   206.800837  309.122421\n",
       "SPI1g2         33.700294    5.805195   236.082379  320.975914\n",
       "MYCg4          89.066597    9.437510   230.322520         inf\n",
       "\n",
       "[99 rows x 4 columns]"
      ]
     },
     "execution_count": 14,
     "metadata": {},
     "output_type": "execute_result"
    }
   ],
   "source": [
    "pd.concat([dist_dfs[key]['control'] for key in dist_dfs], axis=1, keys =[key for key in dist_dfs] )"
   ]
  },
  {
   "cell_type": "code",
   "execution_count": 25,
   "id": "a6b24656",
   "metadata": {},
   "outputs": [
    {
     "data": {
      "text/plain": [
       "control     2386\n",
       "IFNGR2g1     579\n",
       "ATF2g1       500\n",
       "IFNGR1g3     416\n",
       "CD86g1       401\n",
       "            ... \n",
       "CUL3g3        15\n",
       "SPI1g1        14\n",
       "SPI1g2        10\n",
       "SPI1g4         7\n",
       "MYCg4          1\n",
       "Name: perturbation, Length: 99, dtype: int64"
      ]
     },
     "execution_count": 25,
     "metadata": {},
     "output_type": "execute_result"
    }
   ],
   "source": [
    "adata.obs['perturbation'].value_counts()"
   ]
  },
  {
   "cell_type": "code",
   "execution_count": null,
   "id": "c0e03cf1",
   "metadata": {},
   "outputs": [],
   "source": [
    "# ok so edists is wrong and we're going to re-run because I didn't subset properly "
   ]
  },
  {
   "cell_type": "code",
   "execution_count": null,
   "id": "e1dd018d",
   "metadata": {},
   "outputs": [],
   "source": []
  }
 ],
 "metadata": {
  "kernelspec": {
   "display_name": "pertpy-fix",
   "language": "python",
   "name": "pertpy-fix"
  },
  "language_info": {
   "codemirror_mode": {
    "name": "ipython",
    "version": 3
   },
   "file_extension": ".py",
   "mimetype": "text/x-python",
   "name": "python",
   "nbconvert_exporter": "python",
   "pygments_lexer": "ipython3",
   "version": "3.10.9"
  }
 },
 "nbformat": 4,
 "nbformat_minor": 5
}
