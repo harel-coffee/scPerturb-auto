{
 "cells": [
  {
   "cell_type": "code",
   "execution_count": 4,
   "id": "d94548c4",
   "metadata": {
    "ExecuteTime": {
     "end_time": "2023-04-20T13:01:35.820024Z",
     "start_time": "2023-04-20T13:01:35.682291Z"
    }
   },
   "outputs": [
    {
     "data": {
      "text/html": [
       "<style>.container { width:95% !important; }</style>"
      ],
      "text/plain": [
       "<IPython.core.display.HTML object>"
      ]
     },
     "metadata": {},
     "output_type": "display_data"
    },
    {
     "name": "stdout",
     "output_type": "stream",
     "text": [
      "The autoreload extension is already loaded. To reload it, use:\n",
      "  %reload_ext autoreload\n"
     ]
    }
   ],
   "source": [
    "import subprocess\n",
    "import os\n",
    "import sys\n",
    "import matplotlib.backends.backend_pdf\n",
    "import scanpy as sc\n",
    "import matplotlib.pyplot as pl\n",
    "import anndata as ad\n",
    "import pandas as pd\n",
    "import numpy as np\n",
    "import seaborn as sns\n",
    "import scvelo as scv\n",
    "scv.settings.verbosity=1\n",
    "\n",
    "from pathlib import Path\n",
    "\n",
    "# Jupyter stuff\n",
    "from tqdm.auto import tqdm\n",
    "from IPython.display import clear_output\n",
    "from IPython.core.display import display, HTML\n",
    "display(HTML(\"<style>.container { width:95% !important; }</style>\"))\n",
    "\n",
    "%matplotlib inline\n",
    "\n",
    "# Custom functions\n",
    "sys.path.insert(1, '../..')\n",
    "%load_ext autoreload\n",
    "%autoreload 2\n",
    "from utils import *\n",
    "\n",
    "# scperturb package\n",
    "sys.path.insert(1, '../../package/src/')\n",
    "from scperturb import *\n",
    "\n",
    "from pathlib import Path\n",
    "figure_path = Path('../../figures/')"
   ]
  },
  {
   "cell_type": "markdown",
   "id": "a72c52d9",
   "metadata": {},
   "source": [
    ">Computing time: E-tests require permutation testing of randomly assigned nearest neighbors, which may be computationally expensive. In the future, datasets are going to be large. How does the computation time scale as a function of, #perturbations, #cells per perturbation, #nearest neighbors. The GWPS data set might be a good test case scenario."
   ]
  },
  {
   "cell_type": "markdown",
   "id": "b5cf9c60",
   "metadata": {},
   "source": [
    "- E-test scales linear with the number of perturbations\n",
    "- Test this, valid point. I think worst case it will scale quadratically.\n",
    "- not applicable"
   ]
  },
  {
   "cell_type": "code",
   "execution_count": 5,
   "id": "1ae956f6",
   "metadata": {
    "ExecuteTime": {
     "end_time": "2023-04-20T13:01:37.612265Z",
     "start_time": "2023-04-20T13:01:37.506797Z"
    }
   },
   "outputs": [],
   "source": [
    "DATADIR = Path('/data/gpfs-1/users/peidlis_c/work/data/perturbation_resource_paper')\n",
    "TEMPDIR = Path(\"/fast/scratch/users/peidlis_c/perturbation_resource_paper/\")\n",
    "\n",
    "def leftsided_chebyshev_nodes(N):\n",
    "    # Takes negative chebyshev nodes of first kind, forces 0 to be included, then adds 1 to all.\n",
    "    return np.polynomial.chebyshev.chebpts1(N*2+1)[:(N+1)] + 1"
   ]
  },
  {
   "cell_type": "code",
   "execution_count": null,
   "id": "76e17f0f",
   "metadata": {
    "ExecuteTime": {
     "start_time": "2023-04-20T11:54:00.002Z"
    }
   },
   "outputs": [],
   "source": [
    "# adata = sc.read(DATADIR / 'ReplogleWeissman2022_K562_gwps.h5ad')"
   ]
  },
  {
   "cell_type": "code",
   "execution_count": null,
   "id": "2f17db73",
   "metadata": {
    "ExecuteTime": {
     "start_time": "2023-04-20T11:56:46.756Z"
    }
   },
   "outputs": [],
   "source": [
    "adata"
   ]
  },
  {
   "cell_type": "markdown",
   "id": "a5021158",
   "metadata": {},
   "source": [
    "Computation time approximative formula: \n",
    "$$\n",
    "T \\approx K \\cdot I \\cdot (M \\cdot N)^x\n",
    "$$"
   ]
  },
  {
   "cell_type": "markdown",
   "id": "27930825",
   "metadata": {},
   "source": [
    "https://stackoverflow.com/questions/20507646/how-is-the-complexity-of-pca-ominp3-n3:\n",
    "\n",
    "d=dim of gex data\n",
    "\n",
    "Covariance matrix computation is $O(d^2n)$; its eigen-value decomposition is $O(d^3)$. So, the complexity of PCA is $O(d^2n+d^3)$."
   ]
  },
  {
   "cell_type": "markdown",
   "id": "7ef29112",
   "metadata": {},
   "source": [
    "Can be reduced, e.g. by using chunked PCA or only fitting on a subset of cells to begin with."
   ]
  },
  {
   "cell_type": "markdown",
   "id": "9689bbd6",
   "metadata": {},
   "source": [
    "Let p be dimension of pca space.\n",
    "Computational complexity of pairwise distance computation is $$(n+m)(n+m-1)/2 * 3 * p$$"
   ]
  },
  {
   "cell_type": "markdown",
   "id": "8d3807d3",
   "metadata": {},
   "source": [
    "- shuffling: $O(n)$\n",
    "- summations: $N*(N-1) * p + M*(M-1) * p + N*M*p$\n",
    "- averages divisions: $3$\n",
    "- final sum: $3$"
   ]
  },
  {
   "cell_type": "markdown",
   "id": "a7ccd58c",
   "metadata": {},
   "source": [
    "- n: Number of cells per perturbation (assuming same size)\n",
    "- m: Number of control cells\n",
    "- k: Number of perturbations\n",
    "- s: Number of permutations in the E-test\n",
    "- d: dim of data (e.g. 2000 HVGs)\n",
    "- p: dim of PCA (e.g. 50)"
   ]
  },
  {
   "cell_type": "markdown",
   "id": "5290de79",
   "metadata": {},
   "source": [
    "$$\\text{Complexity}_{\\text{Etest}}=\\text{Complexity}_{\\text{PCA}}+\\text{Complexity}_{\\text{Pairwise distance}}+\\text{Complexity}_{\\text{permutation test}}$$\n",
    "$$\\text{Complexity}_{\\text{PCA}}=O(d^2(k*n+m)+d^3)$$\n",
    "$$\\text{Complexity}_{\\text{Pairwise distance}}=O(k*(n+m)^2*p)$$\n",
    "$$\\text{Complexity}_{\\text{permutation test}}=O(s*k*p*(n^2+m^2+nm))$$"
   ]
  },
  {
   "cell_type": "code",
   "execution_count": 10,
   "id": "4c73a165",
   "metadata": {
    "ExecuteTime": {
     "end_time": "2023-04-20T13:07:31.063253Z",
     "start_time": "2023-04-20T13:07:28.712406Z"
    }
   },
   "outputs": [],
   "source": [
    "odata = sc.read(DATADIR / 'PapalexiSatija2021_eccite_RNA.h5ad')"
   ]
  },
  {
   "cell_type": "code",
   "execution_count": 12,
   "id": "9a104814",
   "metadata": {
    "ExecuteTime": {
     "end_time": "2023-04-20T13:12:37.175670Z",
     "start_time": "2023-04-20T13:07:54.136910Z"
    }
   },
   "outputs": [
    {
     "name": "stderr",
     "output_type": "stream",
     "text": [
      "100%|██████████| 97/97 [00:00<00:00, 213.63it/s]\n",
      "100%|██████████| 1000/1000 [00:46<00:00, 21.39it/s]\n",
      "100%|██████████| 92/92 [00:00<00:00, 189.60it/s]\n",
      "100%|██████████| 1000/1000 [00:45<00:00, 21.97it/s]\n",
      "100%|██████████| 84/84 [00:00<00:00, 180.92it/s]\n",
      "100%|██████████| 1000/1000 [00:44<00:00, 22.43it/s]\n",
      "100%|██████████| 69/69 [00:00<00:00, 166.11it/s]\n",
      "100%|██████████| 1000/1000 [00:43<00:00, 22.86it/s]\n",
      "100%|██████████| 47/47 [00:00<00:00, 135.14it/s]\n",
      "100%|██████████| 1000/1000 [00:44<00:00, 22.44it/s]\n"
     ]
    }
   ],
   "source": [
    "import time\n",
    "times = {}\n",
    "for n in [10,20,50,100,200]:\n",
    "    t = {}\n",
    "    # basic qc and pp\n",
    "    adata = odata.copy()\n",
    "    sc.pp.filter_cells(adata, min_counts=1000)\n",
    "    adata = equal_subsampling(adata, 'perturbation', N_min=n)\n",
    "    adata.layers['counts'] = adata.X.copy()\n",
    "    sc.pp.normalize_per_cell(adata)\n",
    "    sc.pp.filter_genes(adata, min_cells=50)\n",
    "    sc.pp.log1p(adata)\n",
    "\n",
    "    # select HVGs\n",
    "    n_var_max = 2000  # max total features to select\n",
    "    sc.pp.highly_variable_genes(adata, n_top_genes=2000,\n",
    "                                subset=False, flavor='seurat_v3', layer='counts')\n",
    "    t0 = time.time()\n",
    "    sc.pp.pca(adata, use_highly_variable=True)\n",
    "    t['pca'] = time.time() - t0\n",
    "    \n",
    "    t0 = time.time()\n",
    "    edist_to_control(adata)\n",
    "    t['edist'] = time.time() - t0\n",
    "    \n",
    "    t0 = time.time()\n",
    "    etest(adata, runs=1000)\n",
    "    t['etest'] = time.time() - t0\n",
    "    \n",
    "    times[n] = t"
   ]
  },
  {
   "cell_type": "code",
   "execution_count": 13,
   "id": "ccd15048",
   "metadata": {
    "ExecuteTime": {
     "end_time": "2023-04-20T13:37:59.404500Z",
     "start_time": "2023-04-20T13:37:59.221637Z"
    }
   },
   "outputs": [
    {
     "data": {
      "text/html": [
       "<div>\n",
       "<style scoped>\n",
       "    .dataframe tbody tr th:only-of-type {\n",
       "        vertical-align: middle;\n",
       "    }\n",
       "\n",
       "    .dataframe tbody tr th {\n",
       "        vertical-align: top;\n",
       "    }\n",
       "\n",
       "    .dataframe thead th {\n",
       "        text-align: right;\n",
       "    }\n",
       "</style>\n",
       "<table border=\"1\" class=\"dataframe\">\n",
       "  <thead>\n",
       "    <tr style=\"text-align: right;\">\n",
       "      <th></th>\n",
       "      <th>10</th>\n",
       "      <th>20</th>\n",
       "      <th>50</th>\n",
       "      <th>100</th>\n",
       "      <th>200</th>\n",
       "    </tr>\n",
       "  </thead>\n",
       "  <tbody>\n",
       "    <tr>\n",
       "      <th>pca</th>\n",
       "      <td>0.889914</td>\n",
       "      <td>0.577637</td>\n",
       "      <td>0.968837</td>\n",
       "      <td>1.601215</td>\n",
       "      <td>2.109844</td>\n",
       "    </tr>\n",
       "    <tr>\n",
       "      <th>edist</th>\n",
       "      <td>0.931559</td>\n",
       "      <td>0.893482</td>\n",
       "      <td>0.851183</td>\n",
       "      <td>0.749554</td>\n",
       "      <td>0.604733</td>\n",
       "    </tr>\n",
       "    <tr>\n",
       "      <th>etest</th>\n",
       "      <td>49.750102</td>\n",
       "      <td>48.326092</td>\n",
       "      <td>47.633734</td>\n",
       "      <td>46.801937</td>\n",
       "      <td>47.337088</td>\n",
       "    </tr>\n",
       "  </tbody>\n",
       "</table>\n",
       "</div>"
      ],
      "text/plain": [
       "             10         20         50         100        200\n",
       "pca     0.889914   0.577637   0.968837   1.601215   2.109844\n",
       "edist   0.931559   0.893482   0.851183   0.749554   0.604733\n",
       "etest  49.750102  48.326092  47.633734  46.801937  47.337088"
      ]
     },
     "execution_count": 13,
     "metadata": {},
     "output_type": "execute_result"
    }
   ],
   "source": [
    "pd.DataFrame(times)"
   ]
  },
  {
   "cell_type": "markdown",
   "id": "5832bf6c",
   "metadata": {},
   "source": [
    "# Speadup with GPUs"
   ]
  },
  {
   "cell_type": "code",
   "execution_count": 3,
   "id": "3ff2b65c",
   "metadata": {
    "ExecuteTime": {
     "end_time": "2023-04-20T12:35:06.893014Z",
     "start_time": "2023-04-20T12:35:06.763037Z"
    }
   },
   "outputs": [],
   "source": [
    "# https://jejjohnson.github.io/research_journal/tutorials/jax/lab_tutorials/pairwise/\n",
    "#https://github.com/google/jax/issues/1918"
   ]
  },
  {
   "cell_type": "code",
   "execution_count": null,
   "id": "aface10a",
   "metadata": {},
   "outputs": [],
   "source": []
  },
  {
   "cell_type": "code",
   "execution_count": null,
   "id": "92fe2f91",
   "metadata": {},
   "outputs": [],
   "source": []
  },
  {
   "cell_type": "code",
   "execution_count": null,
   "id": "b75011ab",
   "metadata": {},
   "outputs": [],
   "source": []
  },
  {
   "cell_type": "code",
   "execution_count": null,
   "id": "87f43110",
   "metadata": {},
   "outputs": [],
   "source": []
  },
  {
   "cell_type": "code",
   "execution_count": null,
   "id": "295c223c",
   "metadata": {},
   "outputs": [],
   "source": []
  },
  {
   "cell_type": "code",
   "execution_count": null,
   "id": "27896f90",
   "metadata": {},
   "outputs": [],
   "source": []
  },
  {
   "cell_type": "code",
   "execution_count": null,
   "id": "8fb533eb",
   "metadata": {},
   "outputs": [],
   "source": []
  },
  {
   "cell_type": "code",
   "execution_count": null,
   "id": "064c0964",
   "metadata": {},
   "outputs": [],
   "source": []
  },
  {
   "cell_type": "code",
   "execution_count": null,
   "id": "896213fc",
   "metadata": {},
   "outputs": [],
   "source": []
  },
  {
   "cell_type": "code",
   "execution_count": null,
   "id": "0befaa13",
   "metadata": {},
   "outputs": [],
   "source": []
  }
 ],
 "metadata": {
  "hide_input": false,
  "kernelspec": {
   "display_name": "Python 3 (ipykernel)",
   "language": "python",
   "name": "python3"
  },
  "language_info": {
   "codemirror_mode": {
    "name": "ipython",
    "version": 3
   },
   "file_extension": ".py",
   "mimetype": "text/x-python",
   "name": "python",
   "nbconvert_exporter": "python",
   "pygments_lexer": "ipython3",
   "version": "3.9.13"
  }
 },
 "nbformat": 4,
 "nbformat_minor": 5
}
