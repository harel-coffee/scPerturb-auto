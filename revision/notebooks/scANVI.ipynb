{
 "cells": [
  {
   "cell_type": "code",
   "execution_count": 4,
   "id": "1cec58b2",
   "metadata": {},
   "outputs": [],
   "source": [
    "import scvi\n",
    "import numpy as np\n",
    "import pandas as pd \n",
    "import scanpy as sc\n",
    "import os\n",
    "from sklearn.metrics import confusion_matrix\n",
    "import importlib\n",
    "import sys\n",
    "sys.path.append(os.path.abspath(os.path.join(os.getcwd(), '../../')))\n",
    "import scanvi"
   ]
  },
  {
   "cell_type": "code",
   "execution_count": 7,
   "id": "ae9165dc",
   "metadata": {
    "scrolled": true
   },
   "outputs": [
    {
     "data": {
      "text/plain": [
       "<module 'scanvi' from '/n/groups/marks/users/tessa/perturb/single_cell_perturbation_data/code/scanvi.py'>"
      ]
     },
     "execution_count": 7,
     "metadata": {},
     "output_type": "execute_result"
    }
   ],
   "source": [
    "importlib.reload(scanvi)"
   ]
  },
  {
   "cell_type": "code",
   "execution_count": 2,
   "id": "0efe32b8",
   "metadata": {},
   "outputs": [],
   "source": [
    "adata = sc.read_h5ad(\"/n/groups/marks/users/tessa/perturb/datasets/ZhaoSims2021/ZhaoSims2021/ZhaoSims2021.h5\")\n",
    "\n"
   ]
  },
  {
   "cell_type": "code",
   "execution_count": 5,
   "id": "0ee34987",
   "metadata": {
    "scrolled": true
   },
   "outputs": [
    {
     "name": "stderr",
     "output_type": "stream",
     "text": [
      "/n/groups/marks/users/tessa/perturb/single_cell_perturbation_data/code/scanvi.py:37: VisibleDeprecationWarning: Creating an ndarray from ragged nested sequences (which is a list-or-tuple of lists-or-tuples-or ndarrays with different lengths or shapes) is deprecated. If you meant to do this, you must specify 'dtype=object' when creating the ndarray.\n",
      "  selection = np.hstack(np.array([np.random.choice(adata.obs_names[adata.obs[obs_key]==p],\n",
      "GPU available: True, used: True\n",
      "TPU available: False, using: 0 TPU cores\n",
      "IPU available: False, using: 0 IPUs\n",
      "LOCAL_RANK: 0 - CUDA_VISIBLE_DEVICES: [0]\n"
     ]
    },
    {
     "name": "stdout",
     "output_type": "stream",
     "text": [
      "Epoch 400/400: 100%|███████| 400/400 [09:31<00:00,  1.43s/it, loss=432, v_num=1]\n",
      "\u001b[34mINFO    \u001b[0m Training for \u001b[1;36m10\u001b[0m epochs.                                                             \n"
     ]
    },
    {
     "name": "stderr",
     "output_type": "stream",
     "text": [
      "/n/groups/marks/software/anaconda_o2/envs/scvi2/lib/python3.9/site-packages/scvi/model/_scanvi.py:253: FutureWarning: elementwise comparison failed; returning scalar instead, but in the future will perform elementwise comparison\n",
      "  labels == self.unlabeled_category_\n",
      "/n/groups/marks/software/anaconda_o2/envs/scvi2/lib/python3.9/site-packages/scvi/model/_scanvi.py:255: FutureWarning: elementwise comparison failed; returning scalar instead, but in the future will perform elementwise comparison\n",
      "  self._labeled_indices = np.argwhere(labels != self.unlabeled_category_).ravel()\n",
      "GPU available: True, used: True\n",
      "TPU available: False, using: 0 TPU cores\n",
      "IPU available: False, using: 0 IPUs\n",
      "LOCAL_RANK: 0 - CUDA_VISIBLE_DEVICES: [0]\n"
     ]
    },
    {
     "name": "stdout",
     "output_type": "stream",
     "text": [
      "Epoch 10/10: 100%|███████████| 10/10 [00:32<00:00,  3.22s/it, loss=488, v_num=1]\n"
     ]
    },
    {
     "name": "stderr",
     "output_type": "stream",
     "text": [
      "/n/groups/marks/software/anaconda_o2/envs/scvi2/lib/python3.9/site-packages/anndata/_core/anndata.py:1235: ImplicitModificationWarning: Trying to modify attribute `.obs` of view, initializing view as actual.\n",
      "  df[key] = c\n"
     ]
    },
    {
     "data": {
      "text/html": [
       "<pre style=\"white-space:pre;overflow-x:auto;line-height:normal;font-family:Menlo,'DejaVu Sans Mono',consolas,'Courier New',monospace\">SCVI Model with the following params: \n",
       "n_hidden: <span style=\"color: #008080; text-decoration-color: #008080; font-weight: bold\">128</span>, n_latent: <span style=\"color: #008080; text-decoration-color: #008080; font-weight: bold\">10</span>, n_layers: <span style=\"color: #008080; text-decoration-color: #008080; font-weight: bold\">1</span>, dropout_rate: <span style=\"color: #008080; text-decoration-color: #008080; font-weight: bold\">0.1</span>, dispersion: gene, \n",
       "gene_likelihood: zinb, latent_distribution: normal\n",
       "Training status: Trained\n",
       "</pre>\n"
      ],
      "text/plain": [
       "SCVI Model with the following params: \n",
       "n_hidden: \u001b[1;36m128\u001b[0m, n_latent: \u001b[1;36m10\u001b[0m, n_layers: \u001b[1;36m1\u001b[0m, dropout_rate: \u001b[1;36m0.1\u001b[0m, dispersion: gene, \n",
       "gene_likelihood: zinb, latent_distribution: normal\n",
       "Training status: Trained\n"
      ]
     },
     "metadata": {},
     "output_type": "display_data"
    },
    {
     "data": {
      "text/html": [
       "<pre style=\"white-space:pre;overflow-x:auto;line-height:normal;font-family:Menlo,'DejaVu Sans Mono',consolas,'Courier New',monospace\">ScanVI Model with the following params: \n",
       "unlabeled_category: Unknown, n_hidden: <span style=\"color: #008080; text-decoration-color: #008080; font-weight: bold\">128</span>, n_latent: <span style=\"color: #008080; text-decoration-color: #008080; font-weight: bold\">10</span>, n_layers: <span style=\"color: #008080; text-decoration-color: #008080; font-weight: bold\">1</span>, dropout_rate: <span style=\"color: #008080; text-decoration-color: #008080; font-weight: bold\">0.1</span>, \n",
       "dispersion: gene, gene_likelihood: zinb\n",
       "Training status: Trained\n",
       "</pre>\n"
      ],
      "text/plain": [
       "ScanVI Model with the following params: \n",
       "unlabeled_category: Unknown, n_hidden: \u001b[1;36m128\u001b[0m, n_latent: \u001b[1;36m10\u001b[0m, n_layers: \u001b[1;36m1\u001b[0m, dropout_rate: \u001b[1;36m0.1\u001b[0m, \n",
       "dispersion: gene, gene_likelihood: zinb\n",
       "Training status: Trained\n"
      ]
     },
     "metadata": {},
     "output_type": "display_data"
    },
    {
     "data": {
      "text/plain": [
       "(AnnData object with n_obs × n_vars = 3758 × 2000\n",
       "     obs: 'sample', 'GEO', 'Sample', 'tissue', 'age', 'sex', 'location', 'diagnosis', 'library', 'dose_value', 'dose_unit', 'perturbation', 'tissue_type', 'cancer', 'disease', 'celltype', 'organism', 'perturbation_type', 'ncounts', 'ngenes', 'percent_mito', 'percent_ribo', 'nperts', 'heldout_0.2', '_scvi_batch', '_scvi_labels', 'scANVI_labels'\n",
       "     var: 'ncounts', 'ncells', 'highly_variable', 'highly_variable_rank', 'means', 'variances', 'variances_norm'\n",
       "     uns: 'hvg', '_scvi_uuid', '_scvi_manager_uuid', 'neighbors', 'umap'\n",
       "     obsm: 'X_scANVI', 'X_umap'\n",
       "     obsp: 'distances', 'connectivities',\n",
       " ,\n",
       " )"
      ]
     },
     "execution_count": 5,
     "metadata": {},
     "output_type": "execute_result"
    },
    {
     "data": {
      "image/png": "[encoded data removed]",
      "text/plain": [
       "<Figure size 432x288 with 2 Axes>"
      ]
     },
     "metadata": {
      "needs_background": "light"
     },
     "output_type": "display_data"
    }
   ],
   "source": [
    "scanvi.classify_with_scanvi(adata, pct = 0.2, withheld_labels_name = \"heldout\", batch_key=\"sample\", outdir = \"/n/groups/marks/users/tessa/perturb/scanvi/ZhaoSims2021/\")\n"
   ]
  },
  {
   "cell_type": "code",
   "execution_count": 9,
   "id": "290c163d",
   "metadata": {},
   "outputs": [],
   "source": [
    "dataset_to_batchkey = {\n",
    "    #'ZhaoSims2021': 'sample',\n",
    "    #'DatlingerBock2017' : 'replicate',  # not sure though if this is reasonable to use. Also: has a second perturbation \"perturbation_2\"\n",
    "    #'DatlingerBock2021': 'sample', # N_min  = 300\n",
    "    #'AdamsonWeissman2016_GSM2406677_10X005': None,\n",
    "    #'AdamsonWeissman2016_GSM2406681_10X010': None,\n",
    "    # 'AdamsonWeissman2016_GSM2406675_10X001': None,\n",
    "    #'AissaBenevolenskaya2021': 'batch',\n",
    "    #'WeinrebKlein2020': 'age',  # timecourse experiment\n",
    "    'SrivatsanTrapnell2020_sciplex2': None,\n",
    "    'SrivatsanTrapnell2020_sciplex3': 'cell_line',  # watch out there are Nones it seems (I think those could not be multiplexed fully!)\n",
    "    'SrivatsanTrapnell2020_sciplex4': 'cell_line',  # watch out there are Nones it seems (I think those could not be multiplexed fully!)\n",
    "    'SchraivogelSteinmetz2020_TAP_SCREEN__chromosome_11_screen': 'replicate',\n",
    "    'SchraivogelSteinmetz2020_TAP_SCREEN__chromosome_8_screen': 'replicate',\n",
    "    'SchiebingerLander2019_GSE115943': 'replicate',\n",
    "    'SchiebingerLander2019_GSE106340': None,\n",
    "    'ShifrutMarson2018': 'library'  # this includes replicate x perturbation_2\n",
    "}"
   ]
  },
  {
   "cell_type": "code",
   "execution_count": null,
   "id": "e7f50ca9",
   "metadata": {
    "scrolled": true
   },
   "outputs": [
    {
     "name": "stderr",
     "output_type": "stream",
     "text": [
      "/n/groups/marks/users/tessa/perturb/single_cell_perturbation_data/code/scanvi.py:37: VisibleDeprecationWarning: Creating an ndarray from ragged nested sequences (which is a list-or-tuple of lists-or-tuples-or ndarrays with different lengths or shapes) is deprecated. If you meant to do this, you must specify 'dtype=object' when creating the ndarray.\n",
      "  selection = np.hstack(np.array([np.random.choice(adata.obs_names[adata.obs[obs_key]==p],\n"
     ]
    },
    {
     "name": "stdout",
     "output_type": "stream",
     "text": [
      "training scVI model\n"
     ]
    },
    {
     "name": "stderr",
     "output_type": "stream",
     "text": [
      "GPU available: True, used: True\n",
      "TPU available: False, using: 0 TPU cores\n",
      "IPU available: False, using: 0 IPUs\n",
      "LOCAL_RANK: 0 - CUDA_VISIBLE_DEVICES: [0]\n"
     ]
    },
    {
     "name": "stdout",
     "output_type": "stream",
     "text": [
      "Epoch 400/400: 100%|███████| 400/400 [01:24<00:00,  4.73it/s, loss=157, v_num=1]\n",
      "training scANVI model\n",
      "\u001b[34mINFO    \u001b[0m Training for \u001b[1;36m50\u001b[0m epochs.                                                             \n"
     ]
    },
    {
     "name": "stderr",
     "output_type": "stream",
     "text": [
      "/n/groups/marks/software/anaconda_o2/envs/scvi2/lib/python3.9/site-packages/scvi/model/_scanvi.py:253: FutureWarning: elementwise comparison failed; returning scalar instead, but in the future will perform elementwise comparison\n",
      "  labels == self.unlabeled_category_\n",
      "/n/groups/marks/software/anaconda_o2/envs/scvi2/lib/python3.9/site-packages/scvi/model/_scanvi.py:255: FutureWarning: elementwise comparison failed; returning scalar instead, but in the future will perform elementwise comparison\n",
      "  self._labeled_indices = np.argwhere(labels != self.unlabeled_category_).ravel()\n",
      "GPU available: True, used: True\n",
      "TPU available: False, using: 0 TPU cores\n",
      "IPU available: False, using: 0 IPUs\n",
      "LOCAL_RANK: 0 - CUDA_VISIBLE_DEVICES: [0]\n"
     ]
    },
    {
     "name": "stdout",
     "output_type": "stream",
     "text": [
      "Epoch 50/50: 100%|███████████| 50/50 [00:21<00:00,  2.28it/s, loss=198, v_num=1]\n",
      "calculating outputs\n",
      "saving results\n"
     ]
    },
    {
     "name": "stderr",
     "output_type": "stream",
     "text": [
      "/n/groups/marks/software/anaconda_o2/envs/scvi2/lib/python3.9/site-packages/anndata/_core/anndata.py:1235: ImplicitModificationWarning: Trying to modify attribute `.obs` of view, initializing view as actual.\n",
      "  df[key] = c\n"
     ]
    }
   ],
   "source": [
    "for entry in dataset_to_batchkey:\n",
    "    if os.path.exists(\"/n/groups/marks/users/tessa/perturb/scanvi/\"+entry+\"/\"):\n",
    "        print(\"results folder already exists, skipping \"+entry)\n",
    "    else:\n",
    "        if os.path.exists(\"/n/groups/marks/users/tessa/perturb/datasets/\"+entry+\"/\"+entry+\"/\"+entry+\".h5\"):\n",
    "            adata = sc.read_h5ad(\"/n/groups/marks/users/tessa/perturb/datasets/\"+entry+\"/\"+entry+\"/\"+entry+\".h5\")\n",
    "        elif os.path.exists(\"/n/groups/marks/users/tessa/perturb/datasets/\"+entry+\"/\"+entry+\".h5\"):\n",
    "            adata = sc.read_h5ad(\"/n/groups/marks/users/tessa/perturb/datasets/\"+entry+\"/\"+entry+\".h5\")\n",
    "        elif \"_\" in entry:\n",
    "            adata = sc.read_h5ad(\"/n/groups/marks/users/tessa/perturb/datasets/\"+entry.split(\"_\")[0]+\"/\"+entry+\"/\"+entry+\".h5\")\n",
    "\n",
    "            #adata = sc.read_h5ad(\"/n/groups/marks/users/tessa/perturb/datasets/\"+entry.split(\"_\")[0]+\"/\"+entry+\".h5\")\n",
    "        else:\n",
    "            print(\"unable to locate data for: \"+entry)\n",
    "        scanvi.classify_with_scanvi(adata, pct = 0.2, withheld_labels_name =\"heldout\" , batch_key=dataset_to_batchkey[entry], outdir = \"/n/groups/marks/users/tessa/perturb/scanvi/\"+entry+\"/\")\n"
   ]
  },
  {
   "cell_type": "code",
   "execution_count": 5,
   "id": "954b388f",
   "metadata": {},
   "outputs": [],
   "source": [
    "stringthing = \"a_b\""
   ]
  },
  {
   "cell_type": "code",
   "execution_count": 7,
   "id": "86e26e52",
   "metadata": {},
   "outputs": [
    {
     "data": {
      "text/plain": [
       "'a'"
      ]
     },
     "execution_count": 7,
     "metadata": {},
     "output_type": "execute_result"
    }
   ],
   "source": [
    "stringthing.split(\"_\")[0]"
   ]
  },
  {
   "cell_type": "code",
   "execution_count": 15,
   "id": "c10fa6a8",
   "metadata": {},
   "outputs": [
    {
     "data": {
      "text/plain": [
       "False"
      ]
     },
     "execution_count": 15,
     "metadata": {},
     "output_type": "execute_result"
    }
   ],
   "source": [
    "entry=\"DatlingerBock2017\"\n",
    "os.path.exists(\"/n/groups/marks/users/tessa/perturb/scanvi/\"+entry+\"/\")\n"
   ]
  },
  {
   "cell_type": "code",
   "execution_count": 18,
   "id": "8e0313d6",
   "metadata": {},
   "outputs": [
    {
     "data": {
      "text/plain": [
       "True"
      ]
     },
     "execution_count": 18,
     "metadata": {},
     "output_type": "execute_result"
    }
   ],
   "source": [
    "entry=\"ZhaoSims2021\"\n",
    "os.path.exists(\"/n/groups/marks/users/tessa/perturb/scanvi/\"+entry+\"/\")"
   ]
  },
  {
   "cell_type": "code",
   "execution_count": null,
   "id": "d9e47a68",
   "metadata": {},
   "outputs": [],
   "source": []
  }
 ],
 "metadata": {
  "kernelspec": {
   "display_name": "scvi2",
   "language": "python",
   "name": "scvi2"
  },
  "language_info": {
   "codemirror_mode": {
    "name": "ipython",
    "version": 3
   },
   "file_extension": ".py",
   "mimetype": "text/x-python",
   "name": "python",
   "nbconvert_exporter": "python",
   "pygments_lexer": "ipython3",
   "version": "3.9.12"
  }
 },
 "nbformat": 4,
 "nbformat_minor": 5
}
