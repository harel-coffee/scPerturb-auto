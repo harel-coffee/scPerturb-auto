{
 "cells": [
  {
   "cell_type": "code",
   "execution_count": 6,
   "id": "a9d21b91",
   "metadata": {
    "ExecuteTime": {
     "end_time": "2023-04-19T12:19:20.327992Z",
     "start_time": "2023-04-19T12:19:20.162838Z"
    }
   },
   "outputs": [
    {
     "data": {
      "text/html": [
       "<style>.container { width:95% !important; }</style>"
      ],
      "text/plain": [
       "<IPython.core.display.HTML object>"
      ]
     },
     "metadata": {},
     "output_type": "display_data"
    },
    {
     "name": "stdout",
     "output_type": "stream",
     "text": [
      "The autoreload extension is already loaded. To reload it, use:\n",
      "  %reload_ext autoreload\n"
     ]
    }
   ],
   "source": [
    "import subprocess\n",
    "import os\n",
    "import sys\n",
    "import matplotlib.backends.backend_pdf\n",
    "import scanpy as sc\n",
    "import matplotlib.pyplot as pl\n",
    "import anndata as ad\n",
    "import pandas as pd\n",
    "import numpy as np\n",
    "import seaborn as sns\n",
    "import scvelo as scv\n",
    "scv.settings.verbosity=1\n",
    "\n",
    "from pathlib import Path\n",
    "\n",
    "# Jupyter stuff\n",
    "from tqdm.auto import tqdm\n",
    "from IPython.display import clear_output\n",
    "from IPython.core.display import display, HTML\n",
    "display(HTML(\"<style>.container { width:95% !important; }</style>\"))\n",
    "\n",
    "%matplotlib inline\n",
    "\n",
    "# Custom functions\n",
    "sys.path.insert(1, '../..')\n",
    "%load_ext autoreload\n",
    "%autoreload 2\n",
    "from utils import *\n",
    "\n",
    "# scperturb package\n",
    "sys.path.insert(1, '../../package/src/')\n",
    "from scperturb import *\n",
    "\n",
    "from pathlib import Path\n",
    "figure_path = Path('../../figures/')"
   ]
  },
  {
   "cell_type": "code",
   "execution_count": 7,
   "id": "a6dbaaa8",
   "metadata": {
    "ExecuteTime": {
     "end_time": "2023-04-19T12:19:20.750821Z",
     "start_time": "2023-04-19T12:19:20.646763Z"
    }
   },
   "outputs": [],
   "source": [
    "DATADIR = Path('/data/gpfs-1/users/peidlis_c/work/data/perturbation_resource_paper')\n",
    "TEMPDIR = Path(\"/fast/scratch/users/peidlis_c/perturbation_resource_paper/\")"
   ]
  },
  {
   "cell_type": "code",
   "execution_count": 10,
   "id": "6731be9c",
   "metadata": {
    "ExecuteTime": {
     "end_time": "2023-04-19T13:46:33.260420Z",
     "start_time": "2023-04-19T13:46:32.299403Z"
    }
   },
   "outputs": [],
   "source": [
    "adata = sc.read(TEMPDIR / 'tmp_data_PapalexiSatija2021_eccite_RNA.h5')"
   ]
  },
  {
   "cell_type": "code",
   "execution_count": 11,
   "id": "d126a88b",
   "metadata": {
    "ExecuteTime": {
     "end_time": "2023-04-19T13:46:33.362849Z",
     "start_time": "2023-04-19T13:46:33.262310Z"
    }
   },
   "outputs": [],
   "source": [
    "def test_regime(adata, downsampling_rate=0.95, N=10):\n",
    "    # compute original edistance and counts\n",
    "    ed_original = edist_to_control(adata, verbose=False)\n",
    "    cts_original = adata.obs.perturbation.value_counts()\n",
    "    bfds = []\n",
    "    for n in tqdm(range(N)):\n",
    "        # subsample adata\n",
    "        subdata = sc.pp.subsample(adata, fraction=downsampling_rate, copy=True)\n",
    "        # compute edistance of subsampled\n",
    "        ed_sub = edist_to_control(subdata, verbose=False).loc[ed_original.index]\n",
    "        cts_sub = subdata.obs.perturbation.value_counts().loc[ed_original.index]\n",
    "\n",
    "        # compute the backward finite difference to estimate gradient of edistance w.r.t. cell counts\n",
    "        backward_finite_difference = (ed_original.distance - ed_sub.distance) / (cts_original - cts_sub)\n",
    "        bfds.append(backward_finite_difference)\n",
    "    return pd.concat(bfds, axis=1).mean(1)"
   ]
  },
  {
   "cell_type": "code",
   "execution_count": 12,
   "id": "1fe8aff4",
   "metadata": {
    "ExecuteTime": {
     "end_time": "2023-04-19T13:46:47.566441Z",
     "start_time": "2023-04-19T13:46:33.364222Z"
    }
   },
   "outputs": [
    {
     "name": "stderr",
     "output_type": "stream",
     "text": [
      "100%|██████████| 10/10 [00:13<00:00,  1.35s/it]\n"
     ]
    }
   ],
   "source": [
    "bfd = test_regime(adata, downsampling_rate=0.95)"
   ]
  },
  {
   "cell_type": "code",
   "execution_count": 13,
   "id": "5a34fa21",
   "metadata": {
    "ExecuteTime": {
     "end_time": "2023-04-19T13:46:59.730301Z",
     "start_time": "2023-04-19T13:46:47.568720Z"
    }
   },
   "outputs": [
    {
     "name": "stderr",
     "output_type": "stream",
     "text": [
      "100%|██████████| 10/10 [00:10<00:00,  1.08s/it]\n"
     ]
    }
   ],
   "source": [
    "subdata = sc.pp.subsample(adata, fraction=0.7, copy=True)\n",
    "bfd_ = test_regime(subdata, downsampling_rate=0.95)"
   ]
  },
  {
   "cell_type": "code",
   "execution_count": 14,
   "id": "61833628",
   "metadata": {
    "ExecuteTime": {
     "end_time": "2023-04-19T13:47:00.117876Z",
     "start_time": "2023-04-19T13:46:59.732437Z"
    }
   },
   "outputs": [
    {
     "data": {
      "text/plain": [
       "<matplotlib.collections.PathCollection at 0x14d02ef3cd60>"
      ]
     },
     "execution_count": 14,
     "metadata": {},
     "output_type": "execute_result"
    },
    {
     "data": {
      "image/png": "[encoded data removed]",
      "text/plain": [
       "<Figure size 432x288 with 1 Axes>"
      ]
     },
     "metadata": {
      "needs_background": "light"
     },
     "output_type": "display_data"
    }
   ],
   "source": [
    "pl.scatter(bfd, bfd_)"
   ]
  },
  {
   "cell_type": "code",
   "execution_count": 15,
   "id": "270dabf8",
   "metadata": {
    "ExecuteTime": {
     "end_time": "2023-04-19T13:47:00.221677Z",
     "start_time": "2023-04-19T13:47:00.120617Z"
    }
   },
   "outputs": [
    {
     "data": {
      "text/plain": [
       "AnnData object with n_obs × n_vars = 6580 × 15987\n",
       "    obs: 'hto', 'guide_id', 'hto_barcode', 'gdo_barcode', 'perturbation', 'tissue_type', 'cell_line', 'cancer', 'disease', 'perturbation_type', 'celltype', 'organism', 'nperts', 'ngenes', 'ncounts', 'percent_mito', 'percent_ribo', 'n_counts', 'perturbation_X'\n",
       "    var: 'ensembl_id', 'ncounts', 'ncells', 'n_cells', 'highly_variable', 'highly_variable_rank', 'means', 'variances', 'variances_norm'\n",
       "    uns: 'hvg', 'log1p', 'neighbors', 'pca'\n",
       "    obsm: 'X_pca'\n",
       "    varm: 'PCs'\n",
       "    layers: 'counts'\n",
       "    obsp: 'connectivities', 'distances'"
      ]
     },
     "execution_count": 15,
     "metadata": {},
     "output_type": "execute_result"
    }
   ],
   "source": [
    "subdata"
   ]
  },
  {
   "cell_type": "code",
   "execution_count": 16,
   "id": "8cd168dc",
   "metadata": {
    "ExecuteTime": {
     "end_time": "2023-04-19T13:47:00.323853Z",
     "start_time": "2023-04-19T13:47:00.223485Z"
    }
   },
   "outputs": [
    {
     "data": {
      "text/plain": [
       "AnnData object with n_obs × n_vars = 9400 × 15987\n",
       "    obs: 'hto', 'guide_id', 'hto_barcode', 'gdo_barcode', 'perturbation', 'tissue_type', 'cell_line', 'cancer', 'disease', 'perturbation_type', 'celltype', 'organism', 'nperts', 'ngenes', 'ncounts', 'percent_mito', 'percent_ribo', 'n_counts', 'perturbation_X'\n",
       "    var: 'ensembl_id', 'ncounts', 'ncells', 'n_cells', 'highly_variable', 'highly_variable_rank', 'means', 'variances', 'variances_norm'\n",
       "    uns: 'hvg', 'log1p', 'neighbors', 'pca'\n",
       "    obsm: 'X_pca'\n",
       "    varm: 'PCs'\n",
       "    layers: 'counts'\n",
       "    obsp: 'connectivities', 'distances'"
      ]
     },
     "execution_count": 16,
     "metadata": {},
     "output_type": "execute_result"
    }
   ],
   "source": [
    "adata"
   ]
  },
  {
   "cell_type": "code",
   "execution_count": null,
   "id": "e21e93be",
   "metadata": {},
   "outputs": [],
   "source": []
  },
  {
   "cell_type": "code",
   "execution_count": null,
   "id": "dc509f46",
   "metadata": {},
   "outputs": [],
   "source": []
  }
 ],
 "metadata": {
  "hide_input": false,
  "kernelspec": {
   "display_name": "Python 3 (ipykernel)",
   "language": "python",
   "name": "python3"
  },
  "language_info": {
   "codemirror_mode": {
    "name": "ipython",
    "version": 3
   },
   "file_extension": ".py",
   "mimetype": "text/x-python",
   "name": "python",
   "nbconvert_exporter": "python",
   "pygments_lexer": "ipython3",
   "version": "3.9.13"
  }
 },
 "nbformat": 4,
 "nbformat_minor": 5
}
