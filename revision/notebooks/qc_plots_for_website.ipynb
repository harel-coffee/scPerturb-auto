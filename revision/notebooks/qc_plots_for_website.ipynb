{
 "cells": [
  {
   "cell_type": "code",
   "execution_count": 59,
   "id": "ee01e07e",
   "metadata": {
    "ExecuteTime": {
     "end_time": "2022-07-14T14:49:43.479716Z",
     "start_time": "2022-07-14T14:49:43.471289Z"
    }
   },
   "outputs": [
    {
     "data": {
      "text/html": [
       "<style>.container { width:95% !important; }</style>"
      ],
      "text/plain": [
       "<IPython.core.display.HTML object>"
      ]
     },
     "metadata": {},
     "output_type": "display_data"
    }
   ],
   "source": [
    "import subprocess\n",
    "import os\n",
    "import sys\n",
    "import matplotlib.backends.backend_pdf\n",
    "import scanpy as sc\n",
    "import matplotlib.pyplot as pl\n",
    "import anndata as ad\n",
    "import pandas as pd\n",
    "import numpy as np\n",
    "import scvelo as scv\n",
    "scv.settings.verbosity=1\n",
    "\n",
    "# Jupyter stuff\n",
    "from tqdm.notebook import tqdm\n",
    "from IPython.display import clear_output\n",
    "from IPython.core.display import display, HTML\n",
    "display(HTML(\"<style>.container { width:95% !important; }</style>\"))\n",
    "%matplotlib inline\n",
    "\n",
    "# Custom functions\n",
    "sys.path.insert(1, '../..')\n",
    "from utils import *\n",
    "\n",
    "# paths\n",
    "at_home = False if '/fast/work/users/' in os.getcwd() else True\n",
    "data_path = '/extra/stefan/data/perturbation_resource_paper/' if at_home else '/fast/work/users/peidlis_c/data/perturbation_resource_paper/'\n",
    "signatures_path = '/home/peidli/utils/scrnaseq_signature_collection/' if at_home else '/fast/work/users/peidlis_c/utils/scrnaseq_signature_collection/'\n",
    "utils_path = '/extra/stefan/utils/scrnaseq_utils/' if at_home else '/fast/work/users/peidlis_c/utils/single_cell_rna_seq/scrnaseq_utils/'\n",
    "\n",
    "# Stefan's utils\n",
    "sys.path.insert(1, utils_path)\n",
    "from scrnaseq_util_functions import *"
   ]
  },
  {
   "cell_type": "markdown",
   "id": "090614ef",
   "metadata": {},
   "source": [
    "Things I could plot:\n",
    "- num cells per perturbation barplot\n",
    "- histogram ncounts\n",
    "- histogram nGenes\n",
    "- number of cells with x nperts (if it makes sense)"
   ]
  },
  {
   "cell_type": "code",
   "execution_count": 2,
   "id": "7fc483a2",
   "metadata": {
    "ExecuteTime": {
     "end_time": "2022-07-14T13:58:50.962238Z",
     "start_time": "2022-07-14T13:58:50.940570Z"
    }
   },
   "outputs": [
    {
     "name": "stdout",
     "output_type": "stream",
     "text": [
      "38\n"
     ]
    },
    {
     "data": {
      "text/plain": [
       "['PapalexiSatija2021_eccite_arrayed_protein',\n",
       " 'PapalexiSatija2021_eccite_arrayed_RNA',\n",
       " 'PapalexiSatija2021_eccite_protein',\n",
       " 'PapalexiSatija2021_eccite_RNA',\n",
       " 'TianKampmann2021_CRISPRa',\n",
       " 'TianKampmann2021_CRISPRi',\n",
       " 'XieHon2017',\n",
       " 'AissaBenevolenskaya2021',\n",
       " 'McFarlandTshemiak2020_all_expts_combined',\n",
       " 'GasperiniShendure2019_lowMOI',\n",
       " 'GasperiniShendure2019_atscale',\n",
       " 'GasperiniShendure2019_highMOI',\n",
       " 'ZhaoSims2021',\n",
       " 'DixitRegev2016',\n",
       " 'DatlingerBock2017',\n",
       " 'DatlingerBock2021',\n",
       " 'FrangiehIzar2021_RNA',\n",
       " 'FrangiehIzar2021_protein',\n",
       " 'WeinrebKlein2020',\n",
       " 'ShifrutMarson2018',\n",
       " 'ReplogleWeissman2022_K562_essential',\n",
       " 'ReplogleWeissman2022_K562_gwps',\n",
       " 'ReplogleWeissman2022_rpe1',\n",
       " 'ChangYe2021',\n",
       " 'GehringPachter2019',\n",
       " 'SchiebingerLander2019_GSE115943',\n",
       " 'SchiebingerLander2019_GSE106340',\n",
       " 'NormanWeissman2019_filtered',\n",
       " 'SchraivogelSteinmetz2020_TAP_SCREEN__chromosome_11_screen',\n",
       " 'SchraivogelSteinmetz2020_TAP_SCREEN__chromosome_8_screen',\n",
       " 'AdamsonWeissman2016_GSM2406677_10X005',\n",
       " 'AdamsonWeissman2016_GSM2406681_10X010',\n",
       " 'AdamsonWeissman2016_GSM2406675_10X001',\n",
       " 'SrivatsanTrapnell2020_sciplex2',\n",
       " 'SrivatsanTrapnell2020_sciplex3',\n",
       " 'SrivatsanTrapnell2020_sciplex4',\n",
       " 'TianKampmann2019_day7neuron',\n",
       " 'TianKampmann2019_iPSC']"
      ]
     },
     "execution_count": 2,
     "metadata": {},
     "output_type": "execute_result"
    }
   ],
   "source": [
    "# get indecs of dataset\n",
    "h5_files = {}\n",
    "for path, subdirs, files in os.walk(data_path):\n",
    "    for name in files:\n",
    "        if '.h5' in name: h5_files[name.split('.h5')[0]] = os.path.join(path, name)\n",
    "del h5_files['exampledataset']\n",
    "del h5_files['NormanWeissman2019_raw']\n",
    "# del h5_files['PapalexiSatija2021_eccite_arrayed_protein']\n",
    "# del h5_files['PapalexiSatija2021_eccite_protein']\n",
    "# del h5_files['FrangiehIzar2021_protein']\n",
    "del h5_files['gene_scores']\n",
    "del h5_files['peak_bc']\n",
    "del h5_files['ChromVar']\n",
    "del h5_files['LSI_embedding']\n",
    "del h5_files['markerpeak_target']\n",
    "print(len(h5_files))\n",
    "list(h5_files.keys())"
   ]
  },
  {
   "cell_type": "code",
   "execution_count": 3,
   "id": "66a342d3",
   "metadata": {
    "ExecuteTime": {
     "end_time": "2022-07-14T13:59:21.612211Z",
     "start_time": "2022-07-14T13:58:57.076764Z"
    }
   },
   "outputs": [
    {
     "name": "stderr",
     "output_type": "stream",
     "text": [
      "                                               \r"
     ]
    }
   ],
   "source": [
    "# capture obs and vars in a dict, indices as keis\n",
    "obses = {}\n",
    "vares = {}\n",
    "for name, path in tqdm(h5_files.items(), leave=False):\n",
    "    obses[name] = pd.read_csv(os.path.dirname(path)+'/obs.csv')\n",
    "    vares[name] = pd.read_csv(os.path.dirname(path)+'/var.csv')"
   ]
  },
  {
   "cell_type": "code",
   "execution_count": 4,
   "id": "8f0b7d95",
   "metadata": {
    "ExecuteTime": {
     "end_time": "2022-07-14T13:59:21.618367Z",
     "start_time": "2022-07-14T13:59:21.614813Z"
    }
   },
   "outputs": [
    {
     "data": {
      "text/plain": [
       "dict_keys(['PapalexiSatija2021_eccite_arrayed_protein', 'PapalexiSatija2021_eccite_arrayed_RNA', 'PapalexiSatija2021_eccite_protein', 'PapalexiSatija2021_eccite_RNA', 'TianKampmann2021_CRISPRa', 'TianKampmann2021_CRISPRi', 'XieHon2017', 'AissaBenevolenskaya2021', 'McFarlandTshemiak2020_all_expts_combined', 'GasperiniShendure2019_lowMOI', 'GasperiniShendure2019_atscale', 'GasperiniShendure2019_highMOI', 'ZhaoSims2021', 'DixitRegev2016', 'DatlingerBock2017', 'DatlingerBock2021', 'FrangiehIzar2021_RNA', 'FrangiehIzar2021_protein', 'WeinrebKlein2020', 'ShifrutMarson2018', 'ReplogleWeissman2022_K562_essential', 'ReplogleWeissman2022_K562_gwps', 'ReplogleWeissman2022_rpe1', 'ChangYe2021', 'GehringPachter2019', 'SchiebingerLander2019_GSE115943', 'SchiebingerLander2019_GSE106340', 'NormanWeissman2019_filtered', 'SchraivogelSteinmetz2020_TAP_SCREEN__chromosome_11_screen', 'SchraivogelSteinmetz2020_TAP_SCREEN__chromosome_8_screen', 'AdamsonWeissman2016_GSM2406677_10X005', 'AdamsonWeissman2016_GSM2406681_10X010', 'AdamsonWeissman2016_GSM2406675_10X001', 'SrivatsanTrapnell2020_sciplex2', 'SrivatsanTrapnell2020_sciplex3', 'SrivatsanTrapnell2020_sciplex4', 'TianKampmann2019_day7neuron', 'TianKampmann2019_iPSC'])"
      ]
     },
     "execution_count": 4,
     "metadata": {},
     "output_type": "execute_result"
    }
   ],
   "source": [
    "obses.keys()"
   ]
  },
  {
   "cell_type": "code",
   "execution_count": 76,
   "id": "7e9e7216",
   "metadata": {
    "ExecuteTime": {
     "end_time": "2022-07-14T14:54:25.597578Z",
     "start_time": "2022-07-14T14:54:25.594791Z"
    }
   },
   "outputs": [],
   "source": [
    "obs = obses['SrivatsanTrapnell2020_sciplex3']"
   ]
  },
  {
   "cell_type": "code",
   "execution_count": 77,
   "id": "e31911be",
   "metadata": {
    "ExecuteTime": {
     "end_time": "2022-07-14T14:54:26.139608Z",
     "start_time": "2022-07-14T14:54:26.078767Z"
    }
   },
   "outputs": [],
   "source": [
    "df = obs.value_counts('perturbation').reset_index()\n",
    "df.columns = ['perturbation', 'number of cells']"
   ]
  },
  {
   "cell_type": "code",
   "execution_count": 80,
   "id": "7dac87d1",
   "metadata": {
    "ExecuteTime": {
     "end_time": "2022-07-14T14:54:56.345277Z",
     "start_time": "2022-07-14T14:54:55.993635Z"
    }
   },
   "outputs": [
    {
     "data": {
      "image/png": "[encoded data removed]",
      "text/plain": [
       "<Figure size 432x288 with 1 Axes>"
      ]
     },
     "metadata": {},
     "output_type": "display_data"
    }
   ],
   "source": [
    "df = obs.value_counts('perturbation').reset_index()\n",
    "df.columns = ['perturbation', 'number of cells']\n",
    "with sns.axes_style('whitegrid'):\n",
    "    fig, ax = pl.subplots(figsize=[6,4])\n",
    "sns.histplot(data=df, x='number of cells')\n",
    "ax.set_title('Number of cells per perturbation')\n",
    "ax.set_xlabel('Number of cells')\n",
    "pl.show()"
   ]
  },
  {
   "cell_type": "code",
   "execution_count": 124,
   "id": "04eaf163",
   "metadata": {
    "ExecuteTime": {
     "end_time": "2022-07-13T22:36:11.669171Z",
     "start_time": "2022-07-13T22:36:11.022181Z"
    },
    "scrolled": true
   },
   "outputs": [
    {
     "data": {
      "image/png": "[encoded data removed]",
      "text/plain": [
       "<Figure size 432x288 with 1 Axes>"
      ]
     },
     "metadata": {},
     "output_type": "display_data"
    }
   ],
   "source": [
    "with sns.axes_style('whitegrid'):\n",
    "    fig, ax = pl.subplots(figsize=[6,4])\n",
    "df = obs.copy()\n",
    "df['ncounts'] = np.clip(df['ncounts'], 0, np.percentile(df['ncounts'],99.99))\n",
    "# sns.histplot(data=df, x='ncounts')\n",
    "sns.kdeplot(data=df, x='ncounts', fill=True, ax=ax)\n",
    "ax.set_title('Number of UMI counts per cell')\n",
    "pl.show()"
   ]
  },
  {
   "cell_type": "code",
   "execution_count": 123,
   "id": "fdd6b01b",
   "metadata": {
    "ExecuteTime": {
     "end_time": "2022-07-13T22:35:58.084162Z",
     "start_time": "2022-07-13T22:35:57.437782Z"
    }
   },
   "outputs": [
    {
     "data": {
      "image/png": "[encoded data removed]",
      "text/plain": [
       "<Figure size 432x288 with 1 Axes>"
      ]
     },
     "metadata": {},
     "output_type": "display_data"
    }
   ],
   "source": [
    "with sns.axes_style('whitegrid'):\n",
    "    fig, ax = pl.subplots(figsize=[6,4])\n",
    "df = obs.copy()\n",
    "df['ngenes'] = np.clip(df['ngenes'], 0, np.percentile(df['ngenes'],99.99))\n",
    "sns.kdeplot(data=df, x='ngenes', fill=True, ax=ax)\n",
    "ax.set_title('Number of genes detected per cell')\n",
    "pl.show()"
   ]
  },
  {
   "cell_type": "code",
   "execution_count": 128,
   "id": "c3116271",
   "metadata": {
    "ExecuteTime": {
     "end_time": "2022-07-13T23:14:04.291659Z",
     "start_time": "2022-07-13T23:14:04.253491Z"
    }
   },
   "outputs": [],
   "source": [
    "ks = []\n",
    "for key, obs in obses.items():\n",
    "    try:\n",
    "        ks.append(np.mean(obs.ncounts))\n",
    "    except:\n",
    "        pass"
   ]
  },
  {
   "cell_type": "code",
   "execution_count": 54,
   "id": "0791bdfc",
   "metadata": {
    "ExecuteTime": {
     "end_time": "2022-07-14T14:40:38.379277Z",
     "start_time": "2022-07-14T14:40:38.376796Z"
    }
   },
   "outputs": [],
   "source": [
    "fig_dir = \"/fast/work/users/peidlis_c/projects/perturbation_resource_paper/single_cell_perturbation_data/code/figures/website_figures/\""
   ]
  },
  {
   "cell_type": "code",
   "execution_count": 81,
   "id": "6584a8e6",
   "metadata": {
    "ExecuteTime": {
     "end_time": "2022-07-14T14:56:01.705222Z",
     "start_time": "2022-07-14T14:55:28.358448Z"
    }
   },
   "outputs": [
    {
     "name": "stderr",
     "output_type": "stream",
     "text": [
      "100%|██████████| 38/38 [00:33<00:00,  1.14it/s]\n"
     ]
    }
   ],
   "source": [
    "q = 0.05\n",
    "for key, obs in tqdm(obses.items()):\n",
    "#     if 'ncounts' in obs.columns:\n",
    "#         with sns.axes_style('whitegrid'):\n",
    "#             fig, ax = pl.subplots(figsize=[6,4])\n",
    "#         df = obs.copy()\n",
    "#         df['ncounts'] = np.clip(df['ncounts'], np.percentile(df['ncounts'], q), np.percentile(df['ncounts'], 100-q))\n",
    "#         # sns.histplot(data=df, x='ncounts')\n",
    "#         sns.kdeplot(data=df, x='ncounts', fill=True, ax=ax)\n",
    "#         ax.set_title('Number of UMI counts per cell')\n",
    "#         ax.set_yticks([])\n",
    "#         pl.savefig(f'{fig_dir}ncounts_{key}.png')\n",
    "#         pl.close()\n",
    "    \n",
    "#     if 'ngenes' in obs.columns:\n",
    "#         with sns.axes_style('whitegrid'):\n",
    "#             fig, ax = pl.subplots(figsize=[6,4])\n",
    "#         df = obs.copy()\n",
    "#         df['ngenes'] = np.clip(df['ngenes'], np.percentile(df['ngenes'], q), np.percentile(df['ngenes'], 100-q))\n",
    "#         sns.kdeplot(data=df, x='ngenes', fill=True, ax=ax)\n",
    "#         ax.set_title('Number of genes detected per cell')\n",
    "#         ax.set_yticks([])\n",
    "#         pl.savefig(f'{fig_dir}ngenes_{key}.png')\n",
    "#         pl.close()\n",
    "    \n",
    "#     if 'nperts' in obs.columns:\n",
    "#         if len(pd.unique(obs.nperts))>2:\n",
    "#             obs['nperts_'] = obs.nperts.astype(str)\n",
    "#             obs['nperts_'][obs.nperts>5] = '>5'\n",
    "#             df = obs.nperts_.value_counts().sort_index().reset_index()\n",
    "#             df.columns=['number of perturbations', 'number of cells']\n",
    "#             with sns.axes_style('whitegrid'):\n",
    "#                 fig, ax = pl.subplots(figsize=[6,4])\n",
    "#             sns.barplot(data=df, x='number of perturbations', y='number of cells', ax=ax)\n",
    "#             ax.set_title('Number of perturbations per cell')\n",
    "#             pl.savefig(f'{fig_dir}nperts_{key}.png')\n",
    "#             pl.close()\n",
    "    \n",
    "    df = obs.value_counts('perturbation').reset_index()\n",
    "    df.columns = ['perturbation', 'number of cells']\n",
    "    with sns.axes_style('whitegrid'):\n",
    "        fig, ax = pl.subplots(figsize=[6,4])\n",
    "    sns.histplot(data=df, x='number of cells')\n",
    "    ax.set_title('Number of cells per perturbation')\n",
    "    ax.set_xlabel('Number of cells')\n",
    "    pl.savefig(f'{fig_dir}ncellsperpert_{key}.png')\n",
    "    pl.close()\n"
   ]
  },
  {
   "cell_type": "code",
   "execution_count": null,
   "id": "9c4e7ea8",
   "metadata": {},
   "outputs": [],
   "source": []
  },
  {
   "cell_type": "code",
   "execution_count": null,
   "id": "954f19b6",
   "metadata": {},
   "outputs": [],
   "source": []
  },
  {
   "cell_type": "code",
   "execution_count": null,
   "id": "9789dc7d",
   "metadata": {},
   "outputs": [],
   "source": []
  }
 ],
 "metadata": {
  "hide_input": false,
  "kernelspec": {
   "display_name": "Python 3",
   "language": "python",
   "name": "python3"
  },
  "language_info": {
   "codemirror_mode": {
    "name": "ipython",
    "version": 3
   },
   "file_extension": ".py",
   "mimetype": "text/x-python",
   "name": "python",
   "nbconvert_exporter": "python",
   "pygments_lexer": "ipython3",
   "version": "3.9.5"
  }
 },
 "nbformat": 4,
 "nbformat_minor": 5
}
