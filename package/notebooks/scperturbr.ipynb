{
 "cells": [
  {
   "cell_type": "code",
   "execution_count": 2,
   "metadata": {
    "vscode": {
     "languageId": "r"
    }
   },
   "outputs": [],
   "source": [
    "#install.packages(\"remotes\")\n",
    "#remotes::install_github(\"theislab/zellkonverter\")\n",
    "# Seurat installed with conda\n",
    "#install.packages('rdist') # DO this weird armadillo bugfix for MacOS\n",
    "#install.packages('energy')"
   ]
  },
  {
   "cell_type": "code",
   "execution_count": 63,
   "metadata": {
    "vscode": {
     "languageId": "r"
    }
   },
   "outputs": [
    {
     "name": "stderr",
     "output_type": "stream",
     "text": [
      "Warning message:\n",
      "“The following arguments are not used: couunts”\n"
     ]
    }
   ],
   "source": [
    "# !wget https://zenodo.org/record/7041849/files/DatlingerBock2021.h5ad\n",
    "sce_object <- zellkonverter::readH5AD('DatlingerBock2021.h5ad', X_name='counts')\n",
    "seurat_object <- Seurat::as.Seurat(sce_object, couunts = 'counts', data = 'counts')"
   ]
  },
  {
   "cell_type": "code",
   "execution_count": 64,
   "metadata": {
    "vscode": {
     "languageId": "r"
    }
   },
   "outputs": [
    {
     "name": "stderr",
     "output_type": "stream",
     "text": [
      "Centering and scaling data matrix\n",
      "\n"
     ]
    }
   ],
   "source": [
    "# # basic qc and pp\n",
    "# sc.pp.filter_cells(adata, min_counts=1000)\n",
    "# sc.pp.normalize_per_cell(adata)\n",
    "# sc.pp.filter_genes(adata, min_cells=50)\n",
    "# sc.pp.log1p(adata)\n",
    "\n",
    "# # high class imbalance\n",
    "# adata = equal_subsampling(adata, 'perturbation', N_min=50)\n",
    "# sc.pp.filter_genes(adata, min_cells=3)  # sanity cleaning\n",
    "\n",
    "# # select HVGs\n",
    "# n_var_max = 2000  # max total features to select\n",
    "# sc.pp.highly_variable_genes(adata, n_top_genes=n_var_max, subset=False, flavor='seurat_v3', layer='counts')\n",
    "# sc.pp.pca(adata, use_highly_variable=True)\n",
    "# sc.pp.neighbors(adata)\n",
    "\n",
    "seurat_object[[\"percent.mt\"]] <- PercentageFeatureSet(seurat_object, pattern = \"^MT-\")\n",
    "seurat_object <- NormalizeData(seurat_object, normalization.method = \"LogNormalize\", scale.factor = 10000)\n",
    "seurat_object <- FindVariableFeatures(seurat_object, selection.method = \"vst\", nfeatures = 2000)\n",
    "seurat_object <- ScaleData(seurat_object, features = rownames(seurat_object))\n",
    "seurat_object <- RunPCA(seurat_object, features = VariableFeatures(object = seurat_object), verbose = FALSE)"
   ]
  },
  {
   "cell_type": "code",
   "execution_count": 70,
   "metadata": {
    "vscode": {
     "languageId": "r"
    }
   },
   "outputs": [
    {
     "data": {
      "text/html": [
       "<style>\n",
       ".list-inline {list-style: none; margin:0; padding: 0}\n",
       ".list-inline>li {display: inline-block}\n",
       ".list-inline>li:not(:last-child)::after {content: \"\\00b7\"; padding: 0 .5ex}\n",
       "</style>\n",
       "<ol class=list-inline><li>39194</li><li>50</li></ol>\n"
      ],
      "text/latex": [
       "\\begin{enumerate*}\n",
       "\\item 39194\n",
       "\\item 50\n",
       "\\end{enumerate*}\n"
      ],
      "text/markdown": [
       "1. 39194\n",
       "2. 50\n",
       "\n",
       "\n"
      ],
      "text/plain": [
       "[1] 39194    50"
      ]
     },
     "metadata": {},
     "output_type": "display_data"
    }
   ],
   "source": [
    "labels <- seurat_object[[]][['perturbation']]\n",
    "pca <- Embeddings(seurat_object, reduction = \"pca\")\n",
    "dim(pca)"
   ]
  },
  {
   "cell_type": "code",
   "execution_count": 72,
   "metadata": {
    "vscode": {
     "languageId": "r"
    }
   },
   "outputs": [],
   "source": [
    "groups <- unique(labels)"
   ]
  },
  {
   "cell_type": "code",
   "execution_count": 74,
   "metadata": {
    "vscode": {
     "languageId": "r"
    }
   },
   "outputs": [],
   "source": [
    "x <- as.matrix(pca)[labels=='control',]\n",
    "y <- as.matrix(pca)[labels==groups[1],]\n",
    "X <- rbind(x, y)\n",
    "d <- dist(X)"
   ]
  },
  {
   "cell_type": "code",
   "execution_count": 93,
   "metadata": {
    "vscode": {
     "languageId": "r"
    }
   },
   "outputs": [],
   "source": [
    "res <- energy::eqdist.etest(d, sizes=c(nrow(x), nrow(y)), distance=TRUE, R = 10)\n"
   ]
  },
  {
   "cell_type": "code",
   "execution_count": 92,
   "metadata": {
    "vscode": {
     "languageId": "r"
    }
   },
   "outputs": [],
   "source": [
    "df <- data.frame(row.names = groups, pval = rep(NA, length(groups)))"
   ]
  },
  {
   "cell_type": "code",
   "execution_count": 102,
   "metadata": {
    "vscode": {
     "languageId": "r"
    }
   },
   "outputs": [],
   "source": [
    "for (group in groups) {\n",
    "  x <- as.matrix(pca)[labels=='control',]\n",
    "  y <- as.matrix(pca)[labels==group,]\n",
    "  X <- rbind(x, y)\n",
    "  d <- dist(X)\n",
    "  res <- energy::eqdist.etest(d, sizes=c(nrow(x), nrow(y)), distance=TRUE, R = 10)\n",
    "  df[group, 'pval'] <- res$'p.value'\n",
    "  df[group, 'edist'] <- res$statistic\n",
    "}"
   ]
  },
  {
   "cell_type": "code",
   "execution_count": 103,
   "metadata": {
    "vscode": {
     "languageId": "r"
    }
   },
   "outputs": [
    {
     "data": {
      "text/html": [
       "<table class=\"dataframe\">\n",
       "<caption>A data.frame: 41 × 2</caption>\n",
       "<thead>\n",
       "\t<tr><th></th><th scope=col>pval</th><th scope=col>edist</th></tr>\n",
       "\t<tr><th></th><th scope=col>&lt;dbl&gt;</th><th scope=col>&lt;dbl&gt;</th></tr>\n",
       "</thead>\n",
       "<tbody>\n",
       "\t<tr><th scope=row>ZAP70_1</th><td>0.09090909</td><td> 4.022742e+01</td></tr>\n",
       "\t<tr><th scope=row>ZAP70_2</th><td>0.09090909</td><td> 8.198755e+01</td></tr>\n",
       "\t<tr><th scope=row>LCK_1</th><td>0.09090909</td><td> 3.739764e+01</td></tr>\n",
       "\t<tr><th scope=row>LCK_2</th><td>0.09090909</td><td> 6.629021e+01</td></tr>\n",
       "\t<tr><th scope=row>LAT_1</th><td>0.09090909</td><td> 6.540238e+01</td></tr>\n",
       "\t<tr><th scope=row>LAT_2</th><td>0.09090909</td><td> 6.552532e+01</td></tr>\n",
       "\t<tr><th scope=row>DOK2_1</th><td>0.09090909</td><td> 3.323810e+01</td></tr>\n",
       "\t<tr><th scope=row>DOK2_2</th><td>0.09090909</td><td> 1.835377e+01</td></tr>\n",
       "\t<tr><th scope=row>PTPN6_1</th><td>0.09090909</td><td> 3.380036e+01</td></tr>\n",
       "\t<tr><th scope=row>PTPN6_2</th><td>0.09090909</td><td> 3.154777e+01</td></tr>\n",
       "\t<tr><th scope=row>PTPN11_1</th><td>0.09090909</td><td> 3.423117e+01</td></tr>\n",
       "\t<tr><th scope=row>PTPN11_2</th><td>0.09090909</td><td> 3.557399e+01</td></tr>\n",
       "\t<tr><th scope=row>JUN_1</th><td>0.09090909</td><td> 1.924461e+01</td></tr>\n",
       "\t<tr><th scope=row>JUN_2</th><td>0.09090909</td><td> 2.100099e+01</td></tr>\n",
       "\t<tr><th scope=row>JUND_1</th><td>0.18181818</td><td> 1.105700e+01</td></tr>\n",
       "\t<tr><th scope=row>JUND_2</th><td>0.09090909</td><td> 3.054521e+01</td></tr>\n",
       "\t<tr><th scope=row>FOS_1</th><td>0.09090909</td><td> 2.830571e+01</td></tr>\n",
       "\t<tr><th scope=row>FOS_2</th><td>0.09090909</td><td> 1.871160e+01</td></tr>\n",
       "\t<tr><th scope=row>EGR1_1</th><td>0.09090909</td><td> 1.794096e+01</td></tr>\n",
       "\t<tr><th scope=row>EGR1_2</th><td>0.09090909</td><td> 1.768870e+01</td></tr>\n",
       "\t<tr><th scope=row>EGR2_1</th><td>0.09090909</td><td> 2.233821e+01</td></tr>\n",
       "\t<tr><th scope=row>EGR2_2</th><td>0.09090909</td><td> 1.378036e+01</td></tr>\n",
       "\t<tr><th scope=row>EGR3_1</th><td>0.09090909</td><td> 1.393784e+01</td></tr>\n",
       "\t<tr><th scope=row>EGR3_2</th><td>0.09090909</td><td> 2.347853e+01</td></tr>\n",
       "\t<tr><th scope=row>EGR4_1</th><td>0.09090909</td><td> 1.819219e+01</td></tr>\n",
       "\t<tr><th scope=row>EGR4_2</th><td>0.09090909</td><td> 1.573216e+01</td></tr>\n",
       "\t<tr><th scope=row>NFKB1_1</th><td>0.54545455</td><td> 6.762451e+00</td></tr>\n",
       "\t<tr><th scope=row>NFKB1_2</th><td>0.09090909</td><td> 1.564830e+01</td></tr>\n",
       "\t<tr><th scope=row>NFKB2_1</th><td>0.27272727</td><td> 8.013564e+00</td></tr>\n",
       "\t<tr><th scope=row>NFKB2_2</th><td>0.09090909</td><td> 3.586833e+01</td></tr>\n",
       "\t<tr><th scope=row>RELA_1</th><td>0.36363636</td><td> 9.334413e+00</td></tr>\n",
       "\t<tr><th scope=row>RELA_2</th><td>0.09090909</td><td> 1.232057e+01</td></tr>\n",
       "\t<tr><th scope=row>NFATC1_1</th><td>0.09090909</td><td> 4.886492e+01</td></tr>\n",
       "\t<tr><th scope=row>NFATC1_2</th><td>0.09090909</td><td> 8.645451e+01</td></tr>\n",
       "\t<tr><th scope=row>NFAT5_1</th><td>0.09090909</td><td> 1.111039e+01</td></tr>\n",
       "\t<tr><th scope=row>NFAT5_2</th><td>0.09090909</td><td> 3.698487e+01</td></tr>\n",
       "\t<tr><th scope=row>NR4A1_1</th><td>0.09090909</td><td> 2.152499e+01</td></tr>\n",
       "\t<tr><th scope=row>NR4A1_2</th><td>0.09090909</td><td> 1.148086e+01</td></tr>\n",
       "\t<tr><th scope=row>RUNX2_1</th><td>0.09090909</td><td> 1.947875e+01</td></tr>\n",
       "\t<tr><th scope=row>RUNX2_2</th><td>0.09090909</td><td> 1.572288e+01</td></tr>\n",
       "\t<tr><th scope=row>control</th><td>1.00000000</td><td>-7.756617e-08</td></tr>\n",
       "</tbody>\n",
       "</table>\n"
      ],
      "text/latex": [
       "A data.frame: 41 × 2\n",
       "\\begin{tabular}{r|ll}\n",
       "  & pval & edist\\\\\n",
       "  & <dbl> & <dbl>\\\\\n",
       "\\hline\n",
       "\tZAP70\\_1 & 0.09090909 &  4.022742e+01\\\\\n",
       "\tZAP70\\_2 & 0.09090909 &  8.198755e+01\\\\\n",
       "\tLCK\\_1 & 0.09090909 &  3.739764e+01\\\\\n",
       "\tLCK\\_2 & 0.09090909 &  6.629021e+01\\\\\n",
       "\tLAT\\_1 & 0.09090909 &  6.540238e+01\\\\\n",
       "\tLAT\\_2 & 0.09090909 &  6.552532e+01\\\\\n",
       "\tDOK2\\_1 & 0.09090909 &  3.323810e+01\\\\\n",
       "\tDOK2\\_2 & 0.09090909 &  1.835377e+01\\\\\n",
       "\tPTPN6\\_1 & 0.09090909 &  3.380036e+01\\\\\n",
       "\tPTPN6\\_2 & 0.09090909 &  3.154777e+01\\\\\n",
       "\tPTPN11\\_1 & 0.09090909 &  3.423117e+01\\\\\n",
       "\tPTPN11\\_2 & 0.09090909 &  3.557399e+01\\\\\n",
       "\tJUN\\_1 & 0.09090909 &  1.924461e+01\\\\\n",
       "\tJUN\\_2 & 0.09090909 &  2.100099e+01\\\\\n",
       "\tJUND\\_1 & 0.18181818 &  1.105700e+01\\\\\n",
       "\tJUND\\_2 & 0.09090909 &  3.054521e+01\\\\\n",
       "\tFOS\\_1 & 0.09090909 &  2.830571e+01\\\\\n",
       "\tFOS\\_2 & 0.09090909 &  1.871160e+01\\\\\n",
       "\tEGR1\\_1 & 0.09090909 &  1.794096e+01\\\\\n",
       "\tEGR1\\_2 & 0.09090909 &  1.768870e+01\\\\\n",
       "\tEGR2\\_1 & 0.09090909 &  2.233821e+01\\\\\n",
       "\tEGR2\\_2 & 0.09090909 &  1.378036e+01\\\\\n",
       "\tEGR3\\_1 & 0.09090909 &  1.393784e+01\\\\\n",
       "\tEGR3\\_2 & 0.09090909 &  2.347853e+01\\\\\n",
       "\tEGR4\\_1 & 0.09090909 &  1.819219e+01\\\\\n",
       "\tEGR4\\_2 & 0.09090909 &  1.573216e+01\\\\\n",
       "\tNFKB1\\_1 & 0.54545455 &  6.762451e+00\\\\\n",
       "\tNFKB1\\_2 & 0.09090909 &  1.564830e+01\\\\\n",
       "\tNFKB2\\_1 & 0.27272727 &  8.013564e+00\\\\\n",
       "\tNFKB2\\_2 & 0.09090909 &  3.586833e+01\\\\\n",
       "\tRELA\\_1 & 0.36363636 &  9.334413e+00\\\\\n",
       "\tRELA\\_2 & 0.09090909 &  1.232057e+01\\\\\n",
       "\tNFATC1\\_1 & 0.09090909 &  4.886492e+01\\\\\n",
       "\tNFATC1\\_2 & 0.09090909 &  8.645451e+01\\\\\n",
       "\tNFAT5\\_1 & 0.09090909 &  1.111039e+01\\\\\n",
       "\tNFAT5\\_2 & 0.09090909 &  3.698487e+01\\\\\n",
       "\tNR4A1\\_1 & 0.09090909 &  2.152499e+01\\\\\n",
       "\tNR4A1\\_2 & 0.09090909 &  1.148086e+01\\\\\n",
       "\tRUNX2\\_1 & 0.09090909 &  1.947875e+01\\\\\n",
       "\tRUNX2\\_2 & 0.09090909 &  1.572288e+01\\\\\n",
       "\tcontrol & 1.00000000 & -7.756617e-08\\\\\n",
       "\\end{tabular}\n"
      ],
      "text/markdown": [
       "\n",
       "A data.frame: 41 × 2\n",
       "\n",
       "| <!--/--> | pval &lt;dbl&gt; | edist &lt;dbl&gt; |\n",
       "|---|---|---|\n",
       "| ZAP70_1 | 0.09090909 |  4.022742e+01 |\n",
       "| ZAP70_2 | 0.09090909 |  8.198755e+01 |\n",
       "| LCK_1 | 0.09090909 |  3.739764e+01 |\n",
       "| LCK_2 | 0.09090909 |  6.629021e+01 |\n",
       "| LAT_1 | 0.09090909 |  6.540238e+01 |\n",
       "| LAT_2 | 0.09090909 |  6.552532e+01 |\n",
       "| DOK2_1 | 0.09090909 |  3.323810e+01 |\n",
       "| DOK2_2 | 0.09090909 |  1.835377e+01 |\n",
       "| PTPN6_1 | 0.09090909 |  3.380036e+01 |\n",
       "| PTPN6_2 | 0.09090909 |  3.154777e+01 |\n",
       "| PTPN11_1 | 0.09090909 |  3.423117e+01 |\n",
       "| PTPN11_2 | 0.09090909 |  3.557399e+01 |\n",
       "| JUN_1 | 0.09090909 |  1.924461e+01 |\n",
       "| JUN_2 | 0.09090909 |  2.100099e+01 |\n",
       "| JUND_1 | 0.18181818 |  1.105700e+01 |\n",
       "| JUND_2 | 0.09090909 |  3.054521e+01 |\n",
       "| FOS_1 | 0.09090909 |  2.830571e+01 |\n",
       "| FOS_2 | 0.09090909 |  1.871160e+01 |\n",
       "| EGR1_1 | 0.09090909 |  1.794096e+01 |\n",
       "| EGR1_2 | 0.09090909 |  1.768870e+01 |\n",
       "| EGR2_1 | 0.09090909 |  2.233821e+01 |\n",
       "| EGR2_2 | 0.09090909 |  1.378036e+01 |\n",
       "| EGR3_1 | 0.09090909 |  1.393784e+01 |\n",
       "| EGR3_2 | 0.09090909 |  2.347853e+01 |\n",
       "| EGR4_1 | 0.09090909 |  1.819219e+01 |\n",
       "| EGR4_2 | 0.09090909 |  1.573216e+01 |\n",
       "| NFKB1_1 | 0.54545455 |  6.762451e+00 |\n",
       "| NFKB1_2 | 0.09090909 |  1.564830e+01 |\n",
       "| NFKB2_1 | 0.27272727 |  8.013564e+00 |\n",
       "| NFKB2_2 | 0.09090909 |  3.586833e+01 |\n",
       "| RELA_1 | 0.36363636 |  9.334413e+00 |\n",
       "| RELA_2 | 0.09090909 |  1.232057e+01 |\n",
       "| NFATC1_1 | 0.09090909 |  4.886492e+01 |\n",
       "| NFATC1_2 | 0.09090909 |  8.645451e+01 |\n",
       "| NFAT5_1 | 0.09090909 |  1.111039e+01 |\n",
       "| NFAT5_2 | 0.09090909 |  3.698487e+01 |\n",
       "| NR4A1_1 | 0.09090909 |  2.152499e+01 |\n",
       "| NR4A1_2 | 0.09090909 |  1.148086e+01 |\n",
       "| RUNX2_1 | 0.09090909 |  1.947875e+01 |\n",
       "| RUNX2_2 | 0.09090909 |  1.572288e+01 |\n",
       "| control | 1.00000000 | -7.756617e-08 |\n",
       "\n"
      ],
      "text/plain": [
       "         pval       edist        \n",
       "ZAP70_1  0.09090909  4.022742e+01\n",
       "ZAP70_2  0.09090909  8.198755e+01\n",
       "LCK_1    0.09090909  3.739764e+01\n",
       "LCK_2    0.09090909  6.629021e+01\n",
       "LAT_1    0.09090909  6.540238e+01\n",
       "LAT_2    0.09090909  6.552532e+01\n",
       "DOK2_1   0.09090909  3.323810e+01\n",
       "DOK2_2   0.09090909  1.835377e+01\n",
       "PTPN6_1  0.09090909  3.380036e+01\n",
       "PTPN6_2  0.09090909  3.154777e+01\n",
       "PTPN11_1 0.09090909  3.423117e+01\n",
       "PTPN11_2 0.09090909  3.557399e+01\n",
       "JUN_1    0.09090909  1.924461e+01\n",
       "JUN_2    0.09090909  2.100099e+01\n",
       "JUND_1   0.18181818  1.105700e+01\n",
       "JUND_2   0.09090909  3.054521e+01\n",
       "FOS_1    0.09090909  2.830571e+01\n",
       "FOS_2    0.09090909  1.871160e+01\n",
       "EGR1_1   0.09090909  1.794096e+01\n",
       "EGR1_2   0.09090909  1.768870e+01\n",
       "EGR2_1   0.09090909  2.233821e+01\n",
       "EGR2_2   0.09090909  1.378036e+01\n",
       "EGR3_1   0.09090909  1.393784e+01\n",
       "EGR3_2   0.09090909  2.347853e+01\n",
       "EGR4_1   0.09090909  1.819219e+01\n",
       "EGR4_2   0.09090909  1.573216e+01\n",
       "NFKB1_1  0.54545455  6.762451e+00\n",
       "NFKB1_2  0.09090909  1.564830e+01\n",
       "NFKB2_1  0.27272727  8.013564e+00\n",
       "NFKB2_2  0.09090909  3.586833e+01\n",
       "RELA_1   0.36363636  9.334413e+00\n",
       "RELA_2   0.09090909  1.232057e+01\n",
       "NFATC1_1 0.09090909  4.886492e+01\n",
       "NFATC1_2 0.09090909  8.645451e+01\n",
       "NFAT5_1  0.09090909  1.111039e+01\n",
       "NFAT5_2  0.09090909  3.698487e+01\n",
       "NR4A1_1  0.09090909  2.152499e+01\n",
       "NR4A1_2  0.09090909  1.148086e+01\n",
       "RUNX2_1  0.09090909  1.947875e+01\n",
       "RUNX2_2  0.09090909  1.572288e+01\n",
       "control  1.00000000 -7.756617e-08"
      ]
     },
     "metadata": {},
     "output_type": "display_data"
    }
   ],
   "source": [
    "df"
   ]
  },
  {
   "cell_type": "code",
   "execution_count": null,
   "metadata": {
    "vscode": {
     "languageId": "r"
    }
   },
   "outputs": [],
   "source": []
  }
 ],
 "metadata": {
  "kernelspec": {
   "display_name": "R",
   "language": "R",
   "name": "ir"
  },
  "language_info": {
   "codemirror_mode": "r",
   "file_extension": ".r",
   "mimetype": "text/x-r-source",
   "name": "R",
   "pygments_lexer": "r",
   "version": "4.2.2"
  },
  "orig_nbformat": 4,
  "vscode": {
   "interpreter": {
    "hash": "b286f6d81d26b8c5e9b75f0b330b147d4e82d310a48f1d10d555cf8099dd470e"
   }
  }
 },
 "nbformat": 4,
 "nbformat_minor": 2
}
