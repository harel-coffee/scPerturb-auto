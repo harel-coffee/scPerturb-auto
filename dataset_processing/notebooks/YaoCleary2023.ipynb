{
 "cells": [
  {
   "cell_type": "code",
   "execution_count": 2,
   "id": "0265dc61-7de1-4a26-b5b9-b891a1e2ded4",
   "metadata": {
    "tags": []
   },
   "outputs": [],
   "source": [
    "!pip install mygene statannotations scrublet scanpy scvelo decoupler matplotlib_venn goatools gseapy scperturb biomart PyComplexHeatmap statsmodels omnipath git+https://github.com/saezlab/pypath.git --quiet"
   ]
  },
  {
   "cell_type": "code",
   "execution_count": 3,
   "id": "22ba1923",
   "metadata": {
    "ExecuteTime": {
     "end_time": "2023-03-28T15:10:48.175585Z",
     "start_time": "2023-03-28T15:10:39.381132Z"
    },
    "tags": []
   },
   "outputs": [
    {
     "data": {
      "text/html": [
       "<style>.container { width:95% !important; }</style>"
      ],
      "text/plain": [
       "<IPython.core.display.HTML object>"
      ]
     },
     "metadata": {},
     "output_type": "display_data"
    }
   ],
   "source": [
    "import subprocess\n",
    "import os\n",
    "import sys\n",
    "import matplotlib.backends.backend_pdf\n",
    "import scanpy as sc\n",
    "import matplotlib.pyplot as pl\n",
    "import anndata as ad\n",
    "import pandas as pd\n",
    "import numpy as np\n",
    "import seaborn as sns\n",
    "import scvelo as scv\n",
    "scv.settings.verbosity=1\n",
    "\n",
    "from pathlib import Path\n",
    "\n",
    "# Jupyter stuff\n",
    "from tqdm.notebook import tqdm\n",
    "from IPython.display import clear_output\n",
    "from IPython.core.display import display, HTML\n",
    "display(HTML(\"<style>.container { width:95% !important; }</style>\"))\n",
    "\n",
    "%matplotlib inline\n",
    "\n",
    "# Custom functions\n",
    "sys.path.insert(1, '../')\n",
    "from utils import *\n",
    "\n",
    "# scperturb package\n",
    "sys.path.insert(1, '../package/src/')\n",
    "from scperturb import *\n",
    "\n",
    "from pathlib import Path\n",
    "figure_path = Path('../figures/')"
   ]
  },
  {
   "cell_type": "code",
   "execution_count": 4,
   "id": "fbb70c63",
   "metadata": {
    "ExecuteTime": {
     "end_time": "2023-03-28T15:10:48.180652Z",
     "start_time": "2023-03-28T15:10:48.178058Z"
    },
    "tags": []
   },
   "outputs": [],
   "source": [
    "TEMPDIR = Path('/scratch/peidli/scPerturb/')"
   ]
  },
  {
   "cell_type": "markdown",
   "id": "79a6a82c-5887-4686-a6a3-75d96a86a8ae",
   "metadata": {},
   "source": [
    "# Check"
   ]
  },
  {
   "cell_type": "code",
   "execution_count": 5,
   "id": "6af00196-bdcd-417f-b8b5-a70f99de7b9f",
   "metadata": {
    "tags": []
   },
   "outputs": [],
   "source": [
    "adata = sc.read_h5ad(TEMPDIR / 'YaoCleary2023.h5ad')"
   ]
  },
  {
   "cell_type": "code",
   "execution_count": 6,
   "id": "79609092-b1ea-4061-b549-87ca6db0a040",
   "metadata": {
    "tags": []
   },
   "outputs": [
    {
     "data": {
      "text/plain": [
       "AnnData object with n_obs × n_vars = 210131 × 14275\n",
       "    obs: 'perturbation', 'ncounts', 'ngenes', 'nguides', '10X_channel', 'percent_mito', 'guides', 'full_guides', 'S_score', 'G2M_score', 'Cell_cycle_phase', 'perturbation_type', 'disease', 'cancer', 'tissue_type', 'cell_line', 'celltype', 'organism', 'nperts', 'percent_ribo', 'dataset'"
      ]
     },
     "execution_count": 6,
     "metadata": {},
     "output_type": "execute_result"
    }
   ],
   "source": [
    "adata"
   ]
  },
  {
   "cell_type": "code",
   "execution_count": 7,
   "id": "52103978-8de6-40eb-a64a-33dcfb729e96",
   "metadata": {
    "tags": []
   },
   "outputs": [
    {
     "data": {
      "text/plain": [
       "control           16243\n",
       "NFIC                395\n",
       "XKR6                378\n",
       "TNFRSF14            369\n",
       "TYK2                360\n",
       "                  ...  \n",
       "HLA-E_RAD54L          1\n",
       "HLA-E_RPS26           1\n",
       "HLA-E_S100A8          1\n",
       "HLA-E_SBNO2           1\n",
       "LZTS1_TMEM176A        1\n",
       "Name: perturbation, Length: 38789, dtype: int64"
      ]
     },
     "execution_count": 7,
     "metadata": {},
     "output_type": "execute_result"
    }
   ],
   "source": [
    "adata.obs.perturbation.value_counts()"
   ]
  },
  {
   "cell_type": "markdown",
   "id": "4caca84f-2448-4e69-9c9e-5c57b4af46b9",
   "metadata": {},
   "source": [
    "# Processing"
   ]
  },
  {
   "cell_type": "code",
   "execution_count": 24,
   "id": "90c6400a",
   "metadata": {
    "ExecuteTime": {
     "end_time": "2023-03-28T15:10:48.197086Z",
     "start_time": "2023-03-28T15:10:48.182496Z"
    },
    "tags": []
   },
   "outputs": [
    {
     "data": {
      "text/plain": [
       "['GSM6858447_KO_all_FRPerturb_effect_sizes.csv',\n",
       " 'GSM6858447_KO_conventional.h5ad',\n",
       " 'GSM6858447_KO_conventional_temp.h5ad',\n",
       " 'GSM6858448_KO_cell_pooled.h5ad',\n",
       " 'GSM6858448_KO_cell_pooled_temp.h5ad',\n",
       " 'GSM6858449_KD_all_FRPerturb_effect_sizes.csv',\n",
       " 'GSM6858449_KD_conventional.h5ad',\n",
       " 'GSM6858449_KD_conventional_temp.h5ad',\n",
       " 'GSM6858450_KD_guide_pooled.h5ad',\n",
       " 'GSM6858450_KD_guide_pooled_temp.h5ad']"
      ]
     },
     "execution_count": 24,
     "metadata": {},
     "output_type": "execute_result"
    }
   ],
   "source": [
    "sorted([file.name for file in (TEMPDIR / 'YaoCleary2023').glob('*')])"
   ]
  },
  {
   "cell_type": "code",
   "execution_count": 32,
   "id": "1e26e13d",
   "metadata": {
    "ExecuteTime": {
     "end_time": "2023-03-28T15:10:48.213943Z",
     "start_time": "2023-03-28T15:10:48.199923Z"
    },
    "tags": []
   },
   "outputs": [],
   "source": [
    "def process_adata(key):\n",
    "    # build adata\n",
    "    adata = sc.read(TEMPDIR / f'YaoCleary2023/{key}_temp.h5ad')\n",
    "    adata.obs = adata.obs.rename({'Total_RNA_count': 'ncounts', 'Total_unique_genes': 'ngenes', 'Biological_replicate': 'replicate',\n",
    "                      'Percent_mitochondrial_reads': 'percent_mito', 'Guides': 'full_guides', \n",
    "                      'Guides_collapsed_by_gene': 'guides', 'Total_number_of_guides': 'nguides'}, axis=1)\n",
    "    adata.var.index.name = 'gene_symbol'\n",
    "    tab = pd.read_csv(TEMPDIR / f'YaoCleary2023/{key}_perturbations.txt', sep='\\t').T\n",
    "    stab = tab.astype(pd.SparseDtype(\"int\", 0))  # make sparse\n",
    "    adata.obsm['barcodes'] = stab\n",
    "\n",
    "    # harmonize metadata\n",
    "    adata.obs['perturbation'] = [x.replace('safe-targeting', 'control').replace('non-targeting', 'control') for x in adata.obs.guides]\n",
    "    adata.obs['perturbation'] = [x.replace('--', '_') for x in adata.obs['perturbation']]\n",
    "    adata.obs.perturbation = [k.replace('control_', '').replace('_control', '') for k in adata.obs.perturbation]  # collapse controls\n",
    "    adata.obs['perturbation_type'] = 'CRISPR-cas9' if '_KO_' in key else 'CRISPRi'\n",
    "    if 'replicate' in adata.obs.columns:\n",
    "        cols = ['perturbation', 'replicate', 'ncounts', 'ngenes', 'nguides', '10X_channel', 'percent_mito', 'guides', 'full_guides', 'S_score', 'G2M_score', 'Cell_cycle_phase', 'perturbation_type']\n",
    "    else:\n",
    "        cols = ['perturbation', 'ncounts', 'ngenes', 'nguides', '10X_channel', 'percent_mito', 'guides', 'full_guides', 'S_score', 'G2M_score', 'Cell_cycle_phase', 'perturbation_type']\n",
    "    adata.obs = adata.obs[cols]\n",
    "    adata.obs['disease'] = \"leukemia\"\n",
    "    adata.obs['cancer'] = True\n",
    "    adata.obs['tissue_type']=\"cell_line\"\n",
    "    adata.obs[\"cell_line\"] = \"THP-1\"\n",
    "    adata.obs[\"celltype\"] = 'monocytes'\n",
    "    adata.obs['organism'] = 'human'\n",
    "    adata.obs['nperts'] = [p.count('_')+1-p.count('control') if type(p)==str else 0 for p in adata.obs.perturbation]\n",
    "    annotate_qc(adata, species='human')\n",
    "    adata.obs.index.name = 'cell_barcode'\n",
    "    return adata"
   ]
  },
  {
   "cell_type": "code",
   "execution_count": 33,
   "id": "76d46c40",
   "metadata": {
    "ExecuteTime": {
     "end_time": "2023-03-28T15:00:58.374231Z",
     "start_time": "2023-03-28T14:59:34.782676Z"
    },
    "tags": []
   },
   "outputs": [
    {
     "ename": "FileNotFoundError",
     "evalue": "[Errno 2] No such file or directory: '/scratch/peidli/scPerturb/YaoCleary2023/GSM6858447_KO_conventional_perturbations.txt'",
     "output_type": "error",
     "traceback": [
      "\u001b[0;31m---------------------------------------------------------------------------\u001b[0m",
      "\u001b[0;31mFileNotFoundError\u001b[0m                         Traceback (most recent call last)",
      "Cell \u001b[0;32mIn[33], line 1\u001b[0m\n\u001b[0;32m----> 1\u001b[0m adata \u001b[38;5;241m=\u001b[39m \u001b[43mprocess_adata\u001b[49m\u001b[43m(\u001b[49m\u001b[43mkey\u001b[49m\u001b[38;5;241;43m=\u001b[39;49m\u001b[38;5;124;43m'\u001b[39;49m\u001b[38;5;124;43mGSM6858447_KO_conventional\u001b[39;49m\u001b[38;5;124;43m'\u001b[39;49m\u001b[43m)\u001b[49m\n",
      "Cell \u001b[0;32mIn[32], line 8\u001b[0m, in \u001b[0;36mprocess_adata\u001b[0;34m(key)\u001b[0m\n\u001b[1;32m      4\u001b[0m adata\u001b[38;5;241m.\u001b[39mobs \u001b[38;5;241m=\u001b[39m adata\u001b[38;5;241m.\u001b[39mobs\u001b[38;5;241m.\u001b[39mrename({\u001b[38;5;124m'\u001b[39m\u001b[38;5;124mTotal_RNA_count\u001b[39m\u001b[38;5;124m'\u001b[39m: \u001b[38;5;124m'\u001b[39m\u001b[38;5;124mncounts\u001b[39m\u001b[38;5;124m'\u001b[39m, \u001b[38;5;124m'\u001b[39m\u001b[38;5;124mTotal_unique_genes\u001b[39m\u001b[38;5;124m'\u001b[39m: \u001b[38;5;124m'\u001b[39m\u001b[38;5;124mngenes\u001b[39m\u001b[38;5;124m'\u001b[39m, \u001b[38;5;124m'\u001b[39m\u001b[38;5;124mBiological_replicate\u001b[39m\u001b[38;5;124m'\u001b[39m: \u001b[38;5;124m'\u001b[39m\u001b[38;5;124mreplicate\u001b[39m\u001b[38;5;124m'\u001b[39m,\n\u001b[1;32m      5\u001b[0m                   \u001b[38;5;124m'\u001b[39m\u001b[38;5;124mPercent_mitochondrial_reads\u001b[39m\u001b[38;5;124m'\u001b[39m: \u001b[38;5;124m'\u001b[39m\u001b[38;5;124mpercent_mito\u001b[39m\u001b[38;5;124m'\u001b[39m, \u001b[38;5;124m'\u001b[39m\u001b[38;5;124mGuides\u001b[39m\u001b[38;5;124m'\u001b[39m: \u001b[38;5;124m'\u001b[39m\u001b[38;5;124mfull_guides\u001b[39m\u001b[38;5;124m'\u001b[39m, \n\u001b[1;32m      6\u001b[0m                   \u001b[38;5;124m'\u001b[39m\u001b[38;5;124mGuides_collapsed_by_gene\u001b[39m\u001b[38;5;124m'\u001b[39m: \u001b[38;5;124m'\u001b[39m\u001b[38;5;124mguides\u001b[39m\u001b[38;5;124m'\u001b[39m, \u001b[38;5;124m'\u001b[39m\u001b[38;5;124mTotal_number_of_guides\u001b[39m\u001b[38;5;124m'\u001b[39m: \u001b[38;5;124m'\u001b[39m\u001b[38;5;124mnguides\u001b[39m\u001b[38;5;124m'\u001b[39m}, axis\u001b[38;5;241m=\u001b[39m\u001b[38;5;241m1\u001b[39m)\n\u001b[1;32m      7\u001b[0m adata\u001b[38;5;241m.\u001b[39mvar\u001b[38;5;241m.\u001b[39mindex\u001b[38;5;241m.\u001b[39mname \u001b[38;5;241m=\u001b[39m \u001b[38;5;124m'\u001b[39m\u001b[38;5;124mgene_symbol\u001b[39m\u001b[38;5;124m'\u001b[39m\n\u001b[0;32m----> 8\u001b[0m tab \u001b[38;5;241m=\u001b[39m \u001b[43mpd\u001b[49m\u001b[38;5;241;43m.\u001b[39;49m\u001b[43mread_csv\u001b[49m\u001b[43m(\u001b[49m\u001b[43mTEMPDIR\u001b[49m\u001b[43m \u001b[49m\u001b[38;5;241;43m/\u001b[39;49m\u001b[43m \u001b[49m\u001b[38;5;124;43mf\u001b[39;49m\u001b[38;5;124;43m'\u001b[39;49m\u001b[38;5;124;43mYaoCleary2023/\u001b[39;49m\u001b[38;5;132;43;01m{\u001b[39;49;00m\u001b[43mkey\u001b[49m\u001b[38;5;132;43;01m}\u001b[39;49;00m\u001b[38;5;124;43m_perturbations.txt\u001b[39;49m\u001b[38;5;124;43m'\u001b[39;49m\u001b[43m,\u001b[49m\u001b[43m \u001b[49m\u001b[43msep\u001b[49m\u001b[38;5;241;43m=\u001b[39;49m\u001b[38;5;124;43m'\u001b[39;49m\u001b[38;5;130;43;01m\\t\u001b[39;49;00m\u001b[38;5;124;43m'\u001b[39;49m\u001b[43m)\u001b[49m\u001b[38;5;241m.\u001b[39mT\n\u001b[1;32m      9\u001b[0m stab \u001b[38;5;241m=\u001b[39m tab\u001b[38;5;241m.\u001b[39mastype(pd\u001b[38;5;241m.\u001b[39mSparseDtype(\u001b[38;5;124m\"\u001b[39m\u001b[38;5;124mint\u001b[39m\u001b[38;5;124m\"\u001b[39m, \u001b[38;5;241m0\u001b[39m))  \u001b[38;5;66;03m# make sparse\u001b[39;00m\n\u001b[1;32m     10\u001b[0m adata\u001b[38;5;241m.\u001b[39mobsm[\u001b[38;5;124m'\u001b[39m\u001b[38;5;124mbarcodes\u001b[39m\u001b[38;5;124m'\u001b[39m] \u001b[38;5;241m=\u001b[39m stab\n",
      "File \u001b[0;32m/opt/conda/lib/python3.10/site-packages/pandas/util/_decorators.py:211\u001b[0m, in \u001b[0;36mdeprecate_kwarg.<locals>._deprecate_kwarg.<locals>.wrapper\u001b[0;34m(*args, **kwargs)\u001b[0m\n\u001b[1;32m    209\u001b[0m     \u001b[38;5;28;01melse\u001b[39;00m:\n\u001b[1;32m    210\u001b[0m         kwargs[new_arg_name] \u001b[38;5;241m=\u001b[39m new_arg_value\n\u001b[0;32m--> 211\u001b[0m \u001b[38;5;28;01mreturn\u001b[39;00m \u001b[43mfunc\u001b[49m\u001b[43m(\u001b[49m\u001b[38;5;241;43m*\u001b[39;49m\u001b[43margs\u001b[49m\u001b[43m,\u001b[49m\u001b[43m \u001b[49m\u001b[38;5;241;43m*\u001b[39;49m\u001b[38;5;241;43m*\u001b[39;49m\u001b[43mkwargs\u001b[49m\u001b[43m)\u001b[49m\n",
      "File \u001b[0;32m/opt/conda/lib/python3.10/site-packages/pandas/util/_decorators.py:331\u001b[0m, in \u001b[0;36mdeprecate_nonkeyword_arguments.<locals>.decorate.<locals>.wrapper\u001b[0;34m(*args, **kwargs)\u001b[0m\n\u001b[1;32m    325\u001b[0m \u001b[38;5;28;01mif\u001b[39;00m \u001b[38;5;28mlen\u001b[39m(args) \u001b[38;5;241m>\u001b[39m num_allow_args:\n\u001b[1;32m    326\u001b[0m     warnings\u001b[38;5;241m.\u001b[39mwarn(\n\u001b[1;32m    327\u001b[0m         msg\u001b[38;5;241m.\u001b[39mformat(arguments\u001b[38;5;241m=\u001b[39m_format_argument_list(allow_args)),\n\u001b[1;32m    328\u001b[0m         \u001b[38;5;167;01mFutureWarning\u001b[39;00m,\n\u001b[1;32m    329\u001b[0m         stacklevel\u001b[38;5;241m=\u001b[39mfind_stack_level(),\n\u001b[1;32m    330\u001b[0m     )\n\u001b[0;32m--> 331\u001b[0m \u001b[38;5;28;01mreturn\u001b[39;00m \u001b[43mfunc\u001b[49m\u001b[43m(\u001b[49m\u001b[38;5;241;43m*\u001b[39;49m\u001b[43margs\u001b[49m\u001b[43m,\u001b[49m\u001b[43m \u001b[49m\u001b[38;5;241;43m*\u001b[39;49m\u001b[38;5;241;43m*\u001b[39;49m\u001b[43mkwargs\u001b[49m\u001b[43m)\u001b[49m\n",
      "File \u001b[0;32m/opt/conda/lib/python3.10/site-packages/pandas/io/parsers/readers.py:950\u001b[0m, in \u001b[0;36mread_csv\u001b[0;34m(filepath_or_buffer, sep, delimiter, header, names, index_col, usecols, squeeze, prefix, mangle_dupe_cols, dtype, engine, converters, true_values, false_values, skipinitialspace, skiprows, skipfooter, nrows, na_values, keep_default_na, na_filter, verbose, skip_blank_lines, parse_dates, infer_datetime_format, keep_date_col, date_parser, dayfirst, cache_dates, iterator, chunksize, compression, thousands, decimal, lineterminator, quotechar, quoting, doublequote, escapechar, comment, encoding, encoding_errors, dialect, error_bad_lines, warn_bad_lines, on_bad_lines, delim_whitespace, low_memory, memory_map, float_precision, storage_options)\u001b[0m\n\u001b[1;32m    935\u001b[0m kwds_defaults \u001b[38;5;241m=\u001b[39m _refine_defaults_read(\n\u001b[1;32m    936\u001b[0m     dialect,\n\u001b[1;32m    937\u001b[0m     delimiter,\n\u001b[0;32m   (...)\u001b[0m\n\u001b[1;32m    946\u001b[0m     defaults\u001b[38;5;241m=\u001b[39m{\u001b[38;5;124m\"\u001b[39m\u001b[38;5;124mdelimiter\u001b[39m\u001b[38;5;124m\"\u001b[39m: \u001b[38;5;124m\"\u001b[39m\u001b[38;5;124m,\u001b[39m\u001b[38;5;124m\"\u001b[39m},\n\u001b[1;32m    947\u001b[0m )\n\u001b[1;32m    948\u001b[0m kwds\u001b[38;5;241m.\u001b[39mupdate(kwds_defaults)\n\u001b[0;32m--> 950\u001b[0m \u001b[38;5;28;01mreturn\u001b[39;00m \u001b[43m_read\u001b[49m\u001b[43m(\u001b[49m\u001b[43mfilepath_or_buffer\u001b[49m\u001b[43m,\u001b[49m\u001b[43m \u001b[49m\u001b[43mkwds\u001b[49m\u001b[43m)\u001b[49m\n",
      "File \u001b[0;32m/opt/conda/lib/python3.10/site-packages/pandas/io/parsers/readers.py:605\u001b[0m, in \u001b[0;36m_read\u001b[0;34m(filepath_or_buffer, kwds)\u001b[0m\n\u001b[1;32m    602\u001b[0m _validate_names(kwds\u001b[38;5;241m.\u001b[39mget(\u001b[38;5;124m\"\u001b[39m\u001b[38;5;124mnames\u001b[39m\u001b[38;5;124m\"\u001b[39m, \u001b[38;5;28;01mNone\u001b[39;00m))\n\u001b[1;32m    604\u001b[0m \u001b[38;5;66;03m# Create the parser.\u001b[39;00m\n\u001b[0;32m--> 605\u001b[0m parser \u001b[38;5;241m=\u001b[39m \u001b[43mTextFileReader\u001b[49m\u001b[43m(\u001b[49m\u001b[43mfilepath_or_buffer\u001b[49m\u001b[43m,\u001b[49m\u001b[43m \u001b[49m\u001b[38;5;241;43m*\u001b[39;49m\u001b[38;5;241;43m*\u001b[39;49m\u001b[43mkwds\u001b[49m\u001b[43m)\u001b[49m\n\u001b[1;32m    607\u001b[0m \u001b[38;5;28;01mif\u001b[39;00m chunksize \u001b[38;5;129;01mor\u001b[39;00m iterator:\n\u001b[1;32m    608\u001b[0m     \u001b[38;5;28;01mreturn\u001b[39;00m parser\n",
      "File \u001b[0;32m/opt/conda/lib/python3.10/site-packages/pandas/io/parsers/readers.py:1442\u001b[0m, in \u001b[0;36mTextFileReader.__init__\u001b[0;34m(self, f, engine, **kwds)\u001b[0m\n\u001b[1;32m   1439\u001b[0m     \u001b[38;5;28mself\u001b[39m\u001b[38;5;241m.\u001b[39moptions[\u001b[38;5;124m\"\u001b[39m\u001b[38;5;124mhas_index_names\u001b[39m\u001b[38;5;124m\"\u001b[39m] \u001b[38;5;241m=\u001b[39m kwds[\u001b[38;5;124m\"\u001b[39m\u001b[38;5;124mhas_index_names\u001b[39m\u001b[38;5;124m\"\u001b[39m]\n\u001b[1;32m   1441\u001b[0m \u001b[38;5;28mself\u001b[39m\u001b[38;5;241m.\u001b[39mhandles: IOHandles \u001b[38;5;241m|\u001b[39m \u001b[38;5;28;01mNone\u001b[39;00m \u001b[38;5;241m=\u001b[39m \u001b[38;5;28;01mNone\u001b[39;00m\n\u001b[0;32m-> 1442\u001b[0m \u001b[38;5;28mself\u001b[39m\u001b[38;5;241m.\u001b[39m_engine \u001b[38;5;241m=\u001b[39m \u001b[38;5;28;43mself\u001b[39;49m\u001b[38;5;241;43m.\u001b[39;49m\u001b[43m_make_engine\u001b[49m\u001b[43m(\u001b[49m\u001b[43mf\u001b[49m\u001b[43m,\u001b[49m\u001b[43m \u001b[49m\u001b[38;5;28;43mself\u001b[39;49m\u001b[38;5;241;43m.\u001b[39;49m\u001b[43mengine\u001b[49m\u001b[43m)\u001b[49m\n",
      "File \u001b[0;32m/opt/conda/lib/python3.10/site-packages/pandas/io/parsers/readers.py:1735\u001b[0m, in \u001b[0;36mTextFileReader._make_engine\u001b[0;34m(self, f, engine)\u001b[0m\n\u001b[1;32m   1733\u001b[0m     \u001b[38;5;28;01mif\u001b[39;00m \u001b[38;5;124m\"\u001b[39m\u001b[38;5;124mb\u001b[39m\u001b[38;5;124m\"\u001b[39m \u001b[38;5;129;01mnot\u001b[39;00m \u001b[38;5;129;01min\u001b[39;00m mode:\n\u001b[1;32m   1734\u001b[0m         mode \u001b[38;5;241m+\u001b[39m\u001b[38;5;241m=\u001b[39m \u001b[38;5;124m\"\u001b[39m\u001b[38;5;124mb\u001b[39m\u001b[38;5;124m\"\u001b[39m\n\u001b[0;32m-> 1735\u001b[0m \u001b[38;5;28mself\u001b[39m\u001b[38;5;241m.\u001b[39mhandles \u001b[38;5;241m=\u001b[39m \u001b[43mget_handle\u001b[49m\u001b[43m(\u001b[49m\n\u001b[1;32m   1736\u001b[0m \u001b[43m    \u001b[49m\u001b[43mf\u001b[49m\u001b[43m,\u001b[49m\n\u001b[1;32m   1737\u001b[0m \u001b[43m    \u001b[49m\u001b[43mmode\u001b[49m\u001b[43m,\u001b[49m\n\u001b[1;32m   1738\u001b[0m \u001b[43m    \u001b[49m\u001b[43mencoding\u001b[49m\u001b[38;5;241;43m=\u001b[39;49m\u001b[38;5;28;43mself\u001b[39;49m\u001b[38;5;241;43m.\u001b[39;49m\u001b[43moptions\u001b[49m\u001b[38;5;241;43m.\u001b[39;49m\u001b[43mget\u001b[49m\u001b[43m(\u001b[49m\u001b[38;5;124;43m\"\u001b[39;49m\u001b[38;5;124;43mencoding\u001b[39;49m\u001b[38;5;124;43m\"\u001b[39;49m\u001b[43m,\u001b[49m\u001b[43m \u001b[49m\u001b[38;5;28;43;01mNone\u001b[39;49;00m\u001b[43m)\u001b[49m\u001b[43m,\u001b[49m\n\u001b[1;32m   1739\u001b[0m \u001b[43m    \u001b[49m\u001b[43mcompression\u001b[49m\u001b[38;5;241;43m=\u001b[39;49m\u001b[38;5;28;43mself\u001b[39;49m\u001b[38;5;241;43m.\u001b[39;49m\u001b[43moptions\u001b[49m\u001b[38;5;241;43m.\u001b[39;49m\u001b[43mget\u001b[49m\u001b[43m(\u001b[49m\u001b[38;5;124;43m\"\u001b[39;49m\u001b[38;5;124;43mcompression\u001b[39;49m\u001b[38;5;124;43m\"\u001b[39;49m\u001b[43m,\u001b[49m\u001b[43m \u001b[49m\u001b[38;5;28;43;01mNone\u001b[39;49;00m\u001b[43m)\u001b[49m\u001b[43m,\u001b[49m\n\u001b[1;32m   1740\u001b[0m \u001b[43m    \u001b[49m\u001b[43mmemory_map\u001b[49m\u001b[38;5;241;43m=\u001b[39;49m\u001b[38;5;28;43mself\u001b[39;49m\u001b[38;5;241;43m.\u001b[39;49m\u001b[43moptions\u001b[49m\u001b[38;5;241;43m.\u001b[39;49m\u001b[43mget\u001b[49m\u001b[43m(\u001b[49m\u001b[38;5;124;43m\"\u001b[39;49m\u001b[38;5;124;43mmemory_map\u001b[39;49m\u001b[38;5;124;43m\"\u001b[39;49m\u001b[43m,\u001b[49m\u001b[43m \u001b[49m\u001b[38;5;28;43;01mFalse\u001b[39;49;00m\u001b[43m)\u001b[49m\u001b[43m,\u001b[49m\n\u001b[1;32m   1741\u001b[0m \u001b[43m    \u001b[49m\u001b[43mis_text\u001b[49m\u001b[38;5;241;43m=\u001b[39;49m\u001b[43mis_text\u001b[49m\u001b[43m,\u001b[49m\n\u001b[1;32m   1742\u001b[0m \u001b[43m    \u001b[49m\u001b[43merrors\u001b[49m\u001b[38;5;241;43m=\u001b[39;49m\u001b[38;5;28;43mself\u001b[39;49m\u001b[38;5;241;43m.\u001b[39;49m\u001b[43moptions\u001b[49m\u001b[38;5;241;43m.\u001b[39;49m\u001b[43mget\u001b[49m\u001b[43m(\u001b[49m\u001b[38;5;124;43m\"\u001b[39;49m\u001b[38;5;124;43mencoding_errors\u001b[39;49m\u001b[38;5;124;43m\"\u001b[39;49m\u001b[43m,\u001b[49m\u001b[43m \u001b[49m\u001b[38;5;124;43m\"\u001b[39;49m\u001b[38;5;124;43mstrict\u001b[39;49m\u001b[38;5;124;43m\"\u001b[39;49m\u001b[43m)\u001b[49m\u001b[43m,\u001b[49m\n\u001b[1;32m   1743\u001b[0m \u001b[43m    \u001b[49m\u001b[43mstorage_options\u001b[49m\u001b[38;5;241;43m=\u001b[39;49m\u001b[38;5;28;43mself\u001b[39;49m\u001b[38;5;241;43m.\u001b[39;49m\u001b[43moptions\u001b[49m\u001b[38;5;241;43m.\u001b[39;49m\u001b[43mget\u001b[49m\u001b[43m(\u001b[49m\u001b[38;5;124;43m\"\u001b[39;49m\u001b[38;5;124;43mstorage_options\u001b[39;49m\u001b[38;5;124;43m\"\u001b[39;49m\u001b[43m,\u001b[49m\u001b[43m \u001b[49m\u001b[38;5;28;43;01mNone\u001b[39;49;00m\u001b[43m)\u001b[49m\u001b[43m,\u001b[49m\n\u001b[1;32m   1744\u001b[0m \u001b[43m\u001b[49m\u001b[43m)\u001b[49m\n\u001b[1;32m   1745\u001b[0m \u001b[38;5;28;01massert\u001b[39;00m \u001b[38;5;28mself\u001b[39m\u001b[38;5;241m.\u001b[39mhandles \u001b[38;5;129;01mis\u001b[39;00m \u001b[38;5;129;01mnot\u001b[39;00m \u001b[38;5;28;01mNone\u001b[39;00m\n\u001b[1;32m   1746\u001b[0m f \u001b[38;5;241m=\u001b[39m \u001b[38;5;28mself\u001b[39m\u001b[38;5;241m.\u001b[39mhandles\u001b[38;5;241m.\u001b[39mhandle\n",
      "File \u001b[0;32m/opt/conda/lib/python3.10/site-packages/pandas/io/common.py:856\u001b[0m, in \u001b[0;36mget_handle\u001b[0;34m(path_or_buf, mode, encoding, compression, memory_map, is_text, errors, storage_options)\u001b[0m\n\u001b[1;32m    851\u001b[0m \u001b[38;5;28;01melif\u001b[39;00m \u001b[38;5;28misinstance\u001b[39m(handle, \u001b[38;5;28mstr\u001b[39m):\n\u001b[1;32m    852\u001b[0m     \u001b[38;5;66;03m# Check whether the filename is to be opened in binary mode.\u001b[39;00m\n\u001b[1;32m    853\u001b[0m     \u001b[38;5;66;03m# Binary mode does not support 'encoding' and 'newline'.\u001b[39;00m\n\u001b[1;32m    854\u001b[0m     \u001b[38;5;28;01mif\u001b[39;00m ioargs\u001b[38;5;241m.\u001b[39mencoding \u001b[38;5;129;01mand\u001b[39;00m \u001b[38;5;124m\"\u001b[39m\u001b[38;5;124mb\u001b[39m\u001b[38;5;124m\"\u001b[39m \u001b[38;5;129;01mnot\u001b[39;00m \u001b[38;5;129;01min\u001b[39;00m ioargs\u001b[38;5;241m.\u001b[39mmode:\n\u001b[1;32m    855\u001b[0m         \u001b[38;5;66;03m# Encoding\u001b[39;00m\n\u001b[0;32m--> 856\u001b[0m         handle \u001b[38;5;241m=\u001b[39m \u001b[38;5;28;43mopen\u001b[39;49m\u001b[43m(\u001b[49m\n\u001b[1;32m    857\u001b[0m \u001b[43m            \u001b[49m\u001b[43mhandle\u001b[49m\u001b[43m,\u001b[49m\n\u001b[1;32m    858\u001b[0m \u001b[43m            \u001b[49m\u001b[43mioargs\u001b[49m\u001b[38;5;241;43m.\u001b[39;49m\u001b[43mmode\u001b[49m\u001b[43m,\u001b[49m\n\u001b[1;32m    859\u001b[0m \u001b[43m            \u001b[49m\u001b[43mencoding\u001b[49m\u001b[38;5;241;43m=\u001b[39;49m\u001b[43mioargs\u001b[49m\u001b[38;5;241;43m.\u001b[39;49m\u001b[43mencoding\u001b[49m\u001b[43m,\u001b[49m\n\u001b[1;32m    860\u001b[0m \u001b[43m            \u001b[49m\u001b[43merrors\u001b[49m\u001b[38;5;241;43m=\u001b[39;49m\u001b[43merrors\u001b[49m\u001b[43m,\u001b[49m\n\u001b[1;32m    861\u001b[0m \u001b[43m            \u001b[49m\u001b[43mnewline\u001b[49m\u001b[38;5;241;43m=\u001b[39;49m\u001b[38;5;124;43m\"\u001b[39;49m\u001b[38;5;124;43m\"\u001b[39;49m\u001b[43m,\u001b[49m\n\u001b[1;32m    862\u001b[0m \u001b[43m        \u001b[49m\u001b[43m)\u001b[49m\n\u001b[1;32m    863\u001b[0m     \u001b[38;5;28;01melse\u001b[39;00m:\n\u001b[1;32m    864\u001b[0m         \u001b[38;5;66;03m# Binary mode\u001b[39;00m\n\u001b[1;32m    865\u001b[0m         handle \u001b[38;5;241m=\u001b[39m \u001b[38;5;28mopen\u001b[39m(handle, ioargs\u001b[38;5;241m.\u001b[39mmode)\n",
      "\u001b[0;31mFileNotFoundError\u001b[0m: [Errno 2] No such file or directory: '/scratch/peidli/scPerturb/YaoCleary2023/GSM6858447_KO_conventional_perturbations.txt'"
     ]
    }
   ],
   "source": [
    "adata = process_adata(key='GSM6858447_KO_conventional')"
   ]
  },
  {
   "cell_type": "code",
   "execution_count": 27,
   "id": "0cebbcf5-094f-4529-97db-09f04477ccfc",
   "metadata": {
    "tags": []
   },
   "outputs": [],
   "source": [
    "key='GSM6858447_KO_conventional'\n",
    "adata = sc.read(TEMPDIR / f'YaoCleary2023/{key}_temp.h5ad')"
   ]
  },
  {
   "cell_type": "code",
   "execution_count": 31,
   "id": "9949b3d5-a847-4bc0-9d48-b5398c97258c",
   "metadata": {
    "tags": []
   },
   "outputs": [
    {
     "data": {
      "text/html": [
       "<div>\n",
       "<style scoped>\n",
       "    .dataframe tbody tr th:only-of-type {\n",
       "        vertical-align: middle;\n",
       "    }\n",
       "\n",
       "    .dataframe tbody tr th {\n",
       "        vertical-align: top;\n",
       "    }\n",
       "\n",
       "    .dataframe thead th {\n",
       "        text-align: right;\n",
       "    }\n",
       "</style>\n",
       "<table border=\"1\" class=\"dataframe\">\n",
       "  <thead>\n",
       "    <tr style=\"text-align: right;\">\n",
       "      <th></th>\n",
       "    </tr>\n",
       "    <tr>\n",
       "      <th>genes</th>\n",
       "    </tr>\n",
       "  </thead>\n",
       "  <tbody>\n",
       "    <tr>\n",
       "      <th>AL627309.1</th>\n",
       "    </tr>\n",
       "    <tr>\n",
       "      <th>AL669831.5</th>\n",
       "    </tr>\n",
       "    <tr>\n",
       "      <th>FAM87B</th>\n",
       "    </tr>\n",
       "    <tr>\n",
       "      <th>LINC00115</th>\n",
       "    </tr>\n",
       "    <tr>\n",
       "      <th>FAM41C</th>\n",
       "    </tr>\n",
       "    <tr>\n",
       "      <th>...</th>\n",
       "    </tr>\n",
       "    <tr>\n",
       "      <th>AC011043.1</th>\n",
       "    </tr>\n",
       "    <tr>\n",
       "      <th>AL592183.1</th>\n",
       "    </tr>\n",
       "    <tr>\n",
       "      <th>AC007325.4</th>\n",
       "    </tr>\n",
       "    <tr>\n",
       "      <th>AL354822.1</th>\n",
       "    </tr>\n",
       "    <tr>\n",
       "      <th>AC240274.1</th>\n",
       "    </tr>\n",
       "  </tbody>\n",
       "</table>\n",
       "<p>16952 rows × 0 columns</p>\n",
       "</div>"
      ],
      "text/plain": [
       "Empty DataFrame\n",
       "Columns: []\n",
       "Index: [AL627309.1, AL669831.5, FAM87B, LINC00115, FAM41C, AL645608.3, AL645608.1, SAMD11, NOC2L, KLHL17, PLEKHN1, AL645608.8, HES4, ISG15, AGRN, C1orf159, TNFRSF18, TNFRSF4, SDF4, B3GALT6, C1QTNF12, AL162741.1, UBE2J2, LINC01786, SCNN1D, ACAP3, PUSL1, INTS11, CPTP, TAS1R3, DVL1, AURKAIP1, CCNL2, MRPL20, AL391244.3, ATAD3C, ATAD3B, ATAD3A, TMEM240, SSU72, AL645728.1, FNDC10, AL691432.2, MIB2, MMP23B, CDK11B, FO704657.1, SLC35E2B, CDK11A, SLC35E2A, NADK, GNB1, AL109917.1, CALML6, TMEM52, CFAP74, GABRD, PRKCZ, AL590822.2, FAAP20, SKI, MORN1, RER1, PEX10, PANK4, AL139246.5, TNFRSF14-AS1, TNFRSF14, FAM213B, TTC34, ARHGEF16, MEGF6, TPRG1L, WRAP73, TP73, CCDC27, SMIM1, LRRC47, CEP104, DFFB, C1orf174, LINC01134, NPHP4, KCNAB2, RPL22, AL031847.1, RNF207, ICMT, LINC00337, GPR153, ACOT7, AL031848.2, HES2, ESPN, TNFRSF25, PLEKHG5, NOL9, ZBTB48, KLHL21, PHF13, ...]\n",
       "\n",
       "[16952 rows x 0 columns]"
      ]
     },
     "execution_count": 31,
     "metadata": {},
     "output_type": "execute_result"
    }
   ],
   "source": [
    "adata.var"
   ]
  },
  {
   "cell_type": "code",
   "execution_count": 102,
   "id": "ee67b8d5",
   "metadata": {
    "ExecuteTime": {
     "end_time": "2023-03-28T15:01:34.530769Z",
     "start_time": "2023-03-28T15:00:58.490743Z"
    }
   },
   "outputs": [
    {
     "ename": "KeyboardInterrupt",
     "evalue": "",
     "output_type": "error",
     "traceback": [
      "\u001b[0;31m---------------------------------------------------------------------------\u001b[0m",
      "\u001b[0;31mKeyboardInterrupt\u001b[0m                         Traceback (most recent call last)",
      "Input \u001b[0;32mIn [102]\u001b[0m, in \u001b[0;36m<cell line: 1>\u001b[0;34m()\u001b[0m\n\u001b[0;32m----> 1\u001b[0m adata \u001b[38;5;241m=\u001b[39m \u001b[43mprocess_adata\u001b[49m\u001b[43m(\u001b[49m\u001b[43mkey\u001b[49m\u001b[38;5;241;43m=\u001b[39;49m\u001b[38;5;124;43m'\u001b[39;49m\u001b[38;5;124;43mGSM6858449_KD_conventional\u001b[39;49m\u001b[38;5;124;43m'\u001b[39;49m\u001b[43m)\u001b[49m\n",
      "Input \u001b[0;32mIn [99]\u001b[0m, in \u001b[0;36mprocess_adata\u001b[0;34m(key)\u001b[0m\n\u001b[1;32m      4\u001b[0m adata\u001b[38;5;241m.\u001b[39mobs \u001b[38;5;241m=\u001b[39m adata\u001b[38;5;241m.\u001b[39mobs\u001b[38;5;241m.\u001b[39mrename({\u001b[38;5;124m'\u001b[39m\u001b[38;5;124mTotal_RNA_count\u001b[39m\u001b[38;5;124m'\u001b[39m: \u001b[38;5;124m'\u001b[39m\u001b[38;5;124mncounts\u001b[39m\u001b[38;5;124m'\u001b[39m, \u001b[38;5;124m'\u001b[39m\u001b[38;5;124mTotal_unique_genes\u001b[39m\u001b[38;5;124m'\u001b[39m: \u001b[38;5;124m'\u001b[39m\u001b[38;5;124mngenes\u001b[39m\u001b[38;5;124m'\u001b[39m, \u001b[38;5;124m'\u001b[39m\u001b[38;5;124mBiological_replicate\u001b[39m\u001b[38;5;124m'\u001b[39m: \u001b[38;5;124m'\u001b[39m\u001b[38;5;124mreplicate\u001b[39m\u001b[38;5;124m'\u001b[39m,\n\u001b[1;32m      5\u001b[0m                   \u001b[38;5;124m'\u001b[39m\u001b[38;5;124mPercent_mitochondrial_reads\u001b[39m\u001b[38;5;124m'\u001b[39m: \u001b[38;5;124m'\u001b[39m\u001b[38;5;124mpercent_mito\u001b[39m\u001b[38;5;124m'\u001b[39m, \u001b[38;5;124m'\u001b[39m\u001b[38;5;124mGuides\u001b[39m\u001b[38;5;124m'\u001b[39m: \u001b[38;5;124m'\u001b[39m\u001b[38;5;124mfull_guides\u001b[39m\u001b[38;5;124m'\u001b[39m, \n\u001b[1;32m      6\u001b[0m                   \u001b[38;5;124m'\u001b[39m\u001b[38;5;124mGuides_collapsed_by_gene\u001b[39m\u001b[38;5;124m'\u001b[39m: \u001b[38;5;124m'\u001b[39m\u001b[38;5;124mguides\u001b[39m\u001b[38;5;124m'\u001b[39m, \u001b[38;5;124m'\u001b[39m\u001b[38;5;124mTotal_number_of_guides\u001b[39m\u001b[38;5;124m'\u001b[39m: \u001b[38;5;124m'\u001b[39m\u001b[38;5;124mnguides\u001b[39m\u001b[38;5;124m'\u001b[39m}, axis\u001b[38;5;241m=\u001b[39m\u001b[38;5;241m1\u001b[39m)\n\u001b[1;32m      7\u001b[0m adata\u001b[38;5;241m.\u001b[39mvar \u001b[38;5;241m=\u001b[39m adata\u001b[38;5;241m.\u001b[39mvar\u001b[38;5;241m.\u001b[39mset_index(\u001b[38;5;124m'\u001b[39m\u001b[38;5;124mfeatures\u001b[39m\u001b[38;5;124m'\u001b[39m)\u001b[38;5;241m.\u001b[39mdrop(\u001b[38;5;124m'\u001b[39m\u001b[38;5;124m_index\u001b[39m\u001b[38;5;124m'\u001b[39m, axis\u001b[38;5;241m=\u001b[39m\u001b[38;5;241m1\u001b[39m)\n\u001b[0;32m----> 8\u001b[0m tab \u001b[38;5;241m=\u001b[39m \u001b[43mpd\u001b[49m\u001b[38;5;241;43m.\u001b[39;49m\u001b[43mread_csv\u001b[49m\u001b[43m(\u001b[49m\u001b[43mTEMPDIR\u001b[49m\u001b[43m \u001b[49m\u001b[38;5;241;43m/\u001b[39;49m\u001b[43m \u001b[49m\u001b[38;5;124;43mf\u001b[39;49m\u001b[38;5;124;43m'\u001b[39;49m\u001b[38;5;124;43mYaoCleary2023/\u001b[39;49m\u001b[38;5;132;43;01m{\u001b[39;49;00m\u001b[43mkey\u001b[49m\u001b[38;5;132;43;01m}\u001b[39;49;00m\u001b[38;5;124;43m_perturbations.txt\u001b[39;49m\u001b[38;5;124;43m'\u001b[39;49m\u001b[43m,\u001b[49m\u001b[43m \u001b[49m\u001b[43msep\u001b[49m\u001b[38;5;241;43m=\u001b[39;49m\u001b[38;5;124;43m'\u001b[39;49m\u001b[38;5;130;43;01m\\t\u001b[39;49;00m\u001b[38;5;124;43m'\u001b[39;49m\u001b[43m)\u001b[49m\u001b[38;5;241m.\u001b[39mT\n\u001b[1;32m      9\u001b[0m stab \u001b[38;5;241m=\u001b[39m tab\u001b[38;5;241m.\u001b[39mastype(pd\u001b[38;5;241m.\u001b[39mSparseDtype(\u001b[38;5;124m\"\u001b[39m\u001b[38;5;124mint\u001b[39m\u001b[38;5;124m\"\u001b[39m, \u001b[38;5;241m0\u001b[39m))  \u001b[38;5;66;03m# make sparse\u001b[39;00m\n\u001b[1;32m     10\u001b[0m adata\u001b[38;5;241m.\u001b[39mobsm[\u001b[38;5;124m'\u001b[39m\u001b[38;5;124mbarcodes\u001b[39m\u001b[38;5;124m'\u001b[39m] \u001b[38;5;241m=\u001b[39m stab\n",
      "File \u001b[0;32m/fast/users/peidlis_c/work/miniconda/envs/sc_env/lib/python3.9/site-packages/pandas/util/_decorators.py:311\u001b[0m, in \u001b[0;36mdeprecate_nonkeyword_arguments.<locals>.decorate.<locals>.wrapper\u001b[0;34m(*args, **kwargs)\u001b[0m\n\u001b[1;32m    305\u001b[0m \u001b[38;5;28;01mif\u001b[39;00m \u001b[38;5;28mlen\u001b[39m(args) \u001b[38;5;241m>\u001b[39m num_allow_args:\n\u001b[1;32m    306\u001b[0m     warnings\u001b[38;5;241m.\u001b[39mwarn(\n\u001b[1;32m    307\u001b[0m         msg\u001b[38;5;241m.\u001b[39mformat(arguments\u001b[38;5;241m=\u001b[39marguments),\n\u001b[1;32m    308\u001b[0m         \u001b[38;5;167;01mFutureWarning\u001b[39;00m,\n\u001b[1;32m    309\u001b[0m         stacklevel\u001b[38;5;241m=\u001b[39mstacklevel,\n\u001b[1;32m    310\u001b[0m     )\n\u001b[0;32m--> 311\u001b[0m \u001b[38;5;28;01mreturn\u001b[39;00m \u001b[43mfunc\u001b[49m\u001b[43m(\u001b[49m\u001b[38;5;241;43m*\u001b[39;49m\u001b[43margs\u001b[49m\u001b[43m,\u001b[49m\u001b[43m \u001b[49m\u001b[38;5;241;43m*\u001b[39;49m\u001b[38;5;241;43m*\u001b[39;49m\u001b[43mkwargs\u001b[49m\u001b[43m)\u001b[49m\n",
      "File \u001b[0;32m/fast/users/peidlis_c/work/miniconda/envs/sc_env/lib/python3.9/site-packages/pandas/io/parsers/readers.py:680\u001b[0m, in \u001b[0;36mread_csv\u001b[0;34m(filepath_or_buffer, sep, delimiter, header, names, index_col, usecols, squeeze, prefix, mangle_dupe_cols, dtype, engine, converters, true_values, false_values, skipinitialspace, skiprows, skipfooter, nrows, na_values, keep_default_na, na_filter, verbose, skip_blank_lines, parse_dates, infer_datetime_format, keep_date_col, date_parser, dayfirst, cache_dates, iterator, chunksize, compression, thousands, decimal, lineterminator, quotechar, quoting, doublequote, escapechar, comment, encoding, encoding_errors, dialect, error_bad_lines, warn_bad_lines, on_bad_lines, delim_whitespace, low_memory, memory_map, float_precision, storage_options)\u001b[0m\n\u001b[1;32m    665\u001b[0m kwds_defaults \u001b[38;5;241m=\u001b[39m _refine_defaults_read(\n\u001b[1;32m    666\u001b[0m     dialect,\n\u001b[1;32m    667\u001b[0m     delimiter,\n\u001b[0;32m   (...)\u001b[0m\n\u001b[1;32m    676\u001b[0m     defaults\u001b[38;5;241m=\u001b[39m{\u001b[38;5;124m\"\u001b[39m\u001b[38;5;124mdelimiter\u001b[39m\u001b[38;5;124m\"\u001b[39m: \u001b[38;5;124m\"\u001b[39m\u001b[38;5;124m,\u001b[39m\u001b[38;5;124m\"\u001b[39m},\n\u001b[1;32m    677\u001b[0m )\n\u001b[1;32m    678\u001b[0m kwds\u001b[38;5;241m.\u001b[39mupdate(kwds_defaults)\n\u001b[0;32m--> 680\u001b[0m \u001b[38;5;28;01mreturn\u001b[39;00m \u001b[43m_read\u001b[49m\u001b[43m(\u001b[49m\u001b[43mfilepath_or_buffer\u001b[49m\u001b[43m,\u001b[49m\u001b[43m \u001b[49m\u001b[43mkwds\u001b[49m\u001b[43m)\u001b[49m\n",
      "File \u001b[0;32m/fast/users/peidlis_c/work/miniconda/envs/sc_env/lib/python3.9/site-packages/pandas/io/parsers/readers.py:581\u001b[0m, in \u001b[0;36m_read\u001b[0;34m(filepath_or_buffer, kwds)\u001b[0m\n\u001b[1;32m    578\u001b[0m     \u001b[38;5;28;01mreturn\u001b[39;00m parser\n\u001b[1;32m    580\u001b[0m \u001b[38;5;28;01mwith\u001b[39;00m parser:\n\u001b[0;32m--> 581\u001b[0m     \u001b[38;5;28;01mreturn\u001b[39;00m \u001b[43mparser\u001b[49m\u001b[38;5;241;43m.\u001b[39;49m\u001b[43mread\u001b[49m\u001b[43m(\u001b[49m\u001b[43mnrows\u001b[49m\u001b[43m)\u001b[49m\n",
      "File \u001b[0;32m/fast/users/peidlis_c/work/miniconda/envs/sc_env/lib/python3.9/site-packages/pandas/io/parsers/readers.py:1255\u001b[0m, in \u001b[0;36mTextFileReader.read\u001b[0;34m(self, nrows)\u001b[0m\n\u001b[1;32m   1253\u001b[0m nrows \u001b[38;5;241m=\u001b[39m validate_integer(\u001b[38;5;124m\"\u001b[39m\u001b[38;5;124mnrows\u001b[39m\u001b[38;5;124m\"\u001b[39m, nrows)\n\u001b[1;32m   1254\u001b[0m \u001b[38;5;28;01mtry\u001b[39;00m:\n\u001b[0;32m-> 1255\u001b[0m     index, columns, col_dict \u001b[38;5;241m=\u001b[39m \u001b[38;5;28;43mself\u001b[39;49m\u001b[38;5;241;43m.\u001b[39;49m\u001b[43m_engine\u001b[49m\u001b[38;5;241;43m.\u001b[39;49m\u001b[43mread\u001b[49m\u001b[43m(\u001b[49m\u001b[43mnrows\u001b[49m\u001b[43m)\u001b[49m\n\u001b[1;32m   1256\u001b[0m \u001b[38;5;28;01mexcept\u001b[39;00m \u001b[38;5;167;01mException\u001b[39;00m:\n\u001b[1;32m   1257\u001b[0m     \u001b[38;5;28mself\u001b[39m\u001b[38;5;241m.\u001b[39mclose()\n",
      "File \u001b[0;32m/fast/users/peidlis_c/work/miniconda/envs/sc_env/lib/python3.9/site-packages/pandas/io/parsers/c_parser_wrapper.py:225\u001b[0m, in \u001b[0;36mCParserWrapper.read\u001b[0;34m(self, nrows)\u001b[0m\n\u001b[1;32m    223\u001b[0m \u001b[38;5;28;01mtry\u001b[39;00m:\n\u001b[1;32m    224\u001b[0m     \u001b[38;5;28;01mif\u001b[39;00m \u001b[38;5;28mself\u001b[39m\u001b[38;5;241m.\u001b[39mlow_memory:\n\u001b[0;32m--> 225\u001b[0m         chunks \u001b[38;5;241m=\u001b[39m \u001b[38;5;28;43mself\u001b[39;49m\u001b[38;5;241;43m.\u001b[39;49m\u001b[43m_reader\u001b[49m\u001b[38;5;241;43m.\u001b[39;49m\u001b[43mread_low_memory\u001b[49m\u001b[43m(\u001b[49m\u001b[43mnrows\u001b[49m\u001b[43m)\u001b[49m\n\u001b[1;32m    226\u001b[0m         \u001b[38;5;66;03m# destructive to chunks\u001b[39;00m\n\u001b[1;32m    227\u001b[0m         data \u001b[38;5;241m=\u001b[39m _concatenate_chunks(chunks)\n",
      "File \u001b[0;32m/fast/users/peidlis_c/work/miniconda/envs/sc_env/lib/python3.9/site-packages/pandas/_libs/parsers.pyx:805\u001b[0m, in \u001b[0;36mpandas._libs.parsers.TextReader.read_low_memory\u001b[0;34m()\u001b[0m\n",
      "File \u001b[0;32m/fast/users/peidlis_c/work/miniconda/envs/sc_env/lib/python3.9/site-packages/pandas/_libs/parsers.pyx:883\u001b[0m, in \u001b[0;36mpandas._libs.parsers.TextReader._read_rows\u001b[0;34m()\u001b[0m\n",
      "File \u001b[0;32m/fast/users/peidlis_c/work/miniconda/envs/sc_env/lib/python3.9/site-packages/pandas/_libs/parsers.pyx:1026\u001b[0m, in \u001b[0;36mpandas._libs.parsers.TextReader._convert_column_data\u001b[0;34m()\u001b[0m\n",
      "File \u001b[0;32m/fast/users/peidlis_c/work/miniconda/envs/sc_env/lib/python3.9/site-packages/pandas/_libs/parsers.pyx:1072\u001b[0m, in \u001b[0;36mpandas._libs.parsers.TextReader._convert_tokens\u001b[0;34m()\u001b[0m\n",
      "File \u001b[0;32m/fast/users/peidlis_c/work/miniconda/envs/sc_env/lib/python3.9/site-packages/pandas/_libs/parsers.pyx:1147\u001b[0m, in \u001b[0;36mpandas._libs.parsers.TextReader._convert_with_dtype\u001b[0;34m()\u001b[0m\n",
      "File \u001b[0;32m/fast/users/peidlis_c/work/miniconda/envs/sc_env/lib/python3.9/site-packages/pandas/core/dtypes/common.py:1429\u001b[0m, in \u001b[0;36mis_extension_array_dtype\u001b[0;34m(arr_or_dtype)\u001b[0m\n\u001b[1;32m   1420\u001b[0m     \u001b[38;5;66;03m# Note: if other EA dtypes are ever held in HybridBlock, exclude those\u001b[39;00m\n\u001b[1;32m   1421\u001b[0m     \u001b[38;5;66;03m#  here too.\u001b[39;00m\n\u001b[1;32m   1422\u001b[0m     \u001b[38;5;66;03m# NB: need to check DatetimeTZDtype and not is_datetime64tz_dtype\u001b[39;00m\n\u001b[1;32m   1423\u001b[0m     \u001b[38;5;66;03m#  to exclude ArrowTimestampUSDtype\u001b[39;00m\n\u001b[1;32m   1424\u001b[0m     \u001b[38;5;28;01mreturn\u001b[39;00m \u001b[38;5;28misinstance\u001b[39m(dtype, ExtensionDtype) \u001b[38;5;129;01mand\u001b[39;00m \u001b[38;5;129;01mnot\u001b[39;00m \u001b[38;5;28misinstance\u001b[39m(\n\u001b[1;32m   1425\u001b[0m         dtype, (DatetimeTZDtype, PeriodDtype)\n\u001b[1;32m   1426\u001b[0m     )\n\u001b[0;32m-> 1429\u001b[0m \u001b[38;5;28;01mdef\u001b[39;00m \u001b[38;5;21mis_extension_array_dtype\u001b[39m(arr_or_dtype) \u001b[38;5;241m-\u001b[39m\u001b[38;5;241m>\u001b[39m \u001b[38;5;28mbool\u001b[39m:\n\u001b[1;32m   1430\u001b[0m     \u001b[38;5;124;03m\"\"\"\u001b[39;00m\n\u001b[1;32m   1431\u001b[0m \u001b[38;5;124;03m    Check if an object is a pandas extension array type.\u001b[39;00m\n\u001b[1;32m   1432\u001b[0m \n\u001b[0;32m   (...)\u001b[0m\n\u001b[1;32m   1472\u001b[0m \u001b[38;5;124;03m    False\u001b[39;00m\n\u001b[1;32m   1473\u001b[0m \u001b[38;5;124;03m    \"\"\"\u001b[39;00m\n\u001b[1;32m   1474\u001b[0m     dtype \u001b[38;5;241m=\u001b[39m \u001b[38;5;28mgetattr\u001b[39m(arr_or_dtype, \u001b[38;5;124m\"\u001b[39m\u001b[38;5;124mdtype\u001b[39m\u001b[38;5;124m\"\u001b[39m, arr_or_dtype)\n",
      "\u001b[0;31mKeyboardInterrupt\u001b[0m: "
     ]
    }
   ],
   "source": [
    "adata = process_adata(key='GSM6858449_KD_conventional')"
   ]
  },
  {
   "cell_type": "code",
   "execution_count": 5,
   "id": "755c1e5a",
   "metadata": {
    "ExecuteTime": {
     "end_time": "2023-03-28T15:11:09.326258Z",
     "start_time": "2023-03-28T15:10:49.030943Z"
    }
   },
   "outputs": [],
   "source": [
    "adata = process_adata(key='GSM6858448_KO_cell_pooled')"
   ]
  },
  {
   "cell_type": "code",
   "execution_count": null,
   "id": "1e3bdea3",
   "metadata": {
    "ExecuteTime": {
     "end_time": "2023-03-28T15:01:34.536426Z",
     "start_time": "2023-03-28T15:01:34.536413Z"
    }
   },
   "outputs": [],
   "source": [
    "adata = process_adata(key='GSM6858450_KD_guide_pooled')"
   ]
  },
  {
   "cell_type": "code",
   "execution_count": 9,
   "id": "d8646377",
   "metadata": {
    "ExecuteTime": {
     "end_time": "2023-03-28T15:13:47.782711Z",
     "start_time": "2023-03-28T15:13:47.780194Z"
    }
   },
   "outputs": [],
   "source": [
    "assert_annotations(adata)"
   ]
  },
  {
   "cell_type": "code",
   "execution_count": 10,
   "id": "fa356d2b",
   "metadata": {
    "ExecuteTime": {
     "end_time": "2023-03-28T15:22:30.777614Z",
     "start_time": "2023-03-28T15:17:31.093444Z"
    }
   },
   "outputs": [
    {
     "name": "stdout",
     "output_type": "stream",
     "text": [
      "GSM6858447_KO_conventional\n",
      "GSM6858449_KD_conventional\n",
      "GSM6858448_KO_cell_pooled\n",
      "GSM6858450_KD_guide_pooled\n"
     ]
    }
   ],
   "source": [
    "adatas = {}\n",
    "for key in ['GSM6858447_KO_conventional', 'GSM6858449_KD_conventional', 'GSM6858448_KO_cell_pooled', 'GSM6858450_KD_guide_pooled']:\n",
    "    print(key)\n",
    "    adata = process_adata(key='GSM6858449_KD_conventional')\n",
    "    assert_annotations(adata)\n",
    "    adatas[key] = adata"
   ]
  },
  {
   "cell_type": "code",
   "execution_count": 11,
   "id": "494c4afd",
   "metadata": {
    "ExecuteTime": {
     "end_time": "2023-03-28T15:25:48.876060Z",
     "start_time": "2023-03-28T15:25:23.202952Z"
    }
   },
   "outputs": [],
   "source": [
    "adata = sc.concat(adatas, label='dataset')"
   ]
  },
  {
   "cell_type": "code",
   "execution_count": 12,
   "id": "4b5b03cc",
   "metadata": {
    "ExecuteTime": {
     "end_time": "2023-03-28T15:25:48.881582Z",
     "start_time": "2023-03-28T15:25:48.877906Z"
    }
   },
   "outputs": [
    {
     "data": {
      "text/plain": [
       "AnnData object with n_obs × n_vars = 265132 × 18017\n",
       "    obs: 'perturbation', 'replicate', 'ncounts', 'ngenes', 'nguides', '10X_channel', 'percent_mito', 'guides', 'full_guides', 'S_score', 'G2M_score', 'Cell_cycle_phase', 'perturbation_type', 'disease', 'cancer', 'tissue_type', 'cell_line', 'celltype', 'organism', 'nperts', 'percent_ribo', 'dataset'\n",
       "    obsm: 'barcodes'"
      ]
     },
     "execution_count": 12,
     "metadata": {},
     "output_type": "execute_result"
    }
   ],
   "source": [
    "adata"
   ]
  },
  {
   "cell_type": "code",
   "execution_count": 34,
   "id": "62d40b8b",
   "metadata": {
    "tags": []
   },
   "outputs": [],
   "source": [
    "adata = sc.read(TEMPDIR / 'YaoCleary2023.h5ad')"
   ]
  },
  {
   "cell_type": "code",
   "execution_count": 35,
   "id": "e6ff0db3-36bc-4f73-bf82-24c38b420227",
   "metadata": {
    "tags": []
   },
   "outputs": [
    {
     "data": {
      "text/plain": [
       "AnnData object with n_obs × n_vars = 210131 × 14275\n",
       "    obs: 'perturbation', 'ncounts', 'ngenes', 'nguides', '10X_channel', 'percent_mito', 'guides', 'full_guides', 'S_score', 'G2M_score', 'Cell_cycle_phase', 'perturbation_type', 'disease', 'cancer', 'tissue_type', 'cell_line', 'celltype', 'organism', 'nperts', 'percent_ribo', 'dataset'"
      ]
     },
     "execution_count": 35,
     "metadata": {},
     "output_type": "execute_result"
    }
   ],
   "source": [
    "adata"
   ]
  },
  {
   "cell_type": "code",
   "execution_count": 37,
   "id": "90e65b98-80ff-481b-b2ad-724a5cfab62a",
   "metadata": {
    "tags": []
   },
   "outputs": [
    {
     "data": {
      "text/html": [
       "<div>\n",
       "<style scoped>\n",
       "    .dataframe tbody tr th:only-of-type {\n",
       "        vertical-align: middle;\n",
       "    }\n",
       "\n",
       "    .dataframe tbody tr th {\n",
       "        vertical-align: top;\n",
       "    }\n",
       "\n",
       "    .dataframe thead th {\n",
       "        text-align: right;\n",
       "    }\n",
       "</style>\n",
       "<table border=\"1\" class=\"dataframe\">\n",
       "  <thead>\n",
       "    <tr style=\"text-align: right;\">\n",
       "      <th></th>\n",
       "      <th>perturbation</th>\n",
       "      <th>ncounts</th>\n",
       "      <th>ngenes</th>\n",
       "      <th>nguides</th>\n",
       "      <th>10X_channel</th>\n",
       "      <th>percent_mito</th>\n",
       "      <th>guides</th>\n",
       "      <th>full_guides</th>\n",
       "      <th>S_score</th>\n",
       "      <th>G2M_score</th>\n",
       "      <th>...</th>\n",
       "      <th>perturbation_type</th>\n",
       "      <th>disease</th>\n",
       "      <th>cancer</th>\n",
       "      <th>tissue_type</th>\n",
       "      <th>cell_line</th>\n",
       "      <th>celltype</th>\n",
       "      <th>organism</th>\n",
       "      <th>nperts</th>\n",
       "      <th>percent_ribo</th>\n",
       "      <th>dataset</th>\n",
       "    </tr>\n",
       "    <tr>\n",
       "      <th>cell_barcode</th>\n",
       "      <th></th>\n",
       "      <th></th>\n",
       "      <th></th>\n",
       "      <th></th>\n",
       "      <th></th>\n",
       "      <th></th>\n",
       "      <th></th>\n",
       "      <th></th>\n",
       "      <th></th>\n",
       "      <th></th>\n",
       "      <th></th>\n",
       "      <th></th>\n",
       "      <th></th>\n",
       "      <th></th>\n",
       "      <th></th>\n",
       "      <th></th>\n",
       "      <th></th>\n",
       "      <th></th>\n",
       "      <th></th>\n",
       "      <th></th>\n",
       "      <th></th>\n",
       "    </tr>\n",
       "  </thead>\n",
       "  <tbody>\n",
       "    <tr>\n",
       "      <th>AAACCCAAGAGTGACC-1</th>\n",
       "      <td>TNFRSF11A_STK4-AS1</td>\n",
       "      <td>2413</td>\n",
       "      <td>1278</td>\n",
       "      <td>2</td>\n",
       "      <td>Normal_1</td>\n",
       "      <td>5.719022</td>\n",
       "      <td>TNFRSF11A--STK4-AS1</td>\n",
       "      <td>TNFRSF11A_TTTGTGGCACTGGATCAATG_CRISPRko--STK4-...</td>\n",
       "      <td>-0.072268</td>\n",
       "      <td>-0.068220</td>\n",
       "      <td>...</td>\n",
       "      <td>CRISPR-cas9</td>\n",
       "      <td>leukemia</td>\n",
       "      <td>True</td>\n",
       "      <td>cell_line</td>\n",
       "      <td>THP-1</td>\n",
       "      <td>monocytes</td>\n",
       "      <td>human</td>\n",
       "      <td>2</td>\n",
       "      <td>11.023622</td>\n",
       "      <td>GSM6858447_KO_conventional</td>\n",
       "    </tr>\n",
       "    <tr>\n",
       "      <th>AAACCCACACAGGATG-1</th>\n",
       "      <td>GSDMC_LRP1B</td>\n",
       "      <td>9174</td>\n",
       "      <td>2666</td>\n",
       "      <td>2</td>\n",
       "      <td>Normal_1</td>\n",
       "      <td>5.646392</td>\n",
       "      <td>GSDMC--LRP1B</td>\n",
       "      <td>GSDMC_GGAGCATCCATGGTCCACAG_CRISPRko--LRP1B_TGC...</td>\n",
       "      <td>-0.091449</td>\n",
       "      <td>-0.078500</td>\n",
       "      <td>...</td>\n",
       "      <td>CRISPR-cas9</td>\n",
       "      <td>leukemia</td>\n",
       "      <td>True</td>\n",
       "      <td>cell_line</td>\n",
       "      <td>THP-1</td>\n",
       "      <td>monocytes</td>\n",
       "      <td>human</td>\n",
       "      <td>2</td>\n",
       "      <td>13.876172</td>\n",
       "      <td>GSM6858447_KO_conventional</td>\n",
       "    </tr>\n",
       "    <tr>\n",
       "      <th>AAACCCACACCTCTAC-1</th>\n",
       "      <td>NFATC2_TAB3</td>\n",
       "      <td>3779</td>\n",
       "      <td>1864</td>\n",
       "      <td>2</td>\n",
       "      <td>Normal_1</td>\n",
       "      <td>6.086266</td>\n",
       "      <td>NFATC2--TAB3</td>\n",
       "      <td>NFATC2_GCGGAGGCATTCGTGCGCCG_CRISPRko--TAB3_AAA...</td>\n",
       "      <td>0.341332</td>\n",
       "      <td>0.082301</td>\n",
       "      <td>...</td>\n",
       "      <td>CRISPR-cas9</td>\n",
       "      <td>leukemia</td>\n",
       "      <td>True</td>\n",
       "      <td>cell_line</td>\n",
       "      <td>THP-1</td>\n",
       "      <td>monocytes</td>\n",
       "      <td>human</td>\n",
       "      <td>2</td>\n",
       "      <td>4.842551</td>\n",
       "      <td>GSM6858447_KO_conventional</td>\n",
       "    </tr>\n",
       "    <tr>\n",
       "      <th>AAACCCACATTGCCGG-1</th>\n",
       "      <td>TXNDC17</td>\n",
       "      <td>9882</td>\n",
       "      <td>2892</td>\n",
       "      <td>1</td>\n",
       "      <td>Normal_1</td>\n",
       "      <td>4.604331</td>\n",
       "      <td>TXNDC17</td>\n",
       "      <td>TXNDC17_CTGAACCAGTCGTACGAGAG_CRISPRko</td>\n",
       "      <td>0.034257</td>\n",
       "      <td>-0.086085</td>\n",
       "      <td>...</td>\n",
       "      <td>CRISPR-cas9</td>\n",
       "      <td>leukemia</td>\n",
       "      <td>True</td>\n",
       "      <td>cell_line</td>\n",
       "      <td>THP-1</td>\n",
       "      <td>monocytes</td>\n",
       "      <td>human</td>\n",
       "      <td>1</td>\n",
       "      <td>16.413681</td>\n",
       "      <td>GSM6858447_KO_conventional</td>\n",
       "    </tr>\n",
       "    <tr>\n",
       "      <th>AAACCCAGTCATCACA-1</th>\n",
       "      <td>TNFSF11</td>\n",
       "      <td>10399</td>\n",
       "      <td>2514</td>\n",
       "      <td>1</td>\n",
       "      <td>Normal_1</td>\n",
       "      <td>3.413790</td>\n",
       "      <td>TNFSF11</td>\n",
       "      <td>TNFSF11_CGTGGCTCGGAGGAGATGGG_CRISPRko</td>\n",
       "      <td>-0.012602</td>\n",
       "      <td>-0.122855</td>\n",
       "      <td>...</td>\n",
       "      <td>CRISPR-cas9</td>\n",
       "      <td>leukemia</td>\n",
       "      <td>True</td>\n",
       "      <td>cell_line</td>\n",
       "      <td>THP-1</td>\n",
       "      <td>monocytes</td>\n",
       "      <td>human</td>\n",
       "      <td>1</td>\n",
       "      <td>9.539379</td>\n",
       "      <td>GSM6858447_KO_conventional</td>\n",
       "    </tr>\n",
       "    <tr>\n",
       "      <th>...</th>\n",
       "      <td>...</td>\n",
       "      <td>...</td>\n",
       "      <td>...</td>\n",
       "      <td>...</td>\n",
       "      <td>...</td>\n",
       "      <td>...</td>\n",
       "      <td>...</td>\n",
       "      <td>...</td>\n",
       "      <td>...</td>\n",
       "      <td>...</td>\n",
       "      <td>...</td>\n",
       "      <td>...</td>\n",
       "      <td>...</td>\n",
       "      <td>...</td>\n",
       "      <td>...</td>\n",
       "      <td>...</td>\n",
       "      <td>...</td>\n",
       "      <td>...</td>\n",
       "      <td>...</td>\n",
       "      <td>...</td>\n",
       "      <td>...</td>\n",
       "    </tr>\n",
       "    <tr>\n",
       "      <th>TTTGGTTCACCAGCCA-1_2</th>\n",
       "      <td>PIP4K2A_UNG_OTUD3</td>\n",
       "      <td>903</td>\n",
       "      <td>565</td>\n",
       "      <td>3</td>\n",
       "      <td>High_MOI_2</td>\n",
       "      <td>3.433001</td>\n",
       "      <td>PIP4K2A--UNG--OTUD3</td>\n",
       "      <td>PIP4K2A_GGCGGGCGCAGGATACGGGC_CRISPRi--UNG_GCGC...</td>\n",
       "      <td>0.081307</td>\n",
       "      <td>-0.004186</td>\n",
       "      <td>...</td>\n",
       "      <td>CRISPRi</td>\n",
       "      <td>leukemia</td>\n",
       "      <td>True</td>\n",
       "      <td>cell_line</td>\n",
       "      <td>THP-1</td>\n",
       "      <td>monocytes</td>\n",
       "      <td>human</td>\n",
       "      <td>3</td>\n",
       "      <td>7.973422</td>\n",
       "      <td>GSM6858450_KD_guide_pooled</td>\n",
       "    </tr>\n",
       "    <tr>\n",
       "      <th>TTTGGTTCACCATTCC-1_2</th>\n",
       "      <td>MAN1C1_NLRP3_C5_TRAM1_ZNF79</td>\n",
       "      <td>44541</td>\n",
       "      <td>6082</td>\n",
       "      <td>5</td>\n",
       "      <td>High_MOI_2</td>\n",
       "      <td>4.708022</td>\n",
       "      <td>MAN1C1--NLRP3--C5--TRAM1--ZNF79</td>\n",
       "      <td>MAN1C1_GGTCCCTCCCAATATCAAAG_CRISPRi--NLRP3_CAG...</td>\n",
       "      <td>-0.099051</td>\n",
       "      <td>-0.053815</td>\n",
       "      <td>...</td>\n",
       "      <td>CRISPRi</td>\n",
       "      <td>leukemia</td>\n",
       "      <td>True</td>\n",
       "      <td>cell_line</td>\n",
       "      <td>THP-1</td>\n",
       "      <td>monocytes</td>\n",
       "      <td>human</td>\n",
       "      <td>5</td>\n",
       "      <td>10.217552</td>\n",
       "      <td>GSM6858450_KD_guide_pooled</td>\n",
       "    </tr>\n",
       "    <tr>\n",
       "      <th>TTTGGTTGTCCTCATC-1_2</th>\n",
       "      <td>HLA-DMB_CLIC1</td>\n",
       "      <td>3815</td>\n",
       "      <td>1513</td>\n",
       "      <td>2</td>\n",
       "      <td>High_MOI_2</td>\n",
       "      <td>3.958060</td>\n",
       "      <td>HLA-DMB--CLIC1</td>\n",
       "      <td>HLA-DMB_CCCCCCAAATGAGTGATGTG_CRISPRi--CLIC1_GC...</td>\n",
       "      <td>-0.068920</td>\n",
       "      <td>-0.052420</td>\n",
       "      <td>...</td>\n",
       "      <td>CRISPRi</td>\n",
       "      <td>leukemia</td>\n",
       "      <td>True</td>\n",
       "      <td>cell_line</td>\n",
       "      <td>THP-1</td>\n",
       "      <td>monocytes</td>\n",
       "      <td>human</td>\n",
       "      <td>2</td>\n",
       "      <td>1.939712</td>\n",
       "      <td>GSM6858450_KD_guide_pooled</td>\n",
       "    </tr>\n",
       "    <tr>\n",
       "      <th>TTTGGTTGTGGCCCAT-1_2</th>\n",
       "      <td>AP1AR_MRPL51_C2</td>\n",
       "      <td>5169</td>\n",
       "      <td>1531</td>\n",
       "      <td>3</td>\n",
       "      <td>High_MOI_2</td>\n",
       "      <td>2.418263</td>\n",
       "      <td>AP1AR--MRPL51--C2</td>\n",
       "      <td>AP1AR_CTGAGGCGAGAAGGGCCATG_CRISPRi--MRPL51_CCA...</td>\n",
       "      <td>0.001523</td>\n",
       "      <td>-0.052025</td>\n",
       "      <td>...</td>\n",
       "      <td>CRISPRi</td>\n",
       "      <td>leukemia</td>\n",
       "      <td>True</td>\n",
       "      <td>cell_line</td>\n",
       "      <td>THP-1</td>\n",
       "      <td>monocytes</td>\n",
       "      <td>human</td>\n",
       "      <td>3</td>\n",
       "      <td>11.955891</td>\n",
       "      <td>GSM6858450_KD_guide_pooled</td>\n",
       "    </tr>\n",
       "    <tr>\n",
       "      <th>TTTGTTGAGCTAAATG-1_2</th>\n",
       "      <td>AKT1_FADD</td>\n",
       "      <td>2494</td>\n",
       "      <td>1554</td>\n",
       "      <td>2</td>\n",
       "      <td>High_MOI_2</td>\n",
       "      <td>2.485966</td>\n",
       "      <td>AKT1--FADD</td>\n",
       "      <td>AKT1_CTGGCCCAGCGCACGCAGCG_CRISPRi--FADD_CCACCC...</td>\n",
       "      <td>0.239961</td>\n",
       "      <td>0.237199</td>\n",
       "      <td>...</td>\n",
       "      <td>CRISPRi</td>\n",
       "      <td>leukemia</td>\n",
       "      <td>True</td>\n",
       "      <td>cell_line</td>\n",
       "      <td>THP-1</td>\n",
       "      <td>monocytes</td>\n",
       "      <td>human</td>\n",
       "      <td>2</td>\n",
       "      <td>7.257418</td>\n",
       "      <td>GSM6858450_KD_guide_pooled</td>\n",
       "    </tr>\n",
       "  </tbody>\n",
       "</table>\n",
       "<p>210131 rows × 21 columns</p>\n",
       "</div>"
      ],
      "text/plain": [
       "                                     perturbation  ncounts  ngenes  nguides  \\\n",
       "cell_barcode                                                                  \n",
       "AAACCCAAGAGTGACC-1             TNFRSF11A_STK4-AS1     2413    1278        2   \n",
       "AAACCCACACAGGATG-1                    GSDMC_LRP1B     9174    2666        2   \n",
       "AAACCCACACCTCTAC-1                    NFATC2_TAB3     3779    1864        2   \n",
       "AAACCCACATTGCCGG-1                        TXNDC17     9882    2892        1   \n",
       "AAACCCAGTCATCACA-1                        TNFSF11    10399    2514        1   \n",
       "...                                           ...      ...     ...      ...   \n",
       "TTTGGTTCACCAGCCA-1_2            PIP4K2A_UNG_OTUD3      903     565        3   \n",
       "TTTGGTTCACCATTCC-1_2  MAN1C1_NLRP3_C5_TRAM1_ZNF79    44541    6082        5   \n",
       "TTTGGTTGTCCTCATC-1_2                HLA-DMB_CLIC1     3815    1513        2   \n",
       "TTTGGTTGTGGCCCAT-1_2              AP1AR_MRPL51_C2     5169    1531        3   \n",
       "TTTGTTGAGCTAAATG-1_2                    AKT1_FADD     2494    1554        2   \n",
       "\n",
       "                     10X_channel  percent_mito  \\\n",
       "cell_barcode                                     \n",
       "AAACCCAAGAGTGACC-1      Normal_1      5.719022   \n",
       "AAACCCACACAGGATG-1      Normal_1      5.646392   \n",
       "AAACCCACACCTCTAC-1      Normal_1      6.086266   \n",
       "AAACCCACATTGCCGG-1      Normal_1      4.604331   \n",
       "AAACCCAGTCATCACA-1      Normal_1      3.413790   \n",
       "...                          ...           ...   \n",
       "TTTGGTTCACCAGCCA-1_2  High_MOI_2      3.433001   \n",
       "TTTGGTTCACCATTCC-1_2  High_MOI_2      4.708022   \n",
       "TTTGGTTGTCCTCATC-1_2  High_MOI_2      3.958060   \n",
       "TTTGGTTGTGGCCCAT-1_2  High_MOI_2      2.418263   \n",
       "TTTGTTGAGCTAAATG-1_2  High_MOI_2      2.485966   \n",
       "\n",
       "                                               guides  \\\n",
       "cell_barcode                                            \n",
       "AAACCCAAGAGTGACC-1                TNFRSF11A--STK4-AS1   \n",
       "AAACCCACACAGGATG-1                       GSDMC--LRP1B   \n",
       "AAACCCACACCTCTAC-1                       NFATC2--TAB3   \n",
       "AAACCCACATTGCCGG-1                            TXNDC17   \n",
       "AAACCCAGTCATCACA-1                            TNFSF11   \n",
       "...                                               ...   \n",
       "TTTGGTTCACCAGCCA-1_2              PIP4K2A--UNG--OTUD3   \n",
       "TTTGGTTCACCATTCC-1_2  MAN1C1--NLRP3--C5--TRAM1--ZNF79   \n",
       "TTTGGTTGTCCTCATC-1_2                   HLA-DMB--CLIC1   \n",
       "TTTGGTTGTGGCCCAT-1_2                AP1AR--MRPL51--C2   \n",
       "TTTGTTGAGCTAAATG-1_2                       AKT1--FADD   \n",
       "\n",
       "                                                            full_guides  \\\n",
       "cell_barcode                                                              \n",
       "AAACCCAAGAGTGACC-1    TNFRSF11A_TTTGTGGCACTGGATCAATG_CRISPRko--STK4-...   \n",
       "AAACCCACACAGGATG-1    GSDMC_GGAGCATCCATGGTCCACAG_CRISPRko--LRP1B_TGC...   \n",
       "AAACCCACACCTCTAC-1    NFATC2_GCGGAGGCATTCGTGCGCCG_CRISPRko--TAB3_AAA...   \n",
       "AAACCCACATTGCCGG-1                TXNDC17_CTGAACCAGTCGTACGAGAG_CRISPRko   \n",
       "AAACCCAGTCATCACA-1                TNFSF11_CGTGGCTCGGAGGAGATGGG_CRISPRko   \n",
       "...                                                                 ...   \n",
       "TTTGGTTCACCAGCCA-1_2  PIP4K2A_GGCGGGCGCAGGATACGGGC_CRISPRi--UNG_GCGC...   \n",
       "TTTGGTTCACCATTCC-1_2  MAN1C1_GGTCCCTCCCAATATCAAAG_CRISPRi--NLRP3_CAG...   \n",
       "TTTGGTTGTCCTCATC-1_2  HLA-DMB_CCCCCCAAATGAGTGATGTG_CRISPRi--CLIC1_GC...   \n",
       "TTTGGTTGTGGCCCAT-1_2  AP1AR_CTGAGGCGAGAAGGGCCATG_CRISPRi--MRPL51_CCA...   \n",
       "TTTGTTGAGCTAAATG-1_2  AKT1_CTGGCCCAGCGCACGCAGCG_CRISPRi--FADD_CCACCC...   \n",
       "\n",
       "                       S_score  G2M_score  ... perturbation_type   disease  \\\n",
       "cell_barcode                               ...                               \n",
       "AAACCCAAGAGTGACC-1   -0.072268  -0.068220  ...       CRISPR-cas9  leukemia   \n",
       "AAACCCACACAGGATG-1   -0.091449  -0.078500  ...       CRISPR-cas9  leukemia   \n",
       "AAACCCACACCTCTAC-1    0.341332   0.082301  ...       CRISPR-cas9  leukemia   \n",
       "AAACCCACATTGCCGG-1    0.034257  -0.086085  ...       CRISPR-cas9  leukemia   \n",
       "AAACCCAGTCATCACA-1   -0.012602  -0.122855  ...       CRISPR-cas9  leukemia   \n",
       "...                        ...        ...  ...               ...       ...   \n",
       "TTTGGTTCACCAGCCA-1_2  0.081307  -0.004186  ...           CRISPRi  leukemia   \n",
       "TTTGGTTCACCATTCC-1_2 -0.099051  -0.053815  ...           CRISPRi  leukemia   \n",
       "TTTGGTTGTCCTCATC-1_2 -0.068920  -0.052420  ...           CRISPRi  leukemia   \n",
       "TTTGGTTGTGGCCCAT-1_2  0.001523  -0.052025  ...           CRISPRi  leukemia   \n",
       "TTTGTTGAGCTAAATG-1_2  0.239961   0.237199  ...           CRISPRi  leukemia   \n",
       "\n",
       "                     cancer  tissue_type cell_line   celltype organism nperts  \\\n",
       "cell_barcode                                                                    \n",
       "AAACCCAAGAGTGACC-1     True    cell_line     THP-1  monocytes    human      2   \n",
       "AAACCCACACAGGATG-1     True    cell_line     THP-1  monocytes    human      2   \n",
       "AAACCCACACCTCTAC-1     True    cell_line     THP-1  monocytes    human      2   \n",
       "AAACCCACATTGCCGG-1     True    cell_line     THP-1  monocytes    human      1   \n",
       "AAACCCAGTCATCACA-1     True    cell_line     THP-1  monocytes    human      1   \n",
       "...                     ...          ...       ...        ...      ...    ...   \n",
       "TTTGGTTCACCAGCCA-1_2   True    cell_line     THP-1  monocytes    human      3   \n",
       "TTTGGTTCACCATTCC-1_2   True    cell_line     THP-1  monocytes    human      5   \n",
       "TTTGGTTGTCCTCATC-1_2   True    cell_line     THP-1  monocytes    human      2   \n",
       "TTTGGTTGTGGCCCAT-1_2   True    cell_line     THP-1  monocytes    human      3   \n",
       "TTTGTTGAGCTAAATG-1_2   True    cell_line     THP-1  monocytes    human      2   \n",
       "\n",
       "                      percent_ribo                     dataset  \n",
       "cell_barcode                                                    \n",
       "AAACCCAAGAGTGACC-1       11.023622  GSM6858447_KO_conventional  \n",
       "AAACCCACACAGGATG-1       13.876172  GSM6858447_KO_conventional  \n",
       "AAACCCACACCTCTAC-1        4.842551  GSM6858447_KO_conventional  \n",
       "AAACCCACATTGCCGG-1       16.413681  GSM6858447_KO_conventional  \n",
       "AAACCCAGTCATCACA-1        9.539379  GSM6858447_KO_conventional  \n",
       "...                            ...                         ...  \n",
       "TTTGGTTCACCAGCCA-1_2      7.973422  GSM6858450_KD_guide_pooled  \n",
       "TTTGGTTCACCATTCC-1_2     10.217552  GSM6858450_KD_guide_pooled  \n",
       "TTTGGTTGTCCTCATC-1_2      1.939712  GSM6858450_KD_guide_pooled  \n",
       "TTTGGTTGTGGCCCAT-1_2     11.955891  GSM6858450_KD_guide_pooled  \n",
       "TTTGTTGAGCTAAATG-1_2      7.257418  GSM6858450_KD_guide_pooled  \n",
       "\n",
       "[210131 rows x 21 columns]"
      ]
     },
     "execution_count": 37,
     "metadata": {},
     "output_type": "execute_result"
    }
   ],
   "source": [
    "adata.obs"
   ]
  },
  {
   "cell_type": "code",
   "execution_count": null,
   "id": "49a37205-dccc-4a05-9edc-4f5fa425ed38",
   "metadata": {},
   "outputs": [],
   "source": []
  }
 ],
 "metadata": {
  "hide_input": false,
  "kernelspec": {
   "display_name": "Python 3 (ipykernel)",
   "language": "python",
   "name": "python3"
  },
  "language_info": {
   "codemirror_mode": {
    "name": "ipython",
    "version": 3
   },
   "file_extension": ".py",
   "mimetype": "text/x-python",
   "name": "python",
   "nbconvert_exporter": "python",
   "pygments_lexer": "ipython3",
   "version": "3.10.9"
  }
 },
 "nbformat": 4,
 "nbformat_minor": 5
}
