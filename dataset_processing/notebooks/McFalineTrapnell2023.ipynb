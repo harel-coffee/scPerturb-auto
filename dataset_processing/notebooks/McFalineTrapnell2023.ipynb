{
 "cells": [
  {
   "cell_type": "code",
   "execution_count": 1,
   "id": "777738da-e144-4f10-99f9-cc9198bcbdd6",
   "metadata": {
    "tags": []
   },
   "outputs": [],
   "source": [
    "!pip install mygene statannotations scrublet scanpy scvelo decoupler goatools gseapy scperturb chembl_webresource_client biomart PyComplexHeatmap statsmodels omnipath git+https://github.com/saezlab/pypath.git --quiet"
   ]
  },
  {
   "cell_type": "code",
   "execution_count": 2,
   "id": "2e03ee21",
   "metadata": {
    "ExecuteTime": {
     "end_time": "2023-03-30T08:56:30.164207Z",
     "start_time": "2023-03-30T08:56:20.645962Z"
    },
    "tags": []
   },
   "outputs": [
    {
     "data": {
      "text/html": [
       "<style>.container { width:95% !important; }</style>"
      ],
      "text/plain": [
       "<IPython.core.display.HTML object>"
      ]
     },
     "metadata": {},
     "output_type": "display_data"
    }
   ],
   "source": [
    "import subprocess\n",
    "import os\n",
    "import sys\n",
    "import matplotlib.backends.backend_pdf\n",
    "import scanpy as sc\n",
    "import matplotlib.pyplot as pl\n",
    "import anndata as ad\n",
    "import pandas as pd\n",
    "import numpy as np\n",
    "import seaborn as sns\n",
    "import scvelo as scv\n",
    "scv.settings.verbosity=1\n",
    "\n",
    "from pathlib import Path\n",
    "\n",
    "# Jupyter stuff\n",
    "from tqdm.notebook import tqdm\n",
    "from IPython.display import clear_output\n",
    "from IPython.core.display import display, HTML\n",
    "display(HTML(\"<style>.container { width:95% !important; }</style>\"))\n",
    "\n",
    "%matplotlib inline\n",
    "\n",
    "# Custom functions\n",
    "sys.path.insert(1, '../')\n",
    "from utils import *\n",
    "\n",
    "# scperturb package\n",
    "sys.path.insert(1, '../package/src/')\n",
    "from scperturb import *\n",
    "\n",
    "from pathlib import Path\n",
    "figure_path = Path('../figures/')"
   ]
  },
  {
   "cell_type": "code",
   "execution_count": 3,
   "id": "569ac1fa",
   "metadata": {
    "ExecuteTime": {
     "end_time": "2023-03-30T08:57:26.997581Z",
     "start_time": "2023-03-30T08:57:26.994115Z"
    },
    "tags": []
   },
   "outputs": [],
   "source": [
    "TEMPDIR = Path('/scratch/peidli/scPerturb/')\n",
    "DATADIR = Path('/scratch/peidli/scPerturb/')"
   ]
  },
  {
   "cell_type": "markdown",
   "id": "a61da983",
   "metadata": {
    "tags": []
   },
   "source": [
    "# GSM7056149_sciPlexGxE_2"
   ]
  },
  {
   "cell_type": "code",
   "execution_count": 4,
   "id": "5d941a92-db04-4775-b373-a351ae0420d5",
   "metadata": {
    "tags": []
   },
   "outputs": [],
   "source": [
    "# adata = sc.read('/scratch/peidli/scPerturb/McFalineTrapnell2023/GSM7056149_sciPlexGxE_2_temp.h5ad')"
   ]
  },
  {
   "cell_type": "code",
   "execution_count": 5,
   "id": "81d6d638-118f-442b-8523-6d0ba6e09e59",
   "metadata": {
    "tags": []
   },
   "outputs": [],
   "source": [
    "hashTable = pd.read_csv(TEMPDIR / f'McFalineTrapnell2023/GSM7056149_sciPlexGxE_2_hashTable.out.txt', sep='\\t', index_col=1, header=None,\n",
    "                        names = ['orig_ident', 'cell_barcode', 'plate_id', 'all_ones', 'counts'])"
   ]
  },
  {
   "cell_type": "code",
   "execution_count": 6,
   "id": "6cad7c01-e350-4bf1-9c85-62891189ae8c",
   "metadata": {
    "tags": []
   },
   "outputs": [],
   "source": [
    "# subset\n",
    "# hashTable = hashTable[hashTable.index.isin(adata.obs_names)]"
   ]
  },
  {
   "cell_type": "code",
   "execution_count": 11,
   "id": "809780fd-9622-4d32-9157-4ab1a552c0bb",
   "metadata": {
    "tags": []
   },
   "outputs": [],
   "source": [
    "from scipy.sparse import csr_matrix\n",
    "from pandas.api.types import CategoricalDtype\n",
    "\n",
    "def sparse_pivot(df, values, index, columns, fill_value=0):\n",
    "    # https://stackoverflow.com/questions/31661604/efficiently-create-sparse-pivot-tables-in-pandas\n",
    "    row_c = CategoricalDtype(sorted(df[index].unique()), ordered=True)\n",
    "    col_c = CategoricalDtype(sorted(df[columns].unique()), ordered=True)\n",
    "    \n",
    "    row = df[index].astype(row_c).cat.codes\n",
    "    col = df[columns].astype(col_c).cat.codes\n",
    "    \n",
    "    sparse_matrix = csr_matrix((df[values], (row, col)), \\\n",
    "                           shape=(row_c.categories.size, col_c.categories.size))\n",
    "    return sparse_matrix, row_c.categories, col_c.categories"
   ]
  },
  {
   "cell_type": "code",
   "execution_count": 12,
   "id": "5d39a10d-c7e2-47bc-8b40-2bdc51562f1c",
   "metadata": {
    "tags": []
   },
   "outputs": [],
   "source": [
    "# too big: df_hash = pd.pivot_table(hashTable, values='counts', index='cell_barcode', columns='plate_id', fill_value=0)\n",
    "A, rows, cols = sparse_pivot(hashTable.reset_index(), values='counts', index='cell_barcode', columns='plate_id', fill_value=0)"
   ]
  },
  {
   "cell_type": "code",
   "execution_count": null,
   "id": "cfcf76c0-7c38-4b55-883a-ec350035965d",
   "metadata": {
    "tags": []
   },
   "outputs": [],
   "source": [
    "# just take highest\n",
    "most_counts = np.ravel(A.argmax(axis=1))\n",
    "best_plates = pd.DataFrame(list(cols[most_counts]), index = rows, columns=['best_plate_id'])  # best plate for each cell barcode (index)"
   ]
  },
  {
   "cell_type": "code",
   "execution_count": null,
   "id": "2a540b70-fda4-472e-9f32-d5c7a4f8ed23",
   "metadata": {
    "tags": []
   },
   "outputs": [],
   "source": [
    "best_plates"
   ]
  },
  {
   "cell_type": "code",
   "execution_count": null,
   "id": "815eb18c",
   "metadata": {
    "ExecuteTime": {
     "start_time": "2023-03-16T14:34:23.429Z"
    }
   },
   "outputs": [],
   "source": [
    "adata.obs = pd.merge(adata.obs, best_plates, left_index=True, right_index=True, how='left')"
   ]
  },
  {
   "cell_type": "code",
   "execution_count": null,
   "id": "9fd31f70",
   "metadata": {
    "ExecuteTime": {
     "start_time": "2023-03-16T14:34:23.890Z"
    }
   },
   "outputs": [],
   "source": [
    "adata.obs"
   ]
  },
  {
   "cell_type": "code",
   "execution_count": null,
   "id": "5b0c68cf",
   "metadata": {
    "ExecuteTime": {
     "start_time": "2023-03-16T14:34:24.911Z"
    }
   },
   "outputs": [],
   "source": [
    "# useless?\n",
    "hash_sample_sheet = pd.read_csv(TEMPDIR / f'McFalineTrapnell2023/{prefix}_hash_sample_sheet.txt', sep='\\t', index_col=0, header=None)\n",
    "hash_sample_sheet.head()"
   ]
  },
  {
   "cell_type": "code",
   "execution_count": null,
   "id": "41b5877a",
   "metadata": {
    "ExecuteTime": {
     "start_time": "2023-03-16T14:34:25.476Z"
    }
   },
   "outputs": [],
   "source": [
    "# useless?\n",
    "sgRNA_sequences = pd.read_csv(TEMPDIR / f'McFalineTrapnell2023/{prefix}_sgRNA_sequences.txt.gz', sep='\\t', index_col=2)\n",
    "sgRNA_sequences.head()"
   ]
  },
  {
   "cell_type": "code",
   "execution_count": null,
   "id": "6670ca81",
   "metadata": {},
   "outputs": [],
   "source": []
  },
  {
   "cell_type": "code",
   "execution_count": null,
   "id": "48917f18",
   "metadata": {},
   "outputs": [],
   "source": []
  },
  {
   "cell_type": "code",
   "execution_count": null,
   "id": "33bfd3c5",
   "metadata": {},
   "outputs": [],
   "source": []
  },
  {
   "cell_type": "code",
   "execution_count": null,
   "id": "a466a8de",
   "metadata": {},
   "outputs": [],
   "source": []
  },
  {
   "cell_type": "code",
   "execution_count": null,
   "id": "f9c74845",
   "metadata": {},
   "outputs": [],
   "source": []
  },
  {
   "cell_type": "code",
   "execution_count": null,
   "id": "ed7e1ed3",
   "metadata": {},
   "outputs": [],
   "source": []
  },
  {
   "cell_type": "code",
   "execution_count": null,
   "id": "1e27ab29",
   "metadata": {},
   "outputs": [],
   "source": []
  },
  {
   "cell_type": "code",
   "execution_count": null,
   "id": "d5d2835a",
   "metadata": {},
   "outputs": [],
   "source": []
  },
  {
   "cell_type": "code",
   "execution_count": null,
   "id": "678391bc",
   "metadata": {},
   "outputs": [],
   "source": []
  },
  {
   "cell_type": "code",
   "execution_count": null,
   "id": "d4cd8e61",
   "metadata": {},
   "outputs": [],
   "source": []
  },
  {
   "cell_type": "code",
   "execution_count": null,
   "id": "8a78ec04",
   "metadata": {},
   "outputs": [],
   "source": []
  },
  {
   "cell_type": "code",
   "execution_count": null,
   "id": "da8a7375",
   "metadata": {},
   "outputs": [],
   "source": []
  },
  {
   "cell_type": "code",
   "execution_count": null,
   "id": "92cfa743",
   "metadata": {},
   "outputs": [],
   "source": []
  },
  {
   "cell_type": "code",
   "execution_count": null,
   "id": "3f32d259",
   "metadata": {},
   "outputs": [],
   "source": []
  },
  {
   "cell_type": "code",
   "execution_count": null,
   "id": "b4bfab96",
   "metadata": {},
   "outputs": [],
   "source": []
  },
  {
   "cell_type": "code",
   "execution_count": null,
   "id": "ede8bb66",
   "metadata": {},
   "outputs": [],
   "source": []
  },
  {
   "cell_type": "code",
   "execution_count": null,
   "id": "6af585d2",
   "metadata": {},
   "outputs": [],
   "source": []
  }
 ],
 "metadata": {
  "hide_input": false,
  "kernelspec": {
   "display_name": "Python 3 (ipykernel)",
   "language": "python",
   "name": "python3"
  },
  "language_info": {
   "codemirror_mode": {
    "name": "ipython",
    "version": 3
   },
   "file_extension": ".py",
   "mimetype": "text/x-python",
   "name": "python",
   "nbconvert_exporter": "python",
   "pygments_lexer": "ipython3",
   "version": "3.10.9"
  }
 },
 "nbformat": 4,
 "nbformat_minor": 5
}
