{
 "cells": [
  {
   "cell_type": "code",
   "execution_count": 12,
   "id": "338742b7-7103-4475-adf1-0b6122dd3abb",
   "metadata": {
    "tags": []
   },
   "outputs": [],
   "source": [
    "!pip install mygene statannotations scrublet scanpy scvelo decoupler matplotlib_venn goatools gseapy scperturb biomart PyComplexHeatmap statsmodels omnipath git+https://github.com/saezlab/pypath.git --quiet"
   ]
  },
  {
   "cell_type": "code",
   "execution_count": 13,
   "id": "bdf19927-f5a5-49e3-85ee-9b22bbed4b30",
   "metadata": {
    "tags": []
   },
   "outputs": [
    {
     "data": {
      "text/html": [
       "<style>.container { width:95% !important; }</style>"
      ],
      "text/plain": [
       "<IPython.core.display.HTML object>"
      ]
     },
     "metadata": {},
     "output_type": "display_data"
    }
   ],
   "source": [
    "import subprocess\n",
    "import os\n",
    "import sys\n",
    "import matplotlib.backends.backend_pdf\n",
    "import scanpy as sc\n",
    "import matplotlib.pyplot as pl\n",
    "import anndata as ad\n",
    "import pandas as pd\n",
    "import numpy as np\n",
    "import seaborn as sns\n",
    "import scvelo as scv\n",
    "scv.settings.verbosity=1\n",
    "\n",
    "from pathlib import Path\n",
    "\n",
    "# Jupyter stuff\n",
    "from tqdm.notebook import tqdm\n",
    "from IPython.display import clear_output\n",
    "from IPython.core.display import display, HTML\n",
    "display(HTML(\"<style>.container { width:95% !important; }</style>\"))\n",
    "\n",
    "%matplotlib inline\n",
    "\n",
    "# Custom functions\n",
    "sys.path.insert(1, '../')\n",
    "from utils import *\n",
    "\n",
    "# scperturb package\n",
    "sys.path.insert(1, '../package/src/')\n",
    "from scperturb import *\n",
    "\n",
    "from pathlib import Path\n",
    "figure_path = Path('../figures/')"
   ]
  },
  {
   "cell_type": "code",
   "execution_count": 14,
   "id": "1276f674-d382-4a04-a5a1-89034a5d6892",
   "metadata": {
    "tags": []
   },
   "outputs": [],
   "source": [
    "TEMPDIR = Path('/scratch/peidli/scPerturb/')"
   ]
  },
  {
   "cell_type": "code",
   "execution_count": 15,
   "id": "c604eabe-3e9e-48f7-a090-3fd76bc847f3",
   "metadata": {
    "tags": []
   },
   "outputs": [
    {
     "data": {
      "text/plain": [
       "['GSE161824_A549_KRAS.processed.cells.csv',\n",
       " 'GSE161824_A549_KRAS.processed.cells.metadata.csv',\n",
       " 'GSE161824_A549_KRAS.processed.genes.csv',\n",
       " 'GSE161824_A549_KRAS.processed.genes.metadata.csv',\n",
       " 'GSE161824_A549_KRAS.processed.matrix.mtx',\n",
       " 'GSE161824_A549_KRAS.rawcounts.cells.csv',\n",
       " 'GSE161824_A549_KRAS.rawcounts.genes.csv',\n",
       " 'GSE161824_A549_KRAS.rawcounts.matrix.mtx',\n",
       " 'GSE161824_A549_KRAS.variants2cell.csv',\n",
       " 'GSE161824_A549_TP53.processed.cells.csv',\n",
       " 'GSE161824_A549_TP53.processed.cells.metadata.csv',\n",
       " 'GSE161824_A549_TP53.processed.genes.csv',\n",
       " 'GSE161824_A549_TP53.processed.genes.metadata.csv',\n",
       " 'GSE161824_A549_TP53.processed.matrix.mtx',\n",
       " 'GSE161824_A549_TP53.rawcounts.cells.csv',\n",
       " 'GSE161824_A549_TP53.rawcounts.genes.csv',\n",
       " 'GSE161824_A549_TP53.rawcounts.matrix.mtx',\n",
       " 'GSE161824_A549_TP53.variants2cell.csv',\n",
       " 'GSE161824_RAW.tar',\n",
       " 'GSE161824_SCEVIP.README.pdf',\n",
       " 'filelist.txt']"
      ]
     },
     "execution_count": 15,
     "metadata": {},
     "output_type": "execute_result"
    }
   ],
   "source": [
    "sorted([file.name for file in (TEMPDIR / 'UrsuBoehm2022/').glob('*')])"
   ]
  },
  {
   "cell_type": "code",
   "execution_count": 65,
   "id": "ce78baa9-ac2a-47a4-9f1b-ec946a900c0e",
   "metadata": {},
   "outputs": [],
   "source": [
    "# Read Data\n",
    "from scipy.io import mmread\n",
    "from scipy.sparse import csr_matrix\n",
    "keys = ['KRAS', 'TP53']\n",
    "adatas = {}\n",
    "for key in tqdm(keys):\n",
    "    var = pd.read_csv(TEMPDIR / f'UrsuBoehm2022/GSE161824_A549_{key}.rawcounts.genes.csv', index_col=0, names=['gene_symbol'])\n",
    "    X = csr_matrix(mmread(TEMPDIR / f'UrsuBoehm2022/GSE161824_A549_{key}.rawcounts.matrix.mtx'))\n",
    "    \n",
    "    obs = pd.read_csv(TEMPDIR / f'UrsuBoehm2022/GSE161824_A549_{key}.rawcounts.cells.csv', index_col=0, names=['cell_barcode'])\n",
    "    variants = pd.read_csv(TEMPDIR / f'UrsuBoehm2022/GSE161824_A549_{key}.variants2cell.csv', sep='\\t')\n",
    "    variants.set_index('cell', inplace=True)\n",
    "    assert np.sum(obs.index!=variants.index)==0\n",
    "    var_counts = variants.iloc[:,2:-2]\n",
    "    variants.drop(var_counts.columns, axis=1, inplace=True)\n",
    "    obs = pd.concat([obs, variants], axis=1)\n",
    "\n",
    "    adata = sc.AnnData(X, obs, var)\n",
    "    adata.obsm['Variant_Counts'] = var_counts\n",
    "    adatas[key] = adata"
   ]
  },
  {
   "cell_type": "code",
   "execution_count": 67,
   "id": "fd6705a5-e938-41d9-af0b-c08651210975",
   "metadata": {
    "tags": []
   },
   "outputs": [],
   "source": [
    "adata = adatas['KRAS']"
   ]
  },
  {
   "cell_type": "code",
   "execution_count": 69,
   "id": "08ad720e-25ee-42b5-a4b1-b5e6ea5091d3",
   "metadata": {
    "tags": []
   },
   "outputs": [
    {
     "data": {
      "text/html": [
       "<div>\n",
       "<style scoped>\n",
       "    .dataframe tbody tr th:only-of-type {\n",
       "        vertical-align: middle;\n",
       "    }\n",
       "\n",
       "    .dataframe tbody tr th {\n",
       "        vertical-align: top;\n",
       "    }\n",
       "\n",
       "    .dataframe thead th {\n",
       "        text-align: right;\n",
       "    }\n",
       "</style>\n",
       "<table border=\"1\" class=\"dataframe\">\n",
       "  <thead>\n",
       "    <tr style=\"text-align: right;\">\n",
       "      <th></th>\n",
       "      <th>batch</th>\n",
       "      <th>n_counts</th>\n",
       "      <th>variant</th>\n",
       "      <th>variant.detailed_multi</th>\n",
       "    </tr>\n",
       "  </thead>\n",
       "  <tbody>\n",
       "    <tr>\n",
       "      <th>AAACCTGCAACGCACC-1-0</th>\n",
       "      <td>0</td>\n",
       "      <td>25694.0</td>\n",
       "      <td>unassigned</td>\n",
       "      <td>unassigned</td>\n",
       "    </tr>\n",
       "    <tr>\n",
       "      <th>AAACCTGCAATGGTCT-1-0</th>\n",
       "      <td>0</td>\n",
       "      <td>34868.0</td>\n",
       "      <td>T50T</td>\n",
       "      <td>T50T</td>\n",
       "    </tr>\n",
       "    <tr>\n",
       "      <th>AAACCTGCAGGACGTA-1-0</th>\n",
       "      <td>0</td>\n",
       "      <td>25170.0</td>\n",
       "      <td>unassigned</td>\n",
       "      <td>unassigned</td>\n",
       "    </tr>\n",
       "    <tr>\n",
       "      <th>AAACCTGCAGTAAGAT-1-0</th>\n",
       "      <td>0</td>\n",
       "      <td>31500.0</td>\n",
       "      <td>unassigned</td>\n",
       "      <td>unassigned</td>\n",
       "    </tr>\n",
       "    <tr>\n",
       "      <th>AAACGGGAGACAGAGA-1-0</th>\n",
       "      <td>0</td>\n",
       "      <td>22654.0</td>\n",
       "      <td>T127T</td>\n",
       "      <td>T127T</td>\n",
       "    </tr>\n",
       "    <tr>\n",
       "      <th>...</th>\n",
       "      <td>...</td>\n",
       "      <td>...</td>\n",
       "      <td>...</td>\n",
       "      <td>...</td>\n",
       "    </tr>\n",
       "    <tr>\n",
       "      <th>TTTGTCAAGAGGGCTT-1-31</th>\n",
       "      <td>31</td>\n",
       "      <td>15471.0</td>\n",
       "      <td>M170L</td>\n",
       "      <td>M170L</td>\n",
       "    </tr>\n",
       "    <tr>\n",
       "      <th>TTTGTCAAGGGATACC-1-31</th>\n",
       "      <td>31</td>\n",
       "      <td>21986.0</td>\n",
       "      <td>Q99E</td>\n",
       "      <td>Q99E</td>\n",
       "    </tr>\n",
       "    <tr>\n",
       "      <th>TTTGTCACACATGACT-1-31</th>\n",
       "      <td>31</td>\n",
       "      <td>17064.0</td>\n",
       "      <td>G13R</td>\n",
       "      <td>G13R</td>\n",
       "    </tr>\n",
       "    <tr>\n",
       "      <th>TTTGTCACAGAAGCAC-1-31</th>\n",
       "      <td>31</td>\n",
       "      <td>23769.0</td>\n",
       "      <td>Y166H</td>\n",
       "      <td>Y166H</td>\n",
       "    </tr>\n",
       "    <tr>\n",
       "      <th>TTTGTCATCCGAATGT-1-31</th>\n",
       "      <td>31</td>\n",
       "      <td>24162.0</td>\n",
       "      <td>T20R</td>\n",
       "      <td>T20R</td>\n",
       "    </tr>\n",
       "  </tbody>\n",
       "</table>\n",
       "<p>150044 rows × 4 columns</p>\n",
       "</div>"
      ],
      "text/plain": [
       "                       batch  n_counts     variant variant.detailed_multi\n",
       "AAACCTGCAACGCACC-1-0       0   25694.0  unassigned             unassigned\n",
       "AAACCTGCAATGGTCT-1-0       0   34868.0        T50T                   T50T\n",
       "AAACCTGCAGGACGTA-1-0       0   25170.0  unassigned             unassigned\n",
       "AAACCTGCAGTAAGAT-1-0       0   31500.0  unassigned             unassigned\n",
       "AAACGGGAGACAGAGA-1-0       0   22654.0       T127T                  T127T\n",
       "...                      ...       ...         ...                    ...\n",
       "TTTGTCAAGAGGGCTT-1-31     31   15471.0       M170L                  M170L\n",
       "TTTGTCAAGGGATACC-1-31     31   21986.0        Q99E                   Q99E\n",
       "TTTGTCACACATGACT-1-31     31   17064.0        G13R                   G13R\n",
       "TTTGTCACAGAAGCAC-1-31     31   23769.0       Y166H                  Y166H\n",
       "TTTGTCATCCGAATGT-1-31     31   24162.0        T20R                   T20R\n",
       "\n",
       "[150044 rows x 4 columns]"
      ]
     },
     "execution_count": 69,
     "metadata": {},
     "output_type": "execute_result"
    }
   ],
   "source": [
    "adata.obs"
   ]
  },
  {
   "cell_type": "code",
   "execution_count": null,
   "id": "6a27157d-43c2-4017-85c6-1333e05dd182",
   "metadata": {},
   "outputs": [],
   "source": [
    "adata.obs.rename({'n_counts': 'ncounts'}, axis=1, inplace=True)"
   ]
  },
  {
   "cell_type": "code",
   "execution_count": 71,
   "id": "4112a80d-56c2-4b54-af99-f32e1029a161",
   "metadata": {
    "tags": []
   },
   "outputs": [
    {
     "data": {
      "text/plain": [
       "array(['unassigned', 'T50T', 'T127T', 'G13V', 'Q22K', 'T20M', 'Q61P',\n",
       "       'S17S', 'Q99E', 'G77A', 'M111L', 'Q61A', 'D30D', 'I36M', 'A146V',\n",
       "       'E31K', 'G12A', 'G60D', 'R68S', 'P34R', 'E63K', 'multiple',\n",
       "       'F141L', 'A66A', 'K178K', 'T74A', 'D119G', 'WT', 'G13C', 'G75A',\n",
       "       'K88K', 'L159S', 'V112I', 'S136N', 'I163S', 'T158A', 'A146P',\n",
       "       'D173D', 'R135T', 'A146T', 'A59G', 'R164Q', 'G12F', 'Q61R',\n",
       "       'K117R', 'T74T', 'K117N', 'C118S', 'AG59GV', 'T144T', 'N26Y',\n",
       "       'K169K', 'A155G', 'G13R', 'K176Q', 'A130V', 'D57N', 'T50I', 'L52F',\n",
       "       'T144P', 'R149K', 'G12I', 'G13E', 'P110S', 'T50P', 'V8V', 'P34L',\n",
       "       'G60S', 'K147N', 'V14L', 'G60V', 'T20R', 'L19F', 'G12S', 'L79I',\n",
       "       'K147T', 'Q25H', 'G12Y', 'G12C', 'M170L', 'K179R', 'G12D', 'Q61L',\n",
       "       'T20T', 'V14I', 'C185Y', 'Q61H', 'T158T', 'G12R', 'K5E', 'A59E',\n",
       "       'Q22H', 'Y166H', 'R41K', 'A59T', 'Q61K', 'G12V', 'T58I', 'AG11TD',\n",
       "       'D33E'], dtype=object)"
      ]
     },
     "execution_count": 71,
     "metadata": {},
     "output_type": "execute_result"
    }
   ],
   "source": [
    "adata.obs.variant.unique()"
   ]
  },
  {
   "cell_type": "code",
   "execution_count": null,
   "id": "8f5a5e1d-a594-42e4-8e98-b476f4fc1b81",
   "metadata": {},
   "outputs": [],
   "source": []
  }
 ],
 "metadata": {
  "kernelspec": {
   "display_name": "Python 3 (ipykernel)",
   "language": "python",
   "name": "python3"
  },
  "language_info": {
   "codemirror_mode": {
    "name": "ipython",
    "version": 3
   },
   "file_extension": ".py",
   "mimetype": "text/x-python",
   "name": "python",
   "nbconvert_exporter": "python",
   "pygments_lexer": "ipython3",
   "version": "3.10.9"
  }
 },
 "nbformat": 4,
 "nbformat_minor": 5
}
