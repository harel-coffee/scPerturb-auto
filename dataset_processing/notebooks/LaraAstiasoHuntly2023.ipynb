{
 "cells": [
  {
   "cell_type": "code",
   "execution_count": 1,
   "id": "75879e08-50ea-4a08-a68b-1b5debc19da1",
   "metadata": {
    "tags": []
   },
   "outputs": [],
   "source": [
    "!pip install mygene statannotations scrublet scanpy scvelo decoupler goatools gseapy scperturb chembl_webresource_client biomart PyComplexHeatmap statsmodels omnipath git+https://github.com/saezlab/pypath.git --quiet"
   ]
  },
  {
   "cell_type": "code",
   "execution_count": 2,
   "id": "7a7e2a6d-0b18-4ab2-aa6c-1e141c3da407",
   "metadata": {
    "tags": []
   },
   "outputs": [
    {
     "data": {
      "text/html": [
       "<style>.container { width:95% !important; }</style>"
      ],
      "text/plain": [
       "<IPython.core.display.HTML object>"
      ]
     },
     "metadata": {},
     "output_type": "display_data"
    }
   ],
   "source": [
    "import subprocess\n",
    "import os\n",
    "import sys\n",
    "import matplotlib.backends.backend_pdf\n",
    "import scanpy as sc\n",
    "import matplotlib.pyplot as pl\n",
    "import anndata as ad\n",
    "import pandas as pd\n",
    "import numpy as np\n",
    "import seaborn as sns\n",
    "import scvelo as scv\n",
    "scv.settings.verbosity=1\n",
    "\n",
    "from pathlib import Path\n",
    "\n",
    "# Jupyter stuff\n",
    "from tqdm.notebook import tqdm\n",
    "from IPython.display import clear_output\n",
    "from IPython.core.display import display, HTML\n",
    "display(HTML(\"<style>.container { width:95% !important; }</style>\"))\n",
    "\n",
    "%matplotlib inline\n",
    "\n",
    "# Custom functions\n",
    "sys.path.insert(1, '../../')\n",
    "from utils import *\n",
    "\n",
    "# scperturb package\n",
    "sys.path.insert(1, '../../package/src/')\n",
    "from scperturb import *\n",
    "\n",
    "from pathlib import Path\n",
    "figure_path = Path('../../figures/')"
   ]
  },
  {
   "cell_type": "code",
   "execution_count": 3,
   "id": "4278ea14-ac95-4ec5-bba2-43c2a1a5f3c2",
   "metadata": {
    "tags": []
   },
   "outputs": [],
   "source": [
    "TEMPDIR = Path('/scratch/peidli/scPerturb/')\n",
    "DATADIR = Path('/home/peidli/data/scPerturb/')"
   ]
  },
  {
   "cell_type": "code",
   "execution_count": 4,
   "id": "e878cb41-2ad0-460a-a7c8-64287e1c7468",
   "metadata": {
    "tags": []
   },
   "outputs": [],
   "source": [
    "from scipy.io import mmread\n",
    "from scipy.sparse import csr_matrix"
   ]
  },
  {
   "cell_type": "code",
   "execution_count": 37,
   "id": "f52dfa81-9275-4a9f-91f7-55bdd513e5b1",
   "metadata": {
    "tags": []
   },
   "outputs": [],
   "source": [
    "# maps experiments to file identifiers\n",
    "sample_dict = {\n",
    "    'leukemia': 'DM',\n",
    "    'invivo': 'inVivo',\n",
    "    'exvivo': 'LSK'\n",
    "}\n",
    "files = [x.name for x in (TEMPDIR / 'LaraAstiasoHuntly2023').glob('*.h5')]\n",
    "\n",
    "def merge_data(key):\n",
    "    identifier = sample_dict[key]\n",
    "    files_ = [x for x in files if f'_{identifier}_' in x]\n",
    "    annot = pd.read_csv(TEMPDIR / 'LaraAstiasoHuntly2023' / f'GSE213511_CellAnnotation_{key}.tsv.gz', sep='\\t', index_col=0)\n",
    "    adatas = {}\n",
    "    for file in tqdm(files_):\n",
    "        tempdata = sc.read_10x_h5(TEMPDIR / 'LaraAstiasoHuntly2023' / file)\n",
    "        tempdata.var_names_make_unique()\n",
    "        adatas[file.replace('GSE213511_', '').replace('.h5', '')] = tempdata\n",
    "    adata = sc.concat(adatas, label='Sample', index_unique='-')\n",
    "    # make indiced unique\n",
    "    adata.obs.index = [x.replace('-1-', '-') for x in adata.obs.index]\n",
    "    annot.index = [f'{x.split(\"-\")[0]}-{sample}' for x, sample in zip(annot.index, annot.Sample)]\n",
    "    # merge annotation\n",
    "    adata.obs = pd.concat([adata.obs, annot], axis=1)\n",
    "    return adata\n",
    "\n",
    "def harmonize_data(adata, key):\n",
    "    # harmonize\n",
    "    adata.var.index.name = 'gene_symbol'\n",
    "    adata.obs.index.name = 'cell_barcode'\n",
    "    adata.obs['organism'] = 'Mus musculus'\n",
    "    adata.obs['disease'] = 'leukemia' if key=='leukemia' else 'healthy'\n",
    "    adata.obs['cancer'] = key=='leukemia'\n",
    "    adata.obs['perturbation_type'] = 'CRISPR-cas9'\n",
    "    adata.obs['tissue_type'] = 'primary'\n",
    "    adata.obs['tissue'] = 'bone marrow transplant'\n",
    "    \n",
    "    adata.obsm['X_umap'] = adata.obs[['UMAP1', 'UMAP2']].values\n",
    "    adata.obs = adata.obs.loc[:, ~adata.obs.columns.duplicated(keep='first')]  # remove duplicated \"Sample\" column\n",
    "    adata.obs['perturbation'] = np.array([None if pd.isna(x) else 'control' if x[:3]=='NTC' else x.split('_')[0] for x in adata.obs.Guide])\n",
    "    adata.obs.rename({\n",
    "        'Sample': 'sample',\n",
    "        'Phase': 'cellcycle_phase',\n",
    "        'Clusters': 'celltype',\n",
    "        'Mixscape': 'Mixscape_classification',\n",
    "        'mixscape': 'Mixscape_classification',\n",
    "        'Guide': 'guide_id'\n",
    "    }, axis=1, inplace=True)\n",
    "    # reorder\n",
    "    adata = adata.obs[['perturbation', 'guide_id', 'sample', 'cellcycle_phase', 'Mixscape_classification',\n",
    "       'celltype', 'organism', 'disease', 'cancer',\n",
    "       'perturbation_type', 'tissue_type', 'tissue']]\n",
    "    return adata"
   ]
  },
  {
   "cell_type": "code",
   "execution_count": 34,
   "id": "e17b28b5-ebcd-45ec-a94d-896f144392ea",
   "metadata": {
    "tags": []
   },
   "outputs": [
    {
     "name": "stderr",
     "output_type": "stream",
     "text": [
      "100%|██████████| 13/13 [00:31<00:00,  2.45s/it]\n"
     ]
    }
   ],
   "source": [
    "adata = merge_data('leukemia')"
   ]
  },
  {
   "cell_type": "code",
   "execution_count": 38,
   "id": "1036685f-62e9-44b4-ba14-959797a54ca1",
   "metadata": {
    "tags": []
   },
   "outputs": [],
   "source": [
    "bdata = harmonize_data(adata, 'leukemia')"
   ]
  },
  {
   "cell_type": "code",
   "execution_count": 40,
   "id": "5ed94d81-f164-4f9a-82f8-a26d6bf10451",
   "metadata": {
    "tags": []
   },
   "outputs": [
    {
     "data": {
      "text/plain": [
       "Index(['sample', 'cellcycle_phase', 'Mixscape_classification', 'guide_id',\n",
       "       'UMAP1', 'UMAP2', 'celltype', 'organism', 'disease', 'cancer',\n",
       "       'perturbation_type', 'tissue_type', 'tissue', 'perturbation'],\n",
       "      dtype='object')"
      ]
     },
     "execution_count": 40,
     "metadata": {},
     "output_type": "execute_result"
    }
   ],
   "source": [
    "bdata.obs.columns"
   ]
  },
  {
   "cell_type": "code",
   "execution_count": 48,
   "id": "7cd91aad-0086-42f2-9fbc-06c6809a27a2",
   "metadata": {
    "tags": []
   },
   "outputs": [
    {
     "name": "stderr",
     "output_type": "stream",
     "text": [
      "100%|██████████| 12/12 [00:31<00:00,  2.60s/it]\n"
     ]
    },
    {
     "ename": "ValueError",
     "evalue": "Length of passed value for obs_names is 144689, but this AnnData has shape: (135836, 32287)",
     "output_type": "error",
     "traceback": [
      "\u001b[0;31m---------------------------------------------------------------------------\u001b[0m",
      "\u001b[0;31mValueError\u001b[0m                                Traceback (most recent call last)",
      "Cell \u001b[0;32mIn[48], line 2\u001b[0m\n\u001b[1;32m      1\u001b[0m \u001b[38;5;66;03m# SUMTINGWONG here\u001b[39;00m\n\u001b[0;32m----> 2\u001b[0m cdata \u001b[38;5;241m=\u001b[39m \u001b[43mmerge_data\u001b[49m\u001b[43m(\u001b[49m\u001b[38;5;124;43m'\u001b[39;49m\u001b[38;5;124;43minvivo\u001b[39;49m\u001b[38;5;124;43m'\u001b[39;49m\u001b[43m)\u001b[49m\n",
      "Cell \u001b[0;32mIn[37], line 23\u001b[0m, in \u001b[0;36mmerge_data\u001b[0;34m(key)\u001b[0m\n\u001b[1;32m     21\u001b[0m annot\u001b[38;5;241m.\u001b[39mindex \u001b[38;5;241m=\u001b[39m [\u001b[38;5;124mf\u001b[39m\u001b[38;5;124m'\u001b[39m\u001b[38;5;132;01m{\u001b[39;00mx\u001b[38;5;241m.\u001b[39msplit(\u001b[38;5;124m\"\u001b[39m\u001b[38;5;124m-\u001b[39m\u001b[38;5;124m\"\u001b[39m)[\u001b[38;5;241m0\u001b[39m]\u001b[38;5;132;01m}\u001b[39;00m\u001b[38;5;124m-\u001b[39m\u001b[38;5;132;01m{\u001b[39;00msample\u001b[38;5;132;01m}\u001b[39;00m\u001b[38;5;124m'\u001b[39m \u001b[38;5;28;01mfor\u001b[39;00m x, sample \u001b[38;5;129;01min\u001b[39;00m \u001b[38;5;28mzip\u001b[39m(annot\u001b[38;5;241m.\u001b[39mindex, annot\u001b[38;5;241m.\u001b[39mSample)]\n\u001b[1;32m     22\u001b[0m \u001b[38;5;66;03m# merge annotation\u001b[39;00m\n\u001b[0;32m---> 23\u001b[0m \u001b[43madata\u001b[49m\u001b[38;5;241;43m.\u001b[39;49m\u001b[43mobs\u001b[49m \u001b[38;5;241m=\u001b[39m pd\u001b[38;5;241m.\u001b[39mconcat([adata\u001b[38;5;241m.\u001b[39mobs, annot], axis\u001b[38;5;241m=\u001b[39m\u001b[38;5;241m1\u001b[39m)\n\u001b[1;32m     24\u001b[0m \u001b[38;5;28;01mreturn\u001b[39;00m adata\n",
      "File \u001b[0;32m/opt/conda/lib/python3.10/site-packages/anndata/_core/anndata.py:913\u001b[0m, in \u001b[0;36mAnnData.obs\u001b[0;34m(self, value)\u001b[0m\n\u001b[1;32m    911\u001b[0m \u001b[38;5;129m@obs\u001b[39m\u001b[38;5;241m.\u001b[39msetter\n\u001b[1;32m    912\u001b[0m \u001b[38;5;28;01mdef\u001b[39;00m \u001b[38;5;21mobs\u001b[39m(\u001b[38;5;28mself\u001b[39m, value: pd\u001b[38;5;241m.\u001b[39mDataFrame):\n\u001b[0;32m--> 913\u001b[0m     \u001b[38;5;28;43mself\u001b[39;49m\u001b[38;5;241;43m.\u001b[39;49m\u001b[43m_set_dim_df\u001b[49m\u001b[43m(\u001b[49m\u001b[43mvalue\u001b[49m\u001b[43m,\u001b[49m\u001b[43m \u001b[49m\u001b[38;5;124;43m\"\u001b[39;49m\u001b[38;5;124;43mobs\u001b[39;49m\u001b[38;5;124;43m\"\u001b[39;49m\u001b[43m)\u001b[49m\n",
      "File \u001b[0;32m/opt/conda/lib/python3.10/site-packages/anndata/_core/anndata.py:850\u001b[0m, in \u001b[0;36mAnnData._set_dim_df\u001b[0;34m(self, value, attr)\u001b[0m\n\u001b[1;32m    848\u001b[0m \u001b[38;5;28;01mif\u001b[39;00m \u001b[38;5;129;01mnot\u001b[39;00m \u001b[38;5;28misinstance\u001b[39m(value, pd\u001b[38;5;241m.\u001b[39mDataFrame):\n\u001b[1;32m    849\u001b[0m     \u001b[38;5;28;01mraise\u001b[39;00m \u001b[38;5;167;01mValueError\u001b[39;00m(\u001b[38;5;124mf\u001b[39m\u001b[38;5;124m\"\u001b[39m\u001b[38;5;124mCan only assign pd.DataFrame to \u001b[39m\u001b[38;5;132;01m{\u001b[39;00mattr\u001b[38;5;132;01m}\u001b[39;00m\u001b[38;5;124m.\u001b[39m\u001b[38;5;124m\"\u001b[39m)\n\u001b[0;32m--> 850\u001b[0m value_idx \u001b[38;5;241m=\u001b[39m \u001b[38;5;28;43mself\u001b[39;49m\u001b[38;5;241;43m.\u001b[39;49m\u001b[43m_prep_dim_index\u001b[49m\u001b[43m(\u001b[49m\u001b[43mvalue\u001b[49m\u001b[38;5;241;43m.\u001b[39;49m\u001b[43mindex\u001b[49m\u001b[43m,\u001b[49m\u001b[43m \u001b[49m\u001b[43mattr\u001b[49m\u001b[43m)\u001b[49m\n\u001b[1;32m    851\u001b[0m \u001b[38;5;28;01mif\u001b[39;00m \u001b[38;5;28mself\u001b[39m\u001b[38;5;241m.\u001b[39mis_view:\n\u001b[1;32m    852\u001b[0m     \u001b[38;5;28mself\u001b[39m\u001b[38;5;241m.\u001b[39m_init_as_actual(\u001b[38;5;28mself\u001b[39m\u001b[38;5;241m.\u001b[39mcopy())\n",
      "File \u001b[0;32m/opt/conda/lib/python3.10/site-packages/anndata/_core/anndata.py:864\u001b[0m, in \u001b[0;36mAnnData._prep_dim_index\u001b[0;34m(self, value, attr)\u001b[0m\n\u001b[1;32m    859\u001b[0m \u001b[38;5;250m\u001b[39m\u001b[38;5;124;03m\"\"\"Prepares index to be uses as obs_names or var_names for AnnData object.AssertionError\u001b[39;00m\n\u001b[1;32m    860\u001b[0m \n\u001b[1;32m    861\u001b[0m \u001b[38;5;124;03mIf a pd.Index is passed, this will use a reference, otherwise a new index object is created.\u001b[39;00m\n\u001b[1;32m    862\u001b[0m \u001b[38;5;124;03m\"\"\"\u001b[39;00m\n\u001b[1;32m    863\u001b[0m \u001b[38;5;28;01mif\u001b[39;00m \u001b[38;5;28mself\u001b[39m\u001b[38;5;241m.\u001b[39mshape[attr \u001b[38;5;241m==\u001b[39m \u001b[38;5;124m\"\u001b[39m\u001b[38;5;124mvar\u001b[39m\u001b[38;5;124m\"\u001b[39m] \u001b[38;5;241m!=\u001b[39m \u001b[38;5;28mlen\u001b[39m(value):\n\u001b[0;32m--> 864\u001b[0m     \u001b[38;5;28;01mraise\u001b[39;00m \u001b[38;5;167;01mValueError\u001b[39;00m(\n\u001b[1;32m    865\u001b[0m         \u001b[38;5;124mf\u001b[39m\u001b[38;5;124m\"\u001b[39m\u001b[38;5;124mLength of passed value for \u001b[39m\u001b[38;5;132;01m{\u001b[39;00mattr\u001b[38;5;132;01m}\u001b[39;00m\u001b[38;5;124m_names is \u001b[39m\u001b[38;5;132;01m{\u001b[39;00m\u001b[38;5;28mlen\u001b[39m(value)\u001b[38;5;132;01m}\u001b[39;00m\u001b[38;5;124m, but this AnnData has shape: \u001b[39m\u001b[38;5;132;01m{\u001b[39;00m\u001b[38;5;28mself\u001b[39m\u001b[38;5;241m.\u001b[39mshape\u001b[38;5;132;01m}\u001b[39;00m\u001b[38;5;124m\"\u001b[39m\n\u001b[1;32m    866\u001b[0m     )\n\u001b[1;32m    867\u001b[0m \u001b[38;5;28;01mif\u001b[39;00m \u001b[38;5;28misinstance\u001b[39m(value, pd\u001b[38;5;241m.\u001b[39mIndex) \u001b[38;5;129;01mand\u001b[39;00m \u001b[38;5;129;01mnot\u001b[39;00m \u001b[38;5;28misinstance\u001b[39m(\n\u001b[1;32m    868\u001b[0m     value\u001b[38;5;241m.\u001b[39mname, (\u001b[38;5;28mstr\u001b[39m, \u001b[38;5;28mtype\u001b[39m(\u001b[38;5;28;01mNone\u001b[39;00m))\n\u001b[1;32m    869\u001b[0m ):\n\u001b[1;32m    870\u001b[0m     \u001b[38;5;28;01mraise\u001b[39;00m \u001b[38;5;167;01mValueError\u001b[39;00m(\n\u001b[1;32m    871\u001b[0m         \u001b[38;5;124mf\u001b[39m\u001b[38;5;124m\"\u001b[39m\u001b[38;5;124mAnnData expects .\u001b[39m\u001b[38;5;132;01m{\u001b[39;00mattr\u001b[38;5;132;01m}\u001b[39;00m\u001b[38;5;124m.index.name to be a string or None, \u001b[39m\u001b[38;5;124m\"\u001b[39m\n\u001b[1;32m    872\u001b[0m         \u001b[38;5;124mf\u001b[39m\u001b[38;5;124m\"\u001b[39m\u001b[38;5;124mbut you passed a name of type \u001b[39m\u001b[38;5;132;01m{\u001b[39;00m\u001b[38;5;28mtype\u001b[39m(value\u001b[38;5;241m.\u001b[39mname)\u001b[38;5;241m.\u001b[39m\u001b[38;5;18m__name__\u001b[39m\u001b[38;5;132;01m!r}\u001b[39;00m\u001b[38;5;124m\"\u001b[39m\n\u001b[1;32m    873\u001b[0m     )\n",
      "\u001b[0;31mValueError\u001b[0m: Length of passed value for obs_names is 144689, but this AnnData has shape: (135836, 32287)"
     ]
    }
   ],
   "source": [
    "# SUMTINGWONG here\n",
    "cdata = merge_data('invivo')"
   ]
  },
  {
   "cell_type": "code",
   "execution_count": 49,
   "id": "dd179855-d5e4-4571-8e69-e583adec26e5",
   "metadata": {
    "tags": []
   },
   "outputs": [
    {
     "name": "stderr",
     "output_type": "stream",
     "text": [
      "100%|██████████| 12/12 [00:23<00:00,  1.92s/it]\n"
     ]
    },
    {
     "ename": "ValueError",
     "evalue": "Length of passed value for obs_names is 144689, but this AnnData has shape: (135836, 32287)",
     "output_type": "error",
     "traceback": [
      "\u001b[0;31m---------------------------------------------------------------------------\u001b[0m",
      "\u001b[0;31mValueError\u001b[0m                                Traceback (most recent call last)",
      "Cell \u001b[0;32mIn[49], line 15\u001b[0m\n\u001b[1;32m     13\u001b[0m annot\u001b[38;5;241m.\u001b[39mindex \u001b[38;5;241m=\u001b[39m [\u001b[38;5;124mf\u001b[39m\u001b[38;5;124m'\u001b[39m\u001b[38;5;132;01m{\u001b[39;00mx\u001b[38;5;241m.\u001b[39msplit(\u001b[38;5;124m\"\u001b[39m\u001b[38;5;124m-\u001b[39m\u001b[38;5;124m\"\u001b[39m)[\u001b[38;5;241m0\u001b[39m]\u001b[38;5;132;01m}\u001b[39;00m\u001b[38;5;124m-\u001b[39m\u001b[38;5;132;01m{\u001b[39;00msample\u001b[38;5;132;01m}\u001b[39;00m\u001b[38;5;124m'\u001b[39m \u001b[38;5;28;01mfor\u001b[39;00m x, sample \u001b[38;5;129;01min\u001b[39;00m \u001b[38;5;28mzip\u001b[39m(annot\u001b[38;5;241m.\u001b[39mindex, annot\u001b[38;5;241m.\u001b[39mSample)]\n\u001b[1;32m     14\u001b[0m \u001b[38;5;66;03m# merge annotation\u001b[39;00m\n\u001b[0;32m---> 15\u001b[0m \u001b[43madata\u001b[49m\u001b[38;5;241;43m.\u001b[39;49m\u001b[43mobs\u001b[49m \u001b[38;5;241m=\u001b[39m pd\u001b[38;5;241m.\u001b[39mconcat([adata\u001b[38;5;241m.\u001b[39mobs, annot], axis\u001b[38;5;241m=\u001b[39m\u001b[38;5;241m1\u001b[39m)\n",
      "File \u001b[0;32m/opt/conda/lib/python3.10/site-packages/anndata/_core/anndata.py:913\u001b[0m, in \u001b[0;36mAnnData.obs\u001b[0;34m(self, value)\u001b[0m\n\u001b[1;32m    911\u001b[0m \u001b[38;5;129m@obs\u001b[39m\u001b[38;5;241m.\u001b[39msetter\n\u001b[1;32m    912\u001b[0m \u001b[38;5;28;01mdef\u001b[39;00m \u001b[38;5;21mobs\u001b[39m(\u001b[38;5;28mself\u001b[39m, value: pd\u001b[38;5;241m.\u001b[39mDataFrame):\n\u001b[0;32m--> 913\u001b[0m     \u001b[38;5;28;43mself\u001b[39;49m\u001b[38;5;241;43m.\u001b[39;49m\u001b[43m_set_dim_df\u001b[49m\u001b[43m(\u001b[49m\u001b[43mvalue\u001b[49m\u001b[43m,\u001b[49m\u001b[43m \u001b[49m\u001b[38;5;124;43m\"\u001b[39;49m\u001b[38;5;124;43mobs\u001b[39;49m\u001b[38;5;124;43m\"\u001b[39;49m\u001b[43m)\u001b[49m\n",
      "File \u001b[0;32m/opt/conda/lib/python3.10/site-packages/anndata/_core/anndata.py:850\u001b[0m, in \u001b[0;36mAnnData._set_dim_df\u001b[0;34m(self, value, attr)\u001b[0m\n\u001b[1;32m    848\u001b[0m \u001b[38;5;28;01mif\u001b[39;00m \u001b[38;5;129;01mnot\u001b[39;00m \u001b[38;5;28misinstance\u001b[39m(value, pd\u001b[38;5;241m.\u001b[39mDataFrame):\n\u001b[1;32m    849\u001b[0m     \u001b[38;5;28;01mraise\u001b[39;00m \u001b[38;5;167;01mValueError\u001b[39;00m(\u001b[38;5;124mf\u001b[39m\u001b[38;5;124m\"\u001b[39m\u001b[38;5;124mCan only assign pd.DataFrame to \u001b[39m\u001b[38;5;132;01m{\u001b[39;00mattr\u001b[38;5;132;01m}\u001b[39;00m\u001b[38;5;124m.\u001b[39m\u001b[38;5;124m\"\u001b[39m)\n\u001b[0;32m--> 850\u001b[0m value_idx \u001b[38;5;241m=\u001b[39m \u001b[38;5;28;43mself\u001b[39;49m\u001b[38;5;241;43m.\u001b[39;49m\u001b[43m_prep_dim_index\u001b[49m\u001b[43m(\u001b[49m\u001b[43mvalue\u001b[49m\u001b[38;5;241;43m.\u001b[39;49m\u001b[43mindex\u001b[49m\u001b[43m,\u001b[49m\u001b[43m \u001b[49m\u001b[43mattr\u001b[49m\u001b[43m)\u001b[49m\n\u001b[1;32m    851\u001b[0m \u001b[38;5;28;01mif\u001b[39;00m \u001b[38;5;28mself\u001b[39m\u001b[38;5;241m.\u001b[39mis_view:\n\u001b[1;32m    852\u001b[0m     \u001b[38;5;28mself\u001b[39m\u001b[38;5;241m.\u001b[39m_init_as_actual(\u001b[38;5;28mself\u001b[39m\u001b[38;5;241m.\u001b[39mcopy())\n",
      "File \u001b[0;32m/opt/conda/lib/python3.10/site-packages/anndata/_core/anndata.py:864\u001b[0m, in \u001b[0;36mAnnData._prep_dim_index\u001b[0;34m(self, value, attr)\u001b[0m\n\u001b[1;32m    859\u001b[0m \u001b[38;5;250m\u001b[39m\u001b[38;5;124;03m\"\"\"Prepares index to be uses as obs_names or var_names for AnnData object.AssertionError\u001b[39;00m\n\u001b[1;32m    860\u001b[0m \n\u001b[1;32m    861\u001b[0m \u001b[38;5;124;03mIf a pd.Index is passed, this will use a reference, otherwise a new index object is created.\u001b[39;00m\n\u001b[1;32m    862\u001b[0m \u001b[38;5;124;03m\"\"\"\u001b[39;00m\n\u001b[1;32m    863\u001b[0m \u001b[38;5;28;01mif\u001b[39;00m \u001b[38;5;28mself\u001b[39m\u001b[38;5;241m.\u001b[39mshape[attr \u001b[38;5;241m==\u001b[39m \u001b[38;5;124m\"\u001b[39m\u001b[38;5;124mvar\u001b[39m\u001b[38;5;124m\"\u001b[39m] \u001b[38;5;241m!=\u001b[39m \u001b[38;5;28mlen\u001b[39m(value):\n\u001b[0;32m--> 864\u001b[0m     \u001b[38;5;28;01mraise\u001b[39;00m \u001b[38;5;167;01mValueError\u001b[39;00m(\n\u001b[1;32m    865\u001b[0m         \u001b[38;5;124mf\u001b[39m\u001b[38;5;124m\"\u001b[39m\u001b[38;5;124mLength of passed value for \u001b[39m\u001b[38;5;132;01m{\u001b[39;00mattr\u001b[38;5;132;01m}\u001b[39;00m\u001b[38;5;124m_names is \u001b[39m\u001b[38;5;132;01m{\u001b[39;00m\u001b[38;5;28mlen\u001b[39m(value)\u001b[38;5;132;01m}\u001b[39;00m\u001b[38;5;124m, but this AnnData has shape: \u001b[39m\u001b[38;5;132;01m{\u001b[39;00m\u001b[38;5;28mself\u001b[39m\u001b[38;5;241m.\u001b[39mshape\u001b[38;5;132;01m}\u001b[39;00m\u001b[38;5;124m\"\u001b[39m\n\u001b[1;32m    866\u001b[0m     )\n\u001b[1;32m    867\u001b[0m \u001b[38;5;28;01mif\u001b[39;00m \u001b[38;5;28misinstance\u001b[39m(value, pd\u001b[38;5;241m.\u001b[39mIndex) \u001b[38;5;129;01mand\u001b[39;00m \u001b[38;5;129;01mnot\u001b[39;00m \u001b[38;5;28misinstance\u001b[39m(\n\u001b[1;32m    868\u001b[0m     value\u001b[38;5;241m.\u001b[39mname, (\u001b[38;5;28mstr\u001b[39m, \u001b[38;5;28mtype\u001b[39m(\u001b[38;5;28;01mNone\u001b[39;00m))\n\u001b[1;32m    869\u001b[0m ):\n\u001b[1;32m    870\u001b[0m     \u001b[38;5;28;01mraise\u001b[39;00m \u001b[38;5;167;01mValueError\u001b[39;00m(\n\u001b[1;32m    871\u001b[0m         \u001b[38;5;124mf\u001b[39m\u001b[38;5;124m\"\u001b[39m\u001b[38;5;124mAnnData expects .\u001b[39m\u001b[38;5;132;01m{\u001b[39;00mattr\u001b[38;5;132;01m}\u001b[39;00m\u001b[38;5;124m.index.name to be a string or None, \u001b[39m\u001b[38;5;124m\"\u001b[39m\n\u001b[1;32m    872\u001b[0m         \u001b[38;5;124mf\u001b[39m\u001b[38;5;124m\"\u001b[39m\u001b[38;5;124mbut you passed a name of type \u001b[39m\u001b[38;5;132;01m{\u001b[39;00m\u001b[38;5;28mtype\u001b[39m(value\u001b[38;5;241m.\u001b[39mname)\u001b[38;5;241m.\u001b[39m\u001b[38;5;18m__name__\u001b[39m\u001b[38;5;132;01m!r}\u001b[39;00m\u001b[38;5;124m\"\u001b[39m\n\u001b[1;32m    873\u001b[0m     )\n",
      "\u001b[0;31mValueError\u001b[0m: Length of passed value for obs_names is 144689, but this AnnData has shape: (135836, 32287)"
     ]
    }
   ],
   "source": [
    "key = 'invivo'\n",
    "identifier = sample_dict[key]\n",
    "files_ = [x for x in files if f'_{identifier}_' in x]\n",
    "annot = pd.read_csv(TEMPDIR / 'LaraAstiasoHuntly2023' / f'GSE213511_CellAnnotation_{key}.tsv.gz', sep='\\t', index_col=0)\n",
    "adatas = {}\n",
    "for file in tqdm(files_):\n",
    "    tempdata = sc.read_10x_h5(TEMPDIR / 'LaraAstiasoHuntly2023' / file)\n",
    "    tempdata.var_names_make_unique()\n",
    "    adatas[file.replace('GSE213511_', '').replace('.h5', '')] = tempdata\n",
    "adata = sc.concat(adatas, label='Sample', index_unique='-')\n",
    "# make indiced unique\n",
    "adata.obs.index = [x.replace('-1-', '-') for x in adata.obs.index]\n",
    "annot.index = [f'{x.split(\"-\")[0]}-{sample}' for x, sample in zip(annot.index, annot.Sample)]\n",
    "# merge annotation\n",
    "adata.obs = pd.concat([adata.obs, annot], axis=1)"
   ]
  },
  {
   "cell_type": "code",
   "execution_count": 54,
   "id": "ee372940-0547-4872-9b9d-f3644a1fa527",
   "metadata": {
    "tags": []
   },
   "outputs": [],
   "source": [
    "s = [x in adata.obs.index for x in annot.index]"
   ]
  },
  {
   "cell_type": "code",
   "execution_count": 55,
   "id": "15a1ab5a-4909-4a0a-b43c-2d136b35c861",
   "metadata": {
    "tags": []
   },
   "outputs": [
    {
     "data": {
      "text/plain": [
       "(77753, 86606)"
      ]
     },
     "execution_count": 55,
     "metadata": {},
     "output_type": "execute_result"
    }
   ],
   "source": [
    "np.sum(s), len(annot)"
   ]
  },
  {
   "cell_type": "code",
   "execution_count": 62,
   "id": "222c8d63-e66b-45b8-926f-c3ce70bd6ae2",
   "metadata": {
    "tags": []
   },
   "outputs": [
    {
     "data": {
      "text/plain": [
       "['inVivo_OP2_Lin-_28d_1', 'inVivo_OP3_Lin-_28d_1']"
      ]
     },
     "execution_count": 62,
     "metadata": {},
     "output_type": "execute_result"
    }
   ],
   "source": [
    "list(annot[~np.array(s)].Sample.unique())"
   ]
  },
  {
   "cell_type": "code",
   "execution_count": 61,
   "id": "1eab1775-acdc-4e9e-988a-20332d534ce9",
   "metadata": {
    "tags": []
   },
   "outputs": [
    {
     "data": {
      "text/plain": [
       "['inVivo_OP3_ckit_14d_1',\n",
       " 'inVivo_OP4_lin-_14d_1',\n",
       " 'inVivo_OP2_ckit_14d_1',\n",
       " 'inVivo_NTC_lin-andckit_14d_1',\n",
       " 'inVivo_OP3_lin-_14d_1',\n",
       " 'inVivo_OP1_lin-_28d_1',\n",
       " 'inVivo_OP4_ckit_14d_1',\n",
       " 'inVivo_OP1_lin-_28d_2',\n",
       " 'inVivo_OP1_ckit_14d_1',\n",
       " 'inVivo_OP1_lin-_14d_2',\n",
       " 'inVivo_OP2_lin-_14d_1',\n",
       " 'inVivo_OP1_lin-_14d_1']"
      ]
     },
     "execution_count": 61,
     "metadata": {},
     "output_type": "execute_result"
    }
   ],
   "source": [
    "# this is missing two samples????\n",
    "list(adata.obs.Sample.unique())"
   ]
  },
  {
   "cell_type": "code",
   "execution_count": 45,
   "id": "b9896545-6122-46a1-91cd-84a202eb27e6",
   "metadata": {
    "tags": []
   },
   "outputs": [
    {
     "name": "stderr",
     "output_type": "stream",
     "text": [
      "100%|██████████| 9/9 [00:32<00:00,  3.57s/it]\n"
     ]
    }
   ],
   "source": [
    "edata = merge_data('exvivo')"
   ]
  },
  {
   "cell_type": "code",
   "execution_count": 47,
   "id": "2a94b7d3-c164-4fc4-b7d3-13a6ff229a5c",
   "metadata": {
    "tags": []
   },
   "outputs": [
    {
     "data": {
      "text/html": [
       "<div>\n",
       "<style scoped>\n",
       "    .dataframe tbody tr th:only-of-type {\n",
       "        vertical-align: middle;\n",
       "    }\n",
       "\n",
       "    .dataframe tbody tr th {\n",
       "        vertical-align: top;\n",
       "    }\n",
       "\n",
       "    .dataframe thead th {\n",
       "        text-align: right;\n",
       "    }\n",
       "</style>\n",
       "<table border=\"1\" class=\"dataframe\">\n",
       "  <thead>\n",
       "    <tr style=\"text-align: right;\">\n",
       "      <th></th>\n",
       "      <th>Sample</th>\n",
       "      <th>Phase</th>\n",
       "      <th>Guide</th>\n",
       "      <th>mixscape</th>\n",
       "      <th>Timepoint</th>\n",
       "      <th>Sample</th>\n",
       "      <th>UMAP1</th>\n",
       "      <th>UMAP2</th>\n",
       "      <th>Clusters</th>\n",
       "    </tr>\n",
       "  </thead>\n",
       "  <tbody>\n",
       "    <tr>\n",
       "      <th>AAACCCAAGACCTCCG-LSK_OP1_NM_9d_1</th>\n",
       "      <td>LSK_OP1_NM_9d_1</td>\n",
       "      <td>G1</td>\n",
       "      <td>Rcor1_AS_21752</td>\n",
       "      <td>KO</td>\n",
       "      <td>9d</td>\n",
       "      <td>LSK_OP1_NM_9d_1</td>\n",
       "      <td>2.876267</td>\n",
       "      <td>0.598122</td>\n",
       "      <td>GMP</td>\n",
       "    </tr>\n",
       "    <tr>\n",
       "      <th>AAACCCAAGCTGGTGA-LSK_OP1_NM_9d_1</th>\n",
       "      <td>LSK_OP1_NM_9d_1</td>\n",
       "      <td>G1</td>\n",
       "      <td>NaN</td>\n",
       "      <td>NaN</td>\n",
       "      <td>9d</td>\n",
       "      <td>LSK_OP1_NM_9d_1</td>\n",
       "      <td>2.258468</td>\n",
       "      <td>-2.574814</td>\n",
       "      <td>GMP</td>\n",
       "    </tr>\n",
       "    <tr>\n",
       "      <th>AAACCCAAGCTTCGTA-LSK_OP1_NM_9d_1</th>\n",
       "      <td>LSK_OP1_NM_9d_1</td>\n",
       "      <td>S</td>\n",
       "      <td>Rbbp4_BR_14486</td>\n",
       "      <td>KO</td>\n",
       "      <td>9d</td>\n",
       "      <td>LSK_OP1_NM_9d_1</td>\n",
       "      <td>5.954404</td>\n",
       "      <td>2.318502</td>\n",
       "      <td>GMP (late)</td>\n",
       "    </tr>\n",
       "    <tr>\n",
       "      <th>AAACCCAAGTTTAGGA-LSK_OP1_NM_9d_1</th>\n",
       "      <td>LSK_OP1_NM_9d_1</td>\n",
       "      <td>G1</td>\n",
       "      <td>Mbd2_AS_41068</td>\n",
       "      <td>NP</td>\n",
       "      <td>9d</td>\n",
       "      <td>LSK_OP1_NM_9d_1</td>\n",
       "      <td>3.115234</td>\n",
       "      <td>1.101170</td>\n",
       "      <td>GMP</td>\n",
       "    </tr>\n",
       "    <tr>\n",
       "      <th>AAACCCACAGGTTCGC-LSK_OP1_NM_9d_1</th>\n",
       "      <td>LSK_OP1_NM_9d_1</td>\n",
       "      <td>G1</td>\n",
       "      <td>Mbd3_AS_41065</td>\n",
       "      <td>NP</td>\n",
       "      <td>9d</td>\n",
       "      <td>LSK_OP1_NM_9d_1</td>\n",
       "      <td>3.339583</td>\n",
       "      <td>0.542644</td>\n",
       "      <td>GMP</td>\n",
       "    </tr>\n",
       "    <tr>\n",
       "      <th>...</th>\n",
       "      <td>...</td>\n",
       "      <td>...</td>\n",
       "      <td>...</td>\n",
       "      <td>...</td>\n",
       "      <td>...</td>\n",
       "      <td>...</td>\n",
       "      <td>...</td>\n",
       "      <td>...</td>\n",
       "      <td>...</td>\n",
       "    </tr>\n",
       "    <tr>\n",
       "      <th>TTTGTTGGTGGTCTTA-LSK_OP0_NM_7d_1</th>\n",
       "      <td>LSK_OP0_NM_7d_1</td>\n",
       "      <td>S</td>\n",
       "      <td>NaN</td>\n",
       "      <td>NaN</td>\n",
       "      <td>7d</td>\n",
       "      <td>LSK_OP0_NM_7d_1</td>\n",
       "      <td>5.890830</td>\n",
       "      <td>0.523673</td>\n",
       "      <td>GMP (late)</td>\n",
       "    </tr>\n",
       "    <tr>\n",
       "      <th>TTTGTTGTCAGTCATG-LSK_OP0_NM_7d_1</th>\n",
       "      <td>LSK_OP0_NM_7d_1</td>\n",
       "      <td>G1</td>\n",
       "      <td>NaN</td>\n",
       "      <td>NaN</td>\n",
       "      <td>7d</td>\n",
       "      <td>LSK_OP0_NM_7d_1</td>\n",
       "      <td>1.998967</td>\n",
       "      <td>-1.380838</td>\n",
       "      <td>GMP</td>\n",
       "    </tr>\n",
       "    <tr>\n",
       "      <th>TTTGTTGTCCCGTTGT-LSK_OP0_NM_7d_1</th>\n",
       "      <td>LSK_OP0_NM_7d_1</td>\n",
       "      <td>G1</td>\n",
       "      <td>Smarcd1_AS_15166</td>\n",
       "      <td>NP</td>\n",
       "      <td>7d</td>\n",
       "      <td>LSK_OP0_NM_7d_1</td>\n",
       "      <td>-5.249389</td>\n",
       "      <td>1.900537</td>\n",
       "      <td>HSC</td>\n",
       "    </tr>\n",
       "    <tr>\n",
       "      <th>TTTGTTGTCGGAAGGT-LSK_OP0_NM_7d_1</th>\n",
       "      <td>LSK_OP0_NM_7d_1</td>\n",
       "      <td>G2M</td>\n",
       "      <td>Smarcd2_BR_45401</td>\n",
       "      <td>KO</td>\n",
       "      <td>7d</td>\n",
       "      <td>LSK_OP0_NM_7d_1</td>\n",
       "      <td>-2.424002</td>\n",
       "      <td>-0.357827</td>\n",
       "      <td>EBMP</td>\n",
       "    </tr>\n",
       "    <tr>\n",
       "      <th>TTTGTTGTCTTACCAT-LSK_OP0_NM_7d_1</th>\n",
       "      <td>LSK_OP0_NM_7d_1</td>\n",
       "      <td>G2M</td>\n",
       "      <td>NaN</td>\n",
       "      <td>NaN</td>\n",
       "      <td>7d</td>\n",
       "      <td>LSK_OP0_NM_7d_1</td>\n",
       "      <td>-5.043334</td>\n",
       "      <td>3.625108</td>\n",
       "      <td>HSC</td>\n",
       "    </tr>\n",
       "  </tbody>\n",
       "</table>\n",
       "<p>146793 rows × 9 columns</p>\n",
       "</div>"
      ],
      "text/plain": [
       "                                           Sample Phase             Guide  \\\n",
       "AAACCCAAGACCTCCG-LSK_OP1_NM_9d_1  LSK_OP1_NM_9d_1    G1    Rcor1_AS_21752   \n",
       "AAACCCAAGCTGGTGA-LSK_OP1_NM_9d_1  LSK_OP1_NM_9d_1    G1               NaN   \n",
       "AAACCCAAGCTTCGTA-LSK_OP1_NM_9d_1  LSK_OP1_NM_9d_1     S    Rbbp4_BR_14486   \n",
       "AAACCCAAGTTTAGGA-LSK_OP1_NM_9d_1  LSK_OP1_NM_9d_1    G1     Mbd2_AS_41068   \n",
       "AAACCCACAGGTTCGC-LSK_OP1_NM_9d_1  LSK_OP1_NM_9d_1    G1     Mbd3_AS_41065   \n",
       "...                                           ...   ...               ...   \n",
       "TTTGTTGGTGGTCTTA-LSK_OP0_NM_7d_1  LSK_OP0_NM_7d_1     S               NaN   \n",
       "TTTGTTGTCAGTCATG-LSK_OP0_NM_7d_1  LSK_OP0_NM_7d_1    G1               NaN   \n",
       "TTTGTTGTCCCGTTGT-LSK_OP0_NM_7d_1  LSK_OP0_NM_7d_1    G1  Smarcd1_AS_15166   \n",
       "TTTGTTGTCGGAAGGT-LSK_OP0_NM_7d_1  LSK_OP0_NM_7d_1   G2M  Smarcd2_BR_45401   \n",
       "TTTGTTGTCTTACCAT-LSK_OP0_NM_7d_1  LSK_OP0_NM_7d_1   G2M               NaN   \n",
       "\n",
       "                                 mixscape Timepoint           Sample  \\\n",
       "AAACCCAAGACCTCCG-LSK_OP1_NM_9d_1       KO        9d  LSK_OP1_NM_9d_1   \n",
       "AAACCCAAGCTGGTGA-LSK_OP1_NM_9d_1      NaN        9d  LSK_OP1_NM_9d_1   \n",
       "AAACCCAAGCTTCGTA-LSK_OP1_NM_9d_1       KO        9d  LSK_OP1_NM_9d_1   \n",
       "AAACCCAAGTTTAGGA-LSK_OP1_NM_9d_1       NP        9d  LSK_OP1_NM_9d_1   \n",
       "AAACCCACAGGTTCGC-LSK_OP1_NM_9d_1       NP        9d  LSK_OP1_NM_9d_1   \n",
       "...                                   ...       ...              ...   \n",
       "TTTGTTGGTGGTCTTA-LSK_OP0_NM_7d_1      NaN        7d  LSK_OP0_NM_7d_1   \n",
       "TTTGTTGTCAGTCATG-LSK_OP0_NM_7d_1      NaN        7d  LSK_OP0_NM_7d_1   \n",
       "TTTGTTGTCCCGTTGT-LSK_OP0_NM_7d_1       NP        7d  LSK_OP0_NM_7d_1   \n",
       "TTTGTTGTCGGAAGGT-LSK_OP0_NM_7d_1       KO        7d  LSK_OP0_NM_7d_1   \n",
       "TTTGTTGTCTTACCAT-LSK_OP0_NM_7d_1      NaN        7d  LSK_OP0_NM_7d_1   \n",
       "\n",
       "                                     UMAP1     UMAP2    Clusters  \n",
       "AAACCCAAGACCTCCG-LSK_OP1_NM_9d_1  2.876267  0.598122         GMP  \n",
       "AAACCCAAGCTGGTGA-LSK_OP1_NM_9d_1  2.258468 -2.574814         GMP  \n",
       "AAACCCAAGCTTCGTA-LSK_OP1_NM_9d_1  5.954404  2.318502  GMP (late)  \n",
       "AAACCCAAGTTTAGGA-LSK_OP1_NM_9d_1  3.115234  1.101170         GMP  \n",
       "AAACCCACAGGTTCGC-LSK_OP1_NM_9d_1  3.339583  0.542644         GMP  \n",
       "...                                    ...       ...         ...  \n",
       "TTTGTTGGTGGTCTTA-LSK_OP0_NM_7d_1  5.890830  0.523673  GMP (late)  \n",
       "TTTGTTGTCAGTCATG-LSK_OP0_NM_7d_1  1.998967 -1.380838         GMP  \n",
       "TTTGTTGTCCCGTTGT-LSK_OP0_NM_7d_1 -5.249389  1.900537         HSC  \n",
       "TTTGTTGTCGGAAGGT-LSK_OP0_NM_7d_1 -2.424002 -0.357827        EBMP  \n",
       "TTTGTTGTCTTACCAT-LSK_OP0_NM_7d_1 -5.043334  3.625108         HSC  \n",
       "\n",
       "[146793 rows x 9 columns]"
      ]
     },
     "execution_count": 47,
     "metadata": {},
     "output_type": "execute_result"
    }
   ],
   "source": [
    "edata.obs"
   ]
  },
  {
   "cell_type": "code",
   "execution_count": null,
   "id": "3b2e8f3b-c0f4-446d-8eed-b7c846bad958",
   "metadata": {},
   "outputs": [],
   "source": []
  }
 ],
 "metadata": {
  "kernelspec": {
   "display_name": "Python 3 (ipykernel)",
   "language": "python",
   "name": "python3"
  },
  "language_info": {
   "codemirror_mode": {
    "name": "ipython",
    "version": 3
   },
   "file_extension": ".py",
   "mimetype": "text/x-python",
   "name": "python",
   "nbconvert_exporter": "python",
   "pygments_lexer": "ipython3",
   "version": "3.10.9"
  }
 },
 "nbformat": 4,
 "nbformat_minor": 5
}
