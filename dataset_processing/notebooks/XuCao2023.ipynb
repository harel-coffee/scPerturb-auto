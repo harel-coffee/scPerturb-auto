{
 "cells": [
  {
   "cell_type": "code",
   "execution_count": 7,
   "id": "42e4f1f7-ca45-421c-9277-0da0a44e1b8a",
   "metadata": {
    "tags": []
   },
   "outputs": [],
   "source": [
    "!pip install chembl_webresource_client scanpy scperturb --quiet"
   ]
  },
  {
   "cell_type": "code",
   "execution_count": 8,
   "id": "22ba1923",
   "metadata": {
    "ExecuteTime": {
     "end_time": "2023-03-28T15:10:48.175585Z",
     "start_time": "2023-03-28T15:10:39.381132Z"
    },
    "tags": []
   },
   "outputs": [],
   "source": [
    "import numpy as np\n",
    "import pandas as pd\n",
    "import scanpy as sc\n",
    "import matplotlib.pyplot as pl\n",
    "import seaborn as sns\n",
    "import os\n",
    "import sys\n",
    "from tqdm.auto import tqdm\n",
    "from pathlib import Path"
   ]
  },
  {
   "cell_type": "code",
   "execution_count": 10,
   "id": "fbb70c63",
   "metadata": {
    "ExecuteTime": {
     "end_time": "2023-03-28T15:10:48.180652Z",
     "start_time": "2023-03-28T15:10:48.178058Z"
    },
    "tags": []
   },
   "outputs": [],
   "source": [
    "# load config\n",
    "import yaml\n",
    "with open('../../configuration/config.yaml', 'r') as file:\n",
    "    config = yaml.safe_load(file)\n",
    "DOWNDIR = Path(config['DOWNDIR'])\n",
    "TEMPDIR = Path(config['TEMPDIR'])\n",
    "sys.path.insert(1, '../../')\n",
    "from utils import *"
   ]
  },
  {
   "cell_type": "code",
   "execution_count": 11,
   "id": "90c6400a",
   "metadata": {
    "ExecuteTime": {
     "end_time": "2023-03-28T15:10:48.197086Z",
     "start_time": "2023-03-28T15:10:48.182496Z"
    },
    "tags": []
   },
   "outputs": [
    {
     "data": {
      "text/plain": [
       "['GSM6752591_on_target_cell_metadata.csv.gz',\n",
       " 'GSM6752591_on_target_nascent_tx.Barcodes.tsv.gz',\n",
       " 'GSM6752591_on_target_nascent_tx.Genes.tsv.gz',\n",
       " 'GSM6752591_on_target_nascent_tx_count_matrix.mtx.gz',\n",
       " 'GSM6752591_on_target_sgRNA.Barcodes.tsv.gz',\n",
       " 'GSM6752591_on_target_sgRNA.Genes.tsv.gz',\n",
       " 'GSM6752591_on_target_sgRNA_count_matrix.mtx.gz',\n",
       " 'GSM6752591_on_target_whole_tx.Barcodes.tsv.gz',\n",
       " 'GSM6752591_on_target_whole_tx.Genes.tsv.gz',\n",
       " 'GSM6752591_on_target_whole_tx_count_matrix.mtx.gz',\n",
       " 'GSM6752591_whole_txome_sgRNA_sample_name_barcode_table.csv.gz']"
      ]
     },
     "execution_count": 11,
     "metadata": {},
     "output_type": "execute_result"
    }
   ],
   "source": [
    "sorted([file.name for file in (TEMPDIR / 'XuCao2023').glob('*')])"
   ]
  },
  {
   "cell_type": "code",
   "execution_count": 29,
   "id": "3e993495-f46c-4833-9c3e-ed6fa1a4bd55",
   "metadata": {
    "tags": []
   },
   "outputs": [],
   "source": [
    "from scipy.io import mmread\n",
    "from scipy.sparse import csr_matrix"
   ]
  },
  {
   "cell_type": "code",
   "execution_count": 51,
   "id": "b846a626-0e45-4e83-9318-c9a9233b0dcc",
   "metadata": {
    "tags": []
   },
   "outputs": [],
   "source": [
    "suffix = 'whole_tx'\n",
    "X = csr_matrix(mmread(TEMPDIR / 'XuCao2023' / f'GSM6752591_on_target_{suffix}_count_matrix.mtx.gz'))\n",
    "obs = pd.read_csv(TEMPDIR / 'XuCao2023' / f'GSM6752591_on_target_{suffix}.Barcodes.tsv.gz', index_col=0, names=['cell_barcode'])\n",
    "var = pd.read_csv(TEMPDIR / 'XuCao2023' / f'GSM6752591_on_target_{suffix}.Genes.tsv.gz', index_col=0, names=['gene_symbol'])\n",
    "adata = sc.AnnData(X.T, obs, var)"
   ]
  },
  {
   "cell_type": "code",
   "execution_count": 46,
   "id": "162fa4a4-0552-4a9a-b4e9-afbd4aac7540",
   "metadata": {
    "tags": []
   },
   "outputs": [],
   "source": [
    "suffix = 'nascent_tx'\n",
    "X = csr_matrix(mmread(TEMPDIR / 'XuCao2023' / f'GSM6752591_on_target_{suffix}_count_matrix.mtx.gz'))\n",
    "obs = pd.read_csv(TEMPDIR / 'XuCao2023' / f'GSM6752591_on_target_{suffix}.Barcodes.tsv.gz', index_col=0, names=['cell_barcode'])\n",
    "var = pd.read_csv(TEMPDIR / 'XuCao2023' / f'GSM6752591_on_target_{suffix}.Genes.tsv.gz', index_col=0, names=['gene_symbol'])\n",
    "ndata = sc.AnnData(X.T, obs, var)"
   ]
  },
  {
   "cell_type": "code",
   "execution_count": 47,
   "id": "cd9e1fb1-c161-4af1-91b7-052209dec954",
   "metadata": {
    "tags": []
   },
   "outputs": [],
   "source": [
    "suffix = 'sgRNA'\n",
    "X = csr_matrix(mmread(TEMPDIR / 'XuCao2023' / f'GSM6752591_on_target_{suffix}_count_matrix.mtx.gz'))\n",
    "obs = pd.read_csv(TEMPDIR / 'XuCao2023' / f'GSM6752591_on_target_{suffix}.Barcodes.tsv.gz', index_col=0, names=['cell_barcode'])\n",
    "var = pd.read_csv(TEMPDIR / 'XuCao2023' / f'GSM6752591_on_target_{suffix}.Genes.tsv.gz', index_col=0, names=['gene_symbol'])\n",
    "sdata = sc.AnnData(X.T, obs, var)"
   ]
  },
  {
   "cell_type": "code",
   "execution_count": 93,
   "id": "9454327a-30a1-41ba-b199-727232ed3e3c",
   "metadata": {
    "tags": []
   },
   "outputs": [],
   "source": [
    "# check alignment\n",
    "assert all(adata.var_names==ndata.var_names)\n",
    "assert all(adata.obs_names==ndata.obs_names)\n",
    "assert all(adata.obs_names==sdata.obs_names)"
   ]
  },
  {
   "cell_type": "code",
   "execution_count": 96,
   "id": "8a35e0d3-3460-40cf-8ada-8b1e3032fe3a",
   "metadata": {
    "tags": []
   },
   "outputs": [],
   "source": [
    "adata.layers['nascent_counts'] = ndata.X.copy()\n",
    "adata.obsm['sgRNA_counts'] = pd.DataFrame(sdata.X.A, index=sdata.obs_names, columns=sdata.var_names, dtype=pd.SparseDtype(\"int\", 0))\n",
    "full_obs = pd.read_csv(TEMPDIR / 'XuCao2023' / f'GSM6752591_on_target_cell_metadata.csv.gz', index_col=0)\n",
    "assert all(adata.obs_names==full_obs.index)\n",
    "adata.obs = full_obs.copy()"
   ]
  },
  {
   "cell_type": "code",
   "execution_count": 97,
   "id": "c5e010f4-39a2-4c08-a6a5-d3085689b641",
   "metadata": {
    "tags": []
   },
   "outputs": [],
   "source": [
    "# harmonize metadata\n",
    "adata.obs.rename({'UMI_counts': 'ncounts', 'target_genes': 'perturbation', 'target': 'guide_id'}, axis=1, inplace=True)\n",
    "adata.obs.perturbation.replace('NO-TARGET', 'control', inplace=True)\n",
    "cols = ['perturbation', 'ncounts', 'nascent_UMI_counts', 'nascent_ratio', 'guide_id', 'gRNA_UMI_counts', 'nascent_MT_ratio', 'Cell_cycle_phase', 'whole_exon_ratio', 'new_exon_ratio']\n",
    "adata.obs = adata.obs[cols]\n",
    "adata.obs['target'] = adata.obs['perturbation'].copy()\n",
    "\n",
    "adata.obs['perturbation_type'] = 'CRISPRi'\n",
    "adata.obs['disease'] = \"healthy\"\n",
    "adata.obs['cancer'] = True\n",
    "adata.obs['tissue_type']=\"cell_line\"\n",
    "adata.obs[\"cell_line\"] = \"HEK293\"\n",
    "adata.obs[\"celltype\"] = 'embryonic kidney cells'\n",
    "adata.obs['organism'] = 'human'\n",
    "adata.obs['nperts'] = [p.count('_')+1-p.count('control') if type(p)==str else 0 for p in adata.obs.perturbation]\n",
    "annotate_qc(adata, species='human')\n",
    "adata.obs.index.name = 'cell_barcode'"
   ]
  },
  {
   "cell_type": "code",
   "execution_count": 98,
   "id": "d8646377",
   "metadata": {
    "ExecuteTime": {
     "end_time": "2023-03-28T15:13:47.782711Z",
     "start_time": "2023-03-28T15:13:47.780194Z"
    },
    "tags": []
   },
   "outputs": [],
   "source": [
    "assert_annotations(adata)"
   ]
  },
  {
   "cell_type": "code",
   "execution_count": null,
   "id": "8816092e-d80b-4a25-bf8d-757ef2bfdd24",
   "metadata": {},
   "outputs": [],
   "source": []
  }
 ],
 "metadata": {
  "hide_input": false,
  "kernelspec": {
   "display_name": "Python 3 (ipykernel)",
   "language": "python",
   "name": "python3"
  },
  "language_info": {
   "codemirror_mode": {
    "name": "ipython",
    "version": 3
   },
   "file_extension": ".py",
   "mimetype": "text/x-python",
   "name": "python",
   "nbconvert_exporter": "python",
   "pygments_lexer": "ipython3",
   "version": "3.10.9"
  }
 },
 "nbformat": 4,
 "nbformat_minor": 5
}
