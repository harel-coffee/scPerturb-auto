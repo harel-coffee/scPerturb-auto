{
 "cells": [
  {
   "cell_type": "code",
   "execution_count": 1,
   "id": "dec74b5f-e9b3-41ed-8605-36275f9e9bad",
   "metadata": {
    "tags": []
   },
   "outputs": [
    {
     "name": "stdout",
     "output_type": "stream",
     "text": [
      "\u001b[31mERROR: pip's dependency resolver does not currently take into account all the packages that are installed. This behaviour is the source of the following dependency conflicts.\n",
      "pyopenssl 23.0.0 requires cryptography<40,>=38.0.0, but you have cryptography 41.0.7 which is incompatible.\u001b[0m\u001b[31m\n",
      "\u001b[0m"
     ]
    }
   ],
   "source": [
    "!pip install mygene statannotations scrublet scanpy scvelo decoupler matplotlib_venn goatools gseapy scperturb biomart PyComplexHeatmap statsmodels omnipath git+https://github.com/saezlab/pypath.git --quiet"
   ]
  },
  {
   "cell_type": "code",
   "execution_count": 2,
   "id": "933c7273-1dd1-401c-bf61-b5c1701cd0e5",
   "metadata": {
    "tags": []
   },
   "outputs": [
    {
     "name": "stderr",
     "output_type": "stream",
     "text": [
      "/tmp/ipykernel_60/1400239515.py:17: DeprecationWarning: Importing display from IPython.core.display is deprecated since IPython 7.14, please import from IPython display\n",
      "  from IPython.core.display import display, HTML\n"
     ]
    },
    {
     "data": {
      "text/html": [
       "<style>.container { width:95% !important; }</style>"
      ],
      "text/plain": [
       "<IPython.core.display.HTML object>"
      ]
     },
     "metadata": {},
     "output_type": "display_data"
    }
   ],
   "source": [
    "import subprocess\n",
    "import os\n",
    "import sys\n",
    "import matplotlib.backends.backend_pdf\n",
    "import scanpy as sc\n",
    "import matplotlib.pyplot as pl\n",
    "import anndata as ad\n",
    "import pandas as pd\n",
    "import numpy as np\n",
    "import seaborn as sns\n",
    "\n",
    "from pathlib import Path\n",
    "\n",
    "# Jupyter stuff\n",
    "from tqdm.notebook import tqdm\n",
    "from IPython.display import clear_output\n",
    "from IPython.core.display import display, HTML\n",
    "display(HTML(\"<style>.container { width:95% !important; }</style>\"))\n",
    "\n",
    "%matplotlib inline\n",
    "\n",
    "# Custom functions\n",
    "sys.path.insert(1, '../')\n",
    "from utils import *\n",
    "\n",
    "# scperturb package\n",
    "sys.path.insert(1, '../package/src/')\n",
    "from scperturb import *\n",
    "\n",
    "from pathlib import Path\n",
    "figure_path = Path('../figures/')"
   ]
  },
  {
   "cell_type": "code",
   "execution_count": 3,
   "id": "2c97036b-7600-403b-9095-41c3173bf110",
   "metadata": {
    "tags": []
   },
   "outputs": [],
   "source": [
    "TEMPDIR = Path('/scratch/peidli/scPerturb/')\n",
    "path = TEMPDIR / 'DixitRegev2016'"
   ]
  },
  {
   "cell_type": "markdown",
   "id": "1d539510-4b8e-4d73-842d-f5f59a29c671",
   "metadata": {
    "tags": []
   },
   "source": [
    "# Processing"
   ]
  },
  {
   "cell_type": "code",
   "execution_count": 4,
   "id": "a7a3bc06-ca8e-4c92-a2c5-92297a8fe00d",
   "metadata": {
    "tags": []
   },
   "outputs": [],
   "source": [
    "from scipy.sparse import csr_matrix\n",
    "from scipy.io import mmread"
   ]
  },
  {
   "cell_type": "code",
   "execution_count": 5,
   "id": "220a9dcb-95db-4216-a884-9a11ed3eba0e",
   "metadata": {
    "tags": []
   },
   "outputs": [],
   "source": [
    "name = 'GSM2396858_k562_tfs_7'\n",
    "\n",
    "time = 7 if name.endswith('7') else 3 if name.endswith('3') else None\n",
    "pert_key = 'grna' if time!=None else 'grna_strict'\n",
    "moi = 'normal' if time!=None else 'high'\n",
    "\n",
    "X = csr_matrix(mmread(TEMPDIR / 'DixitRegev2016' / f'{name}.mtx.txt'))\n",
    "adata = sc.AnnData(X.T)\n",
    "\n",
    "var = pd.read_csv(TEMPDIR / 'DixitRegev2016' / f'{name}_genenames.csv', index_col=0)\n",
    "splitted = np.array([x.split('_', 1) for x in var.values[:,0]])\n",
    "adata.var_names = splitted[:,1]\n",
    "adata.var['gene_id'] = splitted[:,0]\n",
    "adata.var_names_make_unique()\n",
    "\n",
    "obs = pd.read_csv(TEMPDIR / 'DixitRegev2016' / f'{name}_cellnames.csv', index_col=0)\n",
    "splitted = np.array([x.split('_', 2) for x in obs.values[:,0]])\n",
    "adata.obs_names = obs.values[:,0]\n",
    "adata.obs['identifier_0'] = splitted[:,1]\n",
    "adata.obs['identifier_1'] = splitted[:,2]\n",
    "\n",
    "# annotation:\n",
    "files = [TEMPDIR / 'DixitRegev2016' / f'{name}_cbc_gbc_dict.csv', TEMPDIR / 'DixitRegev2016' / f'{name}_cbc_gbc_dict_strict.csv', TEMPDIR / 'DixitRegev2016' / f'{name}_cbc_gbc_dict_lenient.csv']\n",
    "keys = ['grna', 'grna_strict', 'grna_lenient']\n",
    "for file, key in zip(files, keys):\n",
    "    if os.path.isfile(file):\n",
    "        cbc_gbc_dict = pd.read_csv(file, index_col=0, header=None)\n",
    "        adata.obs[key]=None\n",
    "        for grna in list(cbc_gbc_dict.index):\n",
    "            for barcode in cbc_gbc_dict.loc[grna][1].replace(' ','').split(','):\n",
    "                if barcode in adata.obs_names:\n",
    "                    val = adata.obs.loc[barcode][key]\n",
    "                    adata.obs.loc[barcode][key] = grna if val is None else val+' + '+grna\n",
    "\n",
    "adata.obs['target'] = [x.replace('p_sg', '').replace('p_', '').split('_')[0] if type(x)==str else None for x in adata.obs[pert_key]]\n",
    "adata.obs = adata.obs.rename({pert_key: 'perturbation'}, axis=1).drop(['identifier_1', 'identifier_0'], axis=1)\n",
    "adata.obs['moi'] = moi\n",
    "adata.obs['time'] = time*24  if time!=None else 'None'\n",
    "adata.obs['cell_line'] = 'K562'\n",
    "adata.obs['celltype'] = 'lymphoblasts'\n",
    "adata.obs['perturbation_type'] = 'CRISPR'\n",
    "adata.obs['cancer'] = True\n",
    "adata.obs['disease'] = 'myelogenous leukemia'\n",
    "adata.obs['library'] = name"
   ]
  },
  {
   "cell_type": "code",
   "execution_count": 6,
   "id": "f9ebcf53-6903-435f-9fc5-fe3d52a42790",
   "metadata": {
    "tags": []
   },
   "outputs": [
    {
     "data": {
      "text/plain": [
       "AnnData object with n_obs × n_vars = 33013 × 23111\n",
       "    obs: 'perturbation', 'target', 'moi', 'time', 'cell_line', 'celltype', 'perturbation_type', 'cancer', 'disease', 'library'\n",
       "    var: 'gene_id'"
      ]
     },
     "execution_count": 6,
     "metadata": {},
     "output_type": "execute_result"
    }
   ],
   "source": [
    "adata"
   ]
  },
  {
   "cell_type": "code",
   "execution_count": 7,
   "id": "a69f299a-5246-4939-a38a-d2efccf80ab1",
   "metadata": {
    "tags": []
   },
   "outputs": [
    {
     "data": {
      "text/html": [
       "<div>\n",
       "<style scoped>\n",
       "    .dataframe tbody tr th:only-of-type {\n",
       "        vertical-align: middle;\n",
       "    }\n",
       "\n",
       "    .dataframe tbody tr th {\n",
       "        vertical-align: top;\n",
       "    }\n",
       "\n",
       "    .dataframe thead th {\n",
       "        text-align: right;\n",
       "    }\n",
       "</style>\n",
       "<table border=\"1\" class=\"dataframe\">\n",
       "  <thead>\n",
       "    <tr style=\"text-align: right;\">\n",
       "      <th></th>\n",
       "      <th>perturbation</th>\n",
       "      <th>target</th>\n",
       "      <th>moi</th>\n",
       "      <th>time</th>\n",
       "      <th>cell_line</th>\n",
       "      <th>celltype</th>\n",
       "      <th>perturbation_type</th>\n",
       "      <th>cancer</th>\n",
       "      <th>disease</th>\n",
       "      <th>library</th>\n",
       "    </tr>\n",
       "  </thead>\n",
       "  <tbody>\n",
       "    <tr>\n",
       "      <th>AAACATACGCTACA_p7d_A1</th>\n",
       "      <td>p_sgELK1_1</td>\n",
       "      <td>ELK1</td>\n",
       "      <td>normal</td>\n",
       "      <td>168</td>\n",
       "      <td>K562</td>\n",
       "      <td>lymphoblasts</td>\n",
       "      <td>CRISPR</td>\n",
       "      <td>True</td>\n",
       "      <td>myelogenous leukemia</td>\n",
       "      <td>GSM2396858_k562_tfs_7</td>\n",
       "    </tr>\n",
       "    <tr>\n",
       "      <th>AAACATACTCCTGC_p7d_A1</th>\n",
       "      <td>p_sgELF1_2</td>\n",
       "      <td>ELF1</td>\n",
       "      <td>normal</td>\n",
       "      <td>168</td>\n",
       "      <td>K562</td>\n",
       "      <td>lymphoblasts</td>\n",
       "      <td>CRISPR</td>\n",
       "      <td>True</td>\n",
       "      <td>myelogenous leukemia</td>\n",
       "      <td>GSM2396858_k562_tfs_7</td>\n",
       "    </tr>\n",
       "    <tr>\n",
       "      <th>AAACATTGACGTTG_p7d_A1</th>\n",
       "      <td>p_sgELF1_5</td>\n",
       "      <td>ELF1</td>\n",
       "      <td>normal</td>\n",
       "      <td>168</td>\n",
       "      <td>K562</td>\n",
       "      <td>lymphoblasts</td>\n",
       "      <td>CRISPR</td>\n",
       "      <td>True</td>\n",
       "      <td>myelogenous leukemia</td>\n",
       "      <td>GSM2396858_k562_tfs_7</td>\n",
       "    </tr>\n",
       "    <tr>\n",
       "      <th>AAACATTGATTCGG_p7d_A1</th>\n",
       "      <td>p_sgELF1_2</td>\n",
       "      <td>ELF1</td>\n",
       "      <td>normal</td>\n",
       "      <td>168</td>\n",
       "      <td>K562</td>\n",
       "      <td>lymphoblasts</td>\n",
       "      <td>CRISPR</td>\n",
       "      <td>True</td>\n",
       "      <td>myelogenous leukemia</td>\n",
       "      <td>GSM2396858_k562_tfs_7</td>\n",
       "    </tr>\n",
       "    <tr>\n",
       "      <th>AAACATTGGAGCAG_p7d_A1</th>\n",
       "      <td>p_sgELK1_7</td>\n",
       "      <td>ELK1</td>\n",
       "      <td>normal</td>\n",
       "      <td>168</td>\n",
       "      <td>K562</td>\n",
       "      <td>lymphoblasts</td>\n",
       "      <td>CRISPR</td>\n",
       "      <td>True</td>\n",
       "      <td>myelogenous leukemia</td>\n",
       "      <td>GSM2396858_k562_tfs_7</td>\n",
       "    </tr>\n",
       "    <tr>\n",
       "      <th>...</th>\n",
       "      <td>...</td>\n",
       "      <td>...</td>\n",
       "      <td>...</td>\n",
       "      <td>...</td>\n",
       "      <td>...</td>\n",
       "      <td>...</td>\n",
       "      <td>...</td>\n",
       "      <td>...</td>\n",
       "      <td>...</td>\n",
       "      <td>...</td>\n",
       "    </tr>\n",
       "    <tr>\n",
       "      <th>TTTGACTGTGCGTA_p7d_C2</th>\n",
       "      <td>p_sgETS1_3</td>\n",
       "      <td>ETS1</td>\n",
       "      <td>normal</td>\n",
       "      <td>168</td>\n",
       "      <td>K562</td>\n",
       "      <td>lymphoblasts</td>\n",
       "      <td>CRISPR</td>\n",
       "      <td>True</td>\n",
       "      <td>myelogenous leukemia</td>\n",
       "      <td>GSM2396858_k562_tfs_7</td>\n",
       "    </tr>\n",
       "    <tr>\n",
       "      <th>TTTGCATGAGAGGC_p7d_C2</th>\n",
       "      <td>p_INTERGENIC216151</td>\n",
       "      <td>INTERGENIC216151</td>\n",
       "      <td>normal</td>\n",
       "      <td>168</td>\n",
       "      <td>K562</td>\n",
       "      <td>lymphoblasts</td>\n",
       "      <td>CRISPR</td>\n",
       "      <td>True</td>\n",
       "      <td>myelogenous leukemia</td>\n",
       "      <td>GSM2396858_k562_tfs_7</td>\n",
       "    </tr>\n",
       "    <tr>\n",
       "      <th>TTTGCATGAGCTAC_p7d_C2</th>\n",
       "      <td>p_INTERGENIC1216445</td>\n",
       "      <td>INTERGENIC1216445</td>\n",
       "      <td>normal</td>\n",
       "      <td>168</td>\n",
       "      <td>K562</td>\n",
       "      <td>lymphoblasts</td>\n",
       "      <td>CRISPR</td>\n",
       "      <td>True</td>\n",
       "      <td>myelogenous leukemia</td>\n",
       "      <td>GSM2396858_k562_tfs_7</td>\n",
       "    </tr>\n",
       "    <tr>\n",
       "      <th>TTTGCATGCCGCTT_p7d_C2</th>\n",
       "      <td>p_sgCREB1_4</td>\n",
       "      <td>CREB1</td>\n",
       "      <td>normal</td>\n",
       "      <td>168</td>\n",
       "      <td>K562</td>\n",
       "      <td>lymphoblasts</td>\n",
       "      <td>CRISPR</td>\n",
       "      <td>True</td>\n",
       "      <td>myelogenous leukemia</td>\n",
       "      <td>GSM2396858_k562_tfs_7</td>\n",
       "    </tr>\n",
       "    <tr>\n",
       "      <th>TTTGCATGCGTAGT_p7d_C2</th>\n",
       "      <td>p_sgETS1_5</td>\n",
       "      <td>ETS1</td>\n",
       "      <td>normal</td>\n",
       "      <td>168</td>\n",
       "      <td>K562</td>\n",
       "      <td>lymphoblasts</td>\n",
       "      <td>CRISPR</td>\n",
       "      <td>True</td>\n",
       "      <td>myelogenous leukemia</td>\n",
       "      <td>GSM2396858_k562_tfs_7</td>\n",
       "    </tr>\n",
       "  </tbody>\n",
       "</table>\n",
       "<p>33013 rows × 10 columns</p>\n",
       "</div>"
      ],
      "text/plain": [
       "                              perturbation             target     moi  time  \\\n",
       "AAACATACGCTACA_p7d_A1           p_sgELK1_1               ELK1  normal   168   \n",
       "AAACATACTCCTGC_p7d_A1           p_sgELF1_2               ELF1  normal   168   \n",
       "AAACATTGACGTTG_p7d_A1           p_sgELF1_5               ELF1  normal   168   \n",
       "AAACATTGATTCGG_p7d_A1           p_sgELF1_2               ELF1  normal   168   \n",
       "AAACATTGGAGCAG_p7d_A1           p_sgELK1_7               ELK1  normal   168   \n",
       "...                                    ...                ...     ...   ...   \n",
       "TTTGACTGTGCGTA_p7d_C2           p_sgETS1_3               ETS1  normal   168   \n",
       "TTTGCATGAGAGGC_p7d_C2   p_INTERGENIC216151   INTERGENIC216151  normal   168   \n",
       "TTTGCATGAGCTAC_p7d_C2  p_INTERGENIC1216445  INTERGENIC1216445  normal   168   \n",
       "TTTGCATGCCGCTT_p7d_C2          p_sgCREB1_4              CREB1  normal   168   \n",
       "TTTGCATGCGTAGT_p7d_C2           p_sgETS1_5               ETS1  normal   168   \n",
       "\n",
       "                      cell_line      celltype perturbation_type  cancer  \\\n",
       "AAACATACGCTACA_p7d_A1      K562  lymphoblasts            CRISPR    True   \n",
       "AAACATACTCCTGC_p7d_A1      K562  lymphoblasts            CRISPR    True   \n",
       "AAACATTGACGTTG_p7d_A1      K562  lymphoblasts            CRISPR    True   \n",
       "AAACATTGATTCGG_p7d_A1      K562  lymphoblasts            CRISPR    True   \n",
       "AAACATTGGAGCAG_p7d_A1      K562  lymphoblasts            CRISPR    True   \n",
       "...                         ...           ...               ...     ...   \n",
       "TTTGACTGTGCGTA_p7d_C2      K562  lymphoblasts            CRISPR    True   \n",
       "TTTGCATGAGAGGC_p7d_C2      K562  lymphoblasts            CRISPR    True   \n",
       "TTTGCATGAGCTAC_p7d_C2      K562  lymphoblasts            CRISPR    True   \n",
       "TTTGCATGCCGCTT_p7d_C2      K562  lymphoblasts            CRISPR    True   \n",
       "TTTGCATGCGTAGT_p7d_C2      K562  lymphoblasts            CRISPR    True   \n",
       "\n",
       "                                    disease                library  \n",
       "AAACATACGCTACA_p7d_A1  myelogenous leukemia  GSM2396858_k562_tfs_7  \n",
       "AAACATACTCCTGC_p7d_A1  myelogenous leukemia  GSM2396858_k562_tfs_7  \n",
       "AAACATTGACGTTG_p7d_A1  myelogenous leukemia  GSM2396858_k562_tfs_7  \n",
       "AAACATTGATTCGG_p7d_A1  myelogenous leukemia  GSM2396858_k562_tfs_7  \n",
       "AAACATTGGAGCAG_p7d_A1  myelogenous leukemia  GSM2396858_k562_tfs_7  \n",
       "...                                     ...                    ...  \n",
       "TTTGACTGTGCGTA_p7d_C2  myelogenous leukemia  GSM2396858_k562_tfs_7  \n",
       "TTTGCATGAGAGGC_p7d_C2  myelogenous leukemia  GSM2396858_k562_tfs_7  \n",
       "TTTGCATGAGCTAC_p7d_C2  myelogenous leukemia  GSM2396858_k562_tfs_7  \n",
       "TTTGCATGCCGCTT_p7d_C2  myelogenous leukemia  GSM2396858_k562_tfs_7  \n",
       "TTTGCATGCGTAGT_p7d_C2  myelogenous leukemia  GSM2396858_k562_tfs_7  \n",
       "\n",
       "[33013 rows x 10 columns]"
      ]
     },
     "execution_count": 7,
     "metadata": {},
     "output_type": "execute_result"
    }
   ],
   "source": [
    "adata.obs"
   ]
  },
  {
   "cell_type": "code",
   "execution_count": 9,
   "id": "84d662cd-97a0-41a2-906f-b4fab2a6ea0f",
   "metadata": {
    "tags": []
   },
   "outputs": [
    {
     "data": {
      "text/plain": [
       "array(['p_sgELK1_1', 'p_sgELF1_2', 'p_sgELF1_5', 'p_sgELK1_7',\n",
       "       'p_sgIRF1_2', 'p_sgETS1_5', None, 'p_INTERGENIC216151',\n",
       "       'p_sgEGR1_4', 'p_INTERGENIC393453', 'p_sgYY1_3', 'p_sgETS1_3',\n",
       "       'p_sgELK1_6', 'p_sgGABPA_1', 'p_sgE2F4_7', 'p_sgNR2C2_5',\n",
       "       'p_sgCREB1_2', 'p_INTERGENIC1216445', 'p_sgNR2C2_2', 'p_sgEGR1_3',\n",
       "       'p_sgCREB1_5', 'p_INTERGENIC1144056', 'p_sgELF1_1', 'p_sgIRF1_3',\n",
       "       'p_sgEGR1_2', 'p_sgYY1_10', 'p_sgGABPA_9', 'p_sgCREB1_4',\n",
       "       'p_sgNR2C2_3', 'p_sgE2F4_6', 'p_sgELF1_4'], dtype=object)"
      ]
     },
     "execution_count": 9,
     "metadata": {},
     "output_type": "execute_result"
    }
   ],
   "source": []
  },
  {
   "cell_type": "code",
   "execution_count": 16,
   "id": "7b439220-590c-4b4d-9cd8-e7925904347f",
   "metadata": {
    "tags": []
   },
   "outputs": [],
   "source": [
    "# GSM2396859_K562_TFs__13_days\n",
    "name = 'GSM2396859_k562_tfs_13'\n",
    "\n",
    "X = csr_matrix(mmread(path / f'{name}.mtx.txt'))\n",
    "adata = sc.AnnData(X.T)\n",
    "\n",
    "var = pd.read_csv(path / f'{name}_genenames.csv', index_col=0)\n",
    "splitted = np.array([x.split('_', 1) for x in var.values[:,0]])\n",
    "adata.var_names = splitted[:,1]\n",
    "adata.var['gene_id'] = splitted[:,0]\n",
    "adata.var_names_make_unique()\n",
    "\n",
    "obs = pd.read_csv(path / f'{name}_cellnames.csv', index_col=0)\n",
    "splitted = np.array([x.split('_', 2) for x in obs.values[:,0]])\n",
    "adata.obs_names = obs.values[:,0]\n",
    "adata.obs['identifier_0'] = splitted[:,1]\n",
    "adata.obs['identifier_1'] = splitted[:,2]\n",
    "\n",
    "# annotation:\n",
    "files = [path / f'{name}_cbc_gbc_dict.csv', path / f'{name}_cbc_gbc_dict_strict.csv', path / f'{name}_cbc_gbc_dict_lenient.csv']\n",
    "keys = ['grna', 'grna_strict', 'grna_lenient']\n",
    "for file, key in zip(files, keys):\n",
    "    if os.path.isfile(file):\n",
    "        cbc_gbc_dict = pd.read_csv(file, index_col=0, header=None)\n",
    "        adata.obs[key]=None\n",
    "        for grna in list(cbc_gbc_dict.index):\n",
    "            for barcode in cbc_gbc_dict.loc[grna][1].replace(' ','').split(','):\n",
    "                if barcode in adata.obs_names:\n",
    "                    val = adata.obs.loc[barcode][key]\n",
    "                    adata.obs.loc[barcode][key] = grna if val is None else val+' + '+grna\n",
    "adata.obs['target'] = [x.replace('p_sg', '').replace('p_', '').split('_')[0] if type(x)==str else None for x in adata.obs.grna]\n",
    "adata.obs = adata.obs.rename({'grna': 'perturbation'}, axis=1).drop(['identifier_1', 'identifier_0'], axis=1)\n",
    "adata.obs['moi'] = 'normal'\n",
    "adata.obs['time'] = 13*24  # 13 days\n",
    "adata.obs['cell_line'] = 'K562'\n",
    "adata.obs['celltype'] = 'lymphoblasts'\n",
    "adata.obs['perturbation_type'] = 'CRISPR'\n",
    "adata.obs['cancer'] = True\n",
    "adata.obs['disease'] = 'myelogenous leukemia'\n",
    "adatas['K562_TFs__13_days'] = adata"
   ]
  },
  {
   "cell_type": "code",
   "execution_count": 17,
   "id": "b568e91f-b67f-44c1-bcbe-0c0bc5e94241",
   "metadata": {
    "tags": []
   },
   "outputs": [],
   "source": [
    "# GSM2396860_K562_TFs__High_MOI\n",
    "name = 'GSM2396860_k562_tfs_highmoi'\n",
    "\n",
    "X = csr_matrix(mmread(path / f'{name}.mtx.txt'))\n",
    "adata = sc.AnnData(X.T)\n",
    "\n",
    "var = pd.read_csv(path / f'{name}_genenames.csv', index_col=0)\n",
    "splitted = np.array([x.split('_', 1) for x in var.values[:,0]])\n",
    "adata.var_names = splitted[:,1]\n",
    "adata.var['gene_id'] = splitted[:,0]\n",
    "adata.var_names_make_unique()\n",
    "\n",
    "obs = pd.read_csv(path / f'{name}_cellnames.csv', index_col=0)\n",
    "splitted = np.array([x.split('_', 2) for x in obs.values[:,0]])\n",
    "adata.obs_names = obs.values[:,0]\n",
    "adata.obs['identifier_0'] = splitted[:,1]\n",
    "adata.obs['identifier_1'] = splitted[:,2]\n",
    "\n",
    "# annotation:\n",
    "files = [path / f'{name}_cbc_gbc_dict.csv', path / f'{name}_cbc_gbc_dict_strict.csv', path / f'{name}_cbc_gbc_dict_lenient.csv']\n",
    "keys = ['grna', 'grna_strict', 'grna_lenient']\n",
    "for file, key in zip(files, keys):\n",
    "    if os.path.isfile(file):\n",
    "        cbc_gbc_dict = pd.read_csv(file, index_col=0, header=None)\n",
    "        adata.obs[key]=None\n",
    "        for grna in list(cbc_gbc_dict.index):\n",
    "            for barcode in cbc_gbc_dict.loc[grna][1].replace(' ','').split(','):\n",
    "                if barcode in adata.obs_names:\n",
    "                    val = adata.obs.loc[barcode][key]\n",
    "                    adata.obs.loc[barcode][key] = grna if val is None else val+' + '+grna\n",
    "adata.obs['target'] = [x.replace('p_sg', '').replace('p_', '').split('_')[0] if type(x)==str else None for x in adata.obs.grna_strict]\n",
    "adata.obs = adata.obs.rename({'grna_strict': 'perturbation'}, axis=1).drop(['identifier_1', 'identifier_0'], axis=1)\n",
    "adata.obs['moi'] = 'high'\n",
    "adata.obs['cell_line'] = 'K562'\n",
    "adata.obs['celltype'] = 'lymphoblasts'\n",
    "adata.obs['perturbation_type'] = 'CRISPR'\n",
    "adata.obs['cancer'] = True\n",
    "adata.obs['disease'] = 'myelogenous leukemia'\n",
    "adatas['K562_TFs__High_MOI'] = adata"
   ]
  },
  {
   "cell_type": "markdown",
   "id": "79e20b74-1d61-4668-a8b9-0e97c3eb187b",
   "metadata": {},
   "source": [
    "# Rewrite existing"
   ]
  },
  {
   "cell_type": "code",
   "execution_count": 14,
   "id": "86c0f6dc-1313-48e6-aece-8e6c29f37032",
   "metadata": {
    "tags": []
   },
   "outputs": [],
   "source": [
    "adata = sc.read_h5ad(TEMPDIR / 'DixitRegev2016.h5ad')"
   ]
  },
  {
   "cell_type": "markdown",
   "id": "c81d3f3a-94bf-4940-8a49-1919b8138398",
   "metadata": {},
   "source": [
    "Hello,\n",
    "In the data of your GSM2396860_K562_TFs__High_MOI data of DixitRegev2016.h5ad, you give the cell barocde which is not included in cbc_gbc_dict a tag \"control\" in the adata.obs['perturbation'], but the true control groups is cells knocked by 'INTERGENIC216151','INTERGENIC1144056','INTERGENIC393453' and 'INTERGENIC1216445'. This will influence the downsteam work if the 'control' tag is given to these cells without sgRNA knocking.\n",
    "May the 'None' tag is better than 'control'? This is such an excellent works.\n"
   ]
  },
  {
   "cell_type": "code",
   "execution_count": 19,
   "id": "e00def74-0632-4096-a573-b1b447f58624",
   "metadata": {
    "tags": []
   },
   "outputs": [],
   "source": [
    "adata = sc.concat(adatas, index_unique='-', label='library', join='outer')"
   ]
  },
  {
   "cell_type": "code",
   "execution_count": 21,
   "id": "e906e7f6-0b57-47ff-8199-827472a0faad",
   "metadata": {
    "tags": []
   },
   "outputs": [],
   "source": [
    "adata.obs['tissue_type']='cell_line'\n",
    "adata.obs['organism'] = 'human'\n",
    "\n",
    "obs = adata.obs.copy()\n",
    "#obs['grna_lenient']=obs['grna_lenient'].str.replace(' + ',';', regex=False)\n",
    "#obs['guide_id']= obs['perturbation']\n"
   ]
  },
  {
   "cell_type": "code",
   "execution_count": 22,
   "id": "abd86025-36f3-401d-b43a-7cdb539473da",
   "metadata": {
    "tags": []
   },
   "outputs": [],
   "source": [
    "obs.perturbation = obs.perturbation.astype(str)"
   ]
  },
  {
   "cell_type": "code",
   "execution_count": 26,
   "id": "402fd7d1-7ce7-44f1-86f0-edca0065d944",
   "metadata": {
    "tags": []
   },
   "outputs": [
    {
     "data": {
      "text/plain": [
       "array(['ELK1', 'ELF1', 'IRF1', 'ETS1', 'None', 'control', 'EGR1', 'YY1',\n",
       "       'GABPA', 'E2F4', 'NR2C2', 'CREB1'], dtype=object)"
      ]
     },
     "execution_count": 26,
     "metadata": {},
     "output_type": "execute_result"
    }
   ],
   "source": [
    "obs.perturbation.unique()"
   ]
  },
  {
   "cell_type": "code",
   "execution_count": 24,
   "id": "332e29f4-7d64-4e88-bdef-0f6e919c54d4",
   "metadata": {
    "tags": []
   },
   "outputs": [
    {
     "name": "stderr",
     "output_type": "stream",
     "text": [
      "/tmp/ipykernel_55/4182152673.py:5: SettingWithCopyWarning: \n",
      "A value is trying to be set on a copy of a slice from a DataFrame\n",
      "\n",
      "See the caveats in the documentation: https://pandas.pydata.org/pandas-docs/stable/user_guide/indexing.html#returning-a-view-versus-a-copy\n",
      "  obs.perturbation[obs.perturbation == 'INTERGENIC'] = 'control'\n"
     ]
    }
   ],
   "source": [
    "obs.perturbation = [x.replace('_', '-').replace('p-sg', '').replace('p-', '').replace(' + ', '_') for x in obs.perturbation]  # formatting\n",
    "obs.perturbation = ['control' if ('INTERGENIC' in x) and ('_' not in x) else x for x in obs.perturbation]  # annotate control\n",
    "obs.perturbation = ['_'.join(np.unique([y.split('-')[0] if 'INTERGENIC' not in y else 'INTERGENIC' for y in x.split('_')])) for x in obs.perturbation]  # collapse guides\n",
    "obs.perturbation = [x.replace('_INTERGENIC', '').replace('INTERGENIC_', '') for x in obs.perturbation]  # remove intergenic from combis\n",
    "obs.perturbation[obs.perturbation == 'INTERGENIC'] = 'control'"
   ]
  },
  {
   "cell_type": "code",
   "execution_count": 32,
   "id": "1ec0f1e7-3c3f-40dc-8891-3f9426dd1736",
   "metadata": {
    "tags": []
   },
   "outputs": [],
   "source": [
    "obs['grna_lenient']=obs['grna_lenient'].str.replace('_','-', regex=False)\n",
    "obs['perturbation']=obs['perturbation'].str.replace('_','-', regex=False)\n",
    "obs['perturbation']=obs['perturbation'].str.replace(' + ','_', regex=False)\n",
    "adata.obs = obs.copy()"
   ]
  },
  {
   "cell_type": "code",
   "execution_count": 40,
   "id": "8d1d743a-16e1-4953-a717-c347338a23e6",
   "metadata": {
    "tags": []
   },
   "outputs": [
    {
     "data": {
      "text/plain": [
       "perturbation\n",
       "control                                       22653\n",
       "None                                           4864\n",
       "p-sgELF1-2                                     4047\n",
       "p-sgGABPA-1                                    3356\n",
       "p-sgELF1-5                                     3301\n",
       "                                              ...  \n",
       "p-sgELK1-7_p-sgELF1-1_p-sgELF1-2                  1\n",
       "p-sgELK1-7_p-sgELF1-1_p-sgELF1-4                  1\n",
       "p-sgCREB1-5_p-sgYY1-3_p-INTERGENIC393453          1\n",
       "p-sgCREB1-5_p-sgYY1-3_p-INTERGENIC1216445         1\n",
       "p-sgEGR1-4_p-sgNR2C2-3_p-INTERGENIC1216445        1\n",
       "Length: 1726, dtype: int64"
      ]
     },
     "execution_count": 40,
     "metadata": {},
     "output_type": "execute_result"
    }
   ],
   "source": [
    "adata.obs.value_counts('perturbation')"
   ]
  },
  {
   "cell_type": "code",
   "execution_count": 39,
   "id": "b310c567-89fe-4b73-b4ee-61e557b6622a",
   "metadata": {
    "tags": []
   },
   "outputs": [],
   "source": [
    "adata.obs['nperts'] = 1 + adata.obs['perturbation'].str.count('_') \\\n",
    "                    - adata.obs['perturbation'].str.count('control') \\\n",
    "                    - adata.obs['perturbation'].str.count('INTERGENIC') \\\n",
    "                    - adata.obs['perturbation'].str.count('None')"
   ]
  },
  {
   "cell_type": "markdown",
   "id": "eee65120-456c-4393-a8d9-eadad2eb331c",
   "metadata": {
    "tags": []
   },
   "source": [
    "# Check"
   ]
  },
  {
   "cell_type": "code",
   "execution_count": 15,
   "id": "3c4a8f01-a1c8-45e1-8851-0456e6aa8b7f",
   "metadata": {
    "tags": []
   },
   "outputs": [],
   "source": [
    "adata = sc.read_h5ad(TEMPDIR / 'DixitRegev2016.h5ad')"
   ]
  },
  {
   "cell_type": "code",
   "execution_count": 16,
   "id": "81c33be8-1071-4877-814c-f2f3e4660a45",
   "metadata": {},
   "outputs": [
    {
     "data": {
      "text/plain": [
       "AnnData object with n_obs × n_vars = 104179 × 20575\n",
       "    obs: 'perturbation', 'target', 'moi', 'cell_line', 'celltype', 'perturbation_type', 'cancer', 'disease', 'library', 'tissue_type', 'organism', 'nperts', 'ncounts', 'ngenes', 'percent_mito', 'percent_ribo'\n",
       "    var: 'ncounts', 'ncells'"
      ]
     },
     "execution_count": 16,
     "metadata": {},
     "output_type": "execute_result"
    }
   ],
   "source": [
    "adata"
   ]
  },
  {
   "cell_type": "code",
   "execution_count": 17,
   "id": "a293e9cb-6e35-4a72-afd5-dffc65384c84",
   "metadata": {
    "tags": []
   },
   "outputs": [
    {
     "data": {
      "text/plain": [
       "None    104179\n",
       "Name: perturbation, dtype: int64"
      ]
     },
     "execution_count": 17,
     "metadata": {},
     "output_type": "execute_result"
    }
   ],
   "source": [
    "adata.obs.perturbation.value_counts()"
   ]
  },
  {
   "cell_type": "code",
   "execution_count": 18,
   "id": "93b26043-3bdb-4828-814b-0f2aca7e5dc5",
   "metadata": {
    "tags": []
   },
   "outputs": [
    {
     "data": {
      "text/plain": [
       "cell_barcode\n",
       "AAACATACGCTACA_p7d_A1-K562_TFs__7_days        None\n",
       "AAACATACTCCTGC_p7d_A1-K562_TFs__7_days        None\n",
       "AAACATTGACGTTG_p7d_A1-K562_TFs__7_days        None\n",
       "AAACATTGATTCGG_p7d_A1-K562_TFs__7_days        None\n",
       "AAACATTGGAGCAG_p7d_A1-K562_TFs__7_days        None\n",
       "                                              ... \n",
       "TTTCTACTGATGAA_ph14d_F7-K562_TFs__High_MOI    None\n",
       "TTTGACTGACGGGA_ph14d_F7-K562_TFs__High_MOI    None\n",
       "TTTGACTGAGCATC_ph14d_F7-K562_TFs__High_MOI    None\n",
       "TTTGACTGCTACCC_ph14d_F7-K562_TFs__High_MOI    None\n",
       "TTTGCATGACCCTC_ph14d_F7-K562_TFs__High_MOI    None\n",
       "Name: perturbation, Length: 104179, dtype: category\n",
       "Categories (1, object): ['None']"
      ]
     },
     "execution_count": 18,
     "metadata": {},
     "output_type": "execute_result"
    }
   ],
   "source": [
    "adata.obs.perturbation"
   ]
  },
  {
   "cell_type": "code",
   "execution_count": null,
   "id": "4d07908d-6f11-47cd-a23e-8c470a694339",
   "metadata": {},
   "outputs": [],
   "source": []
  },
  {
   "cell_type": "code",
   "execution_count": null,
   "id": "ed658ba6-30e8-44ba-9182-a3ebe9b693e9",
   "metadata": {},
   "outputs": [],
   "source": []
  },
  {
   "cell_type": "code",
   "execution_count": null,
   "id": "c6762f01-1b27-44a9-9627-79021c99e73a",
   "metadata": {},
   "outputs": [],
   "source": []
  },
  {
   "cell_type": "code",
   "execution_count": null,
   "id": "806c7531-1ac6-411e-82ef-e758e0a5bacf",
   "metadata": {},
   "outputs": [],
   "source": []
  }
 ],
 "metadata": {
  "kernelspec": {
   "display_name": "Python 3 (ipykernel)",
   "language": "python",
   "name": "python3"
  },
  "language_info": {
   "codemirror_mode": {
    "name": "ipython",
    "version": 3
   },
   "file_extension": ".py",
   "mimetype": "text/x-python",
   "name": "python",
   "nbconvert_exporter": "python",
   "pygments_lexer": "ipython3",
   "version": "3.10.9"
  }
 },
 "nbformat": 4,
 "nbformat_minor": 5
}
