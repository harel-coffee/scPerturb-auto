{
 "cells": [
  {
   "cell_type": "code",
   "execution_count": 1,
   "id": "81bb8eab-9d44-4687-b925-d37f74cc398c",
   "metadata": {
    "tags": []
   },
   "outputs": [],
   "source": [
    "!pip install mygene statannotations scrublet scanpy scvelo decoupler goatools gseapy scperturb chembl_webresource_client biomart PyComplexHeatmap statsmodels omnipath git+https://github.com/saezlab/pypath.git --quiet"
   ]
  },
  {
   "cell_type": "code",
   "execution_count": 2,
   "id": "24852fb2-49c5-4e5d-bd0d-4adb9e44e4e5",
   "metadata": {
    "tags": []
   },
   "outputs": [
    {
     "data": {
      "text/html": [
       "<style>.container { width:95% !important; }</style>"
      ],
      "text/plain": [
       "<IPython.core.display.HTML object>"
      ]
     },
     "metadata": {},
     "output_type": "display_data"
    }
   ],
   "source": [
    "import subprocess\n",
    "import os\n",
    "import sys\n",
    "import matplotlib.backends.backend_pdf\n",
    "import scanpy as sc\n",
    "import matplotlib.pyplot as pl\n",
    "import anndata as ad\n",
    "import pandas as pd\n",
    "import numpy as np\n",
    "import seaborn as sns\n",
    "import scvelo as scv\n",
    "scv.settings.verbosity=1\n",
    "\n",
    "from pathlib import Path\n",
    "\n",
    "# Jupyter stuff\n",
    "from tqdm.notebook import tqdm\n",
    "from IPython.display import clear_output\n",
    "from IPython.core.display import display, HTML\n",
    "display(HTML(\"<style>.container { width:95% !important; }</style>\"))\n",
    "\n",
    "%matplotlib inline\n",
    "\n",
    "# Custom functions\n",
    "sys.path.insert(1, '../../')\n",
    "from utils import *\n",
    "\n",
    "# scperturb package\n",
    "sys.path.insert(1, '../../package/src/')\n",
    "from scperturb import *\n",
    "\n",
    "from pathlib import Path\n",
    "figure_path = Path('../../figures/')"
   ]
  },
  {
   "cell_type": "code",
   "execution_count": 3,
   "id": "19d7b970-d447-4f46-9e74-ae943378481e",
   "metadata": {
    "tags": []
   },
   "outputs": [],
   "source": [
    "TEMPDIR = Path('/scratch/peidli/scPerturb/')\n",
    "DATADIR = Path('/home/peidli/data/scPerturb/')"
   ]
  },
  {
   "cell_type": "code",
   "execution_count": 4,
   "id": "937af239-89dc-4adf-9046-a0be3a4a88b8",
   "metadata": {
    "tags": []
   },
   "outputs": [],
   "source": [
    "from scipy.io import mmread\n",
    "from scipy.sparse import csr_matrix"
   ]
  },
  {
   "cell_type": "code",
   "execution_count": 19,
   "id": "0559d5ee-e980-4673-8fe8-5555a7609187",
   "metadata": {},
   "outputs": [],
   "source": [
    "X = mmread(TEMPDIR / 'SunshineHein2023/matrix.mtx')\n",
    "obs = pd.read_csv(TEMPDIR / 'SunshineHein2023/barcodes.tsv.gz', index_col=0, sep='\\t', names=['cell_barcode'])\n",
    "var = pd.read_csv(TEMPDIR / 'SunshineHein2023/features.tsv.gz', index_col=1, sep='\\t', names=['ensembl_id', 'gene_symbol', 'feature_type'])\n",
    "ids = pd.read_csv(TEMPDIR / 'SunshineHein2023/cell_identities.csv', index_col=0)\n",
    "\n",
    "adata = sc.AnnData(csr_matrix(X).T, pd.concat([obs, ids], axis=1), var)\n",
    "adata.var.drop('feature_type', axis=1, inplace=True)  # trivial\n",
    "adata.var_names_make_unique()\n",
    "\n",
    "# move non-gene features to obsm\n",
    "group1 = adata.var.index.str.startswith('SCV_')\n",
    "non_genes = list(adata.var_names[group1])\n",
    "adata.obsm['SCOV_expression'] = pd.DataFrame(adata[:, non_genes].X.A, index=adata.obs_names, columns=non_genes)\n",
    "adata = adata[:, ~group1].copy()\n",
    "\n",
    "group2 = adata.var.index.str.startswith('lenti_')\n",
    "non_genes = list(adata.var_names[group2])\n",
    "adata.obsm['lentivirus_capture'] = pd.DataFrame(adata[:, non_genes].X.A, index=adata.obs_names, columns=non_genes)\n",
    "adata = adata[:, ~adata.var.index.str.startswith('lenti_')].copy()\n",
    "\n",
    "# harmonize metadata\n",
    "adata.obs['perturbation'] = ['_'.join(np.unique([y.split('_')[0] for y in x.split(';')])).replace('non-targeting', 'control').replace('control_','').replace('_control','') if type(x)==str else None for x in adata.obs.guide_identity]\n",
    "adata.obs = adata.obs.rename({'guide_identity': 'guide_id', \n",
    "                              'number_of_guides': 'nperts', \n",
    "                             }, axis=1)\n",
    "adata.obs['perturbation_type'] = 'CRISPR-cas9'\n",
    "adata.obs['disease'] = \"lung adenocarcinoma and SARS-CoV-2\"\n",
    "adata.obs['cancer'] = True\n",
    "adata.obs['tissue_type']=\"cell_line\"\n",
    "adata.obs[\"cell_line\"] = \"Calu-3\"\n",
    "adata.obs[\"celltype\"] = 'lung epithelial cells'\n",
    "adata.obs['organism'] = 'human'\n",
    "\n",
    "annotate_qc(adata)\n",
    "assert_annotations(adata)"
   ]
  },
  {
   "cell_type": "code",
   "execution_count": 20,
   "id": "e603c97d-5c0f-4fc1-8a62-596e53c3d718",
   "metadata": {
    "tags": []
   },
   "outputs": [],
   "source": []
  },
  {
   "cell_type": "code",
   "execution_count": 21,
   "id": "50b16a8d-f0f0-4756-8080-86ce803dd583",
   "metadata": {
    "tags": []
   },
   "outputs": [],
   "source": []
  },
  {
   "cell_type": "code",
   "execution_count": null,
   "id": "4f518937-225a-4e1a-a825-78a303131fcd",
   "metadata": {},
   "outputs": [],
   "source": []
  }
 ],
 "metadata": {
  "kernelspec": {
   "display_name": "Python 3 (ipykernel)",
   "language": "python",
   "name": "python3"
  },
  "language_info": {
   "codemirror_mode": {
    "name": "ipython",
    "version": 3
   },
   "file_extension": ".py",
   "mimetype": "text/x-python",
   "name": "python",
   "nbconvert_exporter": "python",
   "pygments_lexer": "ipython3",
   "version": "3.10.9"
  }
 },
 "nbformat": 4,
 "nbformat_minor": 5
}
