{
 "cells": [
  {
   "cell_type": "code",
   "execution_count": 1,
   "id": "0c42bb01",
   "metadata": {
    "ExecuteTime": {
     "end_time": "2023-03-30T08:05:44.064784Z",
     "start_time": "2023-03-30T08:05:06.710696Z"
    }
   },
   "outputs": [
    {
     "data": {
      "text/html": [
       "<style>.container { width:95% !important; }</style>"
      ],
      "text/plain": [
       "<IPython.core.display.HTML object>"
      ]
     },
     "metadata": {},
     "output_type": "display_data"
    }
   ],
   "source": [
    "import subprocess\n",
    "import os\n",
    "import sys\n",
    "import matplotlib.backends.backend_pdf\n",
    "import scanpy as sc\n",
    "import matplotlib.pyplot as pl\n",
    "import anndata as ad\n",
    "import pandas as pd\n",
    "import numpy as np\n",
    "import seaborn as sns\n",
    "import scvelo as scv\n",
    "scv.settings.verbosity=1\n",
    "\n",
    "from pathlib import Path\n",
    "\n",
    "# Jupyter stuff\n",
    "from tqdm.notebook import tqdm\n",
    "from IPython.display import clear_output\n",
    "from IPython.core.display import display, HTML\n",
    "display(HTML(\"<style>.container { width:95% !important; }</style>\"))\n",
    "\n",
    "%matplotlib inline\n",
    "\n",
    "# Custom functions\n",
    "sys.path.insert(1, '../')\n",
    "from utils import *\n",
    "\n",
    "# scperturb package\n",
    "sys.path.insert(1, '../package/src/')\n",
    "from scperturb import *\n",
    "\n",
    "from pathlib import Path\n",
    "figure_path = Path('../figures/')"
   ]
  },
  {
   "cell_type": "code",
   "execution_count": 2,
   "id": "91717f19",
   "metadata": {
    "ExecuteTime": {
     "end_time": "2023-03-30T08:06:15.650561Z",
     "start_time": "2023-03-30T08:06:15.646417Z"
    }
   },
   "outputs": [],
   "source": [
    "TEMPDIR = Path('/fast/scratch/users/peidlis_c/perturbation_resource_paper/')\n",
    "DATADIR = Path('/data/gpfs-1/users/peidlis_c/work/data/perturbation_resource_paper/')"
   ]
  },
  {
   "cell_type": "code",
   "execution_count": 61,
   "id": "ed556e3d",
   "metadata": {
    "ExecuteTime": {
     "end_time": "2023-03-30T08:46:38.370493Z",
     "start_time": "2023-03-30T08:46:31.253185Z"
    }
   },
   "outputs": [],
   "source": [
    "adata = sc.read(DATADIR / 'CRISPR_transcriptome_with_sgRNA_raw_all_data.h5ad')\n",
    "adata.var = adata.var.drop('feature_types', axis=1)  # trivial\n",
    "\n",
    "# move non-gene features to obsm\n",
    "is_non_gene = ~adata.var.gene_ids.str.startswith('ENSG')\n",
    "non_genes = list(adata.var_names[is_non_gene])\n",
    "adata.obsm['reporters'] = pd.DataFrame(adata[:, non_genes].X.A, index=adata.obs_names, columns=non_genes)\n",
    "adata = adata[:, adata.var.gene_ids.str.startswith('ENSG')].copy()\n",
    "\n",
    "# harmonize metadata\n",
    "adata.obs['perturbation'] = adata.obs.sgRNA_gene_identity\n",
    "adata.obs = adata.obs.rename({'sgRNA_gene_identity': 'guide_id', 'n_count': 'ncounts', 'ChromHMM': 'ChromHMM_chromatin_state',\n",
    "                              'CRISPR_num_features': 'nguides_detected', 'CRISPR_feature_call': 'guides_call', 'CRISPR_num_umis': 'guidewise_counts', \n",
    "                              'CRISPR_umis_sum': 'guide_ncounts'\n",
    "                             }, axis=1)\n",
    "adata.obs = adata.obs.drop(['Basal_count_bulk'], axis=1)  # irrelevant for general audience\n",
    "adata.obs.perturbation = adata.obs.perturbation.replace({'Non-Targeting': 'control'})  # Non-targeting = control\n",
    "adata = adata[adata.obs.perturbation!='nan'].copy()  # barcode undetermined\n",
    "adata.obs = adata.obs[['perturbation', 'nguides_detected', 'guides_call', 'guidewise_counts', 'guide_ncounts', 'guide_id', 'ChromHMM_chromatin_state', 'ncounts']] # reorder\n",
    "adata.obs = adata.obs[['perturbation', 'nguides_detected', 'guides_call', 'guidewise_counts', 'guide_ncounts', 'guide_id', 'ChromHMM_chromatin_state', 'ncounts']] # reorder\n",
    "adata.obs['perturbation_type'] = 'CRISPRa'\n",
    "adata.obs['disease'] = \"healthy\"\n",
    "adata.obs['cancer'] = False\n",
    "adata.obs['tissue_type']=\"cell_line\"\n",
    "adata.obs[\"cell_line\"] = \"hPSCs\"\n",
    "adata.obs[\"celltype\"] = 'stem cells'\n",
    "adata.obs['organism'] = 'human'\n",
    "adata.obs.perturbation = [x.replace('-', '_') for x in adata.obs.perturbation]  # convention for double perturbations\n",
    "adata.obs['nperts'] = [p.count('_')+1-p.count('control') if type(p)==str else 0 for p in adata.obs.perturbation]"
   ]
  },
  {
   "cell_type": "code",
   "execution_count": null,
   "id": "c1e8d95b",
   "metadata": {},
   "outputs": [],
   "source": []
  },
  {
   "cell_type": "code",
   "execution_count": null,
   "id": "8e5f05ee",
   "metadata": {},
   "outputs": [],
   "source": []
  },
  {
   "cell_type": "code",
   "execution_count": null,
   "id": "87d8c0b8",
   "metadata": {},
   "outputs": [],
   "source": []
  },
  {
   "cell_type": "code",
   "execution_count": null,
   "id": "095032e5",
   "metadata": {},
   "outputs": [],
   "source": []
  },
  {
   "cell_type": "code",
   "execution_count": null,
   "id": "776e7dd7",
   "metadata": {},
   "outputs": [],
   "source": []
  },
  {
   "cell_type": "code",
   "execution_count": null,
   "id": "4565480b",
   "metadata": {},
   "outputs": [],
   "source": []
  },
  {
   "cell_type": "code",
   "execution_count": null,
   "id": "b87f9a6a",
   "metadata": {},
   "outputs": [],
   "source": []
  },
  {
   "cell_type": "code",
   "execution_count": null,
   "id": "c79cc2c2",
   "metadata": {},
   "outputs": [],
   "source": []
  },
  {
   "cell_type": "code",
   "execution_count": null,
   "id": "e6653b63",
   "metadata": {},
   "outputs": [],
   "source": []
  }
 ],
 "metadata": {
  "hide_input": false,
  "kernelspec": {
   "display_name": "Python 3 (ipykernel)",
   "language": "python",
   "name": "python3"
  },
  "language_info": {
   "codemirror_mode": {
    "name": "ipython",
    "version": 3
   },
   "file_extension": ".py",
   "mimetype": "text/x-python",
   "name": "python",
   "nbconvert_exporter": "python",
   "pygments_lexer": "ipython3",
   "version": "3.10.9"
  }
 },
 "nbformat": 4,
 "nbformat_minor": 5
}
