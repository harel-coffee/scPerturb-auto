{
 "cells": [
  {
   "cell_type": "code",
   "execution_count": 1,
   "id": "85def005",
   "metadata": {
    "ExecuteTime": {
     "end_time": "2023-03-28T12:01:45.121375Z",
     "start_time": "2023-03-28T12:01:17.326820Z"
    }
   },
   "outputs": [
    {
     "data": {
      "text/html": [
       "<style>.container { width:95% !important; }</style>"
      ],
      "text/plain": [
       "<IPython.core.display.HTML object>"
      ]
     },
     "metadata": {},
     "output_type": "display_data"
    }
   ],
   "source": [
    "import subprocess\n",
    "import os\n",
    "import sys\n",
    "import matplotlib.backends.backend_pdf\n",
    "import scanpy as sc\n",
    "import matplotlib.pyplot as pl\n",
    "import anndata as ad\n",
    "import pandas as pd\n",
    "import numpy as np\n",
    "import seaborn as sns\n",
    "import scvelo as scv\n",
    "scv.settings.verbosity=1\n",
    "\n",
    "from pathlib import Path\n",
    "\n",
    "# Jupyter stuff\n",
    "from tqdm.notebook import tqdm\n",
    "from IPython.display import clear_output\n",
    "from IPython.core.display import display, HTML\n",
    "display(HTML(\"<style>.container { width:95% !important; }</style>\"))\n",
    "\n",
    "%matplotlib inline\n",
    "\n",
    "# Custom functions\n",
    "sys.path.insert(1, '../')\n",
    "from utils import *\n",
    "\n",
    "# scperturb package\n",
    "sys.path.insert(1, '../package/src/')\n",
    "from scperturb import *\n",
    "\n",
    "from pathlib import Path\n",
    "figure_path = Path('../figures/')"
   ]
  },
  {
   "cell_type": "code",
   "execution_count": 2,
   "id": "78ffb506",
   "metadata": {
    "ExecuteTime": {
     "end_time": "2023-03-28T12:01:45.134051Z",
     "start_time": "2023-03-28T12:01:45.131640Z"
    }
   },
   "outputs": [],
   "source": [
    "TEMPDIR = Path('/fast/scratch/users/peidlis_c/perturbation_resource_paper/')"
   ]
  },
  {
   "cell_type": "code",
   "execution_count": 4,
   "id": "2ca0073e",
   "metadata": {
    "ExecuteTime": {
     "end_time": "2023-03-28T12:01:47.341342Z",
     "start_time": "2023-03-28T12:01:47.334560Z"
    }
   },
   "outputs": [
    {
     "data": {
      "text/plain": [
       "['CellChat-Follow-up_all-cells.csv.zip',\n",
       " 'Count Matrices & CellRanger Reports',\n",
       " 'Count Matrices & CellRanger Reports.zip',\n",
       " 'DA_INTepi_fib.rds',\n",
       " 'DA_INTepi_geno.rds',\n",
       " 'INTepi.rds',\n",
       " 'Signal-Perturbation_all-cells.csv.zip',\n",
       " 'WENR-Permutation_all-cells.csv.zip',\n",
       " 'WNT-EGF-Competition_all-cells.csv.zip',\n",
       " '__MACOSX',\n",
       " 'aug21_WT.rds',\n",
       " 'jan21_crctme_A.rds',\n",
       " 'jan21_crctme_AK.rds',\n",
       " 'jan21_crctme_AKP.rds',\n",
       " 'jan21_crctme_WT.rds']"
      ]
     },
     "execution_count": 4,
     "metadata": {},
     "output_type": "execute_result"
    }
   ],
   "source": [
    "sorted([file.name for file in (TEMPDIR / 'QinTape2023').glob('*')])"
   ]
  },
  {
   "cell_type": "markdown",
   "id": "435771a5",
   "metadata": {
    "heading_collapsed": true
   },
   "source": [
    "# scRNA-seq"
   ]
  },
  {
   "cell_type": "code",
   "execution_count": 83,
   "id": "6245ec74",
   "metadata": {
    "ExecuteTime": {
     "end_time": "2023-03-28T12:40:28.022560Z",
     "start_time": "2023-03-28T12:40:28.015579Z"
    },
    "hidden": true
   },
   "outputs": [],
   "source": [
    "files = sorted([file for file in (TEMPDIR / 'QinTape2023/Count Matrices & CellRanger Reports').glob('*') if 'DS_Store' not in file.name])"
   ]
  },
  {
   "cell_type": "code",
   "execution_count": 109,
   "id": "bcf2aca2",
   "metadata": {
    "ExecuteTime": {
     "end_time": "2023-03-28T12:55:35.493127Z",
     "start_time": "2023-03-28T12:53:53.834892Z"
    },
    "hidden": true
   },
   "outputs": [
    {
     "name": "stderr",
     "output_type": "stream",
     "text": [
      " 17%|█▋        | 4/24 [01:41<08:28, 25.41s/it]\n"
     ]
    }
   ],
   "source": [
    "adatas = {}\n",
    "for file in tqdm(files):\n",
    "    adata = sc.read_10x_mtx(file)\n",
    "    sample_name = file.name\n",
    "    sample_number, sample_description = sample_name.split('_', 1)\n",
    "    \n",
    "    reg = re.match('[AKP]+|(WT)', sample_description)\n",
    "    adata.obs['perturbation'] = reg.group() if reg else None\n",
    "    adata.obs['perturbation_type'] = 'genotype'\n",
    "    \n",
    "    adata.obs['perturbation_2'] = 'Mac-Fib' if 'Mac-Fib' in sample_description else 'Mac' if 'Mac' in sample_description else 'Fib' if 'Fib' in sample_description else None\n",
    "    adata.obs['perturbation_type_2'] = 'coculture'\n",
    "    \n",
    "    adata.obs['sample_number']=sample_number\n",
    "    adatas[sample_name] = adata\n",
    "    if int(sample_number) >= 5:\n",
    "        # stop processing, additional controls with other conditions.\n",
    "        # we focus on the core datasets (1-19)\n",
    "        break"
   ]
  },
  {
   "cell_type": "code",
   "execution_count": 123,
   "id": "319ba5ee",
   "metadata": {
    "ExecuteTime": {
     "end_time": "2023-03-28T12:59:32.241414Z",
     "start_time": "2023-03-28T12:59:31.937081Z"
    },
    "hidden": true
   },
   "outputs": [],
   "source": [
    "adata = sc.concat(adatas, label='batch')"
   ]
  },
  {
   "cell_type": "code",
   "execution_count": 124,
   "id": "b389c1c2",
   "metadata": {
    "ExecuteTime": {
     "end_time": "2023-03-28T12:59:34.547925Z",
     "start_time": "2023-03-28T12:59:32.876995Z"
    },
    "hidden": true
   },
   "outputs": [],
   "source": [
    "adata.obs['disease'] = \"colorectal cancer\"\n",
    "adata.obs['cancer'] = True\n",
    "adata.obs['tissue_type']=\"cell_line\"\n",
    "adata.obs[\"cell_line\"] = \"CRC organoid\"\n",
    "adata.obs[\"celltype\"] = 'colon epithelial cell'\n",
    "adata.obs['organism'] = 'mouse'\n",
    "adata.obs['nperts'] = (~adata.obs.perturbation.isna()*1 + ~adata.obs.perturbation_2.isna()*1)\n",
    "annotate_qc(adata, species='mouse')\n",
    "adata.obs.index.name = 'cell_barcode'"
   ]
  },
  {
   "cell_type": "code",
   "execution_count": 125,
   "id": "b13093d3",
   "metadata": {
    "ExecuteTime": {
     "end_time": "2023-03-28T12:59:35.113940Z",
     "start_time": "2023-03-28T12:59:35.091584Z"
    },
    "hidden": true
   },
   "outputs": [
    {
     "data": {
      "text/html": [
       "<div>\n",
       "<style scoped>\n",
       "    .dataframe tbody tr th:only-of-type {\n",
       "        vertical-align: middle;\n",
       "    }\n",
       "\n",
       "    .dataframe tbody tr th {\n",
       "        vertical-align: top;\n",
       "    }\n",
       "\n",
       "    .dataframe thead th {\n",
       "        text-align: right;\n",
       "    }\n",
       "</style>\n",
       "<table border=\"1\" class=\"dataframe\">\n",
       "  <thead>\n",
       "    <tr style=\"text-align: right;\">\n",
       "      <th></th>\n",
       "      <th>perturbation</th>\n",
       "      <th>perturbation_type</th>\n",
       "      <th>perturbation_2</th>\n",
       "      <th>perturbation_type_2</th>\n",
       "      <th>sample_number</th>\n",
       "      <th>batch</th>\n",
       "      <th>disease</th>\n",
       "      <th>cancer</th>\n",
       "      <th>tissue_type</th>\n",
       "      <th>cell_line</th>\n",
       "      <th>celltype</th>\n",
       "      <th>organism</th>\n",
       "      <th>nperts</th>\n",
       "      <th>ncounts</th>\n",
       "      <th>ngenes</th>\n",
       "      <th>percent_mito</th>\n",
       "      <th>percent_ribo</th>\n",
       "    </tr>\n",
       "    <tr>\n",
       "      <th>cell_barcode</th>\n",
       "      <th></th>\n",
       "      <th></th>\n",
       "      <th></th>\n",
       "      <th></th>\n",
       "      <th></th>\n",
       "      <th></th>\n",
       "      <th></th>\n",
       "      <th></th>\n",
       "      <th></th>\n",
       "      <th></th>\n",
       "      <th></th>\n",
       "      <th></th>\n",
       "      <th></th>\n",
       "      <th></th>\n",
       "      <th></th>\n",
       "      <th></th>\n",
       "      <th></th>\n",
       "    </tr>\n",
       "  </thead>\n",
       "  <tbody>\n",
       "    <tr>\n",
       "      <th>AAACGAAGTACTCAAC-1</th>\n",
       "      <td>WT</td>\n",
       "      <td>genotype</td>\n",
       "      <td>None</td>\n",
       "      <td>coculture</td>\n",
       "      <td>01</td>\n",
       "      <td>01_WT_1</td>\n",
       "      <td>colorectal cancer</td>\n",
       "      <td>True</td>\n",
       "      <td>cell_line</td>\n",
       "      <td>CRC organoid</td>\n",
       "      <td>colon epithelial cell</td>\n",
       "      <td>human</td>\n",
       "      <td>1</td>\n",
       "      <td>63470.0</td>\n",
       "      <td>5616</td>\n",
       "      <td>0.975264</td>\n",
       "      <td>7.704427</td>\n",
       "    </tr>\n",
       "    <tr>\n",
       "      <th>AAACGCTGTCAACCAT-1</th>\n",
       "      <td>WT</td>\n",
       "      <td>genotype</td>\n",
       "      <td>None</td>\n",
       "      <td>coculture</td>\n",
       "      <td>01</td>\n",
       "      <td>01_WT_1</td>\n",
       "      <td>colorectal cancer</td>\n",
       "      <td>True</td>\n",
       "      <td>cell_line</td>\n",
       "      <td>CRC organoid</td>\n",
       "      <td>colon epithelial cell</td>\n",
       "      <td>human</td>\n",
       "      <td>1</td>\n",
       "      <td>53907.0</td>\n",
       "      <td>5292</td>\n",
       "      <td>0.931233</td>\n",
       "      <td>2.090638</td>\n",
       "    </tr>\n",
       "    <tr>\n",
       "      <th>AAACGCTTCCTTGACC-1</th>\n",
       "      <td>WT</td>\n",
       "      <td>genotype</td>\n",
       "      <td>None</td>\n",
       "      <td>coculture</td>\n",
       "      <td>01</td>\n",
       "      <td>01_WT_1</td>\n",
       "      <td>colorectal cancer</td>\n",
       "      <td>True</td>\n",
       "      <td>cell_line</td>\n",
       "      <td>CRC organoid</td>\n",
       "      <td>colon epithelial cell</td>\n",
       "      <td>human</td>\n",
       "      <td>1</td>\n",
       "      <td>22710.0</td>\n",
       "      <td>3636</td>\n",
       "      <td>0.400705</td>\n",
       "      <td>1.083223</td>\n",
       "    </tr>\n",
       "    <tr>\n",
       "      <th>AAAGAACCACTGCATA-1</th>\n",
       "      <td>WT</td>\n",
       "      <td>genotype</td>\n",
       "      <td>None</td>\n",
       "      <td>coculture</td>\n",
       "      <td>01</td>\n",
       "      <td>01_WT_1</td>\n",
       "      <td>colorectal cancer</td>\n",
       "      <td>True</td>\n",
       "      <td>cell_line</td>\n",
       "      <td>CRC organoid</td>\n",
       "      <td>colon epithelial cell</td>\n",
       "      <td>human</td>\n",
       "      <td>1</td>\n",
       "      <td>14462.0</td>\n",
       "      <td>3439</td>\n",
       "      <td>1.023372</td>\n",
       "      <td>20.495090</td>\n",
       "    </tr>\n",
       "    <tr>\n",
       "      <th>AAAGGATAGGCATGCA-1</th>\n",
       "      <td>WT</td>\n",
       "      <td>genotype</td>\n",
       "      <td>None</td>\n",
       "      <td>coculture</td>\n",
       "      <td>01</td>\n",
       "      <td>01_WT_1</td>\n",
       "      <td>colorectal cancer</td>\n",
       "      <td>True</td>\n",
       "      <td>cell_line</td>\n",
       "      <td>CRC organoid</td>\n",
       "      <td>colon epithelial cell</td>\n",
       "      <td>human</td>\n",
       "      <td>1</td>\n",
       "      <td>29846.0</td>\n",
       "      <td>3851</td>\n",
       "      <td>1.239697</td>\n",
       "      <td>4.784561</td>\n",
       "    </tr>\n",
       "    <tr>\n",
       "      <th>...</th>\n",
       "      <td>...</td>\n",
       "      <td>...</td>\n",
       "      <td>...</td>\n",
       "      <td>...</td>\n",
       "      <td>...</td>\n",
       "      <td>...</td>\n",
       "      <td>...</td>\n",
       "      <td>...</td>\n",
       "      <td>...</td>\n",
       "      <td>...</td>\n",
       "      <td>...</td>\n",
       "      <td>...</td>\n",
       "      <td>...</td>\n",
       "      <td>...</td>\n",
       "      <td>...</td>\n",
       "      <td>...</td>\n",
       "      <td>...</td>\n",
       "    </tr>\n",
       "    <tr>\n",
       "      <th>TTTGGTTCAGTCAGCC-1</th>\n",
       "      <td>A</td>\n",
       "      <td>genotype</td>\n",
       "      <td>None</td>\n",
       "      <td>coculture</td>\n",
       "      <td>05</td>\n",
       "      <td>05_A</td>\n",
       "      <td>colorectal cancer</td>\n",
       "      <td>True</td>\n",
       "      <td>cell_line</td>\n",
       "      <td>CRC organoid</td>\n",
       "      <td>colon epithelial cell</td>\n",
       "      <td>human</td>\n",
       "      <td>1</td>\n",
       "      <td>3577.0</td>\n",
       "      <td>1730</td>\n",
       "      <td>5.591278</td>\n",
       "      <td>16.354486</td>\n",
       "    </tr>\n",
       "    <tr>\n",
       "      <th>TTTGGTTCATGACTAC-1</th>\n",
       "      <td>A</td>\n",
       "      <td>genotype</td>\n",
       "      <td>None</td>\n",
       "      <td>coculture</td>\n",
       "      <td>05</td>\n",
       "      <td>05_A</td>\n",
       "      <td>colorectal cancer</td>\n",
       "      <td>True</td>\n",
       "      <td>cell_line</td>\n",
       "      <td>CRC organoid</td>\n",
       "      <td>colon epithelial cell</td>\n",
       "      <td>human</td>\n",
       "      <td>1</td>\n",
       "      <td>782.0</td>\n",
       "      <td>367</td>\n",
       "      <td>28.260870</td>\n",
       "      <td>12.915601</td>\n",
       "    </tr>\n",
       "    <tr>\n",
       "      <th>TTTGGTTTCACGATCA-1</th>\n",
       "      <td>A</td>\n",
       "      <td>genotype</td>\n",
       "      <td>None</td>\n",
       "      <td>coculture</td>\n",
       "      <td>05</td>\n",
       "      <td>05_A</td>\n",
       "      <td>colorectal cancer</td>\n",
       "      <td>True</td>\n",
       "      <td>cell_line</td>\n",
       "      <td>CRC organoid</td>\n",
       "      <td>colon epithelial cell</td>\n",
       "      <td>human</td>\n",
       "      <td>1</td>\n",
       "      <td>16557.0</td>\n",
       "      <td>3232</td>\n",
       "      <td>0.869723</td>\n",
       "      <td>8.304645</td>\n",
       "    </tr>\n",
       "    <tr>\n",
       "      <th>TTTGTTGCAATTGCAC-1</th>\n",
       "      <td>A</td>\n",
       "      <td>genotype</td>\n",
       "      <td>None</td>\n",
       "      <td>coculture</td>\n",
       "      <td>05</td>\n",
       "      <td>05_A</td>\n",
       "      <td>colorectal cancer</td>\n",
       "      <td>True</td>\n",
       "      <td>cell_line</td>\n",
       "      <td>CRC organoid</td>\n",
       "      <td>colon epithelial cell</td>\n",
       "      <td>human</td>\n",
       "      <td>1</td>\n",
       "      <td>569.0</td>\n",
       "      <td>391</td>\n",
       "      <td>0.351494</td>\n",
       "      <td>23.022846</td>\n",
       "    </tr>\n",
       "    <tr>\n",
       "      <th>TTTGTTGTCAACGAGG-1</th>\n",
       "      <td>A</td>\n",
       "      <td>genotype</td>\n",
       "      <td>None</td>\n",
       "      <td>coculture</td>\n",
       "      <td>05</td>\n",
       "      <td>05_A</td>\n",
       "      <td>colorectal cancer</td>\n",
       "      <td>True</td>\n",
       "      <td>cell_line</td>\n",
       "      <td>CRC organoid</td>\n",
       "      <td>colon epithelial cell</td>\n",
       "      <td>human</td>\n",
       "      <td>1</td>\n",
       "      <td>33135.0</td>\n",
       "      <td>4027</td>\n",
       "      <td>0.576430</td>\n",
       "      <td>9.479403</td>\n",
       "    </tr>\n",
       "  </tbody>\n",
       "</table>\n",
       "<p>17569 rows × 17 columns</p>\n",
       "</div>"
      ],
      "text/plain": [
       "                   perturbation perturbation_type perturbation_2  \\\n",
       "cell_barcode                                                       \n",
       "AAACGAAGTACTCAAC-1           WT          genotype           None   \n",
       "AAACGCTGTCAACCAT-1           WT          genotype           None   \n",
       "AAACGCTTCCTTGACC-1           WT          genotype           None   \n",
       "AAAGAACCACTGCATA-1           WT          genotype           None   \n",
       "AAAGGATAGGCATGCA-1           WT          genotype           None   \n",
       "...                         ...               ...            ...   \n",
       "TTTGGTTCAGTCAGCC-1            A          genotype           None   \n",
       "TTTGGTTCATGACTAC-1            A          genotype           None   \n",
       "TTTGGTTTCACGATCA-1            A          genotype           None   \n",
       "TTTGTTGCAATTGCAC-1            A          genotype           None   \n",
       "TTTGTTGTCAACGAGG-1            A          genotype           None   \n",
       "\n",
       "                   perturbation_type_2 sample_number    batch  \\\n",
       "cell_barcode                                                    \n",
       "AAACGAAGTACTCAAC-1           coculture            01  01_WT_1   \n",
       "AAACGCTGTCAACCAT-1           coculture            01  01_WT_1   \n",
       "AAACGCTTCCTTGACC-1           coculture            01  01_WT_1   \n",
       "AAAGAACCACTGCATA-1           coculture            01  01_WT_1   \n",
       "AAAGGATAGGCATGCA-1           coculture            01  01_WT_1   \n",
       "...                                ...           ...      ...   \n",
       "TTTGGTTCAGTCAGCC-1           coculture            05     05_A   \n",
       "TTTGGTTCATGACTAC-1           coculture            05     05_A   \n",
       "TTTGGTTTCACGATCA-1           coculture            05     05_A   \n",
       "TTTGTTGCAATTGCAC-1           coculture            05     05_A   \n",
       "TTTGTTGTCAACGAGG-1           coculture            05     05_A   \n",
       "\n",
       "                              disease  cancer tissue_type     cell_line  \\\n",
       "cell_barcode                                                              \n",
       "AAACGAAGTACTCAAC-1  colorectal cancer    True   cell_line  CRC organoid   \n",
       "AAACGCTGTCAACCAT-1  colorectal cancer    True   cell_line  CRC organoid   \n",
       "AAACGCTTCCTTGACC-1  colorectal cancer    True   cell_line  CRC organoid   \n",
       "AAAGAACCACTGCATA-1  colorectal cancer    True   cell_line  CRC organoid   \n",
       "AAAGGATAGGCATGCA-1  colorectal cancer    True   cell_line  CRC organoid   \n",
       "...                               ...     ...         ...           ...   \n",
       "TTTGGTTCAGTCAGCC-1  colorectal cancer    True   cell_line  CRC organoid   \n",
       "TTTGGTTCATGACTAC-1  colorectal cancer    True   cell_line  CRC organoid   \n",
       "TTTGGTTTCACGATCA-1  colorectal cancer    True   cell_line  CRC organoid   \n",
       "TTTGTTGCAATTGCAC-1  colorectal cancer    True   cell_line  CRC organoid   \n",
       "TTTGTTGTCAACGAGG-1  colorectal cancer    True   cell_line  CRC organoid   \n",
       "\n",
       "                                 celltype organism  nperts  ncounts  ngenes  \\\n",
       "cell_barcode                                                                  \n",
       "AAACGAAGTACTCAAC-1  colon epithelial cell    human       1  63470.0    5616   \n",
       "AAACGCTGTCAACCAT-1  colon epithelial cell    human       1  53907.0    5292   \n",
       "AAACGCTTCCTTGACC-1  colon epithelial cell    human       1  22710.0    3636   \n",
       "AAAGAACCACTGCATA-1  colon epithelial cell    human       1  14462.0    3439   \n",
       "AAAGGATAGGCATGCA-1  colon epithelial cell    human       1  29846.0    3851   \n",
       "...                                   ...      ...     ...      ...     ...   \n",
       "TTTGGTTCAGTCAGCC-1  colon epithelial cell    human       1   3577.0    1730   \n",
       "TTTGGTTCATGACTAC-1  colon epithelial cell    human       1    782.0     367   \n",
       "TTTGGTTTCACGATCA-1  colon epithelial cell    human       1  16557.0    3232   \n",
       "TTTGTTGCAATTGCAC-1  colon epithelial cell    human       1    569.0     391   \n",
       "TTTGTTGTCAACGAGG-1  colon epithelial cell    human       1  33135.0    4027   \n",
       "\n",
       "                    percent_mito  percent_ribo  \n",
       "cell_barcode                                    \n",
       "AAACGAAGTACTCAAC-1      0.975264      7.704427  \n",
       "AAACGCTGTCAACCAT-1      0.931233      2.090638  \n",
       "AAACGCTTCCTTGACC-1      0.400705      1.083223  \n",
       "AAAGAACCACTGCATA-1      1.023372     20.495090  \n",
       "AAAGGATAGGCATGCA-1      1.239697      4.784561  \n",
       "...                          ...           ...  \n",
       "TTTGGTTCAGTCAGCC-1      5.591278     16.354486  \n",
       "TTTGGTTCATGACTAC-1     28.260870     12.915601  \n",
       "TTTGGTTTCACGATCA-1      0.869723      8.304645  \n",
       "TTTGTTGCAATTGCAC-1      0.351494     23.022846  \n",
       "TTTGTTGTCAACGAGG-1      0.576430      9.479403  \n",
       "\n",
       "[17569 rows x 17 columns]"
      ]
     },
     "execution_count": 125,
     "metadata": {},
     "output_type": "execute_result"
    }
   ],
   "source": [
    "adata.obs"
   ]
  },
  {
   "cell_type": "markdown",
   "id": "9d78dd33",
   "metadata": {},
   "source": [
    "# Cytof (TODO)"
   ]
  },
  {
   "cell_type": "code",
   "execution_count": 52,
   "id": "836d72cf",
   "metadata": {
    "ExecuteTime": {
     "end_time": "2023-03-28T12:25:59.201395Z",
     "start_time": "2023-03-28T12:25:42.289688Z"
    }
   },
   "outputs": [],
   "source": [
    "# cytof\n",
    "tab = pd.read_csv(TEMPDIR / 'QinTape2023/Signal-Perturbation_all-cells.csv')\n",
    "tab.index = [f'{ci}_{b}' for ci, b in zip(tab.Cell_Index, tab.condition)]"
   ]
  },
  {
   "cell_type": "code",
   "execution_count": 178,
   "id": "299016be",
   "metadata": {
    "ExecuteTime": {
     "end_time": "2023-03-28T13:45:07.488768Z",
     "start_time": "2023-03-28T13:45:06.449264Z"
    }
   },
   "outputs": [],
   "source": [
    "# build adata\n",
    "features = [c for c in tab.columns[8:62] if 'Barcode' not in c]\n",
    "adata = sc.AnnData(tab[features], \n",
    "                   obs=tab[['batch', 'barcode','genotype', 'media', 'replicate', 'culture', 'condition', 'ligand', 'inhibitor', 'A', 'K']])\n",
    "adata.var_names = features\n",
    "adata.var['channel'] = [x.split('_', 1)[0] for x in adata.var_names]\n",
    "adata.var_names = [x.split('_', 1)[1] for x in adata.var_names]  # remove channel from name\n",
    "adata.obsm['cytof_details'] = tab[['Cell_Index', 'Time', 'Event_length', 'Center', 'Width', 'Residual', 'Offset', 'Amplitude', 'bc_separation_dist', 'mahalanobis_dist']]\n",
    "adata.obsm['barcodes'] = tab[[c for c in tab.columns[8:62] if 'Barcode' in c]]\n",
    "\n",
    "# harmonize metadata\n",
    "adata.obs = adata.obs.rename({'genotype': 'perturbation_3', \n",
    "                  'ligand': 'perturbation_2', \n",
    "                  'inhibitor': 'perturbation'}, axis=1).drop(['media', 'culture', 'condition', 'A', 'K'], axis=1)\n",
    "adata.obs = adata.obs[[\"perturbation\", \"perturbation_2\", \"perturbation_3\", \"batch\", \"barcode\", \"replicate\"]]\n",
    "adata.obs['perturbation_type'] = 'drug'\n",
    "adata.obs['perturbation_type_2'] = 'ligand'\n",
    "adata.obs['perturbation_type_3'] = 'genotype'\n",
    "adata.obs['perturbation'][adata.obs.perturbation=='Ctrl'] = 'control'\n",
    "adata.obs['perturbation_2'][adata.obs.perturbation_2=='Ctrl'] = 'control'\n",
    "adata.obs['perturbation_3'][adata.obs.perturbation_3=='WT'] = 'control'\n",
    "adata.obs['nperts'] = (adata.obs.perturbation != 'control')*1 + (adata.obs.perturbation_2 != 'control')*1 + (adata.obs.perturbation_3 != 'control')*1"
   ]
  },
  {
   "cell_type": "code",
   "execution_count": 185,
   "id": "7f1569f5",
   "metadata": {
    "ExecuteTime": {
     "end_time": "2023-03-28T13:49:16.633375Z",
     "start_time": "2023-03-28T13:48:38.682717Z"
    }
   },
   "outputs": [],
   "source": [
    "tab = pd.read_csv(TEMPDIR / 'QinTape2023/WENR-Permutation_all-cells.csv')\n",
    "tab.index = [f'{ci}_{b}' for ci, b in zip(tab.Cell_Index, tab.condition)]"
   ]
  },
  {
   "cell_type": "code",
   "execution_count": 197,
   "id": "9b03b149",
   "metadata": {
    "ExecuteTime": {
     "end_time": "2023-03-28T13:53:40.754206Z",
     "start_time": "2023-03-28T13:53:38.931040Z"
    }
   },
   "outputs": [],
   "source": [
    "# build adata\n",
    "features = [c for c in tab.columns[3:61] if 'Barcode' not in c]\n",
    "adata = sc.AnnData(tab[features], \n",
    "                   obs=tab[['batch', 'replicate', 'condition', 'culture', 'format','media','genotype']])\n",
    "adata.var_names = features\n",
    "adata.var['channel'] = [x.split('_', 1)[0] for x in adata.var_names]\n",
    "adata.var_names = [x.split('_', 1)[1] for x in adata.var_names]  # remove channel from name\n",
    "adata.obsm['cytof_details'] = tab[['Cell_Index', 'Time', 'Event_length', 'Center', 'Width', 'Residual', 'Offset', 'bc_separation_dist', 'mahalanobis_dist']]\n",
    "adata.obsm['barcodes'] = tab[[c for c in tab.columns[3:61] if 'Barcode' in c]]"
   ]
  },
  {
   "cell_type": "code",
   "execution_count": 198,
   "id": "d9617ff9",
   "metadata": {
    "ExecuteTime": {
     "end_time": "2023-03-28T13:53:40.765486Z",
     "start_time": "2023-03-28T13:53:40.756148Z"
    }
   },
   "outputs": [
    {
     "data": {
      "text/html": [
       "<div>\n",
       "<style scoped>\n",
       "    .dataframe tbody tr th:only-of-type {\n",
       "        vertical-align: middle;\n",
       "    }\n",
       "\n",
       "    .dataframe tbody tr th {\n",
       "        vertical-align: top;\n",
       "    }\n",
       "\n",
       "    .dataframe thead th {\n",
       "        text-align: right;\n",
       "    }\n",
       "</style>\n",
       "<table border=\"1\" class=\"dataframe\">\n",
       "  <thead>\n",
       "    <tr style=\"text-align: right;\">\n",
       "      <th></th>\n",
       "      <th>batch</th>\n",
       "      <th>replicate</th>\n",
       "      <th>condition</th>\n",
       "      <th>culture</th>\n",
       "      <th>format</th>\n",
       "      <th>media</th>\n",
       "      <th>genotype</th>\n",
       "    </tr>\n",
       "  </thead>\n",
       "  <tbody>\n",
       "    <tr>\n",
       "      <th>1_K-Fib_E_Org_2</th>\n",
       "      <td>B1</td>\n",
       "      <td>2</td>\n",
       "      <td>K-Fib_E_Org_2</td>\n",
       "      <td>K-Fib_E</td>\n",
       "      <td>co-culture</td>\n",
       "      <td>E</td>\n",
       "      <td>K</td>\n",
       "    </tr>\n",
       "    <tr>\n",
       "      <th>2_K-Fib_E_Org_2</th>\n",
       "      <td>B1</td>\n",
       "      <td>2</td>\n",
       "      <td>K-Fib_E_Org_2</td>\n",
       "      <td>K-Fib_E</td>\n",
       "      <td>co-culture</td>\n",
       "      <td>E</td>\n",
       "      <td>K</td>\n",
       "    </tr>\n",
       "    <tr>\n",
       "      <th>3_K-Fib_E_Org_2</th>\n",
       "      <td>B1</td>\n",
       "      <td>2</td>\n",
       "      <td>K-Fib_E_Org_2</td>\n",
       "      <td>K-Fib_E</td>\n",
       "      <td>co-culture</td>\n",
       "      <td>E</td>\n",
       "      <td>K</td>\n",
       "    </tr>\n",
       "    <tr>\n",
       "      <th>4_K-Fib_E_Org_2</th>\n",
       "      <td>B1</td>\n",
       "      <td>2</td>\n",
       "      <td>K-Fib_E_Org_2</td>\n",
       "      <td>K-Fib_E</td>\n",
       "      <td>co-culture</td>\n",
       "      <td>E</td>\n",
       "      <td>K</td>\n",
       "    </tr>\n",
       "    <tr>\n",
       "      <th>5_K-Fib_E_Org_2</th>\n",
       "      <td>B1</td>\n",
       "      <td>2</td>\n",
       "      <td>K-Fib_E_Org_2</td>\n",
       "      <td>K-Fib_E</td>\n",
       "      <td>co-culture</td>\n",
       "      <td>E</td>\n",
       "      <td>K</td>\n",
       "    </tr>\n",
       "    <tr>\n",
       "      <th>...</th>\n",
       "      <td>...</td>\n",
       "      <td>...</td>\n",
       "      <td>...</td>\n",
       "      <td>...</td>\n",
       "      <td>...</td>\n",
       "      <td>...</td>\n",
       "      <td>...</td>\n",
       "    </tr>\n",
       "    <tr>\n",
       "      <th>13639_KP-Fib_N_Org_1</th>\n",
       "      <td>B1</td>\n",
       "      <td>1</td>\n",
       "      <td>KP-Fib_N_Org_1</td>\n",
       "      <td>KP-Fib_N</td>\n",
       "      <td>co-culture</td>\n",
       "      <td>N</td>\n",
       "      <td>KP</td>\n",
       "    </tr>\n",
       "    <tr>\n",
       "      <th>13640_KP-Fib_N_Org_1</th>\n",
       "      <td>B1</td>\n",
       "      <td>1</td>\n",
       "      <td>KP-Fib_N_Org_1</td>\n",
       "      <td>KP-Fib_N</td>\n",
       "      <td>co-culture</td>\n",
       "      <td>N</td>\n",
       "      <td>KP</td>\n",
       "    </tr>\n",
       "    <tr>\n",
       "      <th>13641_KP-Fib_N_Org_1</th>\n",
       "      <td>B1</td>\n",
       "      <td>1</td>\n",
       "      <td>KP-Fib_N_Org_1</td>\n",
       "      <td>KP-Fib_N</td>\n",
       "      <td>co-culture</td>\n",
       "      <td>N</td>\n",
       "      <td>KP</td>\n",
       "    </tr>\n",
       "    <tr>\n",
       "      <th>13642_KP-Fib_N_Org_1</th>\n",
       "      <td>B1</td>\n",
       "      <td>1</td>\n",
       "      <td>KP-Fib_N_Org_1</td>\n",
       "      <td>KP-Fib_N</td>\n",
       "      <td>co-culture</td>\n",
       "      <td>N</td>\n",
       "      <td>KP</td>\n",
       "    </tr>\n",
       "    <tr>\n",
       "      <th>13643_KP-Fib_N_Org_1</th>\n",
       "      <td>B1</td>\n",
       "      <td>1</td>\n",
       "      <td>KP-Fib_N_Org_1</td>\n",
       "      <td>KP-Fib_N</td>\n",
       "      <td>co-culture</td>\n",
       "      <td>N</td>\n",
       "      <td>KP</td>\n",
       "    </tr>\n",
       "  </tbody>\n",
       "</table>\n",
       "<p>3724496 rows × 7 columns</p>\n",
       "</div>"
      ],
      "text/plain": [
       "                     batch  replicate       condition   culture      format  \\\n",
       "1_K-Fib_E_Org_2         B1          2   K-Fib_E_Org_2   K-Fib_E  co-culture   \n",
       "2_K-Fib_E_Org_2         B1          2   K-Fib_E_Org_2   K-Fib_E  co-culture   \n",
       "3_K-Fib_E_Org_2         B1          2   K-Fib_E_Org_2   K-Fib_E  co-culture   \n",
       "4_K-Fib_E_Org_2         B1          2   K-Fib_E_Org_2   K-Fib_E  co-culture   \n",
       "5_K-Fib_E_Org_2         B1          2   K-Fib_E_Org_2   K-Fib_E  co-culture   \n",
       "...                    ...        ...             ...       ...         ...   \n",
       "13639_KP-Fib_N_Org_1    B1          1  KP-Fib_N_Org_1  KP-Fib_N  co-culture   \n",
       "13640_KP-Fib_N_Org_1    B1          1  KP-Fib_N_Org_1  KP-Fib_N  co-culture   \n",
       "13641_KP-Fib_N_Org_1    B1          1  KP-Fib_N_Org_1  KP-Fib_N  co-culture   \n",
       "13642_KP-Fib_N_Org_1    B1          1  KP-Fib_N_Org_1  KP-Fib_N  co-culture   \n",
       "13643_KP-Fib_N_Org_1    B1          1  KP-Fib_N_Org_1  KP-Fib_N  co-culture   \n",
       "\n",
       "                     media genotype  \n",
       "1_K-Fib_E_Org_2          E        K  \n",
       "2_K-Fib_E_Org_2          E        K  \n",
       "3_K-Fib_E_Org_2          E        K  \n",
       "4_K-Fib_E_Org_2          E        K  \n",
       "5_K-Fib_E_Org_2          E        K  \n",
       "...                    ...      ...  \n",
       "13639_KP-Fib_N_Org_1     N       KP  \n",
       "13640_KP-Fib_N_Org_1     N       KP  \n",
       "13641_KP-Fib_N_Org_1     N       KP  \n",
       "13642_KP-Fib_N_Org_1     N       KP  \n",
       "13643_KP-Fib_N_Org_1     N       KP  \n",
       "\n",
       "[3724496 rows x 7 columns]"
      ]
     },
     "execution_count": 198,
     "metadata": {},
     "output_type": "execute_result"
    }
   ],
   "source": [
    "adata.obs"
   ]
  },
  {
   "cell_type": "code",
   "execution_count": 196,
   "id": "b63a79d6",
   "metadata": {
    "ExecuteTime": {
     "end_time": "2023-03-28T13:53:31.131678Z",
     "start_time": "2023-03-28T13:53:30.995179Z"
    }
   },
   "outputs": [
    {
     "data": {
      "text/plain": [
       "array(['co-culture', 'monoculture'], dtype=object)"
      ]
     },
     "execution_count": 196,
     "metadata": {},
     "output_type": "execute_result"
    }
   ],
   "source": [
    "adata.obs['format'].unique()"
   ]
  },
  {
   "cell_type": "code",
   "execution_count": null,
   "id": "576e3c0f",
   "metadata": {},
   "outputs": [],
   "source": []
  },
  {
   "cell_type": "code",
   "execution_count": null,
   "id": "7c365741",
   "metadata": {},
   "outputs": [],
   "source": []
  },
  {
   "cell_type": "code",
   "execution_count": null,
   "id": "119c8ba4",
   "metadata": {},
   "outputs": [],
   "source": []
  },
  {
   "cell_type": "code",
   "execution_count": null,
   "id": "81f24e78",
   "metadata": {},
   "outputs": [],
   "source": []
  },
  {
   "cell_type": "code",
   "execution_count": null,
   "id": "3cd608c5",
   "metadata": {},
   "outputs": [],
   "source": []
  },
  {
   "cell_type": "code",
   "execution_count": null,
   "id": "ab818aec",
   "metadata": {},
   "outputs": [],
   "source": []
  },
  {
   "cell_type": "code",
   "execution_count": null,
   "id": "cba72965",
   "metadata": {},
   "outputs": [],
   "source": []
  },
  {
   "cell_type": "code",
   "execution_count": null,
   "id": "4cb2a92f",
   "metadata": {},
   "outputs": [],
   "source": []
  },
  {
   "cell_type": "code",
   "execution_count": null,
   "id": "a53f6b1e",
   "metadata": {},
   "outputs": [],
   "source": []
  },
  {
   "cell_type": "code",
   "execution_count": null,
   "id": "239a1bbe",
   "metadata": {},
   "outputs": [],
   "source": []
  },
  {
   "cell_type": "code",
   "execution_count": null,
   "id": "85507765",
   "metadata": {},
   "outputs": [],
   "source": []
  },
  {
   "cell_type": "code",
   "execution_count": null,
   "id": "2e1ebe07",
   "metadata": {},
   "outputs": [],
   "source": []
  },
  {
   "cell_type": "code",
   "execution_count": null,
   "id": "df4bef02",
   "metadata": {},
   "outputs": [],
   "source": []
  },
  {
   "cell_type": "code",
   "execution_count": null,
   "id": "351c1ff1",
   "metadata": {},
   "outputs": [],
   "source": []
  }
 ],
 "metadata": {
  "hide_input": false,
  "kernelspec": {
   "display_name": "Python 3 (ipykernel)",
   "language": "python",
   "name": "python3"
  },
  "language_info": {
   "codemirror_mode": {
    "name": "ipython",
    "version": 3
   },
   "file_extension": ".py",
   "mimetype": "text/x-python",
   "name": "python",
   "nbconvert_exporter": "python",
   "pygments_lexer": "ipython3",
   "version": "3.9.13"
  }
 },
 "nbformat": 4,
 "nbformat_minor": 5
}
