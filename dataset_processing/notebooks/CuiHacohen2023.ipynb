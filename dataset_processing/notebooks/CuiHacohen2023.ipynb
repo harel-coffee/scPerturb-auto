{
 "cells": [
  {
   "cell_type": "code",
   "execution_count": 1,
   "id": "33f8503a-5cf0-4868-bbd9-96517a1824c7",
   "metadata": {
    "tags": []
   },
   "outputs": [
    {
     "name": "stdout",
     "output_type": "stream",
     "text": [
      "\u001b[31mERROR: pip's dependency resolver does not currently take into account all the packages that are installed. This behaviour is the source of the following dependency conflicts.\n",
      "pyopenssl 23.0.0 requires cryptography<40,>=38.0.0, but you have cryptography 41.0.7 which is incompatible.\u001b[0m\u001b[31m\n",
      "\u001b[0m"
     ]
    }
   ],
   "source": [
    "!pip install mygene statannotations scrublet scanpy scvelo decoupler matplotlib_venn goatools gseapy scperturb biomart PyComplexHeatmap statsmodels omnipath git+https://github.com/saezlab/pypath.git --quiet"
   ]
  },
  {
   "cell_type": "code",
   "execution_count": 2,
   "id": "cc825646-f94b-4535-87e3-64f4a7f4b2cb",
   "metadata": {
    "tags": []
   },
   "outputs": [
    {
     "name": "stderr",
     "output_type": "stream",
     "text": [
      "/tmp/ipykernel_50/1400239515.py:17: DeprecationWarning: Importing display from IPython.core.display is deprecated since IPython 7.14, please import from IPython display\n",
      "  from IPython.core.display import display, HTML\n"
     ]
    },
    {
     "data": {
      "text/html": [
       "<style>.container { width:95% !important; }</style>"
      ],
      "text/plain": [
       "<IPython.core.display.HTML object>"
      ]
     },
     "metadata": {},
     "output_type": "display_data"
    }
   ],
   "source": [
    "import subprocess\n",
    "import os\n",
    "import sys\n",
    "import matplotlib.backends.backend_pdf\n",
    "import scanpy as sc\n",
    "import matplotlib.pyplot as pl\n",
    "import anndata as ad\n",
    "import pandas as pd\n",
    "import numpy as np\n",
    "import seaborn as sns\n",
    "\n",
    "from pathlib import Path\n",
    "\n",
    "# Jupyter stuff\n",
    "from tqdm.notebook import tqdm\n",
    "from IPython.display import clear_output\n",
    "from IPython.core.display import display, HTML\n",
    "display(HTML(\"<style>.container { width:95% !important; }</style>\"))\n",
    "\n",
    "%matplotlib inline\n",
    "\n",
    "# Custom functions\n",
    "sys.path.insert(1, '../')\n",
    "from utils import *\n",
    "\n",
    "# scperturb package\n",
    "sys.path.insert(1, '../package/src/')\n",
    "from scperturb import *\n",
    "\n",
    "from pathlib import Path\n",
    "figure_path = Path('../figures/')"
   ]
  },
  {
   "cell_type": "code",
   "execution_count": 3,
   "id": "20257eca-28f2-4656-803c-430d8ee7a08d",
   "metadata": {
    "tags": []
   },
   "outputs": [],
   "source": [
    "TEMPDIR = Path('/scratch/peidli/scPerturb/')"
   ]
  },
  {
   "cell_type": "code",
   "execution_count": 4,
   "id": "986f8de6-1fe1-4cf9-8f87-9ba522328ba0",
   "metadata": {
    "tags": []
   },
   "outputs": [],
   "source": [
    "ids = [f'0{x}' if x < 10 else str(x) for x in range(1, 46) if x != 12]  # sample 12 is missing"
   ]
  },
  {
   "cell_type": "code",
   "execution_count": 6,
   "id": "d113ccc5-0e0c-4513-b17b-d29a3a28a1cf",
   "metadata": {
    "tags": []
   },
   "outputs": [],
   "source": [
    "files = [TEMPDIR / \"CuiHacohen2023/samples20_temp_annotated.h5ad\", TEMPDIR / \"CuiHacohen2023/samples21_temp_annotated.h5ad\"]"
   ]
  },
  {
   "cell_type": "code",
   "execution_count": 7,
   "id": "b2cc2f51-63fa-4af7-8675-c4aafedc7fc2",
   "metadata": {
    "tags": []
   },
   "outputs": [
    {
     "data": {
      "application/vnd.jupyter.widget-view+json": {
       "model_id": "6a3a5afaa8b24ff1b015f323deb09b91",
       "version_major": 2,
       "version_minor": 0
      },
      "text/plain": [
       "  0%|          | 0/2 [00:00<?, ?it/s]"
      ]
     },
     "metadata": {},
     "output_type": "display_data"
    },
    {
     "name": "stderr",
     "output_type": "stream",
     "text": [
      "/opt/conda/lib/python3.10/site-packages/anndata/__init__.py:51: FutureWarning: `anndata.read` is deprecated, use `anndata.read_h5ad` instead. `ad.read` will be removed in mid 2024.\n",
      "  warnings.warn(\n",
      "/opt/conda/lib/python3.10/site-packages/anndata/__init__.py:51: FutureWarning: `anndata.read` is deprecated, use `anndata.read_h5ad` instead. `ad.read` will be removed in mid 2024.\n",
      "  warnings.warn(\n"
     ]
    }
   ],
   "source": [
    "adatas = []\n",
    "for f in tqdm(files):\n",
    "    adata = sc.read(f)\n",
    "    adatas.append(adata)"
   ]
  },
  {
   "cell_type": "code",
   "execution_count": 17,
   "id": "783ce88b-9d7f-437c-9f5a-e8657a14b3c9",
   "metadata": {
    "tags": []
   },
   "outputs": [],
   "source": [
    "adata = sc.concat(adatas, axis=0)"
   ]
  },
  {
   "cell_type": "code",
   "execution_count": 18,
   "id": "413ff6b2-c58d-4229-89bb-1abaa0d947be",
   "metadata": {
    "tags": []
   },
   "outputs": [
    {
     "name": "stderr",
     "output_type": "stream",
     "text": [
      "/tmp/ipykernel_50/606385222.py:13: SettingWithCopyWarning: \n",
      "A value is trying to be set on a copy of a slice from a DataFrame\n",
      "\n",
      "See the caveats in the documentation: https://pandas.pydata.org/pandas-docs/stable/user_guide/indexing.html#returning-a-view-versus-a-copy\n",
      "  adata.obs['perturbation'][pd.isna(adata.obs['perturbation'])] = 'control'\n"
     ]
    }
   ],
   "source": [
    "# Obs\n",
    "adata.obs.rename({\n",
    "    'nCount_RNA': 'ncounts', \n",
    "    'nFeature_RNA': 'ngenes',\n",
    "    'nCount_HTO': 'ncounts_tags',\n",
    "    'filename_prefix': 'sample',\n",
    "    'processing_batch': 'batch',\n",
    "    'biological_replicate_number': 'bio_replicate',\n",
    "    'cytokine': 'perturbation'\n",
    "}, axis=1, inplace=True)\n",
    "adata.obs.drop(['nFeature_HTO'], axis=1, inplace=True)\n",
    "adata.obs.perturbation = adata.obs.perturbation.astype(str)\n",
    "adata.obs['perturbation'][pd.isna(adata.obs['perturbation'])] = 'control'\n",
    "adata.obs = adata.obs[['perturbation', 'batch', 'bio_replicate', 'sample', 'ncounts', 'ngenes', 'ncounts_tags', 'hashtag_ID']]\n",
    "adata.obs['nperts'] = [1-p.count('control') if type(p)==str else 0 for p in adata.obs.perturbation]\n",
    "adata.obs['perturbation_type'] = 'cytokines'\n",
    "adata.obs['disease'] = \"healthy\"\n",
    "adata.obs['cancer'] = False\n",
    "adata.obs['tissue_type']=\"primary\"\n",
    "adata.obs[\"celltype\"] = 'mixed cells from draining lymph nodes'\n",
    "adata.obs['organism'] = 'mouse'"
   ]
  },
  {
   "cell_type": "code",
   "execution_count": 19,
   "id": "05caf68c-d18a-4894-9a53-2cdb9a2d7df6",
   "metadata": {
    "tags": []
   },
   "outputs": [
    {
     "data": {
      "text/html": [
       "<div>\n",
       "<style scoped>\n",
       "    .dataframe tbody tr th:only-of-type {\n",
       "        vertical-align: middle;\n",
       "    }\n",
       "\n",
       "    .dataframe tbody tr th {\n",
       "        vertical-align: top;\n",
       "    }\n",
       "\n",
       "    .dataframe thead th {\n",
       "        text-align: right;\n",
       "    }\n",
       "</style>\n",
       "<table border=\"1\" class=\"dataframe\">\n",
       "  <thead>\n",
       "    <tr style=\"text-align: right;\">\n",
       "      <th></th>\n",
       "      <th>perturbation</th>\n",
       "      <th>batch</th>\n",
       "      <th>bio_replicate</th>\n",
       "      <th>sample</th>\n",
       "      <th>ncounts</th>\n",
       "      <th>ngenes</th>\n",
       "      <th>ncounts_tags</th>\n",
       "      <th>hashtag_ID</th>\n",
       "      <th>nperts</th>\n",
       "      <th>perturbation_type</th>\n",
       "      <th>disease</th>\n",
       "      <th>cancer</th>\n",
       "      <th>tissue_type</th>\n",
       "      <th>celltype</th>\n",
       "      <th>organism</th>\n",
       "    </tr>\n",
       "  </thead>\n",
       "  <tbody>\n",
       "    <tr>\n",
       "      <th>AAACCCAAGCCAGACA-20</th>\n",
       "      <td>PBS</td>\n",
       "      <td>7.0</td>\n",
       "      <td>rep8</td>\n",
       "      <td>cytokine-samples20</td>\n",
       "      <td>125</td>\n",
       "      <td>110</td>\n",
       "      <td>300</td>\n",
       "      <td>7</td>\n",
       "      <td>1</td>\n",
       "      <td>cytokines</td>\n",
       "      <td>healthy</td>\n",
       "      <td>False</td>\n",
       "      <td>primary</td>\n",
       "      <td>mixed cells from draining lymph nodes</td>\n",
       "      <td>mouse</td>\n",
       "    </tr>\n",
       "    <tr>\n",
       "      <th>AAACCCAAGCCTCAAT-20</th>\n",
       "      <td>IL-17A</td>\n",
       "      <td>7.0</td>\n",
       "      <td>rep1</td>\n",
       "      <td>cytokine-samples20</td>\n",
       "      <td>245</td>\n",
       "      <td>194</td>\n",
       "      <td>388</td>\n",
       "      <td>1</td>\n",
       "      <td>1</td>\n",
       "      <td>cytokines</td>\n",
       "      <td>healthy</td>\n",
       "      <td>False</td>\n",
       "      <td>primary</td>\n",
       "      <td>mixed cells from draining lymph nodes</td>\n",
       "      <td>mouse</td>\n",
       "    </tr>\n",
       "    <tr>\n",
       "      <th>AAACCCAAGTTTCAGC-20</th>\n",
       "      <td>IL-17C</td>\n",
       "      <td>7.0</td>\n",
       "      <td>rep1</td>\n",
       "      <td>cytokine-samples20</td>\n",
       "      <td>103</td>\n",
       "      <td>93</td>\n",
       "      <td>683</td>\n",
       "      <td>3</td>\n",
       "      <td>1</td>\n",
       "      <td>cytokines</td>\n",
       "      <td>healthy</td>\n",
       "      <td>False</td>\n",
       "      <td>primary</td>\n",
       "      <td>mixed cells from draining lymph nodes</td>\n",
       "      <td>mouse</td>\n",
       "    </tr>\n",
       "    <tr>\n",
       "      <th>AAACCCACACCAAATC-20</th>\n",
       "      <td>PBS</td>\n",
       "      <td>7.0</td>\n",
       "      <td>rep8</td>\n",
       "      <td>cytokine-samples20</td>\n",
       "      <td>144</td>\n",
       "      <td>119</td>\n",
       "      <td>229</td>\n",
       "      <td>7</td>\n",
       "      <td>1</td>\n",
       "      <td>cytokines</td>\n",
       "      <td>healthy</td>\n",
       "      <td>False</td>\n",
       "      <td>primary</td>\n",
       "      <td>mixed cells from draining lymph nodes</td>\n",
       "      <td>mouse</td>\n",
       "    </tr>\n",
       "    <tr>\n",
       "      <th>AAACCCAGTACTAACC-20</th>\n",
       "      <td>PBS</td>\n",
       "      <td>7.0</td>\n",
       "      <td>rep8</td>\n",
       "      <td>cytokine-samples20</td>\n",
       "      <td>134</td>\n",
       "      <td>101</td>\n",
       "      <td>232</td>\n",
       "      <td>7</td>\n",
       "      <td>1</td>\n",
       "      <td>cytokines</td>\n",
       "      <td>healthy</td>\n",
       "      <td>False</td>\n",
       "      <td>primary</td>\n",
       "      <td>mixed cells from draining lymph nodes</td>\n",
       "      <td>mouse</td>\n",
       "    </tr>\n",
       "    <tr>\n",
       "      <th>...</th>\n",
       "      <td>...</td>\n",
       "      <td>...</td>\n",
       "      <td>...</td>\n",
       "      <td>...</td>\n",
       "      <td>...</td>\n",
       "      <td>...</td>\n",
       "      <td>...</td>\n",
       "      <td>...</td>\n",
       "      <td>...</td>\n",
       "      <td>...</td>\n",
       "      <td>...</td>\n",
       "      <td>...</td>\n",
       "      <td>...</td>\n",
       "      <td>...</td>\n",
       "      <td>...</td>\n",
       "    </tr>\n",
       "    <tr>\n",
       "      <th>TTTGTTGAGGGCCTCT-21</th>\n",
       "      <td>PBS</td>\n",
       "      <td>7.0</td>\n",
       "      <td>rep7</td>\n",
       "      <td>cytokine-samples21</td>\n",
       "      <td>105</td>\n",
       "      <td>95</td>\n",
       "      <td>408</td>\n",
       "      <td>6</td>\n",
       "      <td>1</td>\n",
       "      <td>cytokines</td>\n",
       "      <td>healthy</td>\n",
       "      <td>False</td>\n",
       "      <td>primary</td>\n",
       "      <td>mixed cells from draining lymph nodes</td>\n",
       "      <td>mouse</td>\n",
       "    </tr>\n",
       "    <tr>\n",
       "      <th>TTTGTTGCAATCCTTT-21</th>\n",
       "      <td>C3a</td>\n",
       "      <td>7.0</td>\n",
       "      <td>rep2</td>\n",
       "      <td>cytokine-samples21</td>\n",
       "      <td>505</td>\n",
       "      <td>306</td>\n",
       "      <td>360</td>\n",
       "      <td>1</td>\n",
       "      <td>1</td>\n",
       "      <td>cytokines</td>\n",
       "      <td>healthy</td>\n",
       "      <td>False</td>\n",
       "      <td>primary</td>\n",
       "      <td>mixed cells from draining lymph nodes</td>\n",
       "      <td>mouse</td>\n",
       "    </tr>\n",
       "    <tr>\n",
       "      <th>TTTGTTGCAATTCGTG-21</th>\n",
       "      <td>C3a</td>\n",
       "      <td>7.0</td>\n",
       "      <td>rep2</td>\n",
       "      <td>cytokine-samples21</td>\n",
       "      <td>114</td>\n",
       "      <td>96</td>\n",
       "      <td>283</td>\n",
       "      <td>1</td>\n",
       "      <td>1</td>\n",
       "      <td>cytokines</td>\n",
       "      <td>healthy</td>\n",
       "      <td>False</td>\n",
       "      <td>primary</td>\n",
       "      <td>mixed cells from draining lymph nodes</td>\n",
       "      <td>mouse</td>\n",
       "    </tr>\n",
       "    <tr>\n",
       "      <th>TTTGTTGCAGAGGCTA-21</th>\n",
       "      <td>nan</td>\n",
       "      <td>7.0</td>\n",
       "      <td>NaN</td>\n",
       "      <td>cytokine-samples21</td>\n",
       "      <td>156</td>\n",
       "      <td>94</td>\n",
       "      <td>635</td>\n",
       "      <td>5</td>\n",
       "      <td>0</td>\n",
       "      <td>cytokines</td>\n",
       "      <td>healthy</td>\n",
       "      <td>False</td>\n",
       "      <td>primary</td>\n",
       "      <td>mixed cells from draining lymph nodes</td>\n",
       "      <td>mouse</td>\n",
       "    </tr>\n",
       "    <tr>\n",
       "      <th>TTTGTTGCAGTCTGGC-21</th>\n",
       "      <td>IL-17D</td>\n",
       "      <td>7.0</td>\n",
       "      <td>rep2</td>\n",
       "      <td>cytokine-samples21</td>\n",
       "      <td>3976</td>\n",
       "      <td>1348</td>\n",
       "      <td>1162</td>\n",
       "      <td>3</td>\n",
       "      <td>1</td>\n",
       "      <td>cytokines</td>\n",
       "      <td>healthy</td>\n",
       "      <td>False</td>\n",
       "      <td>primary</td>\n",
       "      <td>mixed cells from draining lymph nodes</td>\n",
       "      <td>mouse</td>\n",
       "    </tr>\n",
       "  </tbody>\n",
       "</table>\n",
       "<p>15515 rows × 15 columns</p>\n",
       "</div>"
      ],
      "text/plain": [
       "                    perturbation  batch bio_replicate              sample  \\\n",
       "AAACCCAAGCCAGACA-20          PBS    7.0          rep8  cytokine-samples20   \n",
       "AAACCCAAGCCTCAAT-20       IL-17A    7.0          rep1  cytokine-samples20   \n",
       "AAACCCAAGTTTCAGC-20       IL-17C    7.0          rep1  cytokine-samples20   \n",
       "AAACCCACACCAAATC-20          PBS    7.0          rep8  cytokine-samples20   \n",
       "AAACCCAGTACTAACC-20          PBS    7.0          rep8  cytokine-samples20   \n",
       "...                          ...    ...           ...                 ...   \n",
       "TTTGTTGAGGGCCTCT-21          PBS    7.0          rep7  cytokine-samples21   \n",
       "TTTGTTGCAATCCTTT-21          C3a    7.0          rep2  cytokine-samples21   \n",
       "TTTGTTGCAATTCGTG-21          C3a    7.0          rep2  cytokine-samples21   \n",
       "TTTGTTGCAGAGGCTA-21          nan    7.0           NaN  cytokine-samples21   \n",
       "TTTGTTGCAGTCTGGC-21       IL-17D    7.0          rep2  cytokine-samples21   \n",
       "\n",
       "                     ncounts  ngenes  ncounts_tags hashtag_ID  nperts  \\\n",
       "AAACCCAAGCCAGACA-20      125     110           300          7       1   \n",
       "AAACCCAAGCCTCAAT-20      245     194           388          1       1   \n",
       "AAACCCAAGTTTCAGC-20      103      93           683          3       1   \n",
       "AAACCCACACCAAATC-20      144     119           229          7       1   \n",
       "AAACCCAGTACTAACC-20      134     101           232          7       1   \n",
       "...                      ...     ...           ...        ...     ...   \n",
       "TTTGTTGAGGGCCTCT-21      105      95           408          6       1   \n",
       "TTTGTTGCAATCCTTT-21      505     306           360          1       1   \n",
       "TTTGTTGCAATTCGTG-21      114      96           283          1       1   \n",
       "TTTGTTGCAGAGGCTA-21      156      94           635          5       0   \n",
       "TTTGTTGCAGTCTGGC-21     3976    1348          1162          3       1   \n",
       "\n",
       "                    perturbation_type  disease  cancer tissue_type  \\\n",
       "AAACCCAAGCCAGACA-20         cytokines  healthy   False     primary   \n",
       "AAACCCAAGCCTCAAT-20         cytokines  healthy   False     primary   \n",
       "AAACCCAAGTTTCAGC-20         cytokines  healthy   False     primary   \n",
       "AAACCCACACCAAATC-20         cytokines  healthy   False     primary   \n",
       "AAACCCAGTACTAACC-20         cytokines  healthy   False     primary   \n",
       "...                               ...      ...     ...         ...   \n",
       "TTTGTTGAGGGCCTCT-21         cytokines  healthy   False     primary   \n",
       "TTTGTTGCAATCCTTT-21         cytokines  healthy   False     primary   \n",
       "TTTGTTGCAATTCGTG-21         cytokines  healthy   False     primary   \n",
       "TTTGTTGCAGAGGCTA-21         cytokines  healthy   False     primary   \n",
       "TTTGTTGCAGTCTGGC-21         cytokines  healthy   False     primary   \n",
       "\n",
       "                                                  celltype organism  \n",
       "AAACCCAAGCCAGACA-20  mixed cells from draining lymph nodes    mouse  \n",
       "AAACCCAAGCCTCAAT-20  mixed cells from draining lymph nodes    mouse  \n",
       "AAACCCAAGTTTCAGC-20  mixed cells from draining lymph nodes    mouse  \n",
       "AAACCCACACCAAATC-20  mixed cells from draining lymph nodes    mouse  \n",
       "AAACCCAGTACTAACC-20  mixed cells from draining lymph nodes    mouse  \n",
       "...                                                    ...      ...  \n",
       "TTTGTTGAGGGCCTCT-21  mixed cells from draining lymph nodes    mouse  \n",
       "TTTGTTGCAATCCTTT-21  mixed cells from draining lymph nodes    mouse  \n",
       "TTTGTTGCAATTCGTG-21  mixed cells from draining lymph nodes    mouse  \n",
       "TTTGTTGCAGAGGCTA-21  mixed cells from draining lymph nodes    mouse  \n",
       "TTTGTTGCAGTCTGGC-21  mixed cells from draining lymph nodes    mouse  \n",
       "\n",
       "[15515 rows x 15 columns]"
      ]
     },
     "execution_count": 19,
     "metadata": {},
     "output_type": "execute_result"
    }
   ],
   "source": [
    "adata.obs"
   ]
  },
  {
   "cell_type": "code",
   "execution_count": 21,
   "id": "aa411d67-e5e6-42ec-a227-dd07ac0de238",
   "metadata": {
    "tags": []
   },
   "outputs": [],
   "source": [
    "adata = sc.read(TEMPDIR / \"CuiHacohen2023.h5ad\")"
   ]
  },
  {
   "cell_type": "code",
   "execution_count": null,
   "id": "1d0e488d-1fe2-4f14-bb04-239814fb23bf",
   "metadata": {},
   "outputs": [],
   "source": []
  }
 ],
 "metadata": {
  "kernelspec": {
   "display_name": "Python 3 (ipykernel)",
   "language": "python",
   "name": "python3"
  },
  "language_info": {
   "codemirror_mode": {
    "name": "ipython",
    "version": 3
   },
   "file_extension": ".py",
   "mimetype": "text/x-python",
   "name": "python",
   "nbconvert_exporter": "python",
   "pygments_lexer": "ipython3",
   "version": "3.10.9"
  }
 },
 "nbformat": 4,
 "nbformat_minor": 5
}
