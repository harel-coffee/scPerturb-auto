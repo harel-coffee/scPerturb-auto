{
 "cells": [
  {
   "cell_type": "code",
   "execution_count": 1,
   "id": "338742b7-7103-4475-adf1-0b6122dd3abb",
   "metadata": {
    "tags": []
   },
   "outputs": [
    {
     "name": "stdout",
     "output_type": "stream",
     "text": [
      "\u001b[31mERROR: pip's dependency resolver does not currently take into account all the packages that are installed. This behaviour is the source of the following dependency conflicts.\n",
      "pyopenssl 23.0.0 requires cryptography<40,>=38.0.0, but you have cryptography 41.0.7 which is incompatible.\u001b[0m\u001b[31m\n",
      "\u001b[0m"
     ]
    }
   ],
   "source": [
    "!pip install mygene statannotations scrublet scanpy scvelo decoupler matplotlib_venn goatools gseapy scperturb biomart PyComplexHeatmap statsmodels omnipath git+https://github.com/saezlab/pypath.git --quiet"
   ]
  },
  {
   "cell_type": "code",
   "execution_count": 2,
   "id": "bdf19927-f5a5-49e3-85ee-9b22bbed4b30",
   "metadata": {
    "tags": []
   },
   "outputs": [
    {
     "data": {
      "text/html": [
       "<style>.container { width:95% !important; }</style>"
      ],
      "text/plain": [
       "<IPython.core.display.HTML object>"
      ]
     },
     "metadata": {},
     "output_type": "display_data"
    }
   ],
   "source": [
    "import subprocess\n",
    "import os\n",
    "import sys\n",
    "import matplotlib.backends.backend_pdf\n",
    "import scanpy as sc\n",
    "import matplotlib.pyplot as pl\n",
    "import anndata as ad\n",
    "import pandas as pd\n",
    "import numpy as np\n",
    "import seaborn as sns\n",
    "import scvelo as scv\n",
    "scv.settings.verbosity=1\n",
    "\n",
    "from pathlib import Path\n",
    "\n",
    "# Jupyter stuff\n",
    "from tqdm.notebook import tqdm\n",
    "from IPython.display import clear_output\n",
    "from IPython.core.display import display, HTML\n",
    "display(HTML(\"<style>.container { width:95% !important; }</style>\"))\n",
    "\n",
    "%matplotlib inline\n",
    "\n",
    "# Custom functions\n",
    "sys.path.insert(1, '../')\n",
    "from utils import *\n",
    "\n",
    "# scperturb package\n",
    "sys.path.insert(1, '../package/src/')\n",
    "from scperturb import *\n",
    "\n",
    "from pathlib import Path\n",
    "figure_path = Path('../figures/')"
   ]
  },
  {
   "cell_type": "code",
   "execution_count": 3,
   "id": "1276f674-d382-4a04-a5a1-89034a5d6892",
   "metadata": {
    "tags": []
   },
   "outputs": [],
   "source": [
    "TEMPDIR = Path('/scratch/peidli/scPerturb/')"
   ]
  },
  {
   "cell_type": "code",
   "execution_count": 5,
   "id": "c604eabe-3e9e-48f7-a090-3fd76bc847f3",
   "metadata": {
    "tags": []
   },
   "outputs": [
    {
     "data": {
      "text/plain": [
       "['GSM5387652_iTF_Microglia_10X_Lane1_filtered_feature_bc_matrix.h5',\n",
       " 'GSM5387652_iTF_Microglia_10X_Lane1_raw_feature_bc_matrix.h5',\n",
       " 'GSM5387653_iTF_Microglia_10X_Lane2_filtered_feature_bc_matrix.h5',\n",
       " 'GSM5387653_iTF_Microglia_10X_Lane2_raw_feature_bc_matrix.h5',\n",
       " 'GSM5387654_iTF_Microglia_10X_Lane3_filtered_feature_bc_matrix.h5',\n",
       " 'GSM5387654_iTF_Microglia_10X_Lane3_raw_feature_bc_matrix.h5',\n",
       " 'GSM5387655_iTF_Microglia_10X_Lane4_filtered_feature_bc_matrix.h5',\n",
       " 'GSM5387655_iTF_Microglia_10X_Lane4_raw_feature_bc_matrix.h5',\n",
       " 'GSM5387656_iTF_Microglia_sgRNAenrichment_Lane1_filtered_feature_bc_matrix.h5',\n",
       " 'GSM5387656_iTF_Microglia_sgRNAenrichment_Lane1_raw_feature_bc_matrix.h5',\n",
       " 'GSM5387657_iTF_Microglia_sgRNAenrichment_Lane2_filtered_feature_bc_matrix.h5',\n",
       " 'GSM5387657_iTF_Microglia_sgRNAenrichment_Lane2_raw_feature_bc_matrix.h5',\n",
       " 'GSM5387658_iTF_Microglia_sgRNAenrichment_Lane3_filtered_feature_bc_matrix.h5',\n",
       " 'GSM5387658_iTF_Microglia_sgRNAenrichment_Lane3_raw_feature_bc_matrix.h5',\n",
       " 'GSM5387659_iTF_Microglia_sgRNAenrichment_Lane4_filtered_feature_bc_matrix.h5',\n",
       " 'GSM5387659_iTF_Microglia_sgRNAenrichment_Lane4_raw_feature_bc_matrix.h5']"
      ]
     },
     "execution_count": 5,
     "metadata": {},
     "output_type": "execute_result"
    }
   ],
   "source": [
    "sorted([file.name for file in (TEMPDIR / 'DraegerKampmann2022/').glob('*')])"
   ]
  },
  {
   "cell_type": "code",
   "execution_count": null,
   "id": "ce78baa9-ac2a-47a4-9f1b-ec946a900c0e",
   "metadata": {
    "tags": []
   },
   "outputs": [],
   "source": [
    "adata = sc.read_10x_h5(TEMPDIR / 'DraegerKampmann2022/GSM5387652_iTF_Microglia_10X_Lane1_filtered_feature_bc_matrix.h5', gex_only=False)"
   ]
  },
  {
   "cell_type": "code",
   "execution_count": 26,
   "id": "c38519dc-b293-47f3-88af-88e82e3ca005",
   "metadata": {
    "tags": []
   },
   "outputs": [
    {
     "data": {
      "text/html": [
       "<div>\n",
       "<style scoped>\n",
       "    .dataframe tbody tr th:only-of-type {\n",
       "        vertical-align: middle;\n",
       "    }\n",
       "\n",
       "    .dataframe tbody tr th {\n",
       "        vertical-align: top;\n",
       "    }\n",
       "\n",
       "    .dataframe thead th {\n",
       "        text-align: right;\n",
       "    }\n",
       "</style>\n",
       "<table border=\"1\" class=\"dataframe\">\n",
       "  <thead>\n",
       "    <tr style=\"text-align: right;\">\n",
       "      <th></th>\n",
       "      <th>gene_ids</th>\n",
       "      <th>feature_types</th>\n",
       "      <th>genome</th>\n",
       "    </tr>\n",
       "  </thead>\n",
       "  <tbody>\n",
       "    <tr>\n",
       "      <th>MIR1302-2HG</th>\n",
       "      <td>ENSG00000243485</td>\n",
       "      <td>Gene Expression</td>\n",
       "      <td>GRCh38</td>\n",
       "    </tr>\n",
       "    <tr>\n",
       "      <th>FAM138A</th>\n",
       "      <td>ENSG00000237613</td>\n",
       "      <td>Gene Expression</td>\n",
       "      <td>GRCh38</td>\n",
       "    </tr>\n",
       "    <tr>\n",
       "      <th>OR4F5</th>\n",
       "      <td>ENSG00000186092</td>\n",
       "      <td>Gene Expression</td>\n",
       "      <td>GRCh38</td>\n",
       "    </tr>\n",
       "    <tr>\n",
       "      <th>AL627309.1</th>\n",
       "      <td>ENSG00000238009</td>\n",
       "      <td>Gene Expression</td>\n",
       "      <td>GRCh38</td>\n",
       "    </tr>\n",
       "    <tr>\n",
       "      <th>AL627309.3</th>\n",
       "      <td>ENSG00000239945</td>\n",
       "      <td>Gene Expression</td>\n",
       "      <td>GRCh38</td>\n",
       "    </tr>\n",
       "    <tr>\n",
       "      <th>...</th>\n",
       "      <td>...</td>\n",
       "      <td>...</td>\n",
       "      <td>...</td>\n",
       "    </tr>\n",
       "    <tr>\n",
       "      <th>AC233755.2</th>\n",
       "      <td>ENSG00000277856</td>\n",
       "      <td>Gene Expression</td>\n",
       "      <td>GRCh38</td>\n",
       "    </tr>\n",
       "    <tr>\n",
       "      <th>AC233755.1</th>\n",
       "      <td>ENSG00000275063</td>\n",
       "      <td>Gene Expression</td>\n",
       "      <td>GRCh38</td>\n",
       "    </tr>\n",
       "    <tr>\n",
       "      <th>AC240274.1</th>\n",
       "      <td>ENSG00000271254</td>\n",
       "      <td>Gene Expression</td>\n",
       "      <td>GRCh38</td>\n",
       "    </tr>\n",
       "    <tr>\n",
       "      <th>AC213203.1</th>\n",
       "      <td>ENSG00000277475</td>\n",
       "      <td>Gene Expression</td>\n",
       "      <td>GRCh38</td>\n",
       "    </tr>\n",
       "    <tr>\n",
       "      <th>FAM231C</th>\n",
       "      <td>ENSG00000268674</td>\n",
       "      <td>Gene Expression</td>\n",
       "      <td>GRCh38</td>\n",
       "    </tr>\n",
       "  </tbody>\n",
       "</table>\n",
       "<p>33538 rows × 3 columns</p>\n",
       "</div>"
      ],
      "text/plain": [
       "                    gene_ids    feature_types  genome\n",
       "MIR1302-2HG  ENSG00000243485  Gene Expression  GRCh38\n",
       "FAM138A      ENSG00000237613  Gene Expression  GRCh38\n",
       "OR4F5        ENSG00000186092  Gene Expression  GRCh38\n",
       "AL627309.1   ENSG00000238009  Gene Expression  GRCh38\n",
       "AL627309.3   ENSG00000239945  Gene Expression  GRCh38\n",
       "...                      ...              ...     ...\n",
       "AC233755.2   ENSG00000277856  Gene Expression  GRCh38\n",
       "AC233755.1   ENSG00000275063  Gene Expression  GRCh38\n",
       "AC240274.1   ENSG00000271254  Gene Expression  GRCh38\n",
       "AC213203.1   ENSG00000277475  Gene Expression  GRCh38\n",
       "FAM231C      ENSG00000268674  Gene Expression  GRCh38\n",
       "\n",
       "[33538 rows x 3 columns]"
      ]
     },
     "execution_count": 28,
     "metadata": {},
     "output_type": "execute_result"
    }
   ],
   "source": [
    "adata.var"
   ]
  },
  {
   "cell_type": "code",
   "execution_count": 41,
   "id": "d7232587-66fa-45c3-a77e-a7bf35942fb7",
   "metadata": {
    "tags": []
   },
   "outputs": [
    {
     "data": {
      "text/plain": [
       "feature_types\n",
       "Gene Expression    33538\n",
       "dtype: int64"
      ]
     },
     "execution_count": 41,
     "metadata": {},
     "output_type": "execute_result"
    }
   ],
   "source": [
    "adata.var.value_counts('feature_types')"
   ]
  },
  {
   "cell_type": "code",
   "execution_count": 29,
   "id": "0b4a44dc-b63e-4819-b960-76956f4e8b69",
   "metadata": {
    "tags": []
   },
   "outputs": [],
   "source": [
    "sdata = sc.read_10x_h5(TEMPDIR / 'DraegerKampmann2022/GSM5387656_iTF_Microglia_sgRNAenrichment_Lane1_filtered_feature_bc_matrix.h5', gex_only=False)"
   ]
  },
  {
   "cell_type": "code",
   "execution_count": 30,
   "id": "7e599e57-81c4-41e9-a7a7-90dae7a420ac",
   "metadata": {
    "tags": []
   },
   "outputs": [
    {
     "data": {
      "text/plain": [
       "AnnData object with n_obs × n_vars = 59551 × 33538\n",
       "    var: 'gene_ids', 'feature_types', 'genome'"
      ]
     },
     "execution_count": 30,
     "metadata": {},
     "output_type": "execute_result"
    }
   ],
   "source": [
    "sdata"
   ]
  },
  {
   "cell_type": "code",
   "execution_count": 38,
   "id": "14770447-745d-45dc-ac9c-d1fa19319d93",
   "metadata": {
    "tags": []
   },
   "outputs": [
    {
     "data": {
      "text/html": [
       "<div>\n",
       "<style scoped>\n",
       "    .dataframe tbody tr th:only-of-type {\n",
       "        vertical-align: middle;\n",
       "    }\n",
       "\n",
       "    .dataframe tbody tr th {\n",
       "        vertical-align: top;\n",
       "    }\n",
       "\n",
       "    .dataframe thead th {\n",
       "        text-align: right;\n",
       "    }\n",
       "</style>\n",
       "<table border=\"1\" class=\"dataframe\">\n",
       "  <thead>\n",
       "    <tr style=\"text-align: right;\">\n",
       "      <th></th>\n",
       "      <th>gene_ids</th>\n",
       "      <th>feature_types</th>\n",
       "      <th>genome</th>\n",
       "    </tr>\n",
       "  </thead>\n",
       "  <tbody>\n",
       "    <tr>\n",
       "      <th>MIR1302-2HG</th>\n",
       "      <td>ENSG00000243485</td>\n",
       "      <td>Gene Expression</td>\n",
       "      <td>GRCh38</td>\n",
       "    </tr>\n",
       "    <tr>\n",
       "      <th>FAM138A</th>\n",
       "      <td>ENSG00000237613</td>\n",
       "      <td>Gene Expression</td>\n",
       "      <td>GRCh38</td>\n",
       "    </tr>\n",
       "    <tr>\n",
       "      <th>OR4F5</th>\n",
       "      <td>ENSG00000186092</td>\n",
       "      <td>Gene Expression</td>\n",
       "      <td>GRCh38</td>\n",
       "    </tr>\n",
       "    <tr>\n",
       "      <th>AL627309.1</th>\n",
       "      <td>ENSG00000238009</td>\n",
       "      <td>Gene Expression</td>\n",
       "      <td>GRCh38</td>\n",
       "    </tr>\n",
       "    <tr>\n",
       "      <th>AL627309.3</th>\n",
       "      <td>ENSG00000239945</td>\n",
       "      <td>Gene Expression</td>\n",
       "      <td>GRCh38</td>\n",
       "    </tr>\n",
       "    <tr>\n",
       "      <th>...</th>\n",
       "      <td>...</td>\n",
       "      <td>...</td>\n",
       "      <td>...</td>\n",
       "    </tr>\n",
       "    <tr>\n",
       "      <th>AC233755.2</th>\n",
       "      <td>ENSG00000277856</td>\n",
       "      <td>Gene Expression</td>\n",
       "      <td>GRCh38</td>\n",
       "    </tr>\n",
       "    <tr>\n",
       "      <th>AC233755.1</th>\n",
       "      <td>ENSG00000275063</td>\n",
       "      <td>Gene Expression</td>\n",
       "      <td>GRCh38</td>\n",
       "    </tr>\n",
       "    <tr>\n",
       "      <th>AC240274.1</th>\n",
       "      <td>ENSG00000271254</td>\n",
       "      <td>Gene Expression</td>\n",
       "      <td>GRCh38</td>\n",
       "    </tr>\n",
       "    <tr>\n",
       "      <th>AC213203.1</th>\n",
       "      <td>ENSG00000277475</td>\n",
       "      <td>Gene Expression</td>\n",
       "      <td>GRCh38</td>\n",
       "    </tr>\n",
       "    <tr>\n",
       "      <th>FAM231C</th>\n",
       "      <td>ENSG00000268674</td>\n",
       "      <td>Gene Expression</td>\n",
       "      <td>GRCh38</td>\n",
       "    </tr>\n",
       "  </tbody>\n",
       "</table>\n",
       "<p>33538 rows × 3 columns</p>\n",
       "</div>"
      ],
      "text/plain": [
       "                    gene_ids    feature_types  genome\n",
       "MIR1302-2HG  ENSG00000243485  Gene Expression  GRCh38\n",
       "FAM138A      ENSG00000237613  Gene Expression  GRCh38\n",
       "OR4F5        ENSG00000186092  Gene Expression  GRCh38\n",
       "AL627309.1   ENSG00000238009  Gene Expression  GRCh38\n",
       "AL627309.3   ENSG00000239945  Gene Expression  GRCh38\n",
       "...                      ...              ...     ...\n",
       "AC233755.2   ENSG00000277856  Gene Expression  GRCh38\n",
       "AC233755.1   ENSG00000275063  Gene Expression  GRCh38\n",
       "AC240274.1   ENSG00000271254  Gene Expression  GRCh38\n",
       "AC213203.1   ENSG00000277475  Gene Expression  GRCh38\n",
       "FAM231C      ENSG00000268674  Gene Expression  GRCh38\n",
       "\n",
       "[33538 rows x 3 columns]"
      ]
     },
     "execution_count": 38,
     "metadata": {},
     "output_type": "execute_result"
    }
   ],
   "source": [
    "sdata.var"
   ]
  },
  {
   "cell_type": "code",
   "execution_count": 40,
   "id": "067f6eb4-ed98-4bdf-a3cb-e87578c191ab",
   "metadata": {
    "tags": []
   },
   "outputs": [
    {
     "data": {
      "text/plain": [
       "feature_types\n",
       "Gene Expression    33538\n",
       "dtype: int64"
      ]
     },
     "execution_count": 40,
     "metadata": {},
     "output_type": "execute_result"
    }
   ],
   "source": [
    "sdata.var.value_counts('feature_types')"
   ]
  },
  {
   "cell_type": "code",
   "execution_count": 44,
   "id": "2a044e8a-16ac-4fb5-a88a-06c4f6a019b0",
   "metadata": {
    "tags": []
   },
   "outputs": [
    {
     "data": {
      "text/plain": [
       "Index(['AARS2', 'AARS', 'AARSD1'], dtype='object')"
      ]
     },
     "execution_count": 44,
     "metadata": {},
     "output_type": "execute_result"
    }
   ],
   "source": [
    "sdata.var_names[sdata.var.index.str.startswith('AARS')]"
   ]
  },
  {
   "cell_type": "code",
   "execution_count": 45,
   "id": "8e3ebcbc-a7ef-4b65-8545-586656cfb215",
   "metadata": {
    "tags": []
   },
   "outputs": [
    {
     "data": {
      "text/plain": [
       "Index(['CDK12'], dtype='object')"
      ]
     },
     "execution_count": 45,
     "metadata": {},
     "output_type": "execute_result"
    }
   ],
   "source": [
    "sdata.var_names[sdata.var.index.str.startswith('CDK12')]"
   ]
  },
  {
   "cell_type": "code",
   "execution_count": null,
   "id": "6fe653cd-894f-470d-bcdd-204846f72552",
   "metadata": {},
   "outputs": [],
   "source": [
    "# There is no sgRNA-seq info in here. I wrote to the original authors (01.12.2023)"
   ]
  }
 ],
 "metadata": {
  "kernelspec": {
   "display_name": "Python 3 (ipykernel)",
   "language": "python",
   "name": "python3"
  },
  "language_info": {
   "codemirror_mode": {
    "name": "ipython",
    "version": 3
   },
   "file_extension": ".py",
   "mimetype": "text/x-python",
   "name": "python",
   "nbconvert_exporter": "python",
   "pygments_lexer": "ipython3",
   "version": "3.10.9"
  }
 },
 "nbformat": 4,
 "nbformat_minor": 5
}
