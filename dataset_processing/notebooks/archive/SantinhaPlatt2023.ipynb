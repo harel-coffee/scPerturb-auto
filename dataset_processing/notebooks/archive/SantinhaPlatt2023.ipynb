{
 "cells": [
  {
   "cell_type": "code",
   "execution_count": 24,
   "id": "5e507593-ab45-4bc9-b7ba-ead6b6d51ae2",
   "metadata": {
    "tags": []
   },
   "outputs": [],
   "source": [
    "!pip install mygene statannotations scrublet scanpy scvelo decoupler goatools gseapy scperturb chembl_webresource_client biomart PyComplexHeatmap statsmodels omnipath git+https://github.com/saezlab/pypath.git --quiet"
   ]
  },
  {
   "cell_type": "code",
   "execution_count": 25,
   "id": "88c3640b-c228-4657-8291-a18afc6fe8e9",
   "metadata": {
    "tags": []
   },
   "outputs": [
    {
     "data": {
      "text/html": [
       "<style>.container { width:95% !important; }</style>"
      ],
      "text/plain": [
       "<IPython.core.display.HTML object>"
      ]
     },
     "metadata": {},
     "output_type": "display_data"
    }
   ],
   "source": [
    "import subprocess\n",
    "import os\n",
    "import sys\n",
    "import matplotlib.backends.backend_pdf\n",
    "import scanpy as sc\n",
    "import matplotlib.pyplot as pl\n",
    "import anndata as ad\n",
    "import pandas as pd\n",
    "import numpy as np\n",
    "import seaborn as sns\n",
    "import scvelo as scv\n",
    "scv.settings.verbosity=1\n",
    "\n",
    "from pathlib import Path\n",
    "\n",
    "# Jupyter stuff\n",
    "from tqdm.notebook import tqdm\n",
    "from IPython.display import clear_output\n",
    "from IPython.core.display import display, HTML\n",
    "display(HTML(\"<style>.container { width:95% !important; }</style>\"))\n",
    "\n",
    "%matplotlib inline\n",
    "\n",
    "# Custom functions\n",
    "sys.path.insert(1, '../../')\n",
    "from utils import *\n",
    "\n",
    "# scperturb package\n",
    "sys.path.insert(1, '../../package/src/')\n",
    "from scperturb import *\n",
    "\n",
    "from pathlib import Path\n",
    "figure_path = Path('../../figures/')"
   ]
  },
  {
   "cell_type": "code",
   "execution_count": 26,
   "id": "243af3b4-c434-4f30-8643-3e72edc4e205",
   "metadata": {
    "tags": []
   },
   "outputs": [],
   "source": [
    "TEMPDIR = Path('/scratch/peidli/scPerturb/')\n",
    "DATADIR = Path('/home/peidli/data/scPerturb/')"
   ]
  },
  {
   "cell_type": "code",
   "execution_count": 27,
   "id": "17e656fd-7389-42c1-9b84-37ce98474f1d",
   "metadata": {
    "tags": []
   },
   "outputs": [],
   "source": [
    "from scipy.io import mmread\n",
    "from scipy.sparse import csr_matrix"
   ]
  },
  {
   "cell_type": "code",
   "execution_count": 28,
   "id": "17ff5a65-8d17-4b01-9199-bf8a84104842",
   "metadata": {
    "tags": []
   },
   "outputs": [],
   "source": [
    "files = [x.name for x in (TEMPDIR / 'SantinhaPlatt2023').glob('*_temp.h5ad')]"
   ]
  },
  {
   "cell_type": "code",
   "execution_count": 29,
   "id": "f9e15999-c44c-4c15-9a61-816b38436a11",
   "metadata": {
    "tags": []
   },
   "outputs": [
    {
     "data": {
      "text/plain": [
       "['SantinhaPlatt2023_GSE236519_arrayed_screen_hSyn_temp.h5ad',\n",
       " 'SantinhaPlatt2023_GSE236519_lgdel_model_temp.h5ad',\n",
       " 'SantinhaPlatt2023_GSE236519_pooled_screen_CBh_temp.h5ad',\n",
       " 'SantinhaPlatt2023_GSE236519_arrayed_CRISPRi_hSyn_temp.h5ad']"
      ]
     },
     "execution_count": 29,
     "metadata": {},
     "output_type": "execute_result"
    }
   ],
   "source": [
    "files"
   ]
  },
  {
   "cell_type": "code",
   "execution_count": 44,
   "id": "176c9b39-b3e4-4016-8b89-d2446b764a1e",
   "metadata": {
    "tags": []
   },
   "outputs": [],
   "source": [
    "# main dataset\n",
    "adata = sc.read(TEMPDIR / 'SantinhaPlatt2023' / 'SantinhaPlatt2023_GSE236519_pooled_screen_CBh_temp.h5ad')\n",
    "\n",
    "# obs\n",
    "adata.obs.set_index('Barcode', drop=True, inplace=True)\n",
    "adata.obs.index.name = 'cell_barcode'\n",
    "adata.obs['organism'] = 'Mus musculus'\n",
    "adata.obs['disease'] = 'healthy'\n",
    "adata.obs['cancer'] = False\n",
    "adata.obs['perturbation_type'] = 'CRISPR-cas9'\n",
    "adata.obs['tissue_type'] = 'primary'\n",
    "adata.obs['tissue'] = 'brain'\n",
    "adata.obs.rename({\n",
    "    'per_gene': 'perturbation',\n",
    "    'nCount_RNA':'ncounts',\n",
    "    'nFeature_RNA': 'ngenes',\n",
    "    'gRNAs': 'guide_id'\n",
    "}, axis=1, inplace=True)\n",
    "adata.obs.perturbation = adata.obs.perturbation.astype(str)\n",
    "adata.obs.perturbation[adata.obs.perturbation=='Safe_H'] = 'control'\n",
    "\n",
    "adata.obs['nperts'] = [1-p.count('control') if type(p)==str else None for p in adata.obs.perturbation]\n",
    "\n",
    "\n",
    "# var\n",
    "adata.var.index.name = 'gene_symbol'\n",
    "\n",
    "annotate_qc(adata, species='mouse')\n",
    "assert_annotations(adata)"
   ]
  },
  {
   "cell_type": "code",
   "execution_count": 45,
   "id": "08f0390d-7fdd-4727-9eb2-d3648d21e610",
   "metadata": {},
   "outputs": [],
   "source": []
  },
  {
   "cell_type": "code",
   "execution_count": 46,
   "id": "67bcd3b9-8663-433b-9022-a129fd66c6c7",
   "metadata": {
    "tags": []
   },
   "outputs": [],
   "source": []
  },
  {
   "cell_type": "code",
   "execution_count": null,
   "id": "70a8de38-cf7b-4520-b394-5534b9b08fb0",
   "metadata": {},
   "outputs": [],
   "source": []
  }
 ],
 "metadata": {
  "kernelspec": {
   "display_name": "Python 3 (ipykernel)",
   "language": "python",
   "name": "python3"
  },
  "language_info": {
   "codemirror_mode": {
    "name": "ipython",
    "version": 3
   },
   "file_extension": ".py",
   "mimetype": "text/x-python",
   "name": "python",
   "nbconvert_exporter": "python",
   "pygments_lexer": "ipython3",
   "version": "3.10.9"
  }
 },
 "nbformat": 4,
 "nbformat_minor": 5
}
