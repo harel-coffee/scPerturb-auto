{
 "cells": [
  {
   "cell_type": "code",
   "execution_count": 1,
   "id": "2e03ee21",
   "metadata": {
    "ExecuteTime": {
     "end_time": "2023-03-30T08:56:30.164207Z",
     "start_time": "2023-03-30T08:56:20.645962Z"
    }
   },
   "outputs": [
    {
     "data": {
      "text/html": [
       "<style>.container { width:95% !important; }</style>"
      ],
      "text/plain": [
       "<IPython.core.display.HTML object>"
      ]
     },
     "metadata": {},
     "output_type": "display_data"
    }
   ],
   "source": [
    "import subprocess\n",
    "import os\n",
    "import sys\n",
    "import matplotlib.backends.backend_pdf\n",
    "import scanpy as sc\n",
    "import matplotlib.pyplot as pl\n",
    "import anndata as ad\n",
    "import pandas as pd\n",
    "import numpy as np\n",
    "import seaborn as sns\n",
    "import scvelo as scv\n",
    "scv.settings.verbosity=1\n",
    "\n",
    "from pathlib import Path\n",
    "\n",
    "# Jupyter stuff\n",
    "from tqdm.notebook import tqdm\n",
    "from IPython.display import clear_output\n",
    "from IPython.core.display import display, HTML\n",
    "display(HTML(\"<style>.container { width:95% !important; }</style>\"))\n",
    "\n",
    "%matplotlib inline\n",
    "\n",
    "# Custom functions\n",
    "sys.path.insert(1, '../')\n",
    "from utils import *\n",
    "\n",
    "# scperturb package\n",
    "sys.path.insert(1, '../package/src/')\n",
    "from scperturb import *\n",
    "\n",
    "from pathlib import Path\n",
    "figure_path = Path('../figures/')"
   ]
  },
  {
   "cell_type": "code",
   "execution_count": 4,
   "id": "569ac1fa",
   "metadata": {
    "ExecuteTime": {
     "end_time": "2023-03-30T08:57:26.997581Z",
     "start_time": "2023-03-30T08:57:26.994115Z"
    }
   },
   "outputs": [],
   "source": [
    "TEMPDIR = Path('/fast/scratch/users/peidlis_c/perturbation_resource_paper/')"
   ]
  },
  {
   "cell_type": "code",
   "execution_count": 5,
   "id": "a7304fd6",
   "metadata": {
    "ExecuteTime": {
     "end_time": "2023-03-30T08:57:28.713736Z",
     "start_time": "2023-03-30T08:57:28.704833Z"
    }
   },
   "outputs": [
    {
     "data": {
      "text/plain": [
       "[]"
      ]
     },
     "execution_count": 5,
     "metadata": {},
     "output_type": "execute_result"
    }
   ],
   "source": [
    "sorted([file.name for file in (TEMPDIR / 'McFalineTrapnell2023').glob('*')])"
   ]
  },
  {
   "cell_type": "markdown",
   "id": "d38f5e44",
   "metadata": {},
   "source": [
    "Expression matrices, cell annotations and gene annotations were generated according to the protocol described in our manuscript as well as in Cao et al. 2019 Nature 566(7745) p. 496-502 (three level sci-RNA-seq).\n",
    "\n",
    "Nuclear barcodes \"hash\" sequences were extracted from fastq files if the first 10 bp of read 2 match a hash from the appropriate hashSampleSheet.txt (2nd column) within a hamming distance of 2, the last column of the hashSampleSheet.txt file pertains to whether 1 or 2 hashes were used to identify a condition (only single hashes were used, associated metadata to deconvolve hash combinations can be found in the appropriate hashTable_metadata.txt file). \n",
    "\n",
    "Reads were then deduplicated by cell barcode and UMI to create a file of hash UMI counts (hashTable.out files) for each nuclear transcriptome in the  experiment. Tab-delimited columns of hashTable.out files correspond to a sample id, the cell barcode identified for that hash, a \"_\" delimited string with treatment metadata, an axis id for each hash (not used in these experiments), and umi counts for each hash. The first tab-delimited column of the appropriate hashSampleSheet.txt files contains metadata for the experiment divided by underscores. For sciPlexGxE_1, the first \"_\" delimited string corresponds to the hash plate used, and the second to the well within the hash plate, the third denotes the cell line, the fourth the CRISPR system (CRISPRi for gene knockdown and CRISPRa for overexpression), the fifth to the experiment (MMR or HPRT1 perturbation), the sixth to the dose of the drug and the seventh to the specific drug, and the last \"_\" string corresponds to the well format of multiwell plates. For sciPlexGxE_2, only the hash oligo was specified. Please refer to the separate hash metadata file (sciPlexGxE_2_hash_metadata.txt). For sciPlex_3, the first \"_\" delimited string corresponds to the hash plate used, the second to the well within the hash plate, the third denotes the cell line, the fourth to the specific drug, the fifth to the dose of the drug and the six and seventh to biological replicate. For sciPlex_4, the first \"_\" delimited string corresponds to the hash plate used, the second to the dose of drug, the third denotes the specific drug, the fourth the concentration of trametinib used for combinatorial exposure, and the fifth to the biological replicate. Note that the cell line was assigned based on the RT barcode during the first indexing step of combinatorial indexing RNA-seq.\n",
    "\n",
    "Single-guide RNA (sgRNA) sequences were extracted from fastq files if a sequence contained a TGTGG at position 3-7 of read 2 and the 18 base pairs spanning position 24-42 of read 2 match a sgRNA from the appropriate gRNASampleSheet.txt (2nd column) within a hamming distance of 2, the last column of the gRNASampleSheet.txt file pertains to whether 1 or 2 sgRNAs were expected K562_hashTable_metadata.txt). Reads were then deduplicated by cell barcode and UMI to create a file of sgRNA read counts (gRNATable.out files). The first tab-delimited column of the appropriate gRNASampleSheet.txt file contains sgRNA metadata where the first “_” delimited string denotes the targeted gene, non-targeting control (NTC) or random control (radnom), and the second the sgRNA rank from Horlbeck et al. 2016 eLife 5:e19760. The second column refers to the 19 bp protospacer sequence in positions 24-42 of read 2. The full protospacer sequences can be found in the appropriate gRNA_whitelist.txt file.\n",
    "Assembly: GRCh38\n",
    "Supplementary files format and content: Expression matrices are output by our pipeline in matrix market exchange format and the cell and gene annotation files that accompany these files are in tsv file format."
   ]
  },
  {
   "cell_type": "code",
   "execution_count": 14,
   "id": "6e389405",
   "metadata": {
    "ExecuteTime": {
     "end_time": "2023-03-28T17:47:04.215744Z",
     "start_time": "2023-03-28T17:47:04.211442Z"
    }
   },
   "outputs": [],
   "source": [
    "def load_adata(prefix):\n",
    "    obs = pd.read_csv(TEMPDIR / f'McFalineTrapnell2023/{prefix}_cell.annotations.txt.gz', sep='\\t', index_col=0, header=None, names=['cell_barcode', 'orig_ident'])\n",
    "    var = pd.read_csv(TEMPDIR / f'McFalineTrapnell2023/{prefix}_gene.annotations.txt.gz', sep='\\t', index_col=1, header=None, names=['gene_id', 'gene_symbol'], )\n",
    "    from scipy.sparse import csr_matrix\n",
    "    tab = pd.read_csv(TEMPDIR / f'McFalineTrapnell2023/{prefix}_UMI.count.matrix.gz', sep='\\t', header=None, names=['gene', 'cell', 'value'])\n",
    "    X = csr_matrix((tab.value, (tab.cell-1, tab.gene-1)), shape=(len(obs), len(var)))\n",
    "    return sc.AnnData(X, obs, var)"
   ]
  },
  {
   "cell_type": "markdown",
   "id": "a61da983",
   "metadata": {},
   "source": [
    "# GSM7056149_sciPlexGxE_2"
   ]
  },
  {
   "cell_type": "code",
   "execution_count": null,
   "id": "da7278ed",
   "metadata": {
    "ExecuteTime": {
     "start_time": "2023-03-28T17:47:06.662Z"
    }
   },
   "outputs": [],
   "source": [
    "prefix = 'GSM7056149_sciPlexGxE_2'\n",
    "load_adata(prefix)"
   ]
  },
  {
   "cell_type": "code",
   "execution_count": null,
   "id": "380c8b61",
   "metadata": {
    "ExecuteTime": {
     "start_time": "2023-03-28T17:48:50.516Z"
    }
   },
   "outputs": [],
   "source": [
    "adata.shape"
   ]
  },
  {
   "cell_type": "code",
   "execution_count": null,
   "id": "55f40765",
   "metadata": {
    "ExecuteTime": {
     "start_time": "2023-03-28T17:48:51.326Z"
    }
   },
   "outputs": [],
   "source": [
    "adata.obs.head()"
   ]
  },
  {
   "cell_type": "code",
   "execution_count": null,
   "id": "ea2d95b5",
   "metadata": {
    "ExecuteTime": {
     "start_time": "2023-03-16T14:34:21.257Z"
    }
   },
   "outputs": [],
   "source": [
    "hashTable = pd.read_csv(TEMPDIR / f'McFalineTrapnell2023/{prefix}_hashTable.out.txt.gz', sep='\\t', index_col=1, header=None,\n",
    "                        names = ['orig_ident', 'cell_barcode', 'plate_id', 'all_ones', 'counts'])\n",
    "# cell_barcodes --> count hashes for plate_id\n",
    "df_hash = pd.pivot_table(hashTable, values='counts', index='cell_barcode', columns='plate_id', fill_value=0)\n",
    "# just take highest\n",
    "most_counts = np.argmax(df_hash.values, axis=1)\n",
    "best_plates = pd.DataFrame(list(df_hash.columns[most_counts]), index = df_hash.index, columns=['best_plate_id'])"
   ]
  },
  {
   "cell_type": "code",
   "execution_count": null,
   "id": "815eb18c",
   "metadata": {
    "ExecuteTime": {
     "start_time": "2023-03-16T14:34:23.429Z"
    }
   },
   "outputs": [],
   "source": [
    "adata.obs = pd.merge(adata.obs, best_plates, left_index=True, right_index=True, how='left')"
   ]
  },
  {
   "cell_type": "code",
   "execution_count": null,
   "id": "9fd31f70",
   "metadata": {
    "ExecuteTime": {
     "start_time": "2023-03-16T14:34:23.890Z"
    }
   },
   "outputs": [],
   "source": [
    "adata.obs"
   ]
  },
  {
   "cell_type": "code",
   "execution_count": null,
   "id": "5b0c68cf",
   "metadata": {
    "ExecuteTime": {
     "start_time": "2023-03-16T14:34:24.911Z"
    }
   },
   "outputs": [],
   "source": [
    "# useless?\n",
    "hash_sample_sheet = pd.read_csv(TEMPDIR / f'McFalineTrapnell2023/{prefix}_hash_sample_sheet.txt.gz', sep='\\t', index_col=0, header=None)\n",
    "hash_sample_sheet.head()"
   ]
  },
  {
   "cell_type": "code",
   "execution_count": null,
   "id": "41b5877a",
   "metadata": {
    "ExecuteTime": {
     "start_time": "2023-03-16T14:34:25.476Z"
    }
   },
   "outputs": [],
   "source": [
    "# useless?\n",
    "sgRNA_sequences = pd.read_csv(TEMPDIR / f'McFalineTrapnell2023/{prefix}_sgRNA_sequences.txt.gz', sep='\\t', index_col=2)\n",
    "sgRNA_sequences.head()"
   ]
  },
  {
   "cell_type": "code",
   "execution_count": null,
   "id": "6670ca81",
   "metadata": {},
   "outputs": [],
   "source": []
  },
  {
   "cell_type": "code",
   "execution_count": null,
   "id": "48917f18",
   "metadata": {},
   "outputs": [],
   "source": []
  },
  {
   "cell_type": "code",
   "execution_count": null,
   "id": "33bfd3c5",
   "metadata": {},
   "outputs": [],
   "source": []
  },
  {
   "cell_type": "code",
   "execution_count": null,
   "id": "a466a8de",
   "metadata": {},
   "outputs": [],
   "source": []
  },
  {
   "cell_type": "code",
   "execution_count": null,
   "id": "f9c74845",
   "metadata": {},
   "outputs": [],
   "source": []
  },
  {
   "cell_type": "code",
   "execution_count": null,
   "id": "ed7e1ed3",
   "metadata": {},
   "outputs": [],
   "source": []
  },
  {
   "cell_type": "code",
   "execution_count": null,
   "id": "1e27ab29",
   "metadata": {},
   "outputs": [],
   "source": []
  },
  {
   "cell_type": "code",
   "execution_count": null,
   "id": "d5d2835a",
   "metadata": {},
   "outputs": [],
   "source": []
  },
  {
   "cell_type": "code",
   "execution_count": null,
   "id": "678391bc",
   "metadata": {},
   "outputs": [],
   "source": []
  },
  {
   "cell_type": "code",
   "execution_count": null,
   "id": "d4cd8e61",
   "metadata": {},
   "outputs": [],
   "source": []
  },
  {
   "cell_type": "code",
   "execution_count": null,
   "id": "8a78ec04",
   "metadata": {},
   "outputs": [],
   "source": []
  },
  {
   "cell_type": "code",
   "execution_count": null,
   "id": "da8a7375",
   "metadata": {},
   "outputs": [],
   "source": []
  },
  {
   "cell_type": "code",
   "execution_count": null,
   "id": "92cfa743",
   "metadata": {},
   "outputs": [],
   "source": []
  },
  {
   "cell_type": "code",
   "execution_count": null,
   "id": "3f32d259",
   "metadata": {},
   "outputs": [],
   "source": []
  },
  {
   "cell_type": "code",
   "execution_count": null,
   "id": "b4bfab96",
   "metadata": {},
   "outputs": [],
   "source": []
  },
  {
   "cell_type": "code",
   "execution_count": null,
   "id": "ede8bb66",
   "metadata": {},
   "outputs": [],
   "source": []
  },
  {
   "cell_type": "code",
   "execution_count": null,
   "id": "6af585d2",
   "metadata": {},
   "outputs": [],
   "source": []
  }
 ],
 "metadata": {
  "hide_input": false,
  "kernelspec": {
   "display_name": "Python 3 (ipykernel)",
   "language": "python",
   "name": "python3"
  },
  "language_info": {
   "codemirror_mode": {
    "name": "ipython",
    "version": 3
   },
   "file_extension": ".py",
   "mimetype": "text/x-python",
   "name": "python",
   "nbconvert_exporter": "python",
   "pygments_lexer": "ipython3",
   "version": "3.9.13"
  }
 },
 "nbformat": 4,
 "nbformat_minor": 5
}
