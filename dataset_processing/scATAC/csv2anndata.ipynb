{
 "cells": [
  {
   "cell_type": "code",
   "execution_count": null,
   "metadata": {},
   "outputs": [],
   "source": [
    "from csv2anndata import *"
   ]
  },
  {
   "cell_type": "code",
   "execution_count": null,
   "metadata": {},
   "outputs": [],
   "source": [
    "scATACS = run()"
   ]
  },
  {
   "cell_type": "code",
   "execution_count": null,
   "metadata": {},
   "outputs": [],
   "source": [
    "\n",
    "def save_as_separate_anndata(adata: anndata.AnnData, output_dir: Path)->None:\n",
    "\n",
    "    # Because of h5 limitations it is not possible to save an anndata object with\n",
    "    # obsm/varm/uns DataFrames that have many columns (which is the case for e.g. gene_scores)\n",
    "    # Thus we agreed, that we would seperate each matrix and save it as separate files.\n",
    "\n",
    "    adatas = {}\n",
    "\n",
    "    #peak_bc\n",
    "    X = adata.X\n",
    "    obs = adata.obs.copy()\n",
    "    var = adata.var.copy()\n",
    "    adatas['peak_bc'] = anndata.AnnData(X = X, obs = obs, var = var)\n",
    "\n",
    "    #LSI_embedding\n",
    "    X = adata.obsm['LSI_embedding'].values\n",
    "    obs = adata.obs.copy()\n",
    "    compute_ns(X, obs, 1)\n",
    "    var = pd.DataFrame(data = None, index = adata.obsm['LSI_embedding'].columns)\n",
    "    compute_ns(X, var, 0)\n",
    "    adatas['LSI_embedding'] = anndata.AnnData(X = X, obs = obs, var = var)\n",
    "\n",
    "    #gene_scores\n",
    "    X = adata.obsm['gene_scores'].sparse.to_coo()\n",
    "    X = X.tocsr() # anndata does not support coo when writing to h5.\n",
    "    obs = adata.obs.copy()\n",
    "    compute_ns(X, obs, 1)\n",
    "    var = pd.DataFrame(data = None, index = adata.obsm['gene_scores'].columns)\n",
    "    compute_ns(X, var, 0)\n",
    "    adatas['gene_scores'] = anndata.AnnData(X = X, obs = obs, var = var)\n",
    "\n",
    "    #markerpeak_target\n",
    "    X = adata.uns['markerpeak_target'].values\n",
    "    obs = pd.DataFrame(data = None, index = adata.uns['markerpeak_target'].index)\n",
    "    compute_ns(X, obs, 1)\n",
    "    var = pd.DataFrame(data = None, index = adata.uns['markerpeak_target'].columns)\n",
    "    compute_ns(X, var, 0)\n",
    "    adatas['markerpeak_target'] = anndata.AnnData(X = X, obs = obs, var = var)\n",
    "\n",
    "\n",
    "    #ChromVar\n",
    "    X = adata.obsm['ChromVar'].values\n",
    "    obs = adata.obs.copy()\n",
    "    compute_ns(X, obs, 1)\n",
    "    var = pd.DataFrame(data = None, index = adata.obsm['ChromVar'].columns)\n",
    "    compute_ns(X, var, 0)\n",
    "    adatas['ChromVar'] = anndata.AnnData(X = X, obs = obs, var = var)\n",
    "\n",
    "    for name, adata in adatas.items():\n",
    "        utils.write_as_singles(adata, output_dir, name, add_h5=True)\n",
    "\n",
    "    return adatas"
   ]
  },
  {
   "cell_type": "code",
   "execution_count": null,
   "metadata": {},
   "outputs": [],
   "source": [
    "adatas = save_as_separate_anndata(scATACS, '')"
   ]
  }
 ],
 "metadata": {
  "interpreter": {
   "hash": "cb4251c1262f98f8ccc2752432d3a510116c103bf27ec0554152c96d313adb18"
  },
  "kernelspec": {
   "display_name": "Python 3.9.7 ('r_env')",
   "language": "python",
   "name": "python3"
  },
  "language_info": {
   "codemirror_mode": {
    "name": "ipython",
    "version": 3
   },
   "file_extension": ".py",
   "mimetype": "text/x-python",
   "name": "python",
   "nbconvert_exporter": "python",
   "pygments_lexer": "ipython3",
   "version": "3.9.7"
  },
  "orig_nbformat": 4
 },
 "nbformat": 4,
 "nbformat_minor": 2
}
