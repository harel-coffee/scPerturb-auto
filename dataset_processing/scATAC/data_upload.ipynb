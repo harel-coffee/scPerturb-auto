{
 "cells": [
  {
   "cell_type": "code",
   "execution_count": 1,
   "id": "db989a26",
   "metadata": {
    "ExecuteTime": {
     "end_time": "2022-03-02T09:19:26.104276Z",
     "start_time": "2022-03-02T09:19:18.618267Z"
    }
   },
   "outputs": [],
   "source": [
    "from pathlib import Path\n",
    "import subprocess"
   ]
  },
  {
   "cell_type": "code",
   "execution_count": 2,
   "id": "4fe30d52",
   "metadata": {},
   "outputs": [],
   "source": [
    "LOCAL_ROOT_DIR = Path('./output/export')\n",
    "REMOTE_ROOT_DIR = Path('scATAC/')"
   ]
  },
  {
   "cell_type": "markdown",
   "id": "a8ad56b5",
   "metadata": {
    "heading_collapsed": true
   },
   "source": [
    "# Setup"
   ]
  },
  {
   "cell_type": "code",
   "execution_count": 3,
   "id": "b5a35b8d",
   "metadata": {},
   "outputs": [],
   "source": [
    "%%bash \n",
    "\n",
    "# Working 20210809\n",
    "tee -a ../code/dropbox_uploader.sh > /dev/null <<EOF\n",
    "CONFIGFILE_VERSION=2.0\n",
    "OAUTH_APP_KEY=ul9z8ez7fo73wvu\n",
    "OAUTH_APP_SECRET=m6vzk3sku7ctm9t\n",
    "OAUTH_REFRESH_TOKEN=8BdCOFEip3MAAAAAAAAAAc_SpOstJEC0pF2A_veuk_k7xSngBRclHDtaGEGmfnn5\n",
    "EOF"
   ]
  },
  {
   "cell_type": "markdown",
   "id": "2b3686af",
   "metadata": {},
   "source": [
    "# uploader"
   ]
  },
  {
   "cell_type": "code",
   "execution_count": 4,
   "id": "7b53caca",
   "metadata": {
    "ExecuteTime": {
     "end_time": "2022-03-02T09:20:35.190092Z",
     "start_time": "2022-03-02T09:20:33.962395Z"
    }
   },
   "outputs": [
    {
     "name": "stdout",
     "output_type": "stream",
     "text": [
      " > Listing \"/\"... DONE\n",
      " [D]   DixitRegev2016\n",
      " [D]   JaitinAmit2016\n",
      " [D]   OrenRegev2021\n",
      " [D]   GasperiniShendure2019\n",
      " [D]   NormanWeissman2019\n",
      " [D]   PapalexiSatija2021\n",
      " [D]   TianKampmann2019\n",
      " [D]   TianKampmann2021\n",
      " [D]   FrangiehIzar2021\n",
      " [D]   ChangYe2021\n",
      " [D]   GehringPachter2019\n",
      " [D]   XieHon2017\n",
      " [D]   exampledataset\n",
      " [D]   ShifrutMarson2018\n",
      " [D]   AissaBenevolenskaya2021\n",
      " [D]   WeinrebKlein2020\n",
      " [D]   DatlingerBock2017\n",
      " [D]   ZhaoSims2021\n",
      " [D]   SchraivogelSteinmetz2020\n",
      " [D]   AdamsonWeissman2016\n",
      " [D]   SrivatsanTrapnell2020\n",
      " [D]   SchiebingerLander2019\n",
      " [D]   McFarlandTsherniak2020\n",
      " [F] 3 README.txt\n",
      " [F] 3 README_2.txt\n"
     ]
    }
   ],
   "source": [
    "!../code/dropbox_uploader.sh list "
   ]
  },
  {
   "cell_type": "code",
   "execution_count": 5,
   "id": "68a9c19c",
   "metadata": {},
   "outputs": [],
   "source": [
    "# very dangerous!!!\n",
    "# !../code/dropbox_uploader.sh delete scATAC"
   ]
  },
  {
   "cell_type": "code",
   "execution_count": 6,
   "id": "851b7e11",
   "metadata": {},
   "outputs": [],
   "source": [
    "dataset_nomenclature = {\n",
    "    'Spear_ATAC' : 'PierceGreenleaf2021',\n",
    "    'CRISPR_sciATAC' : 'Liscovitch-BrauerSanjana2021',\n",
    "    'ASAP_seq' : 'MimitouSmibert2021'\n",
    "}"
   ]
  },
  {
   "cell_type": "code",
   "execution_count": 7,
   "id": "7656e3fa",
   "metadata": {},
   "outputs": [],
   "source": [
    "def upload(local_path, remote_path):\n",
    "    \"\"\"upload file or directory (it should work recursively)\n",
    "    \"\"\"\n",
    "    process = subprocess.Popen(f\"../code/dropbox_uploader.sh -s -p -h upload {str(local_path)} {str(remote_path)}\", stdout=subprocess.PIPE, shell=True)\n",
    "    try:\n",
    "        proc_stdout = process.communicate()[0].strip()\n",
    "        print(\" \" + proc_stdout.decode(\"utf-8\"))\n",
    "    except: \n",
    "        print(\"ERROR: DBX TRANSFER\")\n",
    "    return"
   ]
  },
  {
   "cell_type": "code",
   "execution_count": null,
   "id": "ec26d9b9",
   "metadata": {},
   "outputs": [],
   "source": [
    "for local_dataset_dir in LOCAL_ROOT_DIR.iterdir():\n",
    "    dataset_name = dataset_nomenclature[local_dataset_dir.name]\n",
    "    if not local_dataset_dir.is_dir():\n",
    "        continue\n",
    "    for local_cell_line_dir in local_dataset_dir.iterdir():\n",
    "        if not local_cell_line_dir.is_dir():\n",
    "            continue\n",
    "        cell_line_name = local_cell_line_dir.name\n",
    "        for local_data_type_dir in local_cell_line_dir.iterdir():\n",
    "            if not local_data_type_dir.is_dir():\n",
    "                continue\n",
    "            data_type = local_data_type_dir.name\n",
    "            for file in local_data_type_dir.iterdir():\n",
    "                if file.is_file():\n",
    "                    remote_path = REMOTE_ROOT_DIR / dataset_name / cell_line_name / data_type / file.name\n",
    "                    upload(file.resolve(), remote_path)\n",
    " \n",
    "\n"
   ]
  },
  {
   "cell_type": "code",
   "execution_count": null,
   "id": "2956d92b",
   "metadata": {},
   "outputs": [],
   "source": []
  }
 ],
 "metadata": {
  "hide_input": false,
  "kernelspec": {
   "display_name": "Python 3",
   "language": "python",
   "name": "python3"
  },
  "language_info": {
   "codemirror_mode": {
    "name": "ipython",
    "version": 3
   },
   "file_extension": ".py",
   "mimetype": "text/x-python",
   "name": "python",
   "nbconvert_exporter": "python",
   "pygments_lexer": "ipython3",
   "version": "3.9.7"
  }
 },
 "nbformat": 4,
 "nbformat_minor": 5
}
