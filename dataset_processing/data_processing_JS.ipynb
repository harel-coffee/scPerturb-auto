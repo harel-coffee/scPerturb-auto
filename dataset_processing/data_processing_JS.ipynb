{
 "cells": [
  {
   "cell_type": "code",
   "execution_count": 7,
   "metadata": {},
   "outputs": [],
   "source": [
    "import glob\n",
    "import os\n",
    "import sys\n",
    "import numpy as np\n",
    "import pandas as pd\n",
    "\n",
    "import scanpy as sc\n",
    "import pandas as pd\n",
    "\n",
    "from scipy.io import mmread\n",
    "from scipy.sparse import csr_matrix\n",
    "from scipy.sparse import vstack\n",
    "import gzip\n",
    "import re\n",
    "import mygene\n",
    "\n",
    "import tqdm.notebook as tq\n",
    "import matplotlib.pyplot as plt"
   ]
  },
  {
   "cell_type": "code",
   "execution_count": 2,
   "metadata": {},
   "outputs": [],
   "source": [
    "path = \"/n/data1/hms/cellbio/sander/judy/resource_paper/\""
   ]
  },
  {
   "cell_type": "markdown",
   "metadata": {},
   "source": [
    "# FrangiehIzar2021"
   ]
  },
  {
   "cell_type": "code",
   "execution_count": null,
   "metadata": {},
   "outputs": [],
   "source": [
    "### Done!"
   ]
  },
  {
   "cell_type": "code",
   "execution_count": 3,
   "metadata": {},
   "outputs": [],
   "source": [
    "index = \"FrangiehIzar2021\""
   ]
  },
  {
   "cell_type": "code",
   "execution_count": 9,
   "metadata": {},
   "outputs": [],
   "source": [
    "adata = sc.read_h5ad(index+\"/\"+index+\"/\"+index+\"_protein_preprocessed.h5\")\n",
    "adata.var.index = [x.split(\" \")[0] for x in adata.var.Protein]\n",
    "adata.var.index = adata.var.index.rename('protein')\n",
    "adata.obs = adata.obs.rename({\"condition\":\"perturbation_2\"},axis=1)\n",
    "adata.obs = adata.obs.rename({\"sgRNAs\":\"guide_id\"},axis=1)"
   ]
  },
  {
   "cell_type": "code",
   "execution_count": 10,
   "metadata": {},
   "outputs": [],
   "source": [
    "def find_pert(sgRNAs):\n",
    "    if sgRNAs == \"nan\":\n",
    "        return \"control\"\n",
    "    else:\n",
    "        sgRNAs = sgRNAs.split(\",\")\n",
    "        if sum([\"_SITE\" in x for x in sgRNAs]) == len(sgRNAs):\n",
    "            return \"control\"\n",
    "        else:\n",
    "            sgRNAs = \"_\".join([x.split(\"_\")[0] for x in sgRNAs if \"_SITE\" not in x])\n",
    "            return sgRNAs"
   ]
  },
  {
   "cell_type": "code",
   "execution_count": 12,
   "metadata": {},
   "outputs": [],
   "source": [
    "adata.obs[\"guide_id\"] = [\";\".join(x.split(\",\")) for x in adata.obs[\"guide_id\"]]\n",
    "adata.obs[\"perturbation\"] = [find_pert(x) for x in adata.obs.guide_id]\n",
    "adata.obs['tissue_type']='cell_line_co-culture'\n",
    "adata.obs['cancer'] = True\n",
    "adata.obs['disease'] = 'melanoma'\n",
    "adata.obs['perturbation_type'] = 'CRISPR'\n",
    "adata.obs['celltype'] = 'melanocytes'\n",
    "adata.obs['organism'] = 'human'\n",
    "adata.obs['perturbation_type_2'] = 'IFN-γ stimulation'\n",
    "adata.obs.index = adata.obs.NAME\n",
    "adata.obs.index = adata.obs.index.rename('cell_name')\n",
    "adata.obs = adata.obs.drop(['NAME'],axis=1)"
   ]
  },
  {
   "cell_type": "code",
   "execution_count": 13,
   "metadata": {},
   "outputs": [],
   "source": [
    "abinfo = pd.read_excel(index+\"/\"+index+\"/41588_2021_779_MOESM3_ESM.xlsx\", \n",
    "                       sheet_name=\"Supplementary Table 3\", skiprows=2, header=0)"
   ]
  },
  {
   "cell_type": "code",
   "execution_count": 14,
   "metadata": {},
   "outputs": [],
   "source": [
    "abinfo.index = ['CD117', 'CD119', 'CD140a', 'CD140b', 'CD172a', 'CD184', 'CD202b', 'CD274', \n",
    "                'CD279', 'CD29', 'CD309', 'CD44', 'CD47', 'CD49f', 'CD58', 'CD59', 'CD61', \n",
    "                'CD9', 'HLA_A', 'HLA_E', 'Mouse_IgG1', 'Mouse_IgG2a', 'Mouse_IgG2b', 'Rat_IgG2a']"
   ]
  },
  {
   "cell_type": "code",
   "execution_count": 15,
   "metadata": {},
   "outputs": [],
   "source": [
    "var = adata.var.merge(abinfo, left_index=True, right_index=True)"
   ]
  },
  {
   "cell_type": "code",
   "execution_count": 16,
   "metadata": {},
   "outputs": [],
   "source": [
    "var = var.drop([\"Protein\",'# '], axis=1)"
   ]
  },
  {
   "cell_type": "code",
   "execution_count": 17,
   "metadata": {},
   "outputs": [],
   "source": [
    "var.columns=[\"Target\",\"Clone\",\"TotalSeq A#\",\"Barcode\"]"
   ]
  },
  {
   "cell_type": "code",
   "execution_count": 18,
   "metadata": {},
   "outputs": [],
   "source": [
    "var['Isotype_control'] = [\"Mouse_IgG1\",\"Mouse_IgG1\",\"Mouse_IgG1\",\"Mouse_IgG1\",\"Mouse_IgG2a\",\"Mouse_IgG2a\",\n",
    "                          \"Mouse_IgG1\",\"Mouse_IgG2b\",\"Mouse_IgG1\",\"Mouse_IgG1\",\"Mouse_IgG1\",\"Mouse_IgG1\",\n",
    "                          \"Rat_IgG2a\",\"Mouse_IgG1\",\"Mouse_IgG2a\",\"Mouse_IgG1\",\"Mouse_IgG2a\",\"nan\",\n",
    "                          \"nan\",\"nan\",\"nan\",\"Mouse_IgG1\",\"Mouse_IgG1\",\"Mouse_IgG1\"]"
   ]
  },
  {
   "cell_type": "code",
   "execution_count": 19,
   "metadata": {},
   "outputs": [],
   "source": [
    "adata.var = var\n",
    "adata.var.index = adata.var.index.rename('protein')"
   ]
  },
  {
   "cell_type": "code",
   "execution_count": 20,
   "metadata": {},
   "outputs": [
    {
     "name": "stderr",
     "output_type": "stream",
     "text": [
      "... storing 'guide_id' as categorical\n",
      "... storing 'perturbation' as categorical\n",
      "... storing 'tissue_type' as categorical\n",
      "... storing 'disease' as categorical\n",
      "... storing 'perturbation_type' as categorical\n",
      "... storing 'celltype' as categorical\n",
      "... storing 'organism' as categorical\n",
      "... storing 'perturbation_type_2' as categorical\n",
      "... storing 'Isotype_control' as categorical\n"
     ]
    }
   ],
   "source": [
    "adata.write(index+\"/\"+index+\"/\"+index+\"_protein.h5\")"
   ]
  },
  {
   "cell_type": "code",
   "execution_count": 35,
   "metadata": {},
   "outputs": [
    {
     "name": "stdout",
     "output_type": "stream",
     "text": [
      " > Uploading \"/n/data1/hms/cellbio/sander/judy/resource_paper/FrangiehIzar2021/FrangiehIzar2021/FrangiehIzar2021_protein.h5\" to \"/FrangiehIzar2021/FrangiehIzar2021/FrangiehIzar2021_protein.h5\"... DONE\n"
     ]
    }
   ],
   "source": [
    "!/home/cs308/dropbox_uploader.sh upload {index+\"/\"+index+\"/\"+index+\"_protein.h5\"} {index+\"/\"+index+\"/\"}"
   ]
  },
  {
   "cell_type": "code",
   "execution_count": 23,
   "metadata": {},
   "outputs": [],
   "source": [
    "adata = sc.read_h5ad(index+\"/\"+index+\"/\"+index+\"_protein.h5\")\n",
    "obs = adata.obs"
   ]
  },
  {
   "cell_type": "code",
   "execution_count": 21,
   "metadata": {},
   "outputs": [
    {
     "name": "stderr",
     "output_type": "stream",
     "text": [
      "Variable names are not unique. To make them unique, call `.var_names_make_unique`.\n"
     ]
    }
   ],
   "source": [
    "adata = sc.read_h5ad(index+\"/\"+index+\"/\"+index+\"_RNA_full_preprocessed.h5\")\n",
    "adata.var.index = adata.var.gene"
   ]
  },
  {
   "cell_type": "code",
   "execution_count": 11,
   "metadata": {},
   "outputs": [],
   "source": [
    "mg = mygene.MyGeneInfo()\n",
    "query = mg.querymany(list(set(adata.var[\"gene\"])) , scopes='symbol', fields='ensembl.gene', species='human', returnall=True, verbose=False)\n",
    "gene_symbols = [x['query'] for x in query['out']]\n",
    "ensembl_id = [x['ensembl'] if 'ensembl' in x.keys() else np.nan for x in query['out']]\n",
    "ensembl_id = [x['gene'] if type(x)==dict else x for x in ensembl_id]\n",
    "ensembl_id = [x[0]['gene'] if type(x)==list else x for x in ensembl_id]"
   ]
  },
  {
   "cell_type": "code",
   "execution_count": 27,
   "metadata": {},
   "outputs": [],
   "source": [
    "df = pd.DataFrame({\"gene\":gene_symbols,\"ensembl_id\":ensembl_id})\n",
    "df.index = gene_symbols\n",
    "df = df.drop_duplicates(keep='first')\n",
    "\n",
    "for dupidx in np.where(df.index.duplicated())[0]:\n",
    "    ensemblids = df[\"ensembl_id\"].iloc[dupidx-1:dupidx+1]\n",
    "    if sum(~pd.isna(ensemblids)) == 1:\n",
    "        ensemblid = ensemblids[~pd.isna(ensemblids)]\n",
    "        df[\"ensembl_id\"].iloc[dupidx-1:dupidx+1] = ensemblid\n",
    "df = df.drop_duplicates(subset=\"gene\", keep='first')"
   ]
  },
  {
   "cell_type": "code",
   "execution_count": 28,
   "metadata": {
    "scrolled": true
   },
   "outputs": [],
   "source": [
    "adata.var[\"ensembl_id\"] = [df.loc[x,\"ensembl_id\"] for x in adata.var.index]\n",
    "adata.var.loc[pd.isna(adata.var['ensembl_id']),'ensembl_id'] = adata.var.gene[pd.isna(adata.var['ensembl_id'])]\n",
    "adata.var.index = adata.var.index.rename('gene_symbol')\n",
    "adata.var = adata.var.drop(['gene'],axis=1)"
   ]
  },
  {
   "cell_type": "code",
   "execution_count": null,
   "metadata": {},
   "outputs": [],
   "source": [
    "adata.obs = adata.obs.rename({\"condition\":\"perturbation_2\"},axis=1)"
   ]
  },
  {
   "cell_type": "code",
   "execution_count": 32,
   "metadata": {},
   "outputs": [
    {
     "data": {
      "text/html": [
       "<div>\n",
       "<style scoped>\n",
       "    .dataframe tbody tr th:only-of-type {\n",
       "        vertical-align: middle;\n",
       "    }\n",
       "\n",
       "    .dataframe tbody tr th {\n",
       "        vertical-align: top;\n",
       "    }\n",
       "\n",
       "    .dataframe thead th {\n",
       "        text-align: right;\n",
       "    }\n",
       "</style>\n",
       "<table border=\"1\" class=\"dataframe\">\n",
       "  <thead>\n",
       "    <tr style=\"text-align: right;\">\n",
       "      <th></th>\n",
       "      <th>NAME</th>\n",
       "      <th>library_preparation_protocol</th>\n",
       "      <th>condition</th>\n",
       "      <th>MOI</th>\n",
       "      <th>sgRNA</th>\n",
       "      <th>UMI_count</th>\n",
       "      <th>sgRNAs</th>\n",
       "      <th>umap_x</th>\n",
       "      <th>umap_y</th>\n",
       "    </tr>\n",
       "  </thead>\n",
       "  <tbody>\n",
       "    <tr>\n",
       "      <td>0</td>\n",
       "      <td>CELL_1</td>\n",
       "      <td>10X 3' v3 sequencing</td>\n",
       "      <td>Control</td>\n",
       "      <td>1</td>\n",
       "      <td>HLA-B_2</td>\n",
       "      <td>10832.0</td>\n",
       "      <td>HLA-B_2</td>\n",
       "      <td>-3.937523</td>\n",
       "      <td>5.441272</td>\n",
       "    </tr>\n",
       "    <tr>\n",
       "      <td>1</td>\n",
       "      <td>CELL_2</td>\n",
       "      <td>10X 3' v3 sequencing</td>\n",
       "      <td>Control</td>\n",
       "      <td>2</td>\n",
       "      <td>nan</td>\n",
       "      <td>10731.0</td>\n",
       "      <td>NGFR_3,SERPINF1_3</td>\n",
       "      <td>-5.480882</td>\n",
       "      <td>6.598254</td>\n",
       "    </tr>\n",
       "    <tr>\n",
       "      <td>2</td>\n",
       "      <td>CELL_3</td>\n",
       "      <td>10X 3' v3 sequencing</td>\n",
       "      <td>Control</td>\n",
       "      <td>1</td>\n",
       "      <td>HLA-B_2</td>\n",
       "      <td>28821.0</td>\n",
       "      <td>HLA-B_2</td>\n",
       "      <td>-1.044962</td>\n",
       "      <td>9.840532</td>\n",
       "    </tr>\n",
       "    <tr>\n",
       "      <td>3</td>\n",
       "      <td>CELL_4</td>\n",
       "      <td>10X 3' v3 sequencing</td>\n",
       "      <td>Control</td>\n",
       "      <td>2</td>\n",
       "      <td>nan</td>\n",
       "      <td>15322.0</td>\n",
       "      <td>NMRK1_3,S100A6_3</td>\n",
       "      <td>-2.588797</td>\n",
       "      <td>6.588357</td>\n",
       "    </tr>\n",
       "    <tr>\n",
       "      <td>4</td>\n",
       "      <td>CELL_5</td>\n",
       "      <td>10X 3' v3 sequencing</td>\n",
       "      <td>Control</td>\n",
       "      <td>0</td>\n",
       "      <td>nan</td>\n",
       "      <td>10314.0</td>\n",
       "      <td>nan</td>\n",
       "      <td>-0.795585</td>\n",
       "      <td>2.256979</td>\n",
       "    </tr>\n",
       "    <tr>\n",
       "      <td>...</td>\n",
       "      <td>...</td>\n",
       "      <td>...</td>\n",
       "      <td>...</td>\n",
       "      <td>...</td>\n",
       "      <td>...</td>\n",
       "      <td>...</td>\n",
       "      <td>...</td>\n",
       "      <td>...</td>\n",
       "      <td>...</td>\n",
       "    </tr>\n",
       "    <tr>\n",
       "      <td>218326</td>\n",
       "      <td>CELL_218327</td>\n",
       "      <td>10X 3' v3 sequencing</td>\n",
       "      <td>Co-culture</td>\n",
       "      <td>4</td>\n",
       "      <td>nan</td>\n",
       "      <td>12722.0</td>\n",
       "      <td>CTSO_3,PIK3IP1_3,VDAC2_2,WNT7A_1</td>\n",
       "      <td>10.117681</td>\n",
       "      <td>-1.233309</td>\n",
       "    </tr>\n",
       "    <tr>\n",
       "      <td>218327</td>\n",
       "      <td>CELL_218328</td>\n",
       "      <td>10X 3' v3 sequencing</td>\n",
       "      <td>Co-culture</td>\n",
       "      <td>2</td>\n",
       "      <td>nan</td>\n",
       "      <td>11643.0</td>\n",
       "      <td>JAK2_3,SLC7A5P1_3</td>\n",
       "      <td>5.348833</td>\n",
       "      <td>0.995789</td>\n",
       "    </tr>\n",
       "    <tr>\n",
       "      <td>218328</td>\n",
       "      <td>CELL_218329</td>\n",
       "      <td>10X 3' v3 sequencing</td>\n",
       "      <td>Co-culture</td>\n",
       "      <td>3</td>\n",
       "      <td>nan</td>\n",
       "      <td>12497.0</td>\n",
       "      <td>S100A6_2,SAT1_2,ONE_NON-GENE_SITE_177</td>\n",
       "      <td>6.285855</td>\n",
       "      <td>1.838057</td>\n",
       "    </tr>\n",
       "    <tr>\n",
       "      <td>218329</td>\n",
       "      <td>CELL_218330</td>\n",
       "      <td>10X 3' v3 sequencing</td>\n",
       "      <td>Co-culture</td>\n",
       "      <td>1</td>\n",
       "      <td>CDKN2B_3</td>\n",
       "      <td>17941.0</td>\n",
       "      <td>CDKN2B_3</td>\n",
       "      <td>7.731683</td>\n",
       "      <td>1.007936</td>\n",
       "    </tr>\n",
       "    <tr>\n",
       "      <td>218330</td>\n",
       "      <td>CELL_218331</td>\n",
       "      <td>10X 3' v3 sequencing</td>\n",
       "      <td>Co-culture</td>\n",
       "      <td>1</td>\n",
       "      <td>NO_SITE_694</td>\n",
       "      <td>7968.0</td>\n",
       "      <td>NO_SITE_694</td>\n",
       "      <td>10.316012</td>\n",
       "      <td>-4.000524</td>\n",
       "    </tr>\n",
       "  </tbody>\n",
       "</table>\n",
       "<p>218331 rows × 9 columns</p>\n",
       "</div>"
      ],
      "text/plain": [
       "               NAME library_preparation_protocol   condition  MOI  \\\n",
       "0            CELL_1         10X 3' v3 sequencing     Control    1   \n",
       "1            CELL_2         10X 3' v3 sequencing     Control    2   \n",
       "2            CELL_3         10X 3' v3 sequencing     Control    1   \n",
       "3            CELL_4         10X 3' v3 sequencing     Control    2   \n",
       "4            CELL_5         10X 3' v3 sequencing     Control    0   \n",
       "...             ...                          ...         ...  ...   \n",
       "218326  CELL_218327         10X 3' v3 sequencing  Co-culture    4   \n",
       "218327  CELL_218328         10X 3' v3 sequencing  Co-culture    2   \n",
       "218328  CELL_218329         10X 3' v3 sequencing  Co-culture    3   \n",
       "218329  CELL_218330         10X 3' v3 sequencing  Co-culture    1   \n",
       "218330  CELL_218331         10X 3' v3 sequencing  Co-culture    1   \n",
       "\n",
       "              sgRNA  UMI_count                                 sgRNAs  \\\n",
       "0           HLA-B_2    10832.0                                HLA-B_2   \n",
       "1               nan    10731.0                      NGFR_3,SERPINF1_3   \n",
       "2           HLA-B_2    28821.0                                HLA-B_2   \n",
       "3               nan    15322.0                       NMRK1_3,S100A6_3   \n",
       "4               nan    10314.0                                    nan   \n",
       "...             ...        ...                                    ...   \n",
       "218326          nan    12722.0       CTSO_3,PIK3IP1_3,VDAC2_2,WNT7A_1   \n",
       "218327          nan    11643.0                      JAK2_3,SLC7A5P1_3   \n",
       "218328          nan    12497.0  S100A6_2,SAT1_2,ONE_NON-GENE_SITE_177   \n",
       "218329     CDKN2B_3    17941.0                               CDKN2B_3   \n",
       "218330  NO_SITE_694     7968.0                            NO_SITE_694   \n",
       "\n",
       "           umap_x    umap_y  \n",
       "0       -3.937523  5.441272  \n",
       "1       -5.480882  6.598254  \n",
       "2       -1.044962  9.840532  \n",
       "3       -2.588797  6.588357  \n",
       "4       -0.795585  2.256979  \n",
       "...           ...       ...  \n",
       "218326  10.117681 -1.233309  \n",
       "218327   5.348833  0.995789  \n",
       "218328   6.285855  1.838057  \n",
       "218329   7.731683  1.007936  \n",
       "218330  10.316012 -4.000524  \n",
       "\n",
       "[218331 rows x 9 columns]"
      ]
     },
     "execution_count": 32,
     "metadata": {},
     "output_type": "execute_result"
    }
   ],
   "source": [
    "adata.obs"
   ]
  },
  {
   "cell_type": "code",
   "execution_count": 33,
   "metadata": {},
   "outputs": [],
   "source": [
    "adata.obs[\"perturbation\"] = [find_pert(x) for x in adata.obs.sgRNAs]\n",
    "adata.obs['tissue_type']='cell_line_co-culture'\n",
    "adata.obs['cancer'] = True\n",
    "adata.obs['disease'] = 'melanoma'\n",
    "adata.obs['perturbation_type'] = 'CRISPR'\n",
    "adata.obs['celltype'] = 'melanocytes'\n",
    "adata.obs['organism'] = 'human'\n",
    "adata.obs['perturbation_type_2'] = 'IFN-γ stimulation'\n",
    "adata.obs.index = adata.obs.NAME\n",
    "adata.obs.index = adata.obs.index.rename('cell_name')\n",
    "adata.obs = adata.obs.drop(['NAME'],axis=1)"
   ]
  },
  {
   "cell_type": "code",
   "execution_count": 34,
   "metadata": {},
   "outputs": [
    {
     "name": "stderr",
     "output_type": "stream",
     "text": [
      "... storing 'perturbation' as categorical\n",
      "... storing 'tissue_type' as categorical\n",
      "... storing 'disease' as categorical\n",
      "... storing 'perturbation_type' as categorical\n",
      "... storing 'celltype' as categorical\n",
      "... storing 'organism' as categorical\n",
      "... storing 'perturbation_type_2' as categorical\n"
     ]
    }
   ],
   "source": [
    "adata.write(index+\"/\"+index+\"/\"+index+\"_RNA_normalized.h5\")"
   ]
  },
  {
   "cell_type": "code",
   "execution_count": 4,
   "metadata": {},
   "outputs": [],
   "source": [
    "adata = sc.read(index+\"/\"+index+\"/\"+index+\"_RNA_normalized.h5\")"
   ]
  },
  {
   "cell_type": "code",
   "execution_count": 5,
   "metadata": {},
   "outputs": [],
   "source": [
    "tmp = adata.X.expm1()\n",
    "tmpraw = tmp.T.multiply(np.array(adata.obs.UMI_count/1000000))\n",
    "tmpcsr = tmpraw.tocsr().T\n",
    "tmpcsrfinal = tmpcsr.rint()"
   ]
  },
  {
   "cell_type": "code",
   "execution_count": 6,
   "metadata": {},
   "outputs": [
    {
     "data": {
      "text/plain": [
       "<218331x23712 sparse matrix of type '<class 'numpy.float64'>'\n",
       "\twith 740736244 stored elements in Compressed Sparse Column format>"
      ]
     },
     "execution_count": 6,
     "metadata": {},
     "output_type": "execute_result"
    }
   ],
   "source": [
    "tmpcsrfinal"
   ]
  },
  {
   "cell_type": "code",
   "execution_count": 7,
   "metadata": {},
   "outputs": [],
   "source": [
    "adatanew = sc.AnnData(tmpcsrfinal, obs=adata.obs, var=adata.var)\n",
    "adatanew.write(index+\"/\"+index+\"/\"+index+\"_RNA.h5\")"
   ]
  },
  {
   "cell_type": "code",
   "execution_count": 28,
   "metadata": {},
   "outputs": [],
   "source": [
    "adata = sc.read_h5ad(index+\"/\"+index+\"/\"+index+\"_RNA.h5\")\n",
    "adata.obs = obs\n",
    "adata.write(index+\"/\"+index+\"/\"+index+\"_RNA.h5\")"
   ]
  },
  {
   "cell_type": "code",
   "execution_count": 36,
   "metadata": {},
   "outputs": [
    {
     "name": "stdout",
     "output_type": "stream",
     "text": [
      " > Uploading \"/n/data1/hms/cellbio/sander/judy/resource_paper/FrangiehIzar2021/FrangiehIzar2021/FrangiehIzar2021_RNA.h5\" to \"/FrangiehIzar2021/FrangiehIzar2021/FrangiehIzar2021_RNA.h5\" by 114 chunks .................................................................................................................. DONE\n"
     ]
    }
   ],
   "source": [
    "!/home/cs308/dropbox_uploader.sh upload {index+\"/\"+index+\"/\"+index+\"_RNA.h5\"} {index+\"/\"+index+\"/\"}"
   ]
  },
  {
   "cell_type": "markdown",
   "metadata": {},
   "source": [
    "# GasperiniShendure2019"
   ]
  },
  {
   "cell_type": "code",
   "execution_count": null,
   "metadata": {},
   "outputs": [],
   "source": [
    "# Done!"
   ]
  },
  {
   "cell_type": "code",
   "execution_count": 3,
   "metadata": {},
   "outputs": [],
   "source": [
    "index = \"GasperiniShendure2019\""
   ]
  },
  {
   "cell_type": "code",
   "execution_count": 109,
   "metadata": {},
   "outputs": [],
   "source": [
    "experiments = [\"lowMOI\",\"highMOI\",\"atscale\"]"
   ]
  },
  {
   "cell_type": "code",
   "execution_count": 110,
   "metadata": {},
   "outputs": [],
   "source": [
    "def find_pert(gene):\n",
    "    if tmp==\"nan\":\n",
    "        pert=\"control\"\n",
    "    else:\n",
    "        perts = gene.split(\"_\")\n",
    "        scrambleidx = np.where(np.array(perts)==\"scrambled\")[0]\n",
    "        if len(scrambleidx) > 0:\n",
    "            idxkeep = np.delete(np.arange(len(perts)),np.array(list(scrambleidx) + list(scrambleidx+1)))\n",
    "            perts = [perts[x] for x in idxkeep]\n",
    "        perts = [x for x in perts if x!=\"TSS\"]\n",
    "        pert = \"_\".join(perts)\n",
    "        if pert == \"\":\n",
    "            pert = \"control\"\n",
    "    return pert"
   ]
  },
  {
   "cell_type": "code",
   "execution_count": 111,
   "metadata": {},
   "outputs": [
    {
     "name": "stderr",
     "output_type": "stream",
     "text": [
      "... storing 'tissue_type' as categorical\n",
      "... storing 'cell_line' as categorical\n",
      "... storing 'disease' as categorical\n",
      "... storing 'perturbation_type' as categorical\n",
      "... storing 'celltype' as categorical\n",
      "... storing 'organism' as categorical\n",
      "... storing 'perturbation' as categorical\n",
      "... storing 'tissue_type' as categorical\n",
      "... storing 'cell_line' as categorical\n",
      "... storing 'disease' as categorical\n",
      "... storing 'perturbation_type' as categorical\n",
      "... storing 'celltype' as categorical\n",
      "... storing 'organism' as categorical\n",
      "... storing 'perturbation' as categorical\n",
      "... storing 'tissue_type' as categorical\n",
      "... storing 'cell_line' as categorical\n",
      "... storing 'disease' as categorical\n",
      "... storing 'perturbation_type' as categorical\n",
      "... storing 'celltype' as categorical\n",
      "... storing 'organism' as categorical\n",
      "... storing 'perturbation' as categorical\n"
     ]
    }
   ],
   "source": [
    "for experiment in experiments:\n",
    "#     X = csr_matrix(mmread(path+index+\"/\"+experiment+\"/counts.mtx.gz\"))\n",
    "#     var = pd.read_csv(path+index+\"/\"+experiment+\"/var.csv\")\n",
    "#     obs = pd.read_csv(path+index+\"/\"+experiment+\"/obs.csv\")\n",
    "#     adata = sc.AnnData(X.T, var=var, obs=obs)\n",
    "#     adata.write(path+index+\"/\"+experiment+\"/\"+index+\"_\"+experiment+\"_preprocessed.h5\")\n",
    "    adata = sc.read_h5ad(path+index+\"/\"+experiment+\"/\"+index+\"_\"+experiment+\"_preprocessed.h5\")\n",
    "        \n",
    "    adata.var.index = adata.var[\"0\"]\n",
    "    mg = mygene.MyGeneInfo()\n",
    "    query = mg.querymany(list(adata.var[\"0\"]) , scopes='ensembl.gene', fields='symbol', species='human', returnall=True, verbose=False)\n",
    "    \n",
    "    df = pd.DataFrame(query['out'])\n",
    "    df = df.set_index('query')\n",
    "    df = df.drop_duplicates(keep='first')\n",
    "    \n",
    "    var=pd.merge(adata.var, df, how='left', left_index=True, right_index=True)\n",
    "    var.loc[pd.isna(var['symbol']),'symbol'] = list(var.index[pd.isna(var['symbol'])])\n",
    "    var=var[['symbol']]\n",
    "    var = var.drop_duplicates(keep='first')\n",
    "    adata.var['ensembl_id'] = adata.var.index\n",
    "    adata.var_names=[var.loc[x]['symbol'] if x in var.index else x for x in adata.var_names]\n",
    "    adata.var_names = [str(x) for x in adata.var.index.values]  # make strings, else not writeable\n",
    "    adata.var.index = adata.var.index.rename('gene_symbol')\n",
    "    adata.var = adata.var.drop(['Unnamed: 0','0'],axis=1)\n",
    "\n",
    "    if experiment != \"atscale\":\n",
    "        adata.obs = adata.obs.iloc[:,:15] # for lowMOI and highMOI \n",
    "    adata.obs['tissue_type']='cell_line'\n",
    "    adata.obs['cell_line']='K562'\n",
    "    adata.obs['cancer'] = True\n",
    "    adata.obs['disease'] = 'chronic myelogenous leukemia'\n",
    "    adata.obs['perturbation_type'] = 'CRISPR'\n",
    "    adata.obs['celltype'] = 'lymphoblasts'\n",
    "    adata.obs['organism'] = 'human'\n",
    "    \n",
    "    adata.obs = adata.obs.drop(['Unnamed: 0'],axis=1)\n",
    "    adata.obs = adata.obs.rename({'cell': 'cell_barcode'}, axis=1)\n",
    "    adata.obs['perturbation'] = [find_pert(x) for x in adata.obs['gene']]\n",
    "    \n",
    "    adata.obs.perturbation = ['control' if x.startswith(\"scrambled\") else x for x in adata.obs.perturbation]\n",
    "    \n",
    "    adata.obs.cell_barcode = [x.split('-')[0] for x in adata.obs.cell_barcode]\n",
    "    adata.obs.index = adata.obs.cell_barcode\n",
    "    adata.obs.index = adata.obs.index.rename('cell_barcode')\n",
    "    adata.obs = adata.obs.drop(['cell_barcode'],axis=1)\n",
    "    \n",
    "    if os.path.exists(path+index+\"/\"+experiment+\"/\"+index+\"_\"+experiment+\".h5\"):\n",
    "        !rm {path+index+\"/\"+experiment+\"/\"+index+\"_\"+experiment+\".h5\"}\n",
    "    adata.write(path+index+\"/\"+experiment+\"/\"+index+\"_\"+experiment+\".h5\")"
   ]
  },
  {
   "cell_type": "code",
   "execution_count": 180,
   "metadata": {},
   "outputs": [
    {
     "name": "stdout",
     "output_type": "stream",
     "text": [
      " > Uploading \"/n/data1/hms/cellbio/sander/judy/resource_paper/GasperiniShendure2019/lowMOI/GasperiniShendure2019_lowMOI.h5\" to \"/GasperiniShendure2019/lowMOI/GasperiniShendure2019_lowMOI.h5\" by 24 chunks ........................ DONE\n",
      " > Uploading \"/n/data1/hms/cellbio/sander/judy/resource_paper/GasperiniShendure2019/highMOI/GasperiniShendure2019_highMOI.h5\" to \"/GasperiniShendure2019/highMOI/GasperiniShendure2019_highMOI.h5\" by 28 chunks ............................ DONE\n",
      " > Uploading \"/n/data1/hms/cellbio/sander/judy/resource_paper/GasperiniShendure2019/atscale/GasperiniShendure2019_atscale.h5\" to \"/GasperiniShendure2019/atscale/GasperiniShendure2019_atscale.h5\" by 115 chunks ................................................................................................................... DONE\n"
     ]
    }
   ],
   "source": [
    "for experiment in experiments:\n",
    "    !/home/cs308/dropbox_uploader.sh upload {path+index+\"/\"+experiment+\"/\"+index+\"_\"+experiment+\".h5\"} {index+\"/\"+experiment+\"/\"}"
   ]
  },
  {
   "cell_type": "markdown",
   "metadata": {},
   "source": [
    "# NormanWeissman2019"
   ]
  },
  {
   "cell_type": "code",
   "execution_count": null,
   "metadata": {},
   "outputs": [],
   "source": [
    "# Done!"
   ]
  },
  {
   "cell_type": "code",
   "execution_count": 29,
   "metadata": {},
   "outputs": [],
   "source": [
    "index = \"NormanWeissman2019\""
   ]
  },
  {
   "cell_type": "code",
   "execution_count": 30,
   "metadata": {},
   "outputs": [],
   "source": [
    "experiment = \"filtered\""
   ]
  },
  {
   "cell_type": "code",
   "execution_count": null,
   "metadata": {},
   "outputs": [],
   "source": [
    "X = csr_matrix(mmread(path+index+\"/\"+experiment+\"/counts.mtx.gz\"))\n",
    "var = pd.read_csv(path+index+\"/\"+experiment+\"/var.csv\")\n",
    "obs = pd.read_csv(path+index+\"/\"+experiment+\"/obs.csv\")\n",
    "barcodes=pd.read_csv(path+index+\"/\"+experiment+\"/GSE133344_filtered_barcodes.tsv.gz\",header=None)\n",
    "Xsub = X[:,[list(barcodes[0]).index(x) for x in obs.cell_barcode]]\n",
    "adata = sc.AnnData(Xsub.T, var=var, obs=obs)\n",
    "adata.write(path+index+\"/\"+experiment+\"/\"+index+\"_\"+experiment+\"_preprocessed.h5\")"
   ]
  },
  {
   "cell_type": "code",
   "execution_count": 34,
   "metadata": {},
   "outputs": [],
   "source": [
    "adata = sc.read_h5ad(path+index+\"/\"+experiment+\"/\"+index+\"_\"+experiment+\"_preprocessed.h5\")\n",
    "adata.var.index = adata.var.gene_symbol\n",
    "adata.var.index = adata.var.index.rename('gene_symbol')\n",
    "adata.var = adata.var.drop(['Unnamed: 0','gene_symbol'],axis=1)"
   ]
  },
  {
   "cell_type": "code",
   "execution_count": 35,
   "metadata": {},
   "outputs": [],
   "source": [
    "def identify_pert(guide):\n",
    "    guide = guide.split(\"__\")[0]\n",
    "    perts = guide.split(\"_\")\n",
    "    nctrl = sum([x.startswith(\"NegCtrl\") for x in perts])\n",
    "    if nctrl == 2:\n",
    "        pert = \"control\"\n",
    "    elif nctrl == 1:\n",
    "        pert = [x for x in perts if not x.startswith(\"NegCtrl\")][0]\n",
    "    else:\n",
    "        pert = \"_\".join(perts)\n",
    "    if pert == \"no_reads_found\":\n",
    "        pert = \"control\"\n",
    "    return pert"
   ]
  },
  {
   "cell_type": "code",
   "execution_count": 36,
   "metadata": {},
   "outputs": [],
   "source": [
    "adata.obs['tissue_type']='cell_line'\n",
    "adata.obs['cell_line']='K562'\n",
    "adata.obs['cancer'] = True\n",
    "adata.obs['disease'] = 'chronic myelogenous leukemia'\n",
    "adata.obs['perturbation_type'] = 'CRISPR'\n",
    "adata.obs['celltype'] = 'lymphoblasts'\n",
    "adata.obs['organism'] = 'human'\n",
    "\n",
    "adata.obs['perturbation'] = [identify_pert(x) for x in adata.obs['guide_identity']]\n",
    "adata.obs = adata.obs.rename({\"guide_identity\":\"guide_id\"},axis=1)\n",
    "adata.obs[\"guide_id\"] = [\";\".join(x.split(\"__\")) for x in adata.obs[\"guide_id\"]]\n",
    "\n",
    "# adata.obs = adata.obs.rename({'guide_identity': 'perturbation'}, axis=1)\n",
    "# adata.obs.perturbation =[x.split('__')[0] for x in adata.obs.perturbation]\n",
    "# adata.obs.perturbation = ['control' if x=='NegCtrl0_NegCtrl0' else x for x in adata.obs.perturbation]"
   ]
  },
  {
   "cell_type": "code",
   "execution_count": 37,
   "metadata": {},
   "outputs": [],
   "source": [
    "adata.obs.cell_barcode = [x.split('-')[0] for x in adata.obs.cell_barcode]\n",
    "adata.obs.index = adata.obs.cell_barcode\n",
    "adata.obs.index = adata.obs.index.rename('cell_barcode')\n",
    "adata.obs = adata.obs.drop(['Unnamed: 0','cell_barcode'],axis=1)"
   ]
  },
  {
   "cell_type": "code",
   "execution_count": 38,
   "metadata": {
    "scrolled": true
   },
   "outputs": [
    {
     "name": "stderr",
     "output_type": "stream",
     "text": [
      "... storing 'guide_id' as categorical\n",
      "... storing 'tissue_type' as categorical\n",
      "... storing 'cell_line' as categorical\n",
      "... storing 'disease' as categorical\n",
      "... storing 'perturbation_type' as categorical\n",
      "... storing 'celltype' as categorical\n",
      "... storing 'organism' as categorical\n",
      "... storing 'perturbation' as categorical\n"
     ]
    }
   ],
   "source": [
    "adata.write(path+index+\"/\"+experiment+\"/\"+index+\"_\"+experiment+\".h5\")"
   ]
  },
  {
   "cell_type": "code",
   "execution_count": 39,
   "metadata": {},
   "outputs": [],
   "source": [
    "experiment = \"raw\" #### file too big to process"
   ]
  },
  {
   "cell_type": "code",
   "execution_count": 199,
   "metadata": {},
   "outputs": [],
   "source": [
    "X = csr_matrix(mmread(path+index+\"/\"+experiment+\"/counts.mtx.gz\"))\n",
    "var = pd.read_csv(path+index+\"/\"+experiment+\"/var.csv\")\n",
    "obs = pd.read_csv(path+index+\"/\"+experiment+\"/obs.csv\")\n",
    "barcodes=pd.read_csv(path+index+\"/\"+experiment+\"/GSE133344_raw_barcodes.tsv.gz\",header=None)"
   ]
  },
  {
   "cell_type": "code",
   "execution_count": 200,
   "metadata": {},
   "outputs": [
    {
     "data": {
      "text/plain": [
       "<33694x5898240 sparse matrix of type '<class 'numpy.int64'>'\n",
       "\twith 442237190 stored elements in Compressed Sparse Row format>"
      ]
     },
     "execution_count": 200,
     "metadata": {},
     "output_type": "execute_result"
    }
   ],
   "source": [
    "X"
   ]
  },
  {
   "cell_type": "code",
   "execution_count": 208,
   "metadata": {},
   "outputs": [],
   "source": [
    "Xsub = X[:,np.isin(barcodes[0], obs.cell_barcode)]"
   ]
  },
  {
   "cell_type": "code",
   "execution_count": 209,
   "metadata": {},
   "outputs": [
    {
     "name": "stderr",
     "output_type": "stream",
     "text": [
      "Transforming to str index.\n",
      "Transforming to str index.\n",
      "... storing 'guide_identity' as categorical\n",
      "... storing 'gene_symbol' as categorical\n"
     ]
    }
   ],
   "source": [
    "adata = sc.AnnData(Xsub.T, var=var, obs=obs)\n",
    "adata.write(path+index+\"/\"+experiment+\"/\"+index+\"_\"+experiment+\"_preprocessed.h5\")"
   ]
  },
  {
   "cell_type": "code",
   "execution_count": 40,
   "metadata": {},
   "outputs": [],
   "source": [
    "adata = sc.read_h5ad(path+index+\"/\"+experiment+\"/\"+index+\"_\"+experiment+\"_preprocessed.h5\")"
   ]
  },
  {
   "cell_type": "code",
   "execution_count": 41,
   "metadata": {},
   "outputs": [],
   "source": [
    "adata.var.index = adata.var.gene_symbol\n",
    "adata.var.index = adata.var.index.rename('gene_symbol')\n",
    "adata.var = adata.var.drop(['Unnamed: 0','gene_symbol'],axis=1)"
   ]
  },
  {
   "cell_type": "code",
   "execution_count": 42,
   "metadata": {},
   "outputs": [],
   "source": [
    "adata.obs['tissue_type']='cell_line'\n",
    "adata.obs['cell_line']='K562'\n",
    "adata.obs['cancer'] = True\n",
    "adata.obs['disease'] = 'chronic myelogenous leukemia'\n",
    "adata.obs['perturbation_type'] = 'CRISPR'\n",
    "adata.obs['celltype'] = 'lymphoblasts'\n",
    "adata.obs['organism'] = 'human'\n",
    "\n",
    "adata.obs['perturbation'] = [identify_pert(x) for x in adata.obs['guide_identity']]\n",
    "adata.obs = adata.obs.rename({\"guide_identity\":\"guide_id\"},axis=1)\n",
    "adata.obs[\"guide_id\"] = [\";\".join(x.split(\"__\")) for x in adata.obs[\"guide_id\"]]"
   ]
  },
  {
   "cell_type": "code",
   "execution_count": 43,
   "metadata": {},
   "outputs": [],
   "source": [
    "adata.obs.cell_barcode = [x.split('-')[0] for x in adata.obs.cell_barcode]\n",
    "adata.obs.index = adata.obs.cell_barcode\n",
    "adata.obs.index = adata.obs.index.rename('cell_barcode')\n",
    "adata.obs = adata.obs.drop(['Unnamed: 0','cell_barcode'],axis=1)"
   ]
  },
  {
   "cell_type": "code",
   "execution_count": 44,
   "metadata": {},
   "outputs": [
    {
     "name": "stderr",
     "output_type": "stream",
     "text": [
      "... storing 'guide_id' as categorical\n",
      "... storing 'tissue_type' as categorical\n",
      "... storing 'cell_line' as categorical\n",
      "... storing 'disease' as categorical\n",
      "... storing 'perturbation_type' as categorical\n",
      "... storing 'celltype' as categorical\n",
      "... storing 'organism' as categorical\n",
      "... storing 'perturbation' as categorical\n"
     ]
    }
   ],
   "source": [
    "adata.write(path+index+\"/\"+experiment+\"/\"+index+\"_\"+experiment+\".h5\")"
   ]
  },
  {
   "cell_type": "code",
   "execution_count": 40,
   "metadata": {},
   "outputs": [
    {
     "name": "stdout",
     "output_type": "stream",
     "text": [
      " > Uploading \"/n/data1/hms/cellbio/sander/judy/resource_paper/NormanWeissman2019/filtered/NormanWeissman2019_filtered.h5\" to \"/NormanWeissman2019/filtered/NormanWeissman2019_filtered.h5\" by 56 chunks ........................................................ DONE\n",
      " > Uploading \"/n/data1/hms/cellbio/sander/judy/resource_paper/NormanWeissman2019/raw/NormanWeissman2019_raw.h5\" to \"/NormanWeissman2019/raw/NormanWeissman2019_raw.h5\" by 57 chunks ......................................................... DONE\n"
     ]
    }
   ],
   "source": [
    "for experiment in [\"filtered\",\"raw\"]:\n",
    "    !/home/cs308/dropbox_uploader.sh upload {path+index+\"/\"+experiment+\"/\"+index+\"_\"+experiment+\".h5\"} {index+\"/\"+experiment+\"/\"}"
   ]
  },
  {
   "cell_type": "markdown",
   "metadata": {},
   "source": [
    "# TianKampmann2019"
   ]
  },
  {
   "cell_type": "code",
   "execution_count": null,
   "metadata": {},
   "outputs": [],
   "source": [
    "# Done!"
   ]
  },
  {
   "cell_type": "code",
   "execution_count": 3,
   "metadata": {},
   "outputs": [],
   "source": [
    "index = \"TianKampmann2019\""
   ]
  },
  {
   "cell_type": "code",
   "execution_count": 46,
   "metadata": {},
   "outputs": [],
   "source": [
    "sgrnanames = pd.read_csv(path+index+\"/mmc3.csv\")\n",
    "sgrnanames.index = sgrnanames[\"protospacer sequence\"]"
   ]
  },
  {
   "cell_type": "code",
   "execution_count": 47,
   "metadata": {},
   "outputs": [],
   "source": [
    "experiments, idxs = [\"day7neuron\",\"iPSC\"],[\"1\",\"2\"]"
   ]
  },
  {
   "cell_type": "code",
   "execution_count": 48,
   "metadata": {},
   "outputs": [],
   "source": [
    "def find_sgrna(cellbarcode, sgrna):\n",
    "    tmpsgrna = sgrna.loc[[cellbarcode],:]\n",
    "    tmpsgrna = tmpsgrna.sort_values(['umi_count','read_count'], ascending=[False,False])\n",
    "    sgRNA_barcodes = \"__\".join(tmpsgrna.guide)\n",
    "    sgRNA_read_count = \"-\".join([str(x) for x in tmpsgrna.read_count])\n",
    "    sgRNA_umi_count = \"-\".join([str(x) for x in tmpsgrna.umi_count])\n",
    "    return [sgRNA_barcodes, sgRNA_read_count, sgRNA_umi_count]"
   ]
  },
  {
   "cell_type": "code",
   "execution_count": 49,
   "metadata": {},
   "outputs": [],
   "source": [
    "def find_pert(guides):\n",
    "    perts = list(set([x.split(\"_\")[0] for x in guides]))\n",
    "    if perts == [\"control\"]:\n",
    "        return \"control\"\n",
    "    elif \"control\" in perts:\n",
    "        perts.remove(\"control\")\n",
    "        return \"_\".join(perts)\n",
    "    else:\n",
    "        return \"_\".join(perts)"
   ]
  },
  {
   "cell_type": "code",
   "execution_count": 52,
   "metadata": {},
   "outputs": [],
   "source": [
    "sgrna = pd.read_csv(glob.glob(path+index+\"/\"+experiments[0]+\"/\"+experiments[0]+idxs[0]+\"/*sgRNA_mapping.txt.gz\")[0],sep=\"\\t\")"
   ]
  },
  {
   "cell_type": "code",
   "execution_count": 53,
   "metadata": {},
   "outputs": [
    {
     "data": {
      "text/html": [
       "<div>\n",
       "<style scoped>\n",
       "    .dataframe tbody tr th:only-of-type {\n",
       "        vertical-align: middle;\n",
       "    }\n",
       "\n",
       "    .dataframe tbody tr th {\n",
       "        vertical-align: top;\n",
       "    }\n",
       "\n",
       "    .dataframe thead th {\n",
       "        text-align: right;\n",
       "    }\n",
       "</style>\n",
       "<table border=\"1\" class=\"dataframe\">\n",
       "  <thead>\n",
       "    <tr style=\"text-align: right;\">\n",
       "      <th></th>\n",
       "      <th>cell</th>\n",
       "      <th>barcode</th>\n",
       "      <th>read_count</th>\n",
       "      <th>umi_count</th>\n",
       "    </tr>\n",
       "  </thead>\n",
       "  <tbody>\n",
       "    <tr>\n",
       "      <td>0</td>\n",
       "      <td>TCTCTAAAGACAGACC-1</td>\n",
       "      <td>unprocessed_TGTTGGTCCCGAGACTGATGTCCGGGTTTA</td>\n",
       "      <td>0</td>\n",
       "      <td>0</td>\n",
       "    </tr>\n",
       "    <tr>\n",
       "      <td>1</td>\n",
       "      <td>TCTCTAAAGACAGACC-1</td>\n",
       "      <td>GTACCACCCAAACGATAACG</td>\n",
       "      <td>0</td>\n",
       "      <td>0</td>\n",
       "    </tr>\n",
       "    <tr>\n",
       "      <td>2</td>\n",
       "      <td>TCTCTAAAGACAGACC-1</td>\n",
       "      <td>unprocessed_TGTTGGGAGCTCTCTGGCTAACTAGGGAAC</td>\n",
       "      <td>0</td>\n",
       "      <td>0</td>\n",
       "    </tr>\n",
       "    <tr>\n",
       "      <td>3</td>\n",
       "      <td>TCTCTAAAGACAGACC-1</td>\n",
       "      <td>GCTGGGAAGCTGGGTTCTCG</td>\n",
       "      <td>0</td>\n",
       "      <td>0</td>\n",
       "    </tr>\n",
       "    <tr>\n",
       "      <td>4</td>\n",
       "      <td>TCTCTAAAGACAGACC-1</td>\n",
       "      <td>GTGGCCTTACGAAGGAGCAG</td>\n",
       "      <td>3</td>\n",
       "      <td>1</td>\n",
       "    </tr>\n",
       "    <tr>\n",
       "      <td>...</td>\n",
       "      <td>...</td>\n",
       "      <td>...</td>\n",
       "      <td>...</td>\n",
       "      <td>...</td>\n",
       "    </tr>\n",
       "    <tr>\n",
       "      <td>1970722</td>\n",
       "      <td>GTTCTCGCAAAGTCAA-1</td>\n",
       "      <td>GACCGGATCGGTGACTGTGG</td>\n",
       "      <td>0</td>\n",
       "      <td>0</td>\n",
       "    </tr>\n",
       "    <tr>\n",
       "      <td>1970723</td>\n",
       "      <td>GTTCTCGCAAAGTCAA-1</td>\n",
       "      <td>unprocessed_TGTTGGCGTGGCAACTGGGTGAGGGGTTTA</td>\n",
       "      <td>0</td>\n",
       "      <td>0</td>\n",
       "    </tr>\n",
       "    <tr>\n",
       "      <td>1970724</td>\n",
       "      <td>CTCGAAAAGTATTGGA-1</td>\n",
       "      <td>GTACCACCCAAACGATAACG</td>\n",
       "      <td>1</td>\n",
       "      <td>1</td>\n",
       "    </tr>\n",
       "    <tr>\n",
       "      <td>1970725</td>\n",
       "      <td>CCGGGATAGGGTATCG-1</td>\n",
       "      <td>GACCCGAGACTGCTTCCCGG</td>\n",
       "      <td>1</td>\n",
       "      <td>1</td>\n",
       "    </tr>\n",
       "    <tr>\n",
       "      <td>1970726</td>\n",
       "      <td>TAGTTGGCACATTAGC-1</td>\n",
       "      <td>GTACCACCCAAACGATAACG</td>\n",
       "      <td>1</td>\n",
       "      <td>1</td>\n",
       "    </tr>\n",
       "  </tbody>\n",
       "</table>\n",
       "<p>1970727 rows × 4 columns</p>\n",
       "</div>"
      ],
      "text/plain": [
       "                       cell                                     barcode  \\\n",
       "0        TCTCTAAAGACAGACC-1  unprocessed_TGTTGGTCCCGAGACTGATGTCCGGGTTTA   \n",
       "1        TCTCTAAAGACAGACC-1                        GTACCACCCAAACGATAACG   \n",
       "2        TCTCTAAAGACAGACC-1  unprocessed_TGTTGGGAGCTCTCTGGCTAACTAGGGAAC   \n",
       "3        TCTCTAAAGACAGACC-1                        GCTGGGAAGCTGGGTTCTCG   \n",
       "4        TCTCTAAAGACAGACC-1                        GTGGCCTTACGAAGGAGCAG   \n",
       "...                     ...                                         ...   \n",
       "1970722  GTTCTCGCAAAGTCAA-1                        GACCGGATCGGTGACTGTGG   \n",
       "1970723  GTTCTCGCAAAGTCAA-1  unprocessed_TGTTGGCGTGGCAACTGGGTGAGGGGTTTA   \n",
       "1970724  CTCGAAAAGTATTGGA-1                        GTACCACCCAAACGATAACG   \n",
       "1970725  CCGGGATAGGGTATCG-1                        GACCCGAGACTGCTTCCCGG   \n",
       "1970726  TAGTTGGCACATTAGC-1                        GTACCACCCAAACGATAACG   \n",
       "\n",
       "         read_count  umi_count  \n",
       "0                 0          0  \n",
       "1                 0          0  \n",
       "2                 0          0  \n",
       "3                 0          0  \n",
       "4                 3          1  \n",
       "...             ...        ...  \n",
       "1970722           0          0  \n",
       "1970723           0          0  \n",
       "1970724           1          1  \n",
       "1970725           1          1  \n",
       "1970726           1          1  \n",
       "\n",
       "[1970727 rows x 4 columns]"
      ]
     },
     "execution_count": 53,
     "metadata": {},
     "output_type": "execute_result"
    }
   ],
   "source": [
    "sgrna"
   ]
  },
  {
   "cell_type": "code",
   "execution_count": 54,
   "metadata": {
    "scrolled": true
   },
   "outputs": [
    {
     "name": "stderr",
     "output_type": "stream",
     "text": [
      "Transforming to str index.\n",
      "... storing 'perturbation' as categorical\n",
      "... storing 'guide_id' as categorical\n",
      "... storing 'tissue_type' as categorical\n",
      "... storing 'celltype' as categorical\n",
      "... storing 'disease' as categorical\n",
      "... storing 'perturbation_type' as categorical\n",
      "... storing 'organism' as categorical\n",
      "Transforming to str index.\n",
      "... storing 'guide_id' as categorical\n",
      "... storing 'perturbation' as categorical\n",
      "... storing 'tissue_type' as categorical\n",
      "... storing 'celltype' as categorical\n",
      "... storing 'disease' as categorical\n",
      "... storing 'perturbation_type' as categorical\n",
      "... storing 'organism' as categorical\n",
      "Transforming to str index.\n",
      "... storing 'guide_id' as categorical\n",
      "... storing 'perturbation' as categorical\n",
      "... storing 'tissue_type' as categorical\n",
      "... storing 'celltype' as categorical\n",
      "... storing 'disease' as categorical\n",
      "... storing 'perturbation_type' as categorical\n",
      "... storing 'organism' as categorical\n",
      "Transforming to str index.\n",
      "... storing 'guide_id' as categorical\n",
      "... storing 'perturbation' as categorical\n",
      "... storing 'tissue_type' as categorical\n",
      "... storing 'celltype' as categorical\n",
      "... storing 'disease' as categorical\n",
      "... storing 'perturbation_type' as categorical\n",
      "... storing 'organism' as categorical\n"
     ]
    }
   ],
   "source": [
    "for experiment in experiments:\n",
    "    for idx in idxs:\n",
    "#         X = csr_matrix(mmread(path+index+\"/\"+experiment+\"/\"+experiment+idx+\"/counts.mtx.gz\"))\n",
    "#         var = pd.read_csv(path+index+\"/\"+experiment+\"/\"+experiment+idx+\"/var.csv\")\n",
    "#         sgrna = pd.read_csv(glob.glob(path+index+\"/\"+experiment+\"/\"+experiment+idx+\"/*sgRNA_mapping.txt.gz\")[0],sep=\"\\t\")\n",
    "        \n",
    "#         sgrna.index = sgrna.cell\n",
    "#         sgrna = sgrna.loc[sgrna['umi_count']>0,:]\n",
    "#         sgrna = sgrna.loc[np.isin(sgrna.barcode,sgrnanames[\"protospacer sequence\"]),:]\n",
    "#         sgrna['guide'] = [sgrnanames.loc[x,'sgRNA_short name'] for x in tq.tqdm(sgrna['barcode'])]\n",
    "#         sgrna['guide'] = [\"control\" if x.startswith(\"non-targeting\") else x for x in sgrna['guide']]\n",
    "        \n",
    "#         barcodes = pd.read_csv(glob.glob(path+index+\"/\"+experiment+\"/\"+experiment+idx+\"/*barcodes.tsv.gz\")[0],sep=\"\\t\",\n",
    "#                       header=None)\n",
    "#         sharedcells = list(set(sgrna.index).intersection(list(barcodes[0])))\n",
    "#         xsubindx = np.isin(list(barcodes[0]),sharedcells)\n",
    "#         Xsub = X[:,xsubindx]\n",
    "#         adata = sc.AnnData(Xsub.T)\n",
    "#         adata.obs_names = barcodes.loc[xsubindx,0]\n",
    "#         adata.var = var\n",
    "        \n",
    "#         obsinfo = [find_sgrna(x, sgrna) for x in tq.tqdm(adata.obs_names)]\n",
    "#         adata.obs['guides'] = [x[0] for x in obsinfo]\n",
    "#         adata.obs['sgRNA_read_count'] = [x[1] for x in obsinfo]\n",
    "#         adata.obs['sgRNA_umi_count'] = [x[2] for x in obsinfo]\n",
    "\n",
    "#         adata.write(path+index+\"/\"+experiment+\"/\"+experiment+idx+\"/\"+index+\"_\"+experiment+idx+\"_preprocessed.h5\")\n",
    "        adata = sc.read_h5ad(path+index+\"/\"+experiment+\"/\"+experiment+idx+\"/\"+index+\"_\"+experiment+idx+\"_preprocessed.h5\")\n",
    "        \n",
    "        adata.var.index = adata.var.gene_symbol\n",
    "        adata.var.index = adata.var.index.rename('gene_symbol')\n",
    "        adata.var = adata.var.drop(['Unnamed: 0','gene_symbol'],axis=1)\n",
    "        \n",
    "        adata.obs['perturbation']=[find_pert(x.split(\"__\")) for x in adata.obs[\"guides\"]]\n",
    "        if experiment == \"day7neuron\":\n",
    "            adata.obs['tissue_type']='primary'\n",
    "            adata.obs['celltype'] = 'iPSC-induced neuron'\n",
    "        else: \n",
    "            adata.obs['tissue_type']='stem'\n",
    "            adata.obs['celltype'] = 'iPSC'\n",
    "        adata.obs['cancer'] = False\n",
    "        adata.obs['disease'] = 'healthy'\n",
    "        adata.obs['perturbation_type'] = 'CRISPR'\n",
    "        adata.obs['organism'] = 'human'\n",
    "        \n",
    "        adata.obs = adata.obs.rename({\"guides\":\"guide_id\"},axis=1)\n",
    "        adata.obs[\"guide_id\"] = [\";\".join(x.split(\"__\")) for x in adata.obs[\"guide_id\"]]\n",
    "\n",
    "        adata.obs.index = [x.split(\"-\")[0] for x in adata.obs.index]\n",
    "        adata.obs.index = adata.obs.index.rename('cell_barcode')\n",
    "\n",
    "        adata.write(path+index+\"/\"+experiment+\"/\"+experiment+idx+\"/\"+index+\"_\"+experiment+idx+\".h5\")\n"
   ]
  },
  {
   "cell_type": "code",
   "execution_count": null,
   "metadata": {},
   "outputs": [],
   "source": [
    "adata = sc.read_h5ad(path+index+\"/\"+experiment+\"/\"+experiment+idx+\"/\"+index+\"_\"+experiment+idx+\"_preprocessed.h5\")\n"
   ]
  },
  {
   "cell_type": "code",
   "execution_count": 27,
   "metadata": {},
   "outputs": [
    {
     "name": "stderr",
     "output_type": "stream",
     "text": [
      "Variable names are not unique. To make them unique, call `.var_names_make_unique`.\n",
      "Variable names are not unique. To make them unique, call `.var_names_make_unique`.\n",
      "/home/cs308/cellbox_analysis/lib/python3.6/site-packages/ipykernel_launcher.py:12: FutureWarning: Sorting because non-concatenation axis is not aligned. A future version\n",
      "of pandas will change to not sort by default.\n",
      "\n",
      "To accept the future behavior, pass 'sort=False'.\n",
      "\n",
      "To retain the current behavior and silence the warning, pass 'sort=True'.\n",
      "\n",
      "  if sys.path[0] == '':\n",
      "Observation names are not unique. To make them unique, call `.obs_names_make_unique`.\n",
      "Variable names are not unique. To make them unique, call `.var_names_make_unique`.\n",
      "... storing 'guide_id' as categorical\n",
      "... storing 'perturbation' as categorical\n",
      "... storing 'sgRNA_read_count' as categorical\n",
      "... storing 'sgRNA_umi_count' as categorical\n",
      "Variable names are not unique. To make them unique, call `.var_names_make_unique`.\n",
      "Variable names are not unique. To make them unique, call `.var_names_make_unique`.\n",
      "Observation names are not unique. To make them unique, call `.obs_names_make_unique`.\n",
      "Variable names are not unique. To make them unique, call `.var_names_make_unique`.\n",
      "... storing 'guide_id' as categorical\n",
      "... storing 'sgRNA_read_count' as categorical\n",
      "... storing 'sgRNA_umi_count' as categorical\n",
      "... storing 'perturbation' as categorical\n"
     ]
    }
   ],
   "source": [
    "## combine data from different batch\n",
    "for experiment in [\"day7neuron\",\"iPSC\"]:\n",
    "    for idx in ['1','2']:\n",
    "        adata = sc.read_h5ad(path+index+\"/\"+experiment+\"/\"+experiment+idx+\"/\"+index+\"_\"+experiment+idx+\".h5\")\n",
    "        #adata.var_names_make_unique()\n",
    "        if idx=='1':\n",
    "            adata.obs['batch']=1\n",
    "            fulladata = adata\n",
    "        else:\n",
    "            adata.obs['batch']=2\n",
    "            fulladata = sc.AnnData(vstack((fulladata.X,adata.X),\"csc\"),\n",
    "                                   obs=pd.concat([fulladata.obs,adata.obs]), var=fulladata.var)\n",
    "            fulladata.obs_names_make_unique()\n",
    "    fulladata.write(path+index+\"/\"+experiment+\"/\"+index+\"_\"+experiment+\".h5\")"
   ]
  },
  {
   "cell_type": "code",
   "execution_count": 187,
   "metadata": {},
   "outputs": [
    {
     "name": "stdout",
     "output_type": "stream",
     "text": [
      " > Uploading \"/n/data1/hms/cellbio/sander/judy/resource_paper/TianKampmann2019/day7neuron/day7neuron1/TianKampmann2019_day7neuron1.h5\" to \"/TianKampmann2019/day7neuron/day7neuron1/TianKampmann2019_day7neuron1.h5\" by 10 chunks .......... DONE\n",
      " > Uploading \"/n/data1/hms/cellbio/sander/judy/resource_paper/TianKampmann2019/day7neuron/day7neuron2/TianKampmann2019_day7neuron2.h5\" to \"/TianKampmann2019/day7neuron/day7neuron2/TianKampmann2019_day7neuron2.h5\" by 9 chunks ......... DONE\n",
      " > Uploading \"/n/data1/hms/cellbio/sander/judy/resource_paper/TianKampmann2019/iPSC/iPSC1/TianKampmann2019_iPSC1.h5\" to \"/TianKampmann2019/iPSC/iPSC1/TianKampmann2019_iPSC1.h5\" by 12 chunks ............ DONE\n",
      " > Uploading \"/n/data1/hms/cellbio/sander/judy/resource_paper/TianKampmann2019/iPSC/iPSC2/TianKampmann2019_iPSC2.h5\" to \"/TianKampmann2019/iPSC/iPSC2/TianKampmann2019_iPSC2.h5\" by 12 chunks ............ DONE\n"
     ]
    }
   ],
   "source": [
    "for experiment in experiments:\n",
    "    for idx in idxs:\n",
    "        !/home/cs308/dropbox_uploader.sh upload {path+index+\"/\"+experiment+\"/\"+experiment+idx+\"/\"+index+\"_\"+experiment+idx+\".h5\"} {index+\"/\"+experiment+\"/\"+experiment+idx+\"/\"}"
   ]
  },
  {
   "cell_type": "markdown",
   "metadata": {},
   "source": [
    "# TianKampmann2021"
   ]
  },
  {
   "cell_type": "code",
   "execution_count": null,
   "metadata": {},
   "outputs": [],
   "source": [
    "# Done!"
   ]
  },
  {
   "cell_type": "code",
   "execution_count": 28,
   "metadata": {},
   "outputs": [],
   "source": [
    "index = \"TianKampmann2021\""
   ]
  },
  {
   "cell_type": "code",
   "execution_count": 29,
   "metadata": {},
   "outputs": [],
   "source": [
    "experiments = [[\"CRISPRa\",\"1\"],[\"CRISPRa\",\"2\"],[\"CRISPRi\",\"1\"],[\"CRISPRi\",\"2\"],\n",
    "               [\"CRISPRi\",\"3\"],[\"CRISPRi\",\"4\"]]"
   ]
  },
  {
   "cell_type": "code",
   "execution_count": 57,
   "metadata": {},
   "outputs": [
    {
     "name": "stderr",
     "output_type": "stream",
     "text": [
      "Variable names are not unique. To make them unique, call `.var_names_make_unique`.\n",
      "... storing 'guide_id' as categorical\n",
      "... storing 'perturbation' as categorical\n",
      "... storing 'tissue_type' as categorical\n",
      "... storing 'celltype' as categorical\n",
      "... storing 'disease' as categorical\n",
      "... storing 'perturbation_type' as categorical\n",
      "... storing 'organism' as categorical\n",
      "Variable names are not unique. To make them unique, call `.var_names_make_unique`.\n",
      "... storing 'guide_id' as categorical\n",
      "... storing 'perturbation' as categorical\n",
      "... storing 'tissue_type' as categorical\n",
      "... storing 'celltype' as categorical\n",
      "... storing 'disease' as categorical\n",
      "... storing 'perturbation_type' as categorical\n",
      "... storing 'organism' as categorical\n",
      "Variable names are not unique. To make them unique, call `.var_names_make_unique`.\n",
      "... storing 'guide_id' as categorical\n",
      "... storing 'perturbation' as categorical\n",
      "... storing 'tissue_type' as categorical\n",
      "... storing 'celltype' as categorical\n",
      "... storing 'disease' as categorical\n",
      "... storing 'perturbation_type' as categorical\n",
      "... storing 'organism' as categorical\n",
      "Variable names are not unique. To make them unique, call `.var_names_make_unique`.\n",
      "... storing 'guide_id' as categorical\n",
      "... storing 'perturbation' as categorical\n",
      "... storing 'tissue_type' as categorical\n",
      "... storing 'celltype' as categorical\n",
      "... storing 'disease' as categorical\n",
      "... storing 'perturbation_type' as categorical\n",
      "... storing 'organism' as categorical\n",
      "Variable names are not unique. To make them unique, call `.var_names_make_unique`.\n",
      "... storing 'guide_id' as categorical\n",
      "... storing 'perturbation' as categorical\n",
      "... storing 'tissue_type' as categorical\n",
      "... storing 'celltype' as categorical\n",
      "... storing 'disease' as categorical\n",
      "... storing 'perturbation_type' as categorical\n",
      "... storing 'organism' as categorical\n",
      "Variable names are not unique. To make them unique, call `.var_names_make_unique`.\n",
      "... storing 'guide_id' as categorical\n",
      "... storing 'perturbation' as categorical\n",
      "... storing 'tissue_type' as categorical\n",
      "... storing 'celltype' as categorical\n",
      "... storing 'disease' as categorical\n",
      "... storing 'perturbation_type' as categorical\n",
      "... storing 'organism' as categorical\n"
     ]
    }
   ],
   "source": [
    "for experiment,idx in experiments:\n",
    "    adata=sc.read_h5ad(path+index+\"/\"+experiment+\"/\"+experiment+idx+\"/\"+index+\"_\"+experiment+idx+\"_preprocessed.h5\")\n",
    "    adata.var.index = adata.var[\"name\"]\n",
    "    adata.var = adata.var.rename({'id': 'ensembl_id'}, axis=1)\n",
    "    adata.var.index = adata.var.index.rename('gene_symbol')\n",
    "    adata.var = adata.var.drop(['name'],axis=1)\n",
    "    \n",
    "    maps=pd.read_csv(glob.glob(path+index+\"/\"+experiment+\"/\"+experiment+idx+\"/mapped*txt\")[0],sep=\"\\t\",header=None)\n",
    "    maps.index=maps[0]\n",
    "    adata.obs.index = adata.obs.barcode\n",
    "    mapped = adata.obs.merge(maps, left_index=True, right_index=True, how=\"inner\")\n",
    "    mapped_cells = mapped.index\n",
    "    \n",
    "    adata = sc.AnnData(adata.X[adata.obs.index.isin(mapped_cells),],var=adata.var,obs=mapped)\n",
    "    #adata.var_names_make_unique\n",
    "    adata.obs = adata.obs.rename({1: 'guide'}, axis=1)\n",
    "    adata.obs[\"perturbation\"] = [x.split(\"_\")[0] for x in adata.obs.guide]\n",
    "    adata.obs[\"perturbation\"] = [\"control\" if x.startswith(\"non-target\") else x for x in adata.obs[\"perturbation\"]]\n",
    "    \n",
    "    adata.obs['tissue_type']='primary'\n",
    "    adata.obs['celltype'] = 'iPSC-induced neuron'\n",
    "    adata.obs['cancer'] = False\n",
    "    adata.obs['disease'] = 'healthy'\n",
    "    adata.obs['perturbation_type'] = 'CRISPR'\n",
    "    adata.obs['organism'] = 'human'\n",
    "    \n",
    "    adata.obs = adata.obs.rename({\"guide\":\"guide_id\"},axis=1)\n",
    "    adata.obs[\"guide_id\"] = [\";\".join(x.split(\"__\")) for x in adata.obs[\"guide_id\"]]\n",
    "    \n",
    "    adata.obs = adata.obs.drop([\"barcode\",0], axis=1)\n",
    "    adata.obs.index = [x.split(\"-\")[0] for x in adata.obs.index]\n",
    "    adata.obs.index = adata.obs.index.rename('cell_barcode')\n",
    "    \n",
    "    adata.write(path+index+\"/\"+experiment+\"/\"+experiment+idx+\"/\"+index+\"_\"+experiment+idx+\".h5\")"
   ]
  },
  {
   "cell_type": "code",
   "execution_count": 30,
   "metadata": {},
   "outputs": [
    {
     "name": "stderr",
     "output_type": "stream",
     "text": [
      "Variable names are not unique. To make them unique, call `.var_names_make_unique`.\n",
      "... storing 'batch' as categorical\n",
      "Variable names are not unique. To make them unique, call `.var_names_make_unique`.\n",
      "Observation names are not unique. To make them unique, call `.obs_names_make_unique`.\n",
      "Variable names are not unique. To make them unique, call `.var_names_make_unique`.\n",
      "... storing 'batch' as categorical\n",
      "Variable names are not unique. To make them unique, call `.var_names_make_unique`.\n",
      "... storing 'batch' as categorical\n",
      "Variable names are not unique. To make them unique, call `.var_names_make_unique`.\n",
      "Observation names are not unique. To make them unique, call `.obs_names_make_unique`.\n",
      "Variable names are not unique. To make them unique, call `.var_names_make_unique`.\n",
      "... storing 'guide_id' as categorical\n",
      "... storing 'batch' as categorical\n",
      "Variable names are not unique. To make them unique, call `.var_names_make_unique`.\n",
      "Observation names are not unique. To make them unique, call `.obs_names_make_unique`.\n",
      "Variable names are not unique. To make them unique, call `.var_names_make_unique`.\n",
      "... storing 'guide_id' as categorical\n",
      "... storing 'batch' as categorical\n",
      "Variable names are not unique. To make them unique, call `.var_names_make_unique`.\n",
      "Observation names are not unique. To make them unique, call `.obs_names_make_unique`.\n",
      "Variable names are not unique. To make them unique, call `.var_names_make_unique`.\n",
      "... storing 'batch' as categorical\n"
     ]
    }
   ],
   "source": [
    "## combine data from different batch\n",
    "for experiment,idx in experiments:\n",
    "    adata=sc.read_h5ad(path+index+\"/\"+experiment+\"/\"+experiment+idx+\"/\"+index+\"_\"+experiment+idx+\".h5\")\n",
    "    adata.obs['batch']=idx\n",
    "        #adata.var_names_make_unique()\n",
    "    if idx=='1':\n",
    "        fulladata = adata\n",
    "    else:\n",
    "        fulladata = sc.AnnData(vstack((fulladata.X,adata.X),\"csc\"),\n",
    "                               obs=pd.concat([fulladata.obs,adata.obs]), var=fulladata.var)\n",
    "        fulladata.obs_names_make_unique()\n",
    "    fulladata.write(path+index+\"/\"+experiment+\"/\"+index+\"_\"+experiment+\".h5\")"
   ]
  },
  {
   "cell_type": "code",
   "execution_count": 190,
   "metadata": {},
   "outputs": [
    {
     "name": "stdout",
     "output_type": "stream",
     "text": [
      " > Uploading \"/n/data1/hms/cellbio/sander/judy/resource_paper/TianKampmann2021/CRISPRa/CRISPRa1/TianKampmann2021_CRISPRa1.h5\" to \"/TianKampmann2021/CRISPRa/CRISPRa1/TianKampmann2021_CRISPRa1.h5\" by 6 chunks ...... DONE\n",
      " > Uploading \"/n/data1/hms/cellbio/sander/judy/resource_paper/TianKampmann2021/CRISPRa/CRISPRa2/TianKampmann2021_CRISPRa2.h5\" to \"/TianKampmann2021/CRISPRa/CRISPRa2/TianKampmann2021_CRISPRa2.h5\" by 6 chunks ...... DONE\n",
      " > Uploading \"/n/data1/hms/cellbio/sander/judy/resource_paper/TianKampmann2021/CRISPRi/CRISPRi1/TianKampmann2021_CRISPRi1.h5\" to \"/TianKampmann2021/CRISPRi/CRISPRi1/TianKampmann2021_CRISPRi1.h5\" by 6 chunks ...... DONE\n",
      " > Uploading \"/n/data1/hms/cellbio/sander/judy/resource_paper/TianKampmann2021/CRISPRi/CRISPRi2/TianKampmann2021_CRISPRi2.h5\" to \"/TianKampmann2021/CRISPRi/CRISPRi2/TianKampmann2021_CRISPRi2.h5\" by 6 chunks ...... DONE\n",
      " > Uploading \"/n/data1/hms/cellbio/sander/judy/resource_paper/TianKampmann2021/CRISPRi/CRISPRi3/TianKampmann2021_CRISPRi3.h5\" to \"/TianKampmann2021/CRISPRi/CRISPRi3/TianKampmann2021_CRISPRi3.h5\" by 5 chunks ..... DONE\n",
      " > Uploading \"/n/data1/hms/cellbio/sander/judy/resource_paper/TianKampmann2021/CRISPRi/CRISPRi4/TianKampmann2021_CRISPRi4.h5\" to \"/TianKampmann2021/CRISPRi/CRISPRi4/TianKampmann2021_CRISPRi4.h5\" by 7 chunks ....... DONE\n"
     ]
    }
   ],
   "source": [
    "for experiment,idx in experiments:\n",
    "    !/home/cs308/dropbox_uploader.sh upload {path+index+\"/\"+experiment+\"/\"+experiment+idx+\"/\"+index+\"_\"+experiment+idx+\".h5\"} {index+\"/\"+experiment+\"/\"+experiment+idx+\"/\"}"
   ]
  },
  {
   "cell_type": "markdown",
   "metadata": {},
   "source": [
    "# McFarlandTshemiak2020"
   ]
  },
  {
   "cell_type": "code",
   "execution_count": null,
   "metadata": {},
   "outputs": [],
   "source": [
    "# in its own folder Done!"
   ]
  },
  {
   "cell_type": "code",
   "execution_count": 191,
   "metadata": {},
   "outputs": [],
   "source": [
    "index = \"McFarlandTshemiak2020\""
   ]
  },
  {
   "cell_type": "code",
   "execution_count": 194,
   "metadata": {
    "scrolled": true
   },
   "outputs": [
    {
     "name": "stdout",
     "output_type": "stream",
     "text": [
      " > Uploading \"/n/data1/hms/cellbio/sander/judy/resource_paper/McFarlandTshemiak2020/Navitoclax_24hr_expt3/Navitoclax_24hr_expt3.h5\" to \"/McFarlandTshemiak2020/Navitoclax_24hr_expt3/Navitoclax_24hr_expt3.h5\" by 8 chunks ........ DONE\n",
      " > Uploading \"/n/data1/hms/cellbio/sander/judy/resource_paper/McFarlandTshemiak2020/BRD3379_24hr_expt3/BRD3379_24hr_expt3.h5\" to \"/McFarlandTshemiak2020/BRD3379_24hr_expt3/BRD3379_24hr_expt3.h5\" by 8 chunks ........ DONE\n",
      " > Uploading \"/n/data1/hms/cellbio/sander/judy/resource_paper/McFarlandTshemiak2020/AZD5591_expt10/AZD5591_expt10.h5\" to \"/McFarlandTshemiak2020/AZD5591_expt10/AZD5591_expt10.h5\" by 4 chunks .... DONE\n",
      " > Uploading \"/n/data1/hms/cellbio/sander/judy/resource_paper/McFarlandTshemiak2020/Taselisib_expt10/Taselisib_expt10.h5\" to \"/McFarlandTshemiak2020/Taselisib_expt10/Taselisib_expt10.h5\"... DONE\n",
      " > Uploading \"/n/data1/hms/cellbio/sander/judy/resource_paper/McFarlandTshemiak2020/Everolimus_expt10/Everolimus_expt10.h5\" to \"/McFarlandTshemiak2020/Everolimus_expt10/Everolimus_expt10.h5\"... DONE\n",
      " > Uploading \"/n/data1/hms/cellbio/sander/judy/resource_paper/McFarlandTshemiak2020/Idasanutlin_24hr_expt1/Idasanutlin_24hr_expt1.h5\" to \"/McFarlandTshemiak2020/Idasanutlin_24hr_expt1/Idasanutlin_24hr_expt1.h5\"... DONE\n",
      " > Uploading \"/n/data1/hms/cellbio/sander/judy/resource_paper/McFarlandTshemiak2020/Bortezomib_24hr_expt1/Bortezomib_24hr_expt1.h5\" to \"/McFarlandTshemiak2020/Bortezomib_24hr_expt1/Bortezomib_24hr_expt1.h5\"... DONE\n",
      " > Uploading \"/n/data1/hms/cellbio/sander/judy/resource_paper/McFarlandTshemiak2020/sgLACZ_expt2/sgLACZ_expt2.h5\" to \"/McFarlandTshemiak2020/sgLACZ_expt2/sgLACZ_expt2.h5\" by 5 chunks ..... DONE\n",
      " > Uploading \"/n/data1/hms/cellbio/sander/judy/resource_paper/McFarlandTshemiak2020/sgGPX4_1_expt2/sgGPX4_1_expt2.h5\" to \"/McFarlandTshemiak2020/sgGPX4_1_expt2/sgGPX4_1_expt2.h5\" by 5 chunks ..... DONE\n",
      " > Uploading \"/n/data1/hms/cellbio/sander/judy/resource_paper/McFarlandTshemiak2020/DMSO_24hr_expt1/DMSO_24hr_expt1.h5\" to \"/McFarlandTshemiak2020/DMSO_24hr_expt1/DMSO_24hr_expt1.h5\"... DONE\n",
      " > Uploading \"/n/data1/hms/cellbio/sander/judy/resource_paper/McFarlandTshemiak2020/trametinib_tc_expt5/trametinib_tc_expt5.h5\" to \"/McFarlandTshemiak2020/trametinib_tc_expt5/trametinib_tc_expt5.h5\" by 15 chunks ............... DONE\n",
      " > Uploading \"/n/data1/hms/cellbio/sander/judy/resource_paper/McFarlandTshemiak2020/DMSO_24hr_expt3/DMSO_24hr_expt3.h5\" to \"/McFarlandTshemiak2020/DMSO_24hr_expt3/DMSO_24hr_expt3.h5\" by 7 chunks ....... DONE\n",
      " > Uploading \"/n/data1/hms/cellbio/sander/judy/resource_paper/McFarlandTshemiak2020/Bortezomib_6hr_expt1/Bortezomib_6hr_expt1.h5\" to \"/McFarlandTshemiak2020/Bortezomib_6hr_expt1/Bortezomib_6hr_expt1.h5\"... DONE\n",
      " > Uploading \"/n/data1/hms/cellbio/sander/judy/resource_paper/McFarlandTshemiak2020/Untreated_6hr_expt1/Untreated_6hr_expt1.h5\" to \"/McFarlandTshemiak2020/Untreated_6hr_expt1/Untreated_6hr_expt1.h5\"... DONE\n",
      " > Uploading \"/n/data1/hms/cellbio/sander/judy/resource_paper/McFarlandTshemiak2020/sgOR2J2_expt2/sgOR2J2_expt2.h5\" to \"/McFarlandTshemiak2020/sgOR2J2_expt2/sgOR2J2_expt2.h5\" by 5 chunks ..... DONE\n",
      " > Uploading \"/n/data1/hms/cellbio/sander/judy/resource_paper/McFarlandTshemiak2020/Afatinib_expt10/Afatinib_expt10.h5\" to \"/McFarlandTshemiak2020/Afatinib_expt10/Afatinib_expt10.h5\"... DONE\n",
      " > Uploading \"/n/data1/hms/cellbio/sander/judy/resource_paper/McFarlandTshemiak2020/Trametinib_24hr_expt1/Trametinib_24hr_expt1.h5\" to \"/McFarlandTshemiak2020/Trametinib_24hr_expt1/Trametinib_24hr_expt1.h5\"... DONE\n",
      " > Uploading \"/n/data1/hms/cellbio/sander/judy/resource_paper/McFarlandTshemiak2020/Trametinib_expt10/Trametinib_expt10.h5\" to \"/McFarlandTshemiak2020/Trametinib_expt10/Trametinib_expt10.h5\"... DONE\n",
      " > Uploading \"/n/data1/hms/cellbio/sander/judy/resource_paper/McFarlandTshemiak2020/DMSO_6hr_expt3/DMSO_6hr_expt3.h5\" to \"/McFarlandTshemiak2020/DMSO_6hr_expt3/DMSO_6hr_expt3.h5\" by 6 chunks ...... DONE\n",
      " > Uploading \"/n/data1/hms/cellbio/sander/judy/resource_paper/McFarlandTshemiak2020/Dabrafenib_24hr_expt3/Dabrafenib_24hr_expt3.h5\" to \"/McFarlandTshemiak2020/Dabrafenib_24hr_expt3/Dabrafenib_24hr_expt3.h5\" by 9 chunks ......... DONE\n",
      " > Uploading \"/n/data1/hms/cellbio/sander/judy/resource_paper/McFarlandTshemiak2020/sgGPX4_2_expt2/sgGPX4_2_expt2.h5\" to \"/McFarlandTshemiak2020/sgGPX4_2_expt2/sgGPX4_2_expt2.h5\" by 5 chunks ..... DONE\n",
      " > Uploading \"/n/data1/hms/cellbio/sander/judy/resource_paper/McFarlandTshemiak2020/Gemcitabine_expt10/Gemcitabine_expt10.h5\" to \"/McFarlandTshemiak2020/Gemcitabine_expt10/Gemcitabine_expt10.h5\"... DONE\n",
      " > Uploading \"/n/data1/hms/cellbio/sander/judy/resource_paper/McFarlandTshemiak2020/JQ1_expt10/JQ1_expt10.h5\" to \"/McFarlandTshemiak2020/JQ1_expt10/JQ1_expt10.h5\"... DONE\n",
      " > Uploading \"/n/data1/hms/cellbio/sander/judy/resource_paper/McFarlandTshemiak2020/DMSO_expt10/DMSO_expt10.h5\" to \"/McFarlandTshemiak2020/DMSO_expt10/DMSO_expt10.h5\"... DONE\n",
      " > Uploading \"/n/data1/hms/cellbio/sander/judy/resource_paper/McFarlandTshemiak2020/Trametinib_6hr_expt1/Trametinib_6hr_expt1.h5\" to \"/McFarlandTshemiak2020/Trametinib_6hr_expt1/Trametinib_6hr_expt1.h5\"... DONE\n",
      " > Uploading \"/n/data1/hms/cellbio/sander/judy/resource_paper/McFarlandTshemiak2020/Prexasertib_expt10/Prexasertib_expt10.h5\" to \"/McFarlandTshemiak2020/Prexasertib_expt10/Prexasertib_expt10.h5\"... DONE\n",
      " > Uploading \"/n/data1/hms/cellbio/sander/judy/resource_paper/McFarlandTshemiak2020/Trametinib_24hr_expt3/Trametinib_24hr_expt3.h5\" to \"/McFarlandTshemiak2020/Trametinib_24hr_expt3/Trametinib_24hr_expt3.h5\" by 7 chunks ....... DONE\n",
      " > Uploading \"/n/data1/hms/cellbio/sander/judy/resource_paper/McFarlandTshemiak2020/Idasanutlin_6hr_expt1/Idasanutlin_6hr_expt1.h5\" to \"/McFarlandTshemiak2020/Idasanutlin_6hr_expt1/Idasanutlin_6hr_expt1.h5\"... DONE\n",
      " > Uploading \"/n/data1/hms/cellbio/sander/judy/resource_paper/McFarlandTshemiak2020/BRD3379_6hr_expt3/BRD3379_6hr_expt3.h5\" to \"/McFarlandTshemiak2020/BRD3379_6hr_expt3/BRD3379_6hr_expt3.h5\" by 6 chunks ...... DONE\n",
      " > Uploading \"/n/data1/hms/cellbio/sander/judy/resource_paper/McFarlandTshemiak2020/DMSO_6hr_expt1/DMSO_6hr_expt1.h5\" to \"/McFarlandTshemiak2020/DMSO_6hr_expt1/DMSO_6hr_expt1.h5\"... DONE\n"
     ]
    }
   ],
   "source": [
    "for folder in os.listdir(path+index+\"/\"):\n",
    "    if \"expt\" in folder:\n",
    "        !/home/cs308/dropbox_uploader.sh upload {path+index+\"/\"+folder+\"/\"+folder+\".h5\"} {index+\"/\"+folder+\"/\"}"
   ]
  },
  {
   "cell_type": "markdown",
   "metadata": {},
   "source": [
    "# PapalexiSatija2021"
   ]
  },
  {
   "cell_type": "code",
   "execution_count": null,
   "metadata": {},
   "outputs": [],
   "source": [
    "# Done!"
   ]
  },
  {
   "cell_type": "code",
   "execution_count": 31,
   "metadata": {},
   "outputs": [],
   "source": [
    "index = \"PapalexiSatija2021\""
   ]
  },
  {
   "cell_type": "markdown",
   "metadata": {},
   "source": [
    "## eccite_arrayed"
   ]
  },
  {
   "cell_type": "code",
   "execution_count": 60,
   "metadata": {},
   "outputs": [],
   "source": [
    "experiment = \"eccite_arrayed\""
   ]
  },
  {
   "cell_type": "code",
   "execution_count": 5,
   "metadata": {},
   "outputs": [],
   "source": [
    "adata = sc.read_h5ad(path+index+\"/\"+experiment+\"/\"+index+\"_\"+experiment+\"_RNA_preprocessed.h5\")\n",
    "adata.var.index = adata.var.gene"
   ]
  },
  {
   "cell_type": "code",
   "execution_count": 6,
   "metadata": {},
   "outputs": [],
   "source": [
    "hto = pd.read_csv(glob.glob(path+index+\"/\"+experiment+\"/\"+\"GSM*HTO_counts*\")[0],\n",
    "                  sep=\"\\t\",index_col=0)\n",
    "hto_bc1 = pd.read_csv(glob.glob(path+index+\"/\"+experiment+\"/\"+\"GSM*HTO1_Barcodes*\")[0],\n",
    "                     sep=\",\",index_col=0,header=None)\n",
    "hto_bc2 = pd.read_csv(glob.glob(path+index+\"/\"+experiment+\"/\"+\"GSM*HTO2_Barcodes*\")[0],\n",
    "                     sep=\",\",index_col=0,header=None)\n",
    "gdo = pd.read_csv(glob.glob(path+index+\"/\"+experiment+\"/\"+\"GSM*GO_CITE*_counts*\")[0],\n",
    "                  sep=\"\\t\",index_col=0)\n",
    "gdo_bc = pd.read_csv(glob.glob(path+index+\"/eccite/\"+\"GSM*GDO_Barcodes*\")[0],\n",
    "                     sep=\",\",index_col=0,header=None)"
   ]
  },
  {
   "cell_type": "code",
   "execution_count": 8,
   "metadata": {},
   "outputs": [],
   "source": [
    "mg = mygene.MyGeneInfo()\n",
    "query = mg.querymany(list(adata.var[\"gene\"]) , scopes='symbol', fields='ensembl.gene', species='human', returnall=True, verbose=False)\n",
    "gene_symbols = [x['query'] for x in query['out']]\n",
    "ensembl_id = [x['ensembl'] if 'ensembl' in x.keys() else np.nan for x in query['out']]\n",
    "ensembl_id = [x['gene'] if type(x)==dict else x for x in ensembl_id]\n",
    "ensembl_id = [x[0]['gene'] if type(x)==list else x for x in ensembl_id]\n",
    "\n",
    "df = pd.DataFrame({\"gene\":gene_symbols,\"ensembl_id\":ensembl_id})\n",
    "df.index = gene_symbols\n",
    "df = df.drop_duplicates(keep='first')"
   ]
  },
  {
   "cell_type": "code",
   "execution_count": 12,
   "metadata": {},
   "outputs": [],
   "source": [
    "for dupidx in np.where(df.index.duplicated())[0]:\n",
    "    ensemblids = df.iloc[dupidx-1:dupidx+1][\"ensembl_id\"]\n",
    "    if sum(~pd.isna(ensemblids)) == 1:\n",
    "        ensemblid = ensemblids[~pd.isna(ensemblids)]\n",
    "        df.iloc[dupidx-1:dupidx+1][\"ensembl_id\"] = ensemblid\n",
    "df = df.drop_duplicates(subset=\"gene\", keep='first')"
   ]
  },
  {
   "cell_type": "code",
   "execution_count": 70,
   "metadata": {},
   "outputs": [],
   "source": [
    "adata.var[\"ensembl_id\"] = df.loc[adata.var.index,\"ensembl_id\"]\n",
    "adata.var.loc[pd.isna(adata.var['ensembl_id']),'ensembl_id'] = adata.var.gene[pd.isna(adata.var['ensembl_id'])]\n",
    "adata.var.index = adata.var.index.rename('gene_symbol')\n",
    "adata.var = adata.var.drop(['gene'],axis=1)"
   ]
  },
  {
   "cell_type": "code",
   "execution_count": 7,
   "metadata": {},
   "outputs": [],
   "source": [
    "def define_target(guide):\n",
    "    if guide.startswith(\"NT\") or guide==\"CTRL\":\n",
    "        target = \"CTRL\"\n",
    "    else:\n",
    "        idx = guide.find(\"g\")\n",
    "        if idx == -1:\n",
    "            target = guide\n",
    "        else:\n",
    "            target = guide[:idx]\n",
    "    if target == \"IFNG\":\n",
    "        target = \"IFNGR2\"\n",
    "    return target"
   ]
  },
  {
   "cell_type": "code",
   "execution_count": 8,
   "metadata": {},
   "outputs": [],
   "source": [
    "htoguides = [define_target(x.split(\"-\")[1]) for x in hto.idxmax()]\n",
    "gdoguides = [define_target(x) for x in gdo.idxmax()]"
   ]
  },
  {
   "cell_type": "code",
   "execution_count": 9,
   "metadata": {},
   "outputs": [],
   "source": [
    "idxkeep1 = np.where(gdo.max()>=5)[0] # negative cells\n",
    "idxkeep2 = np.where(np.array(htoguides) == np.array(gdoguides))[0] \n",
    "# consistent perturbation between HTO and GDO\n",
    "idxkeep = np.intersect1d(idxkeep1,idxkeep2)"
   ]
  },
  {
   "cell_type": "code",
   "execution_count": 11,
   "metadata": {},
   "outputs": [],
   "source": [
    "hto_bc = pd.concat([hto_bc1,hto_bc2])\n",
    "hto_bc[\"barcode\"] = hto_bc.index\n",
    "hto_bc.index = [\"-\".join(x.split(\"_\")) for x in hto_bc[1]]"
   ]
  },
  {
   "cell_type": "code",
   "execution_count": 12,
   "metadata": {},
   "outputs": [],
   "source": [
    "adata.obs.index = [x.split(\"_\")[1] for x in adata.obs.cell_barcode]\n",
    "adata.obs[\"perturbation\"] = gdoguides\n",
    "adata.obs[\"hto\"] = list(hto.idxmax())\n",
    "adata.obs[\"gdo\"] = list(gdo.idxmax())\n",
    "adata.obs[\"hto\"] = [\"HTO-NT7\" if x.startswith(\"HTO-NT7\") else x for x in adata.obs[\"hto\"]]\n",
    "adata.obs[\"hto_barcode\"] = [hto_bc.loc[x,\"barcode\"] for x in adata.obs[\"hto\"]]"
   ]
  },
  {
   "cell_type": "code",
   "execution_count": 126,
   "metadata": {},
   "outputs": [],
   "source": [
    "# hto_bc.index = hto_bc[1]"
   ]
  },
  {
   "cell_type": "code",
   "execution_count": 13,
   "metadata": {},
   "outputs": [],
   "source": [
    "gdo_bc[\"barcode\"] = gdo_bc.index\n",
    "gdo_bc.index = gdo_bc[1]"
   ]
  },
  {
   "cell_type": "code",
   "execution_count": 14,
   "metadata": {},
   "outputs": [],
   "source": [
    "adata.obs[\"perturbation\"] = [\"control\" if x==\"CTRL\" else x for x in adata.obs[\"perturbation\"]]\n",
    "adata.obs[\"gdo_barcode\"] = [gdo_bc.loc[x,\"barcode\"] for x in adata.obs[\"gdo\"]]\n",
    "adata.obs['tissue_type']='cell_line'\n",
    "adata.obs['cell_line']='THP-1'\n",
    "adata.obs['cancer'] = True\n",
    "adata.obs['disease'] = 'acute monocytic leukemia'\n",
    "adata.obs['perturbation_type'] = 'CRISPR'\n",
    "adata.obs['celltype'] = 'monocytes'\n",
    "adata.obs['organism'] = 'human'"
   ]
  },
  {
   "cell_type": "code",
   "execution_count": 15,
   "metadata": {},
   "outputs": [],
   "source": [
    "adata.obs = adata.obs.drop([\"cell_barcode\"], axis=1)\n",
    "adata.obs.index = adata.obs.index.rename('cell_barcode')"
   ]
  },
  {
   "cell_type": "code",
   "execution_count": 16,
   "metadata": {},
   "outputs": [],
   "source": [
    "obs = adata.obs"
   ]
  },
  {
   "cell_type": "code",
   "execution_count": 161,
   "metadata": {},
   "outputs": [
    {
     "name": "stderr",
     "output_type": "stream",
     "text": [
      "Observation names are not unique. To make them unique, call `.obs_names_make_unique`.\n"
     ]
    }
   ],
   "source": [
    "adata = sc.AnnData(adata.X[idxkeep,:],obs=adata.obs.iloc[idxkeep,:],var=adata.var)\n",
    "adata.obs_names_make_unique()"
   ]
  },
  {
   "cell_type": "code",
   "execution_count": 61,
   "metadata": {},
   "outputs": [
    {
     "name": "stderr",
     "output_type": "stream",
     "text": [
      "... storing 'guide_id' as categorical\n"
     ]
    }
   ],
   "source": [
    "# adata = sc.read_h5ad(index+\"/\"+experiment+\"/\"+index+\"_\"+experiment+\"_RNA.h5\")\n",
    "\n",
    "# adata.obs = adata.obs.rename({\"gdo\":\"guide_id\"},axis=1)\n",
    "# adata.obs[\"guide_id\"] = [\";\".join(x.split(\"__\")) for x in adata.obs[\"guide_id\"]]\n",
    "\n",
    "adata.write(index+\"/\"+experiment+\"/\"+index+\"_\"+experiment+\"_RNA.h5\")"
   ]
  },
  {
   "cell_type": "code",
   "execution_count": 19,
   "metadata": {},
   "outputs": [],
   "source": [
    "adata = sc.read_h5ad(path+index+\"/\"+experiment+\"/\"+index+\"_\"+experiment+\"_protein_preprocessed.h5\")\n",
    "adata.var.index = adata.var.protein"
   ]
  },
  {
   "cell_type": "code",
   "execution_count": 17,
   "metadata": {},
   "outputs": [],
   "source": [
    "adt_bc = pd.read_csv(glob.glob(path+\"/\"+index+\"/\"+experiment+\"/\"+\"GSM*ADT_Barcodes*\")[0],\n",
    "                     sep=\",\",index_col=0,header=None)"
   ]
  },
  {
   "cell_type": "code",
   "execution_count": 30,
   "metadata": {},
   "outputs": [],
   "source": [
    "adata.var[\"adt_barcode\"] =  [adt_bc.index[adt_bc[1] == x][0] for x in adata.var.index]\n",
    "adata.var = adata.var.drop([\"protein\"], axis=1)"
   ]
  },
  {
   "cell_type": "code",
   "execution_count": 34,
   "metadata": {},
   "outputs": [
    {
     "name": "stderr",
     "output_type": "stream",
     "text": [
      "Observation names are not unique. To make them unique, call `.obs_names_make_unique`.\n"
     ]
    }
   ],
   "source": [
    "adata.obs = obs\n",
    "adata = sc.AnnData(adata.X[idxkeep,:],obs=adata.obs.iloc[idxkeep,:],var=adata.var)\n",
    "adata.obs_names_make_unique()"
   ]
  },
  {
   "cell_type": "code",
   "execution_count": 62,
   "metadata": {},
   "outputs": [
    {
     "name": "stderr",
     "output_type": "stream",
     "text": [
      "... storing 'guide_id' as categorical\n"
     ]
    }
   ],
   "source": [
    "# adata = sc.read_h5ad(index+\"/\"+experiment+\"/\"+index+\"_\"+experiment+\"_protein.h5\")\n",
    "\n",
    "# adata.obs = adata.obs.rename({\"gdo\":\"guide_id\"},axis=1)\n",
    "# adata.obs[\"guide_id\"] = [\";\".join(x.split(\"__\")) for x in adata.obs[\"guide_id\"]]\n",
    "\n",
    "adata.write(index+\"/\"+experiment+\"/\"+index+\"_\"+experiment+\"_protein.h5\")"
   ]
  },
  {
   "cell_type": "code",
   "execution_count": 63,
   "metadata": {},
   "outputs": [],
   "source": [
    "adata = sc.read_h5ad(index+\"/\"+experiment+\"/\"+index+\"_\"+experiment+\"_protein.h5\")"
   ]
  },
  {
   "cell_type": "markdown",
   "metadata": {},
   "source": [
    "## eccite"
   ]
  },
  {
   "cell_type": "code",
   "execution_count": 65,
   "metadata": {},
   "outputs": [],
   "source": [
    "experiment = \"eccite\""
   ]
  },
  {
   "cell_type": "code",
   "execution_count": 157,
   "metadata": {},
   "outputs": [],
   "source": [
    "adata = sc.read_h5ad(path+index+\"/\"+experiment+\"/\"+index+\"_\"+experiment+\"_RNA_preprocessed.h5\")\n",
    "adata.var.index = adata.var.gene"
   ]
  },
  {
   "cell_type": "code",
   "execution_count": 158,
   "metadata": {},
   "outputs": [],
   "source": [
    "adt_bc = pd.read_csv(glob.glob(path+\"/\"+index+\"/\"+experiment+\"/\"+\"GSM*ADT_Barcodes*\")[0],\n",
    "                     sep=\",\",index_col=0,header=None)\n",
    "hto = pd.read_csv(glob.glob(path+index+\"/\"+experiment+\"/\"+\"GSM*HTO_counts*\")[0],\n",
    "                  sep=\"\\t\",index_col=0)\n",
    "hto_bc1 = pd.read_csv(glob.glob(path+index+\"/\"+experiment+\"/\"+\"GSM*HTO_1-4_Barcodes*\")[0],\n",
    "                     sep=\",\",index_col=0,header=None)\n",
    "hto_bc2 = pd.read_csv(glob.glob(path+index+\"/\"+experiment+\"/\"+\"GSM*HTO_5-8_Barcodes*\")[0],\n",
    "                     sep=\",\",index_col=0,header=None)\n",
    "gdo = pd.read_csv(glob.glob(path+index+\"/\"+experiment+\"/\"+\"GSM*GDO_counts*\")[0],\n",
    "                  sep=\"\\t\",index_col=0)\n",
    "gdo_bc = pd.read_csv(glob.glob(path+index+\"/eccite/\"+\"GSM*GDO_Barcodes*\")[0],\n",
    "                     sep=\",\",index_col=0,header=None)"
   ]
  },
  {
   "cell_type": "code",
   "execution_count": 159,
   "metadata": {},
   "outputs": [
    {
     "name": "stderr",
     "output_type": "stream",
     "text": [
      "/home/cs308/cellbox_analysis/lib/python3.6/site-packages/ipykernel_launcher.py:16: SettingWithCopyWarning: \n",
      "A value is trying to be set on a copy of a slice from a DataFrame.\n",
      "Try using .loc[row_indexer,col_indexer] = value instead\n",
      "\n",
      "See the caveats in the documentation: http://pandas.pydata.org/pandas-docs/stable/user_guide/indexing.html#returning-a-view-versus-a-copy\n",
      "  app.launch_new_instance()\n"
     ]
    }
   ],
   "source": [
    "mg = mygene.MyGeneInfo()\n",
    "query = mg.querymany(list(adata.var[\"gene\"]) , scopes='symbol', fields='ensembl.gene', species='human', returnall=True, verbose=False)\n",
    "gene_symbols = [x['query'] for x in query['out']]\n",
    "ensembl_id = [x['ensembl'] if 'ensembl' in x.keys() else np.nan for x in query['out']]\n",
    "ensembl_id = [x['gene'] if type(x)==dict else x for x in ensembl_id]\n",
    "ensembl_id = [x[0]['gene'] if type(x)==list else x for x in ensembl_id]\n",
    "\n",
    "df = pd.DataFrame({\"gene\":gene_symbols,\"ensembl_id\":ensembl_id})\n",
    "df.index = gene_symbols\n",
    "df = df.drop_duplicates(keep='first')\n",
    "\n",
    "for dupidx in np.where(df.index.duplicated())[0]:\n",
    "    ensemblids = df.iloc[dupidx-1:dupidx+1][\"ensembl_id\"]\n",
    "    if sum(~pd.isna(ensemblids)) == 1:\n",
    "        ensemblid = ensemblids[~pd.isna(ensemblids)]\n",
    "        df.iloc[dupidx-1:dupidx+1][\"ensembl_id\"] = ensemblid\n",
    "df = df.drop_duplicates(subset=\"gene\", keep='first')\n",
    "\n",
    "adata.var[\"ensembl_id\"] = df.loc[adata.var.index,\"ensembl_id\"]\n",
    "adata.var.loc[pd.isna(adata.var['ensembl_id']),'ensembl_id'] = adata.var.gene[pd.isna(adata.var['ensembl_id'])]\n",
    "adata.var.index = adata.var.index.rename('gene_symbol')\n",
    "adata.var = adata.var.drop(['gene'],axis=1)"
   ]
  },
  {
   "cell_type": "code",
   "execution_count": 160,
   "metadata": {},
   "outputs": [],
   "source": [
    "htoguides = list(hto.idxmax())\n",
    "gdoguides = [\"control\" if x.startswith(\"NT\") else x for x in gdo.idxmax()]"
   ]
  },
  {
   "cell_type": "code",
   "execution_count": 161,
   "metadata": {},
   "outputs": [],
   "source": [
    "hto_bc = pd.concat([hto_bc1,hto_bc2])\n",
    "hto_bc[\"barcode\"] = hto_bc.index\n",
    "hto_bc.index = [\"-\".join(x.split(\"_\")) for x in hto_bc[1]]"
   ]
  },
  {
   "cell_type": "code",
   "execution_count": 162,
   "metadata": {},
   "outputs": [],
   "source": [
    "gdo_bc[\"barcode\"] = gdo_bc.index\n",
    "gdo_bc.index = gdo_bc[1]"
   ]
  },
  {
   "cell_type": "code",
   "execution_count": 163,
   "metadata": {},
   "outputs": [],
   "source": [
    "adata.obs[\"hto\"] = htoguides\n",
    "adata.obs[\"gdo\"] = list(gdo.idxmax())\n",
    "adata.obs[\"hto_barcode\"] = [hto_bc.loc[x,\"barcode\"] for x in adata.obs[\"hto\"]]\n",
    "adata.obs[\"gdo_barcode\"] = [gdo_bc.loc[x,\"barcode\"] for x in adata.obs[\"gdo\"]]"
   ]
  },
  {
   "cell_type": "code",
   "execution_count": 164,
   "metadata": {},
   "outputs": [],
   "source": [
    "adata.obs[\"perturbation\"] = gdoguides\n",
    "adata.obs['tissue_type']='cell_line'\n",
    "adata.obs['cell_line']='THP-1'\n",
    "adata.obs['cancer'] = True\n",
    "adata.obs['disease'] = 'acute monocytic leukemia'\n",
    "adata.obs['perturbation_type'] = 'CRISPR'\n",
    "adata.obs['celltype'] = 'monocytes'\n",
    "adata.obs['organism'] = 'human'"
   ]
  },
  {
   "cell_type": "code",
   "execution_count": 165,
   "metadata": {},
   "outputs": [],
   "source": [
    "adata.obs.index = [x.split(\"_\")[1] for x in adata.obs[\"cell_barcode\"]]\n",
    "adata.obs = adata.obs.drop([\"cell_barcode\"], axis=1)\n",
    "adata.obs.index = adata.obs.index.rename('cell_barcode')"
   ]
  },
  {
   "cell_type": "code",
   "execution_count": 166,
   "metadata": {},
   "outputs": [],
   "source": [
    "obs = adata.obs"
   ]
  },
  {
   "cell_type": "code",
   "execution_count": 66,
   "metadata": {},
   "outputs": [
    {
     "name": "stderr",
     "output_type": "stream",
     "text": [
      "Observation names are not unique. To make them unique, call `.obs_names_make_unique`.\n",
      "... storing 'guide_id' as categorical\n"
     ]
    }
   ],
   "source": [
    "# adata = sc.read_h5ad(index+\"/\"+experiment+\"/\"+index+\"_\"+experiment+\"_RNA.h5\")\n",
    "\n",
    "# adata.obs = adata.obs.rename({\"gdo\":\"guide_id\"},axis=1)\n",
    "# adata.obs[\"guide_id\"] = [\";\".join(x.split(\"__\")) for x in adata.obs[\"guide_id\"]]\n",
    "\n",
    "adata.write(index+\"/\"+experiment+\"/\"+index+\"_\"+experiment+\"_RNA.h5\")"
   ]
  },
  {
   "cell_type": "code",
   "execution_count": 169,
   "metadata": {},
   "outputs": [],
   "source": [
    "adata = sc.read_h5ad(path+index+\"/\"+experiment+\"/\"+index+\"_\"+experiment+\"_protein_preprocessed.h5\")\n",
    "adata.var.index = adata.var.protein"
   ]
  },
  {
   "cell_type": "code",
   "execution_count": 170,
   "metadata": {},
   "outputs": [],
   "source": [
    "adata.var[\"adt_barcode\"] =  [adt_bc.index[adt_bc[1] == x][0] for x in adata.var.index]\n",
    "adata.var = adata.var.drop([\"protein\"], axis=1)"
   ]
  },
  {
   "cell_type": "code",
   "execution_count": 171,
   "metadata": {},
   "outputs": [],
   "source": [
    "adata.obs = obs"
   ]
  },
  {
   "cell_type": "code",
   "execution_count": 67,
   "metadata": {},
   "outputs": [
    {
     "name": "stderr",
     "output_type": "stream",
     "text": [
      "Observation names are not unique. To make them unique, call `.obs_names_make_unique`.\n",
      "... storing 'guide_id' as categorical\n"
     ]
    }
   ],
   "source": [
    "# adata = sc.read_h5ad(index+\"/\"+experiment+\"/\"+index+\"_\"+experiment+\"_protein.h5\")\n",
    "\n",
    "# adata.obs = adata.obs.rename({\"gdo\":\"guide_id\"},axis=1)\n",
    "# adata.obs[\"guide_id\"] = [\";\".join(x.split(\"__\")) for x in adata.obs[\"guide_id\"]]\n",
    "\n",
    "adata.write(index+\"/\"+experiment+\"/\"+index+\"_\"+experiment+\"_protein.h5\")"
   ]
  },
  {
   "cell_type": "code",
   "execution_count": 196,
   "metadata": {},
   "outputs": [
    {
     "name": "stdout",
     "output_type": "stream",
     "text": [
      " > Uploading \"/n/data1/hms/cellbio/sander/judy/resource_paper/PapalexiSatija2021/eccite_arrayed/PapalexiSatija2021_eccite_arrayed_protein.h5\" to \"/PapalexiSatija2021/eccite_arrayed/PapalexiSatija2021_eccite_arrayed_protein.h5\"... DONE\n",
      " > Uploading \"/n/data1/hms/cellbio/sander/judy/resource_paper/PapalexiSatija2021/eccite_arrayed/PapalexiSatija2021_eccite_arrayed_RNA.h5\" to \"/PapalexiSatija2021/eccite_arrayed/PapalexiSatija2021_eccite_arrayed_RNA.h5\" by 4 chunks .... DONE\n",
      " > Uploading \"/n/data1/hms/cellbio/sander/judy/resource_paper/PapalexiSatija2021/eccite/PapalexiSatija2021_eccite_protein.h5\" to \"/PapalexiSatija2021/eccite/PapalexiSatija2021_eccite_protein.h5\"... DONE\n",
      " > Uploading \"/n/data1/hms/cellbio/sander/judy/resource_paper/PapalexiSatija2021/eccite/PapalexiSatija2021_eccite_RNA.h5\" to \"/PapalexiSatija2021/eccite/PapalexiSatija2021_eccite_RNA.h5\" by 11 chunks ........... DONE\n"
     ]
    }
   ],
   "source": [
    "for experiment in [\"eccite_arrayed\", \"eccite\"]:\n",
    "    !/home/cs308/dropbox_uploader.sh upload {path+index+\"/\"+experiment+\"/\"+index+\"_\"+experiment+\"_protein.h5\"} {index+\"/\"+experiment+\"/\"}\n",
    "    !/home/cs308/dropbox_uploader.sh upload {path+index+\"/\"+experiment+\"/\"+index+\"_\"+experiment+\"_RNA.h5\"} {index+\"/\"+experiment+\"/\"}"
   ]
  },
  {
   "cell_type": "code",
   "execution_count": null,
   "metadata": {},
   "outputs": [],
   "source": []
  },
  {
   "cell_type": "code",
   "execution_count": null,
   "metadata": {},
   "outputs": [],
   "source": []
  },
  {
   "cell_type": "code",
   "execution_count": null,
   "metadata": {},
   "outputs": [],
   "source": []
  },
  {
   "cell_type": "code",
   "execution_count": null,
   "metadata": {},
   "outputs": [],
   "source": []
  }
 ],
 "metadata": {
  "kernelspec": {
   "display_name": "Python 3",
   "language": "python",
   "name": "python3"
  },
  "language_info": {
   "codemirror_mode": {
    "name": "ipython",
    "version": 3
   },
   "file_extension": ".py",
   "mimetype": "text/x-python",
   "name": "python",
   "nbconvert_exporter": "python",
   "pygments_lexer": "ipython3",
   "version": "3.9.12"
  }
 },
 "nbformat": 4,
 "nbformat_minor": 2
}
