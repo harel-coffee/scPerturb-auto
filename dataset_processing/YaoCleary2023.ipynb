{
 "cells": [
  {
   "cell_type": "code",
   "execution_count": 1,
   "id": "22ba1923",
   "metadata": {
    "ExecuteTime": {
     "end_time": "2023-03-28T15:10:48.175585Z",
     "start_time": "2023-03-28T15:10:39.381132Z"
    }
   },
   "outputs": [
    {
     "data": {
      "text/html": [
       "<style>.container { width:95% !important; }</style>"
      ],
      "text/plain": [
       "<IPython.core.display.HTML object>"
      ]
     },
     "metadata": {},
     "output_type": "display_data"
    }
   ],
   "source": [
    "import subprocess\n",
    "import os\n",
    "import sys\n",
    "import matplotlib.backends.backend_pdf\n",
    "import scanpy as sc\n",
    "import matplotlib.pyplot as pl\n",
    "import anndata as ad\n",
    "import pandas as pd\n",
    "import numpy as np\n",
    "import seaborn as sns\n",
    "import scvelo as scv\n",
    "scv.settings.verbosity=1\n",
    "\n",
    "from pathlib import Path\n",
    "\n",
    "# Jupyter stuff\n",
    "from tqdm.notebook import tqdm\n",
    "from IPython.display import clear_output\n",
    "from IPython.core.display import display, HTML\n",
    "display(HTML(\"<style>.container { width:95% !important; }</style>\"))\n",
    "\n",
    "%matplotlib inline\n",
    "\n",
    "# Custom functions\n",
    "sys.path.insert(1, '../')\n",
    "from utils import *\n",
    "\n",
    "# scperturb package\n",
    "sys.path.insert(1, '../package/src/')\n",
    "from scperturb import *\n",
    "\n",
    "from pathlib import Path\n",
    "figure_path = Path('../figures/')"
   ]
  },
  {
   "cell_type": "code",
   "execution_count": 2,
   "id": "fbb70c63",
   "metadata": {
    "ExecuteTime": {
     "end_time": "2023-03-28T15:10:48.180652Z",
     "start_time": "2023-03-28T15:10:48.178058Z"
    }
   },
   "outputs": [],
   "source": [
    "TEMPDIR = Path('/fast/scratch/users/peidlis_c/perturbation_resource_paper/')"
   ]
  },
  {
   "cell_type": "code",
   "execution_count": 3,
   "id": "90c6400a",
   "metadata": {
    "ExecuteTime": {
     "end_time": "2023-03-28T15:10:48.197086Z",
     "start_time": "2023-03-28T15:10:48.182496Z"
    }
   },
   "outputs": [
    {
     "data": {
      "text/plain": [
       "['GSM6858447_KO_conventional.h5ad',\n",
       " 'GSM6858447_KO_conventional.rds',\n",
       " 'GSM6858447_KO_conventional_perturbations.txt',\n",
       " 'GSM6858448_KO_cell_pooled.h5ad',\n",
       " 'GSM6858448_KO_cell_pooled.rds',\n",
       " 'GSM6858448_KO_cell_pooled_perturbations.txt',\n",
       " 'GSM6858449_KD_conventional.h5ad',\n",
       " 'GSM6858449_KD_conventional.rds',\n",
       " 'GSM6858449_KD_conventional_perturbations.txt',\n",
       " 'GSM6858450_KD_guide_pooled.h5ad',\n",
       " 'GSM6858450_KD_guide_pooled.rds',\n",
       " 'GSM6858450_KD_guide_pooled_perturbations.txt',\n",
       " 'downloaded.flag']"
      ]
     },
     "execution_count": 3,
     "metadata": {},
     "output_type": "execute_result"
    }
   ],
   "source": [
    "sorted([file.name for file in (TEMPDIR / 'YaoCleary2023').glob('*')])"
   ]
  },
  {
   "cell_type": "code",
   "execution_count": 4,
   "id": "1e26e13d",
   "metadata": {
    "ExecuteTime": {
     "end_time": "2023-03-28T15:10:48.213943Z",
     "start_time": "2023-03-28T15:10:48.199923Z"
    }
   },
   "outputs": [],
   "source": [
    "def process_adata(key):\n",
    "    # build adata\n",
    "    adata = sc.read(TEMPDIR / f'YaoCleary2023/{key}.h5ad')\n",
    "    adata.obs = adata.obs.rename({'Total_RNA_count': 'ncounts', 'Total_unique_genes': 'ngenes', 'Biological_replicate': 'replicate',\n",
    "                      'Percent_mitochondrial_reads': 'percent_mito', 'Guides': 'full_guides', \n",
    "                      'Guides_collapsed_by_gene': 'guides', 'Total_number_of_guides': 'nguides'}, axis=1)\n",
    "    adata.var = adata.var.set_index('features').drop('_index', axis=1)\n",
    "    tab = pd.read_csv(TEMPDIR / f'YaoCleary2023/{key}_perturbations.txt', sep='\\t').T\n",
    "    stab = tab.astype(pd.SparseDtype(\"int\", 0))  # make sparse\n",
    "    adata.obsm['barcodes'] = stab\n",
    "\n",
    "    # harmonize metadata\n",
    "    adata.obs['perturbation'] = [x.replace('safe-targeting', 'control').replace('non-targeting', 'control') for x in adata.obs.guides]\n",
    "    adata.obs['perturbation'] = [x.replace('--', '_') for x in adata.obs['perturbation']]\n",
    "    adata.obs.perturbation = [k.replace('control_', '').replace('_control', '') for k in adata.obs.perturbation]  # collapse controls\n",
    "    adata.obs['perturbation_type'] = 'CRISPR-cas9' if '_KO_' in key else 'CRISPRi'\n",
    "    if 'replicate' in adata.obs.columns:\n",
    "        cols = ['perturbation', 'replicate', 'ncounts', 'ngenes', 'nguides', '10X_channel', 'percent_mito', 'guides', 'full_guides', 'S_score', 'G2M_score', 'Cell_cycle_phase', 'perturbation_type']\n",
    "    else:\n",
    "        cols = ['perturbation', 'ncounts', 'ngenes', 'nguides', '10X_channel', 'percent_mito', 'guides', 'full_guides', 'S_score', 'G2M_score', 'Cell_cycle_phase', 'perturbation_type']\n",
    "    adata.obs = adata.obs[cols]\n",
    "    adata.obs['disease'] = \"leukemia\"\n",
    "    adata.obs['cancer'] = True\n",
    "    adata.obs['tissue_type']=\"cell_line\"\n",
    "    adata.obs[\"cell_line\"] = \"THP-1\"\n",
    "    adata.obs[\"celltype\"] = 'monocytes'\n",
    "    adata.obs['organism'] = 'human'\n",
    "    adata.obs['nperts'] = [p.count('_')+1-p.count('control') if type(p)==str else 0 for p in adata.obs.perturbation]\n",
    "    annotate_qc(adata, species='human')\n",
    "    adata.obs.index.name = 'cell_barcode'\n",
    "    return adata"
   ]
  },
  {
   "cell_type": "code",
   "execution_count": 100,
   "id": "76d46c40",
   "metadata": {
    "ExecuteTime": {
     "end_time": "2023-03-28T15:00:58.374231Z",
     "start_time": "2023-03-28T14:59:34.782676Z"
    }
   },
   "outputs": [],
   "source": [
    "adata = process_adata(key='GSM6858447_KO_conventional')"
   ]
  },
  {
   "cell_type": "code",
   "execution_count": 102,
   "id": "ee67b8d5",
   "metadata": {
    "ExecuteTime": {
     "end_time": "2023-03-28T15:01:34.530769Z",
     "start_time": "2023-03-28T15:00:58.490743Z"
    }
   },
   "outputs": [
    {
     "ename": "KeyboardInterrupt",
     "evalue": "",
     "output_type": "error",
     "traceback": [
      "\u001b[0;31m---------------------------------------------------------------------------\u001b[0m",
      "\u001b[0;31mKeyboardInterrupt\u001b[0m                         Traceback (most recent call last)",
      "Input \u001b[0;32mIn [102]\u001b[0m, in \u001b[0;36m<cell line: 1>\u001b[0;34m()\u001b[0m\n\u001b[0;32m----> 1\u001b[0m adata \u001b[38;5;241m=\u001b[39m \u001b[43mprocess_adata\u001b[49m\u001b[43m(\u001b[49m\u001b[43mkey\u001b[49m\u001b[38;5;241;43m=\u001b[39;49m\u001b[38;5;124;43m'\u001b[39;49m\u001b[38;5;124;43mGSM6858449_KD_conventional\u001b[39;49m\u001b[38;5;124;43m'\u001b[39;49m\u001b[43m)\u001b[49m\n",
      "Input \u001b[0;32mIn [99]\u001b[0m, in \u001b[0;36mprocess_adata\u001b[0;34m(key)\u001b[0m\n\u001b[1;32m      4\u001b[0m adata\u001b[38;5;241m.\u001b[39mobs \u001b[38;5;241m=\u001b[39m adata\u001b[38;5;241m.\u001b[39mobs\u001b[38;5;241m.\u001b[39mrename({\u001b[38;5;124m'\u001b[39m\u001b[38;5;124mTotal_RNA_count\u001b[39m\u001b[38;5;124m'\u001b[39m: \u001b[38;5;124m'\u001b[39m\u001b[38;5;124mncounts\u001b[39m\u001b[38;5;124m'\u001b[39m, \u001b[38;5;124m'\u001b[39m\u001b[38;5;124mTotal_unique_genes\u001b[39m\u001b[38;5;124m'\u001b[39m: \u001b[38;5;124m'\u001b[39m\u001b[38;5;124mngenes\u001b[39m\u001b[38;5;124m'\u001b[39m, \u001b[38;5;124m'\u001b[39m\u001b[38;5;124mBiological_replicate\u001b[39m\u001b[38;5;124m'\u001b[39m: \u001b[38;5;124m'\u001b[39m\u001b[38;5;124mreplicate\u001b[39m\u001b[38;5;124m'\u001b[39m,\n\u001b[1;32m      5\u001b[0m                   \u001b[38;5;124m'\u001b[39m\u001b[38;5;124mPercent_mitochondrial_reads\u001b[39m\u001b[38;5;124m'\u001b[39m: \u001b[38;5;124m'\u001b[39m\u001b[38;5;124mpercent_mito\u001b[39m\u001b[38;5;124m'\u001b[39m, \u001b[38;5;124m'\u001b[39m\u001b[38;5;124mGuides\u001b[39m\u001b[38;5;124m'\u001b[39m: \u001b[38;5;124m'\u001b[39m\u001b[38;5;124mfull_guides\u001b[39m\u001b[38;5;124m'\u001b[39m, \n\u001b[1;32m      6\u001b[0m                   \u001b[38;5;124m'\u001b[39m\u001b[38;5;124mGuides_collapsed_by_gene\u001b[39m\u001b[38;5;124m'\u001b[39m: \u001b[38;5;124m'\u001b[39m\u001b[38;5;124mguides\u001b[39m\u001b[38;5;124m'\u001b[39m, \u001b[38;5;124m'\u001b[39m\u001b[38;5;124mTotal_number_of_guides\u001b[39m\u001b[38;5;124m'\u001b[39m: \u001b[38;5;124m'\u001b[39m\u001b[38;5;124mnguides\u001b[39m\u001b[38;5;124m'\u001b[39m}, axis\u001b[38;5;241m=\u001b[39m\u001b[38;5;241m1\u001b[39m)\n\u001b[1;32m      7\u001b[0m adata\u001b[38;5;241m.\u001b[39mvar \u001b[38;5;241m=\u001b[39m adata\u001b[38;5;241m.\u001b[39mvar\u001b[38;5;241m.\u001b[39mset_index(\u001b[38;5;124m'\u001b[39m\u001b[38;5;124mfeatures\u001b[39m\u001b[38;5;124m'\u001b[39m)\u001b[38;5;241m.\u001b[39mdrop(\u001b[38;5;124m'\u001b[39m\u001b[38;5;124m_index\u001b[39m\u001b[38;5;124m'\u001b[39m, axis\u001b[38;5;241m=\u001b[39m\u001b[38;5;241m1\u001b[39m)\n\u001b[0;32m----> 8\u001b[0m tab \u001b[38;5;241m=\u001b[39m \u001b[43mpd\u001b[49m\u001b[38;5;241;43m.\u001b[39;49m\u001b[43mread_csv\u001b[49m\u001b[43m(\u001b[49m\u001b[43mTEMPDIR\u001b[49m\u001b[43m \u001b[49m\u001b[38;5;241;43m/\u001b[39;49m\u001b[43m \u001b[49m\u001b[38;5;124;43mf\u001b[39;49m\u001b[38;5;124;43m'\u001b[39;49m\u001b[38;5;124;43mYaoCleary2023/\u001b[39;49m\u001b[38;5;132;43;01m{\u001b[39;49;00m\u001b[43mkey\u001b[49m\u001b[38;5;132;43;01m}\u001b[39;49;00m\u001b[38;5;124;43m_perturbations.txt\u001b[39;49m\u001b[38;5;124;43m'\u001b[39;49m\u001b[43m,\u001b[49m\u001b[43m \u001b[49m\u001b[43msep\u001b[49m\u001b[38;5;241;43m=\u001b[39;49m\u001b[38;5;124;43m'\u001b[39;49m\u001b[38;5;130;43;01m\\t\u001b[39;49;00m\u001b[38;5;124;43m'\u001b[39;49m\u001b[43m)\u001b[49m\u001b[38;5;241m.\u001b[39mT\n\u001b[1;32m      9\u001b[0m stab \u001b[38;5;241m=\u001b[39m tab\u001b[38;5;241m.\u001b[39mastype(pd\u001b[38;5;241m.\u001b[39mSparseDtype(\u001b[38;5;124m\"\u001b[39m\u001b[38;5;124mint\u001b[39m\u001b[38;5;124m\"\u001b[39m, \u001b[38;5;241m0\u001b[39m))  \u001b[38;5;66;03m# make sparse\u001b[39;00m\n\u001b[1;32m     10\u001b[0m adata\u001b[38;5;241m.\u001b[39mobsm[\u001b[38;5;124m'\u001b[39m\u001b[38;5;124mbarcodes\u001b[39m\u001b[38;5;124m'\u001b[39m] \u001b[38;5;241m=\u001b[39m stab\n",
      "File \u001b[0;32m/fast/users/peidlis_c/work/miniconda/envs/sc_env/lib/python3.9/site-packages/pandas/util/_decorators.py:311\u001b[0m, in \u001b[0;36mdeprecate_nonkeyword_arguments.<locals>.decorate.<locals>.wrapper\u001b[0;34m(*args, **kwargs)\u001b[0m\n\u001b[1;32m    305\u001b[0m \u001b[38;5;28;01mif\u001b[39;00m \u001b[38;5;28mlen\u001b[39m(args) \u001b[38;5;241m>\u001b[39m num_allow_args:\n\u001b[1;32m    306\u001b[0m     warnings\u001b[38;5;241m.\u001b[39mwarn(\n\u001b[1;32m    307\u001b[0m         msg\u001b[38;5;241m.\u001b[39mformat(arguments\u001b[38;5;241m=\u001b[39marguments),\n\u001b[1;32m    308\u001b[0m         \u001b[38;5;167;01mFutureWarning\u001b[39;00m,\n\u001b[1;32m    309\u001b[0m         stacklevel\u001b[38;5;241m=\u001b[39mstacklevel,\n\u001b[1;32m    310\u001b[0m     )\n\u001b[0;32m--> 311\u001b[0m \u001b[38;5;28;01mreturn\u001b[39;00m \u001b[43mfunc\u001b[49m\u001b[43m(\u001b[49m\u001b[38;5;241;43m*\u001b[39;49m\u001b[43margs\u001b[49m\u001b[43m,\u001b[49m\u001b[43m \u001b[49m\u001b[38;5;241;43m*\u001b[39;49m\u001b[38;5;241;43m*\u001b[39;49m\u001b[43mkwargs\u001b[49m\u001b[43m)\u001b[49m\n",
      "File \u001b[0;32m/fast/users/peidlis_c/work/miniconda/envs/sc_env/lib/python3.9/site-packages/pandas/io/parsers/readers.py:680\u001b[0m, in \u001b[0;36mread_csv\u001b[0;34m(filepath_or_buffer, sep, delimiter, header, names, index_col, usecols, squeeze, prefix, mangle_dupe_cols, dtype, engine, converters, true_values, false_values, skipinitialspace, skiprows, skipfooter, nrows, na_values, keep_default_na, na_filter, verbose, skip_blank_lines, parse_dates, infer_datetime_format, keep_date_col, date_parser, dayfirst, cache_dates, iterator, chunksize, compression, thousands, decimal, lineterminator, quotechar, quoting, doublequote, escapechar, comment, encoding, encoding_errors, dialect, error_bad_lines, warn_bad_lines, on_bad_lines, delim_whitespace, low_memory, memory_map, float_precision, storage_options)\u001b[0m\n\u001b[1;32m    665\u001b[0m kwds_defaults \u001b[38;5;241m=\u001b[39m _refine_defaults_read(\n\u001b[1;32m    666\u001b[0m     dialect,\n\u001b[1;32m    667\u001b[0m     delimiter,\n\u001b[0;32m   (...)\u001b[0m\n\u001b[1;32m    676\u001b[0m     defaults\u001b[38;5;241m=\u001b[39m{\u001b[38;5;124m\"\u001b[39m\u001b[38;5;124mdelimiter\u001b[39m\u001b[38;5;124m\"\u001b[39m: \u001b[38;5;124m\"\u001b[39m\u001b[38;5;124m,\u001b[39m\u001b[38;5;124m\"\u001b[39m},\n\u001b[1;32m    677\u001b[0m )\n\u001b[1;32m    678\u001b[0m kwds\u001b[38;5;241m.\u001b[39mupdate(kwds_defaults)\n\u001b[0;32m--> 680\u001b[0m \u001b[38;5;28;01mreturn\u001b[39;00m \u001b[43m_read\u001b[49m\u001b[43m(\u001b[49m\u001b[43mfilepath_or_buffer\u001b[49m\u001b[43m,\u001b[49m\u001b[43m \u001b[49m\u001b[43mkwds\u001b[49m\u001b[43m)\u001b[49m\n",
      "File \u001b[0;32m/fast/users/peidlis_c/work/miniconda/envs/sc_env/lib/python3.9/site-packages/pandas/io/parsers/readers.py:581\u001b[0m, in \u001b[0;36m_read\u001b[0;34m(filepath_or_buffer, kwds)\u001b[0m\n\u001b[1;32m    578\u001b[0m     \u001b[38;5;28;01mreturn\u001b[39;00m parser\n\u001b[1;32m    580\u001b[0m \u001b[38;5;28;01mwith\u001b[39;00m parser:\n\u001b[0;32m--> 581\u001b[0m     \u001b[38;5;28;01mreturn\u001b[39;00m \u001b[43mparser\u001b[49m\u001b[38;5;241;43m.\u001b[39;49m\u001b[43mread\u001b[49m\u001b[43m(\u001b[49m\u001b[43mnrows\u001b[49m\u001b[43m)\u001b[49m\n",
      "File \u001b[0;32m/fast/users/peidlis_c/work/miniconda/envs/sc_env/lib/python3.9/site-packages/pandas/io/parsers/readers.py:1255\u001b[0m, in \u001b[0;36mTextFileReader.read\u001b[0;34m(self, nrows)\u001b[0m\n\u001b[1;32m   1253\u001b[0m nrows \u001b[38;5;241m=\u001b[39m validate_integer(\u001b[38;5;124m\"\u001b[39m\u001b[38;5;124mnrows\u001b[39m\u001b[38;5;124m\"\u001b[39m, nrows)\n\u001b[1;32m   1254\u001b[0m \u001b[38;5;28;01mtry\u001b[39;00m:\n\u001b[0;32m-> 1255\u001b[0m     index, columns, col_dict \u001b[38;5;241m=\u001b[39m \u001b[38;5;28;43mself\u001b[39;49m\u001b[38;5;241;43m.\u001b[39;49m\u001b[43m_engine\u001b[49m\u001b[38;5;241;43m.\u001b[39;49m\u001b[43mread\u001b[49m\u001b[43m(\u001b[49m\u001b[43mnrows\u001b[49m\u001b[43m)\u001b[49m\n\u001b[1;32m   1256\u001b[0m \u001b[38;5;28;01mexcept\u001b[39;00m \u001b[38;5;167;01mException\u001b[39;00m:\n\u001b[1;32m   1257\u001b[0m     \u001b[38;5;28mself\u001b[39m\u001b[38;5;241m.\u001b[39mclose()\n",
      "File \u001b[0;32m/fast/users/peidlis_c/work/miniconda/envs/sc_env/lib/python3.9/site-packages/pandas/io/parsers/c_parser_wrapper.py:225\u001b[0m, in \u001b[0;36mCParserWrapper.read\u001b[0;34m(self, nrows)\u001b[0m\n\u001b[1;32m    223\u001b[0m \u001b[38;5;28;01mtry\u001b[39;00m:\n\u001b[1;32m    224\u001b[0m     \u001b[38;5;28;01mif\u001b[39;00m \u001b[38;5;28mself\u001b[39m\u001b[38;5;241m.\u001b[39mlow_memory:\n\u001b[0;32m--> 225\u001b[0m         chunks \u001b[38;5;241m=\u001b[39m \u001b[38;5;28;43mself\u001b[39;49m\u001b[38;5;241;43m.\u001b[39;49m\u001b[43m_reader\u001b[49m\u001b[38;5;241;43m.\u001b[39;49m\u001b[43mread_low_memory\u001b[49m\u001b[43m(\u001b[49m\u001b[43mnrows\u001b[49m\u001b[43m)\u001b[49m\n\u001b[1;32m    226\u001b[0m         \u001b[38;5;66;03m# destructive to chunks\u001b[39;00m\n\u001b[1;32m    227\u001b[0m         data \u001b[38;5;241m=\u001b[39m _concatenate_chunks(chunks)\n",
      "File \u001b[0;32m/fast/users/peidlis_c/work/miniconda/envs/sc_env/lib/python3.9/site-packages/pandas/_libs/parsers.pyx:805\u001b[0m, in \u001b[0;36mpandas._libs.parsers.TextReader.read_low_memory\u001b[0;34m()\u001b[0m\n",
      "File \u001b[0;32m/fast/users/peidlis_c/work/miniconda/envs/sc_env/lib/python3.9/site-packages/pandas/_libs/parsers.pyx:883\u001b[0m, in \u001b[0;36mpandas._libs.parsers.TextReader._read_rows\u001b[0;34m()\u001b[0m\n",
      "File \u001b[0;32m/fast/users/peidlis_c/work/miniconda/envs/sc_env/lib/python3.9/site-packages/pandas/_libs/parsers.pyx:1026\u001b[0m, in \u001b[0;36mpandas._libs.parsers.TextReader._convert_column_data\u001b[0;34m()\u001b[0m\n",
      "File \u001b[0;32m/fast/users/peidlis_c/work/miniconda/envs/sc_env/lib/python3.9/site-packages/pandas/_libs/parsers.pyx:1072\u001b[0m, in \u001b[0;36mpandas._libs.parsers.TextReader._convert_tokens\u001b[0;34m()\u001b[0m\n",
      "File \u001b[0;32m/fast/users/peidlis_c/work/miniconda/envs/sc_env/lib/python3.9/site-packages/pandas/_libs/parsers.pyx:1147\u001b[0m, in \u001b[0;36mpandas._libs.parsers.TextReader._convert_with_dtype\u001b[0;34m()\u001b[0m\n",
      "File \u001b[0;32m/fast/users/peidlis_c/work/miniconda/envs/sc_env/lib/python3.9/site-packages/pandas/core/dtypes/common.py:1429\u001b[0m, in \u001b[0;36mis_extension_array_dtype\u001b[0;34m(arr_or_dtype)\u001b[0m\n\u001b[1;32m   1420\u001b[0m     \u001b[38;5;66;03m# Note: if other EA dtypes are ever held in HybridBlock, exclude those\u001b[39;00m\n\u001b[1;32m   1421\u001b[0m     \u001b[38;5;66;03m#  here too.\u001b[39;00m\n\u001b[1;32m   1422\u001b[0m     \u001b[38;5;66;03m# NB: need to check DatetimeTZDtype and not is_datetime64tz_dtype\u001b[39;00m\n\u001b[1;32m   1423\u001b[0m     \u001b[38;5;66;03m#  to exclude ArrowTimestampUSDtype\u001b[39;00m\n\u001b[1;32m   1424\u001b[0m     \u001b[38;5;28;01mreturn\u001b[39;00m \u001b[38;5;28misinstance\u001b[39m(dtype, ExtensionDtype) \u001b[38;5;129;01mand\u001b[39;00m \u001b[38;5;129;01mnot\u001b[39;00m \u001b[38;5;28misinstance\u001b[39m(\n\u001b[1;32m   1425\u001b[0m         dtype, (DatetimeTZDtype, PeriodDtype)\n\u001b[1;32m   1426\u001b[0m     )\n\u001b[0;32m-> 1429\u001b[0m \u001b[38;5;28;01mdef\u001b[39;00m \u001b[38;5;21mis_extension_array_dtype\u001b[39m(arr_or_dtype) \u001b[38;5;241m-\u001b[39m\u001b[38;5;241m>\u001b[39m \u001b[38;5;28mbool\u001b[39m:\n\u001b[1;32m   1430\u001b[0m     \u001b[38;5;124;03m\"\"\"\u001b[39;00m\n\u001b[1;32m   1431\u001b[0m \u001b[38;5;124;03m    Check if an object is a pandas extension array type.\u001b[39;00m\n\u001b[1;32m   1432\u001b[0m \n\u001b[0;32m   (...)\u001b[0m\n\u001b[1;32m   1472\u001b[0m \u001b[38;5;124;03m    False\u001b[39;00m\n\u001b[1;32m   1473\u001b[0m \u001b[38;5;124;03m    \"\"\"\u001b[39;00m\n\u001b[1;32m   1474\u001b[0m     dtype \u001b[38;5;241m=\u001b[39m \u001b[38;5;28mgetattr\u001b[39m(arr_or_dtype, \u001b[38;5;124m\"\u001b[39m\u001b[38;5;124mdtype\u001b[39m\u001b[38;5;124m\"\u001b[39m, arr_or_dtype)\n",
      "\u001b[0;31mKeyboardInterrupt\u001b[0m: "
     ]
    }
   ],
   "source": [
    "adata = process_adata(key='GSM6858449_KD_conventional')"
   ]
  },
  {
   "cell_type": "code",
   "execution_count": 5,
   "id": "755c1e5a",
   "metadata": {
    "ExecuteTime": {
     "end_time": "2023-03-28T15:11:09.326258Z",
     "start_time": "2023-03-28T15:10:49.030943Z"
    }
   },
   "outputs": [],
   "source": [
    "adata = process_adata(key='GSM6858448_KO_cell_pooled')"
   ]
  },
  {
   "cell_type": "code",
   "execution_count": null,
   "id": "1e3bdea3",
   "metadata": {
    "ExecuteTime": {
     "end_time": "2023-03-28T15:01:34.536426Z",
     "start_time": "2023-03-28T15:01:34.536413Z"
    }
   },
   "outputs": [],
   "source": [
    "adata = process_adata(key='GSM6858450_KD_guide_pooled')"
   ]
  },
  {
   "cell_type": "code",
   "execution_count": 9,
   "id": "d8646377",
   "metadata": {
    "ExecuteTime": {
     "end_time": "2023-03-28T15:13:47.782711Z",
     "start_time": "2023-03-28T15:13:47.780194Z"
    }
   },
   "outputs": [],
   "source": [
    "assert_annotations(adata)"
   ]
  },
  {
   "cell_type": "code",
   "execution_count": 10,
   "id": "fa356d2b",
   "metadata": {
    "ExecuteTime": {
     "end_time": "2023-03-28T15:22:30.777614Z",
     "start_time": "2023-03-28T15:17:31.093444Z"
    }
   },
   "outputs": [
    {
     "name": "stdout",
     "output_type": "stream",
     "text": [
      "GSM6858447_KO_conventional\n",
      "GSM6858449_KD_conventional\n",
      "GSM6858448_KO_cell_pooled\n",
      "GSM6858450_KD_guide_pooled\n"
     ]
    }
   ],
   "source": [
    "adatas = {}\n",
    "for key in ['GSM6858447_KO_conventional', 'GSM6858449_KD_conventional', 'GSM6858448_KO_cell_pooled', 'GSM6858450_KD_guide_pooled']:\n",
    "    print(key)\n",
    "    adata = process_adata(key='GSM6858449_KD_conventional')\n",
    "    assert_annotations(adata)\n",
    "    adatas[key] = adata"
   ]
  },
  {
   "cell_type": "code",
   "execution_count": 11,
   "id": "494c4afd",
   "metadata": {
    "ExecuteTime": {
     "end_time": "2023-03-28T15:25:48.876060Z",
     "start_time": "2023-03-28T15:25:23.202952Z"
    }
   },
   "outputs": [],
   "source": [
    "adata = sc.concat(adatas, label='dataset')"
   ]
  },
  {
   "cell_type": "code",
   "execution_count": 12,
   "id": "4b5b03cc",
   "metadata": {
    "ExecuteTime": {
     "end_time": "2023-03-28T15:25:48.881582Z",
     "start_time": "2023-03-28T15:25:48.877906Z"
    }
   },
   "outputs": [
    {
     "data": {
      "text/plain": [
       "AnnData object with n_obs × n_vars = 265132 × 18017\n",
       "    obs: 'perturbation', 'replicate', 'ncounts', 'ngenes', 'nguides', '10X_channel', 'percent_mito', 'guides', 'full_guides', 'S_score', 'G2M_score', 'Cell_cycle_phase', 'perturbation_type', 'disease', 'cancer', 'tissue_type', 'cell_line', 'celltype', 'organism', 'nperts', 'percent_ribo', 'dataset'\n",
       "    obsm: 'barcodes'"
      ]
     },
     "execution_count": 12,
     "metadata": {},
     "output_type": "execute_result"
    }
   ],
   "source": [
    "adata"
   ]
  },
  {
   "cell_type": "code",
   "execution_count": null,
   "id": "62d40b8b",
   "metadata": {},
   "outputs": [],
   "source": []
  }
 ],
 "metadata": {
  "hide_input": false,
  "kernelspec": {
   "display_name": "Python 3 (ipykernel)",
   "language": "python",
   "name": "python3"
  },
  "language_info": {
   "codemirror_mode": {
    "name": "ipython",
    "version": 3
   },
   "file_extension": ".py",
   "mimetype": "text/x-python",
   "name": "python",
   "nbconvert_exporter": "python",
   "pygments_lexer": "ipython3",
   "version": "3.9.13"
  }
 },
 "nbformat": 4,
 "nbformat_minor": 5
}
