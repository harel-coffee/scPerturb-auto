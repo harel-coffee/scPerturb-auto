{
 "cells": [
  {
   "cell_type": "code",
   "execution_count": 1,
   "id": "996ce56a",
   "metadata": {
    "ExecuteTime": {
     "end_time": "2023-02-02T19:58:49.652237Z",
     "start_time": "2023-02-02T19:58:37.063383Z"
    }
   },
   "outputs": [
    {
     "data": {
      "text/html": [
       "<style>.container { width:95% !important; }</style>"
      ],
      "text/plain": [
       "<IPython.core.display.HTML object>"
      ]
     },
     "metadata": {},
     "output_type": "display_data"
    }
   ],
   "source": [
    "import subprocess\n",
    "import os\n",
    "import sys\n",
    "import matplotlib.backends.backend_pdf\n",
    "import scanpy as sc\n",
    "import matplotlib.pyplot as pl\n",
    "import anndata as ad\n",
    "import pandas as pd\n",
    "import numpy as np\n",
    "import seaborn as sns\n",
    "import scvelo as scv\n",
    "scv.settings.verbosity=1\n",
    "\n",
    "from pathlib import Path\n",
    "\n",
    "# Jupyter stuff\n",
    "from tqdm.notebook import tqdm\n",
    "from IPython.display import clear_output\n",
    "from IPython.core.display import display, HTML\n",
    "display(HTML(\"<style>.container { width:95% !important; }</style>\"))\n",
    "\n",
    "%matplotlib inline\n",
    "\n",
    "# Custom functions\n",
    "sys.path.insert(1, '../')\n",
    "from utils import *\n",
    "\n",
    "# scperturb package\n",
    "sys.path.insert(1, '../package/src/')\n",
    "from scperturb import *\n",
    "\n",
    "from pathlib import Path\n",
    "figure_path = Path('../figures/')"
   ]
  },
  {
   "cell_type": "code",
   "execution_count": 2,
   "id": "3f29f4a8",
   "metadata": {
    "ExecuteTime": {
     "end_time": "2023-02-02T19:58:49.657619Z",
     "start_time": "2023-02-02T19:58:49.654816Z"
    }
   },
   "outputs": [],
   "source": [
    "TEMPDIR = Path('/fast/scratch/users/peidlis_c/perturbation_resource_paper/')"
   ]
  },
  {
   "cell_type": "code",
   "execution_count": null,
   "id": "2d827635",
   "metadata": {},
   "outputs": [],
   "source": [
    "# cd TEMPDIR\n",
    "# wget -O GSE216481_RAW.tar 'http://www.ncbi.nlm.nih.gov/geo/download/?acc=GSE216481&format=file'\n",
    "# tar -xvf GSE216481_RAW.tar -C GSE216481_RAW"
   ]
  },
  {
   "cell_type": "code",
   "execution_count": 3,
   "id": "d79ea0a4",
   "metadata": {
    "ExecuteTime": {
     "end_time": "2023-02-02T19:58:49.688746Z",
     "start_time": "2023-02-02T19:58:49.659658Z"
    }
   },
   "outputs": [
    {
     "data": {
      "text/plain": [
       "1"
      ]
     },
     "execution_count": 3,
     "metadata": {},
     "output_type": "execute_result"
    }
   ],
   "source": [
    "1"
   ]
  },
  {
   "cell_type": "code",
   "execution_count": 6,
   "id": "133dd71b",
   "metadata": {
    "ExecuteTime": {
     "end_time": "2023-02-02T20:01:21.542002Z",
     "start_time": "2023-02-02T20:01:21.538465Z"
    }
   },
   "outputs": [],
   "source": [
    "path = TEMPDIR / 'GSE216481_RAW'"
   ]
  },
  {
   "cell_type": "code",
   "execution_count": 13,
   "id": "e776f474",
   "metadata": {
    "ExecuteTime": {
     "end_time": "2023-02-02T20:03:14.160374Z",
     "start_time": "2023-02-02T20:03:14.156519Z"
    }
   },
   "outputs": [],
   "source": [
    "keys = sorted([f.name.replace('_barcodes.tsv.gz', '') for f in path.glob('*_barcodes*')])"
   ]
  },
  {
   "cell_type": "code",
   "execution_count": 17,
   "id": "5d74bec6",
   "metadata": {
    "ExecuteTime": {
     "end_time": "2023-02-02T20:12:15.649360Z",
     "start_time": "2023-02-02T20:11:49.187376Z"
    }
   },
   "outputs": [],
   "source": [
    "adata = sc.read_10x_mtx(path, prefix=keys[0]+'_')"
   ]
  },
  {
   "cell_type": "code",
   "execution_count": 18,
   "id": "3244bd19",
   "metadata": {
    "ExecuteTime": {
     "end_time": "2023-02-02T20:12:15.655779Z",
     "start_time": "2023-02-02T20:12:15.651850Z"
    }
   },
   "outputs": [
    {
     "data": {
      "text/plain": [
       "AnnData object with n_obs × n_vars = 10000 × 33538\n",
       "    var: 'gene_ids', 'feature_types'"
      ]
     },
     "execution_count": 18,
     "metadata": {},
     "output_type": "execute_result"
    }
   ],
   "source": [
    "adata"
   ]
  },
  {
   "cell_type": "code",
   "execution_count": 20,
   "id": "65d66234",
   "metadata": {
    "ExecuteTime": {
     "end_time": "2023-02-02T20:12:28.648139Z",
     "start_time": "2023-02-02T20:12:28.640285Z"
    }
   },
   "outputs": [
    {
     "data": {
      "text/plain": [
       "['GSM6674255_191108_TFv2d56_4w_S1_barcodes.tsv.gz',\n",
       " 'GSM6674255_191108_TFv2d56_4w_S1_features.tsv.gz',\n",
       " 'GSM6674255_191108_TFv2d56_4w_S1_matrix.mtx.gz',\n",
       " 'GSM6674256_191108_TFv2d56_4w_S2_barcodes.tsv.gz',\n",
       " 'GSM6674256_191108_TFv2d56_4w_S2_features.tsv.gz',\n",
       " 'GSM6674256_191108_TFv2d56_4w_S2_matrix.mtx.gz',\n",
       " 'GSM6674257_191108_TFv2d56_8w_S1_barcodes.tsv.gz',\n",
       " 'GSM6674257_191108_TFv2d56_8w_S1_features.tsv.gz',\n",
       " 'GSM6674257_191108_TFv2d56_8w_S1_matrix.mtx.gz',\n",
       " 'GSM6674258_191108_TFv2d56_8w_S2_barcodes.tsv.gz',\n",
       " 'GSM6674258_191108_TFv2d56_8w_S2_features.tsv.gz',\n",
       " 'GSM6674258_191108_TFv2d56_8w_S2_matrix.mtx.gz',\n",
       " 'GSM6674380_200209_DS_S1_barcodes.tsv.gz',\n",
       " 'GSM6674380_200209_DS_S1_features.tsv.gz',\n",
       " 'GSM6674380_200209_DS_S1_matrix.mtx.gz',\n",
       " 'GSM6674381_200209_DS_S2_barcodes.tsv.gz',\n",
       " 'GSM6674381_200209_DS_S2_features.tsv.gz',\n",
       " 'GSM6674381_200209_DS_S2_matrix.mtx.gz',\n",
       " 'GSM6674382_200209_EB_S1_barcodes.tsv.gz',\n",
       " 'GSM6674382_200209_EB_S1_features.tsv.gz',\n",
       " 'GSM6674382_200209_EB_S1_matrix.mtx.gz',\n",
       " 'GSM6674383_200209_EB_S2_barcodes.tsv.gz',\n",
       " 'GSM6674383_200209_EB_S2_features.tsv.gz',\n",
       " 'GSM6674383_200209_EB_S2_matrix.mtx.gz',\n",
       " 'GSM6674384_200209_RFX4_S1_barcodes.tsv.gz',\n",
       " 'GSM6674384_200209_RFX4_S1_features.tsv.gz',\n",
       " 'GSM6674384_200209_RFX4_S1_matrix.mtx.gz',\n",
       " 'GSM6674385_200209_RFX4_S2_barcodes.tsv.gz',\n",
       " 'GSM6674385_200209_RFX4_S2_features.tsv.gz',\n",
       " 'GSM6674385_200209_RFX4_S2_matrix.mtx.gz',\n",
       " 'GSM6681039_180124_perturb_S1_barcodes.tsv.gz',\n",
       " 'GSM6681039_180124_perturb_S1_genes.tsv.gz',\n",
       " 'GSM6681039_180124_perturb_S1_matrix.mtx.gz',\n",
       " 'GSM6681040_180124_perturb_S2_barcodes.tsv.gz',\n",
       " 'GSM6681040_180124_perturb_S2_genes.tsv.gz',\n",
       " 'GSM6681040_180124_perturb_S2_matrix.mtx.gz',\n",
       " 'GSM6681041_180124_perturb_S3_barcodes.tsv.gz',\n",
       " 'GSM6681041_180124_perturb_S3_genes.tsv.gz',\n",
       " 'GSM6681041_180124_perturb_S3_matrix.mtx.gz',\n",
       " 'GSM6681042_180124_perturb_S4_barcodes.tsv.gz',\n",
       " 'GSM6681042_180124_perturb_S4_genes.tsv.gz',\n",
       " 'GSM6681042_180124_perturb_S4_matrix.mtx.gz',\n",
       " 'GSM6681043_180124_perturb_S5_barcodes.tsv.gz',\n",
       " 'GSM6681043_180124_perturb_S5_genes.tsv.gz',\n",
       " 'GSM6681043_180124_perturb_S5_matrix.mtx.gz',\n",
       " 'GSM6681044_180124_perturb_S6_barcodes.tsv.gz',\n",
       " 'GSM6681044_180124_perturb_S6_genes.tsv.gz',\n",
       " 'GSM6681044_180124_perturb_S6_matrix.mtx.gz',\n",
       " 'GSM6681045_180124_perturb_S7_barcodes.tsv.gz',\n",
       " 'GSM6681045_180124_perturb_S7_genes.tsv.gz',\n",
       " 'GSM6681045_180124_perturb_S7_matrix.mtx.gz',\n",
       " 'GSM6681046_180124_perturb_S8_barcodes.tsv.gz',\n",
       " 'GSM6681046_180124_perturb_S8_genes.tsv.gz',\n",
       " 'GSM6681046_180124_perturb_S8_matrix.mtx.gz',\n",
       " 'GSM6681047_180124_TFmap.csv.gz',\n",
       " 'GSM6681072_180525_EOMES_S1_barcodes.tsv.gz',\n",
       " 'GSM6681072_180525_EOMES_S1_genes.tsv.gz',\n",
       " 'GSM6681072_180525_EOMES_S1_matrix.mtx.gz',\n",
       " 'GSM6681073_180525_EOMES_S2_barcodes.tsv.gz',\n",
       " 'GSM6681073_180525_EOMES_S2_genes.tsv.gz',\n",
       " 'GSM6681073_180525_EOMES_S2_matrix.mtx.gz',\n",
       " 'GSM6681074_180525_GW_S1_barcodes.tsv.gz',\n",
       " 'GSM6681074_180525_GW_S1_genes.tsv.gz',\n",
       " 'GSM6681074_180525_GW_S1_matrix.mtx.gz',\n",
       " 'GSM6681075_180525_GW_S2_barcodes.tsv.gz',\n",
       " 'GSM6681075_180525_GW_S2_genes.tsv.gz',\n",
       " 'GSM6681075_180525_GW_S2_matrix.mtx.gz',\n",
       " 'GSM6681076_180726_ASCL1_S1_barcodes.tsv.gz',\n",
       " 'GSM6681076_180726_ASCL1_S1_genes.tsv.gz',\n",
       " 'GSM6681076_180726_ASCL1_S1_matrix.mtx.gz',\n",
       " 'GSM6681077_180726_ASCL1_S2_barcodes.tsv.gz',\n",
       " 'GSM6681077_180726_ASCL1_S2_genes.tsv.gz',\n",
       " 'GSM6681077_180726_ASCL1_S2_matrix.mtx.gz',\n",
       " 'GSM6681078_180726_NFIB_S1_barcodes.tsv.gz',\n",
       " 'GSM6681078_180726_NFIB_S1_genes.tsv.gz',\n",
       " 'GSM6681078_180726_NFIB_S1_matrix.mtx.gz',\n",
       " 'GSM6681079_180726_NFIB_S2_barcodes.tsv.gz',\n",
       " 'GSM6681079_180726_NFIB_S2_genes.tsv.gz',\n",
       " 'GSM6681079_180726_NFIB_S2_matrix.mtx.gz',\n",
       " 'GSM6681080_180726_PAX6_S1_barcodes.tsv.gz',\n",
       " 'GSM6681080_180726_PAX6_S1_genes.tsv.gz',\n",
       " 'GSM6681080_180726_PAX6_S1_matrix.mtx.gz',\n",
       " 'GSM6681081_180726_PAX6_S2_barcodes.tsv.gz',\n",
       " 'GSM6681081_180726_PAX6_S2_genes.tsv.gz',\n",
       " 'GSM6681081_180726_PAX6_S2_matrix.mtx.gz',\n",
       " 'GSM6681082_180726_RFX4_S1_barcodes.tsv.gz',\n",
       " 'GSM6681082_180726_RFX4_S1_genes.tsv.gz',\n",
       " 'GSM6681082_180726_RFX4_S1_matrix.mtx.gz',\n",
       " 'GSM6681083_180726_RFX4_S2_barcodes.tsv.gz',\n",
       " 'GSM6681083_180726_RFX4_S2_genes.tsv.gz',\n",
       " 'GSM6681083_180726_RFX4_S2_matrix.mtx.gz',\n",
       " 'GSM6704388_210715_TFmap_S1.csv.gz',\n",
       " 'GSM6704389_210715_TFmap_S2.csv.gz',\n",
       " 'GSM6704390_210715_TFmap_S3.csv.gz',\n",
       " 'GSM6704391_210715_combinatorial_S1_counts.csv.gz',\n",
       " 'GSM6704392_210715_combinatorial_S2_counts.csv.gz',\n",
       " 'GSM6704393_210715_combinatorial_S3_counts.csv.gz',\n",
       " 'GSM6704394_210715_combinatorial_S4_counts.csv.gz',\n",
       " 'GSM6704395_210715_combinatorial_S5_counts.csv.gz',\n",
       " 'GSM6704396_210715_combinatorial_S6_counts.csv.gz',\n",
       " 'GSM6704397_210715_combinatorial_S7_counts.csv.gz',\n",
       " 'GSM6704398_210715_combinatorial_S8_counts.csv.gz',\n",
       " 'GSM6704399_210715_combinatorial_S9_counts.csv.gz',\n",
       " 'GSM6706657_201218_RNA_D4_S1.csv.gz',\n",
       " 'GSM6706658_201218_RNA_D4_S2.csv.gz',\n",
       " 'GSM6706659_201218_RNA_D4_S3.csv.gz',\n",
       " 'GSM6706660_201218_RNA_D4_S4.csv.gz',\n",
       " 'GSM6706661_201218_RNA_D4_S5.csv.gz',\n",
       " 'GSM6706662_201218_RNA_D4_S6.csv.gz',\n",
       " 'GSM6706663_201218_RNA_D4_S7.csv.gz',\n",
       " 'GSM6706664_201218_RNA_D4_S8.csv.gz',\n",
       " 'GSM6706665_201218_RNA_D7_S1.csv.gz',\n",
       " 'GSM6706666_201218_RNA_D7_S2.csv.gz',\n",
       " 'GSM6706667_201218_RNA_D7_S3.csv.gz',\n",
       " 'GSM6706668_201218_RNA_D7_S4.csv.gz',\n",
       " 'GSM6706669_201218_RNA_D7_S5.csv.gz',\n",
       " 'GSM6706670_201218_RNA_D7_S6.csv.gz',\n",
       " 'GSM6706671_201218_RNA_D7_S7.csv.gz',\n",
       " 'GSM6706672_201218_RNA_D7_S8.csv.gz',\n",
       " 'GSM6706673_201218_TFmap_S1.csv.gz',\n",
       " 'GSM6706674_201218_TFmap_S2.csv.gz',\n",
       " 'GSM6706675_201218_TFmap_S3.csv.gz',\n",
       " 'GSM6706676_201218_TFmap_S4.csv.gz',\n",
       " 'GSM6719950_210322_TFAtlas_S05.csv.gz',\n",
       " 'GSM6719951_210322_TFAtlas_S06.csv.gz',\n",
       " 'GSM6719952_210322_TFAtlas_S07.csv.gz',\n",
       " 'GSM6719953_210322_TFAtlas_S08.csv.gz',\n",
       " 'GSM6719954_210322_TFAtlas_S09.csv.gz',\n",
       " 'GSM6719955_210322_TFAtlas_S10.csv.gz',\n",
       " 'GSM6719956_210322_TFAtlas_S11.csv.gz',\n",
       " 'GSM6719957_210322_TFAtlas_S12.csv.gz',\n",
       " 'GSM6719958_210322_TFAtlas_S13.csv.gz',\n",
       " 'GSM6719959_210322_TFAtlas_S14.csv.gz',\n",
       " 'GSM6719960_210322_TFAtlas_S15.csv.gz',\n",
       " 'GSM6719961_210322_TFAtlas_S16.csv.gz',\n",
       " 'GSM6719962_210322_TFAtlas_S17.csv.gz',\n",
       " 'GSM6719963_210322_TFAtlas_S18.csv.gz',\n",
       " 'GSM6719964_210322_TFAtlas_S19.csv.gz',\n",
       " 'GSM6719965_210322_TFAtlas_S20.csv.gz',\n",
       " 'GSM6719966_210322_TFAtlas_S21.csv.gz',\n",
       " 'GSM6719967_210322_TFAtlas_S22.csv.gz',\n",
       " 'GSM6719968_210322_TFAtlas_S23.csv.gz',\n",
       " 'GSM6719969_210322_TFAtlas_S24.csv.gz',\n",
       " 'GSM6719970_210322_TFmap_S01.csv.gz',\n",
       " 'GSM6719971_210322_TFmap_S02.csv.gz',\n",
       " 'GSM6719972_210322_TFmap_S03.csv.gz',\n",
       " 'GSM6719973_210322_TFmap_S04.csv.gz',\n",
       " 'GSM6719974_210322_TFmap_S05.csv.gz',\n",
       " 'GSM6719975_210322_TFmap_S06.csv.gz',\n",
       " 'GSM6719976_210322_TFmap_S07.csv.gz',\n",
       " 'GSM6719977_210322_TFmap_S08.csv.gz',\n",
       " 'GSM6719978_210322_TFmap_S09.csv.gz',\n",
       " 'GSM6719979_210322_TFmap_S10.csv.gz',\n",
       " 'GSM6719980_210322_TFmap_S11.csv.gz',\n",
       " 'GSM6719981_210322_TFmap_S12.csv.gz',\n",
       " 'GSM6719982_210322_TFmap_S13.csv.gz',\n",
       " 'GSM6719983_210322_TFmap_S14.csv.gz',\n",
       " 'GSM6719984_210322_TFmap_S15.csv.gz',\n",
       " 'GSM6719985_210322_TFmap_S16.csv.gz',\n",
       " 'GSM6719986_210322_TFmap_S17.csv.gz',\n",
       " 'GSM6719987_210322_TFmap_S18.csv.gz',\n",
       " 'GSM6719988_210322_TFmap_S19.csv.gz',\n",
       " 'GSM6719989_210322_TFmap_S20.csv.gz',\n",
       " 'GSM6719990_210322_TFmap_S21.csv.gz',\n",
       " 'GSM6719991_210322_TFmap_S22.csv.gz',\n",
       " 'GSM6719992_210322_TFmap_S23.csv.gz',\n",
       " 'GSM6719993_210322_TFmap_S24.csv.gz']"
      ]
     },
     "execution_count": 20,
     "metadata": {},
     "output_type": "execute_result"
    }
   ],
   "source": [
    "sorted([f.name for f in path.glob('*')])"
   ]
  },
  {
   "cell_type": "code",
   "execution_count": 26,
   "id": "759460b2",
   "metadata": {
    "ExecuteTime": {
     "end_time": "2023-02-02T20:13:26.711450Z",
     "start_time": "2023-02-02T20:13:26.139133Z"
    }
   },
   "outputs": [],
   "source": [
    "df = pd.read_csv(path / 'GSM6719979_210322_TFmap_S10.csv.gz', index_col=0, header=None)"
   ]
  },
  {
   "cell_type": "code",
   "execution_count": 37,
   "id": "9e2c6a97",
   "metadata": {
    "ExecuteTime": {
     "end_time": "2023-02-02T20:14:17.350671Z",
     "start_time": "2023-02-02T20:14:17.342087Z"
    }
   },
   "outputs": [
    {
     "data": {
      "text/html": [
       "<div>\n",
       "<style scoped>\n",
       "    .dataframe tbody tr th:only-of-type {\n",
       "        vertical-align: middle;\n",
       "    }\n",
       "\n",
       "    .dataframe tbody tr th {\n",
       "        vertical-align: top;\n",
       "    }\n",
       "\n",
       "    .dataframe thead th {\n",
       "        text-align: right;\n",
       "    }\n",
       "</style>\n",
       "<table border=\"1\" class=\"dataframe\">\n",
       "  <thead>\n",
       "    <tr style=\"text-align: right;\">\n",
       "      <th></th>\n",
       "      <th>1</th>\n",
       "      <th>2</th>\n",
       "    </tr>\n",
       "    <tr>\n",
       "      <th>0</th>\n",
       "      <th></th>\n",
       "      <th></th>\n",
       "    </tr>\n",
       "  </thead>\n",
       "  <tbody>\n",
       "    <tr>\n",
       "      <th>R1.72,R2.27,R3.42</th>\n",
       "      <td>TGGTAGAGGGCCGAGAGCGTGTCG</td>\n",
       "      <td>14</td>\n",
       "    </tr>\n",
       "    <tr>\n",
       "      <th>R1.94,R2.34,R3.60</th>\n",
       "      <td>GTCCATGGTCCATACGTGACGCAT</td>\n",
       "      <td>21</td>\n",
       "    </tr>\n",
       "    <tr>\n",
       "      <th>R1.52,R2.85,R3.66</th>\n",
       "      <td>ACCCGTCGTTGCAATTGCATGCGA</td>\n",
       "      <td>407</td>\n",
       "    </tr>\n",
       "    <tr>\n",
       "      <th>R1.02,R2.51,R3.77</th>\n",
       "      <td>TATTGCACTAGTGGCCGATGAGGA</td>\n",
       "      <td>82</td>\n",
       "    </tr>\n",
       "    <tr>\n",
       "      <th>R1.49,R2.94,R3.02</th>\n",
       "      <td>ACGCGGTCCGTAGTCAGGATCCGC</td>\n",
       "      <td>417</td>\n",
       "    </tr>\n",
       "    <tr>\n",
       "      <th>...</th>\n",
       "      <td>...</td>\n",
       "      <td>...</td>\n",
       "    </tr>\n",
       "    <tr>\n",
       "      <th>R1.45,R2.77,R3.35</th>\n",
       "      <td>ATATTTGCGGTGAGATGAGAGCAC</td>\n",
       "      <td>32</td>\n",
       "    </tr>\n",
       "    <tr>\n",
       "      <th>R1.04,R2.69,R3.62</th>\n",
       "      <td>TCCAGAGCCTTCACGACGATCAGT</td>\n",
       "      <td>931</td>\n",
       "    </tr>\n",
       "    <tr>\n",
       "      <th>R1.01,R2.45,R3.07</th>\n",
       "      <td>TTAACCATGCCACGCCTACATTGT</td>\n",
       "      <td>168</td>\n",
       "    </tr>\n",
       "    <tr>\n",
       "      <th>R1.85,R2.51,R3.03</th>\n",
       "      <td>ATCGGTTATACCTTTAGCAAGTGT</td>\n",
       "      <td>345</td>\n",
       "    </tr>\n",
       "    <tr>\n",
       "      <th>R1.48,R2.81,R3.60</th>\n",
       "      <td>CTAGACTTGTAGTGGAATCCCTTG</td>\n",
       "      <td>143</td>\n",
       "    </tr>\n",
       "  </tbody>\n",
       "</table>\n",
       "<p>534389 rows × 2 columns</p>\n",
       "</div>"
      ],
      "text/plain": [
       "                                          1    2\n",
       "0                                               \n",
       "R1.72,R2.27,R3.42  TGGTAGAGGGCCGAGAGCGTGTCG   14\n",
       "R1.94,R2.34,R3.60  GTCCATGGTCCATACGTGACGCAT   21\n",
       "R1.52,R2.85,R3.66  ACCCGTCGTTGCAATTGCATGCGA  407\n",
       "R1.02,R2.51,R3.77  TATTGCACTAGTGGCCGATGAGGA   82\n",
       "R1.49,R2.94,R3.02  ACGCGGTCCGTAGTCAGGATCCGC  417\n",
       "...                                     ...  ...\n",
       "R1.45,R2.77,R3.35  ATATTTGCGGTGAGATGAGAGCAC   32\n",
       "R1.04,R2.69,R3.62  TCCAGAGCCTTCACGACGATCAGT  931\n",
       "R1.01,R2.45,R3.07  TTAACCATGCCACGCCTACATTGT  168\n",
       "R1.85,R2.51,R3.03  ATCGGTTATACCTTTAGCAAGTGT  345\n",
       "R1.48,R2.81,R3.60  CTAGACTTGTAGTGGAATCCCTTG  143\n",
       "\n",
       "[534389 rows x 2 columns]"
      ]
     },
     "execution_count": 37,
     "metadata": {},
     "output_type": "execute_result"
    }
   ],
   "source": [
    "# get scRNA-seq from here!:\n",
    "#https://www.ncbi.nlm.nih.gov/geo/query/acc.cgi?acc=GSE216463"
   ]
  },
  {
   "cell_type": "code",
   "execution_count": null,
   "id": "f46a2b35",
   "metadata": {},
   "outputs": [],
   "source": []
  }
 ],
 "metadata": {
  "hide_input": false,
  "kernelspec": {
   "display_name": "Python 3",
   "language": "python",
   "name": "python3"
  },
  "language_info": {
   "codemirror_mode": {
    "name": "ipython",
    "version": 3
   },
   "file_extension": ".py",
   "mimetype": "text/x-python",
   "name": "python",
   "nbconvert_exporter": "python",
   "pygments_lexer": "ipython3",
   "version": "3.9.13"
  }
 },
 "nbformat": 4,
 "nbformat_minor": 5
}
