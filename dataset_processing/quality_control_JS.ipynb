{
 "cells": [
  {
   "cell_type": "code",
   "execution_count": 1,
   "metadata": {},
   "outputs": [],
   "source": [
    "import glob\n",
    "import os\n",
    "import sys\n",
    "import numpy as np\n",
    "import pandas as pd\n",
    "import math\n",
    "\n",
    "import scanpy as sc\n",
    "import pandas as pd\n",
    "\n",
    "from scipy.io import mmread\n",
    "from scipy.sparse import csr_matrix\n",
    "from scipy.sparse import vstack\n",
    "import gzip\n",
    "import re\n",
    "import mygene\n",
    "\n",
    "import tqdm.notebook as tq\n",
    "import matplotlib.pyplot as plt\n",
    "\n",
    "from collections import Counter\n",
    "from utils import write_as_singles"
   ]
  },
  {
   "cell_type": "code",
   "execution_count": 2,
   "metadata": {},
   "outputs": [],
   "source": [
    "path = \"/n/data1/hms/cellbio/sander/judy/resource_paper/\""
   ]
  },
  {
   "cell_type": "code",
   "execution_count": 3,
   "metadata": {},
   "outputs": [],
   "source": [
    "h5files = glob.glob(path+\"**/*.h5\",recursive=True)\n",
    "h5files = [x for x in h5files if not \"preprocessed\" in x]\n",
    "h5files = [x for x in h5files if not \"_qc\" in x]\n",
    "h5files = [x for x in h5files if not \"_normalized\" in x]\n",
    "h5files = [x for x in h5files if not \"McFarland\" in x]"
   ]
  },
  {
   "cell_type": "code",
   "execution_count": 41,
   "metadata": {},
   "outputs": [
    {
     "data": {
      "text/plain": [
       "21"
      ]
     },
     "execution_count": 41,
     "metadata": {},
     "output_type": "execute_result"
    }
   ],
   "source": [
    "len(h5files)"
   ]
  },
  {
   "cell_type": "code",
   "execution_count": 42,
   "metadata": {
    "scrolled": true
   },
   "outputs": [
    {
     "data": {
      "text/plain": [
       "['/n/data1/hms/cellbio/sander/judy/resource_paper/GasperiniShendure2019/highMOI/GasperiniShendure2019_highMOI.h5',\n",
       " '/n/data1/hms/cellbio/sander/judy/resource_paper/GasperiniShendure2019/lowMOI/GasperiniShendure2019_lowMOI.h5',\n",
       " '/n/data1/hms/cellbio/sander/judy/resource_paper/GasperiniShendure2019/atscale/GasperiniShendure2019_atscale.h5',\n",
       " '/n/data1/hms/cellbio/sander/judy/resource_paper/TianKampmann2021/CRISPRi/CRISPRi1/TianKampmann2021_CRISPRi1.h5',\n",
       " '/n/data1/hms/cellbio/sander/judy/resource_paper/TianKampmann2021/CRISPRi/CRISPRi4/TianKampmann2021_CRISPRi4.h5',\n",
       " '/n/data1/hms/cellbio/sander/judy/resource_paper/TianKampmann2021/CRISPRi/CRISPRi3/TianKampmann2021_CRISPRi3.h5',\n",
       " '/n/data1/hms/cellbio/sander/judy/resource_paper/TianKampmann2021/CRISPRi/CRISPRi2/TianKampmann2021_CRISPRi2.h5',\n",
       " '/n/data1/hms/cellbio/sander/judy/resource_paper/TianKampmann2021/CRISPRa/CRISPRa1/TianKampmann2021_CRISPRa1.h5',\n",
       " '/n/data1/hms/cellbio/sander/judy/resource_paper/TianKampmann2021/CRISPRa/CRISPRa2/TianKampmann2021_CRISPRa2.h5',\n",
       " '/n/data1/hms/cellbio/sander/judy/resource_paper/NormanWeissman2019/raw/NormanWeissman2019_raw.h5',\n",
       " '/n/data1/hms/cellbio/sander/judy/resource_paper/NormanWeissman2019/filtered/NormanWeissman2019_filtered.h5',\n",
       " '/n/data1/hms/cellbio/sander/judy/resource_paper/PapalexiSatija2021/eccite_arrayed/PapalexiSatija2021_eccite_arrayed_protein.h5',\n",
       " '/n/data1/hms/cellbio/sander/judy/resource_paper/PapalexiSatija2021/eccite_arrayed/PapalexiSatija2021_eccite_arrayed_RNA.h5',\n",
       " '/n/data1/hms/cellbio/sander/judy/resource_paper/PapalexiSatija2021/eccite/PapalexiSatija2021_eccite_RNA.h5',\n",
       " '/n/data1/hms/cellbio/sander/judy/resource_paper/PapalexiSatija2021/eccite/PapalexiSatija2021_eccite_protein.h5',\n",
       " '/n/data1/hms/cellbio/sander/judy/resource_paper/TianKampmann2019/day7neuron/day7neuron1/TianKampmann2019_day7neuron1.h5',\n",
       " '/n/data1/hms/cellbio/sander/judy/resource_paper/TianKampmann2019/day7neuron/day7neuron2/TianKampmann2019_day7neuron2.h5',\n",
       " '/n/data1/hms/cellbio/sander/judy/resource_paper/TianKampmann2019/iPSC/iPSC1/TianKampmann2019_iPSC1.h5',\n",
       " '/n/data1/hms/cellbio/sander/judy/resource_paper/TianKampmann2019/iPSC/iPSC2/TianKampmann2019_iPSC2.h5',\n",
       " '/n/data1/hms/cellbio/sander/judy/resource_paper/FrangiehIzar2021/FrangiehIzar2021/FrangiehIzar2021_RNA.h5',\n",
       " '/n/data1/hms/cellbio/sander/judy/resource_paper/FrangiehIzar2021/FrangiehIzar2021/FrangiehIzar2021_protein.h5']"
      ]
     },
     "execution_count": 42,
     "metadata": {},
     "output_type": "execute_result"
    }
   ],
   "source": [
    "h5files"
   ]
  },
  {
   "cell_type": "code",
   "execution_count": 4,
   "metadata": {},
   "outputs": [],
   "source": [
    "def qc_h5(h5file, writeadata=False):\n",
    "    directory = \"/\".join(h5file.split(\"/\")[:-1])\n",
    "    prefix = h5file.split(\"/\")[-1].split(\".\")[0]\n",
    "    adata = sc.read_h5ad(h5file)\n",
    "    adata.var.index = adata.var.index.astype(\"str\")\n",
    "    adata.obs.index = adata.obs.index.astype(\"str\")\n",
    "    adata.obs_names_make_unique()\n",
    "    adata.var_names_make_unique()\n",
    "    \n",
    "    ## Perturbation-wise\n",
    "\n",
    "    # #of perturbations\n",
    "#     perturbations = list(set(adata.obs.perturbation))\n",
    "#     perturbations.remove(\"control\")\n",
    "#     n_pert = len(perturbations) \n",
    "#     # cells per perturbations\n",
    "#     n_cell_per_pert = adata.obs.perturbation.value_counts()\n",
    "    # cells with 0,1,2... targets\n",
    "    n_pert_per_cell = [0 if x==\"control\" else len(x.split(\"_\")) for x in adata.obs.perturbation]\n",
    "    adata.obs[\"nperts\"] = n_pert_per_cell\n",
    "#     dfperts = {\"n_counts\":n_cell_per_pert}\n",
    "#     dfperts = pd.DataFrame(dfperts)\n",
    "    \n",
    "    ## Cell-wise\n",
    "\n",
    "    # #of genes expressed\n",
    "    n_genes_per_cell = [x[0] for x in (adata.X>0).sum(1).tolist()]\n",
    "    adata.obs[\"ngenes\"] = n_genes_per_cell\n",
    "    # #of counts in total\n",
    "    n_counts_per_cell = [x[0] for x in adata.X.sum(1).tolist()]\n",
    "    adata.obs[\"ncounts\"] = n_counts_per_cell\n",
    "    # percentage of mitochondria genes\n",
    "    mtgenes = [x for x in adata.var.index if x.upper().startswith(\"MT-\")]\n",
    "    n_mtgenecounts_per_cell = [x[0] for x in adata.X[:,np.isin(adata.var.index, mtgenes)].sum(1).tolist()]\n",
    "    n_perc_mtgenes = np.array(n_mtgenecounts_per_cell)/np.array(n_counts_per_cell)*100\n",
    "    adata.obs[\"percent_mito\"] = n_perc_mtgenes\n",
    "    # percentage of ribosomal genes\n",
    "    ribogenes = [x for x in adata.var.index if x.upper().startswith(\"RPS\") or x.upper().startswith(\"RPL\")]\n",
    "    n_ribogenecounts_per_cell = [x[0] for x in adata.X[:,np.isin(adata.var.index, ribogenes)].sum(1).tolist()]\n",
    "    n_perc_ribogenes = np.array(n_ribogenecounts_per_cell)/np.array(n_counts_per_cell)*100\n",
    "    adata.obs[\"percent_ribo\"] = n_perc_ribogenes\n",
    "    # percentage of hemoglobin genes\n",
    "    if \"primary\" in list(adata.obs.tissue_type):\n",
    "        hemogenes = [x for x in adata.var.index if x.upper().startswith(\"HBA\") or x.upper().startswith(\"HBB\")]\n",
    "        n_hemogenecounts_per_cell = [x[0] for x in adata.X[:,np.isin(adata.var.index, hemogenes)].sum(1).tolist()]\n",
    "        n_perc_hemogenes = np.array(n_hemogenecounts_per_cell)/np.array(n_counts_per_cell)*100\n",
    "        adata.obs[\"percent_hemo\"] = n_perc_hemogenes\n",
    "        #     dfcells = {\"n_pert\":n_pert_per_cell,\"n_genes\":n_genes_per_cell,\"n_counts\":n_counts_per_cell,\n",
    "#            \"n_mtgenecounts\":n_mtgenecounts_per_cell,\"n_perc_mtgenes\":n_perc_mtgenes,\n",
    "#            \"n_ribogenecounts\":n_ribogenecounts_per_cell,\"n_perc_ribogenes\":n_perc_ribogenes,\n",
    "#            \"n_hemogenecounts\":n_hemogenecounts_per_cell,\"n_perc_hemogenes\":n_perc_hemogenes}\n",
    "#     dfcells = pd.DataFrame(dfcells)\n",
    "#     dfcells.index = adata.obs.index\n",
    "    \n",
    "    ## gene-wise\n",
    "\n",
    "    # #of gene counts across all cells\n",
    "    n_genecounts = adata.X.sum(0).tolist()[0]\n",
    "    adata.var[\"ncounts\"] = n_genecounts\n",
    "    # #of cells where gene is expressed\n",
    "    n_cell_genes = (adata.X>0).sum(0).tolist()[0]\n",
    "    adata.var[\"ncells\"] = n_cell_genes\n",
    "#     dfgenes = {\"n_counts\":n_genecounts,\"n_cells\":n_cell_genes}\n",
    "#     dfgenes = pd.DataFrame(dfgenes)\n",
    "#     dfgenes.index = adata.var.index\n",
    "    \n",
    "#     dfperts.to_csv(directory+\"/\"+prefix+\"_perturbation_wise_qc.csv\")\n",
    "#     dfcells.to_csv(directory+\"/\"+prefix+\"_cell_wise_qc.csv\")\n",
    "#     dfgenes.to_csv(directory+\"/\"+prefix+\"_gene_wise_qc.csv\")\n",
    "    \n",
    "#    return dfperts, dfcells, dfgenes\n",
    "    if writeadata:\n",
    "        if os.path.exists(directory+\"/\"+prefix+\"_qc.h5\"):\n",
    "            !rm {directory+\"/\"+prefix+\"_qc.h5\"}\n",
    "        adata.write(directory+\"/\"+prefix+\"_qc.h5\")\n",
    "    else:\n",
    "        return adata"
   ]
  },
  {
   "cell_type": "code",
   "execution_count": 58,
   "metadata": {},
   "outputs": [],
   "source": [
    "adata.var_names_make_unique()"
   ]
  },
  {
   "cell_type": "code",
   "execution_count": 60,
   "metadata": {
    "collapsed": true
   },
   "outputs": [
    {
     "name": "stderr",
     "output_type": "stream",
     "text": [
      "Variable names are not unique. To make them unique, call `.var_names_make_unique`.\n",
      "Variable names are not unique. To make them unique, call `.var_names_make_unique`.\n",
      "Variable names are not unique. To make them unique, call `.var_names_make_unique`.\n",
      "Variable names are not unique. To make them unique, call `.var_names_make_unique`.\n",
      "Variable names are not unique. To make them unique, call `.var_names_make_unique`.\n",
      "Variable names are not unique. To make them unique, call `.var_names_make_unique`.\n",
      "Observation names are not unique. To make them unique, call `.obs_names_make_unique`.\n",
      "Variable names are not unique. To make them unique, call `.var_names_make_unique`.\n",
      "Observation names are not unique. To make them unique, call `.obs_names_make_unique`.\n",
      "Variable names are not unique. To make them unique, call `.var_names_make_unique`.\n",
      "Observation names are not unique. To make them unique, call `.obs_names_make_unique`.\n",
      "Observation names are not unique. To make them unique, call `.obs_names_make_unique`.\n",
      "Variable names are not unique. To make them unique, call `.var_names_make_unique`.\n",
      "/home/cs308/cellbox_analysis/lib/python3.6/site-packages/ipykernel_launcher.py:35: RuntimeWarning: invalid value encountered in true_divide\n",
      "/home/cs308/cellbox_analysis/lib/python3.6/site-packages/ipykernel_launcher.py:40: RuntimeWarning: invalid value encountered in true_divide\n",
      "/home/cs308/cellbox_analysis/lib/python3.6/site-packages/ipykernel_launcher.py:46: RuntimeWarning: invalid value encountered in true_divide\n",
      "Variable names are not unique. To make them unique, call `.var_names_make_unique`.\n",
      "/home/cs308/cellbox_analysis/lib/python3.6/site-packages/ipykernel_launcher.py:35: RuntimeWarning: invalid value encountered in true_divide\n",
      "/home/cs308/cellbox_analysis/lib/python3.6/site-packages/ipykernel_launcher.py:40: RuntimeWarning: invalid value encountered in true_divide\n",
      "/home/cs308/cellbox_analysis/lib/python3.6/site-packages/ipykernel_launcher.py:46: RuntimeWarning: invalid value encountered in true_divide\n",
      "Variable names are not unique. To make them unique, call `.var_names_make_unique`.\n",
      "/home/cs308/cellbox_analysis/lib/python3.6/site-packages/ipykernel_launcher.py:35: RuntimeWarning: invalid value encountered in true_divide\n",
      "/home/cs308/cellbox_analysis/lib/python3.6/site-packages/ipykernel_launcher.py:40: RuntimeWarning: invalid value encountered in true_divide\n",
      "Variable names are not unique. To make them unique, call `.var_names_make_unique`.\n",
      "/home/cs308/cellbox_analysis/lib/python3.6/site-packages/ipykernel_launcher.py:35: RuntimeWarning: invalid value encountered in true_divide\n",
      "/home/cs308/cellbox_analysis/lib/python3.6/site-packages/ipykernel_launcher.py:40: RuntimeWarning: invalid value encountered in true_divide\n",
      "/home/cs308/cellbox_analysis/lib/python3.6/site-packages/ipykernel_launcher.py:35: RuntimeWarning: invalid value encountered in true_divide\n",
      "/home/cs308/cellbox_analysis/lib/python3.6/site-packages/ipykernel_launcher.py:40: RuntimeWarning: invalid value encountered in true_divide\n"
     ]
    }
   ],
   "source": [
    "for h5file in h5files[3:]:\n",
    "    qc_h5(h5file, writeadata=True)"
   ]
  },
  {
   "cell_type": "code",
   "execution_count": 64,
   "metadata": {},
   "outputs": [
    {
     "name": "stderr",
     "output_type": "stream",
     "text": [
      "Observation names are not unique. To make them unique, call `.obs_names_make_unique`.\n"
     ]
    }
   ],
   "source": [
    "mcfarlandh5 = glob.glob('/n/data1/hms/cellbio/sander/judy/resource_paper/McFarlandTshemiak2020/*.h5')\n",
    "qc_h5(mcfarlandh5[0], writeadata=True)"
   ]
  },
  {
   "cell_type": "code",
   "execution_count": 6,
   "metadata": {},
   "outputs": [],
   "source": [
    "h5files = glob.glob(path+\"**/*qc.h5\",recursive=True)\n",
    "h5files = [x for x in h5files if not \"McFarland\" in x]\n",
    "h5files.append('/n/data1/hms/cellbio/sander/judy/resource_paper/McFarlandTshemiak2020/all_expts_combined_qc.h5')"
   ]
  },
  {
   "cell_type": "code",
   "execution_count": 5,
   "metadata": {},
   "outputs": [
    {
     "data": {
      "text/plain": [
       "22"
      ]
     },
     "execution_count": 5,
     "metadata": {},
     "output_type": "execute_result"
    }
   ],
   "source": [
    "len(h5files)"
   ]
  },
  {
   "cell_type": "code",
   "execution_count": 8,
   "metadata": {},
   "outputs": [
    {
     "data": {
      "text/plain": [
       "['/n/data1/hms/cellbio/sander/judy/resource_paper/PapalexiSatija2021/eccite_arrayed/PapalexiSatija2021_eccite_arrayed_protein_qc.h5',\n",
       " '/n/data1/hms/cellbio/sander/judy/resource_paper/PapalexiSatija2021/eccite_arrayed/PapalexiSatija2021_eccite_arrayed_RNA_qc.h5',\n",
       " '/n/data1/hms/cellbio/sander/judy/resource_paper/PapalexiSatija2021/eccite/PapalexiSatija2021_eccite_RNA_qc.h5',\n",
       " '/n/data1/hms/cellbio/sander/judy/resource_paper/PapalexiSatija2021/eccite/PapalexiSatija2021_eccite_protein_qc.h5',\n",
       " '/n/data1/hms/cellbio/sander/judy/resource_paper/FrangiehIzar2021/FrangiehIzar2021/FrangiehIzar2021_protein_qc.h5',\n",
       " '/n/data1/hms/cellbio/sander/judy/resource_paper/FrangiehIzar2021/FrangiehIzar2021/FrangiehIzar2021_RNA_qc.h5']"
      ]
     },
     "execution_count": 8,
     "metadata": {},
     "output_type": "execute_result"
    }
   ],
   "source": [
    "h5files"
   ]
  },
  {
   "cell_type": "code",
   "execution_count": 7,
   "metadata": {},
   "outputs": [
    {
     "name": "stderr",
     "output_type": "stream",
     "text": [
      "Variable names are not unique. To make them unique, call `.var_names_make_unique`.\n",
      "Variable names are not unique. To make them unique, call `.var_names_make_unique`.\n",
      "Variable names are not unique. To make them unique, call `.var_names_make_unique`.\n",
      "/home/cs308/cellbox_analysis/lib/python3.6/site-packages/ipykernel_launcher.py:35: RuntimeWarning: invalid value encountered in true_divide\n",
      "/home/cs308/cellbox_analysis/lib/python3.6/site-packages/ipykernel_launcher.py:40: RuntimeWarning: invalid value encountered in true_divide\n",
      "/home/cs308/cellbox_analysis/lib/python3.6/site-packages/ipykernel_launcher.py:46: RuntimeWarning: invalid value encountered in true_divide\n",
      "Variable names are not unique. To make them unique, call `.var_names_make_unique`.\n",
      "/home/cs308/cellbox_analysis/lib/python3.6/site-packages/ipykernel_launcher.py:35: RuntimeWarning: invalid value encountered in true_divide\n",
      "/home/cs308/cellbox_analysis/lib/python3.6/site-packages/ipykernel_launcher.py:40: RuntimeWarning: invalid value encountered in true_divide\n"
     ]
    }
   ],
   "source": [
    "tians = ['/n/data1/hms/cellbio/sander/judy/resource_paper/TianKampmann2021/CRISPRi/TianKampmann2021_CRISPRi.h5',\n",
    "        '/n/data1/hms/cellbio/sander/judy/resource_paper/TianKampmann2021/CRISPRa/TianKampmann2021_CRISPRa.h5',\n",
    "        '/n/data1/hms/cellbio/sander/judy/resource_paper/TianKampmann2019/day7neuron/TianKampmann2019_day7neuron.h5',\n",
    "        '/n/data1/hms/cellbio/sander/judy/resource_paper/TianKampmann2019/iPSC/TianKampmann2019_iPSC.h5']\n",
    "for h5file in tians:\n",
    "    qc_h5(h5file, writeadata=True)"
   ]
  },
  {
   "cell_type": "code",
   "execution_count": 8,
   "metadata": {},
   "outputs": [
    {
     "name": "stderr",
     "output_type": "stream",
     "text": [
      "/n/data1/hms/cellbio/sander/judy/resource_paper/utils.py:43: UserWarning: /n/data1/hms/cellbio/sander/judy/resource_paper/TianKampmann2021/CRISPRi already exists. Possibly overwriting files...\n",
      "  warn(f'{folder} already exists. Possibly overwriting files...')\n",
      "/n/data1/hms/cellbio/sander/judy/resource_paper/utils.py:43: UserWarning: /n/data1/hms/cellbio/sander/judy/resource_paper/TianKampmann2021/CRISPRa already exists. Possibly overwriting files...\n",
      "  warn(f'{folder} already exists. Possibly overwriting files...')\n",
      "/n/data1/hms/cellbio/sander/judy/resource_paper/utils.py:43: UserWarning: /n/data1/hms/cellbio/sander/judy/resource_paper/TianKampmann2019/day7neuron already exists. Possibly overwriting files...\n",
      "  warn(f'{folder} already exists. Possibly overwriting files...')\n",
      "/n/data1/hms/cellbio/sander/judy/resource_paper/utils.py:43: UserWarning: /n/data1/hms/cellbio/sander/judy/resource_paper/TianKampmann2019/iPSC already exists. Possibly overwriting files...\n",
      "  warn(f'{folder} already exists. Possibly overwriting files...')\n"
     ]
    }
   ],
   "source": [
    "tians = ['/n/data1/hms/cellbio/sander/judy/resource_paper/TianKampmann2021/CRISPRi/TianKampmann2021_CRISPRi_qc.h5',\n",
    "        '/n/data1/hms/cellbio/sander/judy/resource_paper/TianKampmann2021/CRISPRa/TianKampmann2021_CRISPRa_qc.h5',\n",
    "        '/n/data1/hms/cellbio/sander/judy/resource_paper/TianKampmann2019/day7neuron/TianKampmann2019_day7neuron_qc.h5',\n",
    "        '/n/data1/hms/cellbio/sander/judy/resource_paper/TianKampmann2019/iPSC/TianKampmann2019_iPSC_qc.h5']\n",
    "for h5file in tians:\n",
    "    directory = \"/\".join(h5file.split(\"/\")[:-2])\n",
    "    prefix = h5file.split(\"/\")[-2]\n",
    "    adata = sc.read_h5ad(h5file)\n",
    "    write_as_singles(adata,directory,prefix)"
   ]
  },
  {
   "cell_type": "code",
   "execution_count": 12,
   "metadata": {
    "scrolled": true
   },
   "outputs": [
    {
     "name": "stderr",
     "output_type": "stream",
     "text": [
      "/n/data1/hms/cellbio/sander/judy/resource_paper/utils.py:43: UserWarning: /n/data1/hms/cellbio/sander/judy/resource_paper/GasperiniShendure2019/atscale already exists. Possibly overwriting files...\n",
      "  warn(f'{folder} already exists. Possibly overwriting files...')\n",
      "/n/data1/hms/cellbio/sander/judy/resource_paper/utils.py:43: UserWarning: /n/data1/hms/cellbio/sander/judy/resource_paper/TianKampmann2021/CRISPRi/CRISPRi1 already exists. Possibly overwriting files...\n",
      "  warn(f'{folder} already exists. Possibly overwriting files...')\n",
      "/n/data1/hms/cellbio/sander/judy/resource_paper/utils.py:43: UserWarning: /n/data1/hms/cellbio/sander/judy/resource_paper/TianKampmann2021/CRISPRi/CRISPRi4 already exists. Possibly overwriting files...\n",
      "  warn(f'{folder} already exists. Possibly overwriting files...')\n",
      "/n/data1/hms/cellbio/sander/judy/resource_paper/utils.py:43: UserWarning: /n/data1/hms/cellbio/sander/judy/resource_paper/TianKampmann2021/CRISPRi/CRISPRi3 already exists. Possibly overwriting files...\n",
      "  warn(f'{folder} already exists. Possibly overwriting files...')\n",
      "/n/data1/hms/cellbio/sander/judy/resource_paper/utils.py:43: UserWarning: /n/data1/hms/cellbio/sander/judy/resource_paper/TianKampmann2021/CRISPRi/CRISPRi2 already exists. Possibly overwriting files...\n",
      "  warn(f'{folder} already exists. Possibly overwriting files...')\n",
      "/n/data1/hms/cellbio/sander/judy/resource_paper/utils.py:43: UserWarning: /n/data1/hms/cellbio/sander/judy/resource_paper/TianKampmann2021/CRISPRa/CRISPRa1 already exists. Possibly overwriting files...\n",
      "  warn(f'{folder} already exists. Possibly overwriting files...')\n",
      "/n/data1/hms/cellbio/sander/judy/resource_paper/utils.py:43: UserWarning: /n/data1/hms/cellbio/sander/judy/resource_paper/TianKampmann2021/CRISPRa/CRISPRa2 already exists. Possibly overwriting files...\n",
      "  warn(f'{folder} already exists. Possibly overwriting files...')\n",
      "/n/data1/hms/cellbio/sander/judy/resource_paper/utils.py:43: UserWarning: /n/data1/hms/cellbio/sander/judy/resource_paper/NormanWeissman2019/raw already exists. Possibly overwriting files...\n",
      "  warn(f'{folder} already exists. Possibly overwriting files...')\n",
      "/n/data1/hms/cellbio/sander/judy/resource_paper/utils.py:43: UserWarning: /n/data1/hms/cellbio/sander/judy/resource_paper/NormanWeissman2019/filtered already exists. Possibly overwriting files...\n",
      "  warn(f'{folder} already exists. Possibly overwriting files...')\n",
      "/n/data1/hms/cellbio/sander/judy/resource_paper/utils.py:43: UserWarning: /n/data1/hms/cellbio/sander/judy/resource_paper/PapalexiSatija2021/eccite_arrayed already exists. Possibly overwriting files...\n",
      "  warn(f'{folder} already exists. Possibly overwriting files...')\n",
      "/n/data1/hms/cellbio/sander/judy/resource_paper/utils.py:43: UserWarning: /n/data1/hms/cellbio/sander/judy/resource_paper/PapalexiSatija2021/eccite_arrayed/obsm/ already exists. Possibly overwriting files...\n",
      "  warn(f'{folder} already exists. Possibly overwriting files...')\n",
      "/n/data1/hms/cellbio/sander/judy/resource_paper/utils.py:43: UserWarning: /n/data1/hms/cellbio/sander/judy/resource_paper/PapalexiSatija2021/eccite_arrayed/varm/ already exists. Possibly overwriting files...\n",
      "  warn(f'{folder} already exists. Possibly overwriting files...')\n",
      "/n/data1/hms/cellbio/sander/judy/resource_paper/utils.py:43: UserWarning: /n/data1/hms/cellbio/sander/judy/resource_paper/PapalexiSatija2021/eccite already exists. Possibly overwriting files...\n",
      "  warn(f'{folder} already exists. Possibly overwriting files...')\n",
      "/n/data1/hms/cellbio/sander/judy/resource_paper/utils.py:43: UserWarning: /n/data1/hms/cellbio/sander/judy/resource_paper/PapalexiSatija2021/eccite/obsm/ already exists. Possibly overwriting files...\n",
      "  warn(f'{folder} already exists. Possibly overwriting files...')\n",
      "/n/data1/hms/cellbio/sander/judy/resource_paper/utils.py:43: UserWarning: /n/data1/hms/cellbio/sander/judy/resource_paper/PapalexiSatija2021/eccite/varm/ already exists. Possibly overwriting files...\n",
      "  warn(f'{folder} already exists. Possibly overwriting files...')\n",
      "/n/data1/hms/cellbio/sander/judy/resource_paper/utils.py:43: UserWarning: /n/data1/hms/cellbio/sander/judy/resource_paper/TianKampmann2019/day7neuron/day7neuron1 already exists. Possibly overwriting files...\n",
      "  warn(f'{folder} already exists. Possibly overwriting files...')\n",
      "/n/data1/hms/cellbio/sander/judy/resource_paper/utils.py:43: UserWarning: /n/data1/hms/cellbio/sander/judy/resource_paper/TianKampmann2019/day7neuron/day7neuron2 already exists. Possibly overwriting files...\n",
      "  warn(f'{folder} already exists. Possibly overwriting files...')\n",
      "/n/data1/hms/cellbio/sander/judy/resource_paper/utils.py:43: UserWarning: /n/data1/hms/cellbio/sander/judy/resource_paper/TianKampmann2019/iPSC/iPSC1 already exists. Possibly overwriting files...\n",
      "  warn(f'{folder} already exists. Possibly overwriting files...')\n",
      "/n/data1/hms/cellbio/sander/judy/resource_paper/utils.py:43: UserWarning: /n/data1/hms/cellbio/sander/judy/resource_paper/TianKampmann2019/iPSC/iPSC2 already exists. Possibly overwriting files...\n",
      "  warn(f'{folder} already exists. Possibly overwriting files...')\n",
      "/n/data1/hms/cellbio/sander/judy/resource_paper/utils.py:43: UserWarning: /n/data1/hms/cellbio/sander/judy/resource_paper/FrangiehIzar2021/FrangiehIzar2021 already exists. Possibly overwriting files...\n",
      "  warn(f'{folder} already exists. Possibly overwriting files...')\n",
      "/n/data1/hms/cellbio/sander/judy/resource_paper/utils.py:43: UserWarning: /n/data1/hms/cellbio/sander/judy/resource_paper/FrangiehIzar2021/FrangiehIzar2021/obsm/ already exists. Possibly overwriting files...\n",
      "  warn(f'{folder} already exists. Possibly overwriting files...')\n",
      "/n/data1/hms/cellbio/sander/judy/resource_paper/utils.py:43: UserWarning: /n/data1/hms/cellbio/sander/judy/resource_paper/FrangiehIzar2021/FrangiehIzar2021/varm/ already exists. Possibly overwriting files...\n",
      "  warn(f'{folder} already exists. Possibly overwriting files...')\n",
      "/n/data1/hms/cellbio/sander/judy/resource_paper/utils.py:43: UserWarning: /n/data1/hms/cellbio/sander/judy/resource_paper/McFarlandTshemiak2020 already exists. Possibly overwriting files...\n",
      "  warn(f'{folder} already exists. Possibly overwriting files...')\n"
     ]
    }
   ],
   "source": [
    "for h5file in h5files[2:]:\n",
    "    if \"_protein\" in h5file:\n",
    "        directory = \"/\".join(h5file.split(\"/\")[:-1])\n",
    "        prefix = \"protein\"\n",
    "    elif \"_RNA\" in h5file:\n",
    "        directory = \"/\".join(h5file.split(\"/\")[:-1])\n",
    "        prefix = \"RNA\"\n",
    "    else:\n",
    "        directory = \"/\".join(h5file.split(\"/\")[:-2])\n",
    "        prefix = h5file.split(\"/\")[-2]\n",
    "    adata = sc.read_h5ad(h5file)\n",
    "    write_as_singles(adata,directory,prefix)"
   ]
  },
  {
   "cell_type": "code",
   "execution_count": 11,
   "metadata": {},
   "outputs": [],
   "source": [
    "for h5file in h5files:\n",
    "    directory = \"/\".join(h5file.split(\"/\")[:-1])\n",
    "    if \"_protein\" in h5file:\n",
    "        prefix = \"protein\"\n",
    "    if \"_RNA\" in h5file:\n",
    "        prefix = \"RNA\"\n",
    "    #print(directory)\n",
    "    #print(prefix)\n",
    "    adata = sc.read_h5ad(h5file)\n",
    "    write_as_singles(adata,directory,prefix,add_h5=True)"
   ]
  },
  {
   "cell_type": "code",
   "execution_count": 4,
   "metadata": {},
   "outputs": [],
   "source": [
    "obss = glob.glob(path+\"**/obs.csv\",recursive=True)"
   ]
  },
  {
   "cell_type": "code",
   "execution_count": 5,
   "metadata": {},
   "outputs": [
    {
     "data": {
      "text/plain": [
       "['/n/data1/hms/cellbio/sander/judy/resource_paper/GasperiniShendure2019/highMOI/obs.csv',\n",
       " '/n/data1/hms/cellbio/sander/judy/resource_paper/GasperiniShendure2019/lowMOI/obs.csv',\n",
       " '/n/data1/hms/cellbio/sander/judy/resource_paper/GasperiniShendure2019/atscale/obs.csv',\n",
       " '/n/data1/hms/cellbio/sander/judy/resource_paper/TianKampmann2021/CRISPRi/CRISPRi1/obs.csv',\n",
       " '/n/data1/hms/cellbio/sander/judy/resource_paper/TianKampmann2021/CRISPRi/CRISPRi4/obs.csv',\n",
       " '/n/data1/hms/cellbio/sander/judy/resource_paper/TianKampmann2021/CRISPRi/CRISPRi3/obs.csv',\n",
       " '/n/data1/hms/cellbio/sander/judy/resource_paper/TianKampmann2021/CRISPRi/CRISPRi2/obs.csv',\n",
       " '/n/data1/hms/cellbio/sander/judy/resource_paper/TianKampmann2021/CRISPRa/CRISPRa1/obs.csv',\n",
       " '/n/data1/hms/cellbio/sander/judy/resource_paper/TianKampmann2021/CRISPRa/CRISPRa2/obs.csv',\n",
       " '/n/data1/hms/cellbio/sander/judy/resource_paper/McFarlandTshemiak2020/obs.csv',\n",
       " '/n/data1/hms/cellbio/sander/judy/resource_paper/NormanWeissman2019/raw/obs.csv',\n",
       " '/n/data1/hms/cellbio/sander/judy/resource_paper/NormanWeissman2019/filtered/obs.csv',\n",
       " '/n/data1/hms/cellbio/sander/judy/resource_paper/PapalexiSatija2021/eccite_arrayed/protein/obs.csv',\n",
       " '/n/data1/hms/cellbio/sander/judy/resource_paper/PapalexiSatija2021/eccite_arrayed/RNA/obs.csv',\n",
       " '/n/data1/hms/cellbio/sander/judy/resource_paper/PapalexiSatija2021/eccite/protein/obs.csv',\n",
       " '/n/data1/hms/cellbio/sander/judy/resource_paper/PapalexiSatija2021/eccite/RNA/obs.csv',\n",
       " '/n/data1/hms/cellbio/sander/judy/resource_paper/TianKampmann2019/day7neuron/day7neuron1/obs.csv',\n",
       " '/n/data1/hms/cellbio/sander/judy/resource_paper/TianKampmann2019/day7neuron/day7neuron2/obs.csv',\n",
       " '/n/data1/hms/cellbio/sander/judy/resource_paper/TianKampmann2019/iPSC/iPSC1/obs.csv',\n",
       " '/n/data1/hms/cellbio/sander/judy/resource_paper/TianKampmann2019/iPSC/iPSC2/obs.csv',\n",
       " '/n/data1/hms/cellbio/sander/judy/resource_paper/FrangiehIzar2021/FrangiehIzar2021/protein/obs.csv',\n",
       " '/n/data1/hms/cellbio/sander/judy/resource_paper/FrangiehIzar2021/FrangiehIzar2021/RNA/obs.csv']"
      ]
     },
     "execution_count": 5,
     "metadata": {},
     "output_type": "execute_result"
    }
   ],
   "source": [
    "obss"
   ]
  },
  {
   "cell_type": "code",
   "execution_count": 18,
   "metadata": {},
   "outputs": [],
   "source": [
    "h5files=[]\n",
    "for obs in obss:\n",
    "    if \"RNA\" in obs:\n",
    "        directory = '/'.join(obs.split(\"/\")[:-2])\n",
    "        h5file = glob.glob(directory+\"/*RNA_qc.h5\")\n",
    "    elif \"protein\" in obs:\n",
    "        directory = '/'.join(obs.split(\"/\")[:-2])\n",
    "        h5file = glob.glob(directory+\"/*protein_qc.h5\")\n",
    "    else:\n",
    "        directory = '/'.join(obs.split(\"/\")[:-1])\n",
    "        h5file = glob.glob(directory+\"/*_qc.h5\")\n",
    "    h5files.append(h5file[0])"
   ]
  },
  {
   "cell_type": "code",
   "execution_count": 21,
   "metadata": {},
   "outputs": [
    {
     "data": {
      "text/plain": [
       "['/n/data1/hms/cellbio/sander/judy/resource_paper/GasperiniShendure2019/highMOI/GasperiniShendure2019_highMOI_qc.h5',\n",
       " '/n/data1/hms/cellbio/sander/judy/resource_paper/GasperiniShendure2019/lowMOI/GasperiniShendure2019_lowMOI_qc.h5',\n",
       " '/n/data1/hms/cellbio/sander/judy/resource_paper/GasperiniShendure2019/atscale/GasperiniShendure2019_atscale_qc.h5',\n",
       " '/n/data1/hms/cellbio/sander/judy/resource_paper/TianKampmann2021/CRISPRi/CRISPRi1/TianKampmann2021_CRISPRi1_qc.h5',\n",
       " '/n/data1/hms/cellbio/sander/judy/resource_paper/TianKampmann2021/CRISPRi/CRISPRi4/TianKampmann2021_CRISPRi4_qc.h5',\n",
       " '/n/data1/hms/cellbio/sander/judy/resource_paper/TianKampmann2021/CRISPRi/CRISPRi3/TianKampmann2021_CRISPRi3_qc.h5',\n",
       " '/n/data1/hms/cellbio/sander/judy/resource_paper/TianKampmann2021/CRISPRi/CRISPRi2/TianKampmann2021_CRISPRi2_qc.h5',\n",
       " '/n/data1/hms/cellbio/sander/judy/resource_paper/TianKampmann2021/CRISPRa/CRISPRa1/TianKampmann2021_CRISPRa1_qc.h5',\n",
       " '/n/data1/hms/cellbio/sander/judy/resource_paper/TianKampmann2021/CRISPRa/CRISPRa2/TianKampmann2021_CRISPRa2_qc.h5',\n",
       " '/n/data1/hms/cellbio/sander/judy/resource_paper/McFarlandTshemiak2020/all_expts_combined_qc.h5',\n",
       " '/n/data1/hms/cellbio/sander/judy/resource_paper/NormanWeissman2019/raw/NormanWeissman2019_raw_qc.h5',\n",
       " '/n/data1/hms/cellbio/sander/judy/resource_paper/NormanWeissman2019/filtered/NormanWeissman2019_filtered_qc.h5',\n",
       " '/n/data1/hms/cellbio/sander/judy/resource_paper/PapalexiSatija2021/eccite_arrayed/PapalexiSatija2021_eccite_arrayed_protein_qc.h5',\n",
       " '/n/data1/hms/cellbio/sander/judy/resource_paper/PapalexiSatija2021/eccite_arrayed/PapalexiSatija2021_eccite_arrayed_RNA_qc.h5',\n",
       " '/n/data1/hms/cellbio/sander/judy/resource_paper/PapalexiSatija2021/eccite/PapalexiSatija2021_eccite_protein_qc.h5',\n",
       " '/n/data1/hms/cellbio/sander/judy/resource_paper/PapalexiSatija2021/eccite/PapalexiSatija2021_eccite_RNA_qc.h5',\n",
       " '/n/data1/hms/cellbio/sander/judy/resource_paper/TianKampmann2019/day7neuron/day7neuron1/TianKampmann2019_day7neuron1_qc.h5',\n",
       " '/n/data1/hms/cellbio/sander/judy/resource_paper/TianKampmann2019/day7neuron/day7neuron2/TianKampmann2019_day7neuron2_qc.h5',\n",
       " '/n/data1/hms/cellbio/sander/judy/resource_paper/TianKampmann2019/iPSC/iPSC1/TianKampmann2019_iPSC1_qc.h5',\n",
       " '/n/data1/hms/cellbio/sander/judy/resource_paper/TianKampmann2019/iPSC/iPSC2/TianKampmann2019_iPSC2_qc.h5',\n",
       " '/n/data1/hms/cellbio/sander/judy/resource_paper/FrangiehIzar2021/FrangiehIzar2021/FrangiehIzar2021_protein_qc.h5',\n",
       " '/n/data1/hms/cellbio/sander/judy/resource_paper/FrangiehIzar2021/FrangiehIzar2021/FrangiehIzar2021_RNA_qc.h5']"
      ]
     },
     "execution_count": 21,
     "metadata": {},
     "output_type": "execute_result"
    }
   ],
   "source": [
    "h5files"
   ]
  },
  {
   "cell_type": "code",
   "execution_count": 38,
   "metadata": {},
   "outputs": [
    {
     "name": "stdout",
     "output_type": "stream",
     "text": [
      "which: no shasum in (/home/cs308/cellbox_analysis/bin:/n/app/R/3.6.1/bin:/n/app/pango/1.40.3/include:/n/app/pango/1.40.3/bin:/n/app/cairo/1.14.6/include/cairo:/n/app/cairo/1.14.6/bin:/n/app/harfbuzz/1.3.4/bin:/n/app/fontconfig/2.12.1/bin:/n/app/libffi/3.2.1/lib/libffi-3.2.1/include:/n/app/freetype/2.7/include/freetype2:/n/app/freetype/2.7/bin:/n/app/libxml2/2.9.4/include/libxml2:/n/app/libxml2/2.9.4/bin:/n/app/glib/2.50.2/bin:/n/app/hdf5/1.10.1/include:/n/app/hdf5/1.10.1/bin:/n/app/gsl/2.3/include:/n/app/gsl/2.3/bin:/n/app/boost/1.62.0/include:/n/app/xz/5.2.3/include:/n/app/xz/5.2.3/bin:/n/app/pixman/0.34.0/include/pixman-1:/n/app/pixman/0.34.0/include:/n/app/tiff/4.0.7/include:/n/app/tiff/4.0.7/bin:/n/app/libpng/1.6.26/include:/n/app/libpng/1.6.26/bin:/n/app/jpeg/9b/include:/n/app/jpeg/9b/bin:/n/app/java/jdk-1.8u112/bin:/n/app/openblas/0.2.19/include:/n/app/python/3.6.0/include:/n/app/python/3.6.0/bin:/n/app/gcc/6.2.0/bin:/n/groups/marks/software/anaconda_o2/bin:/n/cluster/bin:/opt/singularity/bin:/n/groups/marks/software/anaconda_o2/bin:/n/cluster/bin:/opt/singularity/bin:/n/groups/marks/software/anaconda_o2/bin:/n/cluster/bin:/opt/singularity/bin:/n/groups/marks/software/anaconda_o2/bin:/usr/local/rvm/gems/ruby-2.4.9/bin:/usr/local/rvm/gems/ruby-2.4.9@global/bin:/usr/local/rvm/rubies/ruby-2.4.9/bin:/n/cluster/bin:/opt/singularity/bin:/usr/local/bin:/usr/bin:/opt/puppetlabs/bin:/usr/local/rvm/bin:/usr/local/sbin:/usr/sbin:/home/cs308/.local/bin:/home/cs308/bin:/home/cs308/julia-1.5.3/bin:/home/cs308/.local/bin:/home/cs308/bin:/home/cs308/julia-1.5.3/bin)\n",
      " > Uploading \"/n/data1/hms/cellbio/sander/judy/resource_paper/GasperiniShendure2019/highMOI/GasperiniShendure2019_highMOI_qc.h5\" to \"/GasperiniShendure2019/highMOI/GasperiniShendure2019_highMOI.h5\" by 29 chunks ............................. DONE\n",
      " > Uploading \"/n/data1/hms/cellbio/sander/judy/resource_paper/GasperiniShendure2019/highMOI/obs.csv\" to \"/GasperiniShendure2019/highMOI/obs.csv\"... DONE\n",
      " > Uploading \"/n/data1/hms/cellbio/sander/judy/resource_paper/GasperiniShendure2019/highMOI/var.csv\" to \"/GasperiniShendure2019/highMOI/var.csv\"... DONE\n",
      " > Uploading \"/n/data1/hms/cellbio/sander/judy/resource_paper/GasperiniShendure2019/highMOI/counts.mtx.gz\" to \"/GasperiniShendure2019/highMOI/counts.mtx.gz\" by 10 chunks .......... DONE\n",
      "which: no shasum in (/home/cs308/cellbox_analysis/bin:/n/app/R/3.6.1/bin:/n/app/pango/1.40.3/include:/n/app/pango/1.40.3/bin:/n/app/cairo/1.14.6/include/cairo:/n/app/cairo/1.14.6/bin:/n/app/harfbuzz/1.3.4/bin:/n/app/fontconfig/2.12.1/bin:/n/app/libffi/3.2.1/lib/libffi-3.2.1/include:/n/app/freetype/2.7/include/freetype2:/n/app/freetype/2.7/bin:/n/app/libxml2/2.9.4/include/libxml2:/n/app/libxml2/2.9.4/bin:/n/app/glib/2.50.2/bin:/n/app/hdf5/1.10.1/include:/n/app/hdf5/1.10.1/bin:/n/app/gsl/2.3/include:/n/app/gsl/2.3/bin:/n/app/boost/1.62.0/include:/n/app/xz/5.2.3/include:/n/app/xz/5.2.3/bin:/n/app/pixman/0.34.0/include/pixman-1:/n/app/pixman/0.34.0/include:/n/app/tiff/4.0.7/include:/n/app/tiff/4.0.7/bin:/n/app/libpng/1.6.26/include:/n/app/libpng/1.6.26/bin:/n/app/jpeg/9b/include:/n/app/jpeg/9b/bin:/n/app/java/jdk-1.8u112/bin:/n/app/openblas/0.2.19/include:/n/app/python/3.6.0/include:/n/app/python/3.6.0/bin:/n/app/gcc/6.2.0/bin:/n/groups/marks/software/anaconda_o2/bin:/n/cluster/bin:/opt/singularity/bin:/n/groups/marks/software/anaconda_o2/bin:/n/cluster/bin:/opt/singularity/bin:/n/groups/marks/software/anaconda_o2/bin:/n/cluster/bin:/opt/singularity/bin:/n/groups/marks/software/anaconda_o2/bin:/usr/local/rvm/gems/ruby-2.4.9/bin:/usr/local/rvm/gems/ruby-2.4.9@global/bin:/usr/local/rvm/rubies/ruby-2.4.9/bin:/n/cluster/bin:/opt/singularity/bin:/usr/local/bin:/usr/bin:/opt/puppetlabs/bin:/usr/local/rvm/bin:/usr/local/sbin:/usr/sbin:/home/cs308/.local/bin:/home/cs308/bin:/home/cs308/julia-1.5.3/bin:/home/cs308/.local/bin:/home/cs308/bin:/home/cs308/julia-1.5.3/bin)\n",
      " > Uploading \"/n/data1/hms/cellbio/sander/judy/resource_paper/GasperiniShendure2019/lowMOI/GasperiniShendure2019_lowMOI_qc.h5\" to \"/GasperiniShendure2019/lowMOI/GasperiniShendure2019_lowMOI.h5\" by 24 chunks ........................ DONE\n",
      " > Uploading \"/n/data1/hms/cellbio/sander/judy/resource_paper/GasperiniShendure2019/lowMOI/obs.csv\" to \"/GasperiniShendure2019/lowMOI/obs.csv\"... DONE\n",
      " > Uploading \"/n/data1/hms/cellbio/sander/judy/resource_paper/GasperiniShendure2019/lowMOI/var.csv\" to \"/GasperiniShendure2019/lowMOI/var.csv\"... DONE\n",
      " > Uploading \"/n/data1/hms/cellbio/sander/judy/resource_paper/GasperiniShendure2019/lowMOI/counts.mtx.gz\" to \"/GasperiniShendure2019/lowMOI/counts.mtx.gz\" by 9 chunks ......... DONE\n",
      "which: no shasum in (/home/cs308/cellbox_analysis/bin:/n/app/R/3.6.1/bin:/n/app/pango/1.40.3/include:/n/app/pango/1.40.3/bin:/n/app/cairo/1.14.6/include/cairo:/n/app/cairo/1.14.6/bin:/n/app/harfbuzz/1.3.4/bin:/n/app/fontconfig/2.12.1/bin:/n/app/libffi/3.2.1/lib/libffi-3.2.1/include:/n/app/freetype/2.7/include/freetype2:/n/app/freetype/2.7/bin:/n/app/libxml2/2.9.4/include/libxml2:/n/app/libxml2/2.9.4/bin:/n/app/glib/2.50.2/bin:/n/app/hdf5/1.10.1/include:/n/app/hdf5/1.10.1/bin:/n/app/gsl/2.3/include:/n/app/gsl/2.3/bin:/n/app/boost/1.62.0/include:/n/app/xz/5.2.3/include:/n/app/xz/5.2.3/bin:/n/app/pixman/0.34.0/include/pixman-1:/n/app/pixman/0.34.0/include:/n/app/tiff/4.0.7/include:/n/app/tiff/4.0.7/bin:/n/app/libpng/1.6.26/include:/n/app/libpng/1.6.26/bin:/n/app/jpeg/9b/include:/n/app/jpeg/9b/bin:/n/app/java/jdk-1.8u112/bin:/n/app/openblas/0.2.19/include:/n/app/python/3.6.0/include:/n/app/python/3.6.0/bin:/n/app/gcc/6.2.0/bin:/n/groups/marks/software/anaconda_o2/bin:/n/cluster/bin:/opt/singularity/bin:/n/groups/marks/software/anaconda_o2/bin:/n/cluster/bin:/opt/singularity/bin:/n/groups/marks/software/anaconda_o2/bin:/n/cluster/bin:/opt/singularity/bin:/n/groups/marks/software/anaconda_o2/bin:/usr/local/rvm/gems/ruby-2.4.9/bin:/usr/local/rvm/gems/ruby-2.4.9@global/bin:/usr/local/rvm/rubies/ruby-2.4.9/bin:/n/cluster/bin:/opt/singularity/bin:/usr/local/bin:/usr/bin:/opt/puppetlabs/bin:/usr/local/rvm/bin:/usr/local/sbin:/usr/sbin:/home/cs308/.local/bin:/home/cs308/bin:/home/cs308/julia-1.5.3/bin:/home/cs308/.local/bin:/home/cs308/bin:/home/cs308/julia-1.5.3/bin)\n",
      " > Uploading \"/n/data1/hms/cellbio/sander/judy/resource_paper/GasperiniShendure2019/atscale/GasperiniShendure2019_atscale_qc.h5\" to \"/GasperiniShendure2019/atscale/GasperiniShendure2019_atscale.h5\" by 117 chunks ..................................................................................................................... DONE\n",
      " > Uploading \"/n/data1/hms/cellbio/sander/judy/resource_paper/GasperiniShendure2019/atscale/obs.csv\" to \"/GasperiniShendure2019/atscale/obs.csv\" by 11 chunks ........... DONE\n",
      " > Uploading \"/n/data1/hms/cellbio/sander/judy/resource_paper/GasperiniShendure2019/atscale/var.csv\" to \"/GasperiniShendure2019/atscale/var.csv\"... DONE\n",
      " > Uploading \"/n/data1/hms/cellbio/sander/judy/resource_paper/GasperiniShendure2019/atscale/counts.mtx.gz\" to \"/GasperiniShendure2019/atscale/counts.mtx.gz\" by 40 chunks ........................................ DONE\n",
      "which: no shasum in (/home/cs308/cellbox_analysis/bin:/n/app/R/3.6.1/bin:/n/app/pango/1.40.3/include:/n/app/pango/1.40.3/bin:/n/app/cairo/1.14.6/include/cairo:/n/app/cairo/1.14.6/bin:/n/app/harfbuzz/1.3.4/bin:/n/app/fontconfig/2.12.1/bin:/n/app/libffi/3.2.1/lib/libffi-3.2.1/include:/n/app/freetype/2.7/include/freetype2:/n/app/freetype/2.7/bin:/n/app/libxml2/2.9.4/include/libxml2:/n/app/libxml2/2.9.4/bin:/n/app/glib/2.50.2/bin:/n/app/hdf5/1.10.1/include:/n/app/hdf5/1.10.1/bin:/n/app/gsl/2.3/include:/n/app/gsl/2.3/bin:/n/app/boost/1.62.0/include:/n/app/xz/5.2.3/include:/n/app/xz/5.2.3/bin:/n/app/pixman/0.34.0/include/pixman-1:/n/app/pixman/0.34.0/include:/n/app/tiff/4.0.7/include:/n/app/tiff/4.0.7/bin:/n/app/libpng/1.6.26/include:/n/app/libpng/1.6.26/bin:/n/app/jpeg/9b/include:/n/app/jpeg/9b/bin:/n/app/java/jdk-1.8u112/bin:/n/app/openblas/0.2.19/include:/n/app/python/3.6.0/include:/n/app/python/3.6.0/bin:/n/app/gcc/6.2.0/bin:/n/groups/marks/software/anaconda_o2/bin:/n/cluster/bin:/opt/singularity/bin:/n/groups/marks/software/anaconda_o2/bin:/n/cluster/bin:/opt/singularity/bin:/n/groups/marks/software/anaconda_o2/bin:/n/cluster/bin:/opt/singularity/bin:/n/groups/marks/software/anaconda_o2/bin:/usr/local/rvm/gems/ruby-2.4.9/bin:/usr/local/rvm/gems/ruby-2.4.9@global/bin:/usr/local/rvm/rubies/ruby-2.4.9/bin:/n/cluster/bin:/opt/singularity/bin:/usr/local/bin:/usr/bin:/opt/puppetlabs/bin:/usr/local/rvm/bin:/usr/local/sbin:/usr/sbin:/home/cs308/.local/bin:/home/cs308/bin:/home/cs308/julia-1.5.3/bin:/home/cs308/.local/bin:/home/cs308/bin:/home/cs308/julia-1.5.3/bin)\n"
     ]
    },
    {
     "name": "stdout",
     "output_type": "stream",
     "text": [
      " > Uploading \"/n/data1/hms/cellbio/sander/judy/resource_paper/TianKampmann2021/CRISPRi/CRISPRi1/TianKampmann2021_CRISPRi1_qc.h5\" to \"/TianKampmann2021/CRISPRi/CRISPRi1/TianKampmann2021_CRISPRi1.h5\" by 6 chunks ...... DONE\n",
      " > Uploading \"/n/data1/hms/cellbio/sander/judy/resource_paper/TianKampmann2021/CRISPRi/CRISPRi1/obs.csv\" to \"/TianKampmann2021/CRISPRi/CRISPRi1/obs.csv\"... DONE\n",
      " > Uploading \"/n/data1/hms/cellbio/sander/judy/resource_paper/TianKampmann2021/CRISPRi/CRISPRi1/var.csv\" to \"/TianKampmann2021/CRISPRi/CRISPRi1/var.csv\"... DONE\n",
      " > Uploading \"/n/data1/hms/cellbio/sander/judy/resource_paper/TianKampmann2021/CRISPRi/CRISPRi1/counts.mtx.gz\" to \"/TianKampmann2021/CRISPRi/CRISPRi1/counts.mtx.gz\"... DONE\n",
      "which: no shasum in (/home/cs308/cellbox_analysis/bin:/n/app/R/3.6.1/bin:/n/app/pango/1.40.3/include:/n/app/pango/1.40.3/bin:/n/app/cairo/1.14.6/include/cairo:/n/app/cairo/1.14.6/bin:/n/app/harfbuzz/1.3.4/bin:/n/app/fontconfig/2.12.1/bin:/n/app/libffi/3.2.1/lib/libffi-3.2.1/include:/n/app/freetype/2.7/include/freetype2:/n/app/freetype/2.7/bin:/n/app/libxml2/2.9.4/include/libxml2:/n/app/libxml2/2.9.4/bin:/n/app/glib/2.50.2/bin:/n/app/hdf5/1.10.1/include:/n/app/hdf5/1.10.1/bin:/n/app/gsl/2.3/include:/n/app/gsl/2.3/bin:/n/app/boost/1.62.0/include:/n/app/xz/5.2.3/include:/n/app/xz/5.2.3/bin:/n/app/pixman/0.34.0/include/pixman-1:/n/app/pixman/0.34.0/include:/n/app/tiff/4.0.7/include:/n/app/tiff/4.0.7/bin:/n/app/libpng/1.6.26/include:/n/app/libpng/1.6.26/bin:/n/app/jpeg/9b/include:/n/app/jpeg/9b/bin:/n/app/java/jdk-1.8u112/bin:/n/app/openblas/0.2.19/include:/n/app/python/3.6.0/include:/n/app/python/3.6.0/bin:/n/app/gcc/6.2.0/bin:/n/groups/marks/software/anaconda_o2/bin:/n/cluster/bin:/opt/singularity/bin:/n/groups/marks/software/anaconda_o2/bin:/n/cluster/bin:/opt/singularity/bin:/n/groups/marks/software/anaconda_o2/bin:/n/cluster/bin:/opt/singularity/bin:/n/groups/marks/software/anaconda_o2/bin:/usr/local/rvm/gems/ruby-2.4.9/bin:/usr/local/rvm/gems/ruby-2.4.9@global/bin:/usr/local/rvm/rubies/ruby-2.4.9/bin:/n/cluster/bin:/opt/singularity/bin:/usr/local/bin:/usr/bin:/opt/puppetlabs/bin:/usr/local/rvm/bin:/usr/local/sbin:/usr/sbin:/home/cs308/.local/bin:/home/cs308/bin:/home/cs308/julia-1.5.3/bin:/home/cs308/.local/bin:/home/cs308/bin:/home/cs308/julia-1.5.3/bin)\n",
      " > Uploading \"/n/data1/hms/cellbio/sander/judy/resource_paper/TianKampmann2021/CRISPRi/CRISPRi4/TianKampmann2021_CRISPRi4_qc.h5\" to \"/TianKampmann2021/CRISPRi/CRISPRi4/TianKampmann2021_CRISPRi4.h5\" by 7 chunks ....... DONE\n",
      " > Uploading \"/n/data1/hms/cellbio/sander/judy/resource_paper/TianKampmann2021/CRISPRi/CRISPRi4/obs.csv\" to \"/TianKampmann2021/CRISPRi/CRISPRi4/obs.csv\"... DONE\n",
      " > Uploading \"/n/data1/hms/cellbio/sander/judy/resource_paper/TianKampmann2021/CRISPRi/CRISPRi4/var.csv\" to \"/TianKampmann2021/CRISPRi/CRISPRi4/var.csv\"... DONE\n",
      " > Uploading \"/n/data1/hms/cellbio/sander/judy/resource_paper/TianKampmann2021/CRISPRi/CRISPRi4/counts.mtx.gz\" to \"/TianKampmann2021/CRISPRi/CRISPRi4/counts.mtx.gz\"... DONE\n",
      "which: no shasum in (/home/cs308/cellbox_analysis/bin:/n/app/R/3.6.1/bin:/n/app/pango/1.40.3/include:/n/app/pango/1.40.3/bin:/n/app/cairo/1.14.6/include/cairo:/n/app/cairo/1.14.6/bin:/n/app/harfbuzz/1.3.4/bin:/n/app/fontconfig/2.12.1/bin:/n/app/libffi/3.2.1/lib/libffi-3.2.1/include:/n/app/freetype/2.7/include/freetype2:/n/app/freetype/2.7/bin:/n/app/libxml2/2.9.4/include/libxml2:/n/app/libxml2/2.9.4/bin:/n/app/glib/2.50.2/bin:/n/app/hdf5/1.10.1/include:/n/app/hdf5/1.10.1/bin:/n/app/gsl/2.3/include:/n/app/gsl/2.3/bin:/n/app/boost/1.62.0/include:/n/app/xz/5.2.3/include:/n/app/xz/5.2.3/bin:/n/app/pixman/0.34.0/include/pixman-1:/n/app/pixman/0.34.0/include:/n/app/tiff/4.0.7/include:/n/app/tiff/4.0.7/bin:/n/app/libpng/1.6.26/include:/n/app/libpng/1.6.26/bin:/n/app/jpeg/9b/include:/n/app/jpeg/9b/bin:/n/app/java/jdk-1.8u112/bin:/n/app/openblas/0.2.19/include:/n/app/python/3.6.0/include:/n/app/python/3.6.0/bin:/n/app/gcc/6.2.0/bin:/n/groups/marks/software/anaconda_o2/bin:/n/cluster/bin:/opt/singularity/bin:/n/groups/marks/software/anaconda_o2/bin:/n/cluster/bin:/opt/singularity/bin:/n/groups/marks/software/anaconda_o2/bin:/n/cluster/bin:/opt/singularity/bin:/n/groups/marks/software/anaconda_o2/bin:/usr/local/rvm/gems/ruby-2.4.9/bin:/usr/local/rvm/gems/ruby-2.4.9@global/bin:/usr/local/rvm/rubies/ruby-2.4.9/bin:/n/cluster/bin:/opt/singularity/bin:/usr/local/bin:/usr/bin:/opt/puppetlabs/bin:/usr/local/rvm/bin:/usr/local/sbin:/usr/sbin:/home/cs308/.local/bin:/home/cs308/bin:/home/cs308/julia-1.5.3/bin:/home/cs308/.local/bin:/home/cs308/bin:/home/cs308/julia-1.5.3/bin)\n",
      " > Uploading \"/n/data1/hms/cellbio/sander/judy/resource_paper/TianKampmann2021/CRISPRi/CRISPRi3/TianKampmann2021_CRISPRi3_qc.h5\" to \"/TianKampmann2021/CRISPRi/CRISPRi3/TianKampmann2021_CRISPRi3.h5\" by 5 chunks ..... DONE\n",
      " > Uploading \"/n/data1/hms/cellbio/sander/judy/resource_paper/TianKampmann2021/CRISPRi/CRISPRi3/obs.csv\" to \"/TianKampmann2021/CRISPRi/CRISPRi3/obs.csv\"... DONE\n",
      " > Uploading \"/n/data1/hms/cellbio/sander/judy/resource_paper/TianKampmann2021/CRISPRi/CRISPRi3/var.csv\" to \"/TianKampmann2021/CRISPRi/CRISPRi3/var.csv\"... DONE\n",
      " > Uploading \"/n/data1/hms/cellbio/sander/judy/resource_paper/TianKampmann2021/CRISPRi/CRISPRi3/counts.mtx.gz\" to \"/TianKampmann2021/CRISPRi/CRISPRi3/counts.mtx.gz\"... DONE\n",
      "which: no shasum in (/home/cs308/cellbox_analysis/bin:/n/app/R/3.6.1/bin:/n/app/pango/1.40.3/include:/n/app/pango/1.40.3/bin:/n/app/cairo/1.14.6/include/cairo:/n/app/cairo/1.14.6/bin:/n/app/harfbuzz/1.3.4/bin:/n/app/fontconfig/2.12.1/bin:/n/app/libffi/3.2.1/lib/libffi-3.2.1/include:/n/app/freetype/2.7/include/freetype2:/n/app/freetype/2.7/bin:/n/app/libxml2/2.9.4/include/libxml2:/n/app/libxml2/2.9.4/bin:/n/app/glib/2.50.2/bin:/n/app/hdf5/1.10.1/include:/n/app/hdf5/1.10.1/bin:/n/app/gsl/2.3/include:/n/app/gsl/2.3/bin:/n/app/boost/1.62.0/include:/n/app/xz/5.2.3/include:/n/app/xz/5.2.3/bin:/n/app/pixman/0.34.0/include/pixman-1:/n/app/pixman/0.34.0/include:/n/app/tiff/4.0.7/include:/n/app/tiff/4.0.7/bin:/n/app/libpng/1.6.26/include:/n/app/libpng/1.6.26/bin:/n/app/jpeg/9b/include:/n/app/jpeg/9b/bin:/n/app/java/jdk-1.8u112/bin:/n/app/openblas/0.2.19/include:/n/app/python/3.6.0/include:/n/app/python/3.6.0/bin:/n/app/gcc/6.2.0/bin:/n/groups/marks/software/anaconda_o2/bin:/n/cluster/bin:/opt/singularity/bin:/n/groups/marks/software/anaconda_o2/bin:/n/cluster/bin:/opt/singularity/bin:/n/groups/marks/software/anaconda_o2/bin:/n/cluster/bin:/opt/singularity/bin:/n/groups/marks/software/anaconda_o2/bin:/usr/local/rvm/gems/ruby-2.4.9/bin:/usr/local/rvm/gems/ruby-2.4.9@global/bin:/usr/local/rvm/rubies/ruby-2.4.9/bin:/n/cluster/bin:/opt/singularity/bin:/usr/local/bin:/usr/bin:/opt/puppetlabs/bin:/usr/local/rvm/bin:/usr/local/sbin:/usr/sbin:/home/cs308/.local/bin:/home/cs308/bin:/home/cs308/julia-1.5.3/bin:/home/cs308/.local/bin:/home/cs308/bin:/home/cs308/julia-1.5.3/bin)\n",
      " > Uploading \"/n/data1/hms/cellbio/sander/judy/resource_paper/TianKampmann2021/CRISPRi/CRISPRi2/TianKampmann2021_CRISPRi2_qc.h5\" to \"/TianKampmann2021/CRISPRi/CRISPRi2/TianKampmann2021_CRISPRi2.h5\" by 6 chunks ...... DONE\n",
      " > Uploading \"/n/data1/hms/cellbio/sander/judy/resource_paper/TianKampmann2021/CRISPRi/CRISPRi2/obs.csv\" to \"/TianKampmann2021/CRISPRi/CRISPRi2/obs.csv\"... DONE\n",
      " > Uploading \"/n/data1/hms/cellbio/sander/judy/resource_paper/TianKampmann2021/CRISPRi/CRISPRi2/var.csv\" to \"/TianKampmann2021/CRISPRi/CRISPRi2/var.csv\"... DONE\n",
      " > Uploading \"/n/data1/hms/cellbio/sander/judy/resource_paper/TianKampmann2021/CRISPRi/CRISPRi2/counts.mtx.gz\" to \"/TianKampmann2021/CRISPRi/CRISPRi2/counts.mtx.gz\"... DONE\n",
      "which: no shasum in (/home/cs308/cellbox_analysis/bin:/n/app/R/3.6.1/bin:/n/app/pango/1.40.3/include:/n/app/pango/1.40.3/bin:/n/app/cairo/1.14.6/include/cairo:/n/app/cairo/1.14.6/bin:/n/app/harfbuzz/1.3.4/bin:/n/app/fontconfig/2.12.1/bin:/n/app/libffi/3.2.1/lib/libffi-3.2.1/include:/n/app/freetype/2.7/include/freetype2:/n/app/freetype/2.7/bin:/n/app/libxml2/2.9.4/include/libxml2:/n/app/libxml2/2.9.4/bin:/n/app/glib/2.50.2/bin:/n/app/hdf5/1.10.1/include:/n/app/hdf5/1.10.1/bin:/n/app/gsl/2.3/include:/n/app/gsl/2.3/bin:/n/app/boost/1.62.0/include:/n/app/xz/5.2.3/include:/n/app/xz/5.2.3/bin:/n/app/pixman/0.34.0/include/pixman-1:/n/app/pixman/0.34.0/include:/n/app/tiff/4.0.7/include:/n/app/tiff/4.0.7/bin:/n/app/libpng/1.6.26/include:/n/app/libpng/1.6.26/bin:/n/app/jpeg/9b/include:/n/app/jpeg/9b/bin:/n/app/java/jdk-1.8u112/bin:/n/app/openblas/0.2.19/include:/n/app/python/3.6.0/include:/n/app/python/3.6.0/bin:/n/app/gcc/6.2.0/bin:/n/groups/marks/software/anaconda_o2/bin:/n/cluster/bin:/opt/singularity/bin:/n/groups/marks/software/anaconda_o2/bin:/n/cluster/bin:/opt/singularity/bin:/n/groups/marks/software/anaconda_o2/bin:/n/cluster/bin:/opt/singularity/bin:/n/groups/marks/software/anaconda_o2/bin:/usr/local/rvm/gems/ruby-2.4.9/bin:/usr/local/rvm/gems/ruby-2.4.9@global/bin:/usr/local/rvm/rubies/ruby-2.4.9/bin:/n/cluster/bin:/opt/singularity/bin:/usr/local/bin:/usr/bin:/opt/puppetlabs/bin:/usr/local/rvm/bin:/usr/local/sbin:/usr/sbin:/home/cs308/.local/bin:/home/cs308/bin:/home/cs308/julia-1.5.3/bin:/home/cs308/.local/bin:/home/cs308/bin:/home/cs308/julia-1.5.3/bin)\n"
     ]
    },
    {
     "name": "stdout",
     "output_type": "stream",
     "text": [
      " > Uploading \"/n/data1/hms/cellbio/sander/judy/resource_paper/TianKampmann2021/CRISPRa/CRISPRa1/TianKampmann2021_CRISPRa1_qc.h5\" to \"/TianKampmann2021/CRISPRa/CRISPRa1/TianKampmann2021_CRISPRa1.h5\" by 6 chunks ...... DONE\n",
      " > Uploading \"/n/data1/hms/cellbio/sander/judy/resource_paper/TianKampmann2021/CRISPRa/CRISPRa1/obs.csv\" to \"/TianKampmann2021/CRISPRa/CRISPRa1/obs.csv\"... DONE\n",
      " > Uploading \"/n/data1/hms/cellbio/sander/judy/resource_paper/TianKampmann2021/CRISPRa/CRISPRa1/var.csv\" to \"/TianKampmann2021/CRISPRa/CRISPRa1/var.csv\"... DONE\n",
      " > Uploading \"/n/data1/hms/cellbio/sander/judy/resource_paper/TianKampmann2021/CRISPRa/CRISPRa1/counts.mtx.gz\" to \"/TianKampmann2021/CRISPRa/CRISPRa1/counts.mtx.gz\"... DONE\n",
      "which: no shasum in (/home/cs308/cellbox_analysis/bin:/n/app/R/3.6.1/bin:/n/app/pango/1.40.3/include:/n/app/pango/1.40.3/bin:/n/app/cairo/1.14.6/include/cairo:/n/app/cairo/1.14.6/bin:/n/app/harfbuzz/1.3.4/bin:/n/app/fontconfig/2.12.1/bin:/n/app/libffi/3.2.1/lib/libffi-3.2.1/include:/n/app/freetype/2.7/include/freetype2:/n/app/freetype/2.7/bin:/n/app/libxml2/2.9.4/include/libxml2:/n/app/libxml2/2.9.4/bin:/n/app/glib/2.50.2/bin:/n/app/hdf5/1.10.1/include:/n/app/hdf5/1.10.1/bin:/n/app/gsl/2.3/include:/n/app/gsl/2.3/bin:/n/app/boost/1.62.0/include:/n/app/xz/5.2.3/include:/n/app/xz/5.2.3/bin:/n/app/pixman/0.34.0/include/pixman-1:/n/app/pixman/0.34.0/include:/n/app/tiff/4.0.7/include:/n/app/tiff/4.0.7/bin:/n/app/libpng/1.6.26/include:/n/app/libpng/1.6.26/bin:/n/app/jpeg/9b/include:/n/app/jpeg/9b/bin:/n/app/java/jdk-1.8u112/bin:/n/app/openblas/0.2.19/include:/n/app/python/3.6.0/include:/n/app/python/3.6.0/bin:/n/app/gcc/6.2.0/bin:/n/groups/marks/software/anaconda_o2/bin:/n/cluster/bin:/opt/singularity/bin:/n/groups/marks/software/anaconda_o2/bin:/n/cluster/bin:/opt/singularity/bin:/n/groups/marks/software/anaconda_o2/bin:/n/cluster/bin:/opt/singularity/bin:/n/groups/marks/software/anaconda_o2/bin:/usr/local/rvm/gems/ruby-2.4.9/bin:/usr/local/rvm/gems/ruby-2.4.9@global/bin:/usr/local/rvm/rubies/ruby-2.4.9/bin:/n/cluster/bin:/opt/singularity/bin:/usr/local/bin:/usr/bin:/opt/puppetlabs/bin:/usr/local/rvm/bin:/usr/local/sbin:/usr/sbin:/home/cs308/.local/bin:/home/cs308/bin:/home/cs308/julia-1.5.3/bin:/home/cs308/.local/bin:/home/cs308/bin:/home/cs308/julia-1.5.3/bin)\n",
      " > Uploading \"/n/data1/hms/cellbio/sander/judy/resource_paper/TianKampmann2021/CRISPRa/CRISPRa2/TianKampmann2021_CRISPRa2_qc.h5\" to \"/TianKampmann2021/CRISPRa/CRISPRa2/TianKampmann2021_CRISPRa2.h5\" by 6 chunks ...... DONE\n",
      " > Uploading \"/n/data1/hms/cellbio/sander/judy/resource_paper/TianKampmann2021/CRISPRa/CRISPRa2/obs.csv\" to \"/TianKampmann2021/CRISPRa/CRISPRa2/obs.csv\"... DONE\n",
      " > Uploading \"/n/data1/hms/cellbio/sander/judy/resource_paper/TianKampmann2021/CRISPRa/CRISPRa2/var.csv\" to \"/TianKampmann2021/CRISPRa/CRISPRa2/var.csv\"... DONE\n",
      " > Uploading \"/n/data1/hms/cellbio/sander/judy/resource_paper/TianKampmann2021/CRISPRa/CRISPRa2/counts.mtx.gz\" to \"/TianKampmann2021/CRISPRa/CRISPRa2/counts.mtx.gz\"... DONE\n",
      " > Uploading \"/n/data1/hms/cellbio/sander/judy/resource_paper/McFarlandTshemiak2020/all_expts_combined_qc.h5\" to \"/McFarlandTshemiak2020/McFarlandTshemiak2020/McFarlandTshemiak2020_all_expts_combined.h5\" by 110 chunks .............................................................................................................. DONE\n",
      " > No such file or directory: /n/data1/hms/cellbio/sander/judy/resource_paper/McFarlandTshemiak2020/McFarlandTshemiak2020/obs.csv\n",
      "Some error occured. rerun the script with \"-d\" option and check the output and logfile: /tmp/du_resp_3359.\n",
      " > No such file or directory: /n/data1/hms/cellbio/sander/judy/resource_paper/McFarlandTshemiak2020/McFarlandTshemiak2020/var.csv\n",
      "Some error occured. rerun the script with \"-d\" option and check the output and logfile: /tmp/du_resp_25723.\n",
      " > No such file or directory: /n/data1/hms/cellbio/sander/judy/resource_paper/McFarlandTshemiak2020/McFarlandTshemiak2020/counts.mtx.gz\n",
      "Some error occured. rerun the script with \"-d\" option and check the output and logfile: /tmp/du_resp_30665.\n",
      "which: no shasum in (/home/cs308/cellbox_analysis/bin:/n/app/R/3.6.1/bin:/n/app/pango/1.40.3/include:/n/app/pango/1.40.3/bin:/n/app/cairo/1.14.6/include/cairo:/n/app/cairo/1.14.6/bin:/n/app/harfbuzz/1.3.4/bin:/n/app/fontconfig/2.12.1/bin:/n/app/libffi/3.2.1/lib/libffi-3.2.1/include:/n/app/freetype/2.7/include/freetype2:/n/app/freetype/2.7/bin:/n/app/libxml2/2.9.4/include/libxml2:/n/app/libxml2/2.9.4/bin:/n/app/glib/2.50.2/bin:/n/app/hdf5/1.10.1/include:/n/app/hdf5/1.10.1/bin:/n/app/gsl/2.3/include:/n/app/gsl/2.3/bin:/n/app/boost/1.62.0/include:/n/app/xz/5.2.3/include:/n/app/xz/5.2.3/bin:/n/app/pixman/0.34.0/include/pixman-1:/n/app/pixman/0.34.0/include:/n/app/tiff/4.0.7/include:/n/app/tiff/4.0.7/bin:/n/app/libpng/1.6.26/include:/n/app/libpng/1.6.26/bin:/n/app/jpeg/9b/include:/n/app/jpeg/9b/bin:/n/app/java/jdk-1.8u112/bin:/n/app/openblas/0.2.19/include:/n/app/python/3.6.0/include:/n/app/python/3.6.0/bin:/n/app/gcc/6.2.0/bin:/n/groups/marks/software/anaconda_o2/bin:/n/cluster/bin:/opt/singularity/bin:/n/groups/marks/software/anaconda_o2/bin:/n/cluster/bin:/opt/singularity/bin:/n/groups/marks/software/anaconda_o2/bin:/n/cluster/bin:/opt/singularity/bin:/n/groups/marks/software/anaconda_o2/bin:/usr/local/rvm/gems/ruby-2.4.9/bin:/usr/local/rvm/gems/ruby-2.4.9@global/bin:/usr/local/rvm/rubies/ruby-2.4.9/bin:/n/cluster/bin:/opt/singularity/bin:/usr/local/bin:/usr/bin:/opt/puppetlabs/bin:/usr/local/rvm/bin:/usr/local/sbin:/usr/sbin:/home/cs308/.local/bin:/home/cs308/bin:/home/cs308/julia-1.5.3/bin:/home/cs308/.local/bin:/home/cs308/bin:/home/cs308/julia-1.5.3/bin)\n",
      " > Uploading \"/n/data1/hms/cellbio/sander/judy/resource_paper/NormanWeissman2019/raw/NormanWeissman2019_raw_qc.h5\" to \"/NormanWeissman2019/raw/NormanWeissman2019_raw.h5\" by 57 chunks ......................................................... DONE\n",
      " > Uploading \"/n/data1/hms/cellbio/sander/judy/resource_paper/NormanWeissman2019/raw/obs.csv\" to \"/NormanWeissman2019/raw/obs.csv\"... DONE\n",
      " > Uploading \"/n/data1/hms/cellbio/sander/judy/resource_paper/NormanWeissman2019/raw/var.csv\" to \"/NormanWeissman2019/raw/var.csv\"... DONE\n",
      " > Uploading \"/n/data1/hms/cellbio/sander/judy/resource_paper/NormanWeissman2019/raw/counts.mtx.gz\" to \"/NormanWeissman2019/raw/counts.mtx.gz\" by 21 chunks ..................... DONE\n",
      "which: no shasum in (/home/cs308/cellbox_analysis/bin:/n/app/R/3.6.1/bin:/n/app/pango/1.40.3/include:/n/app/pango/1.40.3/bin:/n/app/cairo/1.14.6/include/cairo:/n/app/cairo/1.14.6/bin:/n/app/harfbuzz/1.3.4/bin:/n/app/fontconfig/2.12.1/bin:/n/app/libffi/3.2.1/lib/libffi-3.2.1/include:/n/app/freetype/2.7/include/freetype2:/n/app/freetype/2.7/bin:/n/app/libxml2/2.9.4/include/libxml2:/n/app/libxml2/2.9.4/bin:/n/app/glib/2.50.2/bin:/n/app/hdf5/1.10.1/include:/n/app/hdf5/1.10.1/bin:/n/app/gsl/2.3/include:/n/app/gsl/2.3/bin:/n/app/boost/1.62.0/include:/n/app/xz/5.2.3/include:/n/app/xz/5.2.3/bin:/n/app/pixman/0.34.0/include/pixman-1:/n/app/pixman/0.34.0/include:/n/app/tiff/4.0.7/include:/n/app/tiff/4.0.7/bin:/n/app/libpng/1.6.26/include:/n/app/libpng/1.6.26/bin:/n/app/jpeg/9b/include:/n/app/jpeg/9b/bin:/n/app/java/jdk-1.8u112/bin:/n/app/openblas/0.2.19/include:/n/app/python/3.6.0/include:/n/app/python/3.6.0/bin:/n/app/gcc/6.2.0/bin:/n/groups/marks/software/anaconda_o2/bin:/n/cluster/bin:/opt/singularity/bin:/n/groups/marks/software/anaconda_o2/bin:/n/cluster/bin:/opt/singularity/bin:/n/groups/marks/software/anaconda_o2/bin:/n/cluster/bin:/opt/singularity/bin:/n/groups/marks/software/anaconda_o2/bin:/usr/local/rvm/gems/ruby-2.4.9/bin:/usr/local/rvm/gems/ruby-2.4.9@global/bin:/usr/local/rvm/rubies/ruby-2.4.9/bin:/n/cluster/bin:/opt/singularity/bin:/usr/local/bin:/usr/bin:/opt/puppetlabs/bin:/usr/local/rvm/bin:/usr/local/sbin:/usr/sbin:/home/cs308/.local/bin:/home/cs308/bin:/home/cs308/julia-1.5.3/bin:/home/cs308/.local/bin:/home/cs308/bin:/home/cs308/julia-1.5.3/bin)\n",
      " > Uploading \"/n/data1/hms/cellbio/sander/judy/resource_paper/NormanWeissman2019/filtered/NormanWeissman2019_filtered_qc.h5\" to \"/NormanWeissman2019/filtered/NormanWeissman2019_filtered.h5\" by 56 chunks ........................................................ DONE\n",
      " > Uploading \"/n/data1/hms/cellbio/sander/judy/resource_paper/NormanWeissman2019/filtered/obs.csv\" to \"/NormanWeissman2019/filtered/obs.csv\"... DONE\n",
      " > Uploading \"/n/data1/hms/cellbio/sander/judy/resource_paper/NormanWeissman2019/filtered/var.csv\" to \"/NormanWeissman2019/filtered/var.csv\"... DONE\n",
      " > Uploading \"/n/data1/hms/cellbio/sander/judy/resource_paper/NormanWeissman2019/filtered/counts.mtx.gz\" to \"/NormanWeissman2019/filtered/counts.mtx.gz\" by 21 chunks ..................... DONE\n",
      " > Uploading \"/n/data1/hms/cellbio/sander/judy/resource_paper/PapalexiSatija2021/eccite_arrayed/PapalexiSatija2021_eccite_arrayed_protein_qc.h5\" to \"/PapalexiSatija2021/eccite_arrayed/protein/PapalexiSatija2021_eccite_arrayed_protein.h5\"... DONE\n",
      " > Uploading \"/n/data1/hms/cellbio/sander/judy/resource_paper/PapalexiSatija2021/eccite_arrayed/protein/obs.csv\" to \"/PapalexiSatija2021/eccite_arrayed/protein/obs.csv\"... DONE\n",
      " > Uploading \"/n/data1/hms/cellbio/sander/judy/resource_paper/PapalexiSatija2021/eccite_arrayed/protein/var.csv\" to \"/PapalexiSatija2021/eccite_arrayed/protein/var.csv\"... DONE\n",
      " > Uploading \"/n/data1/hms/cellbio/sander/judy/resource_paper/PapalexiSatija2021/eccite_arrayed/protein/counts.mtx.gz\" to \"/PapalexiSatija2021/eccite_arrayed/protein/counts.mtx.gz\"... DONE\n",
      " > Uploading \"/n/data1/hms/cellbio/sander/judy/resource_paper/PapalexiSatija2021/eccite_arrayed/PapalexiSatija2021_eccite_arrayed_RNA_qc.h5\" to \"/PapalexiSatija2021/eccite_arrayed/RNA/PapalexiSatija2021_eccite_arrayed_RNA.h5\" by 4 chunks .... DONE\n",
      " > Uploading \"/n/data1/hms/cellbio/sander/judy/resource_paper/PapalexiSatija2021/eccite_arrayed/RNA/obs.csv\" to \"/PapalexiSatija2021/eccite_arrayed/RNA/obs.csv\"... DONE\n",
      " > Uploading \"/n/data1/hms/cellbio/sander/judy/resource_paper/PapalexiSatija2021/eccite_arrayed/RNA/var.csv\" to \"/PapalexiSatija2021/eccite_arrayed/RNA/var.csv\"... DONE\n",
      " > Uploading \"/n/data1/hms/cellbio/sander/judy/resource_paper/PapalexiSatija2021/eccite_arrayed/RNA/counts.mtx.gz\" to \"/PapalexiSatija2021/eccite_arrayed/RNA/counts.mtx.gz\"... DONE\n",
      " > Uploading \"/n/data1/hms/cellbio/sander/judy/resource_paper/PapalexiSatija2021/eccite/PapalexiSatija2021_eccite_protein_qc.h5\" to \"/PapalexiSatija2021/eccite/protein/PapalexiSatija2021_eccite_protein.h5\"... DONE\n",
      " > Uploading \"/n/data1/hms/cellbio/sander/judy/resource_paper/PapalexiSatija2021/eccite/protein/obs.csv\" to \"/PapalexiSatija2021/eccite/protein/obs.csv\"... DONE\n",
      " > Uploading \"/n/data1/hms/cellbio/sander/judy/resource_paper/PapalexiSatija2021/eccite/protein/var.csv\" to \"/PapalexiSatija2021/eccite/protein/var.csv\"... DONE\n",
      " > Uploading \"/n/data1/hms/cellbio/sander/judy/resource_paper/PapalexiSatija2021/eccite/protein/counts.mtx.gz\" to \"/PapalexiSatija2021/eccite/protein/counts.mtx.gz\"... DONE\n",
      " > Uploading \"/n/data1/hms/cellbio/sander/judy/resource_paper/PapalexiSatija2021/eccite/PapalexiSatija2021_eccite_RNA_qc.h5\" to \"/PapalexiSatija2021/eccite/RNA/PapalexiSatija2021_eccite_RNA.h5\" by 11 chunks ........... DONE\n",
      " > Uploading \"/n/data1/hms/cellbio/sander/judy/resource_paper/PapalexiSatija2021/eccite/RNA/obs.csv\" to \"/PapalexiSatija2021/eccite/RNA/obs.csv\"... DONE\n",
      " > Uploading \"/n/data1/hms/cellbio/sander/judy/resource_paper/PapalexiSatija2021/eccite/RNA/var.csv\" to \"/PapalexiSatija2021/eccite/RNA/var.csv\"... DONE\n",
      " > Uploading \"/n/data1/hms/cellbio/sander/judy/resource_paper/PapalexiSatija2021/eccite/RNA/counts.mtx.gz\" to \"/PapalexiSatija2021/eccite/RNA/counts.mtx.gz\" by 4 chunks .... DONE\n",
      "which: no shasum in (/home/cs308/cellbox_analysis/bin:/n/app/R/3.6.1/bin:/n/app/pango/1.40.3/include:/n/app/pango/1.40.3/bin:/n/app/cairo/1.14.6/include/cairo:/n/app/cairo/1.14.6/bin:/n/app/harfbuzz/1.3.4/bin:/n/app/fontconfig/2.12.1/bin:/n/app/libffi/3.2.1/lib/libffi-3.2.1/include:/n/app/freetype/2.7/include/freetype2:/n/app/freetype/2.7/bin:/n/app/libxml2/2.9.4/include/libxml2:/n/app/libxml2/2.9.4/bin:/n/app/glib/2.50.2/bin:/n/app/hdf5/1.10.1/include:/n/app/hdf5/1.10.1/bin:/n/app/gsl/2.3/include:/n/app/gsl/2.3/bin:/n/app/boost/1.62.0/include:/n/app/xz/5.2.3/include:/n/app/xz/5.2.3/bin:/n/app/pixman/0.34.0/include/pixman-1:/n/app/pixman/0.34.0/include:/n/app/tiff/4.0.7/include:/n/app/tiff/4.0.7/bin:/n/app/libpng/1.6.26/include:/n/app/libpng/1.6.26/bin:/n/app/jpeg/9b/include:/n/app/jpeg/9b/bin:/n/app/java/jdk-1.8u112/bin:/n/app/openblas/0.2.19/include:/n/app/python/3.6.0/include:/n/app/python/3.6.0/bin:/n/app/gcc/6.2.0/bin:/n/groups/marks/software/anaconda_o2/bin:/n/cluster/bin:/opt/singularity/bin:/n/groups/marks/software/anaconda_o2/bin:/n/cluster/bin:/opt/singularity/bin:/n/groups/marks/software/anaconda_o2/bin:/n/cluster/bin:/opt/singularity/bin:/n/groups/marks/software/anaconda_o2/bin:/usr/local/rvm/gems/ruby-2.4.9/bin:/usr/local/rvm/gems/ruby-2.4.9@global/bin:/usr/local/rvm/rubies/ruby-2.4.9/bin:/n/cluster/bin:/opt/singularity/bin:/usr/local/bin:/usr/bin:/opt/puppetlabs/bin:/usr/local/rvm/bin:/usr/local/sbin:/usr/sbin:/home/cs308/.local/bin:/home/cs308/bin:/home/cs308/julia-1.5.3/bin:/home/cs308/.local/bin:/home/cs308/bin:/home/cs308/julia-1.5.3/bin)\n",
      " > Uploading \"/n/data1/hms/cellbio/sander/judy/resource_paper/TianKampmann2019/day7neuron/day7neuron1/TianKampmann2019_day7neuron1_qc.h5\" to \"/TianKampmann2019/day7neuron/day7neuron1/TianKampmann2019_day7neuron1.h5\" by 10 chunks .......... DONE\n",
      " > Uploading \"/n/data1/hms/cellbio/sander/judy/resource_paper/TianKampmann2019/day7neuron/day7neuron1/obs.csv\" to \"/TianKampmann2019/day7neuron/day7neuron1/obs.csv\"... DONE\n",
      " > Uploading \"/n/data1/hms/cellbio/sander/judy/resource_paper/TianKampmann2019/day7neuron/day7neuron1/var.csv\" to \"/TianKampmann2019/day7neuron/day7neuron1/var.csv\"... DONE\n",
      " > Uploading \"/n/data1/hms/cellbio/sander/judy/resource_paper/TianKampmann2019/day7neuron/day7neuron1/counts.mtx.gz\" to \"/TianKampmann2019/day7neuron/day7neuron1/counts.mtx.gz\" by 4 chunks .... DONE\n",
      "which: no shasum in (/home/cs308/cellbox_analysis/bin:/n/app/R/3.6.1/bin:/n/app/pango/1.40.3/include:/n/app/pango/1.40.3/bin:/n/app/cairo/1.14.6/include/cairo:/n/app/cairo/1.14.6/bin:/n/app/harfbuzz/1.3.4/bin:/n/app/fontconfig/2.12.1/bin:/n/app/libffi/3.2.1/lib/libffi-3.2.1/include:/n/app/freetype/2.7/include/freetype2:/n/app/freetype/2.7/bin:/n/app/libxml2/2.9.4/include/libxml2:/n/app/libxml2/2.9.4/bin:/n/app/glib/2.50.2/bin:/n/app/hdf5/1.10.1/include:/n/app/hdf5/1.10.1/bin:/n/app/gsl/2.3/include:/n/app/gsl/2.3/bin:/n/app/boost/1.62.0/include:/n/app/xz/5.2.3/include:/n/app/xz/5.2.3/bin:/n/app/pixman/0.34.0/include/pixman-1:/n/app/pixman/0.34.0/include:/n/app/tiff/4.0.7/include:/n/app/tiff/4.0.7/bin:/n/app/libpng/1.6.26/include:/n/app/libpng/1.6.26/bin:/n/app/jpeg/9b/include:/n/app/jpeg/9b/bin:/n/app/java/jdk-1.8u112/bin:/n/app/openblas/0.2.19/include:/n/app/python/3.6.0/include:/n/app/python/3.6.0/bin:/n/app/gcc/6.2.0/bin:/n/groups/marks/software/anaconda_o2/bin:/n/cluster/bin:/opt/singularity/bin:/n/groups/marks/software/anaconda_o2/bin:/n/cluster/bin:/opt/singularity/bin:/n/groups/marks/software/anaconda_o2/bin:/n/cluster/bin:/opt/singularity/bin:/n/groups/marks/software/anaconda_o2/bin:/usr/local/rvm/gems/ruby-2.4.9/bin:/usr/local/rvm/gems/ruby-2.4.9@global/bin:/usr/local/rvm/rubies/ruby-2.4.9/bin:/n/cluster/bin:/opt/singularity/bin:/usr/local/bin:/usr/bin:/opt/puppetlabs/bin:/usr/local/rvm/bin:/usr/local/sbin:/usr/sbin:/home/cs308/.local/bin:/home/cs308/bin:/home/cs308/julia-1.5.3/bin:/home/cs308/.local/bin:/home/cs308/bin:/home/cs308/julia-1.5.3/bin)\n",
      " > Uploading \"/n/data1/hms/cellbio/sander/judy/resource_paper/TianKampmann2019/day7neuron/day7neuron2/TianKampmann2019_day7neuron2_qc.h5\" to \"/TianKampmann2019/day7neuron/day7neuron2/TianKampmann2019_day7neuron2.h5\" by 9 chunks ......... DONE\n",
      " > Uploading \"/n/data1/hms/cellbio/sander/judy/resource_paper/TianKampmann2019/day7neuron/day7neuron2/obs.csv\" to \"/TianKampmann2019/day7neuron/day7neuron2/obs.csv\"... DONE\n"
     ]
    },
    {
     "name": "stdout",
     "output_type": "stream",
     "text": [
      " > Uploading \"/n/data1/hms/cellbio/sander/judy/resource_paper/TianKampmann2019/day7neuron/day7neuron2/var.csv\" to \"/TianKampmann2019/day7neuron/day7neuron2/var.csv\"... DONE\n",
      " > Uploading \"/n/data1/hms/cellbio/sander/judy/resource_paper/TianKampmann2019/day7neuron/day7neuron2/counts.mtx.gz\" to \"/TianKampmann2019/day7neuron/day7neuron2/counts.mtx.gz\" by 4 chunks .... DONE\n",
      "which: no shasum in (/home/cs308/cellbox_analysis/bin:/n/app/R/3.6.1/bin:/n/app/pango/1.40.3/include:/n/app/pango/1.40.3/bin:/n/app/cairo/1.14.6/include/cairo:/n/app/cairo/1.14.6/bin:/n/app/harfbuzz/1.3.4/bin:/n/app/fontconfig/2.12.1/bin:/n/app/libffi/3.2.1/lib/libffi-3.2.1/include:/n/app/freetype/2.7/include/freetype2:/n/app/freetype/2.7/bin:/n/app/libxml2/2.9.4/include/libxml2:/n/app/libxml2/2.9.4/bin:/n/app/glib/2.50.2/bin:/n/app/hdf5/1.10.1/include:/n/app/hdf5/1.10.1/bin:/n/app/gsl/2.3/include:/n/app/gsl/2.3/bin:/n/app/boost/1.62.0/include:/n/app/xz/5.2.3/include:/n/app/xz/5.2.3/bin:/n/app/pixman/0.34.0/include/pixman-1:/n/app/pixman/0.34.0/include:/n/app/tiff/4.0.7/include:/n/app/tiff/4.0.7/bin:/n/app/libpng/1.6.26/include:/n/app/libpng/1.6.26/bin:/n/app/jpeg/9b/include:/n/app/jpeg/9b/bin:/n/app/java/jdk-1.8u112/bin:/n/app/openblas/0.2.19/include:/n/app/python/3.6.0/include:/n/app/python/3.6.0/bin:/n/app/gcc/6.2.0/bin:/n/groups/marks/software/anaconda_o2/bin:/n/cluster/bin:/opt/singularity/bin:/n/groups/marks/software/anaconda_o2/bin:/n/cluster/bin:/opt/singularity/bin:/n/groups/marks/software/anaconda_o2/bin:/n/cluster/bin:/opt/singularity/bin:/n/groups/marks/software/anaconda_o2/bin:/usr/local/rvm/gems/ruby-2.4.9/bin:/usr/local/rvm/gems/ruby-2.4.9@global/bin:/usr/local/rvm/rubies/ruby-2.4.9/bin:/n/cluster/bin:/opt/singularity/bin:/usr/local/bin:/usr/bin:/opt/puppetlabs/bin:/usr/local/rvm/bin:/usr/local/sbin:/usr/sbin:/home/cs308/.local/bin:/home/cs308/bin:/home/cs308/julia-1.5.3/bin:/home/cs308/.local/bin:/home/cs308/bin:/home/cs308/julia-1.5.3/bin)\n",
      " > Uploading \"/n/data1/hms/cellbio/sander/judy/resource_paper/TianKampmann2019/iPSC/iPSC1/TianKampmann2019_iPSC1_qc.h5\" to \"/TianKampmann2019/iPSC/iPSC1/TianKampmann2019_iPSC1.h5\" by 12 chunks ............ DONE\n",
      " > Uploading \"/n/data1/hms/cellbio/sander/judy/resource_paper/TianKampmann2019/iPSC/iPSC1/obs.csv\" to \"/TianKampmann2019/iPSC/iPSC1/obs.csv\"... DONE\n",
      " > Uploading \"/n/data1/hms/cellbio/sander/judy/resource_paper/TianKampmann2019/iPSC/iPSC1/var.csv\" to \"/TianKampmann2019/iPSC/iPSC1/var.csv\"... DONE\n",
      " > Uploading \"/n/data1/hms/cellbio/sander/judy/resource_paper/TianKampmann2019/iPSC/iPSC1/counts.mtx.gz\" to \"/TianKampmann2019/iPSC/iPSC1/counts.mtx.gz\" by 5 chunks ..... DONE\n",
      "which: no shasum in (/home/cs308/cellbox_analysis/bin:/n/app/R/3.6.1/bin:/n/app/pango/1.40.3/include:/n/app/pango/1.40.3/bin:/n/app/cairo/1.14.6/include/cairo:/n/app/cairo/1.14.6/bin:/n/app/harfbuzz/1.3.4/bin:/n/app/fontconfig/2.12.1/bin:/n/app/libffi/3.2.1/lib/libffi-3.2.1/include:/n/app/freetype/2.7/include/freetype2:/n/app/freetype/2.7/bin:/n/app/libxml2/2.9.4/include/libxml2:/n/app/libxml2/2.9.4/bin:/n/app/glib/2.50.2/bin:/n/app/hdf5/1.10.1/include:/n/app/hdf5/1.10.1/bin:/n/app/gsl/2.3/include:/n/app/gsl/2.3/bin:/n/app/boost/1.62.0/include:/n/app/xz/5.2.3/include:/n/app/xz/5.2.3/bin:/n/app/pixman/0.34.0/include/pixman-1:/n/app/pixman/0.34.0/include:/n/app/tiff/4.0.7/include:/n/app/tiff/4.0.7/bin:/n/app/libpng/1.6.26/include:/n/app/libpng/1.6.26/bin:/n/app/jpeg/9b/include:/n/app/jpeg/9b/bin:/n/app/java/jdk-1.8u112/bin:/n/app/openblas/0.2.19/include:/n/app/python/3.6.0/include:/n/app/python/3.6.0/bin:/n/app/gcc/6.2.0/bin:/n/groups/marks/software/anaconda_o2/bin:/n/cluster/bin:/opt/singularity/bin:/n/groups/marks/software/anaconda_o2/bin:/n/cluster/bin:/opt/singularity/bin:/n/groups/marks/software/anaconda_o2/bin:/n/cluster/bin:/opt/singularity/bin:/n/groups/marks/software/anaconda_o2/bin:/usr/local/rvm/gems/ruby-2.4.9/bin:/usr/local/rvm/gems/ruby-2.4.9@global/bin:/usr/local/rvm/rubies/ruby-2.4.9/bin:/n/cluster/bin:/opt/singularity/bin:/usr/local/bin:/usr/bin:/opt/puppetlabs/bin:/usr/local/rvm/bin:/usr/local/sbin:/usr/sbin:/home/cs308/.local/bin:/home/cs308/bin:/home/cs308/julia-1.5.3/bin:/home/cs308/.local/bin:/home/cs308/bin:/home/cs308/julia-1.5.3/bin)\n",
      " > Uploading \"/n/data1/hms/cellbio/sander/judy/resource_paper/TianKampmann2019/iPSC/iPSC2/TianKampmann2019_iPSC2_qc.h5\" to \"/TianKampmann2019/iPSC/iPSC2/TianKampmann2019_iPSC2.h5\" by 12 chunks ............ DONE\n",
      " > Uploading \"/n/data1/hms/cellbio/sander/judy/resource_paper/TianKampmann2019/iPSC/iPSC2/obs.csv\" to \"/TianKampmann2019/iPSC/iPSC2/obs.csv\"... DONE\n",
      " > Uploading \"/n/data1/hms/cellbio/sander/judy/resource_paper/TianKampmann2019/iPSC/iPSC2/var.csv\" to \"/TianKampmann2019/iPSC/iPSC2/var.csv\"... DONE\n",
      " > Uploading \"/n/data1/hms/cellbio/sander/judy/resource_paper/TianKampmann2019/iPSC/iPSC2/counts.mtx.gz\" to \"/TianKampmann2019/iPSC/iPSC2/counts.mtx.gz\" by 5 chunks ..... DONE\n",
      " > Uploading \"/n/data1/hms/cellbio/sander/judy/resource_paper/FrangiehIzar2021/FrangiehIzar2021/FrangiehIzar2021_protein_qc.h5\" to \"/FrangiehIzar2021/FrangiehIzar2021/protein/FrangiehIzar2021_protein.h5\"... DONE\n",
      " > Uploading \"/n/data1/hms/cellbio/sander/judy/resource_paper/FrangiehIzar2021/FrangiehIzar2021/protein/obs.csv\" to \"/FrangiehIzar2021/FrangiehIzar2021/protein/obs.csv\"... DONE\n",
      " > Uploading \"/n/data1/hms/cellbio/sander/judy/resource_paper/FrangiehIzar2021/FrangiehIzar2021/protein/var.csv\" to \"/FrangiehIzar2021/FrangiehIzar2021/protein/var.csv\"... DONE\n",
      " > Uploading \"/n/data1/hms/cellbio/sander/judy/resource_paper/FrangiehIzar2021/FrangiehIzar2021/protein/counts.mtx.gz\" to \"/FrangiehIzar2021/FrangiehIzar2021/protein/counts.mtx.gz\"... DONE\n",
      " > Uploading \"/n/data1/hms/cellbio/sander/judy/resource_paper/FrangiehIzar2021/FrangiehIzar2021/FrangiehIzar2021_RNA_qc.h5\" to \"/FrangiehIzar2021/FrangiehIzar2021/RNA/FrangiehIzar2021_RNA.h5\" by 114 chunks .................................................................................................................. DONE\n",
      " > Uploading \"/n/data1/hms/cellbio/sander/judy/resource_paper/FrangiehIzar2021/FrangiehIzar2021/RNA/obs.csv\" to \"/FrangiehIzar2021/FrangiehIzar2021/RNA/obs.csv\"... DONE\n",
      " > Uploading \"/n/data1/hms/cellbio/sander/judy/resource_paper/FrangiehIzar2021/FrangiehIzar2021/RNA/var.csv\" to \"/FrangiehIzar2021/FrangiehIzar2021/RNA/var.csv\"... DONE\n",
      " > Uploading \"/n/data1/hms/cellbio/sander/judy/resource_paper/FrangiehIzar2021/FrangiehIzar2021/RNA/counts.mtx.gz\" to \"/FrangiehIzar2021/FrangiehIzar2021/RNA/counts.mtx.gz\" by 42 chunks .......................................... DONE\n"
     ]
    }
   ],
   "source": [
    "for h5file in h5files:\n",
    "    if \"RNA\" in h5file:\n",
    "        directory = '/'.join(h5file.split(\"/\")[8:-1])+\"/RNA/\"\n",
    "    elif \"protein\" in h5file:\n",
    "        directory = '/'.join(h5file.split(\"/\")[8:-1])+\"/protein/\"        \n",
    "    else:\n",
    "        directory = '/'.join(h5file.split(\"/\")[8:-1])+\"/\"\n",
    "    filename = \"_\".join(h5file.split(\"/\")[-1].split(\"_\")[:-1])+\".h5\"\n",
    "    if filename == \"all_expts_combined.h5\":\n",
    "        directory = \"McFarlandTshemiak2020/McFarlandTshemiak2020/\"\n",
    "        filename = \"McFarlandTshemiak2020_all_expts_combined.h5\"\n",
    "    !/home/cs308/dropbox_uploader.sh upload {h5file} {directory+filename}\n",
    "    !/home/cs308/dropbox_uploader.sh upload {'/n/data1/hms/cellbio/sander/judy/resource_paper/'+directory+'obs.csv'} {directory}\n",
    "    !/home/cs308/dropbox_uploader.sh upload {'/n/data1/hms/cellbio/sander/judy/resource_paper/'+directory+'var.csv'} {directory}\n",
    "    !/home/cs308/dropbox_uploader.sh upload {'/n/data1/hms/cellbio/sander/judy/resource_paper/'+directory+'counts.mtx.gz'} {directory}\n",
    "#    print(filename)\n",
    "#    print(directory)"
   ]
  },
  {
   "cell_type": "code",
   "execution_count": 9,
   "metadata": {},
   "outputs": [
    {
     "name": "stdout",
     "output_type": "stream",
     "text": [
      " > Uploading \"/n/data1/hms/cellbio/sander/judy/resource_paper/TianKampmann2021/CRISPRi/TianKampmann2021_CRISPRi_qc.h5\" to \"/TianKampmann2021/CRISPRi/TianKampmann2021_CRISPRi.h5\" by 22 chunks ...................... DONE\n",
      " > Uploading \"/n/data1/hms/cellbio/sander/judy/resource_paper/TianKampmann2021/CRISPRi/obs.csv\" to \"/TianKampmann2021/CRISPRi/obs.csv\"... DONE\n",
      " > Uploading \"/n/data1/hms/cellbio/sander/judy/resource_paper/TianKampmann2021/CRISPRi/var.csv\" to \"/TianKampmann2021/CRISPRi/var.csv\"... DONE\n",
      " > Uploading \"/n/data1/hms/cellbio/sander/judy/resource_paper/TianKampmann2021/CRISPRi/counts.mtx.gz\" to \"/TianKampmann2021/CRISPRi/counts.mtx.gz\" by 9 chunks ......... DONE\n",
      " > Uploading \"/n/data1/hms/cellbio/sander/judy/resource_paper/TianKampmann2021/CRISPRa/TianKampmann2021_CRISPRa_qc.h5\" to \"/TianKampmann2021/CRISPRa/TianKampmann2021_CRISPRa.h5\" by 12 chunks ............ DONE\n",
      " > Uploading \"/n/data1/hms/cellbio/sander/judy/resource_paper/TianKampmann2021/CRISPRa/obs.csv\" to \"/TianKampmann2021/CRISPRa/obs.csv\"... DONE\n",
      " > Uploading \"/n/data1/hms/cellbio/sander/judy/resource_paper/TianKampmann2021/CRISPRa/var.csv\" to \"/TianKampmann2021/CRISPRa/var.csv\"... DONE\n",
      " > Uploading \"/n/data1/hms/cellbio/sander/judy/resource_paper/TianKampmann2021/CRISPRa/counts.mtx.gz\" to \"/TianKampmann2021/CRISPRa/counts.mtx.gz\" by 5 chunks ..... DONE\n",
      " > Uploading \"/n/data1/hms/cellbio/sander/judy/resource_paper/TianKampmann2019/day7neuron/TianKampmann2019_day7neuron_qc.h5\" to \"/TianKampmann2019/day7neuron/TianKampmann2019_day7neuron.h5\" by 18 chunks .................. DONE\n",
      " > Uploading \"/n/data1/hms/cellbio/sander/judy/resource_paper/TianKampmann2019/day7neuron/obs.csv\" to \"/TianKampmann2019/day7neuron/obs.csv\"... DONE\n",
      " > Uploading \"/n/data1/hms/cellbio/sander/judy/resource_paper/TianKampmann2019/day7neuron/var.csv\" to \"/TianKampmann2019/day7neuron/var.csv\"... DONE\n",
      " > Uploading \"/n/data1/hms/cellbio/sander/judy/resource_paper/TianKampmann2019/day7neuron/counts.mtx.gz\" to \"/TianKampmann2019/day7neuron/counts.mtx.gz\" by 7 chunks ....... DONE\n",
      " > Uploading \"/n/data1/hms/cellbio/sander/judy/resource_paper/TianKampmann2019/iPSC/TianKampmann2019_iPSC_qc.h5\" to \"/TianKampmann2019/iPSC/TianKampmann2019_iPSC.h5\" by 24 chunks .......*................. DONE\n",
      " > Uploading \"/n/data1/hms/cellbio/sander/judy/resource_paper/TianKampmann2019/iPSC/obs.csv\" to \"/TianKampmann2019/iPSC/obs.csv\"... DONE\n",
      " > Uploading \"/n/data1/hms/cellbio/sander/judy/resource_paper/TianKampmann2019/iPSC/var.csv\" to \"/TianKampmann2019/iPSC/var.csv\"... DONE\n",
      " > Uploading \"/n/data1/hms/cellbio/sander/judy/resource_paper/TianKampmann2019/iPSC/counts.mtx.gz\" to \"/TianKampmann2019/iPSC/counts.mtx.gz\" by 10 chunks .......... DONE\n"
     ]
    }
   ],
   "source": [
    "for h5file in tians:\n",
    "    directory = '/'.join(h5file.split(\"/\")[8:-1])+\"/\"\n",
    "    filename = \"_\".join(h5file.split(\"/\")[-1].split(\"_\")[:-1])+\".h5\"\n",
    "    !/home/cs308/dropbox_uploader.sh upload {h5file} {directory+filename}\n",
    "    !/home/cs308/dropbox_uploader.sh upload {'/n/data1/hms/cellbio/sander/judy/resource_paper/'+directory+'obs.csv'} {directory}\n",
    "    !/home/cs308/dropbox_uploader.sh upload {'/n/data1/hms/cellbio/sander/judy/resource_paper/'+directory+'var.csv'} {directory}\n",
    "    !/home/cs308/dropbox_uploader.sh upload {'/n/data1/hms/cellbio/sander/judy/resource_paper/'+directory+'counts.mtx.gz'} {directory}\n",
    "#    print(filename)\n",
    "#    print(directory)"
   ]
  },
  {
   "cell_type": "code",
   "execution_count": 49,
   "metadata": {},
   "outputs": [
    {
     "name": "stdout",
     "output_type": "stream",
     "text": [
      "GasperiniShendure2019_highMOI_qc.h5\n",
      "1.375312639400363\n",
      "GasperiniShendure2019_lowMOI_qc.h5\n",
      "1.1704791374504566\n",
      "GasperiniShendure2019_atscale_qc.h5\n",
      "5.696730896830559\n",
      "TianKampmann2021_CRISPRi1_qc.h5\n",
      "0.27218893356621265\n",
      "TianKampmann2021_CRISPRi4_qc.h5\n",
      "0.29750340059399605\n",
      "TianKampmann2021_CRISPRi3_qc.h5\n",
      "0.23738515190780163\n",
      "TianKampmann2021_CRISPRi2_qc.h5\n",
      "0.27679960802197456\n",
      "TianKampmann2021_CRISPRa1_qc.h5\n",
      "0.2928194282576442\n",
      "TianKampmann2021_CRISPRa2_qc.h5\n",
      "0.26540362648665905\n",
      "all_expts_combined_qc.h5\n",
      "5.340465493500233\n",
      "NormanWeissman2019_raw_qc.h5\n",
      "2.74808413349092\n",
      "NormanWeissman2019_filtered_qc.h5\n",
      "2.712737698107958\n",
      "PapalexiSatija2021_eccite_arrayed_protein_qc.h5\n",
      "0.0011401474475860596\n",
      "PapalexiSatija2021_eccite_arrayed_RNA_qc.h5\n",
      "0.17370563372969627\n",
      "PapalexiSatija2021_eccite_protein_qc.h5\n",
      "0.002593059092760086\n",
      "PapalexiSatija2021_eccite_RNA_qc.h5\n",
      "0.5222308021038771\n",
      "TianKampmann2019_day7neuron1_qc.h5\n",
      "0.4456041231751442\n",
      "TianKampmann2019_day7neuron2_qc.h5\n",
      "0.4140484854578972\n",
      "TianKampmann2019_iPSC1_qc.h5\n",
      "0.5748418867588043\n",
      "TianKampmann2019_iPSC2_qc.h5\n",
      "0.55550117790699\n",
      "FrangiehIzar2021_protein_qc.h5\n",
      "0.056884015910327435\n",
      "FrangiehIzar2021_RNA_qc.h5\n",
      "5.5535677475854754\n"
     ]
    }
   ],
   "source": [
    "for h5file in h5files:\n",
    "    print(h5file.split(\"/\")[-1])\n",
    "    print(os.path.getsize(h5file)/1024/1024/1024)"
   ]
  }
 ],
 "metadata": {
  "kernelspec": {
   "display_name": "Python 3",
   "language": "python",
   "name": "python3"
  },
  "language_info": {
   "codemirror_mode": {
    "name": "ipython",
    "version": 3
   },
   "file_extension": ".py",
   "mimetype": "text/x-python",
   "name": "python",
   "nbconvert_exporter": "python",
   "pygments_lexer": "ipython3",
   "version": "3.6.0"
  }
 },
 "nbformat": 4,
 "nbformat_minor": 2
}
