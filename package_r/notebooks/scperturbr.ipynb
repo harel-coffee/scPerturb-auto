{
 "cells": [
  {
   "cell_type": "code",
   "execution_count": 1,
   "metadata": {
    "vscode": {
     "languageId": "r"
    }
   },
   "outputs": [
    {
     "name": "stderr",
     "output_type": "stream",
     "text": [
      "Attaching SeuratObject\n",
      "\n",
      "\n",
      "Attache Paket: ‘dplyr’\n",
      "\n",
      "\n",
      "Die folgenden Objekte sind maskiert von ‘package:stats’:\n",
      "\n",
      "    filter, lag\n",
      "\n",
      "\n",
      "Die folgenden Objekte sind maskiert von ‘package:base’:\n",
      "\n",
      "    intersect, setdiff, setequal, union\n",
      "\n",
      "\n"
     ]
    }
   ],
   "source": [
    "library(Seurat)\n",
    "library(dplyr)\n",
    "library(rdist)\n"
   ]
  },
  {
   "cell_type": "markdown",
   "metadata": {},
   "source": [
    "# Generate test data"
   ]
  },
  {
   "cell_type": "code",
   "execution_count": 2,
   "metadata": {
    "vscode": {
     "languageId": "r"
    }
   },
   "outputs": [
    {
     "name": "stderr",
     "output_type": "stream",
     "text": [
      "Registered S3 method overwritten by 'zellkonverter':\n",
      "  method                from      \n",
      "  py_to_r.numpy.ndarray reticulate\n",
      "\n"
     ]
    },
    {
     "data": {
      "text/plain": [
       "An object of class Seurat \n",
       "25904 features across 39194 samples within 1 assay \n",
       "Active assay: originalexp (25904 features, 0 variable features)"
      ]
     },
     "metadata": {},
     "output_type": "display_data"
    }
   ],
   "source": [
    "# !wget https://zenodo.org/record/7041849/files/DatlingerBock2021.h5ad\n",
    "sce_object <- zellkonverter::readH5AD('/Users/stefanpeidli/work/projects/scPerturb/package/notebooks/DatlingerBock2021.h5ad', X_name='counts')\n",
    "seurat_object <- as.Seurat(sce_object, counts = 'counts', data = 'counts')\n",
    "seurat_object"
   ]
  },
  {
   "cell_type": "code",
   "execution_count": 3,
   "metadata": {
    "vscode": {
     "languageId": "r"
    }
   },
   "outputs": [
    {
     "name": "stderr",
     "output_type": "stream",
     "text": [
      "Centering and scaling data matrix\n",
      "\n"
     ]
    }
   ],
   "source": [
    "# # basic qc and pp\n",
    "# sc.pp.filter_cells(adata, min_counts=1000)\n",
    "# sc.pp.filter_genes(adata, min_cells=50)\n",
    "# sc.pp.normalize_per_cell(adata)\n",
    "# sc.pp.log1p(adata)\n",
    "X = Seurat::GetAssayData(object = seurat_object, slot = \"counts\")\n",
    "seurat_object[['ncounts']] <- Matrix::colSums(x = X)\n",
    "seurat_object <- seurat_object[, seurat_object[['ncounts']]>1000]\n",
    "seurat_object <- NormalizeData(seurat_object, normalization.method = \"LogNormalize\", scale.factor = 10000)\n",
    "ncells <- Matrix::rowSums(x = X>0)\n",
    "seurat_object <- seurat_object[ncells>50,]\n",
    "\n",
    "# # high class imbalance\n",
    "# adata = equal_subsampling(adata, 'perturbation', N_min=50)\n",
    "# sc.pp.filter_genes(adata, min_cells=3)  # sanity cleaning\n",
    "sdf <- seurat_object[[]] %>% as.data.frame()\n",
    "sdf['barcode'] <- rownames(sdf)\n",
    "sdf <- sdf %>% group_by(perturbation) %>% slice_sample(n=200)\n",
    "seurat_object <- seurat_object[,colnames(seurat_object) %in% sdf$barcode]\n",
    "X = Seurat::GetAssayData(object = seurat_object, slot = \"counts\")\n",
    "ncells <- Matrix::rowSums(x = X>0)\n",
    "seurat_object <- seurat_object[ncells>3,]\n",
    "\n",
    "# # select HVGs\n",
    "# n_var_max = 2000  # max total features to select\n",
    "# sc.pp.highly_variable_genes(adata, n_top_genes=n_var_max, subset=False, flavor='seurat_v3', layer='counts')\n",
    "seurat_object <- FindVariableFeatures(seurat_object, selection.method = \"vst\", nfeatures = 2000)\n",
    "\n",
    "# sc.pp.pca(adata, use_highly_variable=True)\n",
    "seurat_object <- ScaleData(seurat_object, features = rownames(seurat_object))\n",
    "seurat_object <- RunPCA(seurat_object, features = VariableFeatures(object = seurat_object), verbose = FALSE)"
   ]
  },
  {
   "cell_type": "code",
   "execution_count": 4,
   "metadata": {
    "vscode": {
     "languageId": "r"
    }
   },
   "outputs": [],
   "source": [
    "# Subset to HVGs to save space\n",
    "seurat_object <- seurat_object[VariableFeatures(object = seurat_object),]"
   ]
  },
  {
   "cell_type": "code",
   "execution_count": 7,
   "metadata": {
    "vscode": {
     "languageId": "r"
    }
   },
   "outputs": [
    {
     "name": "stdout",
     "output_type": "stream",
     "text": [
      "[1] \"Writing...\"\n"
     ]
    },
    {
     "data": {
      "text/plain": [
       "NULL"
      ]
     },
     "metadata": {},
     "output_type": "display_data"
    }
   ],
   "source": [
    "# Save to data folder\n",
    "path <- '../data/'\n",
    "\n",
    "pca <- Embeddings(seurat_object, reduction = \"pca\")\n",
    "metadata <- seurat_object[[]]\n",
    "\n",
    "# GEX\n",
    "library(Matrix)\n",
    "mat = GetAssayData(object = seurat_object, slot = \"counts\")\n",
    "\n",
    "print('Writing...')\n",
    "writeMM(mat, paste0(path, 'matrix.mtx'))  # then gzip it\n",
    "write.csv(rownames(seurat_object), paste0(path, 'genes.csv'))\n",
    "write.csv(colnames(seurat_object), paste0(path, 'barcodes.csv'))\n",
    "write.csv(pca, paste0(path, \"/seurat_pca.csv\"))\n",
    "write.csv(metadata, paste0(path, \"/seurat_metadata.csv\"))\n",
    "\n"
   ]
  },
  {
   "cell_type": "code",
   "execution_count": 40,
   "metadata": {
    "vscode": {
     "languageId": "r"
    }
   },
   "outputs": [],
   "source": [
    "# read back in\n",
    "expression_matrix <- Seurat::ReadMtx(\n",
    "  paste0(path, 'matrix.mtx'),\n",
    "  paste0(path, 'barcodes.csv'),\n",
    "  paste0(path, 'genes.csv'),\n",
    "  cell.column = 1,\n",
    "  feature.column = 2,\n",
    "  cell.sep = \",\",\n",
    "  feature.sep = \",\",\n",
    "  skip.cell = 1,\n",
    "  skip.feature = 1,\n",
    ")\n",
    "\n",
    "latent <- read.csv(paste0(path, \"/seurat_pca.csv\"), row.names = 1)\n",
    "metadata <- read.csv(paste0(path, \"/seurat_metadata.csv\"), row.names = 1)\n",
    "colnames(expression_matrix) <- rownames(metadata)\n",
    "seurat_object_reloaded <- CreateSeuratObject(counts = expression_matrix, meta.data = metadata)\n",
    "seurat_object_reloaded[[\"pca\"]] <- CreateDimReducObject(embeddings = as.matrix(latent), key = \"pca_\", assay = DefaultAssay(seurat_object_reloaded))\n"
   ]
  },
  {
   "attachments": {},
   "cell_type": "markdown",
   "metadata": {},
   "source": [
    "# E-test"
   ]
  },
  {
   "cell_type": "code",
   "execution_count": 133,
   "metadata": {
    "vscode": {
     "languageId": "r"
    }
   },
   "outputs": [],
   "source": [
    "#install.packages('energy')\n",
    "#install.packages('Seurat')\n",
    "\n",
    "#' Performs E-testing on a Seurat object\n",
    "#'\n",
    "#' Computes E-test statistics for each group in a Seurat object, using the E-distance in space given by reduction to the group defined by control.\n",
    "#' @param seurat_object An object of class Seurat.\n",
    "#' @param groupy An object of class character. Points to the column in the Seurat object's meta data that contains the group labels.\n",
    "#' @param control An object of class character. The group that is used as the control.\n",
    "#' @param reduction An object of class character. The reduction / embedding in seurat_object that is used to compute the E-distance in.\n",
    "#' @return Returns an object of class data.frame. For each group contains the E-test p-value and the E-distance to control group.\n",
    "#' @examples\n",
    "#' # Add some code illustrating how to use the function\n",
    "etest <- function(seurat_object, groupby = 'perturbation', control = 'control', reduction = 'pca', verbose = TRUE, permutations = 1000) {\n",
    "    if (class(seurat_object)!='Seurat'){stop(\"The first argument must be a Seurat object.\")}\n",
    "    if (!(reduction %in% names(seurat_object@reductions))){\n",
    "        if (reduction == 'pca') {\n",
    "            if (verbose) {print('No PCA found in the Seurat object. Computing PCA now.')}\n",
    "            seurat_object <- Seurat::RunPCA(seurat_object, features = VariableFeatures(object = seurat_object), verbose = FALSE)\n",
    "        } else { stop(\"The specified reduction was not found in the Seurat object.\")}\n",
    "    }\n",
    "    labels <- seurat_object[[]][[groupby]]\n",
    "    groups <- unique(labels)\n",
    "    if (!(control %in% groups)){stop(\"The specified control group was not found in the groupby column in the seurat_object metadata.\")}\n",
    "    emb <- Seurat::Embeddings(seurat_object, reduction = reduction)\n",
    "\n",
    "    df <- data.frame(row.names = groups, pval = rep(NA, length(groups)))\n",
    "    if (verbose) {print('Computing E-test statistics for each group.')}\n",
    "    for (group in groups) {\n",
    "        x <- as.matrix(emb)[labels==control,]\n",
    "        y <- as.matrix(emb)[labels==group,]\n",
    "        X <- rbind(x, y)\n",
    "        d <- stats::dist(X)\n",
    "        res <- energy::eqdist.etest(d, sizes=c(nrow(x), nrow(y)), distance=TRUE, R = permutations)\n",
    "        df[group, 'pval'] <- res$'p.value'\n",
    "        df[group, 'edist'] <- res$statistic\n",
    "    }\n",
    "    return(df)\n",
    "}"
   ]
  },
  {
   "cell_type": "code",
   "execution_count": 134,
   "metadata": {
    "vscode": {
     "languageId": "r"
    }
   },
   "outputs": [
    {
     "name": "stdout",
     "output_type": "stream",
     "text": [
      "[1] \"Computing E-test statistics for each group.\"\n"
     ]
    }
   ],
   "source": [
    "df <- etest(seurat_object = seurat_object, groupby = 'perturbation', control = 'control', reduction = 'pca')"
   ]
  },
  {
   "cell_type": "code",
   "execution_count": 135,
   "metadata": {
    "vscode": {
     "languageId": "r"
    }
   },
   "outputs": [
    {
     "data": {
      "text/html": [
       "<table class=\"dataframe\">\n",
       "<caption>A data.frame: 6 × 2</caption>\n",
       "<thead>\n",
       "\t<tr><th></th><th scope=col>pval</th><th scope=col>edist</th></tr>\n",
       "\t<tr><th></th><th scope=col>&lt;dbl&gt;</th><th scope=col>&lt;dbl&gt;</th></tr>\n",
       "</thead>\n",
       "<tbody>\n",
       "\t<tr><th scope=row>ZAP70_1</th><td>0.108891109</td><td>22.68171</td></tr>\n",
       "\t<tr><th scope=row>ZAP70_2</th><td>0.009990010</td><td>24.83029</td></tr>\n",
       "\t<tr><th scope=row>LCK_1</th><td>0.006993007</td><td>31.65210</td></tr>\n",
       "\t<tr><th scope=row>LCK_2</th><td>0.192807193</td><td>21.11392</td></tr>\n",
       "\t<tr><th scope=row>LAT_1</th><td>0.001998002</td><td>27.59802</td></tr>\n",
       "\t<tr><th scope=row>LAT_2</th><td>0.108891109</td><td>21.84110</td></tr>\n",
       "</tbody>\n",
       "</table>\n"
      ],
      "text/latex": [
       "A data.frame: 6 × 2\n",
       "\\begin{tabular}{r|ll}\n",
       "  & pval & edist\\\\\n",
       "  & <dbl> & <dbl>\\\\\n",
       "\\hline\n",
       "\tZAP70\\_1 & 0.108891109 & 22.68171\\\\\n",
       "\tZAP70\\_2 & 0.009990010 & 24.83029\\\\\n",
       "\tLCK\\_1 & 0.006993007 & 31.65210\\\\\n",
       "\tLCK\\_2 & 0.192807193 & 21.11392\\\\\n",
       "\tLAT\\_1 & 0.001998002 & 27.59802\\\\\n",
       "\tLAT\\_2 & 0.108891109 & 21.84110\\\\\n",
       "\\end{tabular}\n"
      ],
      "text/markdown": [
       "\n",
       "A data.frame: 6 × 2\n",
       "\n",
       "| <!--/--> | pval &lt;dbl&gt; | edist &lt;dbl&gt; |\n",
       "|---|---|---|\n",
       "| ZAP70_1 | 0.108891109 | 22.68171 |\n",
       "| ZAP70_2 | 0.009990010 | 24.83029 |\n",
       "| LCK_1 | 0.006993007 | 31.65210 |\n",
       "| LCK_2 | 0.192807193 | 21.11392 |\n",
       "| LAT_1 | 0.001998002 | 27.59802 |\n",
       "| LAT_2 | 0.108891109 | 21.84110 |\n",
       "\n"
      ],
      "text/plain": [
       "        pval        edist   \n",
       "ZAP70_1 0.108891109 22.68171\n",
       "ZAP70_2 0.009990010 24.83029\n",
       "LCK_1   0.006993007 31.65210\n",
       "LCK_2   0.192807193 21.11392\n",
       "LAT_1   0.001998002 27.59802\n",
       "LAT_2   0.108891109 21.84110"
      ]
     },
     "metadata": {},
     "output_type": "display_data"
    }
   ],
   "source": [
    "head(df)"
   ]
  },
  {
   "attachments": {},
   "cell_type": "markdown",
   "metadata": {},
   "source": [
    "# E-distance"
   ]
  },
  {
   "cell_type": "code",
   "execution_count": 160,
   "metadata": {
    "vscode": {
     "languageId": "r"
    }
   },
   "outputs": [],
   "source": [
    "#' Computes pairwise E-distances on a Seurat object\n",
    "#'\n",
    "#' Computes E-distance between all groups in a Seurat object in space given by reduction.\n",
    "#' @param seurat_object An object of class Seurat.\n",
    "#' @param groupy An object of class character. Points to the column in the Seurat object's meta data that contains the group labels.\n",
    "#' @param reduction An object of class character. The reduction / embedding in seurat_object that is used to compute the E-distance in.\n",
    "#' @param sample_correction An object of class logical. If TRUE, the E-distances are corrected for sample size. Will make it not a proper distance, leads to negative values.\n",
    "#' @return Returns an object of class data.frame. For each group contains the E-test p-value and the E-distance to control group.\n",
    "#' @examples\n",
    "#' # Add some code illustrating how to use the function\n",
    "edist <- function(seurat_object, groupby = 'perturbation', reduction = 'pca', sample_correction = FALSE, verbose = TRUE) {\n",
    "    if (class(seurat_object)!='Seurat'){stop(\"The first argument must be a Seurat object.\")}\n",
    "    if (!(reduction %in% names(seurat_object@reductions))){\n",
    "        if (reduction == 'pca') {\n",
    "            if (verbose) {print('No PCA found in the Seurat object. Computing PCA now.')}\n",
    "            seurat_object <- Seurat::RunPCA(seurat_object, features = VariableFeatures(object = seurat_object), verbose = FALSE)\n",
    "        } else { stop(\"The specified reduction was not found in the Seurat object.\")}\n",
    "    }\n",
    "    labels <- seurat_object[[]][[groupby]]\n",
    "    groups <- unique(labels)\n",
    "    emb <- Seurat::Embeddings(seurat_object, reduction = reduction)\n",
    "\n",
    "    df <- setNames(data.frame(matrix(ncol = length(groups), nrow = length(groups)), row.names=groups), groups)\n",
    "    if (verbose) {print('Computing E-test statistics for each group.')}\n",
    "    completed_groups <- c()\n",
    "    for (groupx in groups) {\n",
    "        for (groupy in groups){\n",
    "            if (groupy %in% completed_groups) {next}  # skip if already computed\n",
    "            x <- as.matrix(emb)[labels==groupx,]\n",
    "            y <- as.matrix(emb)[labels==groupy,]\n",
    "            #res <- energy::edist(c(x,y), s=c(50,50), distance = FALSE)  # this is the original edist function by Rizzo\n",
    "\n",
    "            N <- nrow(x)\n",
    "            M <- nrow(y)\n",
    "\n",
    "            dist_xy <- rdist::cdist(x,y)\n",
    "            dist_x <- rdist::pdist(x)\n",
    "            dist_y <- rdist::pdist(y)\n",
    "\n",
    "            if (sample_correction) {\n",
    "                ed <- 2 * (sum(dist_xy) / (N * M)) - (sum(dist_x) / (N * (N - 1))) - (sum(dist_y) / (M * (M - 1)))\n",
    "            } else {\n",
    "                ed <- 2 * (sum(dist_xy) / (N * M)) - (sum(dist_x) / (N * N)) - (sum(dist_y) / (M * M))\n",
    "            }\n",
    "\n",
    "            df[groupx, groupy] <- df[groupy, groupx] <- ed  # distance matrix is symmetric\n",
    "        }\n",
    "        completed_groups <- c(completed_groups, groupx)\n",
    "    }\n",
    "    return(df)\n",
    "}"
   ]
  },
  {
   "cell_type": "code",
   "execution_count": 161,
   "metadata": {
    "vscode": {
     "languageId": "r"
    }
   },
   "outputs": [
    {
     "name": "stdout",
     "output_type": "stream",
     "text": [
      "[1] \"Computing E-test statistics for each group.\"\n"
     ]
    }
   ],
   "source": [
    "df <- edist(seurat_object, groupby = 'perturbation', reduction = 'pca', sample_correction = FALSE, verbose = TRUE)"
   ]
  },
  {
   "cell_type": "code",
   "execution_count": null,
   "metadata": {
    "vscode": {
     "languageId": "r"
    }
   },
   "outputs": [],
   "source": []
  }
 ],
 "metadata": {
  "kernelspec": {
   "display_name": "R",
   "language": "R",
   "name": "ir"
  },
  "language_info": {
   "codemirror_mode": "r",
   "file_extension": ".r",
   "mimetype": "text/x-r-source",
   "name": "R",
   "pygments_lexer": "r",
   "version": "4.2.2"
  },
  "orig_nbformat": 4,
  "vscode": {
   "interpreter": {
    "hash": "b286f6d81d26b8c5e9b75f0b330b147d4e82d310a48f1d10d555cf8099dd470e"
   }
  }
 },
 "nbformat": 4,
 "nbformat_minor": 2
}
